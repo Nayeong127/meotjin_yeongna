{
  "nbformat": 4,
  "nbformat_minor": 0,
  "metadata": {
    "colab": {
      "name": "220411_딥러닝실습_imdb성능93.ipynb",
      "provenance": [],
      "collapsed_sections": [
        "QmQr-hvlWDkL",
        "kM9_gpy1Z5wf",
        "Qpt6KsHWgAC1",
        "wCG3aIjDg2hC"
      ],
      "authorship_tag": "ABX9TyNQDBcSeA+N/z9VByEKr+sQ",
      "include_colab_link": true
    },
    "kernelspec": {
      "name": "python3",
      "display_name": "Python 3"
    },
    "language_info": {
      "name": "python"
    },
    "accelerator": "GPU"
  },
  "cells": [
    {
      "cell_type": "markdown",
      "metadata": {
        "id": "view-in-github",
        "colab_type": "text"
      },
      "source": [
        "<a href=\"https://colab.research.google.com/github/Nayeong127/meotjin_yeongna/blob/main/220411_%EB%94%A5%EB%9F%AC%EB%8B%9D%EC%8B%A4%EC%8A%B5_imdb%EC%84%B1%EB%8A%A590.ipynb\" target=\"_parent\"><img src=\"https://colab.research.google.com/assets/colab-badge.svg\" alt=\"Open In Colab\"/></a>"
      ]
    },
    {
      "cell_type": "markdown",
      "source": [
        "# **1st try**"
      ],
      "metadata": {
        "id": "XeWlhpsJi3AY"
      }
    },
    {
      "cell_type": "code",
      "execution_count": null,
      "metadata": {
        "id": "ugz2a0XesGuz"
      },
      "outputs": [],
      "source": [
        "import numpy as np\n",
        "import matplotlib.pyplot as plt\n",
        "from tensorflow.keras.datasets import imdb"
      ]
    },
    {
      "cell_type": "code",
      "source": [
        "(X_train, y_train), (X_test, y_test) = imdb.load_data() #영화 리뷰 데이터를 로드.  #여기서 num_words를 사용하면 등장 빈도 순위로 몇 등까지의 단어를 사용할 것인지\n",
        "\n",
        "print('훈련용 리뷰 개수 : {}'.format(len(X_train)))\n",
        "print('테스트용 리뷰 개수 : {}'.format(len(X_test)))\n",
        "num_classes = len(set(y_train))\n",
        "print('카테고리 : {}'.format(num_classes))"
      ],
      "metadata": {
        "colab": {
          "base_uri": "https://localhost:8080/"
        },
        "id": "s2pPoUvrsHN0",
        "outputId": "58508ec1-844d-447f-bcac-6dd4f4e8bfcf"
      },
      "execution_count": null,
      "outputs": [
        {
          "output_type": "stream",
          "name": "stdout",
          "text": [
            "Downloading data from https://storage.googleapis.com/tensorflow/tf-keras-datasets/imdb.npz\n",
            "17465344/17464789 [==============================] - 0s 0us/step\n",
            "17473536/17464789 [==============================] - 0s 0us/step\n",
            "훈련용 리뷰 개수 : 25000\n",
            "테스트용 리뷰 개수 : 25000\n",
            "카테고리 : 2\n"
          ]
        }
      ]
    },
    {
      "cell_type": "code",
      "source": [
        "#X_train에 들어있는 숫자들이 각각 어떤 단어들을 나타내고 있는지 확인\n",
        "\n",
        "word_to_index = imdb.get_word_index() #imdb.get_word_index()에 각 단어와 맵핑되는 정수가 저장! 근데 +3을 해야 실제 맵핑되는 정수\n",
        "index_to_word = {}\n",
        "for key, value in word_to_index.items():\n",
        "    index_to_word[value+3] = key"
      ],
      "metadata": {
        "colab": {
          "base_uri": "https://localhost:8080/"
        },
        "id": "NmHBGGsafD1Q",
        "outputId": "d59c2142-768c-4ec2-d216-bf454ca4f602"
      },
      "execution_count": null,
      "outputs": [
        {
          "output_type": "stream",
          "name": "stdout",
          "text": [
            "Downloading data from https://storage.googleapis.com/tensorflow/tf-keras-datasets/imdb_word_index.json\n",
            "1646592/1641221 [==============================] - 0s 0us/step\n",
            "1654784/1641221 [==============================] - 0s 0us/step\n"
          ]
        }
      ]
    },
    {
      "cell_type": "code",
      "source": [
        "#첫번째 훈련용 리뷰의 X_train[0]의 각 단어가 정수로 바뀌기 전에 어떤 단어들이었는지 확인\n",
        "for index, token in enumerate((\"<pad>\", \"<sos>\", \"<unk>\")):\n",
        "  index_to_word[index] = token\n",
        "\n",
        "print(' '.join([index_to_word[index] for index in X_train[0]]))"
      ],
      "metadata": {
        "colab": {
          "base_uri": "https://localhost:8080/"
        },
        "id": "LqC1s5P3NVb3",
        "outputId": "bb6408a7-9ac1-4827-9093-f388955fc11c"
      },
      "execution_count": null,
      "outputs": [
        {
          "output_type": "stream",
          "name": "stdout",
          "text": [
            "<sos> this film was just brilliant casting location scenery story direction everyone's really suited the part they played and you could just imagine being there robert redford's is an amazing actor and now the same being director norman's father came from the same scottish island as myself so i loved the fact there was a real connection with this film the witty remarks throughout the film were great it was just brilliant so much that i bought the film as soon as it was released for retail and would recommend it to everyone to watch and the fly fishing was amazing really cried at the end it was so sad and you know what they say if you cry at a film it must have been good and this definitely was also congratulations to the two little boy's that played the part's of norman and paul they were just brilliant children are often left out of the praising list i think because the stars that play them all grown up are such a big profile for the whole film but these children are amazing and should be praised for what they have done don't you think the whole story was so lovely because it was true and was someone's life after all that was shared with us all\n"
          ]
        }
      ]
    },
    {
      "cell_type": "code",
      "source": [
        "import re\n",
        "from tensorflow.keras.datasets import imdb\n",
        "from tensorflow.keras.preprocessing.sequence import pad_sequences\n",
        "from tensorflow.keras.models import Sequential\n",
        "from tensorflow.keras.layers import Dense, GRU, Embedding\n",
        "from tensorflow.keras.callbacks import EarlyStopping, ModelCheckpoint\n",
        "from tensorflow.keras.models import load_model\n",
        "\n",
        "vocab_size = 10000\n",
        "max_len = 500\n",
        "\n",
        "(X_train, y_train), (X_test, y_test) = imdb.load_data(num_words=vocab_size)\n",
        "\n",
        "X_train = pad_sequences(X_train, maxlen=max_len)\n",
        "X_test = pad_sequences(X_test, maxlen=max_len)"
      ],
      "metadata": {
        "id": "SBnNkRIDNa8d"
      },
      "execution_count": null,
      "outputs": []
    },
    {
      "cell_type": "code",
      "source": [
        "embedding_dim = 60 #이거 줄이고\n",
        "hidden_units = 60 #이거 줄이고\n",
        "\n",
        "\n",
        "#드롭아웃 0.2 하고\n",
        "from keras.layers import Dropout\n",
        "model = Sequential()\n",
        "model.add(Embedding(vocab_size, embedding_dim))\n",
        "model.add(Dropout(0.2)) \n",
        "model.add(GRU(hidden_units)) \n",
        "model.add(Dropout(0.2)) \n",
        "model.add(Dense(1, activation='sigmoid', kernel_regularizer='l2')) #엘투규제하고\n",
        "model.add(Dropout(0.2)) \n",
        "\n",
        "\n",
        "es = EarlyStopping(monitor='val_loss', mode='min', verbose=1, patience=4) #얼스\n",
        "mc = ModelCheckpoint('GRU_model.h5', monitor='val_acc', mode='max', verbose=1, save_best_only=True) \n",
        "\n",
        "model.compile(optimizer='rmsprop', loss='binary_crossentropy', metrics=['acc'])\n",
        "history = model.fit(X_train, y_train, epochs=15, callbacks=[es, mc], batch_size=32, validation_split=0.2) "
      ],
      "metadata": {
        "colab": {
          "base_uri": "https://localhost:8080/"
        },
        "id": "gSUqh5BRNf_c",
        "outputId": "6fc7a94b-d149-4cfe-ca0c-1ee7f792fb28"
      },
      "execution_count": null,
      "outputs": [
        {
          "output_type": "stream",
          "name": "stdout",
          "text": [
            "Epoch 1/15\n",
            "625/625 [==============================] - ETA: 0s - loss: 1.9138 - acc: 0.7051\n",
            "Epoch 1: val_acc improved from -inf to 0.85700, saving model to GRU_model.h5\n",
            "625/625 [==============================] - 151s 239ms/step - loss: 1.9138 - acc: 0.7051 - val_loss: 0.3692 - val_acc: 0.8570\n",
            "Epoch 2/15\n",
            "625/625 [==============================] - ETA: 0s - loss: 1.8264 - acc: 0.7918\n",
            "Epoch 2: val_acc improved from 0.85700 to 0.87780, saving model to GRU_model.h5\n",
            "625/625 [==============================] - 148s 237ms/step - loss: 1.8264 - acc: 0.7918 - val_loss: 0.3451 - val_acc: 0.8778\n",
            "Epoch 3/15\n",
            "625/625 [==============================] - ETA: 0s - loss: 1.8359 - acc: 0.8129\n",
            "Epoch 3: val_acc did not improve from 0.87780\n",
            "625/625 [==============================] - 152s 244ms/step - loss: 1.8359 - acc: 0.8129 - val_loss: 0.3709 - val_acc: 0.8694\n",
            "Epoch 4/15\n",
            "625/625 [==============================] - ETA: 0s - loss: 1.7565 - acc: 0.8287\n",
            "Epoch 4: val_acc did not improve from 0.87780\n",
            "625/625 [==============================] - 153s 245ms/step - loss: 1.7565 - acc: 0.8287 - val_loss: 0.3445 - val_acc: 0.8608\n",
            "Epoch 5/15\n",
            "625/625 [==============================] - ETA: 0s - loss: 1.7706 - acc: 0.8349\n",
            "Epoch 5: val_acc improved from 0.87780 to 0.88380, saving model to GRU_model.h5\n",
            "625/625 [==============================] - 154s 246ms/step - loss: 1.7706 - acc: 0.8349 - val_loss: 0.3033 - val_acc: 0.8838\n",
            "Epoch 6/15\n",
            "625/625 [==============================] - ETA: 0s - loss: 1.7631 - acc: 0.8395\n",
            "Epoch 6: val_acc improved from 0.88380 to 0.89620, saving model to GRU_model.h5\n",
            "625/625 [==============================] - 150s 239ms/step - loss: 1.7631 - acc: 0.8395 - val_loss: 0.2979 - val_acc: 0.8962\n",
            "Epoch 7/15\n",
            "625/625 [==============================] - ETA: 0s - loss: 1.6900 - acc: 0.8479\n",
            "Epoch 7: val_acc improved from 0.89620 to 0.89700, saving model to GRU_model.h5\n",
            "625/625 [==============================] - 147s 235ms/step - loss: 1.6900 - acc: 0.8479 - val_loss: 0.3172 - val_acc: 0.8970\n",
            "Epoch 8/15\n",
            "625/625 [==============================] - ETA: 0s - loss: 1.7573 - acc: 0.8490\n",
            "Epoch 8: val_acc did not improve from 0.89700\n",
            "625/625 [==============================] - 146s 234ms/step - loss: 1.7573 - acc: 0.8490 - val_loss: 0.3012 - val_acc: 0.8948\n",
            "Epoch 9/15\n",
            "625/625 [==============================] - ETA: 0s - loss: 1.7152 - acc: 0.8540\n",
            "Epoch 9: val_acc improved from 0.89700 to 0.90040, saving model to GRU_model.h5\n",
            "625/625 [==============================] - 146s 233ms/step - loss: 1.7152 - acc: 0.8540 - val_loss: 0.2817 - val_acc: 0.9004\n",
            "Epoch 10/15\n",
            "625/625 [==============================] - ETA: 0s - loss: 1.7530 - acc: 0.8558\n",
            "Epoch 10: val_acc improved from 0.90040 to 0.90700, saving model to GRU_model.h5\n",
            "625/625 [==============================] - 147s 235ms/step - loss: 1.7530 - acc: 0.8558 - val_loss: 0.2824 - val_acc: 0.9070\n",
            "Epoch 11/15\n",
            "625/625 [==============================] - ETA: 0s - loss: 1.7113 - acc: 0.8599\n",
            "Epoch 11: val_acc did not improve from 0.90700\n",
            "625/625 [==============================] - 147s 235ms/step - loss: 1.7113 - acc: 0.8599 - val_loss: 0.2679 - val_acc: 0.9050\n",
            "Epoch 12/15\n",
            "625/625 [==============================] - ETA: 0s - loss: 1.7083 - acc: 0.8619\n",
            "Epoch 12: val_acc did not improve from 0.90700\n",
            "625/625 [==============================] - 146s 234ms/step - loss: 1.7083 - acc: 0.8619 - val_loss: 0.3026 - val_acc: 0.9006\n",
            "Epoch 13/15\n",
            "625/625 [==============================] - ETA: 0s - loss: 1.6442 - acc: 0.8694\n",
            "Epoch 13: val_acc did not improve from 0.90700\n",
            "625/625 [==============================] - 147s 236ms/step - loss: 1.6442 - acc: 0.8694 - val_loss: 0.2920 - val_acc: 0.9014\n",
            "Epoch 14/15\n",
            "625/625 [==============================] - ETA: 0s - loss: 1.7038 - acc: 0.8651\n",
            "Epoch 14: val_acc did not improve from 0.90700\n",
            "625/625 [==============================] - 147s 235ms/step - loss: 1.7038 - acc: 0.8651 - val_loss: 0.2954 - val_acc: 0.8892\n",
            "Epoch 15/15\n",
            "625/625 [==============================] - ETA: 0s - loss: 1.6671 - acc: 0.8705\n",
            "Epoch 15: val_acc did not improve from 0.90700\n",
            "625/625 [==============================] - 146s 233ms/step - loss: 1.6671 - acc: 0.8705 - val_loss: 0.3302 - val_acc: 0.8932\n",
            "Epoch 15: early stopping\n"
          ]
        }
      ]
    },
    {
      "cell_type": "code",
      "source": [
        "#  훈련 과정에서 검증 데이터의 정확도가 가장 높았을 때 저장된 모델인 'GRU_model.h5'를 로드\n",
        "\n",
        "loaded_model = load_model('GRU_model.h5')\n",
        "print(\"\\n 테스트 정확도: %.4f\" % (loaded_model.evaluate(X_test, y_test)[1]))"
      ],
      "metadata": {
        "colab": {
          "base_uri": "https://localhost:8080/"
        },
        "id": "TEhDphexPgnt",
        "outputId": "6d7c021a-cf32-45db-f8e8-23b495a8a833"
      },
      "execution_count": null,
      "outputs": [
        {
          "output_type": "stream",
          "name": "stdout",
          "text": [
            "782/782 [==============================] - 41s 53ms/step - loss: 0.3047 - acc: 0.8934\n",
            "\n",
            " 테스트 정확도: 0.8934\n"
          ]
        }
      ]
    },
    {
      "cell_type": "code",
      "source": [
        "# 임의의 문장에 대해서 리뷰의 긍,부정을 예측하고자\n",
        "# 모델에 넣기 전에 전처리를 해주어야!!\n",
        "\n",
        "def sentiment_predict(new_sentence):  # 입력된 문장에 대해서 기본적인 전처리와 정수 인코딩, 패딩을 한 후에 모델의 입력으로 사용하여 예측값을 리턴!\n",
        "  # 알파벳과 숫자를 제외하고 모두 제거 및 알파벳 소문자화\n",
        "  new_sentence = re.sub('[^0-9a-zA-Z ]', '', new_sentence).lower()\n",
        "  encoded = []\n",
        "\n",
        "  # 띄어쓰기 단위 토큰화 후 정수 인코딩\n",
        "  for word in new_sentence.split():\n",
        "    try :\n",
        "      # 단어 집합의 크기를 10,000으로 제한.\n",
        "      if word_to_index[word] <= 10000:\n",
        "        encoded.append(word_to_index[word]+3)\n",
        "      else:\n",
        "      # 10,000 이상의 숫자는 <unk> 토큰으로 변환.\n",
        "        encoded.append(2)\n",
        "    # 단어 집합에 없는 단어는 <unk> 토큰으로 변환.\n",
        "    except KeyError:\n",
        "      encoded.append(2)\n",
        "\n",
        "  pad_sequence = pad_sequences([encoded], maxlen=max_len)\n",
        "  score = float(loaded_model.predict(pad_sequence)) # 예측\n",
        "\n",
        "  if(score > 0.5):\n",
        "    print(\"{:.2f}% 확률로 긍정 리뷰입니다.\".format(score * 100))\n",
        "  else:\n",
        "    print(\"{:.2f}% 확률로 부정 리뷰입니다.\".format((1 - score) * 100))"
      ],
      "metadata": {
        "id": "h4qNk1xkPl1a"
      },
      "execution_count": null,
      "outputs": []
    },
    {
      "cell_type": "code",
      "source": [
        "# 블랙팬서의 1점 리뷰 부정으로 예측?\n",
        "\n",
        "neg1 = \"This movie was just way too overrated. The fighting was not professional and in slow motion. I was expecting more from a 200 million budget movie. The little sister of T.Challa was just trying too hard to be funny. The story was really dumb as well. Don't watch this movie if you are going because others say its great unless you are a Black Panther fan or Marvels fan.\"\n",
        "\n",
        "sentiment_predict(neg1)"
      ],
      "metadata": {
        "colab": {
          "base_uri": "https://localhost:8080/"
        },
        "id": "gWm4G8OJSHzP",
        "outputId": "11515b1e-4527-4162-eebd-8b7e1de6254a"
      },
      "execution_count": null,
      "outputs": [
        {
          "output_type": "stream",
          "name": "stdout",
          "text": [
            "97.17% 확률로 부정 리뷰입니다.\n"
          ]
        }
      ]
    },
    {
      "cell_type": "code",
      "source": [
        "#어벤져스의 10점 리뷰 긍정?\n",
        "\n",
        "pos1 = \" I was lucky enough to be included in the group to see the advanced screening in Melbourne on the 15th of April, 2012. And, firstly, I need to say a big thank-you to Disney and Marvel Studios. \\\n",
        "Now, the film... how can I even begin to explain how I feel about this film? It is, as the title of this review says a 'comic book triumph'. I went into the film with very, very high expectations and I was not disappointed. \\\n",
        "Seeing Joss Whedon's direction and envisioning of the film come to life on the big screen is perfect. The script is amazingly detailed and laced with sharp wit a humor. The special effects are literally mind-blowing and the action scenes are both hard-hitting and beautifully choreographed.\"\n",
        "\n",
        "sentiment_predict(pos1)"
      ],
      "metadata": {
        "colab": {
          "base_uri": "https://localhost:8080/"
        },
        "id": "aWL9-gHBS2Y8",
        "outputId": "62895d99-64ce-468d-a746-fc9812a41eab"
      },
      "execution_count": null,
      "outputs": [
        {
          "output_type": "stream",
          "name": "stdout",
          "text": [
            "90.41% 확률로 긍정 리뷰입니다.\n"
          ]
        }
      ]
    },
    {
      "cell_type": "markdown",
      "source": [
        "ㅠ"
      ],
      "metadata": {
        "id": "MxEbHs-eu0F3"
      }
    },
    {
      "cell_type": "markdown",
      "source": [
        "# **2nd try**"
      ],
      "metadata": {
        "id": "WtGs5oiWiwUu"
      }
    },
    {
      "cell_type": "code",
      "source": [
        "embedding_dim = 60 # 이거 줄인 거고\n",
        "hidden_units = 60#  줄인 거고\n",
        "\n",
        "import tensorflow as tf\n",
        "initializer = tf.keras.initializers.GlorotNormal()\n",
        "\n",
        "model = Sequential()\n",
        "model.add(Embedding(vocab_size, embedding_dim))\n",
        "model.add(GRU(hidden_units)) \n",
        "model.add(Dense(1, activation='sigmoid',kernel_initializer=initializer, kernel_regularizer='l2')) #가중치 초기화, 엘투규제\n",
        "\n",
        "es = EarlyStopping(monitor='val_loss', mode='min', verbose=1, patience=5) #이번엔 검증 데이터 손실이 5회 증가하면 학습을 조기 종료\n",
        "mc = ModelCheckpoint('GRU_model.h5', monitor='val_acc', mode='max', verbose=1, save_best_only=True) \n",
        "\n",
        "model.compile(optimizer='adam', loss='binary_crossentropy', metrics=['acc']) #아담\n",
        "history = model.fit(X_train, y_train, epochs=15, callbacks=[es, mc], batch_size=32, validation_split=0.15) #배치 사이즈 32"
      ],
      "metadata": {
        "colab": {
          "base_uri": "https://localhost:8080/"
        },
        "outputId": "1d78a350-0545-412f-845e-5019f27c9da4",
        "id": "WX-QnPMNi0ve"
      },
      "execution_count": null,
      "outputs": [
        {
          "output_type": "stream",
          "name": "stdout",
          "text": [
            "Epoch 1/15\n",
            "665/665 [==============================] - ETA: 0s - loss: 0.5414 - acc: 0.7490\n",
            "Epoch 1: val_acc improved from -inf to 0.76187, saving model to GRU_model.h5\n",
            "665/665 [==============================] - 193s 286ms/step - loss: 0.5414 - acc: 0.7490 - val_loss: 0.5317 - val_acc: 0.7619\n",
            "Epoch 2/15\n",
            "665/665 [==============================] - ETA: 0s - loss: 0.5212 - acc: 0.7526\n",
            "Epoch 2: val_acc did not improve from 0.76187\n",
            "665/665 [==============================] - 196s 295ms/step - loss: 0.5212 - acc: 0.7526 - val_loss: 0.5461 - val_acc: 0.7237\n",
            "Epoch 3/15\n",
            "665/665 [==============================] - ETA: 0s - loss: 0.3611 - acc: 0.8571\n",
            "Epoch 3: val_acc improved from 0.76187 to 0.87253, saving model to GRU_model.h5\n",
            "665/665 [==============================] - 192s 289ms/step - loss: 0.3611 - acc: 0.8571 - val_loss: 0.3223 - val_acc: 0.8725\n",
            "Epoch 4/15\n",
            "665/665 [==============================] - ETA: 0s - loss: 0.2235 - acc: 0.9201\n",
            "Epoch 4: val_acc improved from 0.87253 to 0.87360, saving model to GRU_model.h5\n",
            "665/665 [==============================] - 191s 287ms/step - loss: 0.2235 - acc: 0.9201 - val_loss: 0.3347 - val_acc: 0.8736\n",
            "Epoch 5/15\n",
            "665/665 [==============================] - ETA: 0s - loss: 0.1657 - acc: 0.9444\n",
            "Epoch 5: val_acc did not improve from 0.87360\n",
            "665/665 [==============================] - 190s 286ms/step - loss: 0.1657 - acc: 0.9444 - val_loss: 0.3551 - val_acc: 0.8715\n",
            "Epoch 6/15\n",
            "665/665 [==============================] - ETA: 0s - loss: 0.1382 - acc: 0.9555\n",
            "Epoch 6: val_acc improved from 0.87360 to 0.88107, saving model to GRU_model.h5\n",
            "665/665 [==============================] - 190s 286ms/step - loss: 0.1382 - acc: 0.9555 - val_loss: 0.3285 - val_acc: 0.8811\n",
            "Epoch 7/15\n",
            "665/665 [==============================] - ETA: 0s - loss: 0.1098 - acc: 0.9671\n",
            "Epoch 7: val_acc did not improve from 0.88107\n",
            "665/665 [==============================] - 190s 286ms/step - loss: 0.1098 - acc: 0.9671 - val_loss: 0.3856 - val_acc: 0.8765\n",
            "Epoch 8/15\n",
            "665/665 [==============================] - ETA: 0s - loss: 0.0852 - acc: 0.9770\n",
            "Epoch 8: val_acc did not improve from 0.88107\n",
            "665/665 [==============================] - 188s 282ms/step - loss: 0.0852 - acc: 0.9770 - val_loss: 0.4023 - val_acc: 0.8757\n",
            "Epoch 8: early stopping\n"
          ]
        }
      ]
    },
    {
      "cell_type": "code",
      "source": [
        "print(\"\\n 테스트 정확도: %.4f\" % (loaded_model.evaluate(X_test, y_test)[1]))"
      ],
      "metadata": {
        "colab": {
          "base_uri": "https://localhost:8080/"
        },
        "id": "CHoCSowoi0vf",
        "outputId": "a54c0ef9-fe82-44c8-8944-4bdb0ac65675"
      },
      "execution_count": null,
      "outputs": [
        {
          "output_type": "stream",
          "name": "stdout",
          "text": [
            "782/782 [==============================] - 42s 53ms/step - loss: 0.3047 - acc: 0.8934\n",
            "\n",
            " 테스트 정확도: 0.8934\n"
          ]
        }
      ]
    },
    {
      "cell_type": "code",
      "source": [
        "neg1 = \"This movie was just way too overrated. The fighting was not professional and in slow motion. I was expecting more from a 200 million budget movie. The little sister of T.Challa was just trying too hard to be funny. The story was really dumb as well. Don't watch this movie if you are going because others say its great unless you are a Black Panther fan or Marvels fan.\"\n",
        "\n",
        "pos1 = \" I was lucky enough to be included in the group to see the advanced screening in Melbourne on the 15th of April, 2012. And, firstly, I need to say a big thank-you to Disney and Marvel Studios. \\\n",
        "Now, the film... how can I even begin to explain how I feel about this film? It is, as the title of this review says a 'comic book triumph'. I went into the film with very, very high expectations and I was not disappointed. \\\n",
        "Seeing Joss Whedon's direction and envisioning of the film come to life on the big screen is perfect. The script is amazingly detailed and laced with sharp wit a humor. The special effects are literally mind-blowing and the action scenes are both hard-hitting and beautifully choreographed.\"\n"
      ],
      "metadata": {
        "id": "bgbmfbVcs9Jo"
      },
      "execution_count": null,
      "outputs": []
    },
    {
      "cell_type": "code",
      "source": [
        "sentiment_predict(neg1)"
      ],
      "metadata": {
        "colab": {
          "base_uri": "https://localhost:8080/"
        },
        "id": "kgL-yxPEi0vg",
        "outputId": "d38aee3c-3bb6-4b48-d0a7-f84ea545689b"
      },
      "execution_count": null,
      "outputs": [
        {
          "output_type": "stream",
          "name": "stdout",
          "text": [
            "97.17% 확률로 부정 리뷰입니다.\n"
          ]
        }
      ]
    },
    {
      "cell_type": "code",
      "source": [
        "sentiment_predict(pos1)"
      ],
      "metadata": {
        "colab": {
          "base_uri": "https://localhost:8080/"
        },
        "id": "VyNTDjofi0vg",
        "outputId": "1e39d080-8e21-42cc-a173-7820174dc814"
      },
      "execution_count": null,
      "outputs": [
        {
          "output_type": "stream",
          "name": "stdout",
          "text": [
            "90.41% 확률로 긍정 리뷰입니다.\n"
          ]
        }
      ]
    },
    {
      "cell_type": "markdown",
      "source": [
        "ㅠ"
      ],
      "metadata": {
        "id": "g9ooS7ufxYLE"
      }
    },
    {
      "cell_type": "markdown",
      "source": [
        "# **3.**"
      ],
      "metadata": {
        "id": "XyF--ZI-xjnl"
      }
    },
    {
      "cell_type": "code",
      "source": [
        "# 단어 집합의 크기를 8000으로 제한\n",
        "\n",
        "vocab_size = 80000\n",
        "max_len = 500\n",
        "\n",
        "(X_train, y_train), (X_test, y_test) = imdb.load_data(num_words=vocab_size)\n",
        "\n",
        "X_train = pad_sequences(X_train, maxlen=max_len)\n",
        "X_test = pad_sequences(X_test, maxlen=max_len)"
      ],
      "metadata": {
        "id": "e2nl0SGkxx4J"
      },
      "execution_count": null,
      "outputs": []
    },
    {
      "cell_type": "code",
      "source": [
        "embedding_dim = 60 # 이거 줄인 거고\n",
        "hidden_units = 60#  줄인 거고\n",
        "\n",
        "import tensorflow as tf\n",
        "initializer = tf.keras.initializers.GlorotNormal()\n",
        "\n",
        "model = Sequential()\n",
        "model.add(Embedding(vocab_size, embedding_dim))\n",
        "model.add(GRU(hidden_units)) \n",
        "model.add(Dense(1, activation='sigmoid',kernel_initializer=initializer, kernel_regularizer='l2')) #가중치 초기화, 엘투규제\n",
        "\n",
        "es = EarlyStopping(monitor='val_loss', mode='min', verbose=1, patience=4) \n",
        "mc = ModelCheckpoint('GRU_model.h5', monitor='val_acc', mode='max', verbose=1, save_best_only=True) \n",
        "\n",
        "model.compile(optimizer='adam', loss='binary_crossentropy', metrics=['acc']) #아담\n",
        "history = model.fit(X_train, y_train, epochs=15, callbacks=[es, mc], batch_size=32, validation_split=0.15) #배치 사이즈 32 밸리 줄임. "
      ],
      "metadata": {
        "colab": {
          "base_uri": "https://localhost:8080/"
        },
        "outputId": "a2a36474-dd6c-492e-a603-8deaee15e456",
        "id": "EXHc_yxoxo9r"
      },
      "execution_count": null,
      "outputs": [
        {
          "output_type": "stream",
          "name": "stdout",
          "text": [
            "Epoch 1/15\n",
            "665/665 [==============================] - ETA: 0s - loss: 0.4649 - acc: 0.7832\n",
            "Epoch 1: val_acc improved from -inf to 0.84400, saving model to GRU_model.h5\n",
            "665/665 [==============================] - 223s 332ms/step - loss: 0.4649 - acc: 0.7832 - val_loss: 0.3781 - val_acc: 0.8440\n",
            "Epoch 2/15\n",
            "665/665 [==============================] - ETA: 0s - loss: 0.2724 - acc: 0.9012\n",
            "Epoch 2: val_acc improved from 0.84400 to 0.86427, saving model to GRU_model.h5\n",
            "665/665 [==============================] - 219s 329ms/step - loss: 0.2724 - acc: 0.9012 - val_loss: 0.3482 - val_acc: 0.8643\n",
            "Epoch 3/15\n",
            "665/665 [==============================] - ETA: 0s - loss: 0.1580 - acc: 0.9512\n",
            "Epoch 3: val_acc improved from 0.86427 to 0.87467, saving model to GRU_model.h5\n",
            "665/665 [==============================] - 222s 334ms/step - loss: 0.1580 - acc: 0.9512 - val_loss: 0.3638 - val_acc: 0.8747\n",
            "Epoch 4/15\n",
            "665/665 [==============================] - ETA: 0s - loss: 0.1059 - acc: 0.9715\n",
            "Epoch 4: val_acc improved from 0.87467 to 0.87760, saving model to GRU_model.h5\n",
            "665/665 [==============================] - 221s 333ms/step - loss: 0.1059 - acc: 0.9715 - val_loss: 0.3984 - val_acc: 0.8776\n",
            "Epoch 5/15\n",
            "665/665 [==============================] - ETA: 0s - loss: 0.0684 - acc: 0.9853\n",
            "Epoch 5: val_acc did not improve from 0.87760\n",
            "665/665 [==============================] - 220s 330ms/step - loss: 0.0684 - acc: 0.9853 - val_loss: 0.4107 - val_acc: 0.8536\n",
            "Epoch 6/15\n",
            "665/665 [==============================] - ETA: 0s - loss: 0.0515 - acc: 0.9900\n",
            "Epoch 6: val_acc did not improve from 0.87760\n",
            "665/665 [==============================] - 215s 323ms/step - loss: 0.0515 - acc: 0.9900 - val_loss: 0.4211 - val_acc: 0.8771\n",
            "Epoch 6: early stopping\n"
          ]
        }
      ]
    },
    {
      "cell_type": "markdown",
      "source": [
        "얼리스타핑 내가 끊어버려야 할 것 같은데 ㅋ"
      ],
      "metadata": {
        "id": "tzlnCVSg2WAi"
      }
    },
    {
      "cell_type": "code",
      "source": [
        "print(\"\\n 테스트 정확도: %.4f\" % (loaded_model.evaluate(X_test, y_test)[1]))\n",
        "#뭐여"
      ],
      "metadata": {
        "colab": {
          "base_uri": "https://localhost:8080/",
          "height": 1000
        },
        "outputId": "0558ab18-b788-48b5-ff1e-c3763c6a6fa1",
        "id": "Wbl_TZxDxo9t"
      },
      "execution_count": null,
      "outputs": [
        {
          "output_type": "error",
          "ename": "InvalidArgumentError",
          "evalue": "ignored",
          "traceback": [
            "\u001b[0;31m---------------------------------------------------------------------------\u001b[0m",
            "\u001b[0;31mInvalidArgumentError\u001b[0m                      Traceback (most recent call last)",
            "\u001b[0;32m<ipython-input-25-98c0f1977d57>\u001b[0m in \u001b[0;36m<module>\u001b[0;34m()\u001b[0m\n\u001b[0;32m----> 1\u001b[0;31m \u001b[0mprint\u001b[0m\u001b[0;34m(\u001b[0m\u001b[0;34m\"\\n 테스트 정확도: %.4f\"\u001b[0m \u001b[0;34m%\u001b[0m \u001b[0;34m(\u001b[0m\u001b[0mloaded_model\u001b[0m\u001b[0;34m.\u001b[0m\u001b[0mevaluate\u001b[0m\u001b[0;34m(\u001b[0m\u001b[0mX_test\u001b[0m\u001b[0;34m,\u001b[0m \u001b[0my_test\u001b[0m\u001b[0;34m)\u001b[0m\u001b[0;34m[\u001b[0m\u001b[0;36m1\u001b[0m\u001b[0;34m]\u001b[0m\u001b[0;34m)\u001b[0m\u001b[0;34m)\u001b[0m\u001b[0;34m\u001b[0m\u001b[0;34m\u001b[0m\u001b[0m\n\u001b[0m\u001b[1;32m      2\u001b[0m \u001b[0;31m#뭐여\u001b[0m\u001b[0;34m\u001b[0m\u001b[0;34m\u001b[0m\u001b[0;34m\u001b[0m\u001b[0m\n",
            "\u001b[0;32m/usr/local/lib/python3.7/dist-packages/keras/utils/traceback_utils.py\u001b[0m in \u001b[0;36merror_handler\u001b[0;34m(*args, **kwargs)\u001b[0m\n\u001b[1;32m     65\u001b[0m     \u001b[0;32mexcept\u001b[0m \u001b[0mException\u001b[0m \u001b[0;32mas\u001b[0m \u001b[0me\u001b[0m\u001b[0;34m:\u001b[0m  \u001b[0;31m# pylint: disable=broad-except\u001b[0m\u001b[0;34m\u001b[0m\u001b[0;34m\u001b[0m\u001b[0m\n\u001b[1;32m     66\u001b[0m       \u001b[0mfiltered_tb\u001b[0m \u001b[0;34m=\u001b[0m \u001b[0m_process_traceback_frames\u001b[0m\u001b[0;34m(\u001b[0m\u001b[0me\u001b[0m\u001b[0;34m.\u001b[0m\u001b[0m__traceback__\u001b[0m\u001b[0;34m)\u001b[0m\u001b[0;34m\u001b[0m\u001b[0;34m\u001b[0m\u001b[0m\n\u001b[0;32m---> 67\u001b[0;31m       \u001b[0;32mraise\u001b[0m \u001b[0me\u001b[0m\u001b[0;34m.\u001b[0m\u001b[0mwith_traceback\u001b[0m\u001b[0;34m(\u001b[0m\u001b[0mfiltered_tb\u001b[0m\u001b[0;34m)\u001b[0m \u001b[0;32mfrom\u001b[0m \u001b[0;32mNone\u001b[0m\u001b[0;34m\u001b[0m\u001b[0;34m\u001b[0m\u001b[0m\n\u001b[0m\u001b[1;32m     68\u001b[0m     \u001b[0;32mfinally\u001b[0m\u001b[0;34m:\u001b[0m\u001b[0;34m\u001b[0m\u001b[0;34m\u001b[0m\u001b[0m\n\u001b[1;32m     69\u001b[0m       \u001b[0;32mdel\u001b[0m \u001b[0mfiltered_tb\u001b[0m\u001b[0;34m\u001b[0m\u001b[0;34m\u001b[0m\u001b[0m\n",
            "\u001b[0;32m/usr/local/lib/python3.7/dist-packages/tensorflow/python/eager/execute.py\u001b[0m in \u001b[0;36mquick_execute\u001b[0;34m(op_name, num_outputs, inputs, attrs, ctx, name)\u001b[0m\n\u001b[1;32m     53\u001b[0m     \u001b[0mctx\u001b[0m\u001b[0;34m.\u001b[0m\u001b[0mensure_initialized\u001b[0m\u001b[0;34m(\u001b[0m\u001b[0;34m)\u001b[0m\u001b[0;34m\u001b[0m\u001b[0;34m\u001b[0m\u001b[0m\n\u001b[1;32m     54\u001b[0m     tensors = pywrap_tfe.TFE_Py_Execute(ctx._handle, device_name, op_name,\n\u001b[0;32m---> 55\u001b[0;31m                                         inputs, attrs, num_outputs)\n\u001b[0m\u001b[1;32m     56\u001b[0m   \u001b[0;32mexcept\u001b[0m \u001b[0mcore\u001b[0m\u001b[0;34m.\u001b[0m\u001b[0m_NotOkStatusException\u001b[0m \u001b[0;32mas\u001b[0m \u001b[0me\u001b[0m\u001b[0;34m:\u001b[0m\u001b[0;34m\u001b[0m\u001b[0;34m\u001b[0m\u001b[0m\n\u001b[1;32m     57\u001b[0m     \u001b[0;32mif\u001b[0m \u001b[0mname\u001b[0m \u001b[0;32mis\u001b[0m \u001b[0;32mnot\u001b[0m \u001b[0;32mNone\u001b[0m\u001b[0;34m:\u001b[0m\u001b[0;34m\u001b[0m\u001b[0;34m\u001b[0m\u001b[0m\n",
            "\u001b[0;31mInvalidArgumentError\u001b[0m: Graph execution error:\n\nDetected at node 'sequential_1/embedding_2/embedding_lookup' defined at (most recent call last):\n    File \"/usr/lib/python3.7/runpy.py\", line 193, in _run_module_as_main\n      \"__main__\", mod_spec)\n    File \"/usr/lib/python3.7/runpy.py\", line 85, in _run_code\n      exec(code, run_globals)\n    File \"/usr/local/lib/python3.7/dist-packages/ipykernel_launcher.py\", line 16, in <module>\n      app.launch_new_instance()\n    File \"/usr/local/lib/python3.7/dist-packages/traitlets/config/application.py\", line 846, in launch_instance\n      app.start()\n    File \"/usr/local/lib/python3.7/dist-packages/ipykernel/kernelapp.py\", line 499, in start\n      self.io_loop.start()\n    File \"/usr/local/lib/python3.7/dist-packages/tornado/platform/asyncio.py\", line 132, in start\n      self.asyncio_loop.run_forever()\n    File \"/usr/lib/python3.7/asyncio/base_events.py\", line 541, in run_forever\n      self._run_once()\n    File \"/usr/lib/python3.7/asyncio/base_events.py\", line 1786, in _run_once\n      handle._run()\n    File \"/usr/lib/python3.7/asyncio/events.py\", line 88, in _run\n      self._context.run(self._callback, *self._args)\n    File \"/usr/local/lib/python3.7/dist-packages/tornado/ioloop.py\", line 758, in _run_callback\n      ret = callback()\n    File \"/usr/local/lib/python3.7/dist-packages/tornado/stack_context.py\", line 300, in null_wrapper\n      return fn(*args, **kwargs)\n    File \"/usr/local/lib/python3.7/dist-packages/zmq/eventloop/zmqstream.py\", line 536, in <lambda>\n      self.io_loop.add_callback(lambda: self._handle_events(self.socket, 0))\n    File \"/usr/local/lib/python3.7/dist-packages/zmq/eventloop/zmqstream.py\", line 452, in _handle_events\n      self._handle_recv()\n    File \"/usr/local/lib/python3.7/dist-packages/zmq/eventloop/zmqstream.py\", line 481, in _handle_recv\n      self._run_callback(callback, msg)\n    File \"/usr/local/lib/python3.7/dist-packages/zmq/eventloop/zmqstream.py\", line 431, in _run_callback\n      callback(*args, **kwargs)\n    File \"/usr/local/lib/python3.7/dist-packages/tornado/stack_context.py\", line 300, in null_wrapper\n      return fn(*args, **kwargs)\n    File \"/usr/local/lib/python3.7/dist-packages/ipykernel/kernelbase.py\", line 283, in dispatcher\n      return self.dispatch_shell(stream, msg)\n    File \"/usr/local/lib/python3.7/dist-packages/ipykernel/kernelbase.py\", line 233, in dispatch_shell\n      handler(stream, idents, msg)\n    File \"/usr/local/lib/python3.7/dist-packages/ipykernel/kernelbase.py\", line 399, in execute_request\n      user_expressions, allow_stdin)\n    File \"/usr/local/lib/python3.7/dist-packages/ipykernel/ipkernel.py\", line 208, in do_execute\n      res = shell.run_cell(code, store_history=store_history, silent=silent)\n    File \"/usr/local/lib/python3.7/dist-packages/ipykernel/zmqshell.py\", line 537, in run_cell\n      return super(ZMQInteractiveShell, self).run_cell(*args, **kwargs)\n    File \"/usr/local/lib/python3.7/dist-packages/IPython/core/interactiveshell.py\", line 2718, in run_cell\n      interactivity=interactivity, compiler=compiler, result=result)\n    File \"/usr/local/lib/python3.7/dist-packages/IPython/core/interactiveshell.py\", line 2828, in run_ast_nodes\n      if self.run_code(code, result):\n    File \"/usr/local/lib/python3.7/dist-packages/IPython/core/interactiveshell.py\", line 2882, in run_code\n      exec(code_obj, self.user_global_ns, self.user_ns)\n    File \"<ipython-input-10-70ddaad7a557>\", line 4, in <module>\n      print(\"\\n 테스트 정확도: %.4f\" % (loaded_model.evaluate(X_test, y_test)[1]))\n    File \"/usr/local/lib/python3.7/dist-packages/keras/utils/traceback_utils.py\", line 64, in error_handler\n      return fn(*args, **kwargs)\n    File \"/usr/local/lib/python3.7/dist-packages/keras/engine/training.py\", line 1716, in evaluate\n      tmp_logs = self.test_function(iterator)\n    File \"/usr/local/lib/python3.7/dist-packages/keras/engine/training.py\", line 1525, in test_function\n      return step_function(self, iterator)\n    File \"/usr/local/lib/python3.7/dist-packages/keras/engine/training.py\", line 1514, in step_function\n      outputs = model.distribute_strategy.run(run_step, args=(data,))\n    File \"/usr/local/lib/python3.7/dist-packages/keras/engine/training.py\", line 1507, in run_step\n      outputs = model.test_step(data)\n    File \"/usr/local/lib/python3.7/dist-packages/keras/engine/training.py\", line 1471, in test_step\n      y_pred = self(x, training=False)\n    File \"/usr/local/lib/python3.7/dist-packages/keras/utils/traceback_utils.py\", line 64, in error_handler\n      return fn(*args, **kwargs)\n    File \"/usr/local/lib/python3.7/dist-packages/keras/engine/base_layer.py\", line 1096, in __call__\n      outputs = call_fn(inputs, *args, **kwargs)\n    File \"/usr/local/lib/python3.7/dist-packages/keras/utils/traceback_utils.py\", line 92, in error_handler\n      return fn(*args, **kwargs)\n    File \"/usr/local/lib/python3.7/dist-packages/keras/engine/sequential.py\", line 374, in call\n      return super(Sequential, self).call(inputs, training=training, mask=mask)\n    File \"/usr/local/lib/python3.7/dist-packages/keras/engine/functional.py\", line 452, in call\n      inputs, training=training, mask=mask)\n    File \"/usr/local/lib/python3.7/dist-packages/keras/engine/functional.py\", line 589, in _run_internal_graph\n      outputs = node.layer(*args, **kwargs)\n    File \"/usr/local/lib/python3.7/dist-packages/keras/utils/traceback_utils.py\", line 64, in error_handler\n      return fn(*args, **kwargs)\n    File \"/usr/local/lib/python3.7/dist-packages/keras/engine/base_layer.py\", line 1096, in __call__\n      outputs = call_fn(inputs, *args, **kwargs)\n    File \"/usr/local/lib/python3.7/dist-packages/keras/utils/traceback_utils.py\", line 92, in error_handler\n      return fn(*args, **kwargs)\n    File \"/usr/local/lib/python3.7/dist-packages/keras/layers/embeddings.py\", line 197, in call\n      out = tf.nn.embedding_lookup(self.embeddings, inputs)\nNode: 'sequential_1/embedding_2/embedding_lookup'\nindices[28,301] = 21062 is not in [0, 10000)\n\t [[{{node sequential_1/embedding_2/embedding_lookup}}]] [Op:__inference_test_function_54988]"
          ]
        }
      ]
    },
    {
      "cell_type": "code",
      "source": [
        "sentiment_predict(neg1)"
      ],
      "metadata": {
        "colab": {
          "base_uri": "https://localhost:8080/"
        },
        "outputId": "5dc9e9a5-a749-4e31-fbf4-d480b15e977f",
        "id": "lL8ULgupxo9u"
      },
      "execution_count": null,
      "outputs": [
        {
          "output_type": "stream",
          "name": "stdout",
          "text": [
            "97.17% 확률로 부정 리뷰입니다.\n"
          ]
        }
      ]
    },
    {
      "cell_type": "code",
      "source": [
        "sentiment_predict(pos1)"
      ],
      "metadata": {
        "colab": {
          "base_uri": "https://localhost:8080/"
        },
        "outputId": "680518d8-643d-49a5-895c-fccae87da254",
        "id": "s3ojABnLxo9u"
      },
      "execution_count": null,
      "outputs": [
        {
          "output_type": "stream",
          "name": "stdout",
          "text": [
            "90.41% 확률로 긍정 리뷰입니다.\n"
          ]
        }
      ]
    },
    {
      "cell_type": "markdown",
      "source": [
        "ㅠ"
      ],
      "metadata": {
        "id": "Cen7_bDkxo9v"
      }
    },
    {
      "cell_type": "markdown",
      "source": [
        "# **4.**"
      ],
      "metadata": {
        "id": "NjmqArh8HMFK"
      }
    },
    {
      "cell_type": "code",
      "source": [
        "# 단어 집합의 크기를 8000으로 제한\n",
        "embedding_dim = 80 # 이거 줄인 거고\n",
        "hidden_units = 80#  줄인 거고\n",
        "\n",
        "import tensorflow as tf\n",
        "initializer = tf.keras.initializers.GlorotNormal()\n",
        "\n",
        "model = Sequential()\n",
        "model.add(Embedding(vocab_size, embedding_dim))\n",
        "model.add(GRU(hidden_units)) \n",
        "model.add(Dense(1, activation='sigmoid',kernel_initializer=initializer, kernel_regularizer='l2')) #가중치 초기화, 엘투규제\n",
        "\n",
        "es = EarlyStopping(monitor='val_loss', mode='min', verbose=1, patience=4) \n",
        "mc = ModelCheckpoint('GRU_model.h5', monitor='val_acc', mode='max', verbose=1, save_best_only=True) \n",
        "\n",
        "model.compile(optimizer='adam', loss='binary_crossentropy', metrics=['acc']) #아담\n",
        "history = model.fit(X_train, y_train, epochs=15, callbacks=[es, mc], batch_size=32, validation_split=0.25) #배치 사이즈 32 #밸리 키움"
      ],
      "metadata": {
        "colab": {
          "base_uri": "https://localhost:8080/"
        },
        "outputId": "680c0fe9-abbe-4f02-a374-89aa518b7fba",
        "id": "qvXEGJovHMFW"
      },
      "execution_count": null,
      "outputs": [
        {
          "output_type": "stream",
          "name": "stdout",
          "text": [
            "Epoch 1/15\n",
            "586/586 [==============================] - ETA: 0s - loss: 0.5243 - acc: 0.7541\n",
            "Epoch 1: val_acc improved from -inf to 0.83856, saving model to GRU_model.h5\n",
            "586/586 [==============================] - 214s 362ms/step - loss: 0.5243 - acc: 0.7541 - val_loss: 0.3871 - val_acc: 0.8386\n",
            "Epoch 2/15\n",
            "586/586 [==============================] - ETA: 0s - loss: 0.2646 - acc: 0.9033\n",
            "Epoch 2: val_acc improved from 0.83856 to 0.87152, saving model to GRU_model.h5\n",
            "586/586 [==============================] - 210s 359ms/step - loss: 0.2646 - acc: 0.9033 - val_loss: 0.3288 - val_acc: 0.8715\n",
            "Epoch 3/15\n",
            "586/586 [==============================] - ETA: 0s - loss: 0.1419 - acc: 0.9569\n",
            "Epoch 3: val_acc improved from 0.87152 to 0.87600, saving model to GRU_model.h5\n",
            "586/586 [==============================] - 210s 359ms/step - loss: 0.1419 - acc: 0.9569 - val_loss: 0.3508 - val_acc: 0.8760\n",
            "Epoch 4/15\n",
            "586/586 [==============================] - ETA: 0s - loss: 0.0902 - acc: 0.9756\n",
            "Epoch 4: val_acc did not improve from 0.87600\n",
            "586/586 [==============================] - 209s 356ms/step - loss: 0.0902 - acc: 0.9756 - val_loss: 0.4979 - val_acc: 0.8485\n",
            "Epoch 5/15\n",
            "586/586 [==============================] - ETA: 0s - loss: 0.1015 - acc: 0.9670\n",
            "Epoch 5: val_acc did not improve from 0.87600\n",
            "586/586 [==============================] - 208s 355ms/step - loss: 0.1015 - acc: 0.9670 - val_loss: 0.4205 - val_acc: 0.8611\n",
            "Epoch 6/15\n",
            "586/586 [==============================] - ETA: 0s - loss: 0.0626 - acc: 0.9854\n",
            "Epoch 6: val_acc did not improve from 0.87600\n",
            "586/586 [==============================] - 209s 357ms/step - loss: 0.0626 - acc: 0.9854 - val_loss: 0.4273 - val_acc: 0.8661\n",
            "Epoch 6: early stopping\n"
          ]
        }
      ]
    },
    {
      "cell_type": "code",
      "source": [
        "loaded_model = load_model('GRU_model.h5')\n",
        "print(\"\\n 테스트 정확도: %.4f\" % (loaded_model.evaluate(X_test, y_test)[1]))\n",
        "#bad."
      ],
      "metadata": {
        "colab": {
          "base_uri": "https://localhost:8080/"
        },
        "outputId": "348da604-f7f2-4d7d-9bbf-9089465b35b2",
        "id": "cHouQ4naHMFY"
      },
      "execution_count": null,
      "outputs": [
        {
          "output_type": "stream",
          "name": "stdout",
          "text": [
            "782/782 [==============================] - 47s 60ms/step - loss: 0.3922 - acc: 0.8593\n",
            "\n",
            " 테스트 정확도: 0.8593\n"
          ]
        }
      ]
    },
    {
      "cell_type": "code",
      "source": [
        "sentiment_predict(neg1)"
      ],
      "metadata": {
        "colab": {
          "base_uri": "https://localhost:8080/"
        },
        "outputId": "7d26543e-4d0d-4416-e1ce-12a717067aa9",
        "id": "Cdc7GsKpHMFZ"
      },
      "execution_count": null,
      "outputs": [
        {
          "output_type": "stream",
          "name": "stdout",
          "text": [
            "97.37% 확률로 부정 리뷰입니다.\n"
          ]
        }
      ]
    },
    {
      "cell_type": "code",
      "source": [
        "sentiment_predict(pos1)"
      ],
      "metadata": {
        "colab": {
          "base_uri": "https://localhost:8080/"
        },
        "outputId": "88e3799d-4532-4966-dee8-092aef46acea",
        "id": "nVnGa5jTHMFZ"
      },
      "execution_count": null,
      "outputs": [
        {
          "output_type": "stream",
          "name": "stdout",
          "text": [
            "99.38% 확률로 긍정 리뷰입니다.\n"
          ]
        }
      ]
    },
    {
      "cell_type": "markdown",
      "source": [
        "ㅠ"
      ],
      "metadata": {
        "id": "msKxdXD4HMFa"
      }
    },
    {
      "cell_type": "markdown",
      "source": [
        "# **5.**"
      ],
      "metadata": {
        "id": "g3SYFv8gICVw"
      }
    },
    {
      "cell_type": "code",
      "source": [
        "# 단어 집합의 크기를 8000으로 제한\n",
        "embedding_dim = 90 # 이거 줄인 거고\n",
        "hidden_units = 90#  줄인 거고\n",
        "\n",
        "model = Sequential()\n",
        "model.add(Embedding(vocab_size, embedding_dim))\n",
        "model.add(GRU(hidden_units)) \n",
        "model.add(Dense(1, activation='sigmoid',kernel_initializer=initializer, kernel_regularizer='l2')) #가중치 초기화, 엘투규제\n",
        "\n",
        "es = EarlyStopping(monitor='val_loss', mode='min', verbose=1, patience=4) \n",
        "mc = ModelCheckpoint('GRU_model.h5', monitor='val_acc', mode='max', verbose=1, save_best_only=True) \n",
        "\n",
        "model.compile(optimizer='adam', loss='mse', metrics=['acc']) #아담 #mse\n",
        "history = model.fit(X_train, y_train, epochs=15, callbacks=[es, mc], batch_size=32, validation_split=0.25) #배치 사이즈 32 #밸리 키움"
      ],
      "metadata": {
        "colab": {
          "base_uri": "https://localhost:8080/"
        },
        "outputId": "53ec1fed-6691-479e-f8ac-cb50597ea7a5",
        "id": "fbCUae_eICVz"
      },
      "execution_count": null,
      "outputs": [
        {
          "output_type": "stream",
          "name": "stdout",
          "text": [
            "Epoch 1/15\n",
            "586/586 [==============================] - ETA: 0s - loss: 0.1631 - acc: 0.7692\n",
            "Epoch 1: val_acc improved from -inf to 0.85648, saving model to GRU_model.h5\n",
            "586/586 [==============================] - 242s 410ms/step - loss: 0.1631 - acc: 0.7692 - val_loss: 0.1127 - val_acc: 0.8565\n",
            "Epoch 2/15\n",
            "586/586 [==============================] - ETA: 0s - loss: 0.0790 - acc: 0.9048\n",
            "Epoch 2: val_acc improved from 0.85648 to 0.86368, saving model to GRU_model.h5\n",
            "586/586 [==============================] - 239s 409ms/step - loss: 0.0790 - acc: 0.9048 - val_loss: 0.1070 - val_acc: 0.8637\n",
            "Epoch 3/15\n",
            "586/586 [==============================] - ETA: 0s - loss: 0.0990 - acc: 0.8738\n",
            "Epoch 3: val_acc did not improve from 0.86368\n",
            "586/586 [==============================] - 238s 406ms/step - loss: 0.0990 - acc: 0.8738 - val_loss: 0.1099 - val_acc: 0.8608\n",
            "Epoch 4/15\n",
            "586/586 [==============================] - ETA: 0s - loss: 0.0407 - acc: 0.9581\n",
            "Epoch 4: val_acc did not improve from 0.86368\n",
            "586/586 [==============================] - 239s 407ms/step - loss: 0.0407 - acc: 0.9581 - val_loss: 0.1137 - val_acc: 0.8602\n",
            "Epoch 5/15\n",
            "586/586 [==============================] - ETA: 0s - loss: 0.0275 - acc: 0.9759\n",
            "Epoch 5: val_acc improved from 0.86368 to 0.87408, saving model to GRU_model.h5\n",
            "586/586 [==============================] - 239s 407ms/step - loss: 0.0275 - acc: 0.9759 - val_loss: 0.1058 - val_acc: 0.8741\n",
            "Epoch 6/15\n",
            "586/586 [==============================] - ETA: 0s - loss: 0.0212 - acc: 0.9819\n",
            "Epoch 6: val_acc did not improve from 0.87408\n",
            "586/586 [==============================] - 239s 409ms/step - loss: 0.0212 - acc: 0.9819 - val_loss: 0.1246 - val_acc: 0.8464\n",
            "Epoch 7/15\n",
            "586/586 [==============================] - ETA: 0s - loss: 0.0177 - acc: 0.9865\n",
            "Epoch 7: val_acc did not improve from 0.87408\n",
            "586/586 [==============================] - 239s 408ms/step - loss: 0.0177 - acc: 0.9865 - val_loss: 0.1128 - val_acc: 0.8600\n",
            "Epoch 8/15\n",
            "586/586 [==============================] - ETA: 0s - loss: 0.0122 - acc: 0.9925\n",
            "Epoch 8: val_acc did not improve from 0.87408\n",
            "586/586 [==============================] - 241s 411ms/step - loss: 0.0122 - acc: 0.9925 - val_loss: 0.1168 - val_acc: 0.8550\n",
            "Epoch 9/15\n",
            "586/586 [==============================] - ETA: 0s - loss: 0.0118 - acc: 0.9926\n",
            "Epoch 9: val_acc did not improve from 0.87408\n",
            "586/586 [==============================] - 238s 407ms/step - loss: 0.0118 - acc: 0.9926 - val_loss: 0.1352 - val_acc: 0.8366\n",
            "Epoch 9: early stopping\n"
          ]
        }
      ]
    },
    {
      "cell_type": "code",
      "source": [
        "loaded_model = load_model('GRU_model.h5')\n",
        "print(\"\\n 테스트 정확도: %.4f\" % (loaded_model.evaluate(X_test, y_test)[1]))\n",
        "#뭐여"
      ],
      "metadata": {
        "colab": {
          "base_uri": "https://localhost:8080/"
        },
        "id": "Mm5zD6nCJBVA",
        "outputId": "b0346bcd-7416-42d0-9a85-808595f1e85d"
      },
      "execution_count": null,
      "outputs": [
        {
          "output_type": "stream",
          "name": "stdout",
          "text": [
            "782/782 [==============================] - 54s 68ms/step - loss: 0.1186 - acc: 0.8537\n",
            "\n",
            " 테스트 정확도: 0.8537\n"
          ]
        }
      ]
    },
    {
      "cell_type": "code",
      "source": [
        "sentiment_predict(neg1)"
      ],
      "metadata": {
        "colab": {
          "base_uri": "https://localhost:8080/"
        },
        "id": "mL_jQR2UICV1",
        "outputId": "80791d37-2a88-4be8-ec43-49c3c7877186"
      },
      "execution_count": null,
      "outputs": [
        {
          "output_type": "stream",
          "name": "stdout",
          "text": [
            "74.63% 확률로 부정 리뷰입니다.\n"
          ]
        }
      ]
    },
    {
      "cell_type": "code",
      "source": [
        "sentiment_predict(pos1)"
      ],
      "metadata": {
        "colab": {
          "base_uri": "https://localhost:8080/"
        },
        "id": "fMYkzcGmICV1",
        "outputId": "df430d2b-9286-4dbe-e878-78450f8f8fbb"
      },
      "execution_count": null,
      "outputs": [
        {
          "output_type": "stream",
          "name": "stdout",
          "text": [
            "98.02% 확률로 긍정 리뷰입니다.\n"
          ]
        }
      ]
    },
    {
      "cell_type": "markdown",
      "source": [
        "ㅠ"
      ],
      "metadata": {
        "id": "9t6JVqT6ICV2"
      }
    },
    {
      "cell_type": "markdown",
      "source": [
        "# **6.**"
      ],
      "metadata": {
        "id": "mDX3i0o5IcqG"
      }
    },
    {
      "cell_type": "code",
      "source": [
        "# 단어 집합의 크기를 8000으로 제한\n",
        "embedding_dim = 100 \n",
        "hidden_units = 128\n",
        "\n",
        "\n",
        "import tensorflow as tf\n",
        "initializer = tf.keras.initializers.GlorotNormal()\n",
        "\n",
        "model = Sequential()\n",
        "model.add(Embedding(vocab_size, embedding_dim))\n",
        "model.add(GRU(hidden_units)) \n",
        "model.add(Dense(1, activation='sigmoid',kernel_initializer=initializer, kernel_regularizer='l2')) #가중치 초기화, 엘투규제\n",
        "\n",
        "es = EarlyStopping(monitor='val_loss', mode='min', verbose=1, patience=4) \n",
        "mc = ModelCheckpoint('GRU_model.h5', monitor='val_acc', mode='max', verbose=1, save_best_only=True) \n",
        "\n",
        "model.compile(optimizer='adam', loss='mse', metrics=['acc']) #아담 #mse\n",
        "history = model.fit(X_train, y_train, epochs=15, callbacks=[es, mc], batch_size=32, validation_split=0.25) #배치 사이즈 32 #밸리 키움"
      ],
      "metadata": {
        "colab": {
          "base_uri": "https://localhost:8080/"
        },
        "outputId": "0784b078-d916-4851-a689-81b7139f62ad",
        "id": "BxvzcqrIIcqH"
      },
      "execution_count": null,
      "outputs": [
        {
          "output_type": "stream",
          "name": "stdout",
          "text": [
            "Epoch 1/15\n",
            "586/586 [==============================] - ETA: 0s - loss: 0.1858 - acc: 0.7246\n",
            "Epoch 1: val_acc improved from -inf to 0.82656, saving model to GRU_model.h5\n",
            "586/586 [==============================] - 58s 88ms/step - loss: 0.1858 - acc: 0.7246 - val_loss: 0.1295 - val_acc: 0.8266\n",
            "Epoch 2/15\n",
            "586/586 [==============================] - ETA: 0s - loss: 0.1201 - acc: 0.8407\n",
            "Epoch 2: val_acc improved from 0.82656 to 0.83456, saving model to GRU_model.h5\n",
            "586/586 [==============================] - 50s 85ms/step - loss: 0.1201 - acc: 0.8407 - val_loss: 0.1258 - val_acc: 0.8346\n",
            "Epoch 3/15\n",
            "586/586 [==============================] - ETA: 0s - loss: 0.0925 - acc: 0.8839\n",
            "Epoch 3: val_acc improved from 0.83456 to 0.84272, saving model to GRU_model.h5\n",
            "586/586 [==============================] - 50s 86ms/step - loss: 0.0925 - acc: 0.8839 - val_loss: 0.1220 - val_acc: 0.8427\n",
            "Epoch 4/15\n",
            "586/586 [==============================] - ETA: 0s - loss: 0.0705 - acc: 0.9145\n",
            "Epoch 4: val_acc improved from 0.84272 to 0.85376, saving model to GRU_model.h5\n",
            "586/586 [==============================] - 50s 86ms/step - loss: 0.0705 - acc: 0.9145 - val_loss: 0.1121 - val_acc: 0.8538\n",
            "Epoch 5/15\n",
            "586/586 [==============================] - ETA: 0s - loss: 0.0591 - acc: 0.9331\n",
            "Epoch 5: val_acc improved from 0.85376 to 0.87104, saving model to GRU_model.h5\n",
            "586/586 [==============================] - 50s 85ms/step - loss: 0.0591 - acc: 0.9331 - val_loss: 0.1029 - val_acc: 0.8710\n",
            "Epoch 6/15\n",
            "586/586 [==============================] - ETA: 0s - loss: 0.0482 - acc: 0.9470\n",
            "Epoch 6: val_acc improved from 0.87104 to 0.87648, saving model to GRU_model.h5\n",
            "586/586 [==============================] - 55s 94ms/step - loss: 0.0482 - acc: 0.9470 - val_loss: 0.1017 - val_acc: 0.8765\n",
            "Epoch 7/15\n",
            "586/586 [==============================] - ETA: 0s - loss: 0.0448 - acc: 0.9521\n",
            "Epoch 7: val_acc did not improve from 0.87648\n",
            "586/586 [==============================] - 58s 100ms/step - loss: 0.0448 - acc: 0.9521 - val_loss: 0.1067 - val_acc: 0.8661\n",
            "Epoch 8/15\n",
            "586/586 [==============================] - ETA: 0s - loss: 0.0353 - acc: 0.9633\n",
            "Epoch 8: val_acc did not improve from 0.87648\n",
            "586/586 [==============================] - 52s 88ms/step - loss: 0.0353 - acc: 0.9633 - val_loss: 0.1050 - val_acc: 0.8707\n",
            "Epoch 9/15\n",
            "586/586 [==============================] - ETA: 0s - loss: 0.0280 - acc: 0.9726\n",
            "Epoch 9: val_acc did not improve from 0.87648\n",
            "586/586 [==============================] - 55s 94ms/step - loss: 0.0280 - acc: 0.9726 - val_loss: 0.1052 - val_acc: 0.8675\n",
            "Epoch 10/15\n",
            "586/586 [==============================] - ETA: 0s - loss: 0.0250 - acc: 0.9773\n",
            "Epoch 10: val_acc improved from 0.87648 to 0.88032, saving model to GRU_model.h5\n",
            "586/586 [==============================] - 55s 94ms/step - loss: 0.0250 - acc: 0.9773 - val_loss: 0.1013 - val_acc: 0.8803\n",
            "Epoch 11/15\n",
            "586/586 [==============================] - ETA: 0s - loss: 0.0225 - acc: 0.9795\n",
            "Epoch 11: val_acc did not improve from 0.88032\n",
            "586/586 [==============================] - 50s 86ms/step - loss: 0.0225 - acc: 0.9795 - val_loss: 0.1082 - val_acc: 0.8666\n",
            "Epoch 12/15\n",
            "586/586 [==============================] - ETA: 0s - loss: 0.0207 - acc: 0.9819\n",
            "Epoch 12: val_acc did not improve from 0.88032\n",
            "586/586 [==============================] - 50s 85ms/step - loss: 0.0207 - acc: 0.9819 - val_loss: 0.1037 - val_acc: 0.8787\n",
            "Epoch 13/15\n",
            "586/586 [==============================] - ETA: 0s - loss: 0.0175 - acc: 0.9859\n",
            "Epoch 13: val_acc did not improve from 0.88032\n",
            "586/586 [==============================] - 50s 86ms/step - loss: 0.0175 - acc: 0.9859 - val_loss: 0.1097 - val_acc: 0.8670\n",
            "Epoch 14/15\n",
            "586/586 [==============================] - ETA: 0s - loss: 0.0208 - acc: 0.9818\n",
            "Epoch 14: val_acc did not improve from 0.88032\n",
            "586/586 [==============================] - 50s 85ms/step - loss: 0.0208 - acc: 0.9818 - val_loss: 0.1089 - val_acc: 0.8690\n",
            "Epoch 14: early stopping\n"
          ]
        }
      ]
    },
    {
      "cell_type": "code",
      "source": [
        "loaded_model = load_model('GRU_model.h5')\n",
        "print(\"\\n 테스트 정확도: %.4f\" % (loaded_model.evaluate(X_test, y_test)[1]))\n",
        "#뭐여"
      ],
      "metadata": {
        "colab": {
          "base_uri": "https://localhost:8080/"
        },
        "id": "HhvSaz6FJDhg",
        "outputId": "8136ce76-4cea-4d24-ceab-d81d0da11900"
      },
      "execution_count": null,
      "outputs": [
        {
          "output_type": "stream",
          "name": "stdout",
          "text": [
            "782/782 [==============================] - 30s 38ms/step - loss: 0.1086 - acc: 0.8687\n",
            "\n",
            " 테스트 정확도: 0.8687\n"
          ]
        }
      ]
    },
    {
      "cell_type": "code",
      "source": [
        "sentiment_predict(neg1)"
      ],
      "metadata": {
        "colab": {
          "base_uri": "https://localhost:8080/"
        },
        "id": "bscLMCYrIcqK",
        "outputId": "1bc34bfe-f086-495f-8db4-061a6670e017"
      },
      "execution_count": null,
      "outputs": [
        {
          "output_type": "stream",
          "name": "stdout",
          "text": [
            "97.33% 확률로 부정 리뷰입니다.\n"
          ]
        }
      ]
    },
    {
      "cell_type": "code",
      "source": [
        "sentiment_predict(pos1)"
      ],
      "metadata": {
        "colab": {
          "base_uri": "https://localhost:8080/"
        },
        "id": "WoZoHTe6IcqK",
        "outputId": "c06cd889-c1e8-4858-e2a5-c3e6e4f756d7"
      },
      "execution_count": null,
      "outputs": [
        {
          "output_type": "stream",
          "name": "stdout",
          "text": [
            "99.00% 확률로 긍정 리뷰입니다.\n"
          ]
        }
      ]
    },
    {
      "cell_type": "markdown",
      "source": [
        "ㅡㅡ"
      ],
      "metadata": {
        "id": "guaiiiWFIcqK"
      }
    },
    {
      "cell_type": "markdown",
      "source": [
        "# **7.**"
      ],
      "metadata": {
        "id": "5boOaN1RX_NG"
      }
    },
    {
      "cell_type": "code",
      "source": [
        "# 단어 집합의 크기를 8000으로 제한\n",
        "embedding_dim = 60 #\n",
        "hidden_units = 60#\n",
        "\n",
        "\n",
        "import tensorflow as tf\n",
        "initializer = tf.keras.initializers.GlorotNormal()\n",
        "\n",
        "model = Sequential()\n",
        "model.add(Embedding(vocab_size, embedding_dim))\n",
        "model.add(GRU(hidden_units)) \n",
        "model.add(Dense(1, activation='sigmoid',kernel_initializer=initializer, kernel_regularizer='l2')) #가중치 초기화, 엘투규제\n",
        "\n",
        "es = EarlyStopping(monitor='val_loss', mode='min', verbose=1, patience=4) \n",
        "mc = ModelCheckpoint('GRU_model.h5', monitor='val_acc', mode='max', verbose=1, save_best_only=True) \n",
        "\n",
        "model.compile(optimizer='adam', loss=tf.keras.losses.BinaryCrossentropy(label_smoothing=0.5,name='binary_crossentropy'), metrics=['acc']) #아담 #binary_crossentropy with label smoothing\n",
        "history = model.fit(X_train, y_train, epochs=15, callbacks=[es, mc], batch_size=32, validation_split=0.25) #배치 사이즈 32 #밸리 키움"
      ],
      "metadata": {
        "colab": {
          "base_uri": "https://localhost:8080/"
        },
        "outputId": "0e1260b9-0557-4b82-da8b-6692055f9504",
        "id": "m9NZRy47X_NH"
      },
      "execution_count": null,
      "outputs": [
        {
          "output_type": "stream",
          "name": "stdout",
          "text": [
            "Epoch 1/15\n",
            "586/586 [==============================] - ETA: 0s - loss: 0.6588 - acc: 0.7348\n",
            "Epoch 1: val_acc improved from -inf to 0.82560, saving model to GRU_model.h5\n",
            "586/586 [==============================] - 65s 106ms/step - loss: 0.6588 - acc: 0.7348 - val_loss: 0.6293 - val_acc: 0.8256\n",
            "Epoch 2/15\n",
            "586/586 [==============================] - ETA: 0s - loss: 0.6112 - acc: 0.8819\n",
            "Epoch 2: val_acc improved from 0.82560 to 0.86304, saving model to GRU_model.h5\n",
            "586/586 [==============================] - 65s 111ms/step - loss: 0.6112 - acc: 0.8819 - val_loss: 0.6164 - val_acc: 0.8630\n",
            "Epoch 3/15\n",
            "586/586 [==============================] - ETA: 0s - loss: 0.6020 - acc: 0.9073\n",
            "Epoch 3: val_acc did not improve from 0.86304\n",
            "586/586 [==============================] - 61s 104ms/step - loss: 0.6020 - acc: 0.9073 - val_loss: 0.6170 - val_acc: 0.8626\n",
            "Epoch 4/15\n",
            "586/586 [==============================] - ETA: 0s - loss: 0.5953 - acc: 0.9266\n",
            "Epoch 4: val_acc improved from 0.86304 to 0.86864, saving model to GRU_model.h5\n",
            "586/586 [==============================] - 65s 111ms/step - loss: 0.5953 - acc: 0.9266 - val_loss: 0.6154 - val_acc: 0.8686\n",
            "Epoch 5/15\n",
            "586/586 [==============================] - ETA: 0s - loss: 0.5907 - acc: 0.9379\n",
            "Epoch 5: val_acc improved from 0.86864 to 0.87872, saving model to GRU_model.h5\n",
            "586/586 [==============================] - 61s 104ms/step - loss: 0.5907 - acc: 0.9379 - val_loss: 0.6133 - val_acc: 0.8787\n",
            "Epoch 6/15\n",
            "586/586 [==============================] - ETA: 0s - loss: 0.5867 - acc: 0.9481\n",
            "Epoch 6: val_acc did not improve from 0.87872\n",
            "586/586 [==============================] - 65s 110ms/step - loss: 0.5867 - acc: 0.9481 - val_loss: 0.6142 - val_acc: 0.8725\n",
            "Epoch 7/15\n",
            "586/586 [==============================] - ETA: 0s - loss: 0.5877 - acc: 0.9438\n",
            "Epoch 7: val_acc improved from 0.87872 to 0.87936, saving model to GRU_model.h5\n",
            "586/586 [==============================] - 61s 104ms/step - loss: 0.5877 - acc: 0.9438 - val_loss: 0.6160 - val_acc: 0.8794\n",
            "Epoch 8/15\n",
            "586/586 [==============================] - ETA: 0s - loss: 0.5936 - acc: 0.9281\n",
            "Epoch 8: val_acc did not improve from 0.87936\n",
            "586/586 [==============================] - 61s 104ms/step - loss: 0.5936 - acc: 0.9281 - val_loss: 0.6256 - val_acc: 0.8509\n",
            "Epoch 9/15\n",
            "586/586 [==============================] - ETA: 0s - loss: 0.5897 - acc: 0.9383\n",
            "Epoch 9: val_acc did not improve from 0.87936\n",
            "586/586 [==============================] - 65s 111ms/step - loss: 0.5897 - acc: 0.9383 - val_loss: 0.6207 - val_acc: 0.8638\n",
            "Epoch 9: early stopping\n"
          ]
        }
      ]
    },
    {
      "cell_type": "code",
      "source": [
        "loaded_model = load_model('GRU_model.h5')\n",
        "print(\"\\n 테스트 정확도: %.4f\" % (loaded_model.evaluate(X_test, y_test)[1]))\n",
        "#뭐여"
      ],
      "metadata": {
        "colab": {
          "base_uri": "https://localhost:8080/"
        },
        "id": "pVCiwwP0X_NJ",
        "outputId": "6d213fe3-7b98-42b2-fc28-a46394917175"
      },
      "execution_count": null,
      "outputs": [
        {
          "output_type": "stream",
          "name": "stdout",
          "text": [
            "782/782 [==============================] - 28s 35ms/step - loss: 0.6222 - acc: 0.8627\n",
            "\n",
            " 테스트 정확도: 0.8627\n"
          ]
        }
      ]
    },
    {
      "cell_type": "code",
      "source": [
        "sentiment_predict(neg1)"
      ],
      "metadata": {
        "colab": {
          "base_uri": "https://localhost:8080/"
        },
        "id": "20bnCyD5X_NJ",
        "outputId": "3c7cac5b-1836-414d-dbfa-1a0f0cf02be3"
      },
      "execution_count": null,
      "outputs": [
        {
          "output_type": "stream",
          "name": "stdout",
          "text": [
            "78.48% 확률로 부정 리뷰입니다.\n"
          ]
        }
      ]
    },
    {
      "cell_type": "code",
      "source": [
        "sentiment_predict(pos1)"
      ],
      "metadata": {
        "colab": {
          "base_uri": "https://localhost:8080/"
        },
        "id": "EXev-gEJX_NK",
        "outputId": "38a457d7-fd57-4487-d311-9cb052956a73"
      },
      "execution_count": null,
      "outputs": [
        {
          "output_type": "stream",
          "name": "stdout",
          "text": [
            "77.90% 확률로 긍정 리뷰입니다.\n"
          ]
        }
      ]
    },
    {
      "cell_type": "markdown",
      "source": [
        "# **8.**"
      ],
      "metadata": {
        "id": "gtcUVrM4ZE29"
      }
    },
    {
      "cell_type": "code",
      "source": [
        "# 단어 집합의 크기를 8000으로 제한\n",
        "embedding_dim = 60 \n",
        "hidden_units = 60\n",
        "\n",
        "#dropout!!!\n",
        "from keras.layers import Dropout\n",
        "model = Sequential()\n",
        "model.add(Embedding(vocab_size, embedding_dim))\n",
        "model.add(Dropout(0.2)) \n",
        "model.add(GRU(hidden_units)) \n",
        "model.add(Dropout(0.2)) \n",
        "model.add(Dense(1, activation='sigmoid', kernel_initializer=initializer,kernel_regularizer='l2')) ##가중치 초기화, 엘투규제\n",
        "model.add(Dropout(0.2)) \n",
        "\n",
        "es = EarlyStopping(monitor='val_loss', mode='min', verbose=1, patience=4) \n",
        "mc = ModelCheckpoint('GRU_model.h5', monitor='val_acc', mode='max', verbose=1, save_best_only=True) \n",
        "\n",
        "model.compile(optimizer='adam', loss=tf.keras.losses.BinaryCrossentropy(label_smoothing=0.5,name='binary_crossentropy'), metrics=['acc']) #아담 #binary_crossentropy with label smoothing\n",
        "history = model.fit(X_train, y_train, epochs=15, callbacks=[es, mc], batch_size=32, validation_split=0.25) #배치 사이즈 32 #밸리 키움"
      ],
      "metadata": {
        "colab": {
          "base_uri": "https://localhost:8080/"
        },
        "outputId": "411bcf5a-ae1f-40c3-c9e7-e5737a3021d9",
        "id": "7nxiQWDjZE2_"
      },
      "execution_count": null,
      "outputs": [
        {
          "output_type": "stream",
          "name": "stdout",
          "text": [
            "Epoch 1/15\n",
            "586/586 [==============================] - ETA: 0s - loss: 2.0637 - acc: 0.6781\n",
            "Epoch 1: val_acc improved from -inf to 0.79920, saving model to GRU_model.h5\n",
            "586/586 [==============================] - 64s 106ms/step - loss: 2.0637 - acc: 0.6781 - val_loss: 0.6599 - val_acc: 0.7992\n",
            "Epoch 2/15\n",
            "586/586 [==============================] - ETA: 0s - loss: 2.0508 - acc: 0.7881\n",
            "Epoch 2: val_acc did not improve from 0.79920\n",
            "586/586 [==============================] - 61s 104ms/step - loss: 2.0508 - acc: 0.7881 - val_loss: 0.6747 - val_acc: 0.7750\n",
            "Epoch 3/15\n",
            "586/586 [==============================] - ETA: 0s - loss: 2.0054 - acc: 0.8291\n",
            "Epoch 3: val_acc improved from 0.79920 to 0.82032, saving model to GRU_model.h5\n",
            "586/586 [==============================] - 61s 104ms/step - loss: 2.0054 - acc: 0.8291 - val_loss: 0.6425 - val_acc: 0.8203\n",
            "Epoch 4/15\n",
            "586/586 [==============================] - ETA: 0s - loss: 2.0336 - acc: 0.8416\n",
            "Epoch 4: val_acc improved from 0.82032 to 0.86624, saving model to GRU_model.h5\n",
            "586/586 [==============================] - 61s 104ms/step - loss: 2.0336 - acc: 0.8416 - val_loss: 0.6345 - val_acc: 0.8662\n",
            "Epoch 5/15\n",
            "586/586 [==============================] - ETA: 0s - loss: 2.0285 - acc: 0.8514\n",
            "Epoch 5: val_acc improved from 0.86624 to 0.87200, saving model to GRU_model.h5\n",
            "586/586 [==============================] - 61s 104ms/step - loss: 2.0285 - acc: 0.8514 - val_loss: 0.6376 - val_acc: 0.8720\n",
            "Epoch 6/15\n",
            "586/586 [==============================] - ETA: 0s - loss: 1.9794 - acc: 0.8612\n",
            "Epoch 6: val_acc did not improve from 0.87200\n",
            "586/586 [==============================] - 61s 104ms/step - loss: 1.9794 - acc: 0.8612 - val_loss: 0.6311 - val_acc: 0.8578\n",
            "Epoch 7/15\n",
            "586/586 [==============================] - ETA: 0s - loss: 2.0264 - acc: 0.8630\n",
            "Epoch 7: val_acc did not improve from 0.87200\n",
            "586/586 [==============================] - 61s 104ms/step - loss: 2.0264 - acc: 0.8630 - val_loss: 0.6361 - val_acc: 0.8718\n",
            "Epoch 8/15\n",
            "586/586 [==============================] - ETA: 0s - loss: 2.0060 - acc: 0.8671\n",
            "Epoch 8: val_acc improved from 0.87200 to 0.88208, saving model to GRU_model.h5\n",
            "586/586 [==============================] - 61s 104ms/step - loss: 2.0060 - acc: 0.8671 - val_loss: 0.6265 - val_acc: 0.8821\n",
            "Epoch 9/15\n",
            "586/586 [==============================] - ETA: 0s - loss: 1.9889 - acc: 0.8764\n",
            "Epoch 9: val_acc did not improve from 0.88208\n",
            "586/586 [==============================] - 61s 104ms/step - loss: 1.9889 - acc: 0.8764 - val_loss: 0.6421 - val_acc: 0.8610\n",
            "Epoch 10/15\n",
            "586/586 [==============================] - ETA: 0s - loss: 2.0162 - acc: 0.8779\n",
            "Epoch 10: val_acc did not improve from 0.88208\n",
            "586/586 [==============================] - 61s 104ms/step - loss: 2.0162 - acc: 0.8779 - val_loss: 0.6348 - val_acc: 0.8742\n",
            "Epoch 11/15\n",
            "586/586 [==============================] - ETA: 0s - loss: 1.9907 - acc: 0.8823\n",
            "Epoch 11: val_acc did not improve from 0.88208\n",
            "586/586 [==============================] - 61s 104ms/step - loss: 1.9907 - acc: 0.8823 - val_loss: 0.6295 - val_acc: 0.8755\n",
            "Epoch 12/15\n",
            "586/586 [==============================] - ETA: 0s - loss: 1.9990 - acc: 0.8838\n",
            "Epoch 12: val_acc did not improve from 0.88208\n",
            "586/586 [==============================] - 61s 104ms/step - loss: 1.9990 - acc: 0.8838 - val_loss: 0.6360 - val_acc: 0.8718\n",
            "Epoch 12: early stopping\n"
          ]
        }
      ]
    },
    {
      "cell_type": "code",
      "source": [
        "loaded_model = load_model('GRU_model.h5')\n",
        "print(\"\\n 테스트 정확도: %.4f\" % (loaded_model.evaluate(X_test, y_test)[1]))\n",
        "#뭐여"
      ],
      "metadata": {
        "colab": {
          "base_uri": "https://localhost:8080/"
        },
        "id": "_NgHfTftZE3B",
        "outputId": "060e389f-a3de-4d83-967b-232d015c2d40"
      },
      "execution_count": null,
      "outputs": [
        {
          "output_type": "stream",
          "name": "stdout",
          "text": [
            "782/782 [==============================] - 28s 35ms/step - loss: 0.6304 - acc: 0.8695\n",
            "\n",
            " 테스트 정확도: 0.8695\n"
          ]
        }
      ]
    },
    {
      "cell_type": "code",
      "source": [
        "sentiment_predict(neg1)"
      ],
      "metadata": {
        "colab": {
          "base_uri": "https://localhost:8080/"
        },
        "id": "KVg0zsFeZE3B",
        "outputId": "8d30222e-20d6-4a5b-c32b-4514ddeebf7f"
      },
      "execution_count": null,
      "outputs": [
        {
          "output_type": "stream",
          "name": "stdout",
          "text": [
            "78.90% 확률로 부정 리뷰입니다.\n"
          ]
        }
      ]
    },
    {
      "cell_type": "code",
      "source": [
        "sentiment_predict(pos1)"
      ],
      "metadata": {
        "colab": {
          "base_uri": "https://localhost:8080/"
        },
        "id": "o-swt-caZE3C",
        "outputId": "7b48da4f-9faf-470b-dc31-1f56765c6687"
      },
      "execution_count": null,
      "outputs": [
        {
          "output_type": "stream",
          "name": "stdout",
          "text": [
            "61.29% 확률로 긍정 리뷰입니다.\n"
          ]
        }
      ]
    },
    {
      "cell_type": "code",
      "source": [
        ""
      ],
      "metadata": {
        "id": "iM-9WgGMnl6s"
      },
      "execution_count": null,
      "outputs": []
    },
    {
      "cell_type": "markdown",
      "source": [
        "# **9**"
      ],
      "metadata": {
        "id": "i1mWK_0QCFXa"
      }
    },
    {
      "cell_type": "code",
      "source": [
        "# 단어 집합의 크기를 8000으로 제한\n",
        "embedding_dim = 60 \n",
        "hidden_units = 60\n",
        "\n",
        "#dropout!!!\n",
        "from keras.layers import Dropout\n",
        "model = Sequential()\n",
        "model.add(Embedding(vocab_size, embedding_dim))\n",
        "model.add(Dropout(0.2)) \n",
        "model.add(GRU(hidden_units)) \n",
        "model.add(Dropout(0.2)) \n",
        "model.add(Dense(1, activation='sigmoid', kernel_initializer=initializer,kernel_regularizer='l2')) ##가중치 초기화, 엘투규제\n",
        "model.add(Dropout(0.2)) \n",
        "\n",
        "es = EarlyStopping(monitor='val_loss', mode='min', verbose=1, patience=4) \n",
        "mc = ModelCheckpoint('GRU_model.h5', monitor='val_acc', mode='max', verbose=1, save_best_only=True) \n",
        "\n",
        "model.compile(optimizer='adam', loss=tf.keras.losses.BinaryCrossentropy(label_smoothing=0.5,name='binary_crossentropy'), metrics=['acc']) #아담 #binary_crossentropy with label smoothing\n",
        "history = model.fit(X_train, y_train, epochs=15, callbacks=[es, mc], batch_size=64, validation_split=0.25) #64"
      ],
      "metadata": {
        "colab": {
          "base_uri": "https://localhost:8080/"
        },
        "outputId": "c1c7aec4-9ced-4101-be05-29a61b2d5c14",
        "id": "p2-0KRD7CFXe"
      },
      "execution_count": null,
      "outputs": [
        {
          "output_type": "stream",
          "name": "stdout",
          "text": [
            "Epoch 1/15\n",
            "293/293 [==============================] - ETA: 0s - loss: 2.0704 - acc: 0.6586\n",
            "Epoch 1: val_acc improved from -inf to 0.79840, saving model to GRU_model.h5\n",
            "293/293 [==============================] - 34s 109ms/step - loss: 2.0704 - acc: 0.6586 - val_loss: 0.6432 - val_acc: 0.7984\n",
            "Epoch 2/15\n",
            "293/293 [==============================] - ETA: 0s - loss: 2.0830 - acc: 0.7956\n",
            "Epoch 2: val_acc improved from 0.79840 to 0.85984, saving model to GRU_model.h5\n",
            "293/293 [==============================] - 31s 105ms/step - loss: 2.0830 - acc: 0.7956 - val_loss: 0.6284 - val_acc: 0.8598\n",
            "Epoch 3/15\n",
            "293/293 [==============================] - ETA: 0s - loss: 2.0594 - acc: 0.8106\n",
            "Epoch 3: val_acc did not improve from 0.85984\n",
            "293/293 [==============================] - 31s 105ms/step - loss: 2.0594 - acc: 0.8106 - val_loss: 0.6433 - val_acc: 0.8302\n",
            "Epoch 4/15\n",
            "293/293 [==============================] - ETA: 0s - loss: 2.0306 - acc: 0.8299\n",
            "Epoch 4: val_acc improved from 0.85984 to 0.86640, saving model to GRU_model.h5\n",
            "293/293 [==============================] - 31s 105ms/step - loss: 2.0306 - acc: 0.8299 - val_loss: 0.6308 - val_acc: 0.8664\n",
            "Epoch 5/15\n",
            "293/293 [==============================] - ETA: 0s - loss: 2.0116 - acc: 0.8429\n",
            "Epoch 5: val_acc did not improve from 0.86640\n",
            "293/293 [==============================] - 31s 105ms/step - loss: 2.0116 - acc: 0.8429 - val_loss: 0.6390 - val_acc: 0.8562\n",
            "Epoch 6/15\n",
            "293/293 [==============================] - ETA: 0s - loss: 2.0163 - acc: 0.8526\n",
            "Epoch 6: val_acc did not improve from 0.86640\n",
            "293/293 [==============================] - 31s 104ms/step - loss: 2.0163 - acc: 0.8526 - val_loss: 0.6349 - val_acc: 0.8618\n",
            "Epoch 6: early stopping\n"
          ]
        }
      ]
    },
    {
      "cell_type": "code",
      "source": [
        "print(\"\\n 테스트 정확도: %.4f\" % (loaded_model.evaluate(X_test, y_test)[1]))"
      ],
      "metadata": {
        "colab": {
          "base_uri": "https://localhost:8080/"
        },
        "outputId": "7e4f7949-2e64-41f4-dd8c-f839e70182dd",
        "id": "-RVOivc0CFXf"
      },
      "execution_count": null,
      "outputs": [
        {
          "output_type": "stream",
          "name": "stdout",
          "text": [
            "782/782 [==============================] - 27s 35ms/step - loss: 0.6304 - acc: 0.8695\n",
            "\n",
            " 테스트 정확도: 0.8695\n"
          ]
        }
      ]
    },
    {
      "cell_type": "code",
      "source": [
        "neg1 = \"This movie was just way too overrated. The fighting was not professional and in slow motion. I was expecting more from a 200 million budget movie. The little sister of T.Challa was just trying too hard to be funny. The story was really dumb as well. Don't watch this movie if you are going because others say its great unless you are a Black Panther fan or Marvels fan.\"\n",
        "\n",
        "pos1 = \" I was lucky enough to be included in the group to see the advanced screening in Melbourne on the 15th of April, 2012. And, firstly, I need to say a big thank-you to Disney and Marvel Studios. \\\n",
        "Now, the film... how can I even begin to explain how I feel about this film? It is, as the title of this review says a 'comic book triumph'. I went into the film with very, very high expectations and I was not disappointed. \\\n",
        "Seeing Joss Whedon's direction and envisioning of the film come to life on the big screen is perfect. The script is amazingly detailed and laced with sharp wit a humor. The special effects are literally mind-blowing and the action scenes are both hard-hitting and beautifully choreographed.\"\n"
      ],
      "metadata": {
        "id": "1Sl_xMHHCFXf"
      },
      "execution_count": null,
      "outputs": []
    },
    {
      "cell_type": "code",
      "source": [
        "sentiment_predict(neg1)"
      ],
      "metadata": {
        "colab": {
          "base_uri": "https://localhost:8080/"
        },
        "outputId": "04140661-1b57-401a-e7f8-dce420935d9f",
        "id": "cPMHw1c_CFXg"
      },
      "execution_count": null,
      "outputs": [
        {
          "output_type": "stream",
          "name": "stdout",
          "text": [
            "78.90% 확률로 부정 리뷰입니다.\n"
          ]
        }
      ]
    },
    {
      "cell_type": "code",
      "source": [
        "sentiment_predict(pos1)"
      ],
      "metadata": {
        "colab": {
          "base_uri": "https://localhost:8080/"
        },
        "outputId": "8e4ae128-333a-45a6-f91d-fa3e5825ea8f",
        "id": "aBxtj3FaCFXg"
      },
      "execution_count": null,
      "outputs": [
        {
          "output_type": "stream",
          "name": "stdout",
          "text": [
            "61.29% 확률로 긍정 리뷰입니다.\n"
          ]
        }
      ]
    },
    {
      "cell_type": "markdown",
      "source": [
        "저번에는 배치 작은 게 좋았는데 이번엔 큰 게 좋다네~하하~"
      ],
      "metadata": {
        "id": "rxI4Sgc-CFXg"
      }
    },
    {
      "cell_type": "markdown",
      "source": [
        "# **9**"
      ],
      "metadata": {
        "id": "2WbLZBdHEbEy"
      }
    },
    {
      "cell_type": "code",
      "source": [
        "# 단어 집합의 크기를 8000으로 제한\n",
        "embedding_dim = 50 \n",
        "hidden_units = 50\n",
        "\n",
        "#dropout!!!\n",
        "from keras.layers import Dropout\n",
        "model = Sequential()\n",
        "model.add(Embedding(vocab_size, embedding_dim))\n",
        "model.add(Dropout(0.1)) \n",
        "model.add(GRU(hidden_units)) \n",
        "model.add(Dropout(0.1)) \n",
        "model.add(Dense(1, activation='sigmoid', kernel_initializer=initializer,kernel_regularizer='l2')) ##가중치 초기화, 엘투규제\n",
        "model.add(Dropout(0.1)) \n",
        "\n",
        "es = EarlyStopping(monitor='val_loss', mode='min', verbose=1, patience=4) \n",
        "mc = ModelCheckpoint('GRU_model.h5', monitor='val_acc', mode='max', verbose=1, save_best_only=True) \n",
        "\n",
        "model.compile(optimizer='adam', loss=tf.keras.losses.BinaryCrossentropy(label_smoothing=0.3,name='binary_crossentropy'), metrics=['acc']) #아담 #binary_crossentropy with label smoothing\n",
        "history = model.fit(X_train, y_train, epochs=15, callbacks=[es, mc], batch_size=64, validation_split=0.25) #64"
      ],
      "metadata": {
        "colab": {
          "base_uri": "https://localhost:8080/"
        },
        "outputId": "ca511d9d-06d1-4577-c028-571d5ef393cc",
        "id": "AgeOmwLaEbE6"
      },
      "execution_count": null,
      "outputs": [
        {
          "output_type": "stream",
          "name": "stdout",
          "text": [
            "Epoch 1/15\n",
            "293/293 [==============================] - ETA: 0s - loss: 1.3205 - acc: 0.7049\n",
            "Epoch 1: val_acc improved from -inf to 0.84592, saving model to GRU_model.h5\n",
            "293/293 [==============================] - 34s 107ms/step - loss: 1.3205 - acc: 0.7049 - val_loss: 0.5609 - val_acc: 0.8459\n",
            "Epoch 2/15\n",
            "293/293 [==============================] - ETA: 0s - loss: 1.2736 - acc: 0.8275\n",
            "Epoch 2: val_acc improved from 0.84592 to 0.86320, saving model to GRU_model.h5\n",
            "293/293 [==============================] - 31s 104ms/step - loss: 1.2736 - acc: 0.8275 - val_loss: 0.5453 - val_acc: 0.8632\n",
            "Epoch 3/15\n",
            "293/293 [==============================] - ETA: 0s - loss: 1.2422 - acc: 0.8659\n",
            "Epoch 3: val_acc improved from 0.86320 to 0.86592, saving model to GRU_model.h5\n",
            "293/293 [==============================] - 31s 104ms/step - loss: 1.2422 - acc: 0.8659 - val_loss: 0.5404 - val_acc: 0.8659\n",
            "Epoch 4/15\n",
            "293/293 [==============================] - ETA: 0s - loss: 1.1854 - acc: 0.8879\n",
            "Epoch 4: val_acc did not improve from 0.86592\n",
            "293/293 [==============================] - 30s 104ms/step - loss: 1.1854 - acc: 0.8879 - val_loss: 0.5504 - val_acc: 0.8592\n",
            "Epoch 5/15\n",
            "293/293 [==============================] - ETA: 0s - loss: 1.2152 - acc: 0.8911\n",
            "Epoch 5: val_acc improved from 0.86592 to 0.86624, saving model to GRU_model.h5\n",
            "293/293 [==============================] - 31s 105ms/step - loss: 1.2152 - acc: 0.8911 - val_loss: 0.5501 - val_acc: 0.8662\n",
            "Epoch 6/15\n",
            "293/293 [==============================] - ETA: 0s - loss: 1.1933 - acc: 0.9032\n",
            "Epoch 6: val_acc did not improve from 0.86624\n",
            "293/293 [==============================] - 31s 105ms/step - loss: 1.1933 - acc: 0.9032 - val_loss: 0.5630 - val_acc: 0.8363\n",
            "Epoch 7/15\n",
            "293/293 [==============================] - ETA: 0s - loss: 1.2065 - acc: 0.9079\n",
            "Epoch 7: val_acc improved from 0.86624 to 0.87344, saving model to GRU_model.h5\n",
            "293/293 [==============================] - 30s 103ms/step - loss: 1.2065 - acc: 0.9079 - val_loss: 0.5342 - val_acc: 0.8734\n",
            "Epoch 8/15\n",
            "293/293 [==============================] - ETA: 0s - loss: 1.2300 - acc: 0.9124\n",
            "Epoch 8: val_acc improved from 0.87344 to 0.87936, saving model to GRU_model.h5\n",
            "293/293 [==============================] - 31s 104ms/step - loss: 1.2300 - acc: 0.9124 - val_loss: 0.5346 - val_acc: 0.8794\n",
            "Epoch 9/15\n",
            "293/293 [==============================] - ETA: 0s - loss: 1.1990 - acc: 0.9207\n",
            "Epoch 9: val_acc did not improve from 0.87936\n",
            "293/293 [==============================] - 30s 103ms/step - loss: 1.1990 - acc: 0.9207 - val_loss: 0.5426 - val_acc: 0.8645\n",
            "Epoch 10/15\n",
            "293/293 [==============================] - ETA: 0s - loss: 1.1598 - acc: 0.9274\n",
            "Epoch 10: val_acc did not improve from 0.87936\n",
            "293/293 [==============================] - 29s 100ms/step - loss: 1.1598 - acc: 0.9274 - val_loss: 0.5351 - val_acc: 0.8770\n",
            "Epoch 11/15\n",
            "293/293 [==============================] - ETA: 0s - loss: 1.1637 - acc: 0.9296\n",
            "Epoch 11: val_acc did not improve from 0.87936\n",
            "293/293 [==============================] - 29s 100ms/step - loss: 1.1637 - acc: 0.9296 - val_loss: 0.5707 - val_acc: 0.8574\n",
            "Epoch 11: early stopping\n"
          ]
        }
      ]
    },
    {
      "cell_type": "code",
      "source": [
        "print(\"\\n 테스트 정확도: %.4f\" % (loaded_model.evaluate(X_test, y_test)[1]))"
      ],
      "metadata": {
        "colab": {
          "base_uri": "https://localhost:8080/"
        },
        "outputId": "aac56a29-716f-408a-eead-b0429bd572c8",
        "id": "z2D5T5QrEbE8"
      },
      "execution_count": null,
      "outputs": [
        {
          "output_type": "stream",
          "name": "stdout",
          "text": [
            "782/782 [==============================] - 27s 35ms/step - loss: 0.6304 - acc: 0.8695\n",
            "\n",
            " 테스트 정확도: 0.8695\n"
          ]
        }
      ]
    },
    {
      "cell_type": "code",
      "source": [
        "sentiment_predict(neg1)"
      ],
      "metadata": {
        "colab": {
          "base_uri": "https://localhost:8080/"
        },
        "outputId": "49981dc4-59c2-4129-c381-b95d7ab43ff1",
        "id": "NzDELMEHEbE9"
      },
      "execution_count": null,
      "outputs": [
        {
          "output_type": "stream",
          "name": "stdout",
          "text": [
            "78.90% 확률로 부정 리뷰입니다.\n"
          ]
        }
      ]
    },
    {
      "cell_type": "code",
      "source": [
        "sentiment_predict(pos1)"
      ],
      "metadata": {
        "colab": {
          "base_uri": "https://localhost:8080/"
        },
        "outputId": "283f998b-7ab6-43a1-ae1c-363a3f856afd",
        "id": "c4LmKFYKEbE9"
      },
      "execution_count": null,
      "outputs": [
        {
          "output_type": "stream",
          "name": "stdout",
          "text": [
            "61.29% 확률로 긍정 리뷰입니다.\n"
          ]
        }
      ]
    },
    {
      "cell_type": "code",
      "source": [
        ""
      ],
      "metadata": {
        "id": "8v5o7_4oEpuI"
      },
      "execution_count": null,
      "outputs": []
    },
    {
      "cell_type": "markdown",
      "source": [
        "ㅠ"
      ],
      "metadata": {
        "id": "izCcbvtiEbE-"
      }
    },
    {
      "cell_type": "markdown",
      "source": [
        "# FRESH START!!!!!!!!!!!다시 잘 생각해보자. "
      ],
      "metadata": {
        "id": "xabMoqmoGSoG"
      }
    },
    {
      "cell_type": "markdown",
      "source": [
        "##원래##"
      ],
      "metadata": {
        "id": "O6cT5AbNW3Xp"
      }
    },
    {
      "cell_type": "code",
      "execution_count": null,
      "metadata": {
        "id": "j06hTVWOWDkO"
      },
      "outputs": [],
      "source": [
        "import numpy as np\n",
        "import matplotlib.pyplot as plt\n",
        "from tensorflow.keras.datasets import imdb"
      ]
    },
    {
      "cell_type": "code",
      "source": [
        "(X_train, y_train), (X_test, y_test) = imdb.load_data() #영화 리뷰 데이터를 로드.  #여기서 num_words를 사용하면 등장 빈도 순위로 몇 등까지의 단어를 사용할 것인지\n",
        "\n",
        "print('훈련용 리뷰 개수 : {}'.format(len(X_train)))\n",
        "print('테스트용 리뷰 개수 : {}'.format(len(X_test)))\n",
        "num_classes = len(set(y_train))\n",
        "print('카테고리 : {}'.format(num_classes))"
      ],
      "metadata": {
        "colab": {
          "base_uri": "https://localhost:8080/"
        },
        "outputId": "f5afc317-1e9a-4a84-aa7a-8b5efd562ddd",
        "id": "uSRt6C50WDkP"
      },
      "execution_count": null,
      "outputs": [
        {
          "output_type": "stream",
          "name": "stdout",
          "text": [
            "Downloading data from https://storage.googleapis.com/tensorflow/tf-keras-datasets/imdb.npz\n",
            "17465344/17464789 [==============================] - 0s 0us/step\n",
            "17473536/17464789 [==============================] - 0s 0us/step\n",
            "훈련용 리뷰 개수 : 25000\n",
            "테스트용 리뷰 개수 : 25000\n",
            "카테고리 : 2\n"
          ]
        }
      ]
    },
    {
      "cell_type": "code",
      "source": [
        "#X_train에 들어있는 숫자들이 각각 어떤 단어들을 나타내고 있는지 확인\n",
        "\n",
        "word_to_index = imdb.get_word_index() #imdb.get_word_index()에 각 단어와 맵핑되는 정수가 저장! 근데 +3을 해야 실제 맵핑되는 정수\n",
        "index_to_word = {}\n",
        "for key, value in word_to_index.items():\n",
        "    index_to_word[value+3] = key"
      ],
      "metadata": {
        "colab": {
          "base_uri": "https://localhost:8080/"
        },
        "outputId": "7f7c13e6-bd5f-4c92-e025-247821acf180",
        "id": "lwFypYBMWDkQ"
      },
      "execution_count": null,
      "outputs": [
        {
          "output_type": "stream",
          "name": "stdout",
          "text": [
            "Downloading data from https://storage.googleapis.com/tensorflow/tf-keras-datasets/imdb_word_index.json\n",
            "1646592/1641221 [==============================] - 0s 0us/step\n",
            "1654784/1641221 [==============================] - 0s 0us/step\n"
          ]
        }
      ]
    },
    {
      "cell_type": "code",
      "source": [
        "#첫번째 훈련용 리뷰의 X_train[0]의 각 단어가 정수로 바뀌기 전에 어떤 단어들이었는지 확인\n",
        "for index, token in enumerate((\"<pad>\", \"<sos>\", \"<unk>\")):\n",
        "  index_to_word[index] = token\n",
        "\n",
        "print(' '.join([index_to_word[index] for index in X_train[0]]))"
      ],
      "metadata": {
        "colab": {
          "base_uri": "https://localhost:8080/"
        },
        "outputId": "96b374b0-7cdf-4750-9b6b-7e7e3a31aeb9",
        "id": "172CeyifWDkQ"
      },
      "execution_count": null,
      "outputs": [
        {
          "output_type": "stream",
          "name": "stdout",
          "text": [
            "<sos> this film was just brilliant casting location scenery story direction everyone's really suited the part they played and you could just imagine being there robert redford's is an amazing actor and now the same being director norman's father came from the same scottish island as myself so i loved the fact there was a real connection with this film the witty remarks throughout the film were great it was just brilliant so much that i bought the film as soon as it was released for retail and would recommend it to everyone to watch and the fly fishing was amazing really cried at the end it was so sad and you know what they say if you cry at a film it must have been good and this definitely was also congratulations to the two little boy's that played the part's of norman and paul they were just brilliant children are often left out of the praising list i think because the stars that play them all grown up are such a big profile for the whole film but these children are amazing and should be praised for what they have done don't you think the whole story was so lovely because it was true and was someone's life after all that was shared with us all\n"
          ]
        }
      ]
    },
    {
      "cell_type": "code",
      "source": [
        "import re\n",
        "from tensorflow.keras.datasets import imdb\n",
        "from tensorflow.keras.preprocessing.sequence import pad_sequences\n",
        "from tensorflow.keras.models import Sequential\n",
        "from tensorflow.keras.layers import Dense, GRU, Embedding\n",
        "from tensorflow.keras.callbacks import EarlyStopping, ModelCheckpoint\n",
        "from tensorflow.keras.models import load_model\n",
        "\n",
        "vocab_size = 10000\n",
        "max_len = 500\n",
        "\n",
        "(X_train, y_train), (X_test, y_test) = imdb.load_data(num_words=vocab_size)\n",
        "\n",
        "X_train = pad_sequences(X_train, maxlen=max_len)\n",
        "X_test = pad_sequences(X_test, maxlen=max_len)"
      ],
      "metadata": {
        "id": "3ecoIDEBWDkR"
      },
      "execution_count": null,
      "outputs": []
    },
    {
      "cell_type": "code",
      "source": [
        "embedding_dim = 100\n",
        "hidden_units = 128\n",
        "\n",
        "model = Sequential()\n",
        "model.add(Embedding(vocab_size, embedding_dim))\n",
        "model.add(GRU(hidden_units)) \n",
        "model.add(Dense(1, activation='sigmoid'))\n",
        "\n",
        "es = EarlyStopping(monitor='val_loss', mode='min', verbose=1, patience=4) \n",
        "mc = ModelCheckpoint('GRU_model.h5', monitor='val_acc', mode='max', verbose=1, save_best_only=True) \n",
        "\n",
        "model.compile(optimizer='rmsprop', loss='binary_crossentropy', metrics=['acc'])\n",
        "history = model.fit(X_train, y_train, epochs=15, callbacks=[es, mc], batch_size=64, validation_split=0.2) "
      ],
      "metadata": {
        "colab": {
          "base_uri": "https://localhost:8080/"
        },
        "id": "IYYhMnMkW3iz",
        "outputId": "e506f76f-e084-47a7-b7c3-22bbbefb68d4"
      },
      "execution_count": 4,
      "outputs": [
        {
          "output_type": "stream",
          "name": "stdout",
          "text": [
            "Epoch 1/15\n",
            "313/313 [==============================] - ETA: 0s - loss: 0.4878 - acc: 0.7599\n",
            "Epoch 1: val_acc improved from -inf to 0.85260, saving model to GRU_model.h5\n",
            "313/313 [==============================] - 12s 31ms/step - loss: 0.4878 - acc: 0.7599 - val_loss: 0.3789 - val_acc: 0.8526\n",
            "Epoch 2/15\n",
            "311/313 [============================>.] - ETA: 0s - loss: 0.3125 - acc: 0.8737\n",
            "Epoch 2: val_acc did not improve from 0.85260\n",
            "313/313 [==============================] - 9s 30ms/step - loss: 0.3120 - acc: 0.8739 - val_loss: 0.4204 - val_acc: 0.8368\n",
            "Epoch 3/15\n",
            "312/313 [============================>.] - ETA: 0s - loss: 0.2434 - acc: 0.9087\n",
            "Epoch 3: val_acc improved from 0.85260 to 0.88660, saving model to GRU_model.h5\n",
            "313/313 [==============================] - 9s 30ms/step - loss: 0.2435 - acc: 0.9086 - val_loss: 0.2843 - val_acc: 0.8866\n",
            "Epoch 4/15\n",
            "311/313 [============================>.] - ETA: 0s - loss: 0.1882 - acc: 0.9304\n",
            "Epoch 4: val_acc did not improve from 0.88660\n",
            "313/313 [==============================] - 9s 30ms/step - loss: 0.1883 - acc: 0.9303 - val_loss: 0.4028 - val_acc: 0.8428\n",
            "Epoch 5/15\n",
            "311/313 [============================>.] - ETA: 0s - loss: 0.1485 - acc: 0.9457\n",
            "Epoch 5: val_acc improved from 0.88660 to 0.90020, saving model to GRU_model.h5\n",
            "313/313 [==============================] - 9s 30ms/step - loss: 0.1487 - acc: 0.9455 - val_loss: 0.2649 - val_acc: 0.9002\n",
            "Epoch 6/15\n",
            "311/313 [============================>.] - ETA: 0s - loss: 0.1178 - acc: 0.9579\n",
            "Epoch 6: val_acc did not improve from 0.90020\n",
            "313/313 [==============================] - 9s 29ms/step - loss: 0.1181 - acc: 0.9578 - val_loss: 0.3029 - val_acc: 0.8990\n",
            "Epoch 7/15\n",
            "312/313 [============================>.] - ETA: 0s - loss: 0.0924 - acc: 0.9679\n",
            "Epoch 7: val_acc did not improve from 0.90020\n",
            "313/313 [==============================] - 9s 30ms/step - loss: 0.0927 - acc: 0.9678 - val_loss: 0.3837 - val_acc: 0.8670\n",
            "Epoch 8/15\n",
            "311/313 [============================>.] - ETA: 0s - loss: 0.0728 - acc: 0.9755\n",
            "Epoch 8: val_acc did not improve from 0.90020\n",
            "313/313 [==============================] - 9s 30ms/step - loss: 0.0729 - acc: 0.9754 - val_loss: 0.3359 - val_acc: 0.8878\n",
            "Epoch 9/15\n",
            "311/313 [============================>.] - ETA: 0s - loss: 0.0516 - acc: 0.9827\n",
            "Epoch 9: val_acc did not improve from 0.90020\n",
            "313/313 [==============================] - 9s 29ms/step - loss: 0.0519 - acc: 0.9826 - val_loss: 0.3742 - val_acc: 0.8766\n",
            "Epoch 9: early stopping\n"
          ]
        }
      ]
    },
    {
      "cell_type": "code",
      "source": [
        "#  훈련 과정에서 검증 데이터의 정확도가 가장 높았을 때 저장된 모델인 'GRU_model.h5'를 로드\n",
        "\n",
        "loaded_model = load_model('GRU_model.h5')\n",
        "print(\"\\n 테스트 정확도: %.4f\" % (loaded_model.evaluate(X_test, y_test)[1]))"
      ],
      "metadata": {
        "colab": {
          "base_uri": "https://localhost:8080/"
        },
        "outputId": "33867ff4-31c1-4069-d4bc-3d3ef597dacf",
        "id": "0FLEko22Xfbz"
      },
      "execution_count": 5,
      "outputs": [
        {
          "output_type": "stream",
          "name": "stdout",
          "text": [
            "782/782 [==============================] - 7s 9ms/step - loss: 0.2849 - acc: 0.8921\n",
            "\n",
            " 테스트 정확도: 0.8921\n"
          ]
        }
      ]
    },
    {
      "cell_type": "code",
      "source": [
        "word_to_index = imdb.get_word_index() \n",
        "index_to_word = {}\n",
        "for key, value in word_to_index.items():\n",
        "    index_to_word[value+3] = key\n",
        "\n",
        "# 임의의 문장에 대해서 리뷰의 긍,부정을 예측하고자\n",
        "# 모델에 넣기 전에 전처리를 해주어야!!\n",
        "\n",
        "def sentiment_predict(new_sentence):  # 입력된 문장에 대해서 기본적인 전처리와 정수 인코딩, 패딩을 한 후에 모델의 입력으로 사용하여 예측값을 리턴!\n",
        "  # 알파벳과 숫자를 제외하고 모두 제거 및 알파벳 소문자화\n",
        "  new_sentence = re.sub('[^0-9a-zA-Z ]', '', new_sentence).lower()\n",
        "  encoded = []\n",
        "\n",
        "  # 띄어쓰기 단위 토큰화 후 정수 인코딩\n",
        "  for word in new_sentence.split():\n",
        "    try :\n",
        "      # 단어 집합의 크기를 10,000으로 제한.\n",
        "      if word_to_index[word] <= 10000:\n",
        "        encoded.append(word_to_index[word]+3)\n",
        "      else:\n",
        "      # 10,000 이상의 숫자는 <unk> 토큰으로 변환.\n",
        "        encoded.append(2)\n",
        "    # 단어 집합에 없는 단어는 <unk> 토큰으로 변환.\n",
        "    except KeyError:\n",
        "      encoded.append(2)\n",
        "\n",
        "  pad_sequence = pad_sequences([encoded], maxlen=max_len)\n",
        "  score = float(loaded_model.predict(pad_sequence)) # 예측\n",
        "\n",
        "  if(score > 0.5):\n",
        "    print(\"{:.2f}% 확률로 긍정 리뷰입니다.\".format(score * 100))\n",
        "  else:\n",
        "    print(\"{:.2f}% 확률로 부정 리뷰입니다.\".format((1 - score) * 100))"
      ],
      "metadata": {
        "id": "gNwevTcCXfb0"
      },
      "execution_count": 10,
      "outputs": []
    },
    {
      "cell_type": "code",
      "source": [
        "# 블랙팬서의 1점 리뷰 부정으로 예측?\n",
        "\n",
        "neg1 = \"This movie was just way too overrated. The fighting was not professional and in slow motion. I was expecting more from a 200 million budget movie. The little sister of T.Challa was just trying too hard to be funny. The story was really dumb as well. Don't watch this movie if you are going because others say its great unless you are a Black Panther fan or Marvels fan.\"\n",
        "\n",
        "sentiment_predict(neg1)"
      ],
      "metadata": {
        "colab": {
          "base_uri": "https://localhost:8080/"
        },
        "outputId": "dd268705-64ba-4bd1-bf28-8fde8d140da7",
        "id": "HiYv5lDgXfb0"
      },
      "execution_count": 11,
      "outputs": [
        {
          "output_type": "stream",
          "name": "stdout",
          "text": [
            "98.94% 확률로 부정 리뷰입니다.\n"
          ]
        }
      ]
    },
    {
      "cell_type": "code",
      "source": [
        "#어벤져스의 10점 리뷰 긍정?\n",
        "\n",
        "pos1 = \" I was lucky enough to be included in the group to see the advanced screening in Melbourne on the 15th of April, 2012. And, firstly, I need to say a big thank-you to Disney and Marvel Studios. \\\n",
        "Now, the film... how can I even begin to explain how I feel about this film? It is, as the title of this review says a 'comic book triumph'. I went into the film with very, very high expectations and I was not disappointed. \\\n",
        "Seeing Joss Whedon's direction and envisioning of the film come to life on the big screen is perfect. The script is amazingly detailed and laced with sharp wit a humor. The special effects are literally mind-blowing and the action scenes are both hard-hitting and beautifully choreographed.\"\n",
        "\n",
        "sentiment_predict(pos1)"
      ],
      "metadata": {
        "colab": {
          "base_uri": "https://localhost:8080/"
        },
        "outputId": "29263d9b-08ee-46f5-ae20-d27086812e83",
        "id": "nUNu93jQXfb0"
      },
      "execution_count": 12,
      "outputs": [
        {
          "output_type": "stream",
          "name": "stdout",
          "text": [
            "98.91% 확률로 긍정 리뷰입니다.\n"
          ]
        }
      ]
    },
    {
      "cell_type": "markdown",
      "source": [
        "## **1st try**"
      ],
      "metadata": {
        "id": "QmQr-hvlWDkL"
      }
    },
    {
      "cell_type": "code",
      "source": [
        "embedding_dim = 60 #이거 줄이고\n",
        "hidden_units = 60 #이거 줄이고\n",
        "\n",
        "\n",
        "import tensorflow as tf\n",
        "initializer = tf.keras.initializers.GlorotNormal()\n",
        "\n",
        "\n",
        "model = Sequential()\n",
        "model.add(Embedding(vocab_size, embedding_dim))\n",
        "model.add(GRU(hidden_units)) \n",
        "model.add(Dense(1, activation='sigmoid'))\n",
        "\n",
        "es = EarlyStopping(monitor='val_loss', mode='min', verbose=1, patience=4) \n",
        "mc = ModelCheckpoint('GRU_model.h5', monitor='val_acc', mode='max', verbose=1, save_best_only=True) \n",
        "\n",
        "model.compile(optimizer='rmsprop', loss='binary_crossentropy', metrics=['acc'])\n",
        "history = model.fit(X_train, y_train, epochs=15, callbacks=[es, mc], batch_size=64, validation_split=0.2) "
      ],
      "metadata": {
        "colab": {
          "base_uri": "https://localhost:8080/"
        },
        "outputId": "f4ccab58-b3ec-4f13-c1ce-a0a3ef688808",
        "id": "Ui_qqZOwWDkR"
      },
      "execution_count": 17,
      "outputs": [
        {
          "output_type": "stream",
          "name": "stdout",
          "text": [
            "Epoch 1/15\n",
            "313/313 [==============================] - ETA: 0s - loss: 0.4597 - acc: 0.7794\n",
            "Epoch 1: val_acc improved from -inf to 0.81740, saving model to GRU_model.h5\n",
            "313/313 [==============================] - 8s 22ms/step - loss: 0.4597 - acc: 0.7794 - val_loss: 0.4125 - val_acc: 0.8174\n",
            "Epoch 2/15\n",
            "313/313 [==============================] - ETA: 0s - loss: 0.2942 - acc: 0.8822\n",
            "Epoch 2: val_acc improved from 0.81740 to 0.87980, saving model to GRU_model.h5\n",
            "313/313 [==============================] - 6s 20ms/step - loss: 0.2942 - acc: 0.8822 - val_loss: 0.2976 - val_acc: 0.8798\n",
            "Epoch 3/15\n",
            "313/313 [==============================] - ETA: 0s - loss: 0.2345 - acc: 0.9091\n",
            "Epoch 3: val_acc improved from 0.87980 to 0.88800, saving model to GRU_model.h5\n",
            "313/313 [==============================] - 6s 20ms/step - loss: 0.2345 - acc: 0.9091 - val_loss: 0.2747 - val_acc: 0.8880\n",
            "Epoch 4/15\n",
            "313/313 [==============================] - ETA: 0s - loss: 0.1960 - acc: 0.9273\n",
            "Epoch 4: val_acc did not improve from 0.88800\n",
            "313/313 [==============================] - 6s 20ms/step - loss: 0.1960 - acc: 0.9273 - val_loss: 0.3128 - val_acc: 0.8736\n",
            "Epoch 5/15\n",
            "313/313 [==============================] - ETA: 0s - loss: 0.1682 - acc: 0.9379\n",
            "Epoch 5: val_acc did not improve from 0.88800\n",
            "313/313 [==============================] - 6s 20ms/step - loss: 0.1682 - acc: 0.9379 - val_loss: 0.3443 - val_acc: 0.8608\n",
            "Epoch 6/15\n",
            "313/313 [==============================] - ETA: 0s - loss: 0.1419 - acc: 0.9492\n",
            "Epoch 6: val_acc improved from 0.88800 to 0.89960, saving model to GRU_model.h5\n",
            "313/313 [==============================] - 6s 20ms/step - loss: 0.1419 - acc: 0.9492 - val_loss: 0.2660 - val_acc: 0.8996\n",
            "Epoch 7/15\n",
            "313/313 [==============================] - ETA: 0s - loss: 0.1190 - acc: 0.9582\n",
            "Epoch 7: val_acc did not improve from 0.89960\n",
            "313/313 [==============================] - 6s 20ms/step - loss: 0.1190 - acc: 0.9582 - val_loss: 0.3496 - val_acc: 0.8772\n",
            "Epoch 8/15\n",
            "313/313 [==============================] - ETA: 0s - loss: 0.0994 - acc: 0.9668\n",
            "Epoch 8: val_acc did not improve from 0.89960\n",
            "313/313 [==============================] - 6s 20ms/step - loss: 0.0994 - acc: 0.9668 - val_loss: 0.2968 - val_acc: 0.8976\n",
            "Epoch 9/15\n",
            "313/313 [==============================] - ETA: 0s - loss: 0.0812 - acc: 0.9718\n",
            "Epoch 9: val_acc did not improve from 0.89960\n",
            "313/313 [==============================] - 6s 20ms/step - loss: 0.0812 - acc: 0.9718 - val_loss: 0.4137 - val_acc: 0.8866\n",
            "Epoch 10/15\n",
            "313/313 [==============================] - ETA: 0s - loss: 0.0674 - acc: 0.9783\n",
            "Epoch 10: val_acc did not improve from 0.89960\n",
            "313/313 [==============================] - 6s 20ms/step - loss: 0.0674 - acc: 0.9783 - val_loss: 0.4114 - val_acc: 0.8744\n",
            "Epoch 10: early stopping\n"
          ]
        }
      ]
    },
    {
      "cell_type": "code",
      "source": [
        "#  훈련 과정에서 검증 데이터의 정확도가 가장 높았을 때 저장된 모델인 'GRU_model.h5'를 로드\n",
        "\n",
        "loaded_model = load_model('GRU_model.h5')\n",
        "print(\"\\n 테스트 정확도: %.4f\" % (loaded_model.evaluate(X_test, y_test)[1]))"
      ],
      "metadata": {
        "colab": {
          "base_uri": "https://localhost:8080/"
        },
        "outputId": "2ac4675e-96c6-4093-c315-98c6e33502b2",
        "id": "af0q8UVJWDkS"
      },
      "execution_count": 18,
      "outputs": [
        {
          "output_type": "stream",
          "name": "stdout",
          "text": [
            "782/782 [==============================] - 7s 8ms/step - loss: 0.2986 - acc: 0.8865\n",
            "\n",
            " 테스트 정확도: 0.8865\n"
          ]
        }
      ]
    },
    {
      "cell_type": "code",
      "source": [
        "sentiment_predict(neg1)"
      ],
      "metadata": {
        "colab": {
          "base_uri": "https://localhost:8080/"
        },
        "outputId": "71415bea-f872-42e3-a953-91d2cfcccca9",
        "id": "hPZdfOWoWDkT"
      },
      "execution_count": 19,
      "outputs": [
        {
          "output_type": "stream",
          "name": "stdout",
          "text": [
            "97.42% 확률로 부정 리뷰입니다.\n"
          ]
        }
      ]
    },
    {
      "cell_type": "code",
      "source": [
        "sentiment_predict(pos1)"
      ],
      "metadata": {
        "colab": {
          "base_uri": "https://localhost:8080/"
        },
        "outputId": "9a00b3ff-4050-4905-9ac3-9c95560cb89b",
        "id": "KvXOe6JnWDkV"
      },
      "execution_count": 20,
      "outputs": [
        {
          "output_type": "stream",
          "name": "stdout",
          "text": [
            "99.42% 확률로 긍정 리뷰입니다.\n"
          ]
        }
      ]
    },
    {
      "cell_type": "markdown",
      "source": [
        "오히려 떨어짐~"
      ],
      "metadata": {
        "id": "a7pCvDykWDkW"
      }
    },
    {
      "cell_type": "markdown",
      "source": [
        "##2\n",
        "배치 줄임."
      ],
      "metadata": {
        "id": "kM9_gpy1Z5wf"
      }
    },
    {
      "cell_type": "code",
      "source": [
        "embedding_dim = 100\n",
        "hidden_units = 128\n",
        "\n",
        "\n",
        "import tensorflow as tf\n",
        "initializer = tf.keras.initializers.GlorotNormal()\n",
        "\n",
        "\n",
        "model = Sequential()\n",
        "model.add(Embedding(vocab_size, embedding_dim))\n",
        "model.add(GRU(hidden_units)) \n",
        "model.add(Dense(1, activation='sigmoid'))\n",
        "\n",
        "es = EarlyStopping(monitor='val_loss', mode='min', verbose=1, patience=4) \n",
        "mc = ModelCheckpoint('GRU_model.h5', monitor='val_acc', mode='max', verbose=1, save_best_only=True) \n",
        "\n",
        "model.compile(optimizer='rmsprop', loss='binary_crossentropy', metrics=['acc'])\n",
        "history = model.fit(X_train, y_train, epochs=15, callbacks=[es, mc], batch_size=32, validation_split=0.2)  ##배차사이즈"
      ],
      "metadata": {
        "colab": {
          "base_uri": "https://localhost:8080/"
        },
        "outputId": "9c02f660-77dd-4c41-920d-9a10ad1ad6c3",
        "id": "vGb1EZkeZ8Fo"
      },
      "execution_count": 21,
      "outputs": [
        {
          "output_type": "stream",
          "name": "stdout",
          "text": [
            "Epoch 1/15\n",
            "625/625 [==============================] - ETA: 0s - loss: 0.4701 - acc: 0.7760\n",
            "Epoch 1: val_acc improved from -inf to 0.84600, saving model to GRU_model.h5\n",
            "625/625 [==============================] - 16s 23ms/step - loss: 0.4701 - acc: 0.7760 - val_loss: 0.3657 - val_acc: 0.8460\n",
            "Epoch 2/15\n",
            "625/625 [==============================] - ETA: 0s - loss: 0.2970 - acc: 0.8827\n",
            "Epoch 2: val_acc improved from 0.84600 to 0.87980, saving model to GRU_model.h5\n",
            "625/625 [==============================] - 14s 22ms/step - loss: 0.2970 - acc: 0.8827 - val_loss: 0.2845 - val_acc: 0.8798\n",
            "Epoch 3/15\n",
            "625/625 [==============================] - ETA: 0s - loss: 0.2034 - acc: 0.9219\n",
            "Epoch 3: val_acc improved from 0.87980 to 0.89840, saving model to GRU_model.h5\n",
            "625/625 [==============================] - 14s 22ms/step - loss: 0.2034 - acc: 0.9219 - val_loss: 0.2445 - val_acc: 0.8984\n",
            "Epoch 4/15\n",
            "624/625 [============================>.] - ETA: 0s - loss: 0.1548 - acc: 0.9439\n",
            "Epoch 4: val_acc did not improve from 0.89840\n",
            "625/625 [==============================] - 14s 22ms/step - loss: 0.1547 - acc: 0.9439 - val_loss: 0.2461 - val_acc: 0.8984\n",
            "Epoch 5/15\n",
            "624/625 [============================>.] - ETA: 0s - loss: 0.1237 - acc: 0.9562\n",
            "Epoch 5: val_acc improved from 0.89840 to 0.90040, saving model to GRU_model.h5\n",
            "625/625 [==============================] - 14s 22ms/step - loss: 0.1236 - acc: 0.9562 - val_loss: 0.2881 - val_acc: 0.9004\n",
            "Epoch 6/15\n",
            "625/625 [==============================] - ETA: 0s - loss: 0.0991 - acc: 0.9657\n",
            "Epoch 6: val_acc did not improve from 0.90040\n",
            "625/625 [==============================] - 14s 22ms/step - loss: 0.0991 - acc: 0.9657 - val_loss: 0.2906 - val_acc: 0.8928\n",
            "Epoch 7/15\n",
            "624/625 [============================>.] - ETA: 0s - loss: 0.0809 - acc: 0.9727\n",
            "Epoch 7: val_acc did not improve from 0.90040\n",
            "625/625 [==============================] - 14s 22ms/step - loss: 0.0810 - acc: 0.9726 - val_loss: 0.3376 - val_acc: 0.8862\n",
            "Epoch 7: early stopping\n"
          ]
        }
      ]
    },
    {
      "cell_type": "code",
      "source": [
        "#  훈련 과정에서 검증 데이터의 정확도가 가장 높았을 때 저장된 모델인 'GRU_model.h5'를 로드\n",
        "\n",
        "loaded_model = load_model('GRU_model.h5')\n",
        "print(\"\\n 테스트 정확도: %.4f\" % (loaded_model.evaluate(X_test, y_test)[1]))"
      ],
      "metadata": {
        "colab": {
          "base_uri": "https://localhost:8080/"
        },
        "outputId": "93326aed-59a6-415e-e0c2-18ddf95e9f47",
        "id": "Y9gye9XwZ8Fq"
      },
      "execution_count": 22,
      "outputs": [
        {
          "output_type": "stream",
          "name": "stdout",
          "text": [
            "782/782 [==============================] - 7s 9ms/step - loss: 0.2905 - acc: 0.8970\n",
            "\n",
            " 테스트 정확도: 0.8970\n"
          ]
        }
      ]
    },
    {
      "cell_type": "code",
      "source": [
        "sentiment_predict(neg1)"
      ],
      "metadata": {
        "colab": {
          "base_uri": "https://localhost:8080/"
        },
        "outputId": "2362fd49-2add-4522-b81f-5dd9ecfd94b0",
        "id": "T-Fg12TpZ8Fq"
      },
      "execution_count": 23,
      "outputs": [
        {
          "output_type": "stream",
          "name": "stdout",
          "text": [
            "99.65% 확률로 부정 리뷰입니다.\n"
          ]
        }
      ]
    },
    {
      "cell_type": "code",
      "source": [
        "sentiment_predict(pos1)"
      ],
      "metadata": {
        "colab": {
          "base_uri": "https://localhost:8080/"
        },
        "outputId": "cab86697-5c4c-4856-f8cb-89e025cf1d3a",
        "id": "cqvQqJqKZ8Fr"
      },
      "execution_count": 24,
      "outputs": [
        {
          "output_type": "stream",
          "name": "stdout",
          "text": [
            "99.46% 확률로 긍정 리뷰입니다.\n"
          ]
        }
      ]
    },
    {
      "cell_type": "markdown",
      "source": [
        "배치가 작아졌을 때 좋았다. 그것은 그러면...!"
      ],
      "metadata": {
        "id": "QNMqqmP1Z8Fr"
      }
    },
    {
      "cell_type": "markdown",
      "source": [
        "##3\n",
        "\n",
        "위백 선배님의 가르침... 레이블스무딩과 드랍아웃을 해봐라!!!\n",
        "레이블스무딩\n",
        "- label 0, 1을 잘못 라벨했을 수 있다는 가정!!!! 이떄 발생할 수 있는 잘못된 loss 의 영향을 줄이기 위하여 label 을 0또는 1이 아니라 smooth 하게 부여하는 것\n",
        "  - ex) 0.2로 하면 계산해서 new_onehot_labels = 1 \\* (1 — 0.2) + 0.2 / 2 = 1*(0.8) + 0.1\n",
        "new_onehot_labels = 0.9 !! 일케 되면 0.9 정도면 잘 예측했다~\n"
      ],
      "metadata": {
        "id": "_a6ibxs6alyf"
      }
    },
    {
      "cell_type": "code",
      "source": [
        "embedding_dim = 100\n",
        "hidden_units = 128\n",
        "\n",
        "\n",
        "import tensorflow as tf\n",
        "initializer = tf.keras.initializers.GlorotNormal()\n",
        "\n",
        "\n",
        "model = Sequential()\n",
        "model.add(Embedding(vocab_size, embedding_dim))\n",
        "model.add(GRU(hidden_units)) \n",
        "model.add(Dense(1, activation='sigmoid'))\n",
        "\n",
        "es = EarlyStopping(monitor='val_loss', mode='min', verbose=1, patience=4) \n",
        "mc = ModelCheckpoint('GRU_model.h5', monitor='val_acc', mode='max', verbose=1, save_best_only=True) \n",
        "\n",
        "model.compile(optimizer='rmsprop', loss=tf.keras.losses.BinaryCrossentropy(label_smoothing=0.5), metrics=['acc']) ##label_smoothing\n",
        "history = model.fit(X_train, y_train, epochs=15, callbacks=[es, mc], batch_size=32, validation_split=0.2)  ##배차사이즈 "
      ],
      "metadata": {
        "colab": {
          "base_uri": "https://localhost:8080/"
        },
        "outputId": "bd90f618-954a-4f7b-a1cc-e7c598c8951e",
        "id": "D5gGbHqdalyg"
      },
      "execution_count": 25,
      "outputs": [
        {
          "output_type": "stream",
          "name": "stdout",
          "text": [
            "Epoch 1/15\n",
            "625/625 [==============================] - ETA: 0s - loss: 0.6482 - acc: 0.7660\n",
            "Epoch 1: val_acc improved from -inf to 0.82180, saving model to GRU_model.h5\n",
            "625/625 [==============================] - 17s 25ms/step - loss: 0.6482 - acc: 0.7660 - val_loss: 0.6347 - val_acc: 0.8218\n",
            "Epoch 2/15\n",
            "625/625 [==============================] - ETA: 0s - loss: 0.6116 - acc: 0.8795\n",
            "Epoch 2: val_acc improved from 0.82180 to 0.88180, saving model to GRU_model.h5\n",
            "625/625 [==============================] - 14s 23ms/step - loss: 0.6116 - acc: 0.8795 - val_loss: 0.6087 - val_acc: 0.8818\n",
            "Epoch 3/15\n",
            "625/625 [==============================] - ETA: 0s - loss: 0.5971 - acc: 0.9153\n",
            "Epoch 3: val_acc improved from 0.88180 to 0.88540, saving model to GRU_model.h5\n",
            "625/625 [==============================] - 14s 23ms/step - loss: 0.5971 - acc: 0.9153 - val_loss: 0.6098 - val_acc: 0.8854\n",
            "Epoch 4/15\n",
            "625/625 [==============================] - ETA: 0s - loss: 0.5884 - acc: 0.9391\n",
            "Epoch 4: val_acc improved from 0.88540 to 0.89300, saving model to GRU_model.h5\n",
            "625/625 [==============================] - 14s 22ms/step - loss: 0.5884 - acc: 0.9391 - val_loss: 0.6050 - val_acc: 0.8930\n",
            "Epoch 5/15\n",
            "624/625 [============================>.] - ETA: 0s - loss: 0.5826 - acc: 0.9523\n",
            "Epoch 5: val_acc improved from 0.89300 to 0.89760, saving model to GRU_model.h5\n",
            "625/625 [==============================] - 14s 22ms/step - loss: 0.5826 - acc: 0.9523 - val_loss: 0.6053 - val_acc: 0.8976\n",
            "Epoch 6/15\n",
            "625/625 [==============================] - ETA: 0s - loss: 0.5778 - acc: 0.9647\n",
            "Epoch 6: val_acc did not improve from 0.89760\n",
            "625/625 [==============================] - 14s 22ms/step - loss: 0.5778 - acc: 0.9647 - val_loss: 0.6097 - val_acc: 0.8890\n",
            "Epoch 7/15\n",
            "625/625 [==============================] - ETA: 0s - loss: 0.5741 - acc: 0.9740\n",
            "Epoch 7: val_acc did not improve from 0.89760\n",
            "625/625 [==============================] - 14s 22ms/step - loss: 0.5741 - acc: 0.9740 - val_loss: 0.6071 - val_acc: 0.8940\n",
            "Epoch 8/15\n",
            "624/625 [============================>.] - ETA: 0s - loss: 0.5714 - acc: 0.9808\n",
            "Epoch 8: val_acc did not improve from 0.89760\n",
            "625/625 [==============================] - 14s 22ms/step - loss: 0.5714 - acc: 0.9808 - val_loss: 0.6090 - val_acc: 0.8896\n",
            "Epoch 8: early stopping\n"
          ]
        }
      ]
    },
    {
      "cell_type": "code",
      "source": [
        "#  훈련 과정에서 검증 데이터의 정확도가 가장 높았을 때 저장된 모델인 'GRU_model.h5'를 로드\n",
        "\n",
        "loaded_model = load_model('GRU_model.h5')\n",
        "print(\"\\n 테스트 정확도: %.4f\" % (loaded_model.evaluate(X_test, y_test)[1]))"
      ],
      "metadata": {
        "colab": {
          "base_uri": "https://localhost:8080/"
        },
        "outputId": "156b05e2-6604-498c-e916-f8e7dee6f154",
        "id": "PV-hx23Lalyh"
      },
      "execution_count": 26,
      "outputs": [
        {
          "output_type": "stream",
          "name": "stdout",
          "text": [
            "782/782 [==============================] - 7s 9ms/step - loss: 0.6094 - acc: 0.8848\n",
            "\n",
            " 테스트 정확도: 0.8848\n"
          ]
        }
      ]
    },
    {
      "cell_type": "code",
      "source": [
        "sentiment_predict(neg1)"
      ],
      "metadata": {
        "colab": {
          "base_uri": "https://localhost:8080/"
        },
        "outputId": "68105eb9-ee60-4b91-febf-2dac911a956f",
        "id": "7yFa9-yjalyi"
      },
      "execution_count": 27,
      "outputs": [
        {
          "output_type": "stream",
          "name": "stdout",
          "text": [
            "WARNING:tensorflow:5 out of the last 9 calls to <function Model.make_predict_function.<locals>.predict_function at 0x7f9ccf09de60> triggered tf.function retracing. Tracing is expensive and the excessive number of tracings could be due to (1) creating @tf.function repeatedly in a loop, (2) passing tensors with different shapes, (3) passing Python objects instead of tensors. For (1), please define your @tf.function outside of the loop. For (2), @tf.function has experimental_relax_shapes=True option that relaxes argument shapes that can avoid unnecessary retracing. For (3), please refer to https://www.tensorflow.org/guide/function#controlling_retracing and https://www.tensorflow.org/api_docs/python/tf/function for  more details.\n",
            "76.69% 확률로 부정 리뷰입니다.\n"
          ]
        }
      ]
    },
    {
      "cell_type": "code",
      "source": [
        "sentiment_predict(pos1)"
      ],
      "metadata": {
        "colab": {
          "base_uri": "https://localhost:8080/"
        },
        "outputId": "b67a6dd2-56cd-4a81-f950-ac1bd8956bc9",
        "id": "mEWkm91Halyi"
      },
      "execution_count": 28,
      "outputs": [
        {
          "output_type": "stream",
          "name": "stdout",
          "text": [
            "73.78% 확률로 긍정 리뷰입니다.\n"
          ]
        }
      ]
    },
    {
      "cell_type": "markdown",
      "source": [
        "##4\n",
        "레이블스무딩 조정"
      ],
      "metadata": {
        "id": "8litxPB3dcVE"
      }
    },
    {
      "cell_type": "code",
      "source": [
        "embedding_dim = 100\n",
        "hidden_units = 128\n",
        "\n",
        "\n",
        "import tensorflow as tf\n",
        "initializer = tf.keras.initializers.GlorotNormal()\n",
        "\n",
        "\n",
        "model = Sequential()\n",
        "model.add(Embedding(vocab_size, embedding_dim))\n",
        "model.add(GRU(hidden_units)) \n",
        "model.add(Dense(1, activation='sigmoid'))\n",
        "\n",
        "es = EarlyStopping(monitor='val_loss', mode='min', verbose=1, patience=4) \n",
        "mc = ModelCheckpoint('GRU_model.h5', monitor='val_acc', mode='max', verbose=1, save_best_only=True) \n",
        "\n",
        "model.compile(optimizer='rmsprop', loss=tf.keras.losses.BinaryCrossentropy(label_smoothing=0.2), metrics=['acc']) ##label_smoothing\n",
        "history = model.fit(X_train, y_train, epochs=15, callbacks=[es, mc], batch_size=32, validation_split=0.2)  ##배차사이즈 "
      ],
      "metadata": {
        "colab": {
          "base_uri": "https://localhost:8080/"
        },
        "outputId": "726bc497-7e26-4217-bfea-7dc6c1283e43",
        "id": "bnQ5wj3CdcVF"
      },
      "execution_count": 30,
      "outputs": [
        {
          "output_type": "stream",
          "name": "stdout",
          "text": [
            "Epoch 1/15\n",
            "624/625 [============================>.] - ETA: 0s - loss: 0.5512 - acc: 0.7832\n",
            "Epoch 1: val_acc improved from -inf to 0.86040, saving model to GRU_model.h5\n",
            "625/625 [==============================] - 16s 23ms/step - loss: 0.5511 - acc: 0.7832 - val_loss: 0.4878 - val_acc: 0.8604\n",
            "Epoch 2/15\n",
            "624/625 [============================>.] - ETA: 0s - loss: 0.4559 - acc: 0.8922\n",
            "Epoch 2: val_acc improved from 0.86040 to 0.89840, saving model to GRU_model.h5\n",
            "625/625 [==============================] - 14s 22ms/step - loss: 0.4559 - acc: 0.8923 - val_loss: 0.4515 - val_acc: 0.8984\n",
            "Epoch 3/15\n",
            "624/625 [============================>.] - ETA: 0s - loss: 0.4172 - acc: 0.9242\n",
            "Epoch 3: val_acc improved from 0.89840 to 0.90500, saving model to GRU_model.h5\n",
            "625/625 [==============================] - 14s 22ms/step - loss: 0.4172 - acc: 0.9243 - val_loss: 0.4368 - val_acc: 0.9050\n",
            "Epoch 4/15\n",
            "624/625 [============================>.] - ETA: 0s - loss: 0.3942 - acc: 0.9449\n",
            "Epoch 4: val_acc did not improve from 0.90500\n",
            "625/625 [==============================] - 14s 22ms/step - loss: 0.3942 - acc: 0.9449 - val_loss: 0.4422 - val_acc: 0.9034\n",
            "Epoch 5/15\n",
            "625/625 [==============================] - ETA: 0s - loss: 0.3808 - acc: 0.9562\n",
            "Epoch 5: val_acc did not improve from 0.90500\n",
            "625/625 [==============================] - 14s 22ms/step - loss: 0.3808 - acc: 0.9562 - val_loss: 0.4513 - val_acc: 0.8992\n",
            "Epoch 6/15\n",
            "625/625 [==============================] - ETA: 0s - loss: 0.3704 - acc: 0.9649\n",
            "Epoch 6: val_acc did not improve from 0.90500\n",
            "625/625 [==============================] - 14s 22ms/step - loss: 0.3704 - acc: 0.9649 - val_loss: 0.4610 - val_acc: 0.8966\n",
            "Epoch 7/15\n",
            "625/625 [==============================] - ETA: 0s - loss: 0.3617 - acc: 0.9718\n",
            "Epoch 7: val_acc did not improve from 0.90500\n",
            "625/625 [==============================] - 14s 22ms/step - loss: 0.3617 - acc: 0.9718 - val_loss: 0.4623 - val_acc: 0.8938\n",
            "Epoch 7: early stopping\n"
          ]
        }
      ]
    },
    {
      "cell_type": "code",
      "source": [
        "#  훈련 과정에서 검증 데이터의 정확도가 가장 높았을 때 저장된 모델인 'GRU_model.h5'를 로드\n",
        "\n",
        "loaded_model = load_model('GRU_model.h5')\n",
        "print(\"\\n 테스트 정확도: %.4f\" % (loaded_model.evaluate(X_test, y_test)[1]))"
      ],
      "metadata": {
        "colab": {
          "base_uri": "https://localhost:8080/"
        },
        "id": "U6-qQjf2dcVG",
        "outputId": "be39f251-d8af-4fc0-91bb-b28325883021"
      },
      "execution_count": 31,
      "outputs": [
        {
          "output_type": "stream",
          "name": "stdout",
          "text": [
            "782/782 [==============================] - 7s 9ms/step - loss: 0.4401 - acc: 0.9022\n",
            "\n",
            " 테스트 정확도: 0.9022\n"
          ]
        }
      ]
    },
    {
      "cell_type": "code",
      "source": [
        "sentiment_predict(neg1)"
      ],
      "metadata": {
        "colab": {
          "base_uri": "https://localhost:8080/"
        },
        "id": "vQ5__BoEdcVG",
        "outputId": "6294c56e-1638-4dd7-ec98-da8c0e46b2a8"
      },
      "execution_count": 32,
      "outputs": [
        {
          "output_type": "stream",
          "name": "stdout",
          "text": [
            "WARNING:tensorflow:6 out of the last 11 calls to <function Model.make_predict_function.<locals>.predict_function at 0x7f9ccef37d40> triggered tf.function retracing. Tracing is expensive and the excessive number of tracings could be due to (1) creating @tf.function repeatedly in a loop, (2) passing tensors with different shapes, (3) passing Python objects instead of tensors. For (1), please define your @tf.function outside of the loop. For (2), @tf.function has experimental_relax_shapes=True option that relaxes argument shapes that can avoid unnecessary retracing. For (3), please refer to https://www.tensorflow.org/guide/function#controlling_retracing and https://www.tensorflow.org/api_docs/python/tf/function for  more details.\n",
            "85.07% 확률로 부정 리뷰입니다.\n"
          ]
        }
      ]
    },
    {
      "cell_type": "code",
      "source": [
        "sentiment_predict(pos1)"
      ],
      "metadata": {
        "colab": {
          "base_uri": "https://localhost:8080/"
        },
        "id": "q-fVbyqZdcVG",
        "outputId": "49889717-7fce-4daa-d79e-59aeb84aaa6f"
      },
      "execution_count": 33,
      "outputs": [
        {
          "output_type": "stream",
          "name": "stdout",
          "text": [
            "91.19% 확률로 긍정 리뷰입니다.\n"
          ]
        }
      ]
    },
    {
      "cell_type": "markdown",
      "source": [
        "ㄱㅇㄷ!!!!!!!!!!!!!!"
      ],
      "metadata": {
        "id": "h_0lm_XQf9CO"
      }
    },
    {
      "cell_type": "markdown",
      "source": [
        "##5\n",
        "드랍아웃이랑 라벨스무딩 같이 했는데 구림. "
      ],
      "metadata": {
        "id": "Qpt6KsHWgAC1"
      }
    },
    {
      "cell_type": "code",
      "source": [
        "embedding_dim = 100\n",
        "hidden_units = 128\n",
        "\n",
        "#드롭아웃 0.2 \n",
        "from keras.layers import Dropout\n",
        "model = Sequential()\n",
        "model.add(Embedding(vocab_size, embedding_dim))\n",
        "model.add(Dropout(0.2)) \n",
        "model.add(GRU(hidden_units)) \n",
        "model.add(Dropout(0.2)) \n",
        "model.add(Dense(1, activation='sigmoid'))\n",
        "model.add(Dropout(0.2)) \n",
        "\n",
        "es = EarlyStopping(monitor='val_loss', mode='min', verbose=1, patience=4) \n",
        "mc = ModelCheckpoint('GRU_model.h5', monitor='val_acc', mode='max', verbose=1, save_best_only=True) \n",
        "\n",
        "model.compile(optimizer='rmsprop', loss=tf.keras.losses.BinaryCrossentropy(label_smoothing=0.2), metrics=['acc']) ##label_smoothing\n",
        "history = model.fit(X_train, y_train, epochs=15, callbacks=[es, mc], batch_size=32, validation_split=0.2)  ##배차사이즈 "
      ],
      "metadata": {
        "colab": {
          "base_uri": "https://localhost:8080/"
        },
        "outputId": "905c0730-274b-4599-ea4c-a60debcae8ea",
        "id": "eXlNPflYgAC2"
      },
      "execution_count": 40,
      "outputs": [
        {
          "output_type": "stream",
          "name": "stdout",
          "text": [
            "Epoch 1/15\n",
            "625/625 [==============================] - ETA: 0s - loss: 2.0222 - acc: 0.7013\n",
            "Epoch 1: val_acc improved from -inf to 0.83520, saving model to GRU_model.h5\n",
            "625/625 [==============================] - 16s 23ms/step - loss: 2.0222 - acc: 0.7013 - val_loss: 0.5340 - val_acc: 0.8352\n",
            "Epoch 2/15\n",
            "625/625 [==============================] - ETA: 0s - loss: 1.9451 - acc: 0.7957\n",
            "Epoch 2: val_acc improved from 0.83520 to 0.84280, saving model to GRU_model.h5\n",
            "625/625 [==============================] - 14s 22ms/step - loss: 1.9451 - acc: 0.7957 - val_loss: 0.5286 - val_acc: 0.8428\n",
            "Epoch 3/15\n",
            "624/625 [============================>.] - ETA: 0s - loss: 1.9268 - acc: 0.8223\n",
            "Epoch 3: val_acc improved from 0.84280 to 0.87980, saving model to GRU_model.h5\n",
            "625/625 [==============================] - 14s 22ms/step - loss: 1.9252 - acc: 0.8225 - val_loss: 0.4962 - val_acc: 0.8798\n",
            "Epoch 4/15\n",
            "624/625 [============================>.] - ETA: 0s - loss: 1.9644 - acc: 0.8352\n",
            "Epoch 4: val_acc improved from 0.87980 to 0.89780, saving model to GRU_model.h5\n",
            "625/625 [==============================] - 14s 22ms/step - loss: 1.9648 - acc: 0.8352 - val_loss: 0.4753 - val_acc: 0.8978\n",
            "Epoch 5/15\n",
            "625/625 [==============================] - ETA: 0s - loss: 1.8532 - acc: 0.8508\n",
            "Epoch 5: val_acc did not improve from 0.89780\n",
            "625/625 [==============================] - 14s 22ms/step - loss: 1.8532 - acc: 0.8508 - val_loss: 0.4786 - val_acc: 0.8954\n",
            "Epoch 6/15\n",
            "624/625 [============================>.] - ETA: 0s - loss: 1.8343 - acc: 0.8613\n",
            "Epoch 6: val_acc did not improve from 0.89780\n",
            "625/625 [==============================] - 14s 22ms/step - loss: 1.8328 - acc: 0.8615 - val_loss: 0.4918 - val_acc: 0.8914\n",
            "Epoch 7/15\n",
            "625/625 [==============================] - ETA: 0s - loss: 1.8482 - acc: 0.8645\n",
            "Epoch 7: val_acc improved from 0.89780 to 0.89960, saving model to GRU_model.h5\n",
            "625/625 [==============================] - 14s 22ms/step - loss: 1.8482 - acc: 0.8645 - val_loss: 0.4777 - val_acc: 0.8996\n",
            "Epoch 8/15\n",
            "623/625 [============================>.] - ETA: 0s - loss: 1.8388 - acc: 0.8708\n",
            "Epoch 8: val_acc did not improve from 0.89960\n",
            "625/625 [==============================] - 14s 22ms/step - loss: 1.8385 - acc: 0.8709 - val_loss: 0.4982 - val_acc: 0.8870\n",
            "Epoch 8: early stopping\n"
          ]
        }
      ]
    },
    {
      "cell_type": "code",
      "source": [
        "#  훈련 과정에서 검증 데이터의 정확도가 가장 높았을 때 저장된 모델인 'GRU_model.h5'를 로드\n",
        "\n",
        "loaded_model = load_model('GRU_model.h5')\n",
        "print(\"\\n 테스트 정확도: %.4f\" % (loaded_model.evaluate(X_test, y_test)[1]))"
      ],
      "metadata": {
        "colab": {
          "base_uri": "https://localhost:8080/"
        },
        "outputId": "acb84de1-578b-4e78-8ce0-be40a9367ee0",
        "id": "xYPgZ_rDgAC3"
      },
      "execution_count": 41,
      "outputs": [
        {
          "output_type": "stream",
          "name": "stdout",
          "text": [
            "782/782 [==============================] - 7s 9ms/step - loss: 0.4824 - acc: 0.8938\n",
            "\n",
            " 테스트 정확도: 0.8938\n"
          ]
        }
      ]
    },
    {
      "cell_type": "code",
      "source": [
        "sentiment_predict(neg1)"
      ],
      "metadata": {
        "colab": {
          "base_uri": "https://localhost:8080/"
        },
        "outputId": "d7afdf3d-c2f8-4f1c-fe47-7beb9310ddfa",
        "id": "farJiVj6gAC4"
      },
      "execution_count": 42,
      "outputs": [
        {
          "output_type": "stream",
          "name": "stdout",
          "text": [
            "91.55% 확률로 부정 리뷰입니다.\n"
          ]
        }
      ]
    },
    {
      "cell_type": "code",
      "source": [
        "sentiment_predict(pos1)"
      ],
      "metadata": {
        "colab": {
          "base_uri": "https://localhost:8080/"
        },
        "outputId": "25827efd-acc8-404d-c991-afe6f617a3cd",
        "id": "fJu9nMkQgAC4"
      },
      "execution_count": 43,
      "outputs": [
        {
          "output_type": "stream",
          "name": "stdout",
          "text": [
            "69.15% 확률로 긍정 리뷰입니다.\n"
          ]
        }
      ]
    },
    {
      "cell_type": "markdown",
      "source": [
        "얘도 높아지긴 함~!!"
      ],
      "metadata": {
        "id": "1gkul0EagAC4"
      }
    },
    {
      "cell_type": "markdown",
      "source": [
        "##6\n",
        "- 드랍아웃"
      ],
      "metadata": {
        "id": "wCG3aIjDg2hC"
      }
    },
    {
      "cell_type": "code",
      "source": [
        "embedding_dim = 100\n",
        "hidden_units = 128\n",
        "\n",
        "#드롭아웃 0.2 \n",
        "from keras.layers import Dropout\n",
        "model = Sequential()\n",
        "model.add(Embedding(vocab_size, embedding_dim))\n",
        "model.add(Dropout(0.2)) \n",
        "model.add(GRU(hidden_units)) \n",
        "model.add(Dropout(0.2)) \n",
        "model.add(Dense(1, activation='sigmoid'))\n",
        "model.add(Dropout(0.2)) \n",
        "\n",
        "es = EarlyStopping(monitor='val_loss', mode='min', verbose=1, patience=4) \n",
        "mc = ModelCheckpoint('GRU_model.h5', monitor='val_acc', mode='max', verbose=1, save_best_only=True) \n",
        "\n",
        "model.compile(optimizer='rmsprop',  loss='binary_crossentropy', metrics=['acc']) \n",
        "history = model.fit(X_train, y_train, epochs=15, callbacks=[es, mc], batch_size=32, validation_split=0.2)  ##배차사이즈 "
      ],
      "metadata": {
        "colab": {
          "base_uri": "https://localhost:8080/"
        },
        "outputId": "28d16c86-346c-4052-a6ec-d8d20ff21dd4",
        "id": "d9Sh5Awog2hF"
      },
      "execution_count": 45,
      "outputs": [
        {
          "output_type": "stream",
          "name": "stdout",
          "text": [
            "Epoch 1/15\n",
            "623/625 [============================>.] - ETA: 0s - loss: 2.2378 - acc: 0.6892\n",
            "Epoch 1: val_acc improved from -inf to 0.80720, saving model to GRU_model.h5\n",
            "625/625 [==============================] - 16s 23ms/step - loss: 2.2353 - acc: 0.6897 - val_loss: 0.4390 - val_acc: 0.8072\n",
            "Epoch 2/15\n",
            "625/625 [==============================] - ETA: 0s - loss: 1.8332 - acc: 0.7908\n",
            "Epoch 2: val_acc improved from 0.80720 to 0.86860, saving model to GRU_model.h5\n",
            "625/625 [==============================] - 14s 22ms/step - loss: 1.8332 - acc: 0.7908 - val_loss: 0.3423 - val_acc: 0.8686\n",
            "Epoch 3/15\n",
            "624/625 [============================>.] - ETA: 0s - loss: 1.8261 - acc: 0.8197\n",
            "Epoch 3: val_acc improved from 0.86860 to 0.87800, saving model to GRU_model.h5\n",
            "625/625 [==============================] - 14s 22ms/step - loss: 1.8272 - acc: 0.8197 - val_loss: 0.3214 - val_acc: 0.8780\n",
            "Epoch 4/15\n",
            "624/625 [============================>.] - ETA: 0s - loss: 1.7828 - acc: 0.8368\n",
            "Epoch 4: val_acc improved from 0.87800 to 0.89000, saving model to GRU_model.h5\n",
            "625/625 [==============================] - 14s 22ms/step - loss: 1.7840 - acc: 0.8367 - val_loss: 0.3178 - val_acc: 0.8900\n",
            "Epoch 5/15\n",
            "625/625 [==============================] - ETA: 0s - loss: 1.7103 - acc: 0.8472\n",
            "Epoch 5: val_acc improved from 0.89000 to 0.90340, saving model to GRU_model.h5\n",
            "625/625 [==============================] - 14s 22ms/step - loss: 1.7103 - acc: 0.8472 - val_loss: 0.2518 - val_acc: 0.9034\n",
            "Epoch 6/15\n",
            "624/625 [============================>.] - ETA: 0s - loss: 1.7266 - acc: 0.8514\n",
            "Epoch 6: val_acc did not improve from 0.90340\n",
            "625/625 [==============================] - 14s 22ms/step - loss: 1.7280 - acc: 0.8513 - val_loss: 0.3210 - val_acc: 0.8782\n",
            "Epoch 7/15\n",
            "625/625 [==============================] - ETA: 0s - loss: 1.6704 - acc: 0.8617\n",
            "Epoch 7: val_acc did not improve from 0.90340\n",
            "625/625 [==============================] - 14s 22ms/step - loss: 1.6704 - acc: 0.8617 - val_loss: 0.2938 - val_acc: 0.8880\n",
            "Epoch 8/15\n",
            "624/625 [============================>.] - ETA: 0s - loss: 1.6345 - acc: 0.8670\n",
            "Epoch 8: val_acc did not improve from 0.90340\n",
            "625/625 [==============================] - 14s 22ms/step - loss: 1.6344 - acc: 0.8670 - val_loss: 0.2946 - val_acc: 0.8894\n",
            "Epoch 9/15\n",
            "625/625 [==============================] - ETA: 0s - loss: 1.6798 - acc: 0.8677\n",
            "Epoch 9: val_acc did not improve from 0.90340\n",
            "625/625 [==============================] - 14s 22ms/step - loss: 1.6798 - acc: 0.8677 - val_loss: 0.3170 - val_acc: 0.8810\n",
            "Epoch 9: early stopping\n"
          ]
        }
      ]
    },
    {
      "cell_type": "code",
      "source": [
        "#  훈련 과정에서 검증 데이터의 정확도가 가장 높았을 때 저장된 모델인 'GRU_model.h5'를 로드\n",
        "\n",
        "loaded_model = load_model('GRU_model.h5')\n",
        "print(\"\\n 테스트 정확도: %.4f\" % (loaded_model.evaluate(X_test, y_test)[1]))"
      ],
      "metadata": {
        "colab": {
          "base_uri": "https://localhost:8080/"
        },
        "outputId": "17e362cb-f3e3-43d0-a305-c6b5603df4ab",
        "id": "i4B24yaTg2hH"
      },
      "execution_count": 46,
      "outputs": [
        {
          "output_type": "stream",
          "name": "stdout",
          "text": [
            "782/782 [==============================] - 7s 9ms/step - loss: 0.2530 - acc: 0.9014\n",
            "\n",
            " 테스트 정확도: 0.9014\n"
          ]
        }
      ]
    },
    {
      "cell_type": "code",
      "source": [
        "sentiment_predict(neg1)"
      ],
      "metadata": {
        "colab": {
          "base_uri": "https://localhost:8080/"
        },
        "outputId": "02e458fb-54e9-43a2-90e7-6eca3e15d98b",
        "id": "vUHa21DRg2hH"
      },
      "execution_count": 47,
      "outputs": [
        {
          "output_type": "stream",
          "name": "stdout",
          "text": [
            "97.03% 확률로 부정 리뷰입니다.\n"
          ]
        }
      ]
    },
    {
      "cell_type": "code",
      "source": [
        "sentiment_predict(pos1)"
      ],
      "metadata": {
        "colab": {
          "base_uri": "https://localhost:8080/"
        },
        "outputId": "e91ad6ce-b6b2-4aa5-ea73-c2cfff7eec2f",
        "id": "d1kIm35vg2hH"
      },
      "execution_count": 48,
      "outputs": [
        {
          "output_type": "stream",
          "name": "stdout",
          "text": [
            "91.18% 확률로 긍정 리뷰입니다.\n"
          ]
        }
      ]
    },
    {
      "cell_type": "markdown",
      "source": [
        "ㄱㅇㄷ!!!!!!!\n"
      ],
      "metadata": {
        "id": "QeFHlZwSg2hI"
      }
    },
    {
      "cell_type": "markdown",
      "source": [
        "##7\n",
        "- 드랍아웃 0.1"
      ],
      "metadata": {
        "id": "B79CbV7Vs3Es"
      }
    },
    {
      "cell_type": "code",
      "source": [
        "embedding_dim = 100\n",
        "hidden_units = 128\n",
        "\n",
        "#드롭아웃 0.2 \n",
        "from keras.layers import Dropout\n",
        "model = Sequential()\n",
        "model.add(Embedding(vocab_size, embedding_dim))\n",
        "model.add(Dropout(0.1)) \n",
        "model.add(GRU(hidden_units)) \n",
        "model.add(Dropout(0.1)) \n",
        "model.add(Dense(1, activation='sigmoid'))\n",
        "model.add(Dropout(0.1)) \n",
        "\n",
        "es = EarlyStopping(monitor='val_loss', mode='min', verbose=1, patience=4) \n",
        "mc = ModelCheckpoint('GRU_model.h5', monitor='val_acc', mode='max', verbose=1, save_best_only=True) \n",
        "\n",
        "model.compile(optimizer='rmsprop',  loss='binary_crossentropy', metrics=['acc']) \n",
        "history = model.fit(X_train, y_train, epochs=15, callbacks=[es, mc], batch_size=32, validation_split=0.2)  ##배차사이즈 "
      ],
      "metadata": {
        "colab": {
          "base_uri": "https://localhost:8080/"
        },
        "outputId": "e34f2bb1-3681-41b0-88e7-e5b1d579b4df",
        "id": "eGmOXhGos3Ez"
      },
      "execution_count": 49,
      "outputs": [
        {
          "output_type": "stream",
          "name": "stdout",
          "text": [
            "Epoch 1/15\n",
            "623/625 [============================>.] - ETA: 0s - loss: 1.2461 - acc: 0.7382\n",
            "Epoch 1: val_acc improved from -inf to 0.86060, saving model to GRU_model.h5\n",
            "625/625 [==============================] - 30s 26ms/step - loss: 1.2439 - acc: 0.7386 - val_loss: 0.3411 - val_acc: 0.8606\n",
            "Epoch 2/15\n",
            "623/625 [============================>.] - ETA: 0s - loss: 1.0358 - acc: 0.8412\n",
            "Epoch 2: val_acc improved from 0.86060 to 0.89020, saving model to GRU_model.h5\n",
            "625/625 [==============================] - 14s 23ms/step - loss: 1.0352 - acc: 0.8411 - val_loss: 0.3233 - val_acc: 0.8902\n",
            "Epoch 3/15\n",
            "625/625 [==============================] - ETA: 0s - loss: 1.0190 - acc: 0.8676\n",
            "Epoch 3: val_acc improved from 0.89020 to 0.90180, saving model to GRU_model.h5\n",
            "625/625 [==============================] - 14s 23ms/step - loss: 1.0190 - acc: 0.8676 - val_loss: 0.2666 - val_acc: 0.9018\n",
            "Epoch 4/15\n",
            "625/625 [==============================] - ETA: 0s - loss: 0.9714 - acc: 0.8867\n",
            "Epoch 4: val_acc did not improve from 0.90180\n",
            "625/625 [==============================] - 14s 22ms/step - loss: 0.9714 - acc: 0.8867 - val_loss: 0.2562 - val_acc: 0.9000\n",
            "Epoch 5/15\n",
            "624/625 [============================>.] - ETA: 0s - loss: 0.9000 - acc: 0.9020\n",
            "Epoch 5: val_acc did not improve from 0.90180\n",
            "625/625 [==============================] - 14s 22ms/step - loss: 0.9019 - acc: 0.9019 - val_loss: 0.2726 - val_acc: 0.8938\n",
            "Epoch 6/15\n",
            "625/625 [==============================] - ETA: 0s - loss: 0.9257 - acc: 0.9071\n",
            "Epoch 6: val_acc did not improve from 0.90180\n",
            "625/625 [==============================] - 14s 22ms/step - loss: 0.9257 - acc: 0.9071 - val_loss: 0.2558 - val_acc: 0.8950\n",
            "Epoch 7/15\n",
            "625/625 [==============================] - ETA: 0s - loss: 0.8795 - acc: 0.9151\n",
            "Epoch 7: val_acc did not improve from 0.90180\n",
            "625/625 [==============================] - 14s 23ms/step - loss: 0.8795 - acc: 0.9151 - val_loss: 0.2805 - val_acc: 0.8896\n",
            "Epoch 8/15\n",
            "625/625 [==============================] - ETA: 0s - loss: 0.8873 - acc: 0.9186\n",
            "Epoch 8: val_acc did not improve from 0.90180\n",
            "625/625 [==============================] - 14s 22ms/step - loss: 0.8873 - acc: 0.9186 - val_loss: 0.3136 - val_acc: 0.8868\n",
            "Epoch 9/15\n",
            "624/625 [============================>.] - ETA: 0s - loss: 0.8806 - acc: 0.9241\n",
            "Epoch 9: val_acc did not improve from 0.90180\n",
            "625/625 [==============================] - 14s 22ms/step - loss: 0.8819 - acc: 0.9240 - val_loss: 0.2937 - val_acc: 0.8858\n",
            "Epoch 10/15\n",
            "623/625 [============================>.] - ETA: 0s - loss: 0.8997 - acc: 0.9272\n",
            "Epoch 10: val_acc did not improve from 0.90180\n",
            "625/625 [==============================] - 14s 22ms/step - loss: 0.8985 - acc: 0.9273 - val_loss: 0.3374 - val_acc: 0.8840\n",
            "Epoch 10: early stopping\n"
          ]
        }
      ]
    },
    {
      "cell_type": "code",
      "source": [
        "#  훈련 과정에서 검증 데이터의 정확도가 가장 높았을 때 저장된 모델인 'GRU_model.h5'를 로드\n",
        "\n",
        "loaded_model = load_model('GRU_model.h5')\n",
        "print(\"\\n 테스트 정확도: %.4f\" % (loaded_model.evaluate(X_test, y_test)[1]))"
      ],
      "metadata": {
        "colab": {
          "base_uri": "https://localhost:8080/"
        },
        "outputId": "4e576648-a9e1-44c3-cf39-c2f4f0b93279",
        "id": "7zoCTRwhs3E1"
      },
      "execution_count": 50,
      "outputs": [
        {
          "output_type": "stream",
          "name": "stdout",
          "text": [
            "782/782 [==============================] - 7s 9ms/step - loss: 0.2785 - acc: 0.8923\n",
            "\n",
            " 테스트 정확도: 0.8923\n"
          ]
        }
      ]
    },
    {
      "cell_type": "code",
      "source": [
        "sentiment_predict(neg1)"
      ],
      "metadata": {
        "colab": {
          "base_uri": "https://localhost:8080/"
        },
        "outputId": "bbf367b8-8099-477e-9d45-2b664af8d32b",
        "id": "ScIv61lYs3E2"
      },
      "execution_count": 51,
      "outputs": [
        {
          "output_type": "stream",
          "name": "stdout",
          "text": [
            "97.24% 확률로 부정 리뷰입니다.\n"
          ]
        }
      ]
    },
    {
      "cell_type": "code",
      "source": [
        "sentiment_predict(pos1)"
      ],
      "metadata": {
        "colab": {
          "base_uri": "https://localhost:8080/"
        },
        "outputId": "e4038d91-afb3-4b77-9831-3588ff62a3fa",
        "id": "YHONdgLUs3E2"
      },
      "execution_count": 52,
      "outputs": [
        {
          "output_type": "stream",
          "name": "stdout",
          "text": [
            "90.59% 확률로 긍정 리뷰입니다.\n"
          ]
        }
      ]
    },
    {
      "cell_type": "markdown",
      "source": [
        "크게 차이 안 나네.\n"
      ],
      "metadata": {
        "id": "YIOVL3_Ys3E3"
      }
    }
  ]
}