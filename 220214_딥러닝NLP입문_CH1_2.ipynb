{
  "nbformat": 4,
  "nbformat_minor": 0,
  "metadata": {
    "colab": {
      "name": "220214_딥러닝NLP입문_CH1-2.ipynb",
      "provenance": [],
      "collapsed_sections": [],
      "authorship_tag": "ABX9TyPjWYrKXbgsEfb7W7isYplc",
      "include_colab_link": true
    },
    "kernelspec": {
      "name": "python3",
      "display_name": "Python 3"
    },
    "language_info": {
      "name": "python"
    }
  },
  "cells": [
    {
      "cell_type": "markdown",
      "metadata": {
        "id": "view-in-github",
        "colab_type": "text"
      },
      "source": [
        "<a href=\"https://colab.research.google.com/github/Nayeong127/meotjin_yeongna/blob/main/220214_%EB%94%A5%EB%9F%AC%EB%8B%9DNLP%EC%9E%85%EB%AC%B8_CH1_2.ipynb\" target=\"_parent\"><img src=\"https://colab.research.google.com/assets/colab-badge.svg\" alt=\"Open In Colab\"/></a>"
      ]
    },
    {
      "cell_type": "markdown",
      "source": [
        "🏓 Q\n",
        "\n",
        "❤️‍🔥 honey_tip\n",
        "\n",
        "📣 more_research\n",
        "\n",
        "🎃 my thoughts"
      ],
      "metadata": {
        "id": "tgIOtYlSXes0"
      }
    },
    {
      "cell_type": "markdown",
      "source": [
        "#**0.1 자연어 처리(natural language processing) 준비하기**\n",
        "\n",
        "- 자연어(natural language): 우리가 일상 생활에서 사용하는 언어\n",
        "- 자연어 처리(natural language processing):자연어의 의미를 분석하여 컴퓨터가 처리할 수 있도록 하는 일 (기계에게 인간의 언어를 이해시킨다~)\n",
        "  - 음성 인식, 내용 요약, 번역, 사용자의 감성 분석, 텍스트 분류 작업(스팸 메일 분류, 뉴스 기사 카테고리 분류), 질의 응답 시스템, 챗봇과 같은 곳에서 사용됨\n",
        "\n",
        "이번 챕터는 자연어 처리 공부를 시작하기에 앞서 기본적인 셋팅 방법과 앞으로 공부하게 될 머신 러닝에 대한 전체적인 워크플로우에 대해서 다룹니다."
      ],
      "metadata": {
        "id": "ss1LStyq1n6e"
      }
    },
    {
      "cell_type": "markdown",
      "source": [
        "## **1) 아나콘다(Anaconda)와 코랩(Colab)**\n",
        "\n",
        "아나콘다: \n",
        "\n",
        "머신 러닝 실습을 하기 위해서는 많은 패키지가 필요한 이를 일일이이 설치하는 것보다는 필요한 패키지들을 모아놓은 파이썬 배포판 '아나콘다'를 설치하는 것을 권장~! \n"
      ],
      "metadata": {
        "id": "anh9VnI62jBX"
      }
    },
    {
      "cell_type": "markdown",
      "source": [
        "\n",
        "Colab:\n",
        "장점1)\n",
        "\n",
        "텐서플로우는 기본적으로 64비트 플랫폼만을 지원하므로 32비트 환경에서는 딥 러닝 실습 환경을 구축하기에는 많은 애로 사항이 있습니다. 또는 개인의 컴퓨터 사양이나 다른 이유로 아나콘다나 여러 패키지 설치가 어려운 경우도 있을 것입니다. \n",
        "\n",
        "----\n",
        "📣\n",
        "\n",
        "32비트는 컴퓨터 CPU(중앙 처리 장치)가 데이터를 처리할 때 사용하는 ‘레지스터’의 크기를 말한다. 레지스터는 극히 소량의 데이터나 처리 중인 중간 결과를 일시적으로 기억해 두는 고속의 전용 영역을 말한다.\n",
        "\n",
        "32비트보다 64비트가 속도가 빠르고 많은 메모리 사용이 가능하다. \n",
        "\n",
        "---\n",
        "\n",
        "\n",
        "장점2) 무료로 GPU 사용하기\n",
        "\n",
        "❤️‍🔥딥 러닝에서는 CPU보다는 GPU를 사용!!!!❤️‍🔥\n",
        "Colab- GPU를 무료로 사용 可\n",
        "GPU를 사용하지 않고 실습을 진행하면 딥 러닝 모델을 학습하는 시간이 지나치게 소요될 수 있습니다."
      ],
      "metadata": {
        "id": "AmK3D2bb70wA"
      }
    },
    {
      "cell_type": "markdown",
      "source": [
        "## **2) 필요 프레임워크와 라이브러리**\n",
        "\n",
        "아나콘다를 설치했다면 기본적으로 Numpy, Pandas, Jupyter notebook, scikit-learn, matplotlib, seaborn, nltk 등이 이미 설치되어져 있습니다. 그래서 아나콘다에 포함되어있지 않은 tensorflow, keras, gensim과 같은 패키지만 별도로 pip를 통해 설치합니다."
      ],
      "metadata": {
        "id": "v5NceHzm74T-"
      }
    },
    {
      "cell_type": "markdown",
      "source": [
        "### **1. 텐서플로우(Tensorflow)**\n",
        "\n",
        "머신 러닝과 딥 러닝을 직관적이고 손쉽게 할 수 있도록 설계됨.\n",
        "\n",
        "### **2. 케라스(Keras)**\n",
        "\n",
        "- 딥 러닝 프레임워크인 텐서플로우에 대한 추상화 된 API를 제공\n",
        "- 백엔드로 텐서플로우를 사용하며, 좀 더 쉽게 딥 러닝을 사용할 수 있\n",
        "  - 텐서플로우 코드를 훨씬 간단하게 작성할 수 있습니다.\n",
        "- tf.keras 쓰기 권장~"
      ],
      "metadata": {
        "id": "TMz88eh87-H3"
      }
    },
    {
      "cell_type": "markdown",
      "source": [
        "### **3. 젠심(Gensim)**\n",
        "\n",
        "머신 러닝을 사용하여 토픽 모델링과 자연어 처리 등을 수행할 수 있게 해주는 오픈 소스 라이브러리입니다. Word2Vec 등 다양한 모델들~"
      ],
      "metadata": {
        "id": "mws6m-1EBwIX"
      }
    },
    {
      "cell_type": "markdown",
      "source": [
        "### **4. 사이킷런(Scikit-learn)**\n",
        "\n",
        "- 파이썬 머신러닝 라이브러리입니다. \n",
        "- 나이브 베이즈 분류, 서포트 벡터 머신 등 다양한 머신 러닝 모듈을 불러올 수 있습니다. \n",
        "- 사이킷런에는 머신러닝을 연습하기 위한 아이리스 데이터, 당뇨병 데이터 등 자체 데이터 또한 제공하고 있습니다. "
      ],
      "metadata": {
        "id": "F4sCIwCDB_En"
      }
    },
    {
      "cell_type": "markdown",
      "source": [
        "## **3) 자연어 처리를 위한 NLTK와 KoNLPy 설치하기**\n",
        "\n",
        "전처리 실습에 필요한 기본적인 자연어 패키지들을 소개합니다."
      ],
      "metadata": {
        "id": "qCrefAemCeN-"
      }
    },
    {
      "cell_type": "markdown",
      "source": [
        "### **1. NLTK와 NLTK Data 설치**\n",
        "\n",
        "- 자연어 처리를 위한 파이썬 패키지\n",
        "- NLTK의 기능을 제대로 사용하기 위해서는 NLTK Data라는 여러 데이터를 추가적으로 설치해야 합니다. 이를 위해서는 파이썬 코드 내에서 import nltk 이후에 nltk.download()라는 코드를 수행하여 설치합니다.\n",
        "\n",
        "```\n",
        "nltk.download()\n",
        "```\n",
        "\n",
        "해당 코드를 실행 후에 NLTK 실습에 필요한 각종 패키지와 코퍼스를 다운로드할 수 있습니다. 이를 통칭하여 NLTK Data라고 하겠습니다. 만약, NLTK 실습을 수행하던 도중에 에러가 발생한다면 아래의 2번과 3번 가이드를 참고하시기 바랍니다.\n",
        "\n"
      ],
      "metadata": {
        "id": "bhhDdV88C4Vk"
      }
    },
    {
      "cell_type": "markdown",
      "source": [
        "### **2. NLTK Data가 설치되지 않은 경우**\n",
        "\n",
        "NLTK는 각 실습마다 필요한 NLTK Data가 있습니다. 만약 해당 실습에 필요한 NLTK Data가 설치되지 않은 경우에는 코드 실행 시에 아래와 같은 경고문이 나타납니다.\n",
        "\n",
        "\n",
        "\n",
        "```\n",
        "LookupError: \n",
        "**********************************************************************\n",
        "Resource treebank not found.\n",
        "Please use the NLTK Downloader to obtain the resource:\n",
        ">>> import nltk\n",
        ">>> nltk.download('treebank')\n",
        "**********************************************************************\n",
        "\n",
        "```\n",
        "\n",
        "위의 경우에는 NLTK Data 중에서 'treebank' 라는 리소스가 설치되지 않았을 경우입니다. 이 경우 위의 안내처럼 주피터 노트북 또는 iPython 쉘 안에서 동일하게 코드를 수행하면 됩니다.\n",
        "\n",
        "```\n",
        "import nltk\n",
        "nltk.download('treebank')\n",
        "\n",
        "```\n",
        "\n",
        "\n",
        "\n"
      ],
      "metadata": {
        "id": "C2JW03lmDQk5"
      }
    },
    {
      "cell_type": "markdown",
      "source": [
        "### **3. NLTK Data 설치 시 에러가 발생할 경우**\n",
        "nltk_data의 깃허브 사이트의 링크의 packages 디렉토리에서 필요한 nltk_data 파일들을 모두 다운로드하고 정해진 경로에 위치시키기"
      ],
      "metadata": {
        "id": "76mcS7IiDvl2"
      }
    },
    {
      "cell_type": "markdown",
      "source": [
        "### **4. KoNLPy 설치**\n",
        "\n",
        "한국어 자연어 처리를 위한 형태소 분석기 패키지"
      ],
      "metadata": {
        "id": "_0GGMJZHEGnr"
      }
    },
    {
      "cell_type": "markdown",
      "source": [
        "## **4) 판다스(Pandas) and 넘파이(Numpy) and 맷플롭립(Matplotlib)**\n",
        "\n",
        "데이터 분석을 위한 필수 패키지 삼대장-Pandas와 Numpy 그리고 Matplotlib\n"
      ],
      "metadata": {
        "id": "6jmdJY1ZEOEu"
      }
    },
    {
      "cell_type": "markdown",
      "source": [
        "### **1. 판다스(Pandas)**\n",
        "\n",
        "판다스(Pandas)는 파이썬 데이터 처리를 위한 라이브러리입니다. 파이썬을 이용한 데이터 분석과 같은 작업에서 필수 라이브러리로 알려져있습니다. \n",
        "\n",
        "Pandas는 총 세 가지의 데이터 구조를 사용합니다.\n",
        "\n",
        "- 시리즈(Series)\n",
        "- 데이터프레임(DataFrame)\n",
        "- 패널(Panel)\n",
        "\n",
        "이 중 데이터프레임이 가장 많이 사용되며 여기서는 시리즈와 데이터프레임에 대해서 다룹니다."
      ],
      "metadata": {
        "id": "UclW6Tt_ElBd"
      }
    },
    {
      "cell_type": "markdown",
      "source": [
        "**1) 시리즈(Series)**\n",
        "\n",
        "시리즈 클래스는 1차원 배열의 값(values)에 각 값에 대응되는 인덱스(index)를 부여할 수 있는 구조를 갖고 있습니다"
      ],
      "metadata": {
        "id": "hntHC8STFBIa"
      }
    },
    {
      "cell_type": "code",
      "execution_count": null,
      "metadata": {
        "id": "DhtjGZl2zEQ5",
        "colab": {
          "base_uri": "https://localhost:8080/"
        },
        "outputId": "0e3004f0-d897-4592-faf3-626c60d6adb1"
      },
      "outputs": [
        {
          "output_type": "stream",
          "name": "stdout",
          "text": [
            "시리즈 출력 :\n",
            "---------------\n",
            "피자    17000\n",
            "치킨    18000\n",
            "콜라     1000\n",
            "맥주     5000\n",
            "dtype: int64\n"
          ]
        }
      ],
      "source": [
        "import pandas as pd\n",
        "sr = pd.Series([17000, 18000, 1000, 5000],\n",
        "               index=[\"피자\", \"치킨\", \"콜라\", \"맥주\"])\n",
        "print('시리즈 출력 :')\n",
        "print('-'*15)\n",
        "print(sr)"
      ]
    },
    {
      "cell_type": "code",
      "source": [
        "#값(values)과 인덱스(index)를 출력합니다.\n",
        "print('시리즈의 값 : {}'.format(sr.values))\n",
        "print('시리즈의 인덱스 : {}'.format(sr.index))"
      ],
      "metadata": {
        "colab": {
          "base_uri": "https://localhost:8080/"
        },
        "id": "u3flNYKNFC9e",
        "outputId": "39b5f50d-33fe-4b09-c39c-41666320202f"
      },
      "execution_count": null,
      "outputs": [
        {
          "output_type": "stream",
          "name": "stdout",
          "text": [
            "시리즈의 값 : [17000 18000  1000  5000]\n",
            "시리즈의 인덱스 : Index(['피자', '치킨', '콜라', '맥주'], dtype='object')\n"
          ]
        }
      ]
    },
    {
      "cell_type": "markdown",
      "source": [
        "**2) 데이터프레임(DataFrame)**\n",
        "\n",
        "데이터프레임은 2차원 리스트를 매개변수로 전달합니다. 2차원이므로 행방향 인덱스(index)와 열방향 인덱스(column)가 존재합니다. \n",
        "\n",
        "시리즈가 인덱스(index)와 값(values)으로 구성된다면, 데이터프레임은 열(columns)까지 추가되어 열(columns), 인덱스(index), 값(values)으로 구성됩니다."
      ],
      "metadata": {
        "id": "wol6wVNfFLrd"
      }
    },
    {
      "cell_type": "code",
      "source": [
        "values = [[1, 2, 3], [4, 5, 6], [7, 8, 9]]\n",
        "index = ['one', 'two', 'three']\n",
        "columns = ['A', 'B', 'C']\n",
        "\n",
        "df = pd.DataFrame(values, index=index, columns=columns)\n",
        "\n",
        "print('데이터프레임 출력 :')\n",
        "print('-'*18)\n",
        "print(df)"
      ],
      "metadata": {
        "colab": {
          "base_uri": "https://localhost:8080/"
        },
        "id": "3iMLp4yFFI0-",
        "outputId": "d679fa72-7852-469d-a3aa-397e096d465a"
      },
      "execution_count": null,
      "outputs": [
        {
          "output_type": "stream",
          "name": "stdout",
          "text": [
            "데이터프레임 출력 :\n",
            "------------------\n",
            "       A  B  C\n",
            "one    1  2  3\n",
            "two    4  5  6\n",
            "three  7  8  9\n"
          ]
        }
      ]
    },
    {
      "cell_type": "code",
      "source": [
        "#인덱스(index), 값(values), 열(columns)을 각각 출력해보겠습니다.\n",
        "\n",
        "print('데이터프레임의 인덱스 : {}'.format(df.index))\n",
        "print('데이터프레임의 열이름: {}'.format(df.columns))\n",
        "print('데이터프레임의 값 :')\n",
        "print('-'*18)\n",
        "print(df.values)"
      ],
      "metadata": {
        "colab": {
          "base_uri": "https://localhost:8080/"
        },
        "id": "R6vvFvlUF7g1",
        "outputId": "a6066573-967b-464c-8b65-2d0a91aaedd3"
      },
      "execution_count": null,
      "outputs": [
        {
          "output_type": "stream",
          "name": "stdout",
          "text": [
            "데이터프레임의 인덱스 : Index(['one', 'two', 'three'], dtype='object')\n",
            "데이터프레임의 열이름: Index(['A', 'B', 'C'], dtype='object')\n",
            "데이터프레임의 값 :\n",
            "------------------\n",
            "[[1 2 3]\n",
            " [4 5 6]\n",
            " [7 8 9]]\n"
          ]
        }
      ]
    },
    {
      "cell_type": "markdown",
      "source": [
        "**3) 데이터프레임의 생성**\n",
        "\n",
        "데이터프레임은 리스트(List), 시리즈(Series), 딕셔너리(dict), Numpy의 ndarrays, 또 다른 데이터프레임으로부터 생성할 수 있습니다"
      ],
      "metadata": {
        "id": "p2FBhtHZGS6b"
      }
    },
    {
      "cell_type": "code",
      "source": [
        "# 리스트로 생성하기\n",
        "data = [\n",
        "    ['1000', 'Steve', 90.72], \n",
        "    ['1001', 'James', 78.09], \n",
        "    ['1002', 'Doyeon', 98.43], \n",
        "    ['1003', 'Jane', 64.19], \n",
        "    ['1004', 'Pilwoong', 81.30],\n",
        "    ['1005', 'Tony', 99.14],\n",
        "]\n",
        "\n",
        "df = pd.DataFrame(data)\n",
        "print(df)"
      ],
      "metadata": {
        "colab": {
          "base_uri": "https://localhost:8080/"
        },
        "id": "LBv6lp34IoeO",
        "outputId": "87cd79b3-e406-4b4b-c167-22d0a06a2fb7"
      },
      "execution_count": null,
      "outputs": [
        {
          "output_type": "stream",
          "name": "stdout",
          "text": [
            "      0         1      2\n",
            "0  1000     Steve  90.72\n",
            "1  1001     James  78.09\n",
            "2  1002    Doyeon  98.43\n",
            "3  1003      Jane  64.19\n",
            "4  1004  Pilwoong  81.30\n",
            "5  1005      Tony  99.14\n"
          ]
        }
      ]
    },
    {
      "cell_type": "code",
      "source": [
        "# 생성된 데이터프레임에 열(columns)을 지정해줄 수 있습니다. \n",
        "df = pd.DataFrame(data, columns=['학번', '이름', '점수'])\n",
        "print(df)"
      ],
      "metadata": {
        "colab": {
          "base_uri": "https://localhost:8080/"
        },
        "id": "odhhKRROIyPE",
        "outputId": "5baa3949-e3af-4a51-f0d9-e69193bb7480"
      },
      "execution_count": null,
      "outputs": [
        {
          "output_type": "stream",
          "name": "stdout",
          "text": [
            "     학번        이름     점수\n",
            "0  1000     Steve  90.72\n",
            "1  1001     James  78.09\n",
            "2  1002    Doyeon  98.43\n",
            "3  1003      Jane  64.19\n",
            "4  1004  Pilwoong  81.30\n",
            "5  1005      Tony  99.14\n"
          ]
        }
      ]
    },
    {
      "cell_type": "code",
      "source": [
        "#딕셔너리(dictionary)를 통해 데이터프레임을 생성\n",
        "\n",
        "data = {\n",
        "    '학번' : ['1000', '1001', '1002', '1003', '1004', '1005'],\n",
        "    '이름' : [ 'Steve', 'James', 'Doyeon', 'Jane', 'Pilwoong', 'Tony'],\n",
        "    '점수': [90.72, 78.09, 98.43, 64.19, 81.30, 99.14]\n",
        "    }\n",
        "\n",
        "df = pd.DataFrame(data)\n",
        "print(df)"
      ],
      "metadata": {
        "colab": {
          "base_uri": "https://localhost:8080/"
        },
        "id": "7KXUVCumI3qF",
        "outputId": "27f68df8-5c8b-4ba8-e056-860d91e41b21"
      },
      "execution_count": null,
      "outputs": [
        {
          "output_type": "stream",
          "name": "stdout",
          "text": [
            "     학번        이름     점수\n",
            "0  1000     Steve  90.72\n",
            "1  1001     James  78.09\n",
            "2  1002    Doyeon  98.43\n",
            "3  1003      Jane  64.19\n",
            "4  1004  Pilwoong  81.30\n",
            "5  1005      Tony  99.14\n"
          ]
        }
      ]
    },
    {
      "cell_type": "markdown",
      "source": [
        "**4) 데이터프레임 조회하기**\n",
        "\n",
        "아래의 명령어는 데이터프레임에서 원하는 구간만 확인하기 위한 명령어로서 유용하게 사용됩니다.\n",
        "\n",
        "- df.head(n) - 앞 부분을 n개만 보기\n",
        "- df.tail(n) - 뒷 부분을 n개만 보기\n",
        "- df['열이름'] - 해당되는 열을 확인\n"
      ],
      "metadata": {
        "id": "jze8x1AeJAbc"
      }
    },
    {
      "cell_type": "code",
      "source": [
        "# 앞 부분을 3개만 보기\n",
        "print(df.head(3))"
      ],
      "metadata": {
        "colab": {
          "base_uri": "https://localhost:8080/"
        },
        "id": "RbMSZc6_I-e6",
        "outputId": "046a9032-d944-431b-d917-be6082b04ec8"
      },
      "execution_count": null,
      "outputs": [
        {
          "output_type": "stream",
          "name": "stdout",
          "text": [
            "     학번      이름     점수\n",
            "0  1000   Steve  90.72\n",
            "1  1001   James  78.09\n",
            "2  1002  Doyeon  98.43\n"
          ]
        }
      ]
    },
    {
      "cell_type": "code",
      "source": [
        "# 뒷 부분을 3개만 보기\n",
        "print(df.tail(3))"
      ],
      "metadata": {
        "colab": {
          "base_uri": "https://localhost:8080/"
        },
        "id": "nFcXys9xJtQW",
        "outputId": "18d5a094-5bbe-4bc6-c507-5d478eeb48af"
      },
      "execution_count": null,
      "outputs": [
        {
          "output_type": "stream",
          "name": "stdout",
          "text": [
            "     학번        이름     점수\n",
            "3  1003      Jane  64.19\n",
            "4  1004  Pilwoong  81.30\n",
            "5  1005      Tony  99.14\n"
          ]
        }
      ]
    },
    {
      "cell_type": "code",
      "source": [
        "# '학번'에 해당되는 열을 보기\n",
        "print(df['학번'])"
      ],
      "metadata": {
        "colab": {
          "base_uri": "https://localhost:8080/"
        },
        "id": "gsWYxus0JviA",
        "outputId": "e0222b78-8653-4702-d7a1-01141e5be2c3"
      },
      "execution_count": null,
      "outputs": [
        {
          "output_type": "stream",
          "name": "stdout",
          "text": [
            "0    1000\n",
            "1    1001\n",
            "2    1002\n",
            "3    1003\n",
            "4    1004\n",
            "5    1005\n",
            "Name: 학번, dtype: object\n"
          ]
        }
      ]
    },
    {
      "cell_type": "markdown",
      "source": [
        "**5) 외부 데이터 읽기**\n",
        "\n",
        "Pandas는 CSV, 텍스트, Excel, SQL, HTML, JSON 등 다양한 데이터 파일을 읽고 데이터 프레임을 생성할 수 있습니다.\n",
        "\n",
        "예를 들어 csv 파일을 읽을 때는 pandas.read_csv()를 통해 읽을 수 있습니다."
      ],
      "metadata": {
        "id": "dqGl477VHvxX"
      }
    },
    {
      "cell_type": "code",
      "source": [
        "df = pd.read_csv('/content/score.csv')\n",
        "print(df)"
      ],
      "metadata": {
        "colab": {
          "base_uri": "https://localhost:8080/"
        },
        "id": "xGVSLRtrGMqY",
        "outputId": "4aaf87ba-df54-4e08-b73a-d3ff79ed4d49"
      },
      "execution_count": null,
      "outputs": [
        {
          "output_type": "stream",
          "name": "stdout",
          "text": [
            "                      uttid site gender  ...  rater3 rater4 rater5\n",
            "0     erj-0036-fbfs-105.wav  HIR      F  ...     3.0    3.0    NaN\n",
            "1     erj-0004-fbas-105.wav  KYO      F  ...     3.0    4.0    NaN\n",
            "2     erj-0033-fbes-105.wav  NAR      F  ...     2.0    2.0    NaN\n",
            "3     erj-0069-fbls-105.wav  TKT      F  ...     3.0    5.0    NaN\n",
            "4     erj-0072-fbms-105.wav  TUT      F  ...     4.0    3.0    NaN\n",
            "...                     ...  ...    ...  ...     ...    ...    ...\n",
            "9479  erj-0166-mbis-116.wav  WAS      M  ...     2.0    3.0    4.0\n",
            "9480  erj-0168-mbis-120.wav  WAS      M  ...     2.0    4.0    3.0\n",
            "9481  erj-0170-mbjs-091.wav  YAM      M  ...     3.0    5.0    4.0\n",
            "9482  erj-0169-mbjs-122.wav  YAM      M  ...     3.0    4.0    3.0\n",
            "9483  erj-0171-mbjs-111.wav  YAM      M  ...     2.0    3.0    3.0\n",
            "\n",
            "[9484 rows x 12 columns]\n"
          ]
        }
      ]
    },
    {
      "cell_type": "code",
      "source": [
        "# 이 경우 인덱스가 자동으로 부여됩니다. 인덱스를 출력해보겠습니다.\n",
        "\n",
        "print(df.index)"
      ],
      "metadata": {
        "colab": {
          "base_uri": "https://localhost:8080/"
        },
        "id": "FgVfT6qgKtkN",
        "outputId": "fcb00d40-dbb6-4697-83c6-0a63d4966e2f"
      },
      "execution_count": null,
      "outputs": [
        {
          "output_type": "stream",
          "name": "stdout",
          "text": [
            "RangeIndex(start=0, stop=9484, step=1)\n"
          ]
        }
      ]
    },
    {
      "cell_type": "markdown",
      "source": [
        "### **2. 넘파이(Numpy)**\n",
        "\n",
        "수치 데이터를 다루는 파이썬 패키지입니다. 다차원 행렬 자료구조인 ndarray를 통해 벡터 및 행렬을 사용하는 선형 대수 계산에서 주로 사용됩니다. Numpy는 편의성뿐만 아니라, 속도면에서도 순수 파이썬에 비해 압도적으로 빠르다는 장점이 있습니다.\n"
      ],
      "metadata": {
        "id": "pRNNpKKaK10U"
      }
    },
    {
      "cell_type": "markdown",
      "source": [
        "**1) np.array()**\n",
        "\n",
        "Numpy의 핵심은 ndarray입니다. np.array()는 리스트, 튜플, 배열로 부터 ndarray를 생성합니다. 파이썬 자료구조 중 하나인 리스트를 가지고 1차원 배열을 생성해보겠습니다.\n",
        "\n"
      ],
      "metadata": {
        "id": "KSripFMVMfBC"
      }
    },
    {
      "cell_type": "code",
      "source": [
        "import numpy as np\n",
        "# 1차원 배열\n",
        "vec = np.array([1, 2, 3, 4, 5])\n",
        "print(vec)"
      ],
      "metadata": {
        "colab": {
          "base_uri": "https://localhost:8080/"
        },
        "id": "oigI1zLnKzH6",
        "outputId": "e4818844-27b0-4b17-90f0-949842c1d092"
      },
      "execution_count": null,
      "outputs": [
        {
          "output_type": "stream",
          "name": "stdout",
          "text": [
            "[1 2 3 4 5]\n"
          ]
        }
      ]
    },
    {
      "cell_type": "markdown",
      "source": [
        "2차원 배열을 만들어보겠습니다. 주의할 점은 array() 안에 하나의 리스트만 들어가므로 리스트의 리스트를 넣어야 합니다.\n"
      ],
      "metadata": {
        "id": "c_DNXbzhMqak"
      }
    },
    {
      "cell_type": "code",
      "source": [
        "# 2차원 배열\n",
        "mat = np.array([[10, 20, 30], [ 60, 70, 80]]) \n",
        "print(mat)"
      ],
      "metadata": {
        "colab": {
          "base_uri": "https://localhost:8080/"
        },
        "id": "4W8Ibmw-MhNg",
        "outputId": "fae6110d-2f04-466c-dda9-ed81d14071d0"
      },
      "execution_count": null,
      "outputs": [
        {
          "output_type": "stream",
          "name": "stdout",
          "text": [
            "[[10 20 30]\n",
            " [60 70 80]]\n"
          ]
        }
      ]
    },
    {
      "cell_type": "code",
      "source": [
        "# 두 배열의 타입을 확인해봅시다.\n",
        "\n",
        "print('vec의 타입 :',type(vec))\n",
        "print('mat의 타입 :',type(mat))"
      ],
      "metadata": {
        "colab": {
          "base_uri": "https://localhost:8080/"
        },
        "id": "1pNa8RsIMp_h",
        "outputId": "a8611753-ff07-4ab3-8229-73efc45cf1b0"
      },
      "execution_count": null,
      "outputs": [
        {
          "output_type": "stream",
          "name": "stdout",
          "text": [
            "vec의 타입 : <class 'numpy.ndarray'>\n",
            "mat의 타입 : <class 'numpy.ndarray'>\n"
          ]
        }
      ]
    },
    {
      "cell_type": "markdown",
      "source": [
        "동일하게 타입이 numpy.ndarray라고 나오게 됩니다. Numpy 배열에는 축의 개수(ndim)와 크기(shape)라는 개념이 존재하는데, 배열의 크기를 정확히 숙지하는 것은 딥 러닝에서 매우 중요합니다. -> 머신 러닝 챕터에서 벡터와 행렬 연산을 설명할 때 언급할거래~\n",
        "\n"
      ],
      "metadata": {
        "id": "1EXi5B9vM6P1"
      }
    },
    {
      "cell_type": "code",
      "source": [
        "print('vec의 축의 개수 :',vec.ndim) # 축의 개수 출력\n",
        "print('vec의 크기(shape) :',vec.shape) # 크기 출력"
      ],
      "metadata": {
        "colab": {
          "base_uri": "https://localhost:8080/"
        },
        "id": "3nBX0Ay9M2oD",
        "outputId": "48a4cd84-a37a-4170-fa71-137cc248108a"
      },
      "execution_count": null,
      "outputs": [
        {
          "output_type": "stream",
          "name": "stdout",
          "text": [
            "vec의 축의 개수 : 1\n",
            "vec의 크기(shape) : (5,)\n"
          ]
        }
      ]
    },
    {
      "cell_type": "code",
      "source": [
        "print('mat의 축의 개수 :',mat.ndim) # 축의 개수 출력\n",
        "print('mat의 크기(shape) :',mat.shape) # 크기 출력"
      ],
      "metadata": {
        "colab": {
          "base_uri": "https://localhost:8080/"
        },
        "id": "Tvkh0aGpND4-",
        "outputId": "83949c5b-b435-486b-96d5-7d8dce61226e"
      },
      "execution_count": null,
      "outputs": [
        {
          "output_type": "stream",
          "name": "stdout",
          "text": [
            "mat의 축의 개수 : 2\n",
            "mat의 크기(shape) : (2, 3)\n"
          ]
        }
      ]
    },
    {
      "cell_type": "markdown",
      "source": [
        "**2) ndarray의 초기화**\n",
        "\n",
        "위에서는 리스트를 가지고 ndarray를 생성했지만 ndarray를 만드는 다양한 다른 방법이 존재합니다.# 모든 값이 0인 2x3 배열 생성.\n",
        "zero_mat = np.zeros((2,3))"
      ],
      "metadata": {
        "id": "qgcrOjlbNbzB"
      }
    },
    {
      "cell_type": "code",
      "source": [
        "# np.zeros()는 배열의 모든 원소에 0을 삽입합니다.\n",
        "# 모든 값이 0인 2x3 배열 생성.\n",
        "zero_mat = np.zeros((2,3))\n",
        "print(zero_mat)"
      ],
      "metadata": {
        "colab": {
          "base_uri": "https://localhost:8080/"
        },
        "id": "sp_iik-vNZRB",
        "outputId": "96a244f4-636a-45b4-a9fb-c40389b1fd6b"
      },
      "execution_count": null,
      "outputs": [
        {
          "output_type": "stream",
          "name": "stdout",
          "text": [
            "[[0. 0. 0.]\n",
            " [0. 0. 0.]]\n"
          ]
        }
      ]
    },
    {
      "cell_type": "code",
      "source": [
        "#np.ones()는 배열의 모든 원소에 1을 삽입합니다.\n",
        "\n",
        "# 모든 값이 1인 2x3 배열 생성.\n",
        "one_mat = np.ones((2,3))\n",
        "print(one_mat)"
      ],
      "metadata": {
        "colab": {
          "base_uri": "https://localhost:8080/"
        },
        "id": "iy3CpOcvN1OB",
        "outputId": "30a6c545-4f9a-492b-e996-6fe7049b5121"
      },
      "execution_count": null,
      "outputs": [
        {
          "output_type": "stream",
          "name": "stdout",
          "text": [
            "[[1. 1. 1.]\n",
            " [1. 1. 1.]]\n"
          ]
        }
      ]
    },
    {
      "cell_type": "code",
      "source": [
        "# np.full()은 배열에 사용자가 지정한 값을 삽입합니다.\n",
        "\n",
        "# 모든 값이 특정 상수인 배열 생성. 이 경우 7.\n",
        "same_value_mat = np.full((2,2), 7)\n",
        "print(same_value_mat)"
      ],
      "metadata": {
        "colab": {
          "base_uri": "https://localhost:8080/"
        },
        "id": "GQ6GpofAN7Ef",
        "outputId": "9ce371c0-b8d0-4abd-e910-cb0ab7e7fd41"
      },
      "execution_count": null,
      "outputs": [
        {
          "output_type": "stream",
          "name": "stdout",
          "text": [
            "[[7 7]\n",
            " [7 7]]\n"
          ]
        }
      ]
    },
    {
      "cell_type": "code",
      "source": [
        "# np.eye()는 대각선으로는 1이고 나머지는 0인 2차원 배열을 생성합니다.\n",
        "\n",
        "# 대각선 값이 1이고 나머지 값이 0인 2차원 배열을 생성.\n",
        "eye_mat = np.eye(3)\n",
        "print(eye_mat)"
      ],
      "metadata": {
        "colab": {
          "base_uri": "https://localhost:8080/"
        },
        "id": "nkORUkLBN9Ax",
        "outputId": "05b33a29-c394-4f8a-e645-2d70144db6c2"
      },
      "execution_count": null,
      "outputs": [
        {
          "output_type": "stream",
          "name": "stdout",
          "text": [
            "[[1. 0. 0.]\n",
            " [0. 1. 0.]\n",
            " [0. 0. 1.]]\n"
          ]
        }
      ]
    },
    {
      "cell_type": "code",
      "source": [
        "# np.random.random()은 임의의 값을 가지는 배열을 생성합니다.\n",
        "\n",
        "# 임의의 값으로 채워진 배열 생성\n",
        "random_mat = np.random.random((2,2)) # 임의의 값으로 채워진 배열 생성\n",
        "print(random_mat)"
      ],
      "metadata": {
        "colab": {
          "base_uri": "https://localhost:8080/"
        },
        "id": "R_UzNGeAN_F3",
        "outputId": "97bf9ebb-265e-4c35-b45b-7ba6c75c9fe7"
      },
      "execution_count": null,
      "outputs": [
        {
          "output_type": "stream",
          "name": "stdout",
          "text": [
            "[[0.66763392 0.46272438]\n",
            " [0.98271122 0.49014855]]\n"
          ]
        }
      ]
    },
    {
      "cell_type": "markdown",
      "source": [
        "**3) np.arange()**\n",
        "\n",
        "np.arange(n)은 0부터 n-1까지의 값을 가지는 배열을 생성합니다."
      ],
      "metadata": {
        "id": "oNGztbP5OEs_"
      }
    },
    {
      "cell_type": "code",
      "source": [
        "# 0부터 9까지\n",
        "range_vec = np.arange(10)\n",
        "print(range_vec)"
      ],
      "metadata": {
        "colab": {
          "base_uri": "https://localhost:8080/"
        },
        "id": "ElWn1te6OBQ3",
        "outputId": "38e34a04-a7b8-42ec-c1ab-b2f43d0de19f"
      },
      "execution_count": null,
      "outputs": [
        {
          "output_type": "stream",
          "name": "stdout",
          "text": [
            "[0 1 2 3 4 5 6 7 8 9]\n"
          ]
        }
      ]
    },
    {
      "cell_type": "code",
      "source": [
        "# np.arange(i, j, k)는 i부터 j-1까지 k씩 증가하는 배열을 생성합니다.\n",
        "\n",
        "# 1부터 9까지 +2씩 적용되는 범위\n",
        "n = 2\n",
        "range_n_step_vec = np.arange(1, 10, n)\n",
        "print(range_n_step_vec)"
      ],
      "metadata": {
        "colab": {
          "base_uri": "https://localhost:8080/"
        },
        "id": "2WYSI9vFOHlR",
        "outputId": "d4c19671-3ac1-4055-8ae2-eed93c97bd86"
      },
      "execution_count": null,
      "outputs": [
        {
          "output_type": "stream",
          "name": "stdout",
          "text": [
            "[1 3 5 7 9]\n"
          ]
        }
      ]
    },
    {
      "cell_type": "markdown",
      "source": [
        "**4) np.reshape()**\n",
        "\n",
        "np.reshape()은 내부 데이터는 변경하지 않으면서 배열의 구조를 바꿉니다. "
      ],
      "metadata": {
        "id": "G0-FDiBCOPTz"
      }
    },
    {
      "cell_type": "code",
      "source": [
        "# 0부터 29까지의 숫자를 생성하는 arange(30)을 수행한 후, \n",
        "# 원소의 개수가 30개이므로 5행 6열의 행렬로 변경해봅시다.\n",
        "\n",
        "reshape_mat = np.array(np.arange(30)).reshape((5,6))\n",
        "print(reshape_mat)"
      ],
      "metadata": {
        "colab": {
          "base_uri": "https://localhost:8080/"
        },
        "id": "XRWg-8fLOM9j",
        "outputId": "3223036e-68f4-4f3e-a765-690df26ab4f8"
      },
      "execution_count": null,
      "outputs": [
        {
          "output_type": "stream",
          "name": "stdout",
          "text": [
            "[[ 0  1  2  3  4  5]\n",
            " [ 6  7  8  9 10 11]\n",
            " [12 13 14 15 16 17]\n",
            " [18 19 20 21 22 23]\n",
            " [24 25 26 27 28 29]]\n"
          ]
        }
      ]
    },
    {
      "cell_type": "markdown",
      "source": [
        "**5) Numpy 슬라이싱**\n",
        "\n",
        "ndarray를 통해 만든 다차원 배열은 파이썬의 자료구조인 리스트처럼 슬라이싱(slicing) 기능을 지원합니다. 슬라이싱 기능을 사용하여 특정 행이나 열들의 원소들을 접근할 수 있습니다."
      ],
      "metadata": {
        "id": "2nvFq67fOYhC"
      }
    },
    {
      "cell_type": "code",
      "source": [
        "mat = np.array([[1, 2, 3], [4, 5, 6]])\n",
        "print(mat)"
      ],
      "metadata": {
        "colab": {
          "base_uri": "https://localhost:8080/"
        },
        "id": "VghGtILpOWzg",
        "outputId": "5ed73a91-1782-40f8-c8a1-598eec616bf6"
      },
      "execution_count": null,
      "outputs": [
        {
          "output_type": "stream",
          "name": "stdout",
          "text": [
            "[[1 2 3]\n",
            " [4 5 6]]\n"
          ]
        }
      ]
    },
    {
      "cell_type": "code",
      "source": [
        "# 첫번째 행 출력\n",
        "slicing_mat = mat[0, :]\n",
        "print(slicing_mat)"
      ],
      "metadata": {
        "colab": {
          "base_uri": "https://localhost:8080/"
        },
        "id": "Ocy1kb0iOc1a",
        "outputId": "381260e1-82da-411f-c684-5b9eaa601e69"
      },
      "execution_count": null,
      "outputs": [
        {
          "output_type": "stream",
          "name": "stdout",
          "text": [
            "[1 2 3]\n"
          ]
        }
      ]
    },
    {
      "cell_type": "code",
      "source": [
        "# 두번째 열 출력\n",
        "slicing_mat = mat[:, 1]\n",
        "print(slicing_mat)"
      ],
      "metadata": {
        "colab": {
          "base_uri": "https://localhost:8080/"
        },
        "id": "yKDxrPKMOe3X",
        "outputId": "0936a8d7-40a8-444f-eaee-1724c367e1d0"
      },
      "execution_count": null,
      "outputs": [
        {
          "output_type": "stream",
          "name": "stdout",
          "text": [
            "[2 5]\n"
          ]
        }
      ]
    },
    {
      "cell_type": "markdown",
      "source": [
        "**6) Numpy 정수 인덱싱(integer indexing)**\n",
        "\n",
        "슬라이싱을 사용하면 배열로부터 부분 배열을 추출할 수 있지만, <font color=green>연속적이지 않은 원소로 배열을 만들 경우에는 슬라이싱으로는 만들 수 없습니다.</font> 예를 들어서 2행 2열의 원소와 5행 5열의 원소를 뽑아서 하나의 배열로 만들고자 하는 경우가 그렇습니다. 이런 경우에는 인덱싱을 사용하여 배열을 구성할 수 있습니다. 인덱싱은 원하는 위치의 원소들을 뽑을 수 있습니다."
      ],
      "metadata": {
        "id": "0HL9yfMnOki0"
      }
    },
    {
      "cell_type": "code",
      "source": [
        "mat = np.array([[1, 2], [4, 5], [7, 8]])\n",
        "print(mat)"
      ],
      "metadata": {
        "colab": {
          "base_uri": "https://localhost:8080/"
        },
        "id": "GV-mR7mCOgNk",
        "outputId": "cdcdd2e3-c8d4-4b97-fe79-8c5ec8506e54"
      },
      "execution_count": null,
      "outputs": [
        {
          "output_type": "stream",
          "name": "stdout",
          "text": [
            "[[1 2]\n",
            " [4 5]\n",
            " [7 8]]\n"
          ]
        }
      ]
    },
    {
      "cell_type": "code",
      "source": [
        "# 특정 위치의 원소만을 가져와봅시다.\n",
        "\n",
        "# 1행 0열의 원소\n",
        "# => 0부터 카운트하므로 두번째 행 첫번째 열의 원소.\n",
        "print(mat[1, 0])"
      ],
      "metadata": {
        "colab": {
          "base_uri": "https://localhost:8080/"
        },
        "id": "21o77AZFSW3v",
        "outputId": "6981fe8e-25f0-4203-85f9-d453f0ac319b"
      },
      "execution_count": null,
      "outputs": [
        {
          "output_type": "stream",
          "name": "stdout",
          "text": [
            "4\n"
          ]
        }
      ]
    },
    {
      "cell_type": "code",
      "source": [
        "# 특정 위치의 원소 두 개를 가져와 새로운 배열을 만들어봅시다.\n",
        "\n",
        "# mat[[2행, 1행],[0열, 1열]]\n",
        "# 각 행과 열의 쌍을 매칭하면 2행 0열, 1행 1열의 두 개의 원소.\n",
        "indexing_mat = mat[[2, 1],[0, 1]]\n",
        "print(indexing_mat)"
      ],
      "metadata": {
        "colab": {
          "base_uri": "https://localhost:8080/"
        },
        "id": "mqVubX_CSaW6",
        "outputId": "376a289b-5de7-4d73-a3cb-4705293c8acd"
      },
      "execution_count": null,
      "outputs": [
        {
          "output_type": "stream",
          "name": "stdout",
          "text": [
            "[7 5]\n"
          ]
        }
      ]
    },
    {
      "cell_type": "markdown",
      "source": [
        "**7) Numpy 연산**\n",
        "\n",
        "Numpy를 사용하면 배열간 연산을 손쉽게 수행할 수 있습니다. 덧셈, 뺄셈, 곱셈, 나눗셈을 위해서는 연산자 +, -, *, /를 사용할 수 있으며 또는 np.add(), np.subtract(), np.multiply(), np.divide()를 사용할 수도 있습니다."
      ],
      "metadata": {
        "id": "HJR1vBIJShQT"
      }
    },
    {
      "cell_type": "code",
      "source": [
        "x = np.array([1,2,3])\n",
        "y = np.array([4,5,6])\n",
        "# result = np.add(x, y)와 동일.\n",
        "result = x + y\n",
        "print(result)"
      ],
      "metadata": {
        "colab": {
          "base_uri": "https://localhost:8080/"
        },
        "id": "LIt6P88HSd7z",
        "outputId": "fc579dd2-c6fc-4c52-c0f6-f567411b6b9a"
      },
      "execution_count": null,
      "outputs": [
        {
          "output_type": "stream",
          "name": "stdout",
          "text": [
            "[5 7 9]\n"
          ]
        }
      ]
    },
    {
      "cell_type": "code",
      "source": [
        "# result = np.subtract(x, y)와 동일.\n",
        "result = x - y\n",
        "print(result)"
      ],
      "metadata": {
        "colab": {
          "base_uri": "https://localhost:8080/"
        },
        "id": "J5CH_uB-TIvZ",
        "outputId": "a247af42-149b-48eb-df31-43a046964d40"
      },
      "execution_count": null,
      "outputs": [
        {
          "output_type": "stream",
          "name": "stdout",
          "text": [
            "[-3 -3 -3]\n"
          ]
        }
      ]
    },
    {
      "cell_type": "code",
      "source": [
        "# result = np.multiply(result, x)와 동일.\n",
        "result = result * x\n",
        "print(result)"
      ],
      "metadata": {
        "colab": {
          "base_uri": "https://localhost:8080/"
        },
        "id": "nfa5rsXDTKiA",
        "outputId": "75f788c0-d7c4-445c-970b-8fa6d6d93041"
      },
      "execution_count": null,
      "outputs": [
        {
          "output_type": "stream",
          "name": "stdout",
          "text": [
            "[-3 -6 -9]\n"
          ]
        }
      ]
    },
    {
      "cell_type": "code",
      "source": [
        "# result = np.divide(result, x)와 동일.\n",
        "result = result / x\n",
        "print(result)"
      ],
      "metadata": {
        "colab": {
          "base_uri": "https://localhost:8080/"
        },
        "id": "vjKJoErZTMtB",
        "outputId": "b92d7bd7-980a-4ec8-d4aa-ac936535532d"
      },
      "execution_count": null,
      "outputs": [
        {
          "output_type": "stream",
          "name": "stdout",
          "text": [
            "[-3. -3. -3.]\n"
          ]
        }
      ]
    },
    {
      "cell_type": "markdown",
      "source": [
        "위에서 *를 통해 수행한 것은 요소별 곱입니다. Numpy에서 벡터와 행렬곱 또는 행렬곱을 위해서는 dot()을 사용해야 합니다.\n",
        "\n",
        "---\n",
        "📣\n",
        "\n",
        "![image.png](data:image/png;base64,iVBORw0KGgoAAAANSUhEUgAAAmsAAAEiCAIAAAApkQKKAAAAAXNSR0IArs4c6QAAAERlWElmTU0AKgAAAAgAAYdpAAQAAAABAAAAGgAAAAAAA6ABAAMAAAABAAEAAKACAAQAAAABAAACa6ADAAQAAAABAAABIgAAAADwAvhbAABAAElEQVR4AezdCdBtV3Uf+Pf0Bg1oQIhBIAYNIGFm4YF5cLtNIBhD4tAd27gTknIMlNNOp+JQ7aq4YndCHIckrnJMnKS7U0kcu8FO22BjSENcFTPYxMRMxpIQSGYSo5AEaHiDpP7t8793ffuec+/97ve97z09bHbB1tpr/9d/rb32Pnufc+6939v/kQ99eN++fffOC3nfvjP2799PMcibVmeccUagMexrbD2LpgIQQVeahCjVVWII0DNsKxdhj8TZN3vOpfgeHBlDWfVspZyabKvpeQJew6brnnvuKViPJI+agRV+fSRlax6F1Ec1ELf8R1ldZVL60pSvdBXDQHJ39fZCv37KBeGMMw4aQjQwqMg04SyPAaS3py05+L4Zuag0QzLX7+NOufvuu9W6jh8/fujQoX37Zvkvqgi9bd91YF8LOL2p0ysetLzjj0xPc+yeuwtGT5kaUq9meikJCZ7ywIEDmqjUZBpxxjAwbU0M+w/MnEYTnlipeyU2/AfPOHTkyJEzzzxT191HjyFvyoMHZUMN01yfsf/o0aONvAW8kB+aKuFXV8GZ3QaGRD9o1lXBBL8ON++DjLuYpFnJnKPaf3fKHNvdWfV+91peyP8G5LN9ewPkcsh2GTgp8cSpgExvwpqEsdG4ime0bpcPdZn2YJZU35Wl1ms2lCuaEqbkRdV76fG9vsBrhLKFie0qBvoe3HOu0veYkdx76eXARoRTQLGNoiqki7wwhOjRFoBQcgHKZBRAD4jVFFC2q4TeXWGKjRC5uqbCUqdTq2hqsJolTzlLE6spWwAYFHKRl+FUgHEcBMxKU+34dFocP778DmBK0mvC0GtQ3XXXXerDhw87jY4dO5bAzjh0sIeRE3avjCY1K8VqUbAJkt555khCy8o5xwUhmHbqzu9IGNKnDj9bJUd1492/3xnp+KRkhYpw1lln3X777WefffbA1Kr9B5tfYHIdgpohj8AwLtKMrI66eksPNlKOmoXcUGBenKMYNmRYBdtbtlVevqk/PTMwvlx3HaWLZ0e2a5ZdutQWvYI29bb8YLFahVzfu8qq9AmsmhFGymq20Ifgd+SUSRhSh6H3aHcr2vLVA0ZyYXpamGIuQG9IWV6iL1h1TRl0KUUOoJm6lCMvmjEpfTH0+pJHUcWqIimSNULFM8KMSLKey6+mzA9PWiO7WbOQ4+7ZwTFWO5moWGFWnFIOIefo8Xu3nh1HNomwrwHyIIgBlS5nG6UjUysaTUcpAKEtnrvvMfe5cVe32VIEec+97TSbXW6N7YwW3Rn7DrSncBD1wYNNTrQEtBzh9NxMGdiBA1sHJ3uGqfv0ln5QzkJoYXSlx0cdqw5yWoinZ1SnRWpOYRC1WgineEZmJyjHKdwTdhHEKqulVMAuPBkmjPIcTR9GLv4RrJptU5iTEJSlHgsfYRPMyKRvJrxoeBx1aY74N4xqxNNb9YQjOQGUso+nGNI7reOxbKvZk6S3qDK6HtCHPWIIrLftwdEv7e1Cmm/yy/KMLS7Kb88/lTvaWWfMRyRgZ555mNIh4WCzAj3eMaBph8rq0vME1UeNtgDOmzy3gRHUHkm5O3C4yaMSq7Lte/PwitmFkGsBTLRHjtypphE8DSHe1b15MY/0MOmiV84555x293Bve10sTuc9JWaFYCxx4fH06NG72DaboRRP7zSA1EwLw6Jg5T2a6oq+YJsIZVvgqUYX5S7Ii/ObwmmVAVO5dJb3PMj2WkYpXrJl3Guqa1uhrNaHPrjYulSW0hZVhDUmhcTD78h131uORpjSbyiMzEfNCrW2M7sMpWeFpfx6oy9DTZylX2pVyqUDrN6lQhyNwp4ip4D4ot/WKUCV4pkLC+ZgcT3v3Qokmnl/y0n1lVzm1bVKKBOAXl6F91DGoXPo3HPPveuuo/kgkOEqjyN9Nc+Yn7ixjWu9jiJLwkeMZAdPe/o8fpyvO460E2halrqmtE7wEPIIKE48w/thCzAfTLZHT+4AeKlju3dR5IToE7/aC2acd955Zzvd9+0Xat4JQ9JjFkAcEcA8p4YkdXhGvnoXYD0mVgAl9Lal701GgA2bGKYuppoN2XpYSE48wp7zm/KaDIxSXTNbwhrbE+9qJ2ixnMgCWm+rt3fEY06IqVU/7JFJxdkLhUFVpecvQKxgevOdymVu11hKmI0se0oBRjH0TpOHaALjYoqvrt625Ck+XYm2YgaLvBS/pgvb1LZoK4zA+mYwI2Q1E0Y1e8OOSn+bsqUx9yYNtyx1PSbyeqrwOIQcNg4eB8aRI8eYkNXd5bJAnPVQ3Uh0VzPQPjyHzXnnnYfTqVaHkFOKSWxTh6TkBZfDMSM8T4d4nKPMLT9hO+ec/cCiQkjZzr8DB5x5WZ+6RpwJtZTVdAoj9HKY7ZkHDw1n5EEeFfEneM/NHOGnDEPqkGw7hIKxKsPkM7YAwah5UYM11TxXYKtKMEXbwzYx7/GbyHG0CfKbmFOQgROf4m1XzuzBCE7hz6hW7RF7MuAaUnzh5LdnHjX7rg3lchF8jWtD8w1hfZy9HPMaXcVQO9eIP7bB9zy9XCaUyohcL2VhRsKoa5ScEbiaIyv6XhM59TQY4HgBSG9viyledNUuWX57YW7bdGt89Saby4lwDd6BJDynxvB0ePTOO4894AEPcKT2dzy9eSKsIeuaudi6Qe3hbUS33norFS+OJWePgwr5wTPbt37CFpKYFXO65slpGc7p6CglW2ZOu1tuuWV44GyPjw984AN96wdG4aLYevIoRxqOFE/JYvMW95Of/OThAwfdWFByJD/iv/nmmx/84Adf8shH8GsgQwztja5SnAQmfbPvbT4GwgjqICNAlqZ4aIphBOi9RA6yVpqm0nNOTXatOUm0u47nz4Kh2ZwOc1AuLLkpZteakcf2/qe45ktza4FW17ZC8Ywc9IZ9l80iJmUICdA3y3apMr2ujaIllLzGpGh3LYzIy+lSwhF4hHFP3WsKvJRTL33VDCMToi+q4imhuqbgdI0YevxURlvMS0Pt54U58Ag2ELS1F57+ZBohp957TcAVTN+1Rl6FL73DxsmhOI3uuOMOh5xTxKCUpbSjO6Qawv42vuklts/Z8+53v/srX/mKgxm/4+1JT3rSt3/7tzd0h4+vYpu6ZtgeDg8eROKwJ1x77bVvfvObf+d33qn56Ec/+mUve9l3fdd3OUdlGE/I1eQqaGsdUmpmpGD3v//9jd1h+RM/8ROfuvFPzj//fLTA/DpcAV75ylf+wA+9wtlJw0W+SRQSPL27BF9dETLWwAKIVa0HXSnVWwylWSMAMw+nOrY7YlhD/s2ub6wMWAm7m/o1hrO3uP0azaEeT1l8ozRFWaHkYrODlGaE1xyxadYVG3A41SMSGqUYSuhh2dRqg4An20qElOtw4NgiGQUTTnj6/rqNnrI3T1PXtCTO6biin+KXahLbtKtIDDabdUZdcgFGtiPCNNWjOGNFr0QuQoIiM+rqKpkmkRBgYq6XUMlPlzp6Ql/KBE8PCEM/j6woYcpjz5PekaaaMazmVKiYCZLjYUv86ne84x1vfvOv/8AP/MDVVz/ZWeL3qX3mk0aHh/P1a1/7mi7nGV/kCy64wAHsUVbTYZMHQcfP8Ir1yLvf87vXf/z6G2644UEPepCPP/Ve9MAL9zdse4406mQPv6aaoa773e9+QgqAEq2jy1iAk6gPfehDN95443d/93f/hb/w0s9//vNvf/vbX//613/9619/xSteITaFeQ5FMScSDAiRx2nI3UBA6vLNoOPHj37605986lOf8r+/9sed06yAZen666//pV/6pSc+6fHnnXc/bJS5uyCkCAxMmWY7XdGLagrY1oqL3moVXpbCDy9LCmRpMBRPGNKcsq3S9zEUVQnpxabEqfT2Jr08sipbAnN1D+jlAoAtZiUcG9W9C+RpbmK5CpkIa/L7gFeZbOIumGJYNd4C9JwZVx9J37tCrk/r6hRbAG49g4a9OpdGQGkJ9hgahSb6yINudtn0Kya9Me9lmm1H1QOKn1B+Q5hlqu7x8UijxLbqKAPYto6LbWEnAyDO0C6NgbIA670HuZQkhkkguTITsJ1oFTNkBdDz97NQHou/NFPaEEZf41qDnzJMNZuYw5Q747V0nSLeUv7Jn/zJl7/8ZfKQhNleBpzi8HC8ffWrX3VkwniJ6kT0zOf5Ev7A/pY3R5HT1+GqOM+cfI6fH/qhH/JRolMWj2MJVnLu2dfOb4WVtY1cAdCF+dOf/vRjHvMYvZQ0imMPM8KLLrrIi9YvfOEL3/qt3/rIRz7ynHPOuu2226688kpK59xznvMchs4/gXn8NTSuRcLF4K193IsHLSrBhDzZ0HXddde9/OUvv/LRj/7Sl77EER5+nfpsH/KQhzDMlDl3MVTyZwka/lOJrd4TFLD2DKv4DQQMOICERFP44imhpy0ZHhVMCDVTChAhJGq9NAQlwgg5aoY2ytj2cq+JPrRFMmqWfnOhd7ELNuYjqzTlTAzVGy+6enebB3niyD33u/AFUexDaQOuGSVX3IPsOaMpZMFyGpaHmzvpy4rJ7ZJmBLvAbKFDxypsafbk0a+ve5JeDjNNr5w2izxdqXMGp4tmFBJNWRVmqhxhTl7TI4qtdQig3cok7TRW6VKnHqh6vdGtDx4hAJhbdv+LrYlexQ8z4ANsZoPUGIYdZ3ZrleVk4/aNkz6eXp773RpINDCEqiPMHfUE6+QwQKwyjK8B1la4K99PNB/84Ac+85lPd+zl1aVeq0WvmjyMxe8gj3lQcyyZGseJM/Ouu7yVPfj5z9/kiHrslVcyz/nkfCU7ez760Y863jx9OoR0SYuDh0wg8eXvKwgV8nD7kk4bPsCXvvSFd73rXY997JUecC+88EIeHWZf+9rtzkLppeTO2fnkJz/ZCceXN670f/kv/+U3vOENwyejd9PccvPN9z//fMe2MbznXe/i5YUvfCF/7UnzyBH+P3bttZ6nn/rUpyLx5V1vZnn3Hnjw9bWcl0bhoHWie5y95JJLfInIIeq+QS1mnEzUJ6MM6x9x22GGydxaLavdgYqICXAz9L+s7cU4LQ2AJQ/EmBeRW65W6UcmWXWr1t4W3Xx9FtIMDkuuDZOvuKve3jCA2fU37whea5XJHDj+bxmOOnbN0xv28oj/G665cIJOo58O1YxG2SZzWMWZ4Nw19wyBwVMG2QtT5t42cllp4h+ZjMLowSWPvDMRLbYRVeH7GAqT3sKU0INPqlyR8DKkfMvbKLatjhUSfM+2AtXmqyY6mOSNPPJYzZ42cpIfw8CYF09oSx9wlMzp01X4NAsQYVr3YfS9vXmv7+U5ZrY3O1ecB4qz5LOf/azTBSBpmSNnibI4nVLf8z3f87znPS9nCbznRSeN5zlDcJ45IPli6Kj7N//m34jzgx/8IOXDhuKARNKe7dofQ2iPoRmIWpdaGA4tPI5ehy4hL1oh6ZkI7+EPfziPDjaanLs8PvGJT3RU0wiD65xz8Eie9rSn/Yt/8S+cxE5Z41L++3//7zfddJOBOGI5FbzXuwjFmAdNNUe6lF//9V9/wQteoHns7rvRCkmQGWOfVTLwSHOCTfH3DPgF32tKhixwhNTwERKbOiXPTMw1i4QAH4DpYJhSTgMOoKyKoRfKpGARiqFvkoPPVUBW4qWuixE+TbUIqyZUDAWIUISFieEq/Mi8mrGqJiGaxFlsJUzxve3m8gnyME9Im/AUuEZHmC2jRNxzkdOcDgZRSnVBznXtv6UnDJPevKT0XTuSmaOa02y5oOl5hqhnkS8FJx4mQRIC60nSG03xwwc8Qp6CZj8QYVRIiadvrgqmZ4i8CmnF10grVwWe+iq2aVdZEdLbY8qweoOP98gw1ST0cgA7rYuBYQJYFZLDwBkjG+0t6xn3Hjl6p4fnQ4fbi9aUMnSSeWj7yZ/8yV/7tV/7jd/4DbIPIP/rf/2vbL1QRRI8QibZfx2c3ou+6lWv+uEf/uF/+A//oSdLgTmBIAEyBQQaJ59Q8+TKCiCROzgdb6xyglLi9xqZd0+i8JDOy5zECH2liOxj1NwHoKLUfM1rXuM17xvf+MZPfOITf/zHf/z7v//7L3rRi7zp5Rp/vBuCN9II24E6/JE/VDS/93u/9/jHP55fGXD242zPzvPrkZAiSEWEe1J6qvCjJQhvaemdzgKa/yddWoWZ92xpqosQZI8fKWMek4JlNocctCs3wqq63IWqSHrO6up7oyzzwvfgVXLyxiSEq2KLfuSimrGtZgms+gxEvwpcVqdS2FEwwCkV4cIzqD4DVsspoUAR6An9249ogGOoN5rUsZryRNNjFvnHfpfyLDXHrKTLtPUY+vD0QwMoTAECq7r0hayuUy908S44ryAXtF0DYMP4IRWm8JUrGptm8QVQzTBTlqCLrbqQEcJZhiXQFzIkunplIbcVynyKLBchr7rXl9Lh4RxyJKi9/PSMRXZ+HDrYviiUommYiiPEqfO6173ux3/8x8k+NHW0ePirQwiJM8aaBPY6FEycn/nMZ9761rf6ppKj62/+zb/5kpe8BEwScw5JOLDz2zOiJz9dviL0pje9yUvXjJFHvmRdFzByx55jLB/HHj48O7A/9alPeSWbb/w6X72YhREMcuEpr371q33b6AMf+ADlT/3UT1188cWOXpj2pnffvhyNhi8hB/a334bSGzhaTr00VnsmdcqGU2ZYnbKSVGQ6VjntQ6rlEWWa6giUhB5fnOmSNCVKGqUAYUg9BVSvaSqTXiiqngEAvrpKoE8YvSaGpkYvOSVy4QmjAoZEjXDKNgJr9pi+F8Oot5BxoTeYKbLnuU/kIaStqdxRDAsn6HyQW7nIaOf6xmzNUI7mr7JfWetNmtm89IC5bvbfNV0QeiuYMqSh77uCmep7k5JLwFDyJkLvcRP8CWJq4MO42rvEXRBuOMZMZQZIjq81tukKrK/DU/sFQW8RJv6iTW8/qFDRECIDK6HtkRvKbCFTh3AgbpkkRF9UNI4WvnIyOT+cPQ6P5r1taLPVEsM0Pfk5dX7sx37MM6Wj7i1veYvPCB2l9zv7bIB6lOTCYC+77DKHooP5CU94wnd+53e+9rWv/Zmf+Zl8hOkFrhOUCV92Q49611xzjbPWh50eEHF+7GMf89sSXWS/VHGs52h3joqHnBTlNGXu27lgnHqX6w3wOcOnrcal8BJHT3nKU/7Tf/pPDlpjZBgGAIKtWsxe5MqAsThcHZaCf//73+/7ybKkFwmNJ1rCaAenEVUl9sSFKdtUs4mXqRXNoNyKVvChos8SHQBLFkx5DEAzA08zPGVb4E0EfsFGtL2mSIJpU7ZYeu+LPa3Vj1ETSTRTnthmfiP3dR/h1GP1MtHbN3uSb0T5wGte/Zo+7mFsqtnOoqs15mVIa7u2B6HZJR36e5JFeaGL4Zxs9t+Ak3TyUqqlyt5LcSaehFfKmKdZjsqcRgmmlL2gN80wlNxjyGsYRshNmhVSaMt1Mj3yVeBlzAv5XwZY0JkfbAptOU1zULdq5L1vxiSz7OKPYRzoyrxE2Yjmb3hqe4KhjOt5WFtWIQ9GPQds+t8wh5x5gtTs9QNXG6CQ2lPX8K3Xt/zmm32D5pnPfKbz6czDZ+lV2hHkW0NDweBlpodF72af/exnO8zIl19+uUNOlI4lr2QdPGoMTh3M8M4kMmbn6Nve9jZPdR5D/W2hkItEhDBOPl+jveqqqy699FIY55bmZZdd9rjHPQ6PbAWPPAIXw2G/36nm3aymzzsdb+11tCO2/cCm/VSGawDnpY9snc1e5/oE1PHs67tuBbAJoD2GDs+dZPF/9bbbWDHB+ff//t//wR/8Qae+pph5pJSQ2mH5qjJkdVW103mcXYw9HUd9cyqboGAKmdhGyKF3CVXZZqn0CyY8AfRswYx6KbPqSl8CfV9KzySy3gi8ECqG3unQNbtsYUZdS5vZ2wIOf2T8S8tSEsqEx6QHDIQzRd9FjpcePJc3CnsO9t8Fj53+FPEs/FW/Fk5LQYvJ5kB2pZkv2Rl62ndudRm8rpQhR+tjXXhrsZjhrfF2072Eja8t6ETKZAyhtj7gXp7Ax/d0w3izabavSMBngBHIw0Fg6bslD31LyDSkqWbiegeKDCoG5DTLRQkDwKU1u5UZOQDrErvQWQxhrj7NHAylIdCkObLSXJqK5H/wPjv/aDSVnrZ3TYaJd4LtmGyvl+l80ziLDg39cMwvrKuOdnwPXl0MSxZJPS1VVAQY9GB+R+IvwLb/HvULlTu+esut++6+55wzzzp2d/sZiS+ht/EMzweiReXXLH/0xx89evzY057x9Cdf/ZR//+///W+85c0vfelLzz6zHTmOnyPDX+877/zzPQjK5+HhdagzzLdqn3z11Wedc46vz8K0DzCHdSaOJMQTcItpeP3rDbCHUeaaUgQgQznpnW2egznyh5Pa4I4d+/IXv+h/z3/ucy+84AIj8pbVeexgdDpKLNfC9nT7zne+86//9b/unfBll1327/7dv3OWv/jFL+Yl3mUZf/J26MwzNQ+fddb1n/jE/c4775JHPOKov+cwvO9FqCQSYAHHpOqRpnKeaS1YCSN86RdXUKm3EYqt/JbQW1LK+nwLaQuM4WBrqtsb++HSaNeauU/vqngkIIaQA23jMW91h9H7ncqVv+w5wx7Vp5S8cClNGTbUyP+AXGDj3XjpRV48w3BoZmGkWZjcwAWcBRzbAd9MakRFuCMhbOW0s11+vc+j3Yq/M1kqLudZCu2V68wqfb1AdmlVTYjck94nspRV2TaAhK2GjFWEqoshSM3eJIaF6QXXWIplVMw9YEO53Ml2lTV+N6QtmNhEmCAjpI5fHl3qSrlmmK5iWBXMUv00FdFUAEU7FeI3tKwSyRS2O01GHdowxJ2jyPBNpacrZ57fQTpyKCEBpCXxRIb8oz/6I+eH76Yiceb91b/6VzH/l//yXwAwwA/PhbPTDq33omofT3ol6wHx7/29v+dZkIZVOJmgqvFqOiO9knW2OZJ5dGLhJNMw8X4VgAkGYLTeIV9xxRWPeMQjkIB5smSlxIUtz4OybwP5oaf3yfRgr3zlKz2G+kZuPVDShzMfi3Ik8g9/+MP+fJKzX0L4SsBg4keCv8JOl1oB2LAwR7u0bMhwIrBEmyHgSTNDkw2ZUVNmpKscxUovmBKeJHOVyeZ65JuDd4dM2KYys5khqKOJspcDiK8a++5cL7WKr0R18rwsdb1eufIErUmKUEmpJt5eXu/mZPcmszWLCWyp0x5Tgyplb1K9pYxmDTlkMC7+HrzepPh7oQ+pqNbw9PjiWapMb3WVEH18jeKHKdcR+rrclVDgETmAruoNHqaHpbeUA3xm0ivL1x4KHt38L4Q2SmeGvyl/6NCZTjgvZgXhEPXjzPb7TO9O/WbUXz/Yf4b/EQ4dOPj073haetXnnHX2C/7H7z73nPt5Ns12w9yhpeRA9X0fB3PyTOnQdZo6nJKKjFokGbImWQxeETNJhKzIzjAnpUOUkENOkJidx87FSy+9lC1aJsCKx1D7uMPeoJy4frjiIHQYA2BwTvzoj/6oX5SicuiKXBe/2b9QYdDlzuA7vuM7DIRGohKPOsdMNUdCRrGtMhkYwU5ZM0Em7Zm4uKbJ8NVKlCUsDW8AblVLMaetMjOeDKTOvCQzwk4zQpSlWZ+WXQy55y/yKHfBtrcm428SjdgrKfQl90KGUaMamZ+aZuKpqNYHk96lmKXKGkLX224/Sz8S6jazx/TyCL+qadXyWE4xzElmG+gqww31tsIQclHCYNt2h2jUVeArmLhowc23kqVO2Za+5PhlGE3pCxkh+vA3NwO+lGmOTHbXzLgQMh/emG3ROIGcFplQx5UDpk3KvD8mQqJ0zPgyDoACmadVH4I68BwqLPAQIAGSAY+Mji51Dk4/gPGn+Pz9I+Y4Q86wvJB58YzoZWxIBJZF4tWubwzp9ZTpwMbg49Lbv/51B6FDTjA56hy0PlIViRMRiUNUhA5UMcSjwOgdxhhEy0rTahOD09SJ67Dkkex49vOYwFhxLbyMqyLPZKkjRK9OE3594WgpoPiX9p64MuGpR46MDjm9kthoYKZxAlQYwWiCxbD2h8JsIvScm+D3EFOuKyGElL7LACn5rbp6TzCY8MRjUVGm7C6fxXPiwroTVIgjBzRJUHWVMEKets1R/JkY9forIcOZ264bXJ+QXo7tOsvFvt5Wz6i5iN1lS0ihHcVGWQW13hGg9zftGuCNWemR28rBh7C3jVw1IfK2hJsA5lS5L9litvc5bJwZyu2333nzzbcEmXMLszj7XdVxC5lDBTIwi0px5DiNFIRkJ5kjx7EH7ADzutWx9/GPf9w3lQAwM2eVNFaTr5xqyY8mQjBOw5+XtJrve9/7/MD0FT/wAz4W9aeIcoR/7nOfc+7GKf6AUeWv9OWUdaY6PjEYi8dWgjh9dgfv0CVj4Mtfrr/88ssf+tCHik0ACUM8CmSKrlUl8a/qZb6q69ToK+3cCSbRVsw0hpwgg6yu4NW9ppTR7267v89zIvgqNboSquukCtzFo2z05aQ63YR83QnKXqzqhB66YSCzG/HSE4LcxOWeY+I9wVRIa7yMQnXlAzMs2xp1hB4/YOo5ZImTsg1n1T3JErOJaghnFtKObPsAJqxbiuIk1MB1a1apGAjZiAMolt6wlEsFnPTwNiBCmkuRURaghOjjcaRcw7Ntl3hwKj2npjPGExilU03Te1GnkSOkvbgdCubaECmsIk1WTiNNgkPI6eLI0XQCBaz53ve+9yMf+Yi/XnT11VfLql7fmPWxot+POqWcWzTI1S2seWAEoeZUQyUStTMYjN4DooOZ7BNKP6fRe+ftt/tzvnnQ5N1LY3+GN2ewCL2/5UvMzlQYgrpeLGOmScxkBaFHVSYG5fvGz33uc9uXkobv6yaBCZic4Cvtwo5cA6muqVC2BAFMAadAI06lHFUzw9QUmPBS5LMHl1UJrMjArKQRWA6rdxOB7SawU4CZRzJ+iIrrygMYeQ7ey7iKs3yVsJdudsi1/XSOotRUkqYd+jqJcCH17JXrXhm57xqG0gwjhCSAqnvmXp4yRzPCjJqrrKb6pTsItr29oGqYAkioNFFOI48ekrCqN2EXFXB2nBpgkZSmB5dyqbA0J0uRmyuHzz4XFo94FGcVdw4bv/HwSxLyjTd+8vDhsy648EK9RpHNMY5oINv5Orxr1ZVR22GdQ3odnM4b55ajjq2z7YYbbrCZ5qD18tYf5PNOFQklfGghFXI0ZOao4poLm7JDWu0pFlXO1+///u9H6B8H9yMZ37DlFMDDpffMeMiQeRrGlmM+QbpLICBxOjpQYTR9PVhIvNAz5BrPYx/7WFTiwZaaPncDFW2G0Ncx6TVL5Qx5adcpUMZ7hToKRlNXJpesCCl1YisZjCY8qavrFIxiz110wc+u/QyqHGW8aXbg6j9RAWfvgtw3T5T9BOz3f+RDH15qLr5KRGJN00ZQlwrDKLOklvLsXLn8849tefqEVuRTKzeFkH0pDCXZXqBETlfA5Ch9Kb3f5so8QrkeCfaaEXLDJp4U+CGA6b35VsYgi7YfQim3FfLxU88zMklXcmLeLYYAoqfRFb006sra0KuQiy3hVV08xRYXhQ8zZahKPxG2sjHpWqJwpiDUkWgJCcnPaEyZl5wOEl2OEIeNM/LCiy4SqgVAmUjAFFbOKmCFoMuRA5ODk5IJcjUeb24dhJpgXpl6ECTTM8ww0xV+GoVGDI5Ypxo9wZePuEi0cSQwT4qQ4jw2/E0l7vIknZ/EBA+mMBQbpEjUXKBVM0m0BsWj36s0tqHwopeVItQ4VQfPHGfqxK+OQIkt8qBbXoEVJkNejjuZWsMxCqV3oil+4SXCoX+2DqOpsHuBSUaBM0XvfTWufjg7kg12GPdsavJHkY0i+p5qlAqAvnd3cnHyWPImVAHvSQzr3W10gvYULh7BZUEQhJiyo+H1hBN5ZzugNTlhWKeomLMIQBO5rSH7C6Ew6coAgxw041dV8Rdw6mkEu7tysBWhMJB47TchbxnTqy5wydFPTMaKzrAdipommq2JJhd5ZM0I4glAjTEp1avYfNPsu+JVV1Jta26b8fBvRNtu+GWihJMQzmqi5TfKCGTK0EZTmOqKXo0wQ6vdnJDwwtDXxqMLm9IL7fuv8wh1odVLE/6AiydKdTSNa5hEdZYZvRg0YQqWkOhpBByMpHkujIY7JvRSJ4eRNUsgm8I0Q8uEMqESUsqjJnD8lhVB8YUikwUAHL+VQ5oygew5NXvydIUk+sRDbj4G26KiTIm76INvDHNHvTsykliRy5Amu8PgZAagDCYMVUcfHsqYpNbUWxH2bHzVHIGZVnXmriJnywSSoMCTYZJJcvjVJ6/wW+SCKZm+H2P0AbRY51ZlIs0wMVEHMACX68uwPG4uhB+5TFqEakWTPknbnGrPkRk42pVvcQsx8k1fXSeSnRHtKWuKOaVGMRUEA2OSMmGj2Ao/0qe5h1PbOxIP/l4z8j7tiskIVs0RYTUJOd4ghxU7u12gLxcEpUwgR6PWpURppwCIhuARKg9btn6PRzYRj0d5INOrQEZQ8xI55umKLLZ0JZJC9lZ9FyvxqCkJGVq2sN6kXIgj5vGytC5wLyAvQ4LS22pyCq+kSySR0yQHr6kkZrWHTo99umorIduvk94yiZC6qKpJU3nrkeS4K2Q06hwGoRJ54gHGowYYeYkyPAWAKX3wmoTIAUcedA1cdxjlIoD8WZOYjGpWCmWE1LOVN2S1yIuzZzA0zUxHAPEYufRlkt7kIcxq9zRqSQveKDLdOVk9rFeE9MUZZTGfDCHRchRhRy5GJqNmUa3SF+BEhNlszilqIJW68h5BbmFLObfb4//iX3eCLnWfkdQA9jiik0/XD6rGErc1GZpgiosqS78APWZpsKyW6rc1HFnhSXj0LZSt5nL+kfm2zcSTGjl85Nolw5AN2nLM/jIE0nbhaPQ6CLOrFkMMw9kzZzhOgjyDOgnynJq/pAMZQNVckOO3yGnoE0bvKLI6HqddrCiL3DAV4ON3t6+/7ru3PerFNuTQGVeaan+kxd+Z8fni7FFieL4pwpaQgYGmUTXS5s6oQptm1dlqNWuAZKU5Gs7gBBzbkm3BMHl2l8CcqYPdrCpfPpZMJC2GoUCQe3cF1iUbhYw+5uJ0CSQVuRaiEVJoexI8Qc6iGf5TgPDX6OhRWQPh6b2TjTRUCaMw9WxdLsKfk75I9JIVD/jkYDS39N2nKtGHME7hm/H8FkGTPoBiCGduaCgDkBZWZILRJasEHyH7olY+Zi4eAhIlyez1J0nma3PmgHuTJCRh9zwwlauRvm/uWsafxGIgK6GqeDRLjlDNmAR/MuqVJ2iiTByRUxvJKI4az0h/ejaNSMCV3whL68IYSA9YP67eaj1yk15solUCHsiXXwPxW0j4yNGHpzxGmWZjnyeE3hc8Xf+KXnW62mkznDfRx5Bs2/JqcSBoFX050puSpR8evZSDl/ZgqguDQrATlYussRDGV9ES0ht91eWdJr7KPAIvXLNVaGxq0Rw4uPAgFTAvWEIVFzR0/u8PLYSHjKGp54OiB9YsQ7JshqG60gyMzIrT3gotvWxQRk4vWQFOzZCQ4YRTlxLZ92sjVFeE3hFN4QtWo4DUm89BpYveacejsy2vjhM5w+KE7+MJZ+qcNIkZPqdynskSQ0jKO6vICBNJHImJUGGXIMIw9L00dw33HDNb7fn6gY+y7yKLs+LJFGgqOekDjp6suCOsplDJlYEYcoTTt7QM1u9xBUCfoREwDEE15cB3Siuu468EzT4ScjWDqSbkKqtefyLj6XlKHiKa5SpyutQlxKlemj7gEwlmle26EzQBsUwcCdcS6bkSZa85/eUaV4VaWdaVXrUrIQByDXOQy+6kCxVYF8mOndaIRmya0QAEo2nULnivVbNp0rja1QAlwyiaMHaWsg1SV6Mbdn8YzQqeErO/IeC7o45eG4oNyOZC0MwjDpKQ26wZ4q8BYyMjCaD0EegJhSmZoIseM0EhUCLhwr/9GROafffOIif6622WepAHzmgxkGmOHW+//cigCEUYfrBoCJGdPL2GMu4kmV4zLkrOKVUuRAjPXabD0QUph55mlHwy2jwNZWsgvAyne68Jhl9C9H1vHmdposwAIesEFQCP4iEIo0jEU9kQdn/SZFDxa3I1U+Bz0sDz23skz1GzvQ+YJhhCf/8eZXXF0agOHWXRRjAKQvRVR0Co8FuuxZmJCCB6MljYyCm6IiRdDGPru2NOUPMlhzAM6dUBlzBjua//M4pnsTmbi2mMi7Bp/y41oZVnQuQi0uwnsfQRYjJS7nlz3TeJOMv6GCKfTXm2uT2PoyPsr5FOvVJcuNdeiZp3JOOjmdAZTcZbzbnR1n+HWZnduG1pB2kV8wi2eTOE8IuxTce7TcYyqExivOc6X6Rtn3gN13v7kzo+odQ019nQbbteQ7HNZY+wdgEaMg227DKaOXvSLO9xrYncPoLZSQBsDyXg4Q4JAQaYuRpV4iSnl8AqveSUmKjLnD6G6UJeJok57pygcw4vadtjX4oTlBcMSk5QAs2+5mE2ZITAlDRIUmtSAtOQ8xYxnI1rKLqMi5JAEZJ0JXVRhieySfF3i/zOxL/lQsPQMZZnOLISF5HVGQkhUZUvoy4MIVTRBAMfKrVedwBmynlATwhhSIIPOFTwNV9FEnIMsgGgEMIggWhpYBgGqQ6yIkcVWVf7pwbmB49myb158RDE3TdLTvBlXkLFDxlMIuz1RcJKqJqElL4r104G69e6CvlhD3uYSwmzhJSLsjp5gvCm7oQRffymORvJ/HDS1dtSn7wg4ytpH3mp2OgLILBcxQHXWAg1X2SlAGU74t9pM/GwWricepaKuI8gyr0Kond3yuTKZu8xyoyrB2S8E2RbdqcgCRVJfO2Jx4o8QysX9jLHmHvkO+74ukWp2KCdbfkJYB6YyoRgL1BnX6tNpLY8mmyOUle9ZCaxUtPHO1kX2aLHoMSEoIteKQxl8RBS0ps6VvOeRhs9TntWYTSNEcwzpZo+Xc3w3rYnctwivKcFUPE0jX+iZX6CxhdlBHXAqAihne7f1VUeCY15uAXJSdPCmO8U9Jjp3XYofv1iavL06UANssBbwvxGhLnSD6FMeqHHiEfRSyn+xFaD1UVvfrd8dZusrtg2ioEkXkxu4ekDi5JcXQGrdRVMMzGEsKcNBgBJeMgFoMnAKZUAUhdVWQVjmBF6MDnxxJ2mAqaZgzDNGIaZX11ZEvR+eut2x5/yV/x4SROg9xWrMJy8WpyrHPX6fjiC0UWj9JiTF2R5JEydiiFh6AoykaSpngrFE8PgT7COFyTrTlDdWQFBl3vNNoj55VFcJxjTaWJewzHAyKlrvKcmzvIed9t6nwYZEzMYYURIn0MuvXZkPyX0dHj48EG/vlf4tQXEKtsQOU11NpR+F4APjCAYmDSDrFHw6+jK/quLoNAwSQEAZp66PGIDSG/kcBZzL8SqAGFjpZCRqCPUQDThWwzDqWn/BvbtIQpdqQkesIe6UYUnQnHqVSoY/thWJIQA4KMPMz2NVHhwSUjkYAjuYLwG9PTpT+nmiVDGkjS9IS8vrGgSf2jjkUwoWAUZc3VFUhhUZrrVw4j4CoZQ00qTUl40w0mIIcGpn8B0EWKCRIlcyNjCBCa96SrOCKUsQzzpqrppJsoRT8+GKiTFWb2GTNnr0xR/uesFYeemB6Hpc69D4wMLJyhZAdYVwt7wPpeTgYRR4yVEvzTmdE3HshS84QDXeyxfFVUE5DEs/Ybudg3beovLpQmNY3S5PrOIrfnegRCrRF9W9DR9s+SeYZ2cX3ANzwGLsFXvKhdiWzTZk9YqvwvkGbhaxhY6dtgoHnZD8tv+ONpEllLKM9uYJ+dkhuQ8QZpQhgOkBUlJ4yLPwanL1kxz/vn3tykwjJcwZPvI0NLVy0GOJnrUDEZ9wLvSnRQfTQZeg5o2M6joPa0RAhZqElImRUJPVjyLRoApMI0BFq1mOGm6l75hndVlW1oMzfDA8vUjyXlGEaQSF4Mtu+Y68+WexgR5hes3P7ZdbwV0zZjL01xIDKgUJ2jU5F6Yxple+h4ZWK+cO5n9N+ARjDKrv/TQkV0WpSxHejNYXSVQAgRc5jSK5skuq7zUHA2BzILxn/mFMo5LlyGklIkxfvrTn/bl88c//vFeJ3gqzQ0EWIaPhRwuVmPSrg0WQFzowRCSYgg8zWwCAfeAihOYjEHgnZ8FMeAF1alqiDnjrYAzCvMiBMoqafZjPKkxzp5B48/+EGcJV0xT36uUYRj1jppTtj9lmr0aL55aASVskqsEkDqTqLbIQkKvkPMwYV/25lYN4G2t3dmuneMztsDDFdWsYBQxhKpkXUsDC2xJ13L4EuB6Vc/fx5DIY9viHopmr+97R14CU6ekl4xGPQKPmjA0BYuwarh6+xzGlrm5MgWx9WLABOVNgPd+ZmcYTavKURmOgpk2ca4B913xjqFXLiWkDDjk6spRJzbTNNXh7Jmrq3cBEH2P7AGnWK4w+mgpV52gLpxphGx9DnrjjTf6Q/+PfOQjYVx0DlST64QLvhxNzVdpYrLUsJQJu1xUcykALEc7oQBkVn0zbPdVLZKKZxRVje4UxNauyfgbomke06RPKU1Fsyo++GAAlJgTynAjYcnT50Z2f8pAsjekbtPsVZ4zC9V0n2un9nwpP+Rc2E5Qb5NgdNXnnXno4RYyc9cLq9Ibd6t690pfXgg1tCKvaGmyo40wANkRevNgaIqHkGbBppgRc28beWw7RQwaE1FICrQpniVspuZFcYLaXkXukzOPLGBlpVcz0Q58G1VcbITrQOtN+t7IIwcFiJCAdxq2cMqwCLsY91LchB+mgy05KQUUQMGq6fMR/6yNE1QhuENy8+rCLOSGg6kclhDDnkdXSik1ExuhlDEMsuT0Bl9WlJEDO5X1yK/mNMJTGU/5al8x10h8LurqKGU0gZEj9HUpkYSnwJolh+dPa71XIx3x7Ch7PZicZl4WuVDrycZDZ14Meivo5hdAlx2Zaxu0jzgJNU3hUefope97e7lMTrGQGCqSij2RJ5j0RlPI6ipNCemC7zWaTb+Vm6C26hFex2Cy3ADzjHAxpazMhUPU8ekVrqmx5/r2kE22gomhplJOi23utwUG0P6zQQkVYPHEdnOGOCnzkc+KM4SBldMCj/S9914u/H0i9GNcFVWPSZDRmMf8dsufXHZ2Ki5ArxncyIaqCKcM/WADG2H6JkBKedckp4YkpC7AvLet89yrRVPI2AZ/X9XTMd5XkcTv1jeJZEeGK0cVKMHWUc37Ltzc683eM993Yaz0LHV7kqXw9Gyb0ML0sDyj5DLIw2W+K+QC1kWTf7XD1cvKI6kyEGydGcUWYThct262ouyDXJmXE+7gpeeo/PRK8QSWehQ8ZJEQUmIuGzWWaNKsO4beyxq5PCIPbCYMx+7UED4mcVQhebYUksny1SHHp2myyWoCxCRWIY+snvka3KTZa6bel2riYmnXKmXvpYIJuO+i0UwhBxmBMvi+LkCvPH3kpTGPwssQguyHY7oVh6gr0etc/1A5Q8fnyHwXTV6UpbGNlBVVr+9l3rMhJAy0u4jnZJsI+HQIbOsENeCdBjRK+pRhp4QnO+knm3+akN15LJ5K4CbLJeCyJbgM8uxiU/YY6pWgu13f5/Q3DQQGoLieyXWQWAWUFfYAWdi701WBFfIEhVWEW6Fs52DO0CxGQ6CZ945Z6NPVm9D0zZKDHFMstntMM1yx+0h771f+0cD7Qq5vbHpJ4MW7f+/MewJKJR+CxlU0TJRMX6h6wsWgNmqV+YmwiW0TZ1wUMu5GVgFsCxtZnbJmF/xKn4XpEabV/ZBx+ffs/F0R/zSsfxe2FkOPjPnS5AQ26ho1e6qpvDQ2MCTDml0+O6uspvynRnM6xLNwgtawhzxuXQkbzk0P23b6y9cOhdPxSdRg+7HvcERb8D3hSeZdk47PfD3hK1/5iovWXpzfQuR9EVhKNuLET0NQiylC5K0QJ1IB9iQDE/qFs7B6y2lpSqj4o4GMJuFFplQABqWq3WJXV2sPpRgiqAer5ffjIQySdcCErauoWAYh+NSZArLiz+670WFosry/NYNuevIxtt6ef5HvRFuJOSxxFE2vn/oYhQS8ary9bXEuPTkK2djmQy7laSJUbDWWUWCrIjdkrxbMqe8QPepRj7rmmmvyUbfLMwwhjLl6FX/0apgUsjIKozhhRl0jDdteY03CF/ManhHtn7XmwgmafCVxqyZDZvtEV76ijFUBRrNS4G8K22ZADpPMDXNYOY+gdoK6UH2Wppg1V2z+kUiuizkCcPYysOELLmPXYLXZhb8MVw0kgCW9kyt5CebEVFwnSDRGlEj6t1Khp1eEAzwI/ru1yzAEi6ZqsFWhBdMY5xhCTzgyzKEoqwJTQ2a+vLzNTKlNX8JODYbE/os5JtGMmDVbDN1YpoBVmhpFADWWpXjgHhB5xFA8FU6ZQCrJc88PQJ+avoSR3JvcJ3IG4tLZkXe3RGbW7Hsn5A7pyiuvvO666/yL5VMSSZgqe808gJZGJV1RFqyaACUTgi9ldfWGhYkAM4UV/mQLFWrviLLWT4Lse0+NvP9DH/hgpUaSp9fk0LuV/VVhMcxuZSQpDGmKcOPs95907mx1roptUd/zL/RUhBU/DTmg9KapLvACxc4boSryvomM/947WUphZFWtMKRRCC5Oeq/7vLn13OkbQx43fdLpis1Fy9xeHCt4hSYThGHgQ7j8F+IJY03NXG84Uxc4zQD631NGExi5bHsqf9IAYNrrICn+Xjhj8bfLfddyefV3v/uwK+EStZxnhXb4kwxtaGGrbJsIs2PKbKbG4oUe2QMo+vz0Ez5gQp+opX6Sn3LBUJRpjvBR9oRLNVGq81cJRyS7aFp3scKZHIphKO3vaehyu6DOtIo/AcQELMJQ7yz/neFJEne2R5n3Gq/BGppL9Ytf/GL+2p9v9tXHLjll+7f3NQDJSYoIGLJO9PaLc8htq+jVfT6Lp7pEkh3ALAzY2UsUgBiGZxVJT/hnTfZnJmcrsiW7W6iZm6RMHWEB8acrVRmaYa4ZY3UlG3uSgFVU801ka+nHu32WX1YWfaJ1TVKaR00XgJdC3tkSnJ2Kz9J0KaxwIgFTRsHX0Eb6bZvZBUJbJBHKS+nXsA1BLVy3M/PuYGa+CdUaLzvqKl8l7Mg8YLYj84zLjOSXDObOSwJp9Psim+b555+rZjvsZe0WO5kZkYwimeWqy09pIEsOSU+VLnWvLPKlyurdkVAxlBDzaq6KYUdeviHAyarxKubX+1sX6Re+8AWfjDo+XbxuoXwQnq8XLZ2CkRIPjXo6/Orqe8u8rAgpPUNv0ss9Ztcyd0tt99zRUi97qBy/xUVdY4gw1EtGmxQUpqwSXJqVplHvxgPI6b6zu7yNyZcAE3CFTdht5EvIN1GVu3kMswDmzTY7KY5DBaeL0MVmw/UE4x2gHdm3N/PXU+3F2Y4DznDgFedu4sFW5JtEOMVgoJySxN0Uv1QzDWNu3h5H0ksTpab7gaU8e6WUscHLpnwCWwpdRSL/5iiPnvZQG6gZ9Hf7PJEy0ZvJDeeGwVQMGJSWrPkCThMbzShOXTSpR1172FzDX0GWux48Dbhg34iCS280Iu+HfLPP3533JOoXovnrCtaGa5k8Am845LIqoTes9EaAqRIYvSUnVM2sw5LLtifchRzCqaFIpso91ex035g9Ya6Kof1FherrR5Wc9vnqkb28CtPry8XpLBhUYl4aeT/kPR9FucYc75kLm1v8VkiEyGoPLta3I9OGC+a+1WNNvjHkskSVN7oVLc7Y5qqoEUVZrgu/iTCiignCkKuLfO5u6065uljpDaCUM83wS6ooAwAuzDTCxDPVr9RsLf8FSPnqtWv89rBelvPZQAZtDcQEeVsQL7ZOTx6XXXaZQ1T8MPTli0Yx1z3tKnkUdkiKqqddxXCS9BUD/lGQpYEZRThFnqTwThltxshdBDNLsBicnf7gn6+P6fL5qIfRPIOuCoxV39U3kzR1hMBKhgw4delFAqnpwTgm2YKi7+Xe767lEE7N685+2nV6ambPoMmmaZVBRax9rVWaVcOYM7T+Xl6F34n+1D2JGvUoeM2kYicB7wY7cp0V5vsl4apeQta0LVWx4Bycfv/gudPjpocY9635gK1eA5ZtxsKcZtUK3k3oe2STzKsjYBXq/tlbzK3nJJEXYI88L6epvKX7xJ22gQ3LCbOJc+tjjtz0+HH9E57wBErFV4syQHU0y4NbpoWnTs1R5AiB9/KIoLpiPuo98WbFE6ryUn4JvTKL/MT9np4MBpvxZsjm2g9/Xc4f//jHr7jiCkqXsGM1d8aQo1EARBnzUJUmypFJmjCB9TV8b0IeUEuQsVrK/GdWufU5qBTkcXTIZ9thk9ah3rpRj7KfgG1z9w2Rd0FmaIZTAddgq2vbwe4U0PuN63I6UG1FRQ+ceXGL6uC0BVMqOT59mkKwKdOzdUFWMDAlI1E0o0yz5A5YFusEXthWCVQzQhwtyFuBLNDWeiPEqh2fJqWFucWWaJt+rlxg6eZupF/dHG9Pq5G76elPggSPRfBm0Eypvb570pOelL9OPIx9dssAFltW9Kt8owIIZ9WVnzJMunpkCHt9NMFE3sM6jhASSh58bS2Ik+R6D0dx4lT92I23mq6j/FDbvwJ76aWXZvE7QYPpM1MmfTAF6Ht7/loJvVXAaqUYADSrDj6a3vYE5f66OEGq+9a8PYN22ZHGVihTd10zTaY2gClmw8Ggje2G+OWwlf+Ky3L4eu1oLJoJMsLIdqlyhNl1M+Tz3bOlPbOgTtFlw/Xcaf91ZDo4ffXAxeZ7Q2rvA10tnkdjSFORMKdMqRWsWYDdCWFAPjLfETNwjY6sYFPfM/xaIJFHo576Grk+8SbXO/KSgJf53UpLCGU+Z6fpu+WWWxyfPsD2vh2DyTp4sB2WkAGHcDX5gsPehGwZxJBHTbISIS7KOOCRsnr3RCi/5UUw5NQRYPbE1+lMkikQYQZrjgiKqXeIXnLJJe6oPvnJT3oSrS8T7Wg4qLhIiZeBfmf7bUhqi8DTyzuKZxV4FaHIV5mcnvqtf+1hSHpb0HmqSLhSSUhCCXqjmY6zumI4akZ5+tcZV9UZ7CkIOxmO37izwobm1sZHD+bDs+y/rr0LLrjANw7ykadZo891WDJMvjqPim1KeEaD0tV7H/WuaYqT7YhzRJVmYEupCp/rqrb+ZrJ/o0exol3jpTALwopdW0jKjtkWqFujeFClmCMz5TtE6ksvvdRb3GyjZs3wkwHI2IaPEiby+pohj4WpIUSfrpAXpm8Wvnr3UIij3t1ScoANB7vU/DRX1hSYU3KWuiGTvTryCaib4+uvv57+qquucjdsVcSkH1fwvQYmiSVUCSD66i0rMHL0peyFLMXAernH7FoO7a7NTx/D9gyajA8x2Q23YpNh0ze0Z+8DpTs7ckB99ntZbzWXZmqpcu544btS63hW/5JvTrWD/5ajCr5Lyw54toWWoyRh/713+ymWSbBG3YjGqaTLvIvHhWSfVej9S1eeO+88csRzp4dOT5zmAobHrG9CODUJmam4W3Q624uz02bG8zPQfva3HUgAdw/PiPOfrc6MuBO52iPkEFXuvVqvf++TvnUNpWlauccXhtq/HHqgWbXfgOYk2N++aVxXb0waesWJomv/ia0KDC3K1UWgS4uRClVXoiWLluxNrc+0fLpJ9mLALvnVr95ml3Tfc//7n2+WIZ2pg+FxBDbVNor5Hc9yX90ZWQEzQVVNS4eMOZrEFk04k0y1pnrV7z5X/2ORS0PzTYoV+qFDABzOwwfVPCgz8yDrB1rt96yT0naGe/Yt65lAO8XCftLpV4k75V/FlNh7JgAAQABJREFUs1w/XGht4MPYJT/rqS3pgwcP33nnkQsvvOjSSy+/6aabzjvv8/5NHte+peI2K9/RBXPJm9ZMXPLGU4SRcqSvgMDgU8TTzUiz8P9avZHV/Jae9zSzQZErHphTXmbzZTjCTAa6GHY6+53pTFzFMPO78GuWqfU3NasyMEzYks7JFI4xIwCeHJCWY1a2Oluht3yWpmLbjWCxeu60IyuFHzs4vdur8ibqdCU/VbvY+4MBJrCTNMr43QV5Np2YmyYlI3JqJmCCSXQP5J2t6fPuvTagGhEBz7bewSrOEuIutgBth57fDZSgN/hoUvcM27o+QUDvvULtOYWUqHrlnya5BtingtJiyPXuzthfV7BI/KUFj6T+YXUywS6RGy+LJ9/iDkPVEUbrhzL65JDMl8VZSc7djGZgEaquzBe+hMLD9C7KJELwPSCa/kmsN3GN9M3N5cHFitvbzVl2jjzdT1B5qTlbP7rpVK3Hb9i71PsqX0vBI0e1mAJ25dSioamdt3q9yfFbe7U911dtrfQ6O2ECG7k4DZujOCsJFWoP0FulPXWczMJRT9+H0eu3lTNxFbYmuU3uvbP3CnZAG5/d0B7n3XtOVlMfQ8qp6z626o1Ss++t8AJrvcNJnGYhe6teLvOpsOqZcorcXFPxMBGGQhgpZ89mC6Tb31sswE/LRqa7H6/hU6plIG8pHKL+uoLfODlE/T5Y0z209ePlkwVjFfnFmtM0JqwUhJVGQuQkIIAsyGgKoKvkYqCJvsARCkAoj3HU4wscIcheGU3pw9ADdiiv2h9W6XdIvx38dD9Bt4u/zWXNYoFLWZodCbWGMs1L51hXSjEvhVVvBCalIVfkhLq0yK4TxVcJ3JaCuWA8enqN4wKzLspwSlWa+1zoh7YqmGBW9dIPgLa99qXPYa/fnRy2RNLXu/BSwyEoGBSvb7Mt5unTmer4NJXmt4dBro8/hDBToQx1BaAuQkL0gfXN6AtZPKdS6GOL36nmVMZzynzVMEswEZ4v3Ss7LN0ue0r77Gc/67tmvqPrBsvxqUt4OVCBq1TMqCjTDG01c4KmWV2a5b1ICFGuqgFGPL3tSK5n4t5kjYuR+enf/IY/QaV4tA4yVXuS+qXL60SYEfbhkY8dO2pXtc5ygtIQ3HK6/fThh6az0yXkEKX3BHNg+JNvfQwwSq853eSkMUGOMpBQdfWpjjy3Gp+gTPZwvLzEUSIpmTD1sgBdzLJPpDODNSICjcl1G2Ti/Ok+hF7HOT7pyQqMutEOZZGytYKZ6rfV4AtmJGRHK+W2PHsOmIxoa37nUblLpDytl/Su09LNdr/AyF5C3HP06F02A0vPx+fnnHPWRRdd+JnPfMYdmB3A/bSVYzk5R5ND6Zokc3b4Ca/vmid2qxdgas5kiixNTJYy974A+jLqqmZ8pe7xO5WXMgzKnTLtEv8NcIIuzVENtyYYjFKzNIXZhYAkhGU7CiNeRr6mVmVeQkyK3CWh6PVQYqt1drpCCDQuGxuu60eXlzb2PkjmCvO6uSvm00pIkEIa5W0UJFgwS/WUtpWlgErgyHCnzdGxF1o1fQ0hnAl1FX94gjE1CpnS84THCNPn0cEOqOgyy5lKbGApg9E2/xLDaNQM+3j00qS2ZvquQsZX8ZTQg0+qnEhW+V3fe1IDO5XkGWbq+LUk8o0hSkvFDmAG/bU/N14f+chHnv70p3s8pbRswCjB5NACU6fgIdS8k2nKhdWVZmk0gX1bn1CFVQHCkK5ejuuCle0aATh4PKEqzRqrb4iuhfSdDhHLbFK8YTC1hgqfucmKKeWuhUw882lU1bU5eW/SlpKDcH/bTy1lW62HTlutEblO/JUvQyBo6mVIUHy2Vu6Y94SlPw2FxFkBEwS5Pvh57+xIKHxsU5/4SPeKZ9iMZpuUqMydCXUzdPtdnj/bzz29vPUiLu70msrKCfyaQe0owgJbLklOadKcZ7W1Rl0BnJq6DyMeB80s5lMTw33ipSa9zwBZsYTcLufstGAI1kn+ZO6nPvWpiy++2KvdtqJuv73e6NYQmGc2e6Hv7ZccPTBkAaJRx3za2yMDi6acjgB9E6diwVMKQ83KYAsTkk2oyqQT3EMs7CQDz8LQOvDei6fdCbrTIZqb3mSYrFb1yr2SzU2Y1ZnvzZlj2wcWBpeEO0q7bQ5LK8wLW5eKXpcQPD2lOnjLsCcRwC6C2TzsvUW2IWw8M8DTke75eHNJhzbu1BF2NPbMEUNTabPI/ZAvfdx59E67oQn1OsGukW0RWGn3Q/N3CWSl31biPZNOLiGhVmw8VhchkTdhQPRdZRIhXQUY9e55s49zFXkF36I6OZfwKtenUl/DjFNNxVXvC4PWiWdNt9QeQ/VaEprf8i3f8gd/8Ac+zXFwagLbNGwIZd4Hb7H1zZIHJ+0Yk1trbzTv1SRAltVUCCCYsprCStPjKRnSKD2gNAQXTnV9QwjL0y10uVbX2HY9GAz2BXMmd2a95D6VmY+4W+oIyVJ9Kfs4w8ZRlLFVl5eyWi+M8JrlZS1bW6OxDT47o0ti+IMH7Z8hcxlQel8LdmT460LWjStE0SsqNUB/MfR7q17MCT4u8Cg0ua6AFW971MDIFYI7XDAPP2CZ3/UZ2KveBImN00SeaIs/TbUCIFRdaQ4fC7Wh1aiRGJc6MGMxOppkdfi9XRHPBJzYxtqhnb95lC6/QiWkTpytVWVIeaKiqzjTr1NIpgyAICSHpT3x7HPP9jbe73cTZCaIHAFY5DOG+ZyWQ8Io7ESVuroIpYnQDAeW6tLqMeQ04wJMzJaotyAWCaVNnFBxCtIWr9fe7UW0OskPSerE02ZuUgC6PC503zP8hg9A8U8hCCPBtF8pVul/49upq3+NMNAupDGamCTmMte1YpksZK9sB/NZ8oukeglTXzTGaPalVJK9mZBVeZZSGc5iQKsp/5omxXupJz/5yTfccAMNDI1lNoQKuDX1cddUc2VFEqf0dWWlK3p1mlWLcKpMry5CensM8jLvhUxor4GkzOZGrhJMOCl7kzWyCZM9ex2MK65fvclhrWH7g0z27/DW0G7edeA1r371KrTBZDw9wKTWmHshc9MjI8PosmLUBmCEBIuGZko+1UwJR5r45cWsKBjiLrKmsmgyai527kFra02LCl9iyLURWWxexfirNOqWl+GLdq4Nc7w0LX1QGDOi0biQ0GCWW1QxcYlaQBarFYZZ7xBSO05G5r2LnclDOpfmlIupftUv9IWkxHUznJ95KOg1daUOJmdVsmqMbs8N1gCttZ3FP0ePvLcIhpL+FtxQspKTbV10Adx97Hh2QABRefr0awQTeuFFF4oNPsmfs04TM49jV/9FW3YzeUhauVsCGPKZ+NVuSbJCpJEAL6s264Rt/fg010Ags1yNseesPFiFFckmQtKXOIuE4SLPFueq9bPa12yCRoA++OoalFu+Sk/Q1YdHk6aNp/Q9J3lUQpKVMCzUM7yW8K/a+TN+Tkf3WIpeayabZPCmA8zO6XXuxz72MX+AHkbyFQAyLwJIDJpmDbkSZQnAfWGlqT5woB3G5ODJSCyAEPYmkQGU2E57l2pCVYbFQ+i9FGwpSczjugecebg9FdgN/D1h/0IDIetW3gzEAjYWgtPUxujmzzrvzU9Anq2TlSdoRZyga3imhNfRSALu05HI6EVP1uUGITdc5DaS+a13jSEk1dxQCH8WSkxoUCXOaDQ7tl7u1HskuqIEoBSf8SqmVhhGbS4dnL5ZZ5Ml+8m0bLh4XDkADNXwZT4Wli1feAsFmxVjs5Nqy8V1qCTPsmFJWVvCOHhw9hv/MfPu2kM6V+XU39gp1gzKnymyHNb/L1f0HNMWW0qo8Ggao9oADUrqDDPNVZmLVQVTAquSI9CUMjEvAsbxI/C/s848fPvtXz946MCRo3fdfsfXP/e5m849734PfOBFptac4qkLp+dfZN6olZAqQja9XE2jKkcRUk/No2lTcu+9Fo84FSlF5fMFT9O+Ziz61GefddadPnQ4dkzTSm2LlaPhwCPbqwbFbCBhrpBm2sX/8NubFHg2K+3pcybGbqcnqMSP+CuqxUCqteCutDPvi8sLlRci6eIljsLf7wBFAjCYtJBcrZaufeCtb33rz/7sz/qptz+K6yqWfJeqGtLyVmfrZ2KRf+5zn8ub3hwMmMtdyDUJytKoKNM1QBomd5whSW+2IAGEYWld/Et7e2XFE48xjBIsfss7zSrm0hdPhHvv8a9r3POVr9z8jnf8f7/4i//ywQ9+0CWXPMwPHGyEaGVMktU2RnhJO3UnaA1GHCk14AwmA0i6owGYFgBrxZpwTrggIc2NUcU8ePxpruGZMveaEVtNf+kJvDBx1feG28o7DSlLl6/EUPnBIwmeO10zdn9+bVKeWu4/fLyRSyURbhPS4KCPKla56vAwl3CPC45KS4cXACWRqOWAvmfYxuP67uFSXbXr9CdoaPzZvVV8QqpSGJpETpOBpIvedp+bBi9L3afrHdbVbH4BiqSEqdJFFSXz3kWavSGYYseMkGAiqx0ewO6NhOQfenSz6OWtza69bh52Q5gh+bNdo5h3JPRRIWSbekoyGnzBBDMyDKfnDvp0idMKoXeT9853vMNYFEprzNLNF0TljdOKp2yj6evAaJYWSel5MpBZHK0xGoc/AxjI5vXsBUYMKoaMNPUi10oHse3BNHKQsafWW8LQu7Bo9VKaApenBHps+rmf+7nf/M3ftGbe//73e1X7oAc9yF4P5uKNeUxwwtsumAD7uCeAHA/pVZs106SQE8moGX261EoeVulTBk1bsUPnugp+XXfXV8ydbmvd1jDTu4q2YAGE0+iOHW0/+fvwhz/8C7/wC/aB973vfY985COH/LSXnYqkyRhBxtyLWOd9GCcgz4Y/226WEgk6cUfYpO55gndqCt2y8Iid5wZHabIQcibVLE3Ps16OSRJ6IjxrvIR8DaDvAhZSVnZiU1vZzk6/qXd8mk7nnDn2QsYF4xhgDg8W21j1nJvIMiyxFgoXfH3gAx/44Ac/qJlIMJiFnKa5zDbhPHFMjaWEVZxJctVgkQlsq5Q5jetB89Zbb3XlvP71r7e6ZKAHlFWEouoxJae3mrxHrpCisZHJKhlnge04uSuSbf+whpl1dgpGhLKd/YhVXPSGxbDnQg05zGn2rkcaTSvE1Spg68RrQ487v/u7v/tP/+k/ffnLX+79oUWrGJS3jnalMo/QNt2hjPSauxyap8/+489dssz2lkziNBW7CC8DRLXeNr2FqebRY3eddfbhr339ts989lP/zxt/+Q/e/7677zlG42Vq/udTCD8N9Xey79139z33tm1BtpNba8/x4LbGOWqmLLaEUZmvJGWtapZQXRHQprCN0OspR/hqFnhmP/9PAUZCApij2n8BeqVmekeGGzbdi7jKLN0rrrjC+rS7WrFuR9zLaroqrWdCNtgNOXcEW/kW16hqnGHM4It9OjfR9FZMvJ80DOO54YYbrrnmGpu7zcWxYWCQKWs4q2uNkAmo8LLBBT/3MLsj0zR9a6hOvMstJi9iSBhmzoo3alObIZtyd/R2IrMOaT+GsWThXSECMJAhzhWxzO8uqzvgLHobH70PV37mZ37ml3/5lx/1qEdddtlluavNFg8sOo4qXcWzS2FI56qctnTPj6Lwb/IMWpGUbaJtsXdFPl08/gb3a1/7WjehrC6//PJDh9rrx1WF9agLcwp9uDNx5YceoKu33gpmyiAB8PojGE4dj2jWvAdQCQeYkQ5+wxP+URgbNiv+ElYarji6Vhlash4x7TXZbtC6YP/O3/k71qer9bd/+7evvvpqP6iwcXvch+yzBFy0fa4SW7rUSwvLpUPYv+Jhc4V6KUdToueXILCUNGOQkCLP6+XxzHvH/034xRlhVMdLaoG4VG0Ib37zm3/1V39VPkVltfzIj/yIH31KtSaAQjAXrlYLiZDZcS3rsqVAkvMsSyOsOCW0VTf/KmimCVUP6Jt5i6u3Cp4wlGYqlC9dPdsaZA9jnubUvGfu2Wq99Uok/qEKw7ejPvjBD77xxhs9pwH4Be15551vucqb7LkjtONlXLu9oevdRp6tk5UnKNTSwVAqNZ401TPWuaCZHFki5tv5ce211/7kT/7khz70Ia/7H/3oRzs2whNH4QnJjmpeqvRUlKPY5rQ7u0KylLHFvEY6Z5v+d/YoydCit8UbviRY8YrbSYuegEcG2pk6EGhuu2rjSRyJoY+E7HJCaMV84hOf+NEf/VF3qZrvec97HCquT4+8gjEKx7ah5Cyfhr4bzTCAVTmd6tefoLMxzrOtOUqLkWa6CQZomH/tr/01z6CU/k2oJz7xiQ972CWjUdTcRd/njSZshF4fL8VTDAN44QQVXib6jttvd5abXw+grmfzbkYaz5w5jmiUYt6FsClDl8NVXoRUwVh/LtI8xBOsUuv2LW95i1itFovnjW984zOe8Qw/U5b2mpQE09fJVa+JvDKG2efi45zs4QmakBJABZaxL4ttHMmqyOeE436cVOV05MI/p+RO63d+53e8v807IXckL3nJS170ohdZNsAuYRepDJORnLH/gOSbAjPiMLCoAHTlwcvBYDr0wsdEF0EAlqU6J0c1CSlgEeoETcD0KRX/3GLrvwBbjfnyHil7QC9PYXFXmCkgXaUfBbZ/n8d0/97G/WXG1ef7bnYD9bXXXnPmmYcvv/yKLGnZUGTGjUn5OjFhloSVJ2hFTOiTu8orDKTSAyhdje4LPFb/43/8j60MD6P2dI+h1k3wqWMVkp5hW7mPLd5plBF5uga2hQi35Zf3KaZjG3e6Qph4FjRSB2e2G4veqWku1dY0GxhBtvU9rPIoaXQl8jHvvJ3570eXYDhC4mKT2J//+Z+3j+ca8z0F92JuWcSA3xriJPmZU57Yf4d0rsrpVL/mBBVHJbZSYc1UfOmVOluG/d2l8rf/9t8mwBi4f6r6277t2y6++KGFJ4Sn15SLKDVTCsNEybxHBiiwna3N2lwDZoWb6I9ff7274LyWl2Qh2e+YG1Jsyawy0eIvhvK7icCqyjb4zXYKbDOeITaBGYudSLTuuuTzP7/97YncDv6mN73pWc96lhsya0nC6VO2SBYTXqESIJcHPE+t3p5nr05QEZXfPp7MbzQFGIR5QkbaFUNI/jI6dYagHo23ml/84hf+8A//8Kd/+qdzIloP3/7t3/43/sbfcMHCaAosRyaSYZ20b+daUZRql7kLHNLtGtk1rmiaEUuOoDBEohgBOU2yroyJpoS5boaMvpBp9nVvW/pSlmYqwGwIm9qu0Rw/1n564M+4yYA/xy+reR3lwyx/ENFu4JKUN4lVt5zMx76Gc7OuWQ63TtDK2nycboLcy5gMu4lZmTXP2OexyTe4mxcXnUof6eABF5Wb0/1unw6csW94HXn8rjtvv+mzn/7Ihz/4hl/4+cOHDGLfo6+47LnPec5DHvygC86/AGPmzbDawNr/ztjBT+6Hgc6jXVgfkpUstEkbSprD8iKKfvw/eyb/9AlkWG+WYBs4qyxHtGHWdI0cP34MYLhZ9KgkeAve913V7Qu3diKLG96tpX/nzwRn98Sm0GdS+dRMeBvV8+H4b4/PKYLWGvre7/3ef/2v/7UYOD1j3/Hfe++7/UvcT37SEw853e8+bikdO3rEJGXIRuHqI/u+tydkX14T0eb/G6atD2RB9s5t9L+BeQGztFGz5serx463m8fDBw7t33e3pJ918Iwjd9x+681ffOX/8oovf/mLPjA6cPjgs5/9nJf9xe+7+qlPbV8ZHfLZsryQ2Da/meIa3dBcSKNg4jrpXWRokd5z/JhfG7DJl1GtjFtvueWmz37Wv0hloiVfqLY2hmbEFN/d/sXM9j9rG7ULR3I9JgyrfQgoYW1Wh2pO2MxXXi8rCEWeoWWkbUhDafrhf3bidsG7Yd+//6EXX3z1k5/01t/6zcOHDrrordS3vPk3nvfc5z7woosOHzpseHcfb/+67bGjx+DPOfvco0eOTT8kadOwMBFzl/G7XzLdkbStpv9fW4KTxUNTwc/CNswZz0xIs6uXX1x4iqoEVpW2fpG0LHc0GU6ssh/6y2LS5R/iG2bUt5R9e9moDpr4wwcPHz923I4ph76I9d7ff/frX/9P/LDW2sDjryX82P/6vz384Y9o/xKu7fRe/8MkIRjcXh+04Jrv9jDahqp2/3jm4cO+wX/jDTfc/OUvX3fttSbCjJi4BjvgRjkWxtK2GWOKJs2kmoYwyFupyrjUSp+TLcSpkNquO/3fdF5sWWBnHj7Lh2DDbtouuHwFwV/kt/26w/7Mpz513rn3e9jDHnLeuefcfdynKqjbS7g2z23JzUYqTaQdDm4W5NYJmpR1iSO2RdmcDAmdAfKvTTX3bQ6a12FZWxzulcDZ+DG5OyZf7vexkPdsr3vd6zRtLldccYXN/QlPeOIjHvGIYQqH9TYQNZ6hrNwR5oDRf7uAF3pa9PP4qyOaavaCJKZpsA5IJUIb3vAucXbgDZzhplH0OjIb+N72F2du+cqtji5Np5eHTjeMBg6GkBU9PKHcNfZBM/x3g2oIYGriqTcPuJ59PeI/97nPfec73ykwNy663vWudzvFH/e4x4nt8OH28Yk4RAUgErNj7hTICmyDUALJCDaGt8tjZUl+0p3Juvuelt5z73eOm5M777rdirnzjtvdXf7ET/yEkfrtjtvPxz7+cX/p+17+rd/2bbJtf1nKLm0hTG8cqUebyMiWSW+lt+2lwySaa1Oc3/N5+swLBhdxwwzzq27Q+XyNmPequePrZYXj0TAzCvVDL36IW/u3ve1tFokFY0A+E/3O7/zOs846u2V7eB9AMPDbbvuq3nb7vJPS7i1OoFTYJUzI1q23gHvbyAYy4RnHGeT+2b++N/S2c0dph51cuZFyS+ojT2yek27+ypd9wvJPXv+zNkWf0smnxPqk+bFXfQskE7DebXgOHWxsfREYHBPfoZP2fCQ0fPu0vYk5Y/h9Z67istIk14hKj6f0kSFxKma28KdWmGa++a84K5ho2g+rhmLshugu1j4m+f4OIsAXv/BFp+mllz7KVxMolXZjMxQ8Q1Zmvw3Z+b43C2TrBJ1E2fxQymySm2ZWTLuDab1GG3F/u8M6dtTVYyR+5Wp/+exNn/GJrs8+zbEt293B85/3PzzjGc98wEUPMBL/gCGOOE3O5vzLMziLd/KfWE3Us4yLvLpaxIPH0vRCn8GygkegTm9LxEA46NsRi8FSy2o7ctfRr972Nc+dRpeX8i6bfBjmDOh9hXAgabeWusg9YI2cm90pXobjWra5c0W5vX3HO97h/vT88y8Qqu95O1m9l/N22Unpr8s4ADhiaMqY4BT5GtcrujaNfG6+NSNzTftvktlrIh842H6NY2n54ayP1OG+8PnP/fN//s+vueZa6TeKJz7hSX/pf/6fnvWsZ5919jltB8ld3YRIgqdJgzK3E2xTcArfr4rAnFj06fU3E9znmmV3J9LuQk4XZC2Y9tjAy0n733ANJrSN6k1mK4lKLfRHPupRj37MY979nnef7XXZ0aN33nXnb7/tbS/68y8+eOjgocOHjntpsX+fW2ZPPudf0A6GjeIoUJf/VWugsGuEWbRLEMvXWw9cbdsvy3HmZllqRPOu+QlKZSyurJtv/rJbq4OHvJY4dtNNn/kH/+D/+MSNN7qFdQH6RPmHf/iHn/KUp9gdbfoZe1Yj5qFYRBZPNpjZeUav7Wr1jWiHhK/3W35uJdX5Tflxt5xDAcMZWoo01ekNj15CMA3abWj0QZ7yevl8LY2H0qu89hPP4a2ekF2DEu6ONg9v3o64z7j++o/ZDG2JsnTsbg+shuYxqe14LcXDA2zGvovBHnj1q17FbFl8dC2JQ2JnS6Mhh3uu/s5RFPTuBVosXuf6UOroUZ99fuADf/iv/tW/coR47vHQ6enz6U97htuuc89rf+GsvdQqv/PZGlwuzyDwqtIPvmRUiZxVo52XVST9goMtWNZ0qFIXkyYrW0Ze2BqUpp3UFCrOJwBrXSGEk4C5JWpIGvxOT1CDqdh6weHnriXnqJDci1lGPgH9rd/6rQc84EKx+bzwv/23/+Zl4xOe8ESxWXlqh64uc4RKMK5kdU+7gbw8ntWGO5tfr3CF557stltuPeusw5/8k0/+3//X/+kbUkLl4lGXXvqyv/gXn/Xs5xqvNSl4LxXpk+fFGJrfmtlM4jALy+PPlBU+tpr33tN+nS1vti3vVyTcb+FbPud+xRDyWRjdCbEYz161dpbPjLYf1zSO9Ka29Vtavrtgy/ZderK1bfhvetOvvvCFL7QrJVEuAZ+P+gaHy39KuEbT7yRrYH1X0tsPoZd75CBvk581touraHbS4EwAcdS/A/Amduh1Te93RtoKfD7iYvR2UfZ++qd/ykd0ZxxsCcT8gz/4gy972cvann60fTNrvt6abVzw04Thrx4CpMy72tVqX5V2gsdc69AlYB22TwiGZ6sgY4UzYyFEE4waTG1aTVyUCYD+pBZelhbX7lK/wPSLM9KAwm6nyfChiUPRHggpwx7YpOVLX/yi/H/5y1+y+1155ZXwZ57dfgRRVGyV5KHR7bw4Qdtf9Ut8i+ZtgDSCVlojzTbEpq+iYRmZA3Np/gV00+c+++nPfOYf/aPXZTyXXHLJS77npVdd9dhHXXZpTI3BB0IhbDzodQxPCf2KLBebCGFrUQ5FzKwiZ2WsJ8k5FwyrCEisrlLiGaio2/2duWFlHZsee4oLxi8Z7Ox2WNlooOE2MFa990RF0/gHX+Wxhy2X57GNekXCqUjcipK5tqP59diDH3SR124SzpfL7O1vf/tVV135sIc91L0qWJuI+d+oREge0W7QXFgMG+BXXiGjJCRLhw+dKY8+EfAl5us/ft1b3vyW//yO/+ye86tfv/0hFz/kxd/zvS94wQse/JCLzYVtoJm0T32WuthawxXk4HF5/G1qur8lNMx7Q/os2V2tRPmJpC8puFDl0IxLZmgHzpkH8uhiKdd7Jywd7Er6rLeV3fOOjELtywvWla35+c9/vsXje6Q2Ax/2Ozt/6Zd+SfLtVnpt3y4Bi39F8ue8k//uIj99hsM31XR+lueHSUqHHIsAVPMR9fIWcvjGk678L3oe/Qtl/kD8UV97d5z5WqHPPn2BSLcT1EX60pe+9Pu+7/skzeLxN8IsnnjJ/fqcnc4H0rNf/VFadSlkqfbmw8JzJ5cPX7xL1/QKedh47AAWZNtYNX25Qd2ujWEQ9OnN4OYDnG3ISUsp58Hs8X+T22Wky+drGbLppK5dm758IIftL367D2h30t632Qk/ccMNX7nlFnvIn9z4ydtu/epTr/5WSxkeQADWbUvx8PcsV/Fvqz/wqh95VVIGujiqpqbkQykMxYg0sJwZ/nUu77U+9rHrPH3eestXbNnK8573PE+fnqMfcNFFCdd+5/G789gczY67Cf/I3bSZ2PoahqOilLJYZSBThmiyS6bGFrDdmExpgOGx+JT84QLHJ31OTbeTBuuCwOY2IpOkGSpKgjq08dKU/j/vGsTtqoFkCpJSRzh9ngbUiiXyhMc/zu+IPv3pT5NFC+Mzrac97WmPuvSypIhGtO51sp6mzNtpMoLtUFv94/Wz1bMoJV2uCxHe6cPPr3/1Pe9617/9t//WU5HIzzvvXJ/1vvBFf/7SSy89dPhMw3cJtQlaQS9tIYwTs0AY5mK2Nhadz6aJMvOIGZh81Mv6o0fthldccYXAXKXmXWIhM6cthq7s4oTorDcRVwx4hanZSh76bKzANrXVLrcGaPgvfvGLf+3Xfk2m2ToG1O9973sdojIgM9FsSFsed5EfLnovo2Yxz4Wd5WduNf7v8rsyqPnrpZGBqNoaa983PO4Pzv3Kr/yK69GCOXLs6GWXXfaqV73q0Y9+tMQOj6pny17Mc4JmRLO6fVexFU0wnErI7TZuX+wwtiCvc12/3jn1o43hEGP31cUhMCT0ePKEMLC25R196tGITlWzH8H2PpMKkRts+y5Vm5AmG8L84/nbfBpKf91113lz/rCHP9wsyBiTpK4ZHjqkub2zZYitq10oAKmXIZfrCm8puIT8Gueaaz76z/7ZP/Ndjwvu/4Db77jrO572jGc+6zmXXn7ZoTMPe8kj+jvuOnrozLNDl5nb2wkLm8ASW9WDYuV2L48jQJqllGI7yV13tW/Y2kNdDwRK932e9vL0mY2mBsXWMDVH0xOArgCWZ3aFtqIa9ePMEMQzf4PUfjfmOfkNb/hFF50dXjPn6N/6W3/rmms/eu5550C6jIVnMcV8RHvKmpWT8hiNw91fpDh6V/t3hv3hLsojdx0779wLvu1bv2N4sXGVuxmva8TvPsboevOST0RIwjFwLVfKRz/60auuuspFaNL5pdELVl7KpDSnv9DHnMynllVL3dO2RXL++ff/j//xVyxyYNs3jU+bXvOa11g5rn1vswknMtLE0Eeyhg1sTe8Jdm0Yw+DFkF1Zngfa2CUtrn3rzV8U8geqb7zxE/ZDufKKRFM+/8pf+Sv+1IkE+hLyAy58YO5fc/Uxh2x36EMhJ6WZC3IKF5Z67np9LhY2r0aUBNDHHznpql480aAiWMyKxaz0XRnL6VwLO0kzCncWR2XzuFS3P/rmGf0Zz3jGc57znIc/8hEe/c+74Pw3/OK//IP3/d7NX/rCoQO+7nzvseNH/I9BLuHdDbN9Dsp3yiJF09Fk8jrAwj1CMGAm26V1/ceu89dw7GgWgJl49rOf/ef+3J97zGMe430FpNG2WT/cfvvPpGwHMe9wuVzgXwxpZSsrQ3eirWYMKvjO45hKwLE1ECUykLs0VjSy7EnIGNsUDSvbNWBcbsADCCNY3KlDQpAKcvSEgXaGEnGaMd+2xrUU44pyoucIkWTDEZ5g3JfZAV/xilf8h//wH44ebc+gLhKj+H9/49f9jvucs+/nkgamRCtOQ1vKv1q5041s3fwmOfElQQR/IVq0H7vu2r/7d/+utuS7RfB2+vu///v9lRxcRtRu9e+9964jw98Amm9hbMMwj3whz8m+8ULNAeP/xhwzmCJLEnvDJz7uTl8MPlEGyLKJL0glcrnexTPWOI5t2uvyOTVdNdoKeGRiP7fI3WlZIX6DYWN65jOf6UlUBjJe75z8IcPnP//5mvLjGh8xrG9WflYFMDWHDDgBVHOKHDQ7y09Iwp86miyrXjNDzi7rFoXtp8wPn9neEPqL57407htnemXSKvrzL/4eH396PLKqzzrTj8fanz53DTKE9/GLpkLvSlQfuetOWXVpu5YVXepc4N7farKCVMyR4ttegcFwoVZoyEiiaQ4GHs077riTzLwNYNiyBrLWzFhOeb2z+RK8pZiTReT/P3d3Am3pUd2HvtWjhu7WLASCuFsSIGYQgx0BQUIYMCZGgAcWdgALghfx4xHPXsYs288QEmRenoyXJzBYNhDnYYwDwRajQIDBDwjLDg8DT3SDJQhobDUt9dz9flX/c/b97nfOvX271Zis1Lqr7q5du/ZUu4avvuGIUkeFAE5igsnBNOj+ffzA3m3btnlA5LzzzmszXl+S+vTc5udjs7TtONJyxCLeDDLepBZKiwuNPRVpXOkSGKc8Ju67d+386vbtviT3zW/dfPppp4oJt4gsnxde+ADvdKxZ1z5G5bE9D0vjKeFJNKCzbbdR7eTAy/cbehKjT9TuKmnXdAu+ce9k+MNIhQmNIuSwOQyH6oxUpVZOK0gHHT1q9zq5tRo5OdExztnDH0Eu77TlHGzhM7Fq3pGH+AcglQJRGKWkd1FGAQRgtfCEggG4NbrB9/+QhUOJ0BxB+HM+5Q0wOYe74t+4efOfvu1tz3nuFd7bPej2jBsHhw4/42lP92zR/r27raNia/++tuhSEk8SMaSYHByVMJ9NA0fOVk4wMTyF0MfDwcslbnQiSg12Ecp2fubtQwf23fSPX7UtU+XBfjZS0m2kx37v4+wr161zftvmGsx9rUVXCwIKK/I5AGfK47Z+/cQQGPj4SsOhJlqlKOf4JrFd2ra9hVDX+56Po5XI1/t4wscz6PGUYxsOUakzTIQDJ8e8FAAnb9iVJWznNpm/n5qGR5RJHjkmy/kCu1aTqmmnkmhYCiEPThn1+HCIJzJe8IIX+LoCk3OC/Vd/9V8f/ehHPeMZz1Dcs6/NaCInxIntWc0XVGrOaGlEgwAmyAXiTpZi1QJCHD73PMdQ9zFbwpmZkogIZ0gAgshN3AoGEXLyye1nkTxaC+nVcOvZNddc4waKq8+9e3cblVu2bOE6IbRmdTs2lLDCECuOVdy1a4fDRhGOg9BrBIfapCSJNAk9ZdQGEw2RQbZJ+O67fZkLWZSEDP/etI0CDVmEMqw0JDfmOFZhk2LnvMxOeqmIw2acjrlf6ICX5mOOM2WXmzYAxnRZFJIT23uizUvutniIVUfY6jHc4ehf/MVf2IILYz1i3t2/yjvbC7I0aQd2JT2fPpiRW4jmvkrRe1qchva0HHsoKkrIdm6jxlpi1+T5gm9+83985CMf8UHzzZs24mMU/diP/VheM0cMo7eKP1aJG5geBG2lcR+4we092TkpbWd9GlbyEGgZWF6p2MFQQx4yuVYpBp8miT8YliJgqeGhirES0+TpsCmf1k6r3rDpr6ihBO7IRRNEo+46hIJ/ogmevdFkOMHHaQlrcCPoo05zbMNkCGuOrOnRD/dVGTbihglOAq6++upXvOIVimhO29QuLJ7znOe4Q+Pwx6rg9iJil9zhYPgRFxjbyKLn8gllCChQ8OK2jWCWIa+6l2Pu4FuKmWUEFek7d+zwiSW7eAydAcAbD94BQE89nEsKhcFeYw/e+NGcDxmlbZkTgA4IMn2AF2vYLKipH5MEgBUUfK9739sFRHiGjCZ44jBkUrCptDQcWl0ETdgKUjEZ0kIaVEPMCI7EodwRQRWL/1AxMEtV6RSroz2ZOZr5XsPwcpQ37WwyuFGveefbZ11b29Vtp6KJXtCPPC+hGbIldCBuuRm5WgHSZIgJPMzLnAKG7qm2QwWKcgiEspRkghip4pBSgPGJQJIYLhhc+wFc9flpBw/xcYJNGBeZQ3xu03m4GHZzU4AJJ4Lk+PNz2MI4fuQ9Lle1duoeeAkNNeAlrQqpGPXMPvASSkg5GkUqFU0GSMTpGoplrKFEFvxxyalUOq+QIfq5fl6++awUkZmNAm5e4ROrPkupp3SHRdQbCo7ltm7d2kK0fU/GNcWipZC4qHHENXyhWRok115nTVhMuy02HDjUNp779vgpSkcQ+t3m627HDJ/97Gf/7M/+zGUEjDB68pOffN5597v3vc8z8uIU3MrOADpPd7vsVqXnIFev9dGW+SvoXA8Wz9QqFka4YChVwxQRFDFMbzFplWLFGfVEuTxTJ6OyfCLTNxTubRvX7u1mXYfb1EwEuHTgk8S0Jp2qaQVQNMNmCsbQIITRKhE/LMKHQEOwFFlDWJW2yKQA+HjOyTVE36kd8EiXfvnUp/7GtdOOHbe7fevbYFddddUrX/kqkbRx42b2HvSLEH2pBpsd5NSAiTgiZtJCf1GmaodwIYdACIqsTxntTVYS+dmNABONpf1zn/3M9R+5zuHhSRvWe0yI/g952EO/Z+uWfpixysPQONCNpdzt+eINJ24wHZiwNHffveH7WYIpBXNFRukgyLg9Coysg2S1XhPqdFDrbQQM3eqzfijSML0csvCMdWVRihZ5PR0lYUaChg45Wrjx1OMDnw85sDSaRPQxK2D8moxc9ezbuVMfuer3ledNp5561etf72nSw6sPr1632sHR2g3rn/6Dz/jYxz62eVP7IiAz+YfH+FxocZcQGqoHjnr+j/Ap4iBNaRpuVKyqAFWcyy1INJgsQ5Cqoime3ZmTMTtq3u9utnkMkB9UsXYKra9//eY/+ZM/sefoEWKi3GPn94AHXOTLTXYZ+w+0fUkskksJToJEne1sZpsWqPP6N/S93YI5inTLGUPgoTmJefwhy65wML+5n00BqiYvgpGxvTjux3k0Q1y7biZoWZ5D+gaX/ss3bDz7DsPXoHqrplsEgUwOruNZZMya+gzha6+91m7GcxXXXvtXW7d+Dycb0fsPHWzDeX+3q70qenRp4YsKUVqexIr5Nmf96KfPzpp532OSn/70p//oj/5I39vOmJfdv/W054Mf/BALqrnN4JGwHfYfGMZFdIAI7QQtsIYpBMwqSkBgeZREjwCchkZ64JAVtyGTQlYTQOhFm2Ev+pkDIzHEdMDR1s5wnrp50kQxzWnBWLFIh4jTPOGbJiU3RQcuMIGLPkYplkoBsIIa4gPHXnABjbJ7zErDFu+lWVV9oPDxj3/8e97zbj216ZSNDHTa5Fv/973v/dxTtD8Tbe0Oex+0MXOxsViO01B5cKWiK1sKMxcwTdNZTPOwRVQr6nnU89de9auWQ0U6uy9g1n7SpU9CRkfIrB8aMpxonN3rccSqCzCB1zbd4egLAQPRxEuhVywgsKKklXVReFPDSgzGigJ2KJFFepycVugBkMkBgcNtNkd2VAk3TKpJZ99kzXIuTBEXWcNU9WKgahrNIPFY3Bt/8ryOkAxz95M++MEPMJxD4orrr7/+WT90BadxFL8hVksOfiVtwLuBxtwIk2JajWDIeHWYDynnsZq/Qs+jnOCiqgLlI6hjJnrG0gV8f7EkRZNZv/RpTx686U3trWVMOAHSGemLX/xiz4J6B8FsEK9iFeUjkRs5dvv27d6eN4GoRSmkhqqW4WmYKsjgm86DCBzVRtywIRiSUJdozgsFeXpTPhR6z+CFoF0Jn0GMN/J4ZgiESdk7+a5AsH03libsarHX7+Z4F87s7bm/G264ASySVbkSPe+8++oRbx92bk1Pvh76p8mdcF7y36LwjezkUVGeVAwyrZjm2vzrHrWnPL78ZafM3/rWzZs3blLrJq3zHJ/59pEMn487eNgnGDwltdouTd4+gduWQpc1/rU3PQSTFKEihm3SVGyLnsAhk6sN3AkbPMQMG0ZnnIuJ2mGrwHJ4fEQS58otOa6BJCOBpbaE7Rqof/IUq/SNCS3rdaTIo0aKUSP8wXQIJrUxVm7MZNioxZYOBaQYmgw5lDE2rIbKg2muFn9NtK0ECc5cpndsx4xtP1SaSys7MpjXve51n//8511voSwFIk6OediW2kMgFi2TL09MXJgLcYJMvvxPT3ifXPnd3/3dM/wW3vr15iDr4rOf/eyLLrro9NPP5CfdEPfhryEzpVIeE3OQZA+EILW6EsCZMQpPolM1yjHUChOA7bmuJ90DRNrCc6YIUaU5t9MWvjwQiypHNkwEpVj0KwfCc0g/ixnWBi5Nlidm1zAVH8gobPsIyWnM50lvOl7+lMse+tCHGhqMctDNq9u2bbOT5ig3jIUTYgleXBXDAiKuiisBmKBVUQ7hQh5HgDi2j/w2KiJoo8Z7n75o2+7GuVW8+iMf+fAHP/h+J3PCgwcciFx22eX3v/8D3UCnHg58ItEfLMXDABhNIlSOuFynClytFIOpPJyp4c9eOX+BXRwDcolMVUD+wIKcXEI17ywXzVSQ/zSpeaGnWXHQkEvVht5pTL95KczaDCalX1yGmiWcrrkYPfPMsy+77HJfCPdVYTOD+9Pvfe97tm27wVhmftxVgnDAqv/NarQIsyiy48Hk4VUcAcEbLYZQJgLB4fbsX/7lX9o3nbppEz3sTP3UgFedAGYWymml46VYJQ+fAqLOUsjUynFAA+i2NXSaCKnOvmUFpyr0jbQTj4AUU4VSc/pbNV1wUBsrk6ZdtolASkwjBpg+EGuCRoqsEQyZARD+miTpOW3jCgRSmiODlwBqAfDJYYLkc1XyYLRVRKYIiT/mipBFkNVIR7jFqNdM9Gy07XrVq15pW4BeQ1JsHvyKMpo0lEexaBJk9JzNq8kIGFEWkwA4JykC5HxuEZWolBsz4spXZ9Mp9o/m5Yc85CEe3DdZMzatIqWYABiV9YwJMVARsQUgJwp6U9ySQhYg/cJF/CMBJEius8n46le/aoeBj9tXWVBJzLt3iphYXLPNSmeVPmU+lSrF5GheyGMAVsJhLs1c5PIKsJ0tLJVzKWcCeBLMk7/3e79nvKDhB97jtze+8Y3OchUjK11AhGLSSFw5agSkSYg1HBaHHLRKcdR8bnHYcCl4qmb7XzRDGHJYJEgUQQI4RxiIGbfcengcysNxHlpxK068ZT8Xtpig58ZEjqKEiVrejpQUA6uthmA02kqtWU+pDfGQUmWKiLVKwzSBIYICiqlCCSi5aXi0eZjP5kvxQTmqSlvI2apQ0jCpGpa4YBRZJ/z4HCbxefHFFzsMCFLuzqOPh7vpY/au5gE0GWGWKi7cB02biJfTrzBTbdv/vfvaz+vcufMOveEumpPlT37ib07bfOqBg/vcwnQY+OhHP/pe97q3u6Q5kQ8r4sO59VY7rD/oiRXfkGiHkl0Qa0eU1WSh4dSIYFrLqZKpSTG1w+aBO/lkgSlMiOXiJud1Ql/c2wGYIDRhl19WuGvXbn2ALBN9j7Z2qywN5YH7ZD1+KgxSrWFW2mquCVdIfprIvJNBCNDfailgncikr7k5XS7BeAsVmS4PEwDX0dn8hYAIxcxlqcr8HuXBNIF/5jOf+bp//9ogLVHUMLy9pvbOd75z38F2ggqDvxw3PGEkOs+mET42Ihvhh5hUJS/62E4cK+jpBQmPzFGVcDMzwHPdHiBC75QA2WQj1nWDpGpE2APhwAMug+wSVOkyRbsCljKKqwFowJxs/GiLvxwxzkkwrj6FBI8hFur4IzDT8DZ3IcNBzhCbktQOzQRLmkiBy2SYwMEP86XwYZLaoinOQw4juGgmbUfVi4vFudBee+Y9v6+VqnhJHB481I4KOMdLui9/+cttNy2lvOEdx5/5mZ8xLZCroQQpqvkTz1Km4FmJJRqQWq2GZEN4VDVsO4UX4nbYcAhPKSf/h1VRuGNkC6yQquq1IuCAqz6Ri8CuS9x+4QtfQHDKKe3FEkEodJ3JeRVO2Hhcj0PSXPxwIJcKMHkT0IeeIoIJWQ9LeJjkhHJmwcF3XfqM3b/AUMSArqT/bcIZtprQ5MHT/mAdufrU6KBVKFuzlaWSsgz5kOdS9GiKDICsisV52HZYG1NyT9SMzoEMacN83z6eF6I88KQn/Yvt27epctzl/QeBeuEDL9JHme1XtV/FaYmscJ4M3ZI9AyxaQasZwKQ0Ig5rM515R5Ubs1/88pc91A7mdAcCvjrkDqirBAq1JaFPagygd1jhAIYRWFKronIfWjqPxmCBiDjaywPAJGhYLhU3DBGMkL1RYxU+RU90pIdAbTwVbhxq4nZ5QSvPwokkRcj1G9qr+lZQl0GqMi/jafvIFdqyHR8zBZgVHls3vxBESsRphTLXtTARCoDUwbfefLNzMFOMtm1rcuedYPckfHOVRDM4/vqeP+kDs2PnTvwTGSQyU0NNwFyKLW3pjzkY0jKp1jilj1ba0lC4fPKTn3TY7j0W34cIt+3bt+vNK557Beu0xZZReEZEuRHPpVK6I7XEzZLFJ/CztfjTGZ4HHGy85F+/5LRT2xsj8NSjqneL6cMPJ53SPlvoenzER1vEDPTbxZdddtkFF1zgFi96txX40OMDbi85uqHkli1bLJzsdcYgmBlIhIQhDgzH3pDjOjCkWyZu7AG4Zcftt3v6wGeeXBObLr08QDdMEMcoeQD0aZIeHyJTNTdfiixM5jaZiwyf2VZL8R/ih634gQ89HUNKxpSY1BFcISBZbcgb+NYMSLHnW3K84fcv/R6w7kPDsfDxJClhLo9EnTZXf/xLpWoFSEqTMIFRHOq8mOEi/iFeTLCoVAQjhiO51SbxyZqMPsPWz5IzWXN+s9gZy0KXB/qPuLUJUFKbxKWATBFYYau2ckIhQwmQUhUacLSSo5nkgyezUqsqlOETWJ4UtijpAKZPWk3r7+l/3IpFNKniMkBaxaiQFWbYqjFcYD+dVTqGLXxu6jPXaSto23g+6SSx6kr0W9+61iT5zZtvO3hwh+elHZpatlrH+GG67q4FoUdaQvX0gss0TnMiM+lza6IBBoyv36DzQ2vm7Ju/8fV3veP/9nOJp2w6maJOmR/+iEd5+/O0087on2D0RMoaP9iyZ//dHqFkD/Uw8U4olXzbJ4elmEeE+CNbMQsSGLEmAdAYn/LwgQeEfvWaxtmEqnbd2g04CDPD1XzYxPVkYkSMTIKUFCVNMl2yy0zhys9EqRYZNTTNWqWT1GaVcm2KuE8lnj5vbF0hwXAP2MWhW41dwmSmoE8bPH2JnSrTBokEidLli5FmEYVBYI0EYGjepx65yKy+FtF4xrORXdzEBLWKEkEuv3Dw4ge2WURxMPcZpPBoTli1bu8eem7wcxobTtz8e7//5pf86yvPP//8r3/9RpRbtmz5d6/7Py5+7GPca7TA4EwTrBKFHAXuopbMjkiAp0/atlvhXe32e4pT/b33abWkrcf3f/cN/+eZpzrO3bNh7erdBw5ZDp942ZNPO+vsVWvX2eyz3P0lfk3b5LFPMHsN7+JHPvwBF57vLPYxFz+S03gGjVbghz3sYT1CfF5nM+tE3X3OPbf1Sz+EUMUPklHH58abuypW9O/Z+s/YjBjh1n6MbBByiM/BCBjdJ04QxPxyQoA6iVnw2hHcONluLtB3SMx2EUFPOl1h7XSnyzo/bEVnmhPN5Cx4zFFMUDWVpg4Po85z0q2aSFE7HBQd/MOFmPkw2Ga0utrxfSgS/8O/v8rXOdo7jgdX7bl711lnnPa+v/7r51xxxRMe/y9o1UaGEdN6vbuoMWvR6LINt4PT9+3ADdlTw0/vVkxx9b+3nXh70qS3pfKc+MxYr8ZtEPS2ie3AchySsoMvPCBJ5E4VNKs098IT6EinE3CU5efwm9/85ttu27Fx40mOOYSoRz2e//yfOOfsczkKDOnpZS5MW082Z+ICwHAvrcwwibRE474DbSUQ9QLJJT+5fURr2Da4TghgTDG9U/xa60Hvj8IoSh62syTogkyeEcGxqggyrs14dx9sN/LJUgsvqmOaYqUhZq6TizIA+gWyQ01PGJyd2gBiF/+Fhia2rPDMbzqvbp/x9bM/nLBudbtAtyEzvnzHm56KbV/SxylirfxcakmfRkNDdLbt8I/5qLR1xebFj9PPOPsxj/2+r2zbbnu9aWP75swXP//fP/S+a3/4R36k7ZLbL0fsXzd5l7RNgDq5+M8F2osKLIkxJIVI0TiMYJheP6HxZgQb7Mo/9alP2Xjqb796TJLDW8u77bml11sFaUX7HrGLRGMrQZmnrBz48gVLYADyEMBjCwbo9fQxgMLg4BGsWdt2f6ZASGMYcZ9MGxOsFOVZ6goDCS7mKQ5rVZEipZM6hwlDZKFUCw/WXCqauZjWpodIWoU4DUWBOYggiXXNov4iXfb+oXFtmg0NGzN/RGLYhpsq4wEHM75QIChLPm4hGOU60fPSpDirjGjbZzQ++HfNNdeQqO/aQUd7L619FYhiIw7HXKQ8zdO83KjIxp07d3ir+NOf/oz6+OHkzac94hGP8MQKLxmEEsoEACB84o3k1DbkkPEGDm3k9N+mNXzxj3tRhriNyX5yYEaxptrVMVwrV04i0xBwR1SEI+ZMfsDB7yXJKZBQJMVlaB6ejEXfoTwKzzJnqSr6SFZQWx99Cobn23Lv0FFhUl1QwIg5tprzGACNXAoNAL5JXLPGgYH9+8/93M+59Ferm26+5dZzzj7nF37hF97+tj+zI9y06VTKhEPyEtT5TOKzmKsdwkU8AoZqR58hBpwiN4waKqqaK2KITPPZtmleeGEgMFziiIqPf/x6byVs6h/LtHwKvEsu+V6bNjTmOlfyrV8OtwCeTVzNmTGEb6MhAFKVnTBAKzzRyMFOAT1Vh6cNpRHKUszK5cEAAEAASURBVFLc8FCrCUxylLhZxlAKV4OaqnpET6EMW1UhQ5k0dIWqo02YaIIJKcYRQxTldvkSuZxGqOFmDCJWhRjgVqAqSkr79+x1zINGFPn1NgSMYqO1kP4Ylv5Rb67O0SQEcqPDrdBLL73U7WrjnVt8y92nwi9+9KObMn0m1l9YOZlqWrnaWDa18+6kIVkwLOyd1zYIlUwleu4LX/j8O9/5DuLZaXNMJyuoG+YulTSxp9BJXtHx4+xLvWCDD431KLkUjUcAmpMVZSKUMpDydDzzOB0BAP0Jq5t6fTivtR2BtMGq5oDOrfHEQTEiwMU8QOQOaWAS0+EWVp1b4xkgVVqlYZDDqsJQDJx4BYS+6dPjjKspJiAiBZlJnJlMFjSKFgZNmj7ZIHTBQ0EIUjT1O2qW6x3NbXuj5Ci37dXkbW97mzeLbeYw1wXob7rpH9/2tj/1yryfEnMuAMkP2pbCQ6Ejnisp4hNW7LW9C4wn/5Dl+VsPp1CDK3btumvjxlMuvOABD3voI+zMaMtLPNC7uM01pQkgfOSGX1YRaselYsyg9SIjMsg0xATQCdrDpTgf3L/X83j79u85uLstSAj4f+/u9szRxs1+9aK5QtBZhOMQmkimziyxUWAlHji+NO4yCJX2cEHbCqyiTK5BoySTYzXlY6/YjQIjhbkizlGbVghCoxjkqCEv2a45RDHN+SDRm970Jn0kUk45+SRu0YN+xtUnYfvxjM5qo7LD8nBqeZgvlDtE7lx8r5zoX026mhNVg9Q2mhfNMkAJGjVRTFXyUW0JsplirMEi6vL5eIYLQs4UHk996lMdJnlbX3NXeo3n7CVF5yUw0esFiUQJMRg3cWiE8rbnACEBZl3ibN0e97jvaxum/qrV7t3tSQvvE+DXiA8c+MpXvuKDdt5U0U0OKv0aXXTLEtWFeByl9bsRh3MZFekpjnJVI8wyRcSise8e2jhy78NNYrceWSpUnvKUp3hH1pdeHJhhQg32co/RankzD3zly/+f3bCGTqF+8Af/5eMe97iMuPYpsn6DaaTMsFjmjNTbs3/f5tNPe+QjL77oov/nb//2k62b1q695dZbP/ShD9kH3+d+bT1at2btqjWrfKTNNd0RrZ30FtlD8WC64kV7qVe2OU4HmJ1Z+I53vINtbTvQb5V7SPL888+3U0Cp56ilbTFhTKWyhweRoZHjjECVHCZtA4R+FtYkgiiglrb4wKCP5kM+o+aKwWgiYSUvDaNJ5I7yTj5pklbBpG2Ih6xgUlVkxTA6iBixCzYJpmGZYNhoyzpbDUg0dnPRLTyHubYI5LyqoSGtSEOrbyQqjgBjzDZ565YLjCsitM1wBfzBH/xBHpwhAjc8IzcchnCZc2xAtJJL/EDo9ddfb39GopdTTz11M7aXXHKJO45skdKzUVUuxQnIwkTO5Ac/+MEsQswiO4nsW9HAINBErqg5Akg2CmlC88Cti1EEbVlavdpcI8jDKrkqKUzkWhnMWGE4m1DOIo8vRmxQjPewpQzDaRXTAJxWZkb/kq5WUttd2zKwBImmW9mywFwxSii5yIKtv+xRjP1Xv/rVGYyaZFr4+Mc/7qQK5xJaDMMfPuIiBTJSoupIYopFWRzCPJzDsNsxsavwIVsqb77oKQTAsBrRR2jlasnifDHmc2x+/KD6AgdXnx4ggokOcsQjhlVUy8AiUIwOIhAH3ZqxDO/QyCL0vOc977d+67d0AQJVCPgZh6ikU175ylc6VXryk5/sd2B++qd/evv27S972cuspmhEuw4y/rvFLQMLJEAUAAwVK/gYAKODYiLTgaX9umv0xz/+8XZdRpnTpl/6pV/6wz/8Q9eCaKy1yOzG/HLD61//ekg/vuQuslF53XXXveUtb/nEJz6BjJ5SvBp7l9KKr6RRLYzxbs12/17OdYylpAfIvZapKKHBv/w54jAqLrpcU1ci8cVCUXxQVJHTdRg7fRLJo5Jta7/r22edc7ZNhMQpmeI1aR9fdbt0ui5iq/kwwVBRKnFEREqAxqSnqASJOL0LgJQg6SYh5NNoC6kKDaA4RDQ8TMHhiVL0hD5NqiFAqqoUcQgAP0xhAqM2NIGrFT2rlibUkEsJ/Zy86UiBpQtZqmG60AyOIaRierd0ACQhxt9YwkE3uT+HIeZgY7z/TebELrNlRBhIGv6bl/1vruB9uziewdCK5Qc3RHB0wApQDREUfGxAcdAbQiCj3jaZRJ9xoRgrTjutPV3l0W4vRznY0ETcqzLGwD1x4GS6LzXgOdnAQIYJPLY8I2h1UPURGikYb2H4yLMFQHHXnTtPWr9h777dLkYJFe34kLvj9jvv3uUBsZNtDkUaDIdwlx5xjmK/XAoA6JA8wLDqOwEnkOgJsJ5RKadzdrp2JK7pTbjtoKgf4dB8KR0QcK8EkELGhMCAYUo8iEze4F7XQ8jMjK63ANl2tKr1a17xb1/OseKQt4ZxOODW+tEfUf4KDjCba0i3QfMJSKW5KcRLWV34sB0Vgxx6IwQRGVitojB717vexXtgoaUX4D3xrkdolZgRhMWqBBWATC0OMJqXaEM+Tk4868obb7zRGsPtYPR8K1fkZ2EAMK5/+7d/21Jk9ymwjV9HOO7OeJT9yiuvdOVKkJ2lSyBNwJJWhBINjmh5Uml4bAARBjJZVo1LL730rW9962te8xr3ibzq/ZM/+ZNMs45u27aN5sJG6IpbC78l32tRdHawYYkVWkzWVjBng8vqKD/UqpsyySg/rCpYK0noujFkq00iSk6+/fYdNnzfuPEmz/AqxpM6pRouBUwoiA3FUAkdgwUBcS6Y3jfccIMX9ZjhQseAVEUVd0AtqAjShIr48M5cqbFNnqQVemGniB6HpGiCvyK8WoAcZZpEeoqpSpBlNolFQ1ZhCJOq5DgHX3kIFANEgeIT+lGr1MoRh21xC4C+aApTrDjTZG2y81FpW0XRxijeQylvHb52rRBnHSdDlnRAJZQSz3CLrqGJJsvMmAisNLSSi+lbbrkNMffKvYVplDr/SXPcKKAqqSQeMxA+MYSl+IgrvWaEgHnDFHDb7e1urtcAfAOaIYgTXTQx0tArSlhpolaKPhh++MMfNnMZt0aC6QPGOqe2eofVitoCeBuZ8y7Ot002RF1MmGV8Dsm0iEZz463dI+kPXEQiVoC4xWQUR0WBcC74Ow0QLTBoyANWMor57VLTjUEKMMlmPaOqKpN46UN/iQ8ZKAUeubT7dZwVhywJPMMDiGjiEVz9mJ1ZZMGbCsVtWnWZkwymhJJbbAHpoCGm4DQeFSEJCnLCfbrTVSzioinMEEAZ88NhqNKwYTEMIKctV0u4KWYYil4rlgmaQ3QBZGqHEodw+MDoC+FNIgXkOk6eWky42pXZz//8z9slczgMAgEQDbWFMXg9X+o7duSmrdyw8k6qQeFdVVJohWdaAcIh5icf6nYMMJ5JwoBWJjePrFvRDUzWYeiiyw7DABeiRl80MfpyW91twcSt8cuTvicMwy58TJUY4iCeh320QiV1lvHOaZ7D9zygjTJuZhgXOK5xdSK1Mx3B89IR2bYbyEmxoWAhbRERVBTVKyR4C+LGG7/2l+9+19r1a2657VaDVnwwz4Me/UkK29sT3OOlwZp2W6atdgmCuFIe5ikSxxhpIn56WcacrklrDqhORabIcgDDNNx1105zvWuIfvl7itqpZ1urYtuBRaIjNPyLLIIU4at5VC2a1KaoKkVyA6dY8JAMTCjK0BT/1nbNGvMdJ9uLuWgQYbZCDn9e/OIXe0ADfYZT97+XCvav76NixDzFhJRxxS1OP3QQoVNZ8fOCWzDse6B2/9VgO+20du1rfO7cucsV2Mknnfhvf+Z/d1hkfkSJJk6LoBgSuN/JnYIr+X/owJq1kwHguTstRJdRIbR8rNJUa5B7KtrAe/RjHnvmWf0z3N0Jup4acr3M0vS1IOoym13xPLyZyymWGz8syj6PCJ/HkqPBhP7IwABD1NHWi1/8k66Axd5dd+8+cUPbFz7u+y6xEfZms7eueEDbHbe3TwcQzxUIgPB6xFCMSiux/rjTeFaWmWZAd709pfnFL37p2mvfz59XXnmlvZEJgr2UjMcQebYzOowC1fCaDtBW37u4kfRrxwWt4dOQ7XhyRS5leMOGw1QgYPRgH/5tGMK/+S1vuuLZP3TmGWeX3M6cjIVoXBDQoRndRvWLioilCc9pzQCzME6nlS1UZukhO8GEHoymUmrlAVIL5nP2uqvFFYwVb4aw6H3iE5/kMZ9EiGvxxGHn32J+NkWQQMq6mACDxAG3zGdgLs20jgyNoBWZNkG62FRKn72773a1Z1q29URpiqaehji75HLr8T3veY9fBtyyZYux1jbr69qDsgioNDRtVsOVY4qPJqSY1lxZWkFJobMgNM+IFjmkE1pXZQYsnYUrQ+ipFY+dvKGdYLPC8u8syi2e3EM8/cwz4wcMuagUG8od4osAsHbNeq+8+5jzyZs2eunAQu5gOT6/9bYdRNhnnHWvc05cd+JhX9nef0B/DJvPwgtBTPwwIaUEDF3lYEb6tQE79Mwdeo61frbeoZ9+gmQt4mFDsLbDvEQUJc5JqjBBPEypggHI0XAo73tnw7G1xcbGgWLw5hGhhoYaiDO8q3k4iPIktVLVllYAlMNUmBBPGSycHyJgi0SuNLdt0QAkrPDhPTqLCTuv3/zN3xTZn/nMZ7yR6VTQVZRftnnf+97HWD5BnIZZFNO8lC+JUcCo0CPCVEOtqnYEMF/8SZyG2I0HxDaAZOET9ZwF6WXhhWcUCMNl2I6kzC2GVVURQYdf+7VfM36MdsowjVDbCGMpcaUJD9OKx/iN2pojKyYhoDluaBDjyUYe61ZO3hZIk+RoAEyzBXavhTg7icuffJlbR36yxn75/PPPJ10XkIg/WMIfQ4K0xd8CbF+MoDT5JwPiRjqYiShjnvJ7KQ6+uNGe3TVK8PzABMRoAKWeYhKvSvBhKA/MP5VSVW0V+UHOD/oLPuEE8IEF3pC0VQsvCe/21bSeiglgqkL7H3xolsmHzYdNhqoOOYNxm201iymhWBV8xLaI//7v/95cxLdgsZEIueyyyywDbJfb0MDHybNyg+EBBImx1h/TIS+YVSWwcUvgaUIKcXK10VaV5NJNEzOkLsg1KCQCRUuUHGfHLQYamFaRjiZdkBzNUnoeLd5hssHlQRl+yNBmo0kvos1UTEBj40VbKqFEABC91FCrodnAPpVdLljjVQTIOGTYU0fsrPhNQ2ZSwBgxzC3PMerkk9Z7xcVBVPYcpFPpiPa2ZQ9pEuquhPm6BTdJDGC2BxT9rNGtt938jj//z7qN3qpQOl6/4IILzjrrnPbo9vR5Afh0Q//fztaDKXxkcQoAKwzRaDIlyFgyu7Wmvba1iNmmA5R+WPy/f/7vfuM3fgOTxz720YIVQfhQ2B2usMUwnMM8cGM6TYGD5wetwKUPWIotgHCbNp3Y2EkmVSEOWfCVRwH8E82UDDFzRI8l08RnvhYWOs8b2W65o3EmZiNpo6SzNcyJnMe0iu0QIJcUDPnEzlRRwJUyBUSunMfwJM7ux4MInnPrF1vtJ8N27vz2mWeegZUH5zyGgOGGE9vNZgxbMPR7LbyEEryS2an8T65WctaRu3vPXR59EV1f+vI/2EbAWPCoRNbll19+3nn38x1Rn0+21RFgruGjMy8VHwBiOnQ11LeHApwiQimIGeLiB85P0BLdm7StGCtsxQwbrrbwOCnHXEMjx/WoDwRohSEpmETo6lXtGWYNJaoidrmvVciaKtOUyDF7TRGT/8GHMvBigvn9O/Qh+m5Ca+c0hramJCcZv/7rv+7Twc94xtPPOcfrTKt0HMWSo094L5bVSqXzSJkqFlDEMMxXZL4UDtwLNiE4O/GcRPd8+2EvgeR5Ije34qgm8nD7BpYolftGT8NM01DWFHeE/7NNyiItbb3kFBtxQZOGgKQQFDIAM9VqDoBJgmFdAskOzN7XGsl8GJTC1c7PY0SKRm5GfePglVg3eseKTPTCM4PLCuGSQK9p2J082TtGEx0afAJbKOJMP0jBjuYu7t7dfjSbSliXaarwx5xKtubGF4y2HGNwiXyjZv369lpOf8Hd5Nv8dmxpuh1qrdsw373bSsF1AApkGqGhKlbQp05xWH3iKZOvbyJTK5n3qOpAhY0WWjAkbohtFJZf5JhfJmhScGz3hsxFFz3YBOtnklPlouY//ae3XfjABxCHXJO5HCCL2yQstC9flxjTmbBgAFNNNB/84Ad5GYYjrNtU9xgnk2xtWj8skcJ2Nmc/H7EEH3FAIYD4WIJNm3kxIZfrtXJu7KKBJvTRJKbqDEVk0WckVCsYedIQhpmVm+bwoaQA5igVy32zrZbBVFscqIqJ4fexj32MGz0y4/BHJDlVeOlLX/qSl7xEuCN473vfi6FAYZHgE99L8UeMRpflGE2RP6O5fNgqyEQhPOfrC/RukPAnYOPGNruJIUpShsMRhwx9lgqUIR5yXglMSdx0tOZgoeXiycVu7KWbRHNvRm3ZsmXEUFX6bm5/hRhPgZFdP81Fb3pNreasKw4AEagLKEOWp2BM6NZRoUUB3qanQYsGT+rhk9UdBjdVopFbkMUnkPhXij5VLGCID3xPcg50EZxjDL3vsCtbMTzZzmTWyUUOe6l6T2StpC193FbfvaddOUU6ocaNTaHZI1MKTQQYVy8z3lcia4U0NEE5ylOc5TAXz5CiNFjEgxgQD7xqtfvoRz+KQDwIBpHAKPsYIYQgDZPjrGHxGQGpRSCJW9xgJGSah0M1URR7hidZ6OG5FLFWPAwpeoUEJTk/ClOGbq7w5Bl6iLVKQ21RwkTQSFzJPQag2XD4sEmJtnqci0ikDFbECQlIB6eQhMYiuSb0YRpbRBSAOSZJ0yM8/0hoDNijValp058vwYcarnRtd+hAAbrBuAVmwydXXAnz5nd0yYcNcNQBvgrrNW2Hey78nZfCWKW9/GROdxv2QQ/yEsuFvjGqA4dtA3v1qX9HpZV4ZzbpbFJ4R7RFnHyWTzAk8uxdd3/7lI0n2cza577oRS8SRppLaHiEiOae7v3iMyt3Lgb9LB6SSsGHYdEU/xUCFZ0AGuIjCMxxnsOyQRPW4WzqF20//uM/rmhy53k02aOZvpEtJU4VtsYGR1kP+ERzHnN61je/mQJcLjTRSWgAbfk8dIJvpph5RaT7at5acnf5jjtuI/Gmm27Kw3shzojlE+L02jL6DPUkpYq6iWIi1cAQo+w1B335yzckAPgEsT2ZFfTcc+8znUZqHrHLbpsYqRjOAi7rzSDBx9KoHTUowBYYTMTzb1111bv/y3/Z/pWvfut/3EwlilGJaWj4s32R94R2+KnXMMQBXtyCuZp/CPLIFWSpoZU0Kg4xqepUk6yIlwGifAgCh6f+MuW++c1v8nN83q5zY4m2MYQt/CkGWOqZTArDLCPimKuG1pkh/AjJA+5/YSYg3uZkjnr729/qh4QlRUPYXxb4Yxa6woaWlfy5EAVUPgTAg7/GeGhReR6SOanS40KCY/3ari7g2O5nV+Htnf2tW7cqIg6r4lbArPKkqE3CeRhRQ2JkSTbcpPNnKCG1BdMkD985QPJkGW/rCLW8LRgEtjCAhyFFHou0BRgUMElDofcEJp2ehNJNDo7fAKocmbpYty5yWmpJJ44+atlCK9sUgCf7HG945AXMCjkCCh+tbh7S8Vk0Xw7wyRY6WDs9NhG2+g7G7PSJ6z922823tG9m9QvM5UUsXIOO6PDSPSzhd49aMMBsTm/2o2SYh6OsZObfYEbNq4jDbFKbuVJbCTeOS/dXwxFgs4CS7yiGUoASLSz4ER4yeEXi1EZomEyCov8bsh0qBh+yYRMwtnISSaGzXKsgizLA8jnmRYADPor01H82YuEMCcMoc/Sv/MqvWEqd1CvqCOGliKyYjABk5k3NzemOhUWk5Y03IjemFaxtFODDxKi2ar0SLtcKAVfH2044AVmh0ccVYWV8jtRYvqiVEOI9ehoYNkCuRXyIfOPG9iipxED6OFcRWsgipXiOioUfAmgcGGqLG1bsMn2nv8IfLIGZ6WTFGKbMC1/4wiuvvPKaa65xKzoEzJRwxkROMUWwXFuJh1Eab/awbIGJGmleKtFnlEIwRBbx0QKEso4h1113na6x88hVkTu7zlF1MYXNMgC7Chs13h6JaJb0NMIfbRGPNOFMKv3yL/+ygGEp0RSD1O86WndAIoCHjG+PVtZR0ZdiWpXPl+cwbDKkhKc8b8spL/j51ov/DMyQQSBOfOrLGiZOhmkpnsWfbmCcJcRSaVtAiBXRmCLQJPAIShW82qc+9almS9O1eZuGPM/PmT8FgLhVpH9CWsPI0lanRHq4HZccQ7MHDUnBH0wfoiVjZ9u2bU984hPFrZAwcZnl6MaE0KNJ0SmLRc6lqjmQRbG3rJ6rZ5yWKqKlwHGRPM1FqanGjgcgHhOWtLrxxhs1IUurajtXUOutYUUJ9oMDHiFjranZlOTC1laXdZHNHpP7ZucwfSR0baw0kyuD6dVndnYL7MNcDiW3ctCYCO6jhphQ7EzmXGFYRZCJVG4Vu/JEbXHHISnMp6VF/4v4iMBQ1VliTJcnmG3Cb2nFXm3Bgsk9diGi89AD5CLbuiK2ePiOHe12psCKLLWsnuUcDLZ6gZf0l8GT3Q8kQSEohWEkVRyYFBHChVBVCWhVutt65ykJ+ydHEW5basWQaGJNqR5fSqshngKKHvdqP4TnI3nr19/6rZu/vePO0zZtPLBXALjjuM5Pe6zdsP6RFz/mrHPOtVVx3BMOXeXKeG9hOzIUAeYE5xPZZacoqMxxiVs24pI5Hex63Zcgd327bVDaYfL/dfXLfsqd33/j5TAdgSyRdjJdfa638W5nR0nMwVOvSfEJceVkmNhbSMAwFWWRDWuPCKcVTUh///vfzxbAf/tvn/noR6/zSXdPQj372c967nOf/cd//McMQWZw3X7bjnudc+8jcj5mgriFjwS2fSE+glAUObLypQd4j1x+6Uv/oAimcDwwHe/cu8K/o1MwjpKnRyK0kHN5pXZUxTocMgDBBgKHGxcwAEUWycWMr7PZKBwwz7dN8jC5mTosLoLjPSJwSwU1IBcR9UJM4GS1WXIAXKqSAnLvFroxBP7Zn/1Zh5+OkdQCfPDBWL7jjh2KmuBDXEQQGiaxPchZ0ceAidO4hVBBaA6PrwSGu4985Zl5tSFAjCyKmRX5VjJ+Palw6aWXOpcq5yCL24+o0sgWRYkOOJttfLqAaB6zwwCowpBXPaBreaJkMJES5yQvuQvjHKoo4lkqZiIWKKYkQzEc7WK2bNlinkKWjix2swCeo6SVhDkfAagIlmdQzXIIBhNX3CipIWc/L/CjXBUvg3FTq1issE0qtqVMYUYA+sKAq0cJlaIwZNGsEMAqSlIgKukwRzEcKFE4+ttU8jmj0Jx5xpn8zCKU8twzWEocAtO9rrFN81JBnIDJiD4YeRxINK10K6G6g9xf/MVfJEgrsBweK59nYzgMSnqSxRXwFBvxX6qIOFU0zIaJtli57LOMtRlnut+0q3CqYxtByfi5rAAkLSUFHgER7CIxpilirirhEaSi8SyGvQjvBvDb3/52Z0SQiA1Xr6lt3749ZtKBsXIMpRiOlZ7CiuboUWqbFLJpqf2faj35j1VxQ4wg+bDJMvCQP44Gpsdf2aIv3AQ1y+hBayqkfvRRPd98zxZN7ko0zUviqLiM3BVWYcgbDPyBH/gBvhKNMABJj7tlmDmE3+BhVsj2npCVjXqt4BEw4q+2MJwMZhETBFKGjAEL78l5Bu7a1Z5OUDRARO8TnvCEEgSQitUygOZStAocnmDAUJ/QCFRAXbQVQaY+T/L7WqetsPtBb3jDG3xlzKdffcTAEcupp262aGmoSQvEHthMS79ARuIyqh5tFZWycBLBgSTyiRXdvUYXoHkcl1fRiGEKIAOgZKMI8Y6m0DVU45BMU9HTADxaZUgfGkgTtptwXImKW0WvkcsJNQMA0hfDJiOJ496lWRI6NhifLkA//vHr+wNak+tZy/WjHvPoUzZvMm67DcRMAi6/jD6SkSK2gMopZxTB8G8cx1mQc9tCqjL+uY+jeYFzbWxdGlAg5iVHRkTCIrKGLggmIoYwzNBHQzhk8nAGSEspuQw+rUb9h56TmcAuBEYgu2DMziJM0GzZsiXBrYq7eGApETFZLT42UEZIrixhmgdWHfQX6bGOOQBX9VzL/3Yn5JL19Kc/zWtKZKndtavdORNYdq9OO00W4SDXHL2+W0qfpfDOkTAnkdXMNLAJbZ24+oS9B/aLKPfXRbPmfayN2bBOGmNT9rsvJzTFeImIqIq5RFVFDckFZCQzzdND3vi88ELrzkXXXPOnb3nLNR4GpAP6t771rYLfBZOQdGNYsLkh6kJUK74lUJfhZvl3/1jollb4S3Fy03WaRjojSIIHjGqXKs5Snn7GaZ7vNCguueQSn25xW922zFNg5nG7Exq6BLnqqqsQ8INicaZXwccR0JVkib0XvehFJ5/s2c5v37Hj2+R6fsLk7OvzfMU/PJywP46iV8IqvYGyhvOoVREEH4fL466MGrkQ4ljPP2dIMlCy3XSK483X/fva+XkjPuTHPsKyeXu2+4bSU4saIEXikKBgVSYKNEYQZyoSpwgWvWDx721mJ8zeUvMOqKgwrFySUo/nxYYIQVzmaKLXmtQVh2IpszyAM8+QZbyYLqyUFHD3xDGp5//NLWYVanAjgFdjNTWQobfKqnJJYKhmLhI2yDAkd3kXzVWsL1Wr/UC1n0ghBQeKedDkQRdd5CvtNOmtDt122y2f/tTf7tvdfjVymGYlLroGLVJ0eDGeGX7I26wH4yEAvgDYZ9mwW0dDb0hwRLUdAa1PpknVFGydbY/MHfySztP3akfNq0gZyfGmnM0AncGVprOEAkqABKB8TE0+ZFsKDJElZRbAQUJM1eIPM0u5PIaZ3YJ26UY9CU/6w4P5mQ9FDHM4mWe8euuJPveu4hb2wiNeSgpuqSXF8DCEMMc29GopL5dg6MAccgFagQ3+EJBiyGmI0rUcrfCRu0pDA4lerYYELaPPXD21si9mC1mEejYNh7hCn0JayI0rj71wBVnkRuFw03wu2yESDds9nRRVmZNQQUPt2Igt5eH5mQLyrLiu4fzGOA5U+vM//3PnupGuKGmCg4RndOMQE1mcEN3wjwgEMMOEQ4rRFkGlof4rhLEKpUN7vnLJ7klF0cKr9FEL6W6ci2mmeaI7GLoNdSgmKxS6EjK+Zak5wWQtUeZEv1HXt8sGLInO7tBgBcmZK+F5T2g4edQ8mPihvFGuKECrUKabaMu3ut4IpT/YoTQARlfUDHbZZZelC9BrCOZzrMI2DEf6pBhNkocscGqDGTYnF2fKEIGGODlYMIO7VifYS9lU+QCs3ZW79Rh6IFSc2DDmhqihnbaqwPhHhGLk3vNcF9PTJMZF8Ztxl6cNbD3FrX1qFBYzGWK2X0aWaLFHcSHopDdbagT0oSczsYrJK9EwRoVSK4lWZFFMSidSxuTDcI98qEVj4cs0sryI1s2a0UmOKWpd4RPyhw8c3L3rLl8Kfe+73+PTMYf2H9h00ob9u/f6zc+HP+qR5mhTnhulnvM0Hbkpaf3y532n/re6/fTj4fX+8CMhf2KJP11vAPQx0STSNUHAmA40PouVplGbfVA6tXbjyvtkJ244ecP6U9atnXxsPZM7Gu5IW8yTtCJF1WKeKy2FCWocklbacjFdeoWNADxZKtEWTxoKDlOeODPj3HH7nd/eeddZZ57ziIc/6pSTN7mbYku7Yf1Ju+/ev2a1O6bNG7N/jrfjWD/RcL/7fQ8PK/rg2uFDa1YdXuuXQdtf+wX21sUUoAnRgXsI+FLQiWg2rD3xyhe++ND+QxvWbji4b7932Hh8w9o1f/1f3yseTvBjj4cPui1oMXdNK0hyz3uU6672wNv0L7WQ/vbsa238xtOe/Xv+4398veDxo58HDu73K0LC7Lxz77XlflsMHhfHbioxc/WqQ/XXfnI2F4LeymRw/2MSd7QIa4/OTaYtbuRP1rExMGKPCghsxGC7rZOJcVh06OD6EzfcvWe32Lrjzh33uve5voenxtJoEaUAIZRxbcqfYK4TTnJdhjnKPLcFTpq6dLJl8Xxf/fkAlb9Vq9f2v/aJAYHuCCURH1jzYcIzxSn7SZECMG34nLBu86bTPSSwYcNJ/vS7cJLS6id+4vkuoD2me/PN31x1wgFfGGuD1OD0GxjTj9Bm5JaTZ4B50TYbf1OMkWjNTjD/q3/1wh5vHsX0RKiLTrdjN1599Rv8Vsnuu9vrLqXn0OQjwXOCfyp8YvWQAxEj1ylCkj4kqyIgKa063DwN8M+oMe8ddBv3wN53v+cvDjtBMwgOr1q9bu2+gwfcYbr/Ax940saT/EaUD9/I/cSHkGwBf8iktvbwCWan6u0GmAnyZzbAP6JJydpGQwGvR4SrOmqrShx6g1M0CkLhbTZB0Mnc2/Kz0j5TJfgd8nloaB2fc/5dd+3+7Gd9DGf9P//njzc/nHrq6bt2uVvUjlicrxiGUSyxMVLymIuN27rVnGC88wZX3Lnrzs/9/edOO/O0Rz3mUeZyfyZyU4Ffdt55184TTFSHV5vx1q870TT4le1fW712/elnni2oPXDjs2IehPFRNlZzlIm0ZvthVxbMn4EXAbgb8mtNBQesJk4ITBsnnrLx3Hufd/Y551phuJdbrFPesXbb2FU+QQYaVjqFt3XBMG4nkVQySjwtbWfsWTCibjrP/TgPENkR2N1kCcR9xLE4lPaYV8InsIZGGhpAVg6jznw0al5FOgROkAk4DTVRZBUOIhscfWJwtf2fAaAwR5UfAIqSXaSU7Q/AJQW3O7vwWgI/p8O4OrGSVWGuOfiHGE+HS2gUHYAMJQ4bwg+LgeNM2zHOvHNnO3zjT5QZqE5c27Zp3TqzJDyYiFkm4Ry5akeC2Ohwj7ZsFABxS/pd8WEPe4TNGSRYqNQ8MislYSCvqkiU56FxzdVyJj3BEtHxJHOIkFSh4bHYwr02yPrCeRcafaFJPIBtJBKHFYXZzhUIHJGhjKWlQ4DSbRkA5TK1w6qhsYW3i7/1ttvTEQwBsMuwpyTOjqf4kJ7btm1jiG2BhnP5FMN7CDiaSrTwjKsfsviWYmEL6creo8LUhqTkPRR3xObpteQhjsPTQcmPyAQB73GjnD9pzhDTqxeacDb5xGSA8zk0xzD/pL+iG56lUjSE0a3yEIANE0IpI5UbacjbcmEgoVcrqunjnaurr77aE16XXnopPCX1FEMkPBGgDx+1UilwzwHakoIPTTwe7MFar6WSyF2Z0IxKq4yhZ+TCu1qVTGKUdMVMPRZJtMLKvIGS7Sj1wjLqxYp4LGRlVwHV3EjZunUrn2BLCtFu0HjEgQjE0ZMO6BURVMPJQ73ESOqkEub6+tprr8VCr6jlBV72DuiWLe3qm7sRB1/sZoEwbNx7KgIlKuJJLR6hIinLeCR9oLmGYQLDErN5tglshpEQVEiVuO86QKXugKZb4OSWCtNx7mdwghjyDu6JJ63XnSKM2um8nvNV2wrNTfzMdqwAmcWIE5oRmibguW2HSP40z/rB5LPOPIOG5GKLD1c74aQnjCDThCDE01OHnD2M81zqhMaG2585Eysd7eudWGGS/MD+tgNwvuQMB0ZUkD5UbBbWdjYhM7k4pAJQW6I/icKDqyGNPczB2lpfEaiSiCOaDuAn9IdB0PAYYyEB6DXHqs9a7cgLrKo5YepYQCXE9zxFKD4FhGekBH/q5nYDKdMK1xlHhmecLB5irCkpmDQfcQvyuOQ2E4lDogWSA3kOzwRCSe6iYb4iSxyVjovQIzJhbxLKKbjwv5pDjeDyc0VjBoXbeDfffKs7M0wQIUzW0L0tsSd+hnyK4VygogWAoBpGORjc5PyWQQcmK+uiYa5bNeRSaqBBzNvaUjIq8byiZ1le+9rXOg71m0tuKLr+0Sprg9rokCaRG2XIuueJbhlBhomd0+/8zu+Y1qws4sRS6l1za6frNI+YCeCMepOMB3muu+46TRzkUt7yLwW4/vrrEaCkZPlkVk+GFHJoTgwcVsV84epTKplyYcKfUBMyYo5NR89GbJsakoopgBj+ZaRPPvZJWXccch2kkzzHZZ+VMCKm2dCnEkyGHAqOJaNckSoGmFZcTG/89X2f76rpHAC9tnIKEC13/xkgQQozbex4BJaqOe2/e6jow0z6lwkxv2s+uXSwq9BbbloYHrGRygggQ8bbc43gAQ406esU01bo+dNgQ09i5XObV60hJ3D9bMJrXvMaLqSDpLn9rlnDbYm+f+xvxZ3QfoD+wOHJUzNhS8kRMBSHD/4GgN53RUth0bW/fcOhHWi7RepOnq1we+qpz62McuRSHOK35CVIUUKTXEOzGMXEasIgUuJ53iARbLgKP2QwDMwIAWCrFRoYIwoGnzDHX1Gsqmoi+0ZeblttxXLlGj2jGPxEpfnDotGWCWmYJkN8YZYigKeSz/m+//3v/8QnPvGCF7yA8iyiIT0BRjFjudEtSZ4Pn+I24j+sPWbYLoTDhTH3kvjSl77Uz1jqcaFIVZroaL8c8opXvIL5TYFpwByzxOUbTqRMiXgjIGUClBMCFH7aov3HxD6KP+kP3rtrr7f7TH6M6gfULag0d7sRRgRKyIYcjghH+lAZsCQio5I+xUQ0kkWKh3H4mRq0EvBmUaahVGX8IlNEoInVyFO45u0XvehFBi8+1Is+6IkAd5XbLjPFkdNCfGy57qaPgSYGfv/3f9+S6cKOkkQQJz4FqoXGK+C5U0sBV5keHvboos8lcngMpyqLtHI4x88MxFDbKBzdhjDMbBcUQQGhkWPleNUodkZCYsR97Wtfc49m69at1OAiOR0SA4AInaygUw14FvN2uckqWwasJV8hxjFznKFIGCSaPrnp4vA68oqlVePeY2tpoPXobEoreA3TlkoSVyYgOrJ5DXvwLIfvLiYelzftp06gq3FIf4dDhgS8p1tc5VsC7TX9UGXsXete4fpG5p5Lv+UzxxT9yhsmUNOWdc5TJDCCjH+wnW3Q3DRddYa1AsMPYe7cucNGVeirQiik2mJ54IDH91/1qleZBo0BnzESEu6GVvPwrOJcgDIMYaxJNrqt7TcXKW94e7S9BeiqtqSF29yoKosKKFlmcCu9xThzCm+gwQ2BuSZD18wS0YIcASRiCsSHquyLEdutZ9JMgOFAJUsvQJPkMFu2bOGcaDL0wKxumqww4TNsPioOq/TFy1/+ig984EP/8A9fuvHGr/fJ9ODpp7cvELkNtmOHh/UOm53OO+9+VgENpaGSK9Rn5WTk8qTbbHGpg1wxaWLKImofRjqa2++41TOrHG4HtnLm94QyhseT4GJVvl3KLUWQVm0YHjpkvyJOmOZZIpbaLrDFkSMa5hfzlQNhTpbmUpRpovuMETwaoSsCJZdimBNtlhbeFDAYNVRlCBi5Qhf8sY99zFJkyfGKMDwOklpzuFZgTOSJcAAOQa5c8+Upcdb7BpRHI91UopUQNe5oSwc3qiRWeH7QOCL6K1/Z/sUvfvmMM85yQweN4emgyBGrJhR2le85x7PPvpcDx9wJNnPGhFk1cIsbh1XNpYPeryq9adZ1cUgoJXUxVwjUz3/+83QzGcJIszzb/nokhs1YCI6PfOQj+OozZmjMAO/NsN8mCB4mfhc6mEyX5FJpAmAe/pUDEiL0w0RzsmCiujVxzKKX0xyoiTxegDQyJUgYDsPHbrGNzO/8Y35z9VwKScMYXsrHBOMR3ooCb8vDw64+Y2NMFl78k10Luw65QJuX9IVu0lnYgmtViJTkYTiv9QSHzL1lfHSxqwevgZIoFnDjWGr4JrV7hBs3tq8i7/P2iffi/ZRdT2EuTxHHEhdkZDQRBw44wm2L0MF2VwkA4zUs2+SJ7W0OcsugPRQ30lbzsI2LUjsUBI+hacXXcU0rOIhVEUJ/eLCVmzMlJ72sMJuYWRLPzOE6Igx1n9yyJx1yDmyxRNM6osc/tmYHA2yk5wqLxZ/QuU3KXrVFXJRqGZjdkp27pwe9Ss+cnE6rtaFm6aWXXgqJsnHoHTTLqnjec4BnhAovuViylSFLL/Ow4LTewxPh1O55P/Z8eK+033OJy3CgDD9IMVkuVTENYYqDqoILQOChC/HDBPqLGS+bqRUsThMBDHFiYf4lTjHhVM1XDhAkopKiFW3ScUESZF30jOhzn/vcH/3RHwVTafv27Z5dEISJcOrZRBoCiXCP9JtVNKcVAkGenKqQcQVZaiOCgZDglau9PCV9MHcL1lWm4ZNpCn92Ucb5DQIqwRhWJgGYyy+/3PGptYa96UFVpKAxqGlr5GrLfDE2kp4enHhvcW8GKa9ebkDvfNwoZtPcZrbp476E2n/wNt+CNZTSxSW0XaA0Lv3x11S7INIrDqAtv6GOx10ZXHjBA+wc163d4KOCHmTyuwraatVHxXyPN5nTWbULahNBMNTiEermTSALqnHenyIr9RaAkd44aCu37rKN8XRwTUzEiHKBxXcVoi35FE4ev4F9ovHrX/+GmcWY3Lp1q90W/R1Hcwu7bLX6DqEdginGgXPt0ApzkWryykvKiqJNV5asuQ1HSH1BIq8K4tf8u9du3tS+iISD5zld5ZLiDv/3fm+7sFi7rq1Jnq0dcQg9ZOQqggupm3S0I1zjxw2AItu48RS70URa+6nKaf92kpGEOcWSYoE08JysYkUWPQ0J47Z7td2zFCqSLa1lxthgr6rEofDjdrOPgy/vpGc4EaY2tsgz7DPd4E8KczCMAkPNgpkzHw+JpjBizFMCS+DCgGGGxYKJZpRzUWvnq1/9al8Z3dK/wkFPd5sMYcunZ52YIH6o7ZnvEecIPV45EVhlPtq3r92XedrTnvbBD36wB3N7EYgiTpo98PyjP/I8nl/jSc1/qtT92ufLvhGPkyN8CM9VBwFtVQHc24r/c4DEZN52OCfSEkvVO7OsqmokMcWqBUiQPMaZElZGJRGGiVki9MQhU2WfRIcMdq42A7jyA6BHqUoAyLOVBIt/BKJdW8Uk3JI0CdtZ/SN3Fr8UBj2tjCzrIgAZEbSV041dRqhapqkyoFYdPmjXRTH+zGhVpSFbuIJWAG0Zgt4Kcvfd7Uyo0lJqF0FMixWIC8CWGhdccIGcXL6iAwLroL2pTWqNcUpyVzGcXECkHHYoNHZaTVHNGMDdCLBmm6sEZATAYESwPMViOgQoMZsQcAe/YCX+zEFciRVvDtsOYcrgE0zJ1QQTBssTZKrwRDxs+z8DHN9SjHul2EJblzuiwY/Ou6VhS2X6NvHZVOo5l6RuG7jfjkYvSMvYFe+RgmccwrF8ApM01wnl0tQq6gv0iqJz00afrWhPcsr1F7V1tJsTRKCUU3gu27nIqKGncLv11vZtaxoaRYiNKNd8hj0pDMFcImsZe8MtOQ5pIhef3OWCQCyRZYFUyw+4IQZYTdkIaZPraOuyyy574xvfiJhcayq38z+tnvrUpwp4SNqm1zQBYAKJiRxsaNhZW7ajSXKUVQSvMGmyPOUsAXt1CqdxnYf+dMcVV1zhZbsvfvGLQkjksOWnfuqntm7dyiLKs2V5Efe8lkqcSRwg08ILX/hCmhNtP6cKkvfsw3g7vX/PhS7DIR0xJKCYxBuVqggYUhaMiVFAeRhhb6iygufhNRHGao0X5qhVXIpPMVwKiCY4S1EvXWYelmCENBowQfGeCBeKqoRBGUsf0cvhyMhCiQCSboqYZ28N0CQ0CDJMAJBLaXi0eNx0txmJIaTTn7ZMoIx5D0A3BJmpMIcxPOXMoaQm1EOgiANYUssDJg3jbqgPfBXLBMjCxz9VFXGp5QqynCLQh26UVIuSkqRQCQFKGBbRoQQ5jPXstae0WxxkHhEc9uZ/8zeihCvbfQvsWGhr70EPqmOEHaSGHeaOhiymU2CyjKWfCEZDNgABJM2ymSKR0jHMQdq0+aL/WkV0+GQo6g8Waq4K/uCBZqHYw43CMFQkyOldFIZRBaZJxMEQA5bA0RAMmSK3oE+tPPqnF9HE6tAHJjE8U1tN4OmJBsPk2LYns3fe4TG5THnefGeRaBM6DuVN8T4v86xnPcvlRURgYujHlpJOXFfSu0Cuh+42sZ9xxmndZB/qdGnerCMxuVbDFLaFaTSHWnDTQdT6RKyPw1EbAaEhc2fFuW5vSCxbOEcNCTwJ3WILsqukiqsWNjSYeJfutttvcZajQl/LzTkex8i9Or3Jxo4UJ+mjcVyRRMSs5kHyhnTDDTfkhn0YsohjsTUOqSA2zHfWWqaZaK7+7at92M+vUjtBsiKidN2mFkOUzefTuMUBLNisVfxDB7DrXQMvWmmy8jRsEnPwZ3w4pBZegmcUPBg+VUNB+kvAOMX1WKNnH8wCkl3/85///Gx5WR3lhfiw4XGHfQ/Wu8vEUZIOlkmf1jIBcRQFJIbEoq/94/Yzz7p4f1/TYWhSdgGCuefqhZVOHDIcigMfUVxXrC2iAkbyS+ZpBS96YdjlblmAFuN95hkp35mMcJMibjQUbJKBIxeEEYezhngiDRkMQC0pWVfAMPE5YgkNekBaqcKfesgisqpQRlsYtX1Ez4mQajhsHubBzM0bz1VuPK1ybGl6sCMWG+5DQXrH3Smmc80cMnm/v3NrNgoVDa2XUSkBA89YmHIyo7rhE21DjAmg8s6zmVz646Y4m+JPs8HWrVtdumASuXZHn/vc53zRyXjnHG6UR4cwabunkOo2YtJ55hGHiizp3+JqqlPXAVE2BdGGDFJ6PsfjpSJiKT0aQBNFqkjgIPGXwFblajsEnOErht6AdMRvf22OsAg5EXroQx9upvAeLtviIqwkgiIuOQ6dYGHVHIooJYNMMc4BS6VtmCuGUhGQPDRDfMgERBHQwQiBMb9/+MMfdtROeT3EKB7uRxPtW+f8Y4fhAMHeRdtw4C94vpJDBiAidqHXcSZTOwzRYI/ifeooU3mpUZghQA1aWRI41ksdPsNmYdZEMiGaGCnmfMKT8RzSRvt0ZS0m8UCsLmQB8N6Koba2ZhrhJ+TUOjKlMJ5FGfjw4EmlqgoQERQb4nHOEwGQmYYIyqaEixBn5XOdamb/wAc+wF1qmSyW9LWLVwCH02quCZjwPFfwsHFBiofsddlQh2OD6UaiFIuSK+KWfAiUCDpTQ04xWvlGtikgGHpK2qrlFgwbz2nQFofjCwhg/mQJtsTxjF7wHhM14jrdyrdUsg55dmxV/8TH8dVhyK2Z3FN5MkDhA1Rx2HYIc6AiMvEvWuJPrACczCjHACINgXE6DOMhk6VgfPDERw/qOwHcRkdfiSMoIpDxIX8ChLGcG6NV6V+iUyuPUACaIoOEkcQNJrkgIQv/MCw+aX7c8/CPDsln5aKJzvJYGppZZXCYRR4VhuHmIuHqkJxvM/wpwNvuKFsQVaHRL5BS6TO5aaGHuE/niX51zrIESk7ANNNAS2fEJpdcd3ab9cH89XyoelwAAxjaGZ6hpHrCBaBDh81nYUxcATDMOf4P//APn3HmZiefnsSBPOfsc13a2ygkDlCyRcJcwgqmWT9dVqkUJIDL4AHooycYRjHIUMoVQ1AYRUgJhiCtUpXmOACYJk8tIB3G7c985g/500MGDycDvBlhEDIkfWFRzIQoJ8JptRxPbSOx2Oov1x/IzE2+680ip+6+VkOZYYq2Q8wQ9oStHaJLB9zuumvT/gMHD93dlor9+9tBLuuJ++QnP2nHbdS1gZ3GVOIEZ1yc3P/4COwP4A9VU7u/gukmKEthsMpkKq5cMqb3m299XqX1Qpv09VnMnMpZNCEGWXn6hZPjcw3jcHqaoQglzoM/RghZMDYK2bvgkEkkl0oxDTIMh/zpDIkPb2AOxgSSrBFxtTpaAJ8yuYBZZcI2BBQQMwYF/a1hzA8+Gh4vxVZiSILWp5IQO2Mww8M85MEPMg1xGq30hRGpLzxM5IDXp6Bi2tDSIbwSoUdLwyHUOKpWcSk/M0d40DApUzdzzLwweKIUXUf0+bCXtbJ91FlcZBtte0eECQ2fxm46IwHQICaI/jgkRZOYk6kvaqjVpPDIEqiAVMkNwjAkMcQ4M6f4pDlKrQoOsPI8EkMfmCZ4DlN0g0GWfOX8h5RDWYU/IkOOZbiZwU7I3GsC1IRDaOWSVKfYcKOR8IQszm0ik6DiPuPQ2unHWPDKPJ4Nl20RjOkGX0mT5IB4toqN3SA16kRZb5KinCotPqbHg5joNjZMe3zAooN01goZGpOXacuSY1E/ZeMGF6OOkVWxostqy6SihDitwi5yO82C/qpCkyapBcdNtAJXPKmdSmksQxPmyABpGGcGThPOpMxgEml9w4R1Z54JMPwQoLSQ4Ko5mI28hEmqNAd4vlstOEIBimjQm0AttwZeuBmT+s7mB6XaygNoEg6jPBZZnfWO6RiRpdTo4gdMeEV4edFYc3Lpz6JwCMMIioghHA01MQG5Z+3RAbZsPOlk2pJIhEWUse4usQgxuItrh8IBRnpWMbVFgxsR2MJkIsAKT+boRKtLulIRnl1sRB+rRXgsRa95iYhpKeIJUKsJVphQPgSxsVodESj6If+0ivQiGCozy5bOKA0KZGKAkyXqQVbSSi28AJ3lcBwxRHCjF7EAGTu2cb/6q7/6kpe8JAr0IdA2lL7pA97Qz5ai3nFUY5YVV0DK48wUj1auViZTeY+QyWKGCZMTWqmalX5EjCDkE3xQOnZyeiQJMN+elEv8SXP8eVVCXDwhC1YVWADEUkUEwgMmSVFVkgU2PIkWyYl8UV0MC0AfVsEoDuWOaqvVXCAKpAosgekGEKHhLE9KbSMamFls0RRcwFzKqp0LMJyHGW4iMq0p8iQMP5upHMhRb6rRIsPb8lBON/yMRiHiIkYDxbiSVfe5z31dG51ySntwsTQ4BkVLCTExddmEIW505cniP/QOYsrAAHLcB2benTtvs+p4uk+IuAfTadqKwqiSFYDm0jDyCEJZZIoIFId4BCTSlk8BCNTGLYpqFaUwCRw9wSGLCHmiM3zMHZog2LypPfnis6v+LHhumWPb5sRVa5hjimYXNa0txJ980kbf29QWUtvwbMtqT1GShkTI8YHms2i1whzb1rY/VqP5xRc/ytNMOLtzKffonAUOxq6lrxwLvsKfReWQEhd/KmKL+d69zjY8GdvOoxATAXCc4A1CXW8ENa9OL9Ybt0G8Fc/lAWu8dbHP1JNtGX9GAQwlRU5DQxa8nMeij1oYbRM/s4JijunGlKcXkBldprxQal72zrY9IibSh2RDhiN4InHVmn37HRuaItt1Dyd7RloVYjBMT63YI1VwL4zfoaDjBaeX+5erT/SbsrYyTj1t7ODT12LASZjLLZ3gPOC+/6x9aPA7nSbW9xAtWTxT8BEBEUJzgeGYR8BM3DqdQFxgFDJmJrSWZxsFoptWigla7nJmSKIqh4ZDMjAk5pQJUCJUSYphGDhFGP7XSgJLahMeZqVgzPZGBKSBICe9OM8CxXy2ailMhFYtDpErD3JaFJ/pFyQNkPWqtpeu5scdSK9ha1rrM1ubrsk126rS6ZlmOTDO4f/oMLncUYglmtn7mGL0pQnC9SgzIF3beowoNN2elmnVrMzeNvxm8iIOfRUn/dc3R6YhIjJnhSxsQhxYv9IemaJcFQyrTJe5jqFwbGMwSlqVLohhkpAxPgl9paLRKnLlMS1VUTIwmnCrYmQp0k0rtQFgNEwtWaqIpjkMvFqrpvXD4S2knQGHS2nLkHaR2h8Mi3NytVQYUvBBDMAKhyiMTwQxFiCVesikNAxylBMkgDQ0nGyrPcnJvQCuTlvqecTJyQZKcRLmqsKnZM0WmY+tH0qjJwVEF9ujvI/5ufUYWMOm8WDqiIuFAABAAElEQVQxLuYjVecWScEHc624WhFAnCRUFBli/QMTwZ9RBg3dstByL9vVzuUPiQnOGKIBcxf4qJTEZHl6nKUoMKQEJ4VDYB1BAYYwLboBJJh4AHFxC8/vXM63EU26yKGb1SX3lemma2CoTTGx7bmnoSbww+LxhbtHWxYXHa1D6KaJCPGCEMVYhw8gfMyNTJOQ6QvWrVx5HCTc8BSEOORyUIgC8AlPzIdhBpkEGbwioMgKGbKoSjGJFLIkMLmRjj5FHAwByJWbUJTH1iq6RQ1w2UWTJLqViO8QkN5kuHNWEzJlkviEDqY7wRxfBV9qrG2/HHl4lR88ESDmBo9K3nDDDWZMWxKxrj1SHWkMuLzV2BpRjRXZ24uA5TzOKciSpznm5mJSEiUEcVPn3xzYOTfCYAA6miWqNOnFyWjccGLbN1FYcLuHJyy0xgpSCitMpMZuuvIFbpK6LNI1DH+tEMOj6e2aXAQwqiJdEVz9Wk3QQNLEDB5AW72iVZiEUgQzn+EAz01bPnM9lBXFU2ouQDXBjSDzkVboTezOP3fva481polaPjTScj2EG9Ho4TMGCJ29hItp8cBsjklZ6rN3nkzxGEj3atsKYIu/p7q2bdvmYSLw7KRXro4D5RhK8Pj4lgKAc7C6e0+bYQHnn3++VR8NYsYGCKzLAZWGzIfIagLJJxIM5swhCyAnHXM+UUVzVdmyKKrlxuDTxTDFfwiEj7a6WM7VhsZQK0yGxWHblcBzm0PObQt/YH+7lJcIZRr1AIqAjp40ZDhVW5Wfv/hOpsRqNDGZ8Dl/ik/uFZzwEiQVdIrXQp78lKfSszSKIVU8LkDxZ750bDzpTGFtHcDEBGy5NPNhnv3hc+ZLgKOVYhRgi6G24irMaeuUo2s9ybBVFf6AJHVTcCH2IIc6CNcRJrX2WdrSWTE5NVIVtkMmy8ArISaodADjFkyQyYOPoCFcDZfRYZmqaj7kOaTneUW2C9ScKMBI+kXXOyY0pVhcYZDJi4+omDybK9BNK07nfH4JgBdMas31lk9tdMM+E+riBC+5uFqMXlRiQKeZrEzqcMbfwo65njO6LAzkeiRCbRlcgJhUyxi53Ssg8eoHhgC+XobSPqAr3JZAADtZgVJwysEwFd/FGRC/ZNlDKXWbWn9LFDMFwBBN5+wkKAkjx1ACUEOCRExDCrCOUM0BmIPVkqWIXt+43PeJDlNwPnthBcX/3HvdxwJJVvinC/nHuoXDzrt22CK5CqQGPfWX/a+Gbn3jme0IffDRnPJUggeMcsWlUvTEas+etg5tWN/uuADiFszxtM2iYZjP5RPpqQKnyPa/+7v/95xzzvDLSqp4SR4XcVfzddeTEyExb/0ymF7nCiqktqQoakU3Oc9jCxlV6W/JBBsMRKPnVf2C0pylSGJsZ2NxK/4AyPS1YcbnugZzb7M4c1MbG4f0xwwTlLaxaJZP4SlMJSbAgAGIKQaItmGlNq7wFZRZbscRI/C4Xc6ZnMzVfAsQpTfddBOtqJEQgvdQ93EUvRQrHmB+UryRvOhVFTyqKrzgYRfHGnpyyhtYfUS0fmcgexM2sXEpPsVwBAjLqJGwT/zDuDJFCZna6tY0JyUpNHLFVCXXKknDqoUJQwBBkqrSHwd2KYYeTVjNzREvTzC31QgZDsmH+g/hUZPjXmRvfKtzTa36Wm/2YG6PHOqd3uOTXSni0m1tfkXdF9q8nbP3cLsPesMNXzTPWxpMPo4WzMPUzZM7jEwRpljoMnDsnzXM8qQLei+gQdgGtkuCjJ9LLrnEYykUwt9L1q5FLAmzTGA8bev2gAEpWUKYh4NW1ntFTyu4HWV+NLV94xvfuP/97++6WyuOIM5iwDtco9U3vvHNrVu3Wm+sc96gYC/gggsu8Eaml/pvueWbVrUtW7bcddcuDD1/9Y1v3IStkzqsssRyazSkdpIQJAUSf4JQwoMjHSanoIYZWHTay1BGE5qzwmXjvc87D1vf7Ti7v+9/xtntJ6Yx7A6fRDB66fSzmyann9G+/Ae47/3u45rVGTtitWliksogBwRZtYDlk03Inv2eVzpp915zxNr1J57sgOJQ68E2O/v5WV3NOjcG+gNB7XdUSu6QMzO5hZJ00FAucfX6Nav23HW37/lxpiJW3Ms/8VgGsx0Nm/1Gaf9gzaIZoUQk3majjhR+Jj2UdIt0AJ+k7wCQJKIByAMDkEmAEecSByACn2qiE9ni8larStXcw8RBhu0CQf+aGFdWbQgs3domopoqvQgDqLaAKh5sI/QEP9NriDlPAqjy8z5RoA29STNvnh1AMZE35HVcYb/42BZpapzQ7urxFX1sh77/+7//LW95y6QL1vjxAK/Mr7nl9lvuusvD55vNUIJZtEhs19DZzTJ6xToxEj/Ip93Rd71+mLN6sH2bfdEIau4azIAow2Rpca1n3dP1m6CrTjj07V3t/fquafuCtNHH1Ptf+MD+MnqLcxEVwwcMJ3oOMGNwEvl99VJXAUzihDT93/vPjNuQ064NQX/kvT1bOzGnBUQLmkZawcP4PoPzfyEzBFjUWHZfRZmwTd5adSbJQ5YqGMWp/4eNxnDaDrFDzBAe0hwXuBRuv6IqbtqvVjfHNHx7aaCfxPpx0H3tmOS88+7N3H17d/uNa1dsfoBix+2379yx49B97ie822SxerJV1XBhhuVBrrSi1G4Id/yRZ2USHGiqLzSu1OiOMlmTLr30UqFmldLUZbJvj5lSLYpzOcFbCAWWJsYhGtoadT7Vr2gKs4gGcElnRjav8RF3IIPPhA7zwAc+iI1e+1NlHpRjAuNM0sBwQw7Gs1RGtWWYVj6v2jzW4xIrHFKkAKvBsT39ARkCSEBS6CmQFTSTLwLOTFtsVbFLc6pSnkqQERGacJabHNt83Q8kQ2YMwwwlIotiHal0FCk20g0HF/y08rMJthcb1rYlP7Uc5SVIexq+EhVzuasiXZ5abeksKU780nsn9goGyBGfWDRCjopaISukIg1pzp+FzCQefxbyaIESFD6EViLuiNxmrUuTsB3Vzi3qkblSqDHEj9oOq767sNFkdyucODCWpKecx5heqD3U/IgunRJPYoYTajQxMz5JXmHVJTT6aduj8weViEgM44C5PJ0iyA3AhFmkH1H/WdlDrcJ8lmaEiRpBxljwMfAZsS2GQ1Zzaf5XQnKgpBPNSGYPUyu4zVc9tKyJrkQz9rllOBjb9KelHFZ85+Ks+iZMrUbmOKwbC7vco0+jzsDWdZg8F2cA/Emn+lLBB0+6RRQxVRUlhmXyTRUpkBY/KzEXhIwXhDg4s/mGDe0pSjAHoQFoolYxrNBbjJmIJyUtBNgm8UBMpwOMXIIBl0twSxHP1MIACAoeExj0UQ8SBoEcnKJcLZpwkMNEULjBhEmAIkiTaXNSJnvzNFd7xIRtRNPHZlrDnBO0ru9bY4aAxYm5z5yoC8JzJAJZGUi9tEXM5zgrQsb5PG8CChP5kE9vuODboimyoeGp1RxDsYS5XMDIKRwdhhyODaYqEZVwzqw64oYgEgGjqlExBEWWhkNkbCyCUfO5ds1Fjhp+54pRGP+hzh5Xjq8asseDItgm1QlK2QgjHVF/NF3/RWNw1HBUjL3ThpORtXInUEk8J5a0isLdBGC7vZVxgb+UsTlkjmakwLB2Fl6g73VVVMJfPsTMNp/FHC39LIf/tTHlVbOHZUiaesyFpccP269ZG+mdbNF2rT1hkcZyAeGU3+mcG4f81WfAdhvJQmKuxBoG2ZR1c2nBYXJELxcZbcykeJpV6WBiJV0gEjGXiYZdH7RN4favJzFNB1VY4QBINMdaxTTEE4DSiM1emFxuQuaKyjyblUBRMhgQ40xDd4e1nUpra2F4hiGypOgcb8AUDYyiWhjqATAP2f/P3n1AbX5V9eKfPpkWICEESYCZBJAiTVRARUMCKk0CqGA3ol4siG2pfytcUfSqKCpWRJpLESwLCwtIwMINoNhABK4wAZFFQCBtZpJMpvw/5/d9nj1nfk+Z931nBgj3njU52Wef3c8+5deel8xIy1qv1ks7+1Fyp5cJjhxvZxCVrtIS4RGrDmBwQhbGwCesyzxcYBG4//3vD6aCwWKiZp4d1LNb1i5SERYSMMYkgODzjoSYBB+xyII5oXkjgpJT7CUThlgGV9eId23N3EIgM8NHRbJoVtrK9RZlgGpGZprTMZ3VM8GMuBbSfUI6Zq11oelODyOH0tYNySOYEimRTAdYSrBxuuPMMRdlsCMtmsHoDo3aS3kFl6yGX6Kg6DoAC8PUCjT2AFrwyfNgOqZTAC6yc+LpNBSd6smsj+5F7KuybCVCKiyrkvypRsxTGWgzyg46OKVqQ2/tyv7ihzd7syfLdKMa6PJntgjSRKcGuziz8AGUnnlVcAQWC5vsW6aQrYJY2xjTTapFKuA5FiMzzfgDgJG+yWA1+WQGKF3xIgZwhGobgyZ1amJRMiObsa5IhkdQolDCMwOmjISsQgh8bFOnqUYQ+fQiyNYICVajJJCisKDRhAfgmi3IokWX1YF45DDxCHJQd2yMh+asmIWYDAGB1ju3poTLOyBDQFqI4HGygXlJqUWC6E0pAk3vkkzREweJkgZuGxTZGgAyey6HIWYbTXnrhryaFi70NCcJR2PGKJmzZoERNXJhVloi35MFE8oeP8v7icSwpDcsqmFqlrVJN33KYKS892B0kIUxIzUroVyIp1OCyRpVvbPAKDJTxlnCE2BKLwv7uakZy7M4jHpPIHRYMUIzsvMY4/CULmZPbEishpNBluPgJ72rXKFLb1QsiY+uIj5m3qcLZOC40j5FH3ZQixJ/wf4mc8MPf83G1YtXDay1ndNH2nNQCYFaLbmtccMG0cYBhljMFjgLNJqUjn+yPfSYufAo9OQQaI2z+tCiAGyirg7BcyWERpoSZY9pPNNfBAUQyHjrpi43abOdQBZxYE23DNscnm5g8NSZyTAmOZOoED51FuLhXSpUTVQK+mxysZP2wiPTLPvhwanT1e+OwajjVDFGYK+iBAK8D4IeMLBPdgUsRT8Yc8wGw9eznxAmvIykwri40w7ASHKkJRlcPSyRhqVMYt5g7RE/Q4MlDsYLNKLtJscSUSvvioXkuz7G5Szl0sdwr1zCEkrCeRHfyQTXwFGU3iXsfVcjHlZeAHzqMUF3Wu0JAtNeQM/4qQYzkqmsUksepY2+NzSGm+1gR/bQqEMgqgPZSl3BiDT1hKe9+NaUKjrTVWYMyMayqlJCyFE0A1hzyUmqq1mertAvUYF9SW919WTRqyvIaoZ41CxkgBPaE7KTrOP7SQr5pLCLXsvMliztsZqtJEFmDMCweg7a+qb5DIid7aoiReK67PAbs6j1DUncFj6yPAfNEbKxrWjc+yDklt2IzYZn12y/2GDXtB5perHN7lOW9SLALOGhmmGpAQp6eATSV63Jf/iscbqS3Fj0wmd+qjVRokeJBoHtE0EuKTRdyCNDAFaiC5cCGUCtq+C5QBEAogh7FMVIXJohixeabTg7LSWZgboQwLiBhEspYhpG5kRIapSRA5grPL2JgBEnFiY3NBIrjImJWHnnWVbZX8M1qsmPF/AxGMY3MGBCFM3U1CW7RhJW2IyQIqZUDHPD0MbmOxOfBlFKS9GsGWCzcxX5ySKqqTNBJsMxnV29fDSaGKvue2eRvTs9b7giJ1zp7aWldxbf03xi4IkNU6/TVBsIRgqbAIobY/wsEbhs1osms2CuqUWpt6IBDn6KadGGacgu/q251hJe8qOiie6kMbgwCMAhK8NOqLakFeNclpLckxXvXJYgi6Zn1FX4kFUvvFLNJZKLEf0JyT5lCXgq8SyrvLBWWO5iqqmty/1HL41Ps/e4sCCYFFRWHId3QCVxxNnksifrgknpYwHfN+fCaEKGHQGt2bogA2RpnssLKUeRIcYOiDNZKPVCctvqlrvBWeCoiK6meHAqXHoTI9tA2aAri6zeTOBsqIEhQwxAqZSdUVHNWQBBLEmgEWAvk9JEE2QBIU4NqRR7VMCUrkjTDFDCezuLeDkQRSTY1TibDYMcRQTgEUgvsYJx+bhIml5dqXGBMcouOUaOZrkDr4zkxIUwjrr65ohRk0aS/dAjy7ngVjMjaz70vGuDCZcSZTx1SjwicJHBvZ1xrdc+i+l7A0eCugp84FniT0GMoGV+JYA1j5xvuJ94AuAVwCIXyuUErSj7sFQXoMdHZnoXyV+EZ6GuDHfEhhIGkFWiCIIMwWprBocldpb9he970fTyGdljRiw9ZcElf4nYIv40BhKH5KHlwn5nTJXE0IDaa2pY+yC311mTsmqwhA6PlQ6AB3UWUwDR6e1FCGuQc+NblGhCBpOiyUR6TS2Y5Kilde4/08p7LThkrOsw/8CuYhEDzBQEmn64BwEMfCjVGBGEnVKK+EVv4kV1s2x6dQUIRm8iEwc1WatGUJ6iTIhgwMqIBnG0pCYQPX+jDpLy+Bubq8lscP6FYNps1lJETiwBD1Y1l8uw2ByCERxTe8oeJg2XkgRgKuGcCg2AXgXgGhQNekUvFnV6QwwfpPwhhO+RCakZGnBtP4UBwCvBLKl7dchodCRisxfnsGfjzCFpiZC5XYu0s1zhPrMpwmvWUFFCEo1qshAmyF5mMqHw1VUYEhrbNLYBSmwAyMhPk5CSM6Jcc7MMiOORP9eYUqE3Baa4AG5lWYasTRkRlguC6NUgosGCIEAJ7IENR9dt2bhJ7feOfKjnYKuWdjjNCrV83Wx8/BEhP7W2rqWxNCDQkNFLI/nqXuYInprf/l9d7JTGTOUCURk+Yk1bK8/+/V7j8PGD3bRh+n+ZvFUPQ3SCYQoN4cqsMX0vOBaGjHlYQlBdCEZwEcziB52tithQVhB6+kICaC+ZwZfZPdlIWt/1iYdHxiR0MgTevE6WxgsYvSzUKzKe61nnpv/WTd4NiQMYABiqGU4Zo0A2gmlvaD6dao4nAuoKQu9gensMOJSzLL2EuYwjOZ8iTWZbHRis1KC7F7r/+htYCKmWFQBbiOXJ/YlYHn/VijzLIoVMU+YB5GVuCMPUEgaWrEmzNUQAe8+lSQWrfGlDpuOgD5M8aaMivvTEa4M5wvh4RAKxFlaXufCaZU8Bs1p0hXi261MQU470NhdyrsFzeyGNgsQgJws0zLAeTR7NEKVLAQwL2eTQNlJhWMVfHV77mVc3PErAGPwAyM3pK+sb2u942ET10qjc6U538tssmiPJy5uyl1XJ4eKN0hisjl+pl0s7+d4EquTwq+BZYEQ8S3DymOUGnLz8T6SEliVDPIe4TWCjb2SHnuPmb9tB0Q2kk99nCQa1RIGXNPJPgW8r3bKR+kS6eVp08TFyE5DSoVldkNWbWM129fgRb8k8dcDkwDgjMPh2elp5Me5GOR6l1jz//PPf/e/vJCRdPFKyg5anPQtKWwsM+mQOYizWsmThsES2UKOx5yFbuYVFGY2agzmTU7Db+FZqXx/KWxc9tk/vwZFfq16xrw1g+TAbJp+0kswjGlcojc2sbZYPW8UKuW5FZDUoI5vhHTVkhYFYPyxECZ2UkBvJCpEBYASM2KuZLqKM78ev+ag/Mvq85z3PUYlkAqeMwMml/8HDR3buaH+wwahlEXz2s5/9+Mc/fiX50PvCMJehWQw9/o+dhBh/SBs5YkgYNe2aU2PK9lMJRHhv4amUvljWCjWebvcXG3hSPRVVgxhPPb6TWqasIYZEkFJxOPY1C81Z5sqEQUpbHaQIKfC30riUR0uAua5BiqSQhTFRq2aPnO0KRj2K+BIbPhW6kiWVK0yyHPgJp3e949/LkbgGb0mKzYlJ1QHkDDlKFhRZhBivggA+ZNliV+s73ojCGDkRTqkLUF1ss9L5gSrfS/igZSUr5kpsIMpcyu1oHlFtYXXT+E7nnx92qmNSrEqzlzzBTJOq7/qUhRPt+LUqI4sRV65Bh/2yZYKskAOiZ2gSK8gK16LwOG9hyb1Z8H3uc59HP/rR5HjyTSAJBsWTB3Ki+pxzP8OzcFnhOtWtAlvp7t277bgrP/SQqRBIi1yNqZoKGJJwAkOjhoklIWjMp6eQPys4Xs/i/x9mhRHoxzcswzi2zXHugLZUDo96soMOv6eYkcCTBQ6QjPcCaOhXaNCthYyDFYre5ooaQOm7ZmEECU5PWchZ+pPGLL/6XKN4LlgF1Eac8YpfjYlf1QVp4VN6HZAIUtvArGQWFzTZaDV9tXL99e37PzRq+Kw14F7OycA0urGc3zSmmnxNay6NJyO2eH3DQ5T1l6J4YR13SRSC0jIKV7HfeoF4tAb7wygyIpa8ipCsJzApkChThq7J4X6k0d4Jk0XJh+9+y/rbvu3bDAEhhhs7wMhMJR295XD7+wE+aop2ZkgGNCOxfRMN9h4DhqGUYeQA0qtpbwXLN9qLETBiP4nmfFPnahjMbq6fUgNOwvZbIWsL33T0AVJlCGbO6+qG4dYw9Ab/yORaNTxWtJ4ZHWYLXxgmPENQkBXlgPj0qZb4JRrCp6w2QVdL/0mMZpYhQWBzQmHJyCcrwahlgq7sTxUN+BTGA7LcoEQGRub4nxTCqxnhei1wgVflNRXoMfa8YHjXoC6aiXW9SClkcnhV8hcRW6xz+UK+3dShk3cubhKTMiahUBcGUPAi4Z/GeCPOOwEJkFBoyq6KEiARKGA2INkI4W2l7jEY3+GnNyenGcIjbQh22wUNlj9WhQvGkBkvx50l8kcai1KiJmnd1UBTw02sLm/VWTwB0V5cI2mntZmQRkUPn1alS4R/UoKwxJ7lXSLGYAWQwS36NGtBG/W2hAubWgZU6Ad0S+ikbLKnhH76Afyd61QCUmGZS9MjK2498jTA1qO5h9NF+JWaEPv5m8UoYcnSEEyfCX3Q+hCBbVq4aEUjhQCa3uDQlIKaVdvwQrlSE6d0tKRAxBJNVxj2M9cEebsERpd1dsp0Cv6ftdKM8oTVcuwTnX/6p3+alUt1IQsuoLr+LwE4bpQNuuEAK3FcGAFJhgyiOgkzNzIY7YJEobE7Js00cclMSBh1ChgyP3tk1CCp8+QVfq7wuchYRS8j1RdccAFAQaypF+yr1jSpS9dcUacVyRKlVLCt4P8HrCoCbXSH8U08A1tVCIHR7GM7eRe3SAGBZVtgOZESfM+8KrNuvcRxeSWOo0mUemdvXXEz1oy3JAHsgDHetgQJI3tgUjQlCZeTYQjAKWAshLhi0wu26rlW+NzP/dy3ve2fst5FFHpXBlY3LGso2HGxJ7yalkhWkQnwk375gsLFaO7+rUHFiIUj1FmCAbSYVy5KrKqToHSWJBQJESGaZedI5q2iOQr1am023Nn5hrC0aCQmeSdILiU4yHRpLjggNrVCmi3Q3ykyxB5zEuJ6FG9kevtDRpFD5s23HLZl6kq6Oq7d97739TruorGAj21NU1eiUe/u3bu9vlQGb/QnsQ43FYPNbY5QXcIXSesErxEsI3tdZPX7ZiKwRgVrZTt9Lq/VopXysVxJBgqdglOyDcmzycMgOaC0hwTTywAEFgLXnZObkxIRg58ZaHQbcq3QDvVeGbEuSUvXqJs2t79NMeR5+z8Rg975abfA9tmLpx7TZK68tM8pV1OGv3Y6h4EzHElHwTC+yfSJV/sjew1WNxAwXy8JLezHFdKOa48bq/N3ycoyCF6ttLE1w/WAL1ZdNU42y5tuPHjk8OQqwbZkjbBkDKliI2kD16I0lGRCNRFbTZTc5HQh6HGUT61sqZLScue5mIA5v7uMO/vsc8Ieg4YhsOqtH/6c35xoR0u8rRQQaO9ourlqmfMWrr+oRZqUtn3WKGCc9XkWw77YE/o4GCEiQCa/OKhXNFzvmlWZbJoImg4YG+30UXGkHVM0nFSONQuabgNBRHt1zgKL8nmWMhifGQNmxbI53lWgRhJmWUYEk+Zw6gqxHxEddLWZRawdVDPRgzlw4KZNmzedc8654sRpeDF3lSiwMIvM8Hc61x/hdLtbJtT+Tu0znvEMIy4hCYdUCgDLELpIJj95+8QnPvH7v//7jR2y2RL2GGxJwD3QrDcF2t37owfvd98HHDnye8iGP7/hq9T2lu811/73tdd99Lw7tWcHw3fnBDSX6VWDByHJ1n6tO6bfssw8lIP77YgmaTmFHVFfayLzoyaFBChURdxU3SQauuC5n96B9pjM4NU5GvKlCEK/2jrqwsUSzbJnFjkiRpD8XLnS1ef/bPyHRezoIf87PHyCb0+85prrjJx/gjgkzzpz3Nqla/vW9i24z3+b8UfXTd71yJQXPqvAuuHv9xlIbojssIO2ty6tdnpb5g5DsnInby2Uc/0a3J24XASjnLi1OLgSO/koYziogM1qWWEmy4R0RUhosiaGciR8EJB9ZPLOEYwd1D4a+ghUY1RDjiRQp/iZrRG+b464NJkkS11quGNs53aNos7q0DOeEC7JbChiSMsoaZZst3CtcYrFzu/9evIaL2gPrxAlSsW+cqC0r5xlhZSLJPdurlDUXDLy56oQCrtLtCQs4kaC0UkmRFoISFhkj+VIhPWqZeaFF174nd/5nVanyAmSZAVMcvs2fvjgGAyD0sDpnWv8EiReY+2eiqeqFlMJ4GzGDDePmcSSIRfar9AQYtagXyJttktSJQ5sEx8JTKCIERXiFtauUJoQqVOQARJbotCGERKAvuQA0qvL1XM1cfl+Om9dkRP6T7W6LD+1hlW4iJUkSiIgRLoU16DioyTCpb1l0hDitswZvIQbkbFArdeSR5wB3rJp8oNExQwgum+uFV52Olsuc7VnkOXS4n7RtPBpyMD2r/3nUzYIv7Y5HOWL8NMHSIo0H4eRFYGsO/AyJNmTLmtWud2nARZFlxoeuxo7+nxyYEWTUZAhs1LkJ4Qa28CoK71plpYe0NWIBlRjmyY6BF1WNCrc37PYkZ9mzz5lTfL3PSeAEwRHirjAO2uQvxIPH09ZEhETYDUTBEu7Kh9KyVlu0Px7IYt5BIfkFQpfLGZhTwV2RCFz3GgNMlmU1cZ+ltQq+kUSigB9jkRibj9zTQkgDaMuZPFOU3Hi14VekXhgAxf6ErhCABcBfl2EhAqjbdpNO12etp57h8+QGKzQXKHMIpOi8keuCo7p8IEPfCBa8gg/vlCqBJ69PI3XFYdQtpEeSvDhpRQQ1XnOQhe9mS+2ip6gLFwbUIpWyH7C9Xw6PVYob6VkwiVOsdZpw0Bohjl4iWqAkBlcdck9bgdFIY5hqFiTlZxbt6m9zG0PKeaKTimrrlsd0LtQfsWLUfNW59pqDU5+VECMvvmcrEidrSJ/byBkQhQgNY0VtEhTm8MeGVYWAhDLKN/Skf/gBz9UUwkvdqU1p/emRl7oCg18uMIox53c2Wa9znKZrC52XAWfEIgWZKXCQkys9cvGSZSFjwuaEYVME56/KVamlWgpmpgXvaW0ek8eKPcJV9LskSepouyPnKE5WYmMi6YS1eJjqTJSsxoRzCKDMZoABBYyteR0SIpkAtNlCDIKdCEC6zJSWMCGTwEsUjEXj55qBttyLIlD9tZS2ex573vfe5973zfexZK5chYhSc61slyyh4H9VUGXg0SRGS5AiiYgyMQqNUzoiww+pUwqxrDDI6BdYvMrEuJsCE55Td3JyDxJ9kWqhYXXCY44CAhFmlEnSl7jUMscM3rATyS1nNNWdEsLNQwABoBfjkacrqTdafKh3QPPU6+JbZ/o/831i9cJToA120R4ypolfGIYk0ZMrXyyPL3rXe/K0Ccr1JpSympSVqWrmkmkuJyVSyLJv8zVSSyGdRDec9AEeSRk1CzhBYRAnQJvIbAGOcWfc845AM34UiyrBWJqcfGLF64MrHG6uAb413/9VwRs6LMFrBTjIoCQdI0ULaI/ffiy5FSpEJByzShnLEp4EkwWleOhVy+xBJeYJ7DGF7H8hEwhHMbyZb80LkptloghERRlWbISoIaSHHfsowiStNRve9vbqGYbTwErkdnTEKJgJJAETvHCDmqK0ajwhf0Kj5TAVQ++Tvyt1TtGkhnhal2BIVMSTJy5DR53kPW2fSrASZJKjFHz5C2MQDERAbPbJgpOAHUJeF2DjnRNLl0rcIakKHDCKySCE1ZAEXw6AUv8muTa8L+Td3mJopMXfvISmJeZTFSmnATwuZsaRm+KiecFV9kCDzPSK1RBptZM8lgI/MVaK6mMhFF05VAfCUOMJ9coeKN0JLwoCwhXmtHIsKxlNMJzJL1qBKEpzKoANmcnIIQXVGP3q4dOBrE2GL0MQNkLb4qnpceDoYNJf48ZUZ5kc6q/qYup0VUGnKT8SOuFkCwyLtmTKuWgfcLQ1zUofG9PL6GHw55tIHiYrP7FDg8p/kooAQwwRppGrc+HXvgSGAsh8oquiy++GIw4cqQE+N3vfjePkgNrkE8CmzHyIuwApsYkXbMAZPABUicI6iptmk3/IATzlHBFIJv5Urx2DgTp+r+wFjQByUNo7icshsOg5/FwH7rEZzJggmi0chIpzqJ2n220FqwmuBav0b/VcH+yaSvhkpGfbHNOu35u0qHOZJYYgNyEgE9Kpc7r3ZUkvWXYMy0jSi27TGMr5q6dO4YZ3RYdAEq1932oCAuMQmxFvpc8gqM9LOGyZbp/6zWiD37wg2BiKZ01EiZlJPCETVwMM1PMNMT8YvYFF1xQ0iZyh//1ixFECe9hyDQHjmNVEZ9a4IRRHdm2Wu3lSzHGpdz0hswwpfZMMc9Be2Jd1ZwFZKPCC2mTnDEEUQGpgElIjoXSYMkEGE1daNawmuEKOwk+ygLHtpLpE2QrLyRMgjBr/BIMsZlrFIFR2swEjbQq5RRMLwp9FUIShMQEWQAEuKouepFxLEhwzBS8CiG9/B6OtNm6p1kCY1zSu6SrDA7NqLmEcVVdxEqqfgcVDcFxtbDoBat2Xa9QkzzLaa63Emwg69ydrlEgRs3Q3LrquS5AiuBs1yzm1uXsEmvjcuahTUI+wShY1IlGprT5ZvEKPgJHaa2JMlw1LfMDMZqRTIWV4uqrr9YER1EvLfBsTTgk+rCkCcNyW7svZGyiujSlrnognBDPSluCCWMRaFp0mMq1SBaEt7zlLWrzCDKU7NGs+OAKflZaSe6BkBVX33WS8MiAk5Q2l73MrjEy3EZZQGCCFCiAW7j9glPSQlPNHohwAyq2YJSGI/c8e/m6KFUiKglQY5Rx6cWeEDbWGXeAx/l2nahQSwbFsutKIyZRd0KBI4LICXuuZLKxwSgh5k6ao7oXxd/EVq1UV4U0vENsWsVUxqvB9IarZywJn1yA/XPLqbIqwgVHNKSTmuTESl7JUsudsMyObFsFkBotIkTQJ3QeoyItcy1tLhFIDDJ1pJf1iAseASWngBCQQ7VUNnKEsxKg1stK9kAGk7kH5o/ekhOlkAF0kalGGSPjP0wKJLFI/HORk39g83p6X6c9iLXqqoN3OCOckVnuySlTweQzuLyIeb2d0dsbjF4ZGUY+2zCiR6w3cJrxLkJExl89zD9/+zB/BHG9d20OHwEfPXTYn070L5gzNm/Jh0kxY4U1FSyMOpawzYv7QYLhkzBOZDaqUJIcj+J7YF2aGDXLZfF/ylOeIkHJIc3IAiC9hWETlX4osRAIEGpdi8zGGL2lNJTRa7GDdzGa31IgmTpdyZBeZuTAAHq4MFiU6uUOGIZ85hGL8rzzzktY2Kw3NiBQZKRo+gcwtKkB0tQ/QJBFFtuiTp3mkpo9MYbq2JmYU80MFjIMPmanXi52ee8SS9IlIDFJkyWJD9irqposYQ+CkDnluIsrH2I5Mtr1KpE2W4cAe5YFjABuhiXGq6uQIBSaaNRtSKYryazwHoM4VgHgBTPskN7xkVcwlHKKQAmG5j/+4z/0ZiCChwx7L3kujIxTavGx2qQmpCfuRXGH4/IcATMYgIsELGpIEtAr7Imd8IERwyhxCsDseGEsAJq93h6OzL7ue2dhlAQGH67ohWFMBg6eRtdpDLvl0M1+bHbrGZv9XMaRo4c2b9kIsMAdPnJLmgjSVKOc1bhaTPnCHrweWfp7eWCRTGTAXra3gwJELEHWFUXtGjTjxAeyfA9kWQgzz0PnvQxyMyTY4nCijCBlkd3T/vZ/Aksma2IKOQB4QCzRpEszOZrxhtSkZZDRqhgZ/6O9tyTsagThQq/QqwBI6G0LBrIXhYCEZGpTeeSIOLKNMdEra82lLAG6EDAydpJT2skJPQBN2QxAk8fM3Gz2DacH+JDFGE2MYCrCG8kFsycETOWdXs2aQshKTrEECL7vZQZ71JBo2EMOmD0KIKrtoG7BleRIOGGN/v73v7+tN4zMBtvnhNEOGnbyKQXr5c5KZKKJQDUjSWCbCwISDI2gkQ8vJgriAKlLft/sCUYw4ayCJBavWMGYNZETM3oWmCBngVJ9MgCxXFNzlhyqpZ+FyanZkuTCKE1GpvdkdK2ElzEp2bEygkbhH/7hH+BjJyMzZeygMBGboK1ExVwaDhIVaURNrTi2wq5BfliqNrMySSWtG7kCK6foDZLGyy+/XMA5Lt/mGrkEib1N/iHzycxoLqE3K72EXEuZeFqIjDjtbIipamKZxwWiNLFQgUxTAuMC9JEBJ3RLVK+qi8AMCq5+dOC5GQPgBdOSYs46UZlTSRtIi4NMxhvLBRaXc8MQ/GU7/aqMLGJRZZIrxgwEPHV0SVRmiGRcKI8agf9ENn4i9ZqZ7jQB+JWPfexj5BKKQBcWXQogpYenuMn/i36EJ3ZYg0wqobRA2/9djLpn6KDKJCnYuizgmuqDBw22JPN7XY5avGKbJNiCBJ/aP2L8VQa/k+PS8dDBmw7fcrMuSJgtmzZs3bzRP6lZhTsKS9gfWFeAINksQK623M10FeNxwUErsg+0XWqIw5Ej/mDS9ddeu939zA0b9l1/PRosXMZuMBLGSlNIMcyGpCthNyqZCZkSJoD81qtII9mMK01w22v9boZLy6OH/Mu5LE3HsW3bt0Ju2rzBqc0hrh3QXI0OZRT85le34mi24ZweutOFD4aRIdYEqPWyxP0392ODhJ8tYYcnJDVGxV/u3L//QBJUV+IvRM59enEFQ4VQzIodYSI8SLBCgkKUBSUSBLbwRdnLGfiOJfNcmkIKiCQh31jwghaz+p//+Z8ZHBraAb3MYEpCgFNWSyoKBNnjajegWDPUfnPdew3bd+4U4n0HDliTkKE5ZXoXCOK4EWSR4IgJwCgI2pve9CZdmIROnTDu3r27DxR8YhXKBRqWocOurhLqagKW8Xd9xRIv9GQucIeDX/zFXzy40M70Vd785jdDYpQhhVwhUCsPwJpgkxCoJXJYFXsYEzKTyNaOq1/r4y+bdaEPTUwyQLQk/hXweL1Cm5FF/hJ6BEwakWkyO26C40vWyf3X3+Dm2dZNm3dt32GdA8Psu+76q97zXrfZbtp/wK9AHbhh3+YNG61t7WbbqSvstFbYs/2cGZMqM0XPtphYJRkqXJS3y03/CwNS3wDAcC9EhOr1pS33gtELqZQCBOBRjCCrhFJd6gOb7KQp9CYJWJn1DoZAZCxJuAEEItNMmgJsNs3QqXYYKpCRGUowZArJrTld0CE1YxKAR8GkDmPDr1vHd2S1EDMbDQwV7nCqc41uMXV4ob4ueniBK7wAlMP6doibkGAEAFp4xwDsBaOnJboyeDZUTds5Fl0Kx9ErYF0Ry3cEdmX3mgRKBPUWGSDhSjyD7+umYudOuhJDNe9Y7oASjewUEPKRDcYvW5TLwuhN2rCGKDL5SBQ5dqMPfOADaKjDwjZmAFp8Dh13I6tMLaeCiW3gBAc7XZGmrjjHnhBHQjFGTk8wwqRp2hPOwgDmG0e8i0sL1WGfZYwu+AJCc/I1vQpj+KvIAbbBUKQkjHqTTkM825Ho9BWqBSSqN7aThlFoT9M/9KEP0R7DWKgwNef1inlZBUNCNVcCkIxsNv7FG4E9QXUtArCEK5Lxmhdm9/4DN9zjHvfgJu88ZDfL4rJkNoW3bTM52tXhIrFz8cNUaukBSKGLEEGbSy96uiyAbBBeMwgmcRNbjEQxVc0kUziW21y9uqW4Ts1YYEeDEaAAUuYqHSExjjCzTb6wBx5x6Gmh2nz/m7/5m9DzwgZvHbjnPe95r8+8OwLmSVq8vgJ461vfygUPerB89md/9td93dd5Dm3hzf3/9RtbfCJ5VvvKMXQZRGF0HeyJg2bxMsyfd2RVFI3O2u32KU4HGoAxQM0aQTSU4eGtZcImimAYmJK8QoBi/1qsiQ0PFbJN8TTN0MoA8TLMhjzjyhJ49GxDJr7wMPDxkxwDw2EHQnbGZvTIFF1qBgevma6W1kMgekvQKOjJDItmCNTnnH32+973Pj9FvXfvXjSeeL3//e+3YgqUyyb2WAVe//rX+7lqg23gz7vznf/0T//0S77kS1hr7O9973szz5A4bvtq8IILLnDp9vd///eSYM+ePb4he9CDHvTv//7vHDTrvP8CD3ZN8/mf//nkQ/JX6jjZYKRi43DEYQnbSFbYrJgV3GSbjfNf/uVf6CXH3cX9N7Yw8oh3o1ozJYMSl4nSTDQCeE2G5KOue4cCidI1qCEL48prjNx5yIM/zx8zIVOI8JIKb4YYaIuCZMjMZwOaRcJxNd553WJCi3cjBQ1s1UgulS7qojRCNPsuzQQBMl0BQswkhhHLfelkZ2Kz31oqUYDABUS4+nQU9sRIVjGbMWwTQ7qEkXmMRCAgQaI+HWaUzDbFhtcSExlNwyoUtJssutjJGEZaAXMXt4KcuFWzZK4ECG9RRsgIWb0rB3qThFo4M/omo0303/7t38zC0rVp00aX2k9+8ldzloMr1xLKcpxSRQCXCBFYX1Fb2S2b5s4zn/nMZz/72XYg5tGeCNuZXE5ZnV71qld5NR2LNcHC8kM/9EOO+2gkDEW0q2lP0QQEv8SFExLM8lIXFXapn//5n7f6sTAYzt7vfvd7wAMeADCzrK72SB8I/dVf/dUDH/jAL//yL7cw/ud//qe16Od+7uf8RdjP+qzPqkkdg9VrMKmMzNwRotxwZZXYpFeQDbexmAzH8cFpz/N0CGBEWG5QG5UkwCCoXX4ZgOnATA4UkR6j1SjLmhGg135cBEOzHbWM7rXXtgs48q3I5AtT9n87h90Ri1knysbb3rBnzx615oUXXmgMbCduCbqtmkWEFwBilT45IA0JDKsItMzEEvRlki65FcPU8FUcf6gznLY6opwkHvawhzGSzfKVzSL+lV/5lYyxuVq/nPcuu+wyZCJ56aWXOnwQeLe73Q3wZV/2ZYzH+MhHPlIN84Vf+IUkE2iV4ZH9FTHHZQy8R4bka1qg2Y9FkjkxxEcWQvKimoQ7ozHS0inbDDzbtu88Mx6p+3HRTCmkJpgLDCNEk2QGXHHFFUUZQKzqtsbxUkvYcUAkB8W2Jz/5yW95y997rQGGC9SJlWOKfDDE3ERvyDhIuxv2x8maNtAgSKvghhmQLJc5mhwxKzQFqoinMsb/JydkAH3YAxSdpnnLWhjRVju4SAZnoPvc5z6VUcgUvb3eXgi4jC/8moHYSWOM5y8448gAixGCINesYuWMbLCIK5QqDDDEchjABnIgmae5e/fuNTxKX2QJsX1X4q8u7IigJ56FY2SEpLeJWt/etTTuu87cwc2LL77YmdiuqcRfqWuyfP3Xf6O8nZW5HFPJg4wuw0eaWqDmMjLGamnuWDd+9Vd/1XlRMSvNLyPOANF2Ird9qv10sFFwsH75y1/+2te+1kr1Dd/wDbRAqqkofzVT5iotJJqClwORjAYgSmLFNpcELkK8tWrKs9Z7OqYVqxxKbtx/A2JB5pr90r7z+Mc/3kkLr1VU/K+88soXvvCF3/M93+NSoUV+pYYsN7PFXKHUyplE1WSzsmfPHvsRXZP5NTyx9rJBJLYdlHHxUEDtVdbx4e8dtuzPNQCJjjmGiiCURJc52Ptm4QuYEsjk9uRSQa+4XJMiZ599u0RHroiaAFmesLCEUhYrAGnhKhBgV4AxBg6w4g5wpuYbFrUS4aQhjmoYSnFxpyX64JKm3pSYOsrUEOg6b7i8YBU5ZIqALocMJrGfndZQw+9yR1OXRQGX5RsLeoDDgYFR057lDBBPAQLevBgepKMH2J8AsZkjZBJFuEKan95Kl5rN8ReMkkk8EkZk8GxjrQyDTBAAKFOCmbaOIamLWCjmkSalCKRMl4KR+7Kf8EHIMZkjaX0z6tRssM0bEj7GnpjnzOHIaVWlK2PBI5HphczCkRDh6YXBrgiaYEKKG7NPyBshGFGqwzviIlyBjCNqQ6/pWh+spHfENWquhGbEsqTJu2bTkP8MMEltV+jZDykbZVrWKYnqWOYtoyXSTr6LXmYYONoN8ZAwG/76r/9ak3CBhQGjcRkh+aMxmNQnb0MkUFGior2aSwBcIR7qJgEwwMmKdr2hqXYx99u//ds33zx53SEy/Y0Bp3w7Wa99ibrqynQIV2ojawJGdZEVIJKZnq7k3v72t7PHu3hyHr0cAORgZ546x5tKQv3whz/cFuXi74//+I8d+s1iw4QxMjEqVEd7KRoBi3oX4eUDU/UCsqxZUry07C6dJd16yFQYqtnjxH/bM9uBj/FePfu7v/u7L/qiL3KZxFMuILPMXnLJJb/8y7/sWt/vIbv62nnmsV+FjP0jg1fYxMs810t79+5lcAqbmfeZn/mZllZymCFcI09bNogjLEA3l1iMmggS8QRwR9HAIEuBBCDDlbLI0OoNQAUAsfXXVmF621ootW6a7ZCaQsluEx6MxmbJAQT8sStgAWji0hs5mrrgI5xtmoKOWB18eNVKmYEywYr9MbKE6DVsliQSiGIGjXqxWzqluJo0GJRsJgQlgezBCJa49gZNwVSLp8tN7AAEAGLJ0YtYU4kE0bDvwrMfYIxox0UdFqLUKGkMCxq2RRRj6M0YgVNQTsH2//irjsvVpEJI1WjUfKco9IN1bb4ZGgdG9lBRjIuApmxQl5qFGM/YOnluxy9mq+HlbtQRm52J74vE9viMF0wAioyFI3ns5w5M3BzVPCouADKFdmVEWU1kekkOBmBE7KAA+EiIzAqX5ukrSWZ6BdD89/uL3mexvqgf85jHPOIRj3BmN6GkSmJ7+iyJZHGQMILDMBh6ZaZLn0xD+QypV3Dc2pHGc+3hzlz8qpAZoGIZNQu/BMBSvQzmmiBLLVPYWJsCJik3ORVn5bUuz26Ka+WAQFGRyJCmVC7NFRLbHImMr2sJTRFmHi4AkxRXaa7b7DpszhRz3eyKxcbjWAyDOBqjGqzMVbdmJMlxJCrIkYeuLJnh1pplihlWcpPUNVWaFkYGCyOye93rXtIJlwUBICwwrqP+/M//3JN18T9VBpMjYvY4B5F+IjPMeYhq9sMjM1IxKTGR5RZBj0/axy63HDx0xtbtn3W/B/zZq/7iqLdYhz+Bxn88JufHr71mvVE+PNkCD90y+TjmoFdh58U9N1D8gcehk5h2A9X/KGbNPq+uXu9PZ2yTl9hTBEgSsCRksTj+6MpSi55XkEaCYVLAVsYljJbDrWecYSSoaX9ScrIODl+AWh8plh7e2h1K/E8NQaNaExCNjXzIS5ggiziUyXLE3NHFbPgNRyeHlO1bt3v55tDhQwDfMm3dtPXooaObfZK6ZTNTsABg1m1ev3XbGZJm05bNR3z55EbH4fVbNm286cC+XTvaH36yAG3Z2q6A5ZC5cXR9u3HhxuRgjJuW3lBrf89g2xk7Duy/acfOtoky46qrrsr1unNQc2Sgbn/OblQGjxtB871F4NBRh4P2B8Jktto+5PVmrrW3n9vHai16F15499vf/g6GfcumbVwciVzUHFRwfJM3qB/3uMc5CJsnJLsRZSUV9Suv/NvHP/5xZ57ZXlDKgLa4x/QZoWybwbXNDdK4EEsmOVlWEItkBghc4wvwMMlcFUG95g96bwBKMHeVLYjn3PFcV8wO8oKfv1yI3SoZ7REr397xjnd48Fy62NAsHzJKPcfOU4cin6fyhyM2ToIf+tCHWpKccrwvevnllz/1qU991rOe9aQnPYl3jqTe6jklyv1Bz7lyJKPM8U64W07+gJEPasxzNxLFKpurmMsi53r5OQRHXkzGOLFSD5iZw9nw8d+CF8vm2tKQZWWEL6LrenGwJ9OhWaIrhQsml7O6NaS5s279N1/2tJ//X/9zg2l1+JD3Qm++cb8/YPVbv/4bT7r0CSTwVNaJhkSSXd6rEgGPy+ba4PRVccCYlTCUtGOEQRAA5sihg250fvAD73/g/e971m3PfPnL33fO2bfzDYIpgBKjFzh2DbcMDYAMsfu7/vBtwuc+6IEf/cjV1hafKqCkC7E6A9QkLz0Wl5EjLzCOMGmiT8l6orbl/8mf/Mn+G67z9MqDKsFhCRphPHq4vXcJ46rDLLNB5vAX4azFbpd1dnnnO9/pok4+bzljdX9JxlAxjLNkHrqleW2MRNV4qz/0oQ9+/OMfFQ/D7jHokaOH737Pe23fdea6jRsOHT2yc0d7ayexqsxqo5KIk0icWDsaGO9tW9s9NL0YAFwyDVoebGjHRnjEAFoTqb7W25pDJbtGwU1TmOiimgMwtKiVyCEhQlLDy13EbQsZYLWmdZZL1rv0MsZyRvIQlPGIRriuZtp0YkRdulKnt9cemlEdCSFL11yZ1QUo+T188Ob2FpXDQSLAeK9rI3Bk8WzVo9bWta7NQwQ89XeJI3NUE47AAAmLeyDukFhVpeCIbHmTENfAgmm7ZJVT3hve8AZijXVqX6VT4WBLsmg3j2qJWi562ss8R58nPOEJnseQOYxp0wh25JRmebxhoLmcfXTKetz/0R/XnjYGF9pPZ8guRVNJlhp6Y4RRTS9HhOg973nPM5/5zBtvPLBz+859B/Zt2rDJD1bwNy5v3b7tJ3/yJ/MEwQ5qdFhFLPZ2UBv+aqBp7EBNS0wIUM2pXafr/yyRKrZMu/hf/MVf+NvRnjAxjJ22qEc/+tF/+Id/+FM/9VMXX3wxO22i2xZc9p0q+wxZWyWGzWa4+7PRulGTrrQ4cEx20KwS1XEiIKJORLXqfhELT4axH750SVEHPtrlD+8gNW0A8C6NHD4d/Led4Vck2/sNZq4rP3miV41FTHx8ZrAWWRYtfd1TRlRLyul7tjY9u4js9c7EG9/4RuI9XBzMVk12QVkR7fJ827b2WoCDNcoHP/jB7prkgqTXgkBp/NPLib53bXCOm+ajIMhJDxQE57rrr/uzP/uzV/7xn4iYW55OeJYU+ZnbdVj4wjXpylp6ea3GzjxOWSLcuEYji9ZgFe+yCGRBIAHGbmUekWmt0Kt2YpHMVBhKEz9rFOKEqNJ2cmWKoQVvKHb4JDdBCuuhrRdcsjRP9E29QlB2xBnEBRQcTDN0KBmhvreEQKaEMjVMzEjNWsF1BvHOqtsRrrvto7yVoNJC0MW6ZweX6pFw+OoqGA17lJ6xF9iz9PjQl5xRF7HBhD1kPGKwrkRSqvFFnD1Nef7zn58vzMwWn5xKHZNzJLNvxncCjbdouAox6kVQNhdmLhAjQyzOeeMcMnNATJwBrdFZTcojolYun6i73GX3DTfsN1UIvPHGm8xzolysmBgAJdKWyNQ1t2TUBFMOKABkkOpILgzvZLVHMn4m6Xm/9DzPtF7w2y942cte9qIXvejXf/3Xf/AHf1D0POuyOwqmYoYbKTlmgBwCeMFsADLvdJAvCFExN7CnCclHhjHjBS94wd69e53ZOShP2GPrYs9XfdVXgc0Uxhu702RGiWUPRY568tDCzRivWQkaGyry8tPe4+lMgpa6JCwE/KBT+/OpJyg9+woljyT2EnSlKYUCG26A5FH27Nnz2Q980JbNw065pX2rg5jjzp3oUap5DW++yBbNXvgILl2AqGM/ADuZ4JRwGVx37G2fQi0VM/dRii0ySsWcHImRtdGgGA4xd3PFDYmcgKOx10s4S/FipAAAQABJREFU3pFhJ9PM0GcmmkSsdVP0oQ95qC1m86Z2W8IbNt/6rd/qSbkDNEtivNDpMvUsYpCJJBfAnLX9w3Cfd+hXZV6GABdRyuCvTbq5bAcVHO4rQ9+GM7a2h6BsjgoGAEaDOLn+08eyQVz7LsLCwUQOFwOJzi/ZQSF7C0YSyyVAwVhGJYam1kX+SE7zYZq+gFq5rHpuWP3jP/7j7/zO73jH7Gu/9mu//uu//ju+4zvYxgtx5wj6aC8DmqxBRWFiT/BgOVoGQMKgZF7IZuvID1lkjiQXS6RFUdV6A8daGQbDAIDI20t8EuNZOpkch5QrCMqeyIwQtZLRxSsCerGQBhk7F9kWXnURRKM6h0dRFRkEalORcC+dWqYBDJtlL8wigIVEmfC+/zGfE3PWshn+iiuuwMhNlmvGqV4Uw1ISvdmaQAQkkKmAsUcLILx62Z/Ci6/5mq+56KKLPF/5nM/5HA/nvPDsHekv+IIvgHdqcTpmRgYlJmEhEIY0w0eanIyisgdBSm/86YCtmNy0Ze7du9cAUcEe4WVqMseCZUY7+7PHmJ4OG0YybRUSWHht7VYlb04yJoapmeEawpWHWIHDm+iN5MxtZgRPWAuCskKxvbQoZRsg+GAMNI/AxKoRCLvayiPscdBNGYCp6jQGQMnB5AlezQxQBC6pExk1A9QYFaJiD0vkmwtQl0eGGIFaAsgE1xUokdGeLjBG+7cctum+4hWvkOp5sIdAb8yI5AwHCUtsW9TFjLmF4wymiwEiZuf2bu3znve8l770pS9+8Yu/4iu+Qq7esG+/b1R8uMJO8mM5YhsQw9hTwQSQQ4guKZ3YlhdlG0sKHgF8LDt1JVwAxwu33FwfZ1jZgFKg7NZ6eYErigB9iNqoxGJ0YJbhdJlvxCMFNaPBLvVcZZPFDZRKmQLGXmXonFSFHAE9b9xQKyHTC+jF0ss2quWBxULGeEDlwyDRZNVb//GtvpHwKpfRwtiHqReiK5KjJSpiaDDVW8gCRiyaIVaPgKLsgZID6PGSoMV83fp8tsEvGGPpJqeYS6l25204wJp+URT2Qe2xROG4sbd4kWahzHRKRvbqlsAxTC16yATc1QOBzIBkVZC2Gff5DQQMG3QpS8SOujASqHgf/b8/2sbLvXnDTog088K9oyj9BKPs/R3JWdRkNlHEVtGE5FQSLDbTRYLZa6c0Tw4fPeJfWNZv2rjvxgOH1x294q/f4LggkoeOHPaUGoCFVckudYAMRKUudQrKNRi/yKkleIOuuLg07sh+7dd+jd4yRs44ViOw2rJf2JeIOiVdfk7m4C3tA1CZI5kB3lux4hMudAwTeW+EugRZ7weD17WddVQMvZVthFxVM/FXBzghbyhTZzQDjxiFUS8v4EVb4Y4DliXIq/dyzHTT63ep/eSCZ9KyixxxcBED2LRxy47tC+8BRKOa8Nig1qRCWqqTbEbQvPPGr7XOIx5n2WQyYlc4jiaMRIM4E5ZJMBZMc9lHL27pexf3da97ncSw05NMRRRFr5qumAGeLbrmllnKYAhnIWOYJBSQVGuKiZz87u/+7l/5lV/5gs9/qFTxDIJfwogGFxowXuoSczW8IuBiq4tMvaUowPI69C3x2m9Ut0KIYpl1NezajNioExxbDF0hiHb0cX9gHdhjH7MEWuykBbs9+DnzzF1ZsvGHzZ7Pw9x5CyZduJSSmK6oGSnracDYh4C0bQAQQ7H0ZNXkjyGXN2Lt6t467m0UF6BOLr/1W7915q4zhcC5hnmM4W2kRX4ZoysYdWlJr64A8FEak4psBEROXIiuwHPlRyYVpaVMEu3KDGR8NIo2EvfSLXnSSC9iRyS9dT9hZIwm7SgVsExFn4k0S7kEE8eTtQxzHUxskJrEMsmLf+Yt4dJDvUTa3C4sRJFpBLcON77ABhf+pvaTdActPWKYPKxgAiKtMHOFB0kgs4s+9msKvjrDBEljnqnwN6shjwKgdCyTUbt374YRVXqlVgaLkQDshGAh0MVWG9ppCsErwcSM01cbFOYx8mlPexqNf/mXf+mGGGslEsMcR9zddZ3EEe4gOH2WRDK9jFFEBuxWGws1BYQ9Qm2sfccihZh9Cu1JYrChMiQDfUJ/GYamDdiCEglGHMBmYs1KlnMExhb19Kc/3aIkHyBvvOlG6cFfRxlkiqY4ZE5JoUg7Yc0L5hBIL2mhhyTnv/7rvwyrixyLuybVHiLQzhJDnKjiwo4LQQbCgwkfhzjKMNvjIRejaBCjIVaNnmuAtQ3KguA1G4hlHoAloiEfGMypKPKd/Td/8ze7HeWywR6WBRxNjiMYFaYmIOKpaRUiRyEweglfYanIRHtchrRgCiz5DKPLWsQk98ls1aFJlKIlmAnsf/jVJOoQcWF128cbfX5/I8Mg6GgMj6cp11738eFFO6uF9zOFv208cS8S1ZpVgoycIgAEE7LgaVd6mh6WhULGDMaYfiwEYHd9cefzznvG05++74brHb3++8Mf9mtXkPm7JfWXTArgJtXRTj4J0Rt8rzG9I8yoGTl9XY73rjV9x58M9EYUL/hFu9qvPvrJR4Cd8tv/x9P8oJ2pIl1YqPYgxW/wjgyoprEHJ0eNoNtoUk1ajPQWfQ/0NAyTA+yxheQ2ctKDDbouuOACz9XBWMhH1stZCXz40FGLjLw0oM94xjNYKGUZP8hvX7XaACwK5EdvyayIFWYukEUBrzAqsRAyACElh0Z4EzVbo5iDkWUOe2PQswznGCHlKa4QM5uRZjjh7GQ8LkjGDLInixH7lTXEZ65TS5C2KQ+9fbD1xEsvvfHAfq9f/sSP/dj3f+/33nDdde94+9vff9VVT/u2b3vsox8Nb2p5mr5E1CnpcjWcO1UJi4VbAGWUaBgUa+ld77rHwiSfhwgdd1y2CA3/1m5IBrcGIs3l4noWsCFTYps6vPBg466LF2AZm2kC9gMpjlDywfuu27e1C32wt0Z832yZkioyTZ7In1FKjwyLJaUUQF1UB6npeE2sm0BmIhvE1m40pGJ7GXuYRG3+oo9GgBHxbMLTfbe1fu/3fs/v/uw/0O4zW8/dVowNkT8yYGTe2prMYHZWJ3DG3W2JGKlp7ngo7hce+HL55ZezhBdZW3K9RC9M8OFS40JDbCwv20bNwh8DPEof7nyEkmSDYiLv3fue97//KkjD5OoX3iW+u1O04IXnBaAsKYFtEcm4yg+FG7ySEL54dYmAzfCgCb9d2tIcNwgV8RQEUVNypz2TfaLwBTAlJYzkM0NNbNGAq8k2A6CYmfJSjQwLRQxuF827zvSGC/qYOrBOKpSxh0YsShQVkv1RBFP2lISypwBdJETIqI7MopwLlF728MiSTaDIe+gord15/9Iv/VI+2l2EmgQAmwGI5wqEFB9ijbdoEOh+jiSD1BVHFjGO8ISgp87d8hp6GHj5mo+xIjO74Ij9hE1yjJ0sYhs30Qugmi4XomrvlHp4BhAcePRKxBaQ5pIaZXkNQBkXgs+QwbRUGE7iMLpMJAGX/BajV7/61Z/3eZ/nZiNL0EQX2BAEI86KLtE2dtirLDHslHcJI+3ESpi3/evbuOA6w9WGd0xcZzhrulXjcMBZlEw95QaMBNIugPJQDMXnXe/+P/IEjdEUZNuJT4Os/jBCnSEeSdAUyVnkcgwHU0IGXk7f99bAAaZi2v/R9F2cYjMvMq0MfYg59V3f9V3cDAsaSQJ2y1QmJ8HMHWmDstfbw73LEaumS4gqA0m25zlV5x1g7EbWNBfnc8+9g2s49JDMs6DRKDGCYYMm7bbPH/7hHz7n9mfr8rM5rmLRl+oA8aK37WRgxmMXkESPJTyKhZDMYDyN7kh5NO6eEB8ZL5jwXFNgEKhJYCE4IZXbS+K5yGbaFb3lpshYYEXD8w72MPjmg+0mszsl4sMYJSxqBghpohoVbUchS2GiwjcwB2S5JqNhTLz47EGrd0Q14YmLLEIJUStTux0ZfFDT/gXTdTVENTESQprS+IcyFTJJ3zRRWnlNTpulwNHOW+Ss5bNzFpsdzdQE8lndvJpOpMCQWAgsfIISFbrSDDHkYE45Farj6p4g7Lp7dgKDoTrCyzCArhv3Hzhjy+R9d6uPFdDfjznrtm3kZNjZtzvrwL52oaOIgCgdp75r6FVwCQsyNXWasVDd0U7AdMUMxArLschaWeW1WF09jZzO1zUAOYcm55hZyUswuOQSXYx0fDZwNLIcy2DJEV8Q+lyaZDPFv97+jFowgUeKKvIERgWZRJUj8OCEZVDXlnanA8bIdk9jt5zRboAjs1S1H706dMv2nTuyCqBsT2aGUQhv1IGlZSwpAxhJy5LxGlm+5qbJaJ6LKiNp95PLjGESO11z/MRP/ARLwKIhJZi0ZkUrYaQrisxLK8Qb3vAGXPTKXl2iodex6Q7n3PG6a2+QRWKe686MdangSMEDYBJN/nFtbjmefjJzKR3h+6belCAzdlPc5NaUpl5dAEEWQC6IZ4h1+aSObRdffLGsDiUCFro5d8XrX+dyPDGHIaN+Ci4aR3UZgJg0waEIbLkTOoD92JeUTtjWYadtV3LeJHehBjZn7QHmbN5QFfPBtvYjMwDGE6Vmm7P1j/7oj0K6SsYFiHdqsJJlvxyPVekNUl0FfeCBdU7FeClKrz5CABKVO7iyrYgq2Lrt5lbMhrcs2OzhfWqhxiggkcMj5++s+aZ2RCEQHypK0RxTBlRRkkMynL9k9d8f/bDnxBlWGC8J79mz5173uo8/EoA+LIipQENFtERF21QDjWr5/djHPhYPTazkp8ji9IhO3AlFH+e53UscyVnUjFnkp1RzET0VTE2NGCCmwVjs2OCsbdd3MGHeZMlbJKvDE5XS4U4MJmhzQ0cafl1VmJo8rq5eQQZScrj6VNw2tCACrOOST8ytPmoEBk/peXtYF0obMIFZm7BnhvRkBU/cHiLJ1IyCXpF0/nIc+/3f/32ibth3g1HOBHby9d6EXsYk+AwrgSsE2BZ2wg2TRzLexDN/XEJ5ukSR3le+8pWugMVNs8QmnposZ22ACml6I9O8YrMu7OwUTHXoI01X6KkQN4EikDFcwyhofu/UBPa4vXIMAS7yseAdSdPLbAToKS0CmGg8fTWbraTMZhszDNz3fu/3OtHHJGuuxzG5pc/TxOH0GUMyvdyXh8L4u7/7u7c/+yyX6MzTJVv8WU2TVNOIJ7dXa4z4zy2rlYPe6KSEN6MW4eBRWSQfvcwxZ7/v+75PIoEFWRDQOxB7LM1ZgPQ2QEvmL/poLKCaiZ68EjG3Rry2+tVf/dXeaHUW8anSYx/7OL8Ub7mQ9r5N+KZv+iZ3aCmiDiNLWAg275iHjHne5CIqJ62KQNSliR0QS9QFpHduHbLZWkAyvxhDLC9krNwAM8ySRRrLaZcSLkNhmKr2Fo8u6wCbecFgvAqBTgx4XSNClm2AGDZrQ4/BqBCosIE0K577Xg4lbBAcvQz2ayRu4YobZNgJ7+UU3I4GRVRYGEPul9Bdz+KkjOmQVFpcKIsR6qjUW7xrAxbZV9JigCZKZgTPefc00vWIRzxC3NmTZA1lsTO+L4UP2Uh7KHsa8AipWcjqCrLwxJZkXWkKWvGG0gQzkNZBI2fVFm1Jxhdugi3NXk11nQpT8jGOiiDIUclHCy6ApgwYkVWzbGCPEjwAnj2UXv3hq2ncsrm9m00O2/yRBBs8HMniHHdK4AoBwpl6xKuuR9bv2OEJzd39wh9PndYdtd1E0SsUeR3GDOFLH8OKACCl9KbJVFnBPLPUOi6wZiZMyHqbe3q9mcbc9DNM1qmHPOQhDsVodJGZqJbGmJRmalkHKW4MTtgBZdvpAzIXDLeFxvfgHl1bzS2yHikB9DLPHV3PXxwubaWnz5JIdgfRPzGn0QWEobzNbdorCywxsq7VXAMZVhgrqmuGE9mD4DiaPuY9fCI5K+rvBYLD0+fMrBRpxhf4hz3sYd49kUW+2nCQMGvck3QMdb6HtOhzf5Z9FlN601VNOWxA/USGH2u0vrsZ7kHbJZdc8rVf2765Qky7Dz19H2Ke4koeymfRxmt+QbIBrOvCCy9kYZaLSuZMf80+dXEps3auEGPcaVGbFLJCuBRWacLnxK+2pIiSjy+9qDucbzfe7W73cAn4vvf9py9aXbs7TqvljHd80Jx99jm3u93Zt7lNe1F2hZZMyXC0vcz/8peVaXcB6pfR3PYWK6a6N5YfbU5Ayv0K1FRU+/8c9WHgpLtYdz7/vCwHsoQ4CryR61tMC1OCQmimRy90JTBpCl19gVnES6MoI7CCM4lea7Fb/14Plqbf/u3frjff7gxr8eSHkyKNihIbuDAJirowgIKLq4D0hmAuWS8KLErSUWF5dBVvAF2G0LWC4ktEZImn2h9GllX8lWryPufHsmQWoAsxgWKlNlias2QjTO8FmBBPsAyxvZMEoWYSgWaso6usKC0C3vOOxC5qZtJiJFztIPyiF70IYHZx2SUcy5Xf/M3fjL+CpqlWyESpMEkBREt6U7PQNsZIyUAXMnbyooiLJYA1BSMytbltLDj7xivfaInBTjVRTeWgSxNXFAEgSVawp4mAOiwwSuij6DTVEoPLbLZS/8Ef/IHTrWHyOMN+6SbqZZdddsCXOYcP/+Iv/qJ5sZJ8OEk7BUcE3Fp0CrGyextRELJq79mzx22MyEcGQJlmwgsuIPjZOsGfrWcpl2MiYZam8AEYnzJLGYz7jcJrntrevBmHKy5Auvnx8Ws/KpNR2t4kvLJITrjK/dIeejkGI55+c8oXIG7Oeyfox3/8x3/mZ37mW77lW7yuJY09szfcmn6NHT1danMBI/NMNElCvhyAkdtuBlSiwqdIWgClaGZNhZwSjv8/SxwKNuQiEoE0UDNVSJmnybDMVnuYfUuRtxiZJ1vcVvSLm7lnyzDxtEpY9t2sluRO85oEoo925imBF9U1BASiYYO72Xv37tUMuzVIlrIkmAhPV8ksjTDHlqHqBqDAIzncKwAQSrFw6/KO+pvffKWJCmlIIIdo1G8AMWvhLjhSQYsSZA/3ZAXzR0GW1HTCFUdfPvzCL/yCjy7g/bDFy172MnNSWI3ZXLGlLr1cA6QuRT3j3K4iAJzQ7BLbqyY2jKzliEg6rt/7nveUTPJbVOEhxdGaLvIw8LJNswSOADTSjuNSNlmbhXVEVk02KFJ5GMHJdR5MxtRanOFmkowXeTcD5TQVbGMMqxD3TpXk5YCDpAtLEjhoSjDA+19eDqTohn03mud0yajrrrvGO4eMqQjHWnXk90APM0+g2OmBPd5MGDJx9aI0cSmmEGI3rQ4MwbeDOuxecMGFt7/DOX4FGoE4tFtaObQ2jknOBIgxJLvdBCP3wGyAHxw57Zehw2i3P7rnNJnv5W2fuQcuW9zRveybLmPJFVdc4TIIcQw+fbVoibkwvuY1r3EpdsbWtlwaa5G56KKL3GKhOgPBGEBZEmQ1h2VkzkrSBmAoHeWpB6dKTrAcU+xXNuVHS5sNGx7+8Ie7fx6/vDrj90x37dzlHCOTuSMsMnPGzTnGR7u4KeiFNCsACXZi89END2wmOAJNUYWRdVTbgRAD3MdCL/LqTGqpDq/5xje+0dWeTUjmZ2rQSGBsW4mFc4zuUL0EGnmdXZMui/aLX/xid5iQMzibqOx1K9FdU8fW8p0QR4Hdu3c7glgcNHnkcG/NJ8f9UXku7J3alYJUJLDqQeD/9hausDDVOnGXu5xPr+OIPyPihNz7QoHmSM2cHA0FK42QH2fBQyUF6oT7qquucuNYUCBh2EH3SO5KmglWXy/hkkYURZet3b0g4Xa/whphOVbIEWu/Qmeusm3keSSjGamYxSCYy1v4Ue9IQsIVLeBhVARpclKBqS6+2PAkh2+EDJgzbNIdAS73EjniaAaWasmhxD8SRnUNBxVgWUu+oI3IqomsmTXdWmiByVw14T9+TXvSAEkUOcxzW8NVHbEGHUZhbblTYk8IZDLHHROYEDJf9tKXGN4d27d+9KMfI5Pj112//7nPfS4DmNFrEe2U2ACmEUGVYCDtH2YmgApKy7BQpomYfNOY4+YnGOBA5vDrEJosijp1MUaFmg3oY0kCLjjJRkOmgEvvaQIYELP9/RNrkMsUSgWQtbm55+9YgYXan4OO5afJkogVNFq80OTSIesD7brcw7AwWVIUNsMgY/lqjckoROZqeXv6yOkx7FFKPtsUzQA95QiWOTzCi/IHfuAHMjX8SSdftniNQO65XnR8EQ0pEd5Z+7HrSt3LhzELIh+XFcNQUpGJSaPEg7eXyHaxNbN0KU5R/rC2y2IAAnKkNDPctHNqd79XnpAMrySHAaV61kJdkTNwjKtiHAEmVxzPxHfB5/P97/v+7/NTmn5WKReUXo9yQeyjIBnLcvT8pcs272rb1ZrfMPKEwm7nL4ZqPupRj7IcIUiGl9kwysiAUZP8wlDkvQGbumUYY4JsT/HFgahqCtFcgaWRqMnZPEKP6xgWUKcbP9pCVtYyZGLt0uGtb/37D33og9amJmIokXD6agYotHM7eeMM4idjLr7o4f/01n983GMee/PNN23besa73/muaz728VtuPij3809E+3/xsTytABXAhR4OZY+JjyM5s00YXMUYApZjTxdHrDIWepnkCGkO3HTgRpYLr+J+IlddOnjwbNoYS3/bxgPRRRGWGeanKSRE5JtmUrZPl1lGxpR5AIxY3KW3hezY3n5sM+POTk/13TMR/3hBEXrsac5KXoLhCEai0JDMa0b6dZLDR9pW59L0xpvaXdDt27a8/e3/evnlr407iMvUEg7Tl+AJMWlF1TSgxeqW63KmzrWWPVHBDPNZ5D0U8PwizzWxsFYJDXUwpTQaNRHYtBJAyARKE76sPU2AN7cl/G12nfme//Mf+66/Yef2HTdcd/26I0cl0qGDt/ihq107dj7w/g/Qtf2MbVLoNJlRYo2pw5/7igLrqbbh8IK5K3nXZ6JaAUGGRYi8s9r+rbWMxmKtYiY3JEYZkpFlc5k9K9+MkzNqk0IO8NE7aPv2+z2Tdvjb3H5v64hLLre1d+3yE6/z84HelMgvpwCZg6YzguAz0wVQF3rJZu+smS7gmZ7wbgO43PRXHDzkcmnhWKN2b8aT1D179sjwSCC59LKZlt7N3rAevwgesYtJImMmYpEGT33qU315aBf3q2S+ArK+2RFdqrmEsBpYgpAhptdE9m7Rb/zGb9gvX/jCF7ox5rG696cuuugieycHBaGl0CoLyXgpMigeV7l5s3Xr5KVU6txFcCeMzQlOLzvx7zHgdq1WEez78BsVhvrdn7/92781MMxV0DDaNagXqe94xztx0l9IgXe51bOfEI41fbh7eJadCjbEWrZpMlviigV7DIYke+lLX+qMI0VE3KEwQsICnrjpTy5NM2ZWC0zMKK5ZmhD0Qno4jD2GeZqZhL1YLljo/TChY6PbGe5jHDnUfs/PtbWhtYNyzcPRH/mRHznvvDv74tjnie28uXn+ZY2BEAE1FeJjUjly0htrZ72gPUjEoYFhCdVet7byaxKoVzb7bQHSOAJpFADc0aV4xj8rfAlGag5LQLv/714CgX5JAv0rX/GHX/GVTzlzV9uHIMlXPCL94i++hHkpMCW5IqwLsprki5Ll22LhVQsRzumk5y0WAAJJbpd1msk6aCYrSXjGGAW8TKIFfbIKUAWeR87Iw52f9oWGwgAEhqPXW8afQoD8LDdeffK7aM7Uu3fvFlv2026ZADDPjPAZWIv84cm4n0IbelEWQZlspfMS4s4dLSGNho+gPAXIbIXxBYjaL1i0w82xS4JezEK4BhqFCPfNhTzzOvBCh70X0sPz+MY4U0b+OCKYLLzG7jUuD7/g7aN2UANkFDyzfP7zf13Cz56By4aYFAXgFENGlH0IXl6JodC17MpfWBtWQiPrt/rg5SouLPJWVjznOc+5/PLLZaZXujxQNAousEiQqKxyXkS8cfPkE1UwpAKgS82w2KYJgKkSI1NDhqBHVpdpxRK2MYlhlpFv/MZv9IvTh4ZZT122K1nKTTPXi0ImrEMJFgDhDPbKsXmapT6JLdqiGvNiG41LLCnbxBCZOMk9ieoToOuu279r17Yb99149tm38654bm7TtXlze3V545Y5+1rTOJXYYh07Sn0Af3dNiLds2Xrnu+65570/y6Wuv7GFcvPG9pGAG8e+2v7cB32O11w2rtvoZla7hSzQg+AjOVRGydHZM0JbhUxyoVELInMBxHJvatj4/4IrZChzOhBBxC2m7Vthp7+dj3zkl/7BH7zc61sOJY4mvGh+Tf5aZzMl5ngBa1ICIOmOwO1MjM7PVjSGRiFx/C+8qWVTEz7gG8GwHzdM42nsQ0CTcG1QkYaMp2xGz2y1d8vueO6527ZsuM3O2772NX8pY8wTcXjTm6+WQGhcje2+6/ny79rr3N28Wn2Hc+/hMnXQMpHZVDal6zds3uDDJulFhUJUwnV4+Ht4IctPQWb0/c4rMoxbt7THq1ZZf05bxrzkRS/csqkNpfeX0EuPRz7iUZ95j/vs2NU+vnYsae7apJvbR/y4x+zoTnQt+B+7yZSf+m++qfni7+Vt3LDu/PN33/te977qqvfefPDwmbt23nDDvq1bt7zjHe9861vf7Hw6jKnX2dtNqs3+0morEwXt/8MIWsUGlDBvsJaZCYjthc276QcGYTvG7GHSxk2Hbrp5+/BJrmPH37zhr5/yVU++653vkit+uenP8x1xMZcUOHTYnQ3yM2uaFcMdMLVhSjKzQWLLSWTCO7HypP+36O9xSlXjSNdXPeXJr/iTV/7yrzzvwQ99iMnSkJs23nzLwRtvvum6G65/wpOe6M/Q+oHfVRsy/fnQEaOP9iWYX8GlKPmshrnpxv0/97M/w3F/uEqm3XTzobPPOvuRj3zU7t0XmFcHTcyNm30lvtHNhoM3+wni2T9ZO1I0aq42pP3sZoCRykQ9Xk7D+y54pKtvxkdkCnzYwfLfxzpD8+iGTcP9800bf/pnn+Pp0o5dO/wBIn8SzRLwzv94+6tf96onPvGJ6460ixb5YxccfuegvfGQmWgBFEBZhCBl0NZeQ5FOlBrljLVeIyk5hxxri+f97/9AFpJgYrouM4HR7Ni168svvZQuYqVEJMDffEuj2mTpnt7Vy9pLWvNoKLpQ9hEA64VUj/DV7FlifE7hCAgnOIAJooRLSvgjx60e0sMXbD6EssWdYQUbtgO/7+fnPvEzmleQev3FmV5pTJqYN1hNV1wABB/LN6w7uGlje9Cw/4Zr3nLlmz7yoat3nLH15gM3b9l2xrl3Ou+iSx6x67a3W7dh00FX+EcP2kXbnwmlNcqy+lVzQLYTYO92mWXdsQpnWb/sssu+6+nf5eVMvV61c2fbhwf+8NZ73rPXD3QZv7ZCrXJuYrHAeTCe5NC0fMuqxKLMKIA9hpmpqfEaA8jb7NhpuSTEk1HSfIEAzyRkxXtagbnRK41t8IZGjaKWQZVPBpi/vn0EaHJBEJJnzi4+6vKTv66i3HJxcONOQnR0etugAjXJjOm7ZOQTEjkttv0RqmUgc1TtFRsCBcoQA9Tgq666yucQzGOYCPur3UJ68fCnJeNRlPaqgz/5mqJnPetZX/d1X+PP2BrWHTu2M8Ah9Jd+6Ze8ouw8SIVHbGp7lfgs0iiYWYYcft2TyYojDvBzWeAlngigtIO+4AUv+LEf+zEBn0sMKTgJeBG0aK5f7/KCKEKiCBkCcIAiPk0AB83Exzz6Md5b8YTJtXsO8iLpk0SXp65Bcx/eQJ8SGwTZ4njzwfYruLSo+W4m7t27933v/y/vctEC41MlRxlfX2TaWoDhxWRIocm6dErsWaGQNlRT0krjKWL8fwQd+XG9xVtDnBTKgmksfNziLoj3ibC5I+jzNL+U6yx4p8+4C/eNl9pFBy4EarMPhjQzl3AFTZDN5qFAIkamRhcaNRYSALTbgQaNk7+mTAJW13kZd7yaKKsgbovFcP2T2qjhGq2f6FEqvSXBrLyO6pXT95R4++ZcuKfhS+9jzFZv3Tz5rsE9VLdwpS5nE3YL3Z49ezCKAPczHHMV9ch2tTG3UGYIbaKkewvgEZc8IjZp2j5dQ3h73l0jE8lKl9DPlbMIyUrHIvd8zD0+KIyucZrlokKWUJdUANOL1/nar8YcPnro+n3X3cXnN77J9SzQSWqQ5QQ6/GsXx/l3vGS52NJR6VVPfk7JfjNsOf3AzCEeBif45fVAOFlBMjzWoLPOPuc2tz1r15m3Pfv2d9i+YxfYv9uddftLn/CkQ4fXge/4GeepN2zcfMa2Hbe0k1ozdVSCJFMYwcIiPiKmlNJiiZFoMo2ztCHz+OrKK68EBMM26eX7M4eSfCYURnICoAyw2nqWkUzb2IUXXvi4xz1+WB+aSC7YBd2W96aVVGGwnJGQ//mB9/nzFxOlrj6ntxBKLEARjTiCUnNCP/M/l2VneOh6xlZ/m+Xa66/beeYu4W9v4U4Tpv3ZmCncgGkZSfKCgx67O7wsFXn2M3hEdsqbRjzDbTTdyvujP/ojzvoA1Ef3Hr855rox5SaYG30GdMnJY7WGuT15+EjbBjjrNialDJAwP/SD/5/fF2aSP/sK49VQDyDUxkJMaEn8AFiCWa3qNdFTTb3nkNS2woxBzoD3d+InSX1MdgimZMfwPVS+cCRFNHzofPZZ5/iVAwF3mrde7dzZfj7i2muv9zt/fnKL8tvdzo9YtbksLLosZdZVgHiqA+jVjLXqXm/g6gJEe8gEXzNLAUoAOyEzBLroUkJMRWgAgeGlblTEwRMGIcSrqmmZWxYJmUsMOUvfFu3hn9tI8YjLyOJLdhBvVHlI7Hmf4AiLYXJ/20HTOdgKk8WzMddiNKtmimmi5xZSqDT8VJoAJiQgt6oOekdhuKHqkPXe977X6tY0TReyudJmkVj4r6YlaWSMZ8kKg1JiafJQwiUcQkO7pp3Y6iAK2fJN6TAiKwkrATIkET6inz9a0yGs3micKyddZRIa9isACW2+BUNvaPRYg3in5qaYG+mRVdVMJFNHpq4Apajw5FvsxIpAd4zT9MzVBTEaSB8R4rKlOUq7IIOMohiWGgZNGbBmINKMviB4s4BhxCrw9MK7NvV0VkKKgxzwdls5MlKKC0FWCt6ZHmSKCcyIsppYiKVLqr/tbW/znsLu3bsrzuVp0Uc1rmAQpHgPVpdzgNpQQrKkVqJiP+UAdSJGkSlAo0O0l3L9np8/GnXRRRc5Vjv+ipgp7ApbTE6VAWLLWRPNADl7ibALUG9xS1cqmGT7oM6q5OUa10ACEtUFsFw5VfasRE5GKnXRlz2FKaDoC9MDYcwSzBHTU684ALjvyJI/z8JvTUPjTxS++MUvsWpLSO/HGjLJCS/ZzG7SiCIBQIjQKTIzGqOrsg6AGJLeZDilxBJFoC4EmtgBaGKApiRXECuaavShhEcGYwTB0YtdCbykjnkIZoER1wkFhmC2JnluGcmvZog1uU+aJjfV/IWUqN6rghFq7spPE99Ch0AMw2uAACVwEbBwZTEMdBNBkEnizUa/dvFHr/ij7Vs3WcZ0CPQ1h69xGWrFaQ+kHVuO30TzvGGRYvTWbuuOme8OHjK+yYak0SwXxww5FssTXiPNYYu+XyAGs7Nl7Xl3vMtdzycTWbPnWMmFZj9dg2kUOX5Ob0LnLscxTtE/1piB5oY4A1a0oQmy4KJxgWNkBy2CCpaFWh5peEe03f/ZudMrc0a6If0YhyGP5EhQp5Cc8QKIoWAKlxTxTBqBJ5qmUp7lyQo0DkOWPFESfPfi/Mmdl7zkJf42k3cfMPqOTVTzQ4nWXzPKIytcRKUu71YLNGNaafHv85NYrjHGA6TnP/9XZZcm8/08HEuuuOIKL+wJhVG2Gbjgc1psbh2X4RnfNk8wki8I4JSmc15BI7WIddszL4CYTtkI55E3XAJeoSAfTAKlNQQAJWYsknNK8AJlKNWe+GZxtBwzhhfkcy3J4EsA8wW+8ucktdNClMlrPpJMtSOsC6/bn3WW2edNAoEVUk/+3MDIQNDYj9fw3HrZ5DpJC6fsLSuyFhmpKdIgtrv67RZVoQYgoxnc8fQjwgmbJcvoC7IsFRBLpUGHERkv5fobZN41FRlREiL3hvzigasfOQxpj8QlXAIIMBlrASQQ/VVXXUWNRIJXs0chX420sgulkUVguOV9RpkxZGJPcuo1r4mNwFiviyh4pyvE2I1UzoIhKLK+CQ5jjywMgYUvZGECwI8wJ9mcK5DLxBp6IaNvvTsQ6zfcctRv7f7Xa17zOguLaIiSJw7elPQ5QDuzbNvp5QzxFArDkXAtt60tzCh6t4tBZA08Ha4AHDa9hWy/PHzLjV6xcwCiBpc7RS5TJMqwZBXriQHDn6me6SfzqFvCxhkHN+8Au0/lwzLXxFlkZapLchlgHREFy71UII1tyhKBc7v6kcDeN+fSQ0bLIsompOOMzIq5prcB9BtsARFq8DCo24yf53+53tIr2sa3JEVCrxQcIU3m9Ghv4omGpv0Tb0+fnQMBvOh5U8wb1z5ioT0z0JMzH7EwQOSR1YljEDKWVoatGaCFmYw3sr/zO78FkA/G0V7LhWc/+9muqLwmpjg2eeZtk5vVxTapn0TiIAJyRBKmYjLiwpK1LGsfYkB4R5RpEpiimXgO0V3vbrNXHG1jpAkgIURJzozpXFGnBEmR0TEXJgvr8HOGDIMXNyVRtY1lxi2fZSs3iWtUoLcBGBQp9KY3vUlkPNyxaPjlNenqj9775Mw+WkoTsQSQPdgXjcvKLVkhJaUoUwOG49dxczNyEDAydvb0gYt9kNC2H0CCbLj5wilFEra//LhunfvqgmB0zF8Xhz4mkBvey/3pn/5pYQEjdmqUzAZR0axVG4GVbe/evVKI8CSSXsmptoOqsVhF9dLFGOxXf+QjuMg0R2AUo4PGYGFUuJaYD162Rzaa8ETBMMnAEZgIYG9urKxg6ekjYWWsa6dapCU+skdMSNeMeRx8/etf781kGGlp7HzjcMkll+QFGkiJLVyIUa5k8h53QUNTGQTAb2iJE1OmSAt/xfe5v/TcDV5QGk7uDPjYNR993eteZ63X28LQbxetvbAYMzONuV5wUPOT9eoyYMQpXRzc5JP3j9/8ljf7KSIHBxcNF+ze7XJEfrDWcp+TuENa3js9XkjtAsejh9YGP2XpjDI4IGv4yxLeLOMZyCppesvB8NVFQzA9TYw43N4N3OAh7aFbvOfpYwNvE2xwSX+/B3z2c3/5V6T1vgM3GV0r1LXX77MOHth3fYREYISUrmhMukRpiOEH+mPDo0m4uW0g5IpfeDccGMHmD/pLL73UlqBXYAexbS5FWg3zIHMVc2ywdn5E5Q9jjCMzXv3q13zhw75wx/Zt1h0m5cVdN3h9EHbTTe0H963aU6uayHgX21LjkrRyBqAMeudXbp54auRlP7+hSObOM890UHNeXOgVZUOJ71FHtK+/sXtwK6pcMDNRcScTeL7uU4ElX9ysmJxljEVBzQbaRY8jamagUcSkDF678uFWU8bLdKNXbgrac372Od4b4jvJFN3tbnd71KMec4c73BGBEr2mZfSmeQqMOZEbdSeMLjEpjbNXn5E0jO2ELCwwuorxOCGw63P2nSzQek0ZKecuqbBz3A8ImErwdiUYDFe8/orHvvnRXhL0LNlV66aNWyyzCHAZPrXhE0Afn8hz9JpK0thwK4itd2oFPl3ZDwxATnJWSyNu9E1nBJKTMXibydPzNECiEg6ItYTUfjwbWurCO9v1ycLkEFSjXGYkMppc5j6zPXq0uLkG87MMvIbhuHPGwx/+cJfdrj6xCFdCIQ7GMSthyZwLbHza/3ha31EBosMkaYqHNRTAlN27d//FX77KJ9IWLRhDgvfDV3/E63bee2y8/pvWA3hsye61gJlo1tnzAOZ5RCUVRpRpRpqbya6N7CjukOAC7xgWBfesxMJpi7VJiNUcnqKheaSUdnCz53hk3wsWdCXIgdAsPTbZJvjhf+md0gxzcjgZubGinyIRYLloaJJpUnFK3svsTANHGZdf/vIOgpIW4sIYoxSUhAjIxs1t7nEFTXa+icHDfXgy3d977Wtf416CbkozkXyF7cHAHc/9DLwRKBaUNhGtTAzQXG3JGQVXpHXsk8+cGSDx7n63u7vh4bN0BGxgs2xxWpRm1ia8kB3vMXsEUBhFDIuQusMBA55RN+F2no98axaU/GEACZMo9ToGWAiiOgKRKZYqURJtJIasxjGSZ2SsBSGt5rMdbS9wmq3pBbOESWqbGUAwE5M0F8VhvvCGndE7LFdcs744MViVXPT4CPK/P/Jh6lAzZteZu3zFf/e730MwIZXIjxdsUEhQFutd1DMRtah7CT56J/Wc68/GSnpsa/DUcphRM0IgOSjNTA6ZI+bZfuBF24XBzp2+KNnldOUdachpnmz3oNr8ygJ744H2RSkhmlkE1JmJBJqhxjSBYg5AgtHiIY0ajAa9LqOM633vfz85lIYFgcJaZAobYjl6sMJ+tS4YswZXPIrLuoqyUc+ZtkHPTuc5mAnpmv4Xs2frpOdMjh57CYs2AVQfGH626ZWvfIX76mJFFGedYzwecgB1i7eKXvRJ3RMaeyyDY1wxGAY5oWmc/n/27gT60qsqFHxqrgyViTAkDKlKkEkmJSiDKCQigSfIarGXDYKgCE99yurW51NpfTK4XL7Xrl79nGWBLETkBV1oo4ACISQBAUMIc8KQiQxICKSSSlJz9e98+377nvsN93/vv/6VhCZn/evUPvvss/c+++wzfuf7brCOhnn1q1+9ZcvmjX5P46hyPoZm165b3/jGN1x//VctZSSLuq5lN/Nr8qybATLYajb0mOiE1JXU2ArSyUTkD5BJgOMGTz2f+uQn/6df+IX/+IpX/NIv/uIjmo9o+7CqyYYInMXcFHDw0P5Nzcuw3Ct8iF2iIqEAShKFdesPoUQGr/PTRxUASqExDFNDDOs0hMZ+ekcMQx9/RIZugNJujUMHtxAR7ReGhacDWMUBQabukqG8OIIeGMiiYWMxSWN0wDg0oibX34mQJE4unoKOB1PwJmhHxc0yM1iFPqRLWuTaQPgShSK+beBnhVTc1Q8fonI2QCJBeCoCRhO1iLgYp+2HNb7ODZqIOzSdsvjTR60NynSzMDzxxJNI1hy795RjeUjPkKwMHDupjeLFW6oH5wf2l4MHXqqhTYeelcYOLOob4tQlQipDqIB5uA0yFgjjEK3KcnGAMb4AwpcwQSmGAVDPrVdVIJEzK6Iihe+yzzZSrQroKFzlNKAjOFK0JqfSoRqYWpSzOJP0tmLkltfplp+xVJwYv2JRbjmsO+hwMozDMuysr5D5uc99xreyOaf6ymWTl73sZ8866/sYQZJ9GC3UZrb861bk8NKslAxIzDBrPXWhUPlLggZQtmT522AoNbn4eNMBVwjQeR1s3UanUwcPATa5E7/eTXAcmmeoB8sqrRkooExUVsClj+DJOKaxXbf5qMKWJ571/a99zevhQ0m5Sr3sZS8DsNWWrZv27S/nBM7/GTAcLHyPM6OJeinLmGIYZKzN36J2YuKcz7m1zksNhvyfCMyFJItkMIkYZ2TiEEocGv6PPykRUnrKqjEBZ5w0gEQCanzAdW4Nt2Inta6zRmCO39xjbfwzvFR89DFbdu+5wzixyay0d/eB8rsrey+77FLPGowwas0CLtmZPv3AiwsWYQEi4BmBkvp34xIjYlt06R6DoTZi1AprYhzYOjvVKprcbkBD0sbW2OGqD8LpMxog6BFrzkHmkMjsD2LYCu8R84O+rWGIpo+goOpxL4JMEqQLWJElafAimvcAYHgkem5haUZJeJQCGE9MwmMk6empg7JKxQiIGBKGVpiEFNsgBDhAUilUTb8M+0hiiIy2wTDEyVW7qAiGOCAIJgCawETVJBVRVkCQAV5AE8aPZOiDIWXECqoXmJKylEUPT7RSGCIAR0woE1kOm0fRSKKxHPMGqr0+GnxIUSr4Sxad2gA5JyDuhDnEsmLKJy6eD7GGpwN79u7hIduOO9bnXaKxjDtRI7EsLau+AqWIE6s4QKz58MQZGWJZYbFOjC36qGa4n1LRUgriHEmW4XLwAjiY1DXyzNieg/M42JSLjAsRWtMsAlOmQ4bJsnyiSJRKOIAO8xWTUYojAbiEuqsa12IWVlVTlyR+4zd+Q6uVA5LmxWKrH6cFDoqCgAiWXFHQYRJQLznUNoyWkhuAOGqUxB1A2X7o0NTJDjdl5Yq5H+dklmYnepw3Qd0XiV7PGuxp4+4HczgMezIspBk3DIgn04FrQR0YW0yU5ZauBHqN+6qrrtIWvI4UWejxiVIJdJhEMnXO3MAMJuezyiJ3O2CatJJgH3UJQ/nU2t/93d+xFddlJcefL3rRi+y+jHi8etUKj86gOIYdmSzcTlK7+n35n3nZy2lguDjhhOOd6LoWDf+mN72JN9yx67atvrzQzIWG6qPH377ANiqDWAXUSj1DVno5gG+JhbrlQjGxsPfA3q3Hbt1/aP+uO3d5BsDvPNNy9Gnp7asWvshz5947tx57jKukd+zZvcmDmiaQSFsf8bFVxZyz6v+QfobT3/69ew7s27tl00YvhiKjA1XV0ZSvtPkGvVLoZVFMAGstsXHGCsa9ceM5N0ZlyUpKruIBk79Dyh7YsnHTof0HLGkP7tu/b/ce61yYrWX77LLgulwLY2Hla/1LBOPTig4GMh1JF9JdzQTRMykGENMn3CJUpaQqwEgyNXpOdtmnLn37/3ybJFY6PMAtLe+/qylYoyAWlJIMbk11Jz2T/QN5WHGzeFQFxsTH5KeCmoNnn/c/z/Ng1HeffaVIdWTZWXoaSofmW4DlFoZS+/eVr9xAKq4iDALesWOHCmIFmcpTGMwOyAQ29HQkzhUcMFh5+it3NLi0J0MOIXyoyW0g5rLbarJwYzpuwCzaAisMKQZgLnKZEQ1BclMuzOJhKasirgMpdBAA8IsLHaMsHeTQ5IBEHQXMme6223b6SUUrMJ8tbUaD280WLPPgB5/+rGc9m/HZh1m0Ttg5lJyVolPPnGrM5q5lKvYTepm/xjwTB242GY6RJm8Q5uO0MCANVrRhUEYcxJwIW85gRuQDfMyDEo76u6//ve966MMd81iAiY0S5533t14IJIVV0evUADGYg3GkMNpgzObhydc3ofTSgwcdgWgFZaNIWDC0GrNm5CZNFMzkfAuklcaYJ35xyr4CyWQpYPOGjQeaH7c2CBzcf+AbX7/pA+97/7VXX0MTQ43Yw+lHPMLN0wdEcpa5sW7ezFgTd5+DZl6nJmkC8jTzDzztqe95z7v33LlbJ9jW/Oa49tZhnvCEJ+gwkIobyHiD4Sp41q0CgxgmBn3ewNVglI2dHYJUIIYhQgFC8Elu5XylfTx+8EDZtKHUbzkunSWLPs3rIvAwOkngETgvjnqJ6YBg953lBNjIQx8Fjdplq9vM7njSFtIwYeAIBQrDJsilBnFetgJE7QA4GMZyegCoGmTpHkc1C9U7y8usxGEeNmQ0GByQgcVKwYBN3rt23RYEiCEFALx38ijypS99ibZY6VbOKIrlm52Z/2lu4qASndX9m9+4+brrrvsf/+P/sW6NYc7Ya+587nOfZ/hjCvSmG4rpkMVK8aXDycJ2MkCHEYqUXihFZgegMFR843CGvH2uFkjKCMYCtfBs24hw4YUXmrMYAQe1++d//pfnPe95LlVphS1byplHtG+jsG3o5Nco2UQtHB6oLFb1sEI3dhAIippGu0iyNnq11srsrEElUYY/AEoTNz83gaGgCCTiiy++mN3i3Jgm6ClGWwQzlV0pgT+SNGyYsRSaPMnul59MBlkEhVL4TAze+a/PYC4GH1UQ46legnoxWvkNgDvv9FLdH/7RHxOos8Oz1ct/9ufOOecci3wWwJjwMFpUhK61no3kZaf5SX07WuPf41xI2toXq+bnFCrKIr3WIGZYSAwFQIQskgA8eEoxS8nFjN3Mpfp8OPqsFwLf+ta3bNvmPrlTH91wo/sHrnS4+7Nnd3nbnmsZiKzXeRTmytbiWgnlfwv2xvMPfvWrXw16Ts7+PinDCTVQmD2KR/PVxRMe4x8E83OTyYLA2nKbCG1aoG7BwG/eWD5ypwNqRJZ673vf+653vUvvNq4hOPvss71ndb/73T9UYq7Zdqz5zeb0qjo6g6LEPULjSxNGR9vP2Z1sPcbd0U9d9smTTnIVuxyWrt+w7qZvfP1+972/ffGmzeYeE2SZzFI+VrV0zW+Ud9SjvWPY0lFVmGfUjptFdEh4bhHKBA2eXmHkpjjwUU65d5/Dk/IjmgZQNDHNGCptj80+ZVzbs4dn+5zKvv17PQLkdojFN9/0DT/MYRZDiRsMvyTua//+78gwt5CUvPHGG6+88srwciLQCDZMDngdYjuZ+ea3vnXttdfiYEpTBJ9rr7kGjco6afGetcMEP8ZC6MUXXaS+X/v612782g3Ufutb/4qeXk56wxv+4vGPf9wFH/rge9/7nlNOuc8nP3npjTfecPJ9TvrA+e/3ljq7XX311fokhhSjiVmz2PnQoS9/+cseYZoRaQugD/O2rWgHNdnih0k5ns3cxRdf1Ix9jHDIMtm67AlPOCtOkzSHSZxtozfOXryYrBs6bRqcI44Gmshqmj6IvcM5XfBToh2CiEOgqxNnZjKUxIjsFsZ73vOeb37zZrbC7bZdt7uqrD94SYDC2pr/KCeLRA2EoeLanf1ZScA5skKllKJqQg4ucpnCGKTJ4NnQeawkn6ESMm0a6kWpcEVZRKOBJEtSwAqlQRA+LLB4PGrSuTNov9QYZqYTLqBW2EeMNgzInmDrtyuuuKJ8eac5/GAN1nvpS1/67HOf7RaoxlOE9cTsGTYvKs0OAo38ZTXKEWVA+6x1AE1DlIVg2X3OTJTKqlGZALviW4esuSfbGhmw97cBSZAAl4lVBcegBrwkf3j2s5/lx7wsyXip/s6o7373ezwXu9/97nvnbrfBi/txaUV87cACkVP3hcIwO86GMqOQ8Ye3Y+hk8gGnnkoQcVoklRnksCJyTvHwhBU59Anm8OwTL4Sp2qtuSh8kIkumCcUdBT+da2DUhffu8zNBZ//4j7/gwQ9+iA4Lw0uLS088s3jFrNx5/oZy3WWXfnK2wCQVrV4omk1MJnlM6VQHymc1fualL7nxa/++ZVP5dQgjDj22n36GHwR4yPbTta7zN4Mg31E2iwd3SZsnHDxANdZv375dkgfwBiO9UKvUIMrbOYFXNnNhbr7lZkeOCiKIC9y33Xq7mcNcJsnDeKT9itydO29D6VPC7nPe+LUy/YRcgGH6wgs+5AMCn/vcZ3iegnRzxZmsb96y050aI7J5pYi7+WbFrfsM6MZKGDXVBqES2Ec+WMOUGZebKOYd81CG3bwtRwdjK4Z+kcokt+2EyRDP7xGTiMDUyxpmR2TNDFGqj60k9cwc1ND8pBf+p5yiCqGJJsBcrK8qzj+cYOLZnCyV81s6y2XtSz728V/7tV9zWsw+zpRo7kVMFnjgAx8Mxs0c5hIEmGgVLO8kt2OoJkUgKa6bI4wQMVkBoBGmcNV8NT0aiuEWBVlbEsxoGvFpT3sqg6gOK8F865adP/i0H/jDP/xDn5iQ9D4AvIqg2buvfDCZQYwpNNfEkGhSKzwzEIcnWSjRqCYmhWFz9Z+1OXDMwYrQhxSGRQCWRWfMwYrzGaWIDj3ZGax1IOtqrgiHrfpWHfuyfLlG0Qv94kiC88QQvSJjCKwUDAOyVRgHcPPNN/nmjofoFjE+Ysw+T37yk3nU/e/7AEWst7LiiFkjOAzouvBxWavhEI/m2QQ9hZZssonUmDAegohnzVIsUQ2/bTmTbS/MFpzJ3t/McLXcyLYW506MoOK6kuGCiSTXrT/w4Q9/+Dd/8zd5V91WflAAAEAASURBVONFPjdW3r80rfIcnwPkgZI86thjtzllwWBGXpvQ8QhlWH5uVInpwe5lx5ln4oMKczGaUL6vYctp+P8x+jmmGGbUwwbnw+cTjH2EJiVM296RW/OWkd/486b7G97wBpsWctnz4Y98lPfiDPiGTU2gRyteHHvST/vWnvJPQTUwbwYNuo4pyydDNd6ho2hzyze/YS/skwCcQ6sbzhR56lOf/JrXvt68eOON/27QJx99KTLr3JTW9rZ0ynIaBBZQBh1HliiTOGBeGFsQ/BtmJQLLPWZbeSjIaYTJoLap/CYXVmUOaC7WxrDYaLin3KRt7ojzZgT4ANDHrt8Bi7nTrs6b4A894wwzzTHHn2AEZ2hSzEmYWPHFa3DcFytlqREAlXyhy7hpPEUPyQI2qpSnmxBzeSjs5xuNzohpjgNlAJShLeUxB4SS2EbtxLHmZRDM4ROQxCRUggdQrFhp8qHkSaeiv+p85Stf+b//rz/44he/aL4x0ztF8F7Qr//6r1scbNt2Arm44exnWzDhZ/Rx9RpbIpowMMrIrUM2UI0E9z00CPgDo33jpm/Sh6GYSN1pS0MznCXFk5/y5BNPOP6Wnbf6IW5a+dGPP/pDH647u9jhUEx+5Y2OrUdPHuiqncMAlFYk2jFmPmbBNgJYXfSxWBWxCVbGIGcMVmBKRbsjw8ov0VLMgu/+pz6AMgSh0RyWSmBrGkbbsWOH9kWvKVWHFDYMO0QdF4mpNFhkqRl0jAkFxuw/plt4ApVUVr2Q6VKG7AsvvNAbLKxqnXP88dusMt0nciDpmn5pkfVlPdTkNj870biTskOj0dIaDapKaOOZ01GUzsLGdfE2c2f6xKPIHZxBlQoRGAaQmEjWsRk0yWq8sYLXNTN7OTYzAnDp0o8Olh35Rz/6Md0NAavG9V3Pv7w56oM4fF5dGolxsXz4Mqan9TomH3PyRK7Bk1vySW/PhGPjEEFuxzK1nmBkHcxgjYKmT9wpe5jJFL2goP4MGksgfHTJr91wo49c+okOJuW9vPRnf+4VXjTQYZkOBplG0VuX6l91HUdnUKzrBsgyGzY1n1nYUn4ZZ+e3bvZuzf/xv7+qGTXsvcplRZS/8Iu/5D7nfe97f3qPzaD4y9TH0IOjs4HNIZIRQqhhKEYiyMBEPCHaWPZnCMrs0oT16yarfjwpJguAGKBXuxLCsqzGglwQPoYGMyhi91P4upH38ssvP3PHjoc97GG33jH5TCvPZnFTKbPgY5SHoQlYQaGp61Hu1YFJlBuDiCsqiEnRYUwGYJQUcGBcelQz2ccshb+kiST2lDiwJxpKAnBQ1oZLrH+qNelylY26o5cVNaWkpJj9sXXvGHEpvn69DbR3is2gcl3ep8yDHnTab//2b3tuakY3siCL0V9/VpdQwx4U52DONXBTXDwWUEZWkgVg1hosQjGauBBEukoV3eJTKe5hNYt3p9bP/JFnHnO0g42y16QXC7zxjX/p2ue+cmHlwPHHn2g5sn5DWcyxCYy1jh18tAUjkBtapW4Fc+goBreY06kkFSH6oosucqAtqck8ozLFahETKn+I79WhYRlWAlBPoBK2YWFZoT88JocZQltf3hjhU0QQJ+7Xrl9Er+4j52C0AubqxeXEZaw5uN+6/pd/+ZfBakqoZaIftLEH1TsO7Ctrr1BWLrPL1ePYihRrup6sNZtBcaaMECKoLZhBJQEZR+7YDGpEDmJkNauE2+KT/2NlWSOjOPdTfWcfYnaTZEAW23+g9Hq+4xGyzVDjIZMXDbwh+jv/9bW8l9GaDh6/99m3WJFmdYbMrOkcy7rN3IB5yWief2sCCtNEAARccscDSpkox0lK7pq49HwRkRv6zKGckPX2oDGD6rm87j3/9O6//Mu/ZCi/hnafk07ys0XP+dHnWhxzVLn6rLbQ5blo85sdg9JW6MLznoPiV2zf2jSqdPDAweOOLR860WAnnnzixs2b9IrLPv1pe9Py45G2QZs2feLSSx79mEefvv0hB9yC8ss+hnv3PF1ltCp3WOccTEs0DaalBU6mg6mPYN8h7c+MF3+UKMTNsK2Ro50zqeYOavy5LdQ87HCDtdwY8IdJ83JXgbCCAbh6a8NOT1cM12/c5PltuYeyfgPl/Sbc8See7Nj2vqfcz3D8kY9+3O/obd9xOltTkoaqbH6VxImjd+xTLCX4Au0hVzrLDx+u90NzFCv3mHQSPwhqTtUeiNY3l542OFsCQ7IBuFhio13Xfq+cgWVGHGTBxy8kw1r5K+nPQadCbAIJLuxKrYvFwmhwxx5bfkGa/g6EbvnWNy++6MK/+PM/8xh48xaLiT0nn3ifn3/lLz320Y/fduyJmzcdve/QPqwwLNwMbuuNeuVHMRtpIXPQz7rI2AC3vRKjUuvy1zRgl7od4/yv8csvj5ZBz+rem+mbv/WtbzocdfH7+7//+9xH9xEhFpNtOLrggg+dffbZp572gN17DEybXK6GF/AX6yqk6iSChsug/2TwQ5Wa9thtx5WDx82bTjjpRM1w8imnvO99/3LWE5/ICDqZW9InnHjCMccey8FZkbtGIAV/AWBkITGcOWo3wRSblUcrC/6VF9qKieq/wp/oWeQk6dVGfsDT/BWH8Mfdxv+Gtl2h7zRWkahUkXvgoO8T0sATpFLz9Ru+eMUXX/ua137jpq8fZ9xxa+HgoVe96j895SlP9rN0HlG7Qk6zCPgoYfKQVCsGSrYtif9L7RYPpZcTMlSgdFKDRnAki/OSF5N5OGLVCmFMnlYMW8qIjQNOb8qwUwxZruiWH3QqXDZ43bZw7P81NZtpmqYNtMekrtwAxA4x93gRz3zq1ORBD3zIQx/6sA984IP64GYL3EPrvvTFL1sUWogYZ9TFR1pt41UUzIaMyfckY272tSF6XnX11Sff5z6nPfCBHjwft20bJJoQjB5xMUATJtrM2q1GguvkLOHgEqRDMpwkfJBtI21AYhCH8jgGMMgh5HE/PukrbgA23ODQ3oh68NCdu/d84PwPvv2882659Ta2O/qYY3/w6c/4X3/yf2OuGDBNORzSktCM03jsTCM2kpue2PbHMqDyYk7ReFSqtMIM2reK1jV9cgjj0c6dtzg9cGDrdowVOlfgJY2vHHAmdtZZZzlV8J0vJ102N/xArmCaZBfaB/NUZTCZCtRkM7DZsQqkRCoLDgI1TfRHgyzdeDD9zbci+0WVuvrqq5zgUdhC0rAbGz7Fo2nFNQDWlpU6+t8KAfEKFE03mNKUMVLfmVYzxBXRDTI6W6lFsz9AS2dbMbUzffpJPIdFll12Zops2rDpV3/1V8964hNOOeW+nmZZuDUf3J5IqyuCOFVNYKrVAFTqFZQR4wBTRrhlghc7nZlbtbC/XTJnO//88w0TuJnLTKKOaM4++2yTpWpCqmZs0K0r+apmLULHT1PLgqPpLlFBqgqWR9uOO875j8vJ9rWSMQejiZA1kAQrQkSEhkEVJemCQBm3O6GYrI8NopHZpMOhSg7wr3JbUAUC1FG5iqqxAPfwjONtb3ubqxnGd+OAdfT/+epXP/nJ5QdYDAgMztgtj9n/G4bJtspb0iEa/QfLFKNXfAOcb59SZLZQPCVRNloWEDSZ7EkYa5keYYPgSxgyKR/20MTLY3//93/PaeFZz68D6Zs//MM/jIDDw7N86BAANRQH6+ZGJwQ2oCwfvR5eqAVn7RKoc+8CeFBu1GJQep++j+kUDILkyW6GgiuvvPJP/uRP7NHh2cTtfReh3e1n5xgY4VlPjNugCEgBVYqTbIjL2BsFJZeeQYk3tcQ+zMEnwPGXL8v7ro1dAr7GOjtJfqAOj3vc4zwXCXrV4BbhE6Wn9XpU0XfWm+u61Vk13CwLmwGGKZrVZCzW1XXwL/w9OEzixkLg0LBMpV7QtBE5+WQtceutO40a3FTV1B2tWgSQTGrA2rXhN4lkRaiR4Bbd7/Idwl6y2UsHNltREhzLz3ALsCqA9+3ee7xbOfv37rzlW16mfNOb3nTttVdzC/cXlHr5z/3s937vWe5M2fxqFPXyLZZgnmoDgr94GbULbRTJ4oBlZ1AHLe6q2Hd6KqqJXDuzMDeCR0/Yv997Qbdfdtknf+zHnmf9YKuqXs61PLM0vFOAf7JDtleoRI0MlqI5+sgN/zQknXD88Z6F/8Vf/MU555wDqdFNpVydlTAUsnbg4I9nIoO/ZNNBR3xx0EEH5srG/qnxFOBpvQ4zzR2BFphBoxZRfpMdqOcjxpF1R93sVxX/5Z//8s1/uWHjBsdLkJZfP/KsH3nAqacZi3beehtLUKl2S6wm3CpnmNWs1G6J0Fq0UySk9HmNzaCUnBQpCpYQDDszaOI74qpkjCgVYi5ojV5O2tpLGFZ+fpPRr7UY9zmSrCuuuIK/eaLMqZBhFj5JE4AkMsqbPt1E4ZBcXRYMNw76Wn7qn0CdC64bq84ao69pVgGPiUtWHbmdZJIlgADPsEwQ66r6/pvf/GZP4lhblkeKru7rzvp19lylBHyUioLJswaa87CCmNI0e9CkWXoGxcggIqZobIQA5nbXOJ04a0VbGfsGenu2ROPHP+57OEfsO01OMQAZ/vpHOqniHGCmJk0lGiNMqpMF+2QTimaqDXhK3LCgMAwXZFajIxqq8s5vfOMmnqpeJlEE2kZdANFmIUgyQ+zxUxwg2kmMJvB9oKafDzeneYVnJyily/EPQCiDgJLbjt3mDIAfuP3hjSjvgdACgbdFOFa5fPug05wTQBokVX//wdK4waTWBLdUu59bU7bwTGWz7LIzKO/CUNUoEI732Mc+RnP4dQVIG01OZWXw2c9+1jIT3nTrXETPQYxALmQUD8VoUgd9KJo+TBfNCo49vl73/ve/3+NPjS6wpFjxYBVUUZB6bcUnrSOZlJm1ADDl0xIXcX0s9vATVVrSlf9fYAZNJvRXL8FCxH1yRv7d3/1d9WUEffxHf/RHDUxOCBAwMucRW+VIBoewTFg7UEMGWbIGIzPoROfWS1PQ6AzadpOsbAD0jLJTDk1zZ6U69MMt0yNKBCtZinFLxuGW8HzsKU95ile2ZHE/I4xJ1Mx65plnwiAI0WK54ck42F1hYpVPT3iUCMLgKSurAFPDSTAHSPrxis8pPclSNvkkdTDs44NgDJ/F+wCGHE+s+gIOYkM3Mzo18abQT/zETxi9mUuIDp5MgniO0OaR4MRFQ3PjJCCLLD2DakI7M10I4JXQcoK/riyIqGjd9E//9E+014Osn3jIxz/+bydsO8EiyzhIqhADUKlwVmLEleWnlgFL1phgQErgOzFZlYQpyBjxF1vVHJkatUsRI6/PEqmdUdjh54knneBE2iLAci8awLKAlze1KfQ9QcXcPWS3LqFQvzqBnxMfbO4z9vlH14IPHwoCsA/2OCq45pqrrrji8j/5kz82yTI+4ic96ftf+tKfPvnk+1j92N75nFL5NoVOelRZSQwqEBaWlcAgWSDD/DVlwGPPQcdY+drt1i2OBz07Lz6lXl6S+77v+/49e3Z/7OP/RlPNoclMovbWZ5/9jGOOOc74ouI8TW9pxvqyuh/jHys5ugVBAMVEzQ9lOz7R7l6bcdqGVdgWZfZD9FSSDKCWkjxr5AJw7bdllxlFamxzUtoqvADHGZKFZ9DQ3/bbSxk2+p/+9Kf+y3/5Nf5DJQY/55wf/umfful973s/T9m1tb/mVKNYIwrWMQVC/yGbDDvbjM51YnwGLaIbypTSYLpNn5ZElpQhAX156tmGWuwYrPEjq8NqjB7ewyAOZs4zbIptJ4wzLsS532exrm/efsftN339pic+8YkefhWV2n1n8OTeVsOawEoxWKV7JxCUoVIdB/5Ix6HzRAe3GjRZ8zd5jsgX4pFzi0+CgvfZqKbKCyqZxNFo0UPFrlZZgnj/3uc2H/rQh+rIkLHRT4NEEYICkxKTZ4NJf9EV3W5p+107Yiw9g9LDRGJG1PAEmOR9By+umVk3GWjOO+8dvAoZL+EZl15yqeN+q3ilzEk8xnAjywIsKtDRPqsBqLNquKbJIWYWuXSK1egs5sHuOgF4p2r6iIHG+PznPx9Pc42nPNhgGupFFVJYMX1r4kR2gPGKdAhHks0OUl6IFlNbnIbtZBnbnGp6mmv3YOJHyf5Pf/rTX/ziF3Msjz/VyzmdDlne+Cw7xKnH1BoomJwDqHP7cPQCpeqCTWKYf59DYIww1Aaz+Z695fMX6qsKZ531BNfTXAXngeoOaYnA/g6ltZppFQyvsTinnqNZB0XQRllZeIqRBX825aV8QN/7ru/6rre//e0e9fHn0sSV8ZNnU9GZKMiSYGGgts+kuypbY2ufn1IsKKCZgVakjVZDprPqtt7vetWrXsWebEv6M57xjJe97GU7duzQ5WNUYpbwrjBmh38xWus/nay6Lr2sIUSj/2itm/k7lVe+81QlOSYNINo04uhXSbYAMG2Z5DmnlI5GECvZ1ttBGkVtSPiY6dCU6fGEadXvmrnq7NvUYVvEQugZhwEuh9uxKI4VPCYoCQVMatFoUOtTwzXNHFVXl9VjPrVPzbDWp8aPjZ/o+0XICnGZK6kjR8yk3vuMW8oI4GOgCHFZRBJ9MA9ugQmy2RVSKQQvRhlh6Rm0DLXNihsjzWZe9H2inbfc6lcKNCqmj3rUoz7ykY/s3r2HW+zceeuWTeUT4WZWc08ZBJtB3KBWbpMOhVAxcsbgulyM1DWmX7bOxTNCB6lS4ani+C6SqpXKuom6bt1jH/tYXxQyfGgD1VRxQy08Jhm3bOP/bh+fYJsitegxOOkBNU25i1iFIKNz4mCiImpE4V07b7n0E5f82Z/+6XXXX8/+NLeaeclLXrL9zDO2HX+862Uetuw/6PavTZvv75SHfMkKUPMPOJA1zQhcyPvEy+5BXVz0KJQfq4tfE7Did4fFrO+Rp1uLJkhnNe7d+bkgjfXRj12yf99+FzFMq1zRgKKZ1FrWYL1oyJqhZ9QidS4vIjQHEsq6EMd7L7744jPOOCNsm61PiiLBHBChZhXwMjGj5d+0XNvqtJrxh5nElHwcmvWfMToViSxDtx3PL/3SL3Enw7eK/4f/8KMvfOELjfLMy/56hEvTHgQYuBxKORJik2QbfEo85AwN2ZI1mDuD4lU3AU3crE1lpmolqgFcjZVl6ZurX0yyFgFERWbLRWrKdZxmWo6rxKkJS3ItXm2BAjYwcjMXSoyNXli0JYVk2yyJuSZgcDMuy8elGEhkkSUW0EdcAx04ea45kEbDuYUnk9OYrNS2JRj2hx5Z8m/LNf8zUchlIitgfV9BNpeMuNVqYqVkmwA2aIKsxMUnmNXeYuJINaXl99IzKD2wiLmQWtpYozp0tnZ3BGGRbsdp73z++R8k1iTk8+lq4gUyAzcX4T36ISYqOlP1NpH6dYBMtoST/9lHVj90yDIZ+qOHyVJgFaEngE/Hu6E8tXhn80aXqj3mMY+xE0XmaAVeU0Vrha2TW1YrmQeAYKkQGkaRGjaDpkS5KQVS1aJ2AaiIKnzpiit8ksM3AXwG7M7du61vDH9ueJ3ig3+leKENKeiTW8qFCW61rMgVE1rrlvgGmDCbRRr+h9u9Q5ZJ30VqGBVZDA52fmtxZm9EsSc96Ungj33sI1zRxdATTjjukksu5ZA2STjwNP5mwd7Qd+/UhYjww9AVhgixpBkUjK22ZhkzqCX/W97yFodCaRAEAvrwh2B4hOLWat3xpZteUfwyM2ixQ1labXZPMA4YrSF+/ud/wemFrs0szKvXeIXABKCBjP7ekqICWMxQYVhx6A/oKdjH9EhqxGHMoDWbgEPPnDghA5O5dbJfvMG0LdO4zQjNFM0mVrHYMoXBhA3LdqL5+jSMMw/jpDMPZJHLtRALMMi0AtjW30jL8mgkATFDdFaKtbVreKrNEYNoNeHd+lsqAEgYTQ03RYb9Ich6xKU4WRGCG0wE5oJhN74ae544BIVEH8RZBBChZVYIwIoHtza/IIVWyPgMmsVa0sn/VDKoxviFqREkhhgvW2/auHnr0aVf6WaWSBdeeKHrKps2lGWU66wO3DwoNddq7DLwNHXwPxXFaODVUxJMmDhDJ5n4BpihnM0aSE2P5Ump/himmMpo2FyFKDba6EcWy+th1DOIcNMdO3ZYCgA4urEDOYXVKHY84c1e9ISPMCB+JVQUDCMELU3qQvEctMZkkcao5RQ67GlQu+aaa974xj+/5BOf2Hr0Vsvdk08+6Vd+5Vd8/cRkUH7oMN9caV59K+9qMkArblKHtiEGawRZa1LDwaZfatkZlL81FsBJ+xT3tRj0JZxmJ1bkWw08/OGPeOff/78ezVPg6KOP9ROAhhjHBlyRKRiEPTtmnKo6W4VU2JMGcJhUcTD/dLB23nnnmUS1telZz+QMWBEUHhLFIRUhF1Cencw4Wu10Q3A74kw1bKDydnFT5w5+tAE6dJkc4Z/5NcBobj5z9Ze+9KV+g+UZzzjnFa94pSG+vIHerLd82FVzIAsTNdYo7hpJ1gBHXP6bNXUraMkajMyg0b7FRVJiI4C/zPSfVmr8r893cpu5Hm7yh9/YX9CQG/WKONSImAhAuFCKRcY4QuRKpgsB+IwJNaZDBNwMJQ4wct0eMtRYDlrPBR/8I6SjpqAOEBJDaCdrMIl/cgYLUTaAfhHEgYxSYJRFqEebATTZQZZMAFkwigw6eXDuxMo2xUWaPXoHJTEsnMRxFwdsstEdAR4JNfWYPLgJhqFw2gcylQxkI2fipUHcFJz0x6X3oPRoyk/8JpQQWxMZsm+/Y5ehhMgHPehB7phdcsm/+bYAqVzBfsgPwNo0xOPx8uWEZmCKiYd/hKLi5LkYsBy9Jl2M7eRIx7TCfSlPT/5t9e1ypspyYhjaxiFMOH1zzDX5plLaOuq1oNCo/hwjxF3c5BY2FBvRQgfr0OhOLnP72Ob73/fPZhCuo0V8d83DPAD+zm+F8JUyWrQdANTRYY4yqUYfwE/BCHXu0jNo+Z31DJNeKq1SaupEV9098HjUox55wQUfvOMOPxd0py8UOuB14GGG00Ysw7uQJZcamHKsseB2VmAZtdD0WLGwN398DJbEWDnFi858nhsQEVIQa4JW6KL+NpHfHdInaObsKBjJYewg6aTAaI0HCzktN2qzwCte8Qq/ee6YMVb0E+J6+9agmvmmKKXIDMNOcpo3SzbFj0AjM2hQD/EawrW8e+rLWM4+CkRNO/XtJzuYicKNWWQJ0QcBkZXJWKxoBdehrd2tDnkXT0vK0KFOBofDjGuGqcziPEND/SDLBhDagvGvRQS+nV8WlRPjVnLOYtETI0lKKNOQdWeuRosBJ0l8Asm8ASZFVj2DKo/zlKfp0zhi2nFV0uM0c4zJRnt/7F8/ZijZu6/80tN111/3mU9/xi/NWkbZEvGDcA5cwDFF9W0xlTEE+YBYUWXxv1rpIYZFGcN8W7WDzWdBqEdnRyhGbVsQ3yUwWXJlVYYxsBo0HR6WxUH5LlDpDBFGJIyia5vi0KerZ9Bo2vAVCgR9DN86mzOAt771rccdW+7UuCf5W7/1W4969GPvc8p9yweYYv5M7ry5NSBc6FDHicwSKwJrNoNOHj84pZixhmbkV1aXzjm8iOzBwQ/+4A+9853v9PaUb3d5kmSGo2S0jgbSgoM6zzCtKBiEJRlBwTAsmKk1MSrbXKcsHMC9D2SOIsIHiAtPRkO90hbN/UL2XfBvYIVR1hDlkmIvFPwAfY9uBjEyQ8/QVInb79ztN3P5iyn8Pm4A+LqkM7HyPnf5ZlaxHm+vatccZDBVT90+ZiKlR1lJHwBHZtCQOMRrCNf28aEuNuYRA7oEaiJ6toJpAUDAESuSQF2ca6UyNQEkL7I+swHlXVzO0GrYjCmh5pBSAP0QlIvH5AYTRcB1cnEmpWxztx8rcMRZvJNsCYbbK0vVAK1wrTEtk4mshqDAQqlDqVQhl+yUimSQJUGQZax4Q1b6XRZfYQZtyyQ92fVafjqfGzi0NHqA2wQxNfqaz2mnnvbBD37whONP2Hnrzq1btpqE7OGe+cxn+gZV7Fa5QnqDQWesblMNZiGnLLOIFVKL8K/7kMFBXUz/NLf6NlAaLm3j7PDU1DCtFlYP8GpR9G8fONODrBSXQOrXZA4oH5R9y0fB8gWryh3BQUkH9kcjSVvz/XXXXef3e/fu37P9Iaf/5//8a3Zm2473uHry4VnK15rUcCqWggJImkWAtZ5BJ22SmnizBWzVRRlOZ3CxvfbzMtu377DEcdtLTdlErqaJR9qDatdtXRNoGA0aGCYVWEzAzRuQzldcLHLgRqiPhwBQyhWHhuDi1uV5f811ZXhoRixOMjSDFvwQ/VwpS86gFimqrPqcH19r4vA044CaRmVreWbQfkA2boahAn0WiRmZQSf5zRgXWtG5QQ7zH7Jn8BjXNHWogL4FZM5BDmZFEVl1biZ5sqdgbs/xagOO4UiLhApJk0JrDkHTiVckSM4BtGYsqVpc5GbczwpBzooAOoI4WQH69MG/ePRiIbhNGnm2SIiexU1SOXXOoUk9kyaBhsuMhivMoH0lZmdQvCbMNapRrAwZZexgtg179/im2tbtp5/ufVBfrrKK3d/s52yP3J/8vuY4KAb91C8s2xc6B9OfQXGbF5omKnq3f33mdR/aWB6ilTPS8l/jB6ppxIwHvdzaY3+5ptWoSw51qUPwl6wFdZILZhWydgHT8UITOTXkU8OEQR+jvDe1r7zqqp99+c89/nu/58STTtIu8Cec4CN57n2gTRsEUFBRx1R+jp6I5wT8k0lNtvSIXwrXDTJxOEez7n/eceftlgvlGfwm56h+UubQ9u3bTaucUDMxSDRKzGe1GgnPsE5sY5pIqUXT8pPWZ0D8Ia1RHEWYTkyi+APEucYCx+zuK51L2XDGPs3uM9SYHfGnq+AZ+kr/UXDOXDZUZuvRx/oRd8/9faqi8R8/MOeHWoszN+1bFvX1n+VMsIlaNzSFeMzOlaWHxPdxc2fQIqkburj6hKlLW9Ljmg5Rz8dF9dMIiMMsdal6vM5cyPS6OL/VwfVow2x4YHAI+vn8gzKkJH2twCCMUpEICKKgJK3G6AOPpiawoyibivqYovhL48DFd8KTtVH5a5J16VE4pcxKm9KHqrRNzQHNaFDUC2RSI+5gMmsWmPa7xK8wg/b5zs6gwaeI166Gj1TFbiw8wO8lang/O/AP//APFrAeU/kwvcXUwx7+cPMQt1AkAno1BKdyiwCdGbSvcIdJtz91sptkrcH+feWDShzXIS398Zc0RYndx7Ea8OqOJYK6xwKinkFrb+so1kl2tBjLhbcQEQzQYCFdhPSYLeQaux02Wq6aXZ7+jB960IMfXDZJTZf0AX/nz2iUJRRQiS4wJg3jEmVWDSdyPoBxn48iS4/4zWDdkRX6aAUfwHI2oF3C31TTrClXLWC0GoBnwkt2mESyrn9NYOEkyT5hopAobibsslpybgx2PZudtT4dtAVigrQO0ZIaxZk5PlG85j8Gz9pn2gSzM+gUP0s/xrXCLzmD7rr9DntuNlQdleL2LKyOLIApH1G1mdo1HhWYOh6zc/GIpcLIDEoW4w/x6uKSKFq2J3xc0x7pKhAztqo6YFG+6pLgSPIl73ODLdn5GLLw7SZ/QlOrEaVqTA1nbgJ1bg0jIIt0SLAAgOEGNVnC4fwIEhP0MHWADG6QAdT0IaXGDMLKJr4CE1cArKgkAIIezHTqFLlJHbmLie76UmE19gvbKQBQa2x0qrMS9kwzphaqaGndTCldzogCY/qxkvrxH/9xSIdsPib3SAe8p52miN6IAD1Wi1UjZRbAb1NkepHifRtMW6NlVP9i0brmfVAjSFyVoj+dCTI4GjftQozgGsb7W5Aaye3EMJekECxhAtlKmNa0g0+CDjBltX5ynIgg/CMowTF204oxTZMxf2zeWkY9vy4eDqSQyza+lF7LxbIwid8JGukhIWXxWNdrDFCiGVnNN5UW5zNDWbV19G2Vxdz+T+1Qig+VX9AqB+9iV0ZJj4swkx3hDLuSaGrewza/HkUEJkKdDWk+hoyrQ45wfQ18+3ZHLeXT6jQRAFyCzyDzW0VRvOZT8K1v1MzBfmy3YKqaBkH53kUJU2+fpKPtIrFIXP0a1CLkGzaVH7akMFMfOMDry4+cU56zNcW79tPf4bN2CajwiLhujUbIJuj4Pcj+MoCgYuHqoXVboMu/teR0WIvmiJl13cL2LOKWD2mQuuhEAf81QRZP5mncmIMZYSxi3IzjUbJ0Zy0SByG4CQoFN3DNtoZxa2inBCFrrEjkRoxPkImjo9WcA5ZFhJDJ0CripEcWASUAPuIslZRjQIdhK7BLPhHTGCe0gmmsWlbYqGu5ncJEZEUiS38dKbLA2yydkibyjrxImuyNHaYZSZsDDUwP/c0aAMag49TLJwrdvLAf9aaBQ8UYcdDE6Jb1HOQ/hqz3oHOMksWLNiuFumc0x/hlTUBPGjbjSPnpYPOT+tpe82aAX690S1OVNVPNXpvRSlBWnFk1nMg5QNI7FETWcSNJgRmNawKhYIM4oXv27rF8aa5xm/WL5tuOOz5o8Iwwuf3RfLO+rvscfVbM0qlb9tNaK7X0nmlG0pRVMNcoWXeY4m8bCo3qaykjjqbRds3ac7hmw1gzazsTRAsWzZseGOMXoQBS5Jqn7RJimOMVbBsrSIsYWd1LW23b4TZTszbR2qeb2+6cuviWvi2/4v/9yWdukfKjgYcO6dcq6F6uKjNppfzUfpAFP7Y4GKlv8YilwvgetLAZmEu6/MOSKtUV22i4tD27XBZNF1u1obFcsbMOK+ZUAkfizwYWXuS4i+VhlJAVZaNUxMEp8C3Xmf+xrSkzb6xIjFeRG7YCp+gsXgNBloJCXMRJFkl8ggweps5NeBAIEXVWvxkzF3GExDRAafcQWosOmj4GHpP00h7ButE9qGIppmExGbU7LCIrxLfCMlWAoE9unMAgLnCLpJvlOTMDJc0YYNORYZZPoidAatLNaNJy62oGDeT+hj/35c0OBcVg7iVWi2YIXe+r0O4WKeLdxL3ND7cqaGY1cIfTAwaFFmRvtzFK2WSUN9gar+lYfmDrWH4k1HAxIzrLpkqBCePUojuYjrikjPGoPywHvbbs8MmCCwLjvx0/YdDRP/VcUO5kz7egNqrTbC5ZT+AA5ZTl0CGPw7/ypS/Z7LoiZ9rW6GIH6SZRgwVvETfeUjwnNFSczODQuNbkh9/rkQsT83QUdHN9UMf6DGaQoIvs70HneuDBPn3DkXk7lodO46fQxIw3x3B/T/7BKvlsbL9cz1CRFcN6ENRx5Kbc5BB70DY5tWr8KssSb7vNGbyz/iNAaiU/dYZUqZgpuRC8rz1buGzfvt1mgxuIITkVr4hSyUcy4MSk5A5l4hNAICjIkpB0iJAEsiJXjBI+gICDLDGFV6WMU2fJKJInPgRZHpSGK69STHhO+MyOV4EsceOHwUoqAWd+JbOdhhOfmJLdhMCoGiBDm1n+hxTjUAfvgdc0AaNEE/Cw+9ZlkrRGjsGpWWiDLIGADRwGHfuDMQ53F36wmpC0VYUY6cL6nDsm0cAb5s455xx7a+PgVVddpQjAOl1BAaUdSbjmUlUb02cQ3+FMMQEygICDJjAxfNeYDgdJgtRXZdVd6BN8Z2LYRGsK0RARG9HOPPNMR21//dd/DWZk06clVJIZ9dgwDl24hCDJcxBgyFu0iIIwnAcMYHmrzGg7yHuatdMPayDh1Db8LZOLA31WnbJhmRoZRVYsqMgiNDXnuwDW6OFamp57aH3f0uI2cdtfrkBtNJSJeE20wjMCnoRmyIYLO/etHQQRc2PKBBxA6IZzFhzMPfwqJNtgFcnBOBSjauamkmHPsEOtEso6mTDKhEdn0LHCWTKAJOuoJTcwSR9SVYArmFoSv4ZAXbE+276B+jQwHbXNho3HuotbHJf+nKwZ0TylKJenwnv8nLhfc/POlpHRgAiJWNAfhLEZKK03qEkgO/r0KYMg65487T5jAxoVz+rTLWn69U3+WQommWfugkAtaMEia0LWkbtq/fvKaNNocYBcMebcwBc2HON7Guon5HiIsY8OsmLgi5NkWwqTaNyU5hXKchWxmRKSk+CDQPHgLJenYQLZ1+Rux1BMoEYAAQ9qFaaQBQg4iMGD9HOQfSm19H5usKrxNTxHUGYF/0z2GXayVp3kKpre9BkLpltuuQXsBVCjJUOFI1GG+w2qtDq50QTBMJwZH8gIMVaAgzmylBJwHUfW4PDS8iv/J4cOz6Dp5NbJWnrySSAog0n00IAHY8SpOSDgWlaWqpEBd+inXy7uk9aYvow6N+H5ZJmbgIJ0zeKHDyTnZdlGwSwFSFY8OJwbhk/LMth5V8KTXV7uES+PR+NzLVdfffVll13mqlTQ6A/w9hbG037VUlY/C0ZuEEScNAbshAOgVdAkkATwMRwnpgMkc0DWN2hghIA7WR0m31HJNHIAYRmGMvp4WOi3ILyGe9FFF/lsSEyWZkGXQf78z//cB7lsTHnLF77wBZQOfhGYR02u9hnPbsIDHvAAxlQEGc9xLGxOFWN+TzNyukQahIY1vLYKs3BKHOScuQGk6w4SL4hMnh36MXyHbE6yzwFGMLyIOUDz1HkLx+AJMBwgLWAswhmy5r9ifTv0WVbBCDAJRO6cIrIyBHFohUNyDoJgm0gAfJIlHBjxbLWm5VBOEw3UEE+RHVZJnGSViGmpJKuBKBL0rBJZqUCLn5QYfQ7aKZYCOuXhk3XS1GX79JE7hu/fNuyw7STr56CdrHERHcKSjFrURQITKz54bh3TJ0yZGrdu8iqLFaLDOrmmST7kLPdrN9xw5ZVXGg+RGfuMlWKjYX8mC1l+12JAm543Bw2V9g/cFZwMrxhGSIaS5IphIk5gTqt16FN0sq2B+c9BvRlTE68CXvY56KAIlc3qdwiWfQ7qeaSGxlCIpW6Mbg5zeILXtGw0v/KVrzjPf9GLXmRpxf7RBPDPf/7zwXacr371q/1QgdnRUsyM+/KXvxxPb0uf/pDT3/a2t5lHTbrYCvHZI7I2Nj+o11Fe8u56DkqljjKBCZt0siTlagIBIMCAG7LRY7BBJht6I1qwYqugn2VepAQmc2c73HRpUj8HrYtEwVbb0eEuyFYd4883LKo0vQMJd9McaUhaYBl55Bp8oo5gAA0BQi2xk4ysfl06RRBEgG9YlgimJqvhyG0LTchiBk2yzHWpMVgpJbepwmQ1UMRUw3dJkjvbPFOGRzUPPDPdAuiDf0oJPgQF0BKW/2HEoRsgfFUScUf/Qj0Jk+c1UlmwzSr/L+G+dbEaDrVqTA3XFaNxhprmCMEheinmdZFoABjjoJgHG/LYWpC0e4jdZzz3QmMANTh6HmYE9N0lN2AR8H4K6BsdNeYbDfEgQag0mFXzp54QGAZHH3EUrynBNbFkMg98xKrcKbVIMlktQvztQsOSYQ21CyMDtC+8LabhT+zb697Uet3rXscrLJ50TsG17T/4gz9A5kCCI23fvh1mx44dPuFryfXHf/zHGzds9CDAp//9mpiFl2NhAygvQuwJ6z3NPoONGwapVUWWAT76TmAk+/R12T6sYCJrGDJ5JhCUy4pAP6fInKxUbBGgETKJgp5ljCS2nnzJF4iMNpJCdr0QHWUWEbEgTa0JWaRHmFNckTAyZxbCvfv0nYaQDJqQmMlOwU6pLNIhq5PBqi6YlarJwPCBSSCS85WpOfcpJ0fqKTKBWnYtr4ZrmlpMqhXIkNqXXRdfWziVTGBx/orUpaySNm/Z6KcP9+7bfceduzZsXLdx03qx996Oa77lZirl7mIiTKKmTN8ytHXwBQkDKKRcTjaowBybRFYoEzEOkFw2YyNS81d4p851ETBiIQgkdZIIpUw7fUaRwPRjuX3k6jBryGp1Chx+KfaPWgQAjhaJZZbZzrSnuf0Azrnnnuv3TIJYEwB4BWL7zthiwngKQCV3RrxP/IIXvECWM94vf/nLZlm+xHMUxNlpx+FrftdzCMcLuWGBsAZMZGVycd0Gi0AGw1pin+dg2T5ZB6NUhk7WGiaJ4DbOqwRu4KcLwmJ6Kzy3SVkoE14TgKA69HnKHUNGlrijVc2wgjXTRPlAdth2mETuIDIL4gNOEWD0c4oEfad4ckh8DdRF+pynDVOXqeF+mTq3A2dNApCbAD4xdgOETsG1SvaZLyirNlMqA2n8EhvpPOP0K5sOWDC0THO6YtY0zFknovFMFJkBVFLxM844w90iv4QVHFQ8eS4IpNp1jcAYdsIgw06psDy1swkwUTDIkjiQyTCSIS6R3xbAkdMZZ+YyogmMGTCkvSY3gOEqto/cwE70iU984h/90R+xGMvDOOQH8xxDpCL8x6FFbEmNki95yUsc5FqB+QU9SQGZSRRnRe6BZleF0KoPjGkbnpb0Y2SrwwfbtWVO4dUps2wpzR2DiRMIzwIcQliKRYdVI4EmAeDM95blP0YfPBt3LhE1YsXfqTiyDodoyoi5vdxOEZhgnmoHk2SV+ChbF0+ajtDBZPDJOGmCSeATmUAtDhzEmVsDNSW8ZI0Zbgnskq6jwaCkQSRhgU95wSriWsU1hFNEzTPqkjWqs2qYHyjOjcIheBLAz4X6iM+hAwev+MLlr3vNa6+9+hpFDGoGPsS+NO9kCqWVo4JRU0neb8NhHvVLWIY/PYFrohfjidJoiximVqCGU1s0gqSCgum73XpOvDYo8VS8LWWfaterIt44dDKjrCyy0JQ/cCQ9pUAJRtD0ghl/wK1WaSmYzn36Gtmq2qdaDlOs05PVYd4nWE5GRW315Fi2HEd6GbRpVICmjdMAT0mdvrlBa5ADPPbxj3cg8cY3vtG8qISZlWJ33HkH/5HkGPAajnrcqQBHlUVYXCMKB4uzjabdo06rb5GqEiuDE2ErOUAxfWN8Mf2FmnUyAaiCLAQoAx/JypnDhJMYlb9+Lj5CcCiyG+mSAeAJDh1gOvoU6iYEQSduM6f/I8hEhziTCBJO+gQ6xelG+TRCqAdjxLBakjR9Wot7DBTrcn7CxXCLSmXVkkktOsk6yNQhgE4unhHgoy6RDDiIkyDLwgT9fOZoYrxqm7I4gFCYl99XnPzwWbJq6EPa1M9rEQg6oTBp/soLo+sOOjL0yR9/TgrF5Tlriwf7EzBk1TRsJMOpusxLNWfcUjI8k6dHpWY8vlP+CCXDQkeI+YpsJ+3T+y8Khh0Zl1lNe5AATe5xlM8muCHihM1SURbnliuL6ysVRcBy4bH3PMyDLgOin6bBBBKNgjGh6jMm0RAha3UB2wiK9yo0QYxxlh2laoJA1ph74QUtoCnTeuFFmsY46DHnD/zAD/hlBWssUyOkXyhCzHNi+rQNdS9XWWe5PnrMSXyABgEH4ySSuCm1oBprRZZ+tVYMk8+CdWEQIUuNATVN6Cxuik6ifsG6SD93rTCDUugWDapNOYAgCWncAFx77bUwcR9bcRj4qEatVVSzxtxj4UEjHAlt2eRIsA2eYXBxtJdYyKwjPoOGB2R85Op5+JzZKPTku4DJ9HZw/547b7/hhus++clPHHfcMX/91391801f91sDxJkCYzMRY1yUjY2FrYPR08egH/GIR5hTfX0esQERjSz8QwTMqtUOp4nWzRaNLeYiPENblIBF6O+lmW8BZow+hoznCJJaWdNs3759x44df/Znf8YNfGQRpSnT4IgGgcsjTizcvXzHO96xZfMWZ7nxfSsOw68QcBJASMdzvhprm7uG4rCKsKyGSkWR8NiaSbhu4AOeyKiK1OKCssYsDifnDoADTPBJIJKhUmZFQf4AH3AQwPAEj8YFyykHFcEnyKL4nDhYzSG467NoHoFoG8TJdrPdLAbmSGvVqtD9f1m5WV7BbMEYb6OZVj+Cd1QhqYMZTCZZiB+kuVuQFAtXJj10M2yZBc1JHl85UkOwswHc9fCcf8Om8ojUrqJYs+lCwSFmU/MoQJY3unzq78Mf/vCXvvQlD8b0EFsNDzkQYy4eq6ysFU1UE8xhNSiiQx+sGqGD5PciV7BAdirtzoxCeALDmiB9CFrTv+ENbzh669F8yS2z5zznOfzHBMkfTKJeYvnoRz/6m7/5m14kdXpBmNM821ZMHGOsIPvbMJt9Quvah/v1iFxx0It9CK4mSz6Q4Ehqi4DFwSHwdcFF4JS7CHFNkwVTgcw1WYK1u6zYeko6jfD9W2OFpo99J6Smt0CXBEctAAmvrkbB4QjFYyqN4Y+QGmvLtlYenA0RTSxesxl0TO9a6hjNPQFPTx1PoAxYADDQnbt3f/WrXz3+uONe+JM/+c5/+Adu/bd/+7de5jv1gQ8yAvJvNM5iEAfsqaMhz0ZTAODzwAc+8PGPf7zjXzTeuDd9YiKYQW1PN24oN48GQ+oQwCANJAXEGrch6E7JkTtYNtnOoRkseC+yb4G2FSbbiyAwXLqw7SatSdQDUaf6nIQDXHPtNec++1yTwcFDB+07Edubbjtum9+atTgzblq0cR4ADlzFNtSJf1/otxEm7UNnjreU7yWxsjWfTvUZCqUujEaIZE0z4dNuGeusMRifsazAI6jV6xAPFocUlBLT1orK7TMN7ddXNHpMsXLNsqrQYdhJ4rCIGp1S/z9LphGORL3KjrkK7cKvPL/jyHLWffITl1YEEzAauI8vBdo26+SO4cecYIy+OYfs8J6XrF7JnUe2SB6jRGegG7UFmJ3f/LrXs6wQveG36447fv7nf960+d//23975rPORczdxe6MRE9Q0LBnRQlv1DMCBk9zrWeogjHUgzGTa+w/lB17g3hU4eH3YuIe0EAhEgawzSgGH60wGw/TDzKBHPuiQtDP7BdmWYRiIXo2Zya14hcVZqiXTyz7RYUxCTHUqVTWKCp4x65dJkXN7VG6eyIvfOELXef+nd/5HQ9H7UrRwPvB+Ve96lVm0w3rN5hE7Uetrgym9qDx3StkvoSZnGsdjtAXFVLWgdkRpBa9OlhdBGUjNk8swieLeJss4OQQxSkMLwDwFEcXDnwQyy1A8+tGUaq5JzIB53tyS9/9P+XKAGd2aJLJBJIeYHCgpMNbZ/gOb909pLlgmQVv1cVV5j/o6Ujs6JBCayCMUGPWHJ4R0XwRfhERk7qM/c5Bw2eGc8N0zM5jEju/tDFGNsU3v88xTfagOUNcj3YuQk0GQ78QS02M1c+7+zAx1YViMXfSxR7xqqu+csst3/R4/8wzzzz1/vf3nfUTTzjBKdyNN14ffZbH57IRE2Ol4gY+B7yKg2HgPRA1kvpwrrdiYvrUTwyUS9e4uVrWKcXyjVEHog5lJ6lgYO6BLdJR9R6eDEvWZozGsLGwodTWfECweOIYb3rTm8Q8h584onj6059+ySWXvPIVr8Tk8isu/5Ef+RGeoxQOJlFOYjAdrH4232DuqpF1LVbNpFOQqvqCsAqd6yIJJ0AQhSPJwmBSYmkLjhDKJAzoqLfmyUERlEw8gJ4O8LW19vUGC0yExlPKFUXJOYp1cjvJOQWPdFbU4q7Rp5YScte8dvPZrtkMWjrHUKjrM1+VmvKuh+nGvwWixZIAByw2CqplHPRo03j3O//1v35r506PQl2c4+IGQYtE3VVAL8n7bT1tQ60fbSOUbbiWC0TeEDVcfupTn3KRBJksyMOsaTDHZMj2BbcI/2iXe3LrLFKLu5cmbUgNjcLyYjBPCK8wZUpqd3hrqXe+853xbrHllMCLfNvvIQ95iENdu9ILLrgARkHE3AyTu7d2hy89DKI6QnCb72+Zm/RKQfY1CSQyAPOKwSFOsk9/JDCECrWGgYk4JEZFIg68ZjUUGDrcvoahrUbnDGCAmdUAUnNIPsHkSFRkbXmG8uKabb9Gde6q4Y6UVfPpFGTqCB18JoefgyqTFAsCY85aswIvUM/hQV/BmlVqNfIZxczvA3WnmspyIKvXcVlSDhz0Q83rD+zZc9M3btz5zW8ZybZtc+DmRZTN3/3dj+QOdgbvfe97ve55/EknerMpRjqSlC0cQ1VX7MKMJkuvkG7ZosM89GEP89GaT3/2s9/zPd/j1kAxyPpyFLxpY+kq+oyeAxDaytbalrqsPzjBIBBIF8M7tyrZvRC5PbShfHp6hklzpF+onIH1i9DnQEPBCJHb6NgMGWOnLo3IqX1bDSrmjcKto2HYkhzW//PP4gbO/JcUO+dUue00pSpZG2cQXkuxKfLQ3DukfteHDU899f5HH73l8ss//9CHPtTBfnNPzenG3te97jU/8zMv5w+WaD/0Qz8U90osyIr9/VBta6sZA/VPyZoWGe8XXY9qPzQ7fWfGeTIR2dAhLhqoar4ZLTKxofl9x5osCs4Uryoydgodjn3ID3y3+k045Kly23DBrFwwKq8Yev+vvA7YtIXowD64SQXaCbiZX4Nbqg1ov5ZT41aG65qizqTBpPBs/QA+YLE50jhjYeTxkD2ow1vL9MiVpRQHkIzX3pJhECTPTCaBrEWCgnWRVfMZk1UzLzTRIdtGLIimQcQpGrLAbUOVUv3QeLU27/Jv/T/w+BRWfbI+w7Z1FBSi1BDVCrhed1qB/m7LVskjKts4JdgW2Bc6NzOouQBizuPNtp6OWeTCc/ef/Zmf8e2+D33oQ1dddZWegBJNHLlEtxnUE1scUNp/eNb1b//2b8iUUi9ZCpJFEKT5GH6QSSBLg1fWaHymHU56xSK3HweT4JMwgIaUEQKJX8e35ovryf9OR7Aki1lfhm35AIu4THTOOefI+uxnPxvPwBBA8oR9+/cZT532czYHuRxPi9w1Rkw3CHGddk9/mK9McZ3WeaJIYOaX6uemMik3gT5xHxNe2vFVHIKyU7V+8cPHpAK1REjW0MHNlG4PWTHHET1MSuzo3EkmWdonMQDEdfKeAIf+g3Gqd9erHZ6wlEelth3g22YG7ei95klzZ3qzMUujcmt7zTv37H7AaafyewQbNm3ZuHmrT7Vt3rjR8/8LL7xw185bt2wsH10zlRoEY3wc1C2mTzRO83wo3Kuif/M3fxMndeUN+oP7fGuXCGSExolfw8dKdmYjl6PAoJRVILMrzgdWwXmwyGBfuuu70KBuRwLJiwyUgrbWuDG7eKxumnSnjCf44IY3nfiPz8obWF3QtX5yRMEZYqdiWl3zRl+wptkutW8sWPYwycJP9BdAxIEJUyScSeJqJQOfOkRW0CTyiAKpYS2FGjGDxvkt2KJZZ0dck/XhmiDr0idbNaZjrlXzOaIFF6n4ijRpyZoykavQ/94ZdGI0i31jlrkzVv2W/3526uKLL77wwxc7bLn5lm9dde01vot74403OnjxNguy888/3x6C9Y2POoORTscYawPMURpGDQdoHvWoRxlAvSCooOdehk5DrRETE2Mr4jE+0fDZ/HhGWIS+U3awSMtv0qUVoaEQxHI7wCCTe5G1BbiKNZb2jQUWkzreELz/5+0mR7WXXnrp5z//eROnZ+QsHOsns6wiPMEgG4d7Nc81h9OjOpz7+D6mLpL+0wFqmhoO7+rHSRMuF9w6yEwCaBVxqBdJmLpgIuuCRwhONQJIKbq/hjZiwGtZrW9MyGOGqGyoHUVq/WGyCsk/OdelauRdDIfCWZFlpWcF64JR2RozHx5k0imyCE2nyGBy+DnoIOl85FopNF/KkcvlxFzZBOZ0xWV4o567Qu7c8vV3/9N7vY3no/G795SLPxs3rN9/4OCmjeVd+M9//vKzzvo+Dxb8efMPk5kNY6Wu2ZGJiDABY26jqfP4Le6/+qu/coVEltn39t2TD79V5QIMrnfFcofr95uyIFudVt03WgbfWf/7lSrTw5495T62p9g8BebrX//GMccct2uXdxU2n3vuc/7xH//xvPP+loe85S1vMWt6s+VJT3qSWdNQy1U4THGeMcc6wuakvBaPQBTfiEDP+ZIVCfr5ZLgNEpAbguRiFWTidc3bnpGLiq1ZAABAAElEQVRMfNAM8rkbkaFk6JbWgNSgFkba1AmEpVWsHmJhfZgVSYlL1Xp1pVYUEVWOuE8cQgdzZdX4tVUPtwhUAohDVsB9PasHuAOZpfjg+6DDtA22rltNNqpBTdSqO4tbKFXzH9NhIUYzP4k6HZYMb0QYF4Tbbtvp3U0TpO2gix4wsXfk9EToAJ/4xCde//rXG+Me85jH/eqv/qqX5U20BjtDnsNfNLW2oZV+opOYoT3ukms7gr9nqF/50pcuv/zyF7/4xXIhZe2+s/xc2lBdYgad6jxE08WtaKuOqpGMUnXc3kzpS78r5vVurcbTy98k6tdonHs5Ul+uvhvWlWWTdnfr0qc5vE986223unBrA/obv/EbxlCPA3jUa17zGj/Mcsp9Tnnta1/rxSde5xSEP2iCMn16Pu0m0WBob1JMM1e4STQlnIW6dghPiDjHd0V4srjGzPDxEbdm7ow4mdTJGfplErg1t4Qmpqh5giOJXwgNzP7ymwqTkASVzG6tq6zDAsmq1QitmM5A4fjBQKHp+QAzhj3HhIXOwSqYdCiHKtUh6SaTW52R2tbIux7uqzGobShW6r7S+5qdKngfFMPguZDp+v1rluPgSD1L8p2RYk2ubLI0L9og2omKd+zY8YAHnmYgC9f3yNMu06cVrByf//z/xQ71i5df8eGLLn70o757y6bNtmmbN27aN7JZ0FWUdW5j1jSeGhYd1plN3dEky3HxU5/6VDROdD0WpcPBgesjR6q391uYhzFIxP3cezFLWcBceNlll/m4vOcCHOnBD3owH+AAv//7v+9xOAwH+73f+733ve99D37wg+O2mhHWEQUpKPmkMffYY8ots7sslDFmdoUeww3kiuNOhyb4LKu5vpAFa9GNV8qZqBFZbNjRKsoWusld0Mm8HmoUbPs8YlnFVkdPIiWNABZMTpsszYUVp0+yFByUWOtf09T4wYLfFshsoLpqteZ1NQMeo6xLgZuv8jb/i1ofSHEd4kWSazaD1lWqBS9YsbrI3QLz5hjXHLAYsAxw3gGNpxRmNWOcWfPA3vLenp5g8nve8573rne9645dt5v8fOPUi55GvaL5xuHTLfYRMMfBKMksYgvS+FbD5z73OR+mcUeXUEg9bf3IBxcx6Zg0kvCDdusQD9LUyA4fxSccNkz2XkEwQdYl74WHLMBQWtwXiHzZERATgyUUWj5m9xn317Q4Gh8t8vXH66+/3sfl01XQ2Kzs33dk1091s9aNGwrDcHs6I4tQ03TqHQSBBAPmEHfKZlKRKIVDAMEnvRySbpmbNEEmGQoftX46xAVxTZni1hwgJQSJQ67xgUqWU9zAACIExgqp9Pf21VXEUYVBlSJ3MOtwkKHq4XD4NioblU1LHmbdN/zHV77ybql8VmBB6egj1PThnTVmATj7INrpcZC+aOdnODOP3nDD9Rzd9GlP4NRu46bNG8vvaPqCvA+ZHnXAO2rrN/gpbVPdpz/z6V237zrpxBMf/ehHGxD1jX2O24ZWuIGMfhIV0X8AXja1GnUCbEfr7UBMqFFm64O+YrNuw/pyy0BZ3Qy94k5Trarrv7KSsoE2TDX1KVUy6LQ0dW0XMM5ksKNYh5gqjdoFTZ8qt0tZZa0JaODOmi0ANJqP6dTHHzQ+LyOAcQdrlY0eppOMcNShcnoP5huNAUtxrSkJyd/AMdbD+LSbVr7mmmtMsb6uEBfTEDQSJ5/aUQQ9Mqs6HIZeYywi2q3XoLKDyGmbhp6pbVSkyBoJNeX63in3nIIj/OahDxzVvOAZPm+aDO78v4WzNaNflG7bTvzBl7aBaZKjlQriVcekhGraSxeW5AauVmhNnx+yJNKIgZ/VZ1GBaVXF67BI+aCvKZNDIlu7Try9T5CUawsQ1Gc4iGzJlmvBfkWCecZJEAA7dLJauZP/v21m0NQ76hPJqGRmLQbULTS1Pnd2xGq76dWCT36yfCvYGwUGNa9nM+LBA8XdOT2J+oCwZ/dufeMDH/iAGffr//7vXu+DRMneytZKplYdZCT3NZ95c3Ir+ErD6aefTg2djTjz6K5d5aNuuMKgL/yT3TgwI2ikxAxNxQq+DiEXppXb/j8tUttzil07qC9xLu+w/whJX1d3wEZox9B9HhNKVgJFnIXLSqYdFGoC8GAwiVqZeYJw5ZVXer5uOYUMt/37yy1xsLlTsIOJA95m9k9pART6w5lBO+wmTBt1wbXakUyCkmwEh5+G5um6QXaY8Vh7paPW6jUKDLdX6DZkvcNUcFqcCFppLACDeBBuYWRdru10anSQrRpdt5lymQtl8blUq8+s+dfw6jmuquQ80Uv230FWg8jQdE5WECx3LWJV1V/7QivWahUi+bTnkZ5U2X363MG//Mu/OEYzh+3fe2Cd6wsb/Fh8+cVjXcKg5mDthhtuMNIZ1CCvv/GGc5/z7Esu/QSSMdGhsz6TASXkMcdsvf322/x97/c+/lnPepYp2RmynmY+JmXr0Zt9tIhQGPEY8w6eiA5mdcnQWSyE2jWfwNeYe2EWCOOPGSfwGdcWS6TzDIOsLaYnoxrdWoozcEVTZnGJrVtl2Z4CuGLN4UjAqVUHyJqmP9cVR5wEgEgupV5H3IrJkFKTdcTVDrwKfTrcFkmSSJBYI1oSuTlouLD7dM4UyhyOGlHTWo26gjV+EEY8iK+Rh6NezWdZuCO3k+xw69uhQ7CUWaJsFIm45j/Iaum7uB391jw5314dcaq0FH1TvJ6Hps+WfBXvoosuclvyvPPOu+66a+NI1oXbJzzxySbXshktoRwamThNrh/64AeNYpK+MWQsA6PxFPPhj3wkulorNIkJuHBqaQ7un3yryFrVE1I7Dx8Z/4mf+AmdjRRx2fv6gYxmGMU2vq4XHBaJB75j1xSrNaz51NrCJ1nIjb1oICPWAnXxIwBP22gR5k7Yi9oj40PfGgdXumvXE1r7Ty+zQkwseWhyJSwtGSRygyCSmcuLOJhx9l//9V/DAXzBQ+7tu+50OFG2n8VPNvI3blnm14O9SXSN7uKmYqFnxKGnuGjfhCQDQGzeUI5MMkTuKuI0SKfsoX4TNhQk1pSRFDszgu/kVpTLeVdVcGUwWsrqx9LH0lyzbt++3dqoVqbRcPLJqpU5VhRRsEIUcBDZoQmyPvIehalNNOYJE4Vn+28WTBfNesEImUzKxNRA5k5OFqWbEBxqPvfcGZTCqlTrWtcwYDRjBFF8iEM9Ak77jyEhVvTGpvgMEL83gW05upyp4mMOAxi8fNrUjtA1WuvKkOIxZrM5MKZt3rOvjJipVUeNTCbNxvXF7wnCTWvZXnzqU5/5+Mc//oIXvAASQ1qFuD27y4Fe+1YJBguFkQFntCwR9Im4Jmp/E2rydmBkNWRTp6zp1w6ettEiPO85MyhtiyXzu6yz2teeEDmMCfC2Bh/zNMFxn7WU1kf5lKc8ZfOmrXEJhZPE04Twz/0Hej9OsNYzaFQk1Q89aZUhMEHg18eSPggiGZ0omaweGL6oN+WXWrVyJ/rAw9SqNmWW866pmJUg4sgKZXy4UfCYxjX+LBcGiaYEh3qZuyKQ9L0arVA0C65Ad3dnh54r125VM2jfCCGog5eMpgEIYRKUQRzJu+056FgDhXKpLrJUt0Zm8cxNTB+YpZmO+J5vJrF9pW/eGpXMYZs3O7Pd4E0DyY2byjugHD2kM6iBTmx/YHpDLOzf5+vhrnWU+x0uGQVPQgcVTokB7N1TXlcgCL3JG58TTzzJLRKvnFqxGkAhdTy3NI89prxIOrPS7vAaSk5rO5TbxzUVLIXoU4d2qzlZsshqyybQItb4/yVr3Cg2plMfP/ZcbbwSfR6jtMVKbYtF06XdatuCw+wAXiQ4AsHUK4MWT071ffDv5JPuY9HmXYh4nxiNIlZ103aYalE0bNtril0JGrZzo1I3K5QPhgFn7KcHUhAkuI4za/VAvQCuuKQCiQu55AcmCDK3Babatpi1+V9za0QDgsefzm/1a9f1rY3CDbKXhbBW1SVE4xOlsmwCc7iE9DkE95ws1VmkRqPHTU1NkkMCS1WwXwqmg7yHzqB1PUPjw2n72TrXI+C0/3jISagBS3z88duMTVzfaFV+HKJ5f9w8hw81YjI95pijTXsGMrkuVppg17uwu9mboxOetdB0d8SdcNyxx2BCnPlYBzNlGk7JpclHPvKRRz7ykY6IjaFO8Pxymu2o+8AdDnOS5LpAPIdgLKtWPmjaEbnUrs6l7RiTNcJP22ghhvekGbTYqjVXGK02XVYnswAbNpZ5UZbB17DrZSfu4ZsbN974NS87hTNwlaDhk4dmP5vc8Cwt3rZXClkRWNLOIYnGbShCi7/N+EObuRonHNZ4hv2UhKBIBJBxu4CZUs5Cq6n1LIfhVChg+et2BbN4vqMLa0p406cykGJJASweZjQXu3ipEDeX2bdlpuGnNkINR31g+sh+VdM+HeLA17kNv2ljjfhjX8I9A5M1WXN1uLUZ0bLRgwoHqmYyQEyQhKbcAIxcZjgDnECTRNqYpmJZJDCZrBsAMmQBKEBo9DGj544dO/ym97vf/W5jpQkVE89RQlyKmANgKCAIoB+PlU3KMYLgOSf33qy0QLR1tjggs2ogWwqSG3AtfogYrNHtXXzkD+bNb34zx+MMXIInWG/Fgq9mdZfB6ScdgM51NaNqq9AqjNaPx1jpOEIoEzShRo3JsqvWKjmsCGgd44kZlFaeajtO0GrkRo0g6+SK3PoEwafGD9a0JrgXnmOBsF7GSbmiVcefgzbny8qHI4rByTeByJU8tOwDumQxBCTbwnlIbhaqKRNZl6oJAq4Z1nBd/C6EhxcxB/eV90p9ZsHlJl9v0Bu9Nip2Ndcw6rNGNHT111wLyNOhqE7sOzWYrOk59WyVarPUOfF7jWO5NWXAKJN40JiZG/R9NwmCwbKK8DvxWG7wPLx42P5jPD3YHMsaxK87MPlcjipELdTXNGMMRV8bZ2KHtqMFcdJ8/Wtf83ScA/zUT/2UlRY8DvjonyiDW0k2gYcEpq+S2tYGR17r0KePfo2snxUFs3iI7pOtDlOzneHQftljBlmtFAOveKvzcu3VYbti0kTI2mn5pGd/D7MFxwYeD6HRavrpWLtkQUDWvUYuCLe1npIHtz5+SrEcNNNf+qr2BE3tX2f1C9ICQeA7uXXBjrJJ2adh6mCodYI5zIZyjl6CgnnLTNJtzYZVoWyyJovdAwf3NPgiNvEARQrKkjf+u+fHoX0/XkrzYrm25ksVvOuJ7Tm0t2/TqPI73vEOTqCvCvSPVxpska1wY3sKP6Zh32KBGaNfFk+f8FQFa1nF0I2pI87c5A+voGAREOuAzKqBwuXbpMlqtROO4bW2jCw1Cky/aoGp8QF7Kv+0pz3NcPynf/qnMRzHuBAugRu2jCmO0TwV6AM18yjYp1kE01FVMjCLlF2RJrj1GdaWrGF1r4kjWWNWlLg6Av207pupknbxO04OCdwIA5s+Uc7pp2PS0w4dIAUBxsre9fj5Bl9R1SQIPlnl+RUJsqDJIsFhrGAIqgvqU5ARlOI/EWBqJsG2Zj7+HLR9ISBYdBjVTFt4RlKLXOX/fXHcFLIf+gLq6kWuUn0ymD7lINkRRg7rtn9v+aVlmjsC8nvLvlPjtRm3czduKgtex0NFef88dm1uNkV1NBp2Ud8J35G6j1XK941kjVlstFQjpVOqTibs20k1EzWIwINrfMJqmDAg+CS3Omu18LD9x7g133pqjEyZBf54rQoGN2qn5gnICjjiGetUSri0Zvr0OM2LyD775+vz6Mv02dDEPE0QZODFVekp2MeGemP0Kz5Q7RTsJKeCW2gFcS3Z6P8j9TLe6RdCXbBRZsyiNeHqYdURCBJIF9PEitDtobi+oNvGAtHTaxNqR8NBwZgM4leHXFtuRs0l/4a1rrUCRxgmbVecY7mJ1xAJJ4BzwJGrOzZJfjLTMZteiLIQB+WEvurlBtpC1sQNZaFfeQbFsVYi4VCriieKVpjVg30p6jMYakoEgyJrmkGCuxU5bDdfDTQ+Wrd64uUe/Gc+8xkPWc8444ydt94C6cea5UZv3Nr8JkxUIXhFfSd8WwdasI7LzqBkhbjkH80Uo0lmTduudaem3CRCPCWYhZruWngHqzpOiYcHDNt/nOewj43SN9UxqiKI2gLgoiJZKrLEwb2Ti8x9bwOxD8LZ0/gxUaOzrxe5nIIe82QYBTOZ/BOI2iKAqaXUcBIXYIErSXXZGp7h0yRCbuAXpOyQVT+1gtk04MmLhKQHNPCS7dVXei7G5jKXL7QhUTM5HPLwRbd1fuvkllZ4wAcwl1/JbNSeUJU6DAWyVuQTBEovSLm2ZKFhR3pUpaNYTVMTpD41QSL7QJ8sMIkH+JWjJllskhrCxDN0toeXzJDjT4iDD4LodDgsN4NG4eDVi9eynULRnogBRFAu4k81z0XoB4QdEZSeMPBnIWuRtHGjF128Sn/ccduOve76r5o+fTvXSnZPc9kkOiSYXpOmbTQM2FhSUkv2n1XMoISwZ8e8oVvYuY7L1blDVnHNHbryFKH5wUcsXHpuPvLaiRuXLvUQiAgpEQfysONl/XbRkSsUS+50rgfQugp1pZI7ZB3sQZ1AxKmgTz/GB+hdMvLqlc4shH1CaC2oYx/6pPPjH7md5pspMncG7RdMnjNMhhJBmcoMkUxwNc/OGUaWwketa55goXOGkfRrBRBqBiU9NpokaiPXA02iXkJzjASPAB6Q9xXmS0ecBODBgCDxSTwIIBvEHzlk3aaD0kPzQQVk1cWDZpDJIlm1oIpJQYeUEpf3pydJfRTbirKkOn8NzRS5xAwaIme5Ry0mdakThwmPSzlMxksXp8lgWJrRkgU8JNTx9EbPOwFGT4CdKDbbt2/feeut8QCmXParxo7oKxRGFnCOyB35QdNBNqWassv0uvT4MFTwhEx8YOrclBtk4sjtx/33NdFk8bUAluU2ZtFhXZy5UzgH9yCCCeNEfRMJwD2QdRa8z2o4dbDjcSbhPNBO1MG+n/R5yOmnx3tQwVBsNp0/gxYpvT1o6DAUr2wfqkbBBIb4TGfuzJ1Pn2Q1MHdCLyIyKAVuLFozWGM4WpYgddFPtZFrCt5gMX1GD4XP3AVlL2IWNHXAOZJ9EfB95BHCNAaf4b2g9E7BTI5VakZGm8hSEAGn9Cpr0n8T05zKpvUWslWyJWiJGTT0rAunooDQI2gOP+5IWYphx3ZLlb3nENt26ooGR9UxbuqoLg2ZRM8//3xHeaeedlqMpzrtsd66cZNIH261D+tFcmy8H7PwsnvQkJk2T7ZTB53bgVck68ygyT+BttKr/j/NtiCHMYsOFy/zZ2uBurLmuSZnGk1yG+IsEkxl2YOK43UmWxzO8PCHP/zTn/70rbfdBhaCIfrOfrSjVqe2ISgV6xBLjvXrKBjaF7K2jn0OczBK9X9riB/P+Rvj1lGgSi7XXmP8x/AE6Yli+0v91Evk7t+ypxk0rKrnAhAAgnKMVeIr5RO3emBtuflF6/IRg/aveR2Zhdu/Fp8EY/6T9QkriSPAt+C04eZUAXGwSmCFJA1zfj1qA/WiYKyEir9XQdaYaPgIZdO6YsBIQBbxivR3I8E9X8MFjRPfoS52b1rRLRJt/LCHPezHfuzH3vrWt8rFRxNCWvCKF2S75mStI5X/MQ+F6+khkZHVUSCLd/BjyUEmY8T3BLxBkzWoLQ5AlTvtFaajbdYuAHEgxYoYoHFA7Amo/Y3ziec///kf+tCHrr76as/IJeVaUSW3OdUPzjVBSuwANc18eL7cvkTcBpGDUlKrwVzIWjo4whjxGuK1C91Y3iGt6fOmm27STPExKcsdzZGNEse8y4rOis8BiMiwLP97An1UjSYBqEtd2fkaJmUWT0wfQMMxAl+zTcoaGcToO8hIZpF574Mi6hQOdjU+BeT7oInplL03uYgF0nqmxGwkBQMv9iu9vrF5wfnnn3vuuTqqTaoea5iOCwsOdfVbBXVd74zOee6SgmqtGuSik/FEpfYbTDWfOXCUql1oDvGcLBUMJh1WY18eH2Pl7K3DASXMoH3GmMzBr2u/LD9Gk4IC8LpSUqZiANdR4ANTF/Gx3Le//e3u6D73uc81mhum4zUnxLFhrQfuUpCBmoAgJnIpY1byDOmZXPaXDKJ4xKFtjVkdHHxalaZ3s1tM4dqXFZioY19un75PU2NipsxSKdrCJboeO5s+y9c3jz3WZYW67BrCKTd5pkqJAdRkgwQ18SCcHLrFnRq0k5CsdKFBJpDr101+xy0JgnOwFSeQBAEgC8oAuGjia0pDX51cAJ7wCblB38CTh+iBCdENvMJ4uNApbqpV8Z3gppj2EHGKyWL3AgtbYGq9diSFmSJ5pKnDN3vvdz+/JONnsBzoed3FJBoSop8j4FhG4rHhA3HNc1a74TXXKP3aTTazaqyQUrVil2aFGEDEnVPfFbiU7MnWOVgFfQ0vwGEuyezbOEla659IQMyfWSOYCTwySdiMPvaxj/W+02c/+9lTTz3V9Onw39xpaeXzC8YdMA5loGpmSr/ZDkiJkRVSEplAyc3EkkAtZcmiM+TJhzJNxoxGLXKmyJFIpBo1c0jTZ6xRHN76fLGzIue34kH6uuyq4QWrHGSrVmNUih+AbQLOAURFakFZtgDNiq2ubFD245oGHExSRABiBSPEVrVTaoHkxH+Cf9A3zKczZZ0V48MctkvPoLSv2aUwB8qNHsPjb12kUjpKzMR9yu9MDDt2TB12cPPWlOkpqWnSR2q837J3956j/Y7pvv1GX1/oNXcaNM2p5tpsnb4Nx7OGW3CMPobYsdy+3LXC9CXCCK7WLSWidmfFVyzrt24QxZ8WIi/+yh3jFl8Dshu9BqJBWaF9XxM8M3QcwyTqNMLB/he+8AW+4WcJjOkxynASpTgDhsZ6vrG++bWvYBU6gRH3JQZNuzCO1CKxIzjLfPVY+7+x9ukrnybqZy1Shz5NbaJkjizwDO5hiv2otz+9wRIG7zNZE0zUqNZhTdjWTOYy1wgmGzOZEi180NN36fIEu0wEDYGHFTANvvDGM9n2gVp6wFFNcQDBIfkkh8ztcxjB1L2zhqfkszzrnjelSWjpGTRLJtDKW0FS0gfQluqg7022FqiH9gYXTuNNUHsLH0V1eUS/NWjaj8ZAWUzKh5sjXHEZwMZHRixHmmCFduyUihl0nFtbnZH/GzVLXoftCPkUXSrYhinWPZrmO4YLcsOA5CYuCixSKq0TpYjO4rUaCZc2GQpJ0AHKuNSG4CwW6htJbX75X9P7dq6ruYKPLTiTgLQHItOUCY4dUpxGlAqa9CeDX1ELQfmvAcD9sOwM2kyffTZrhpmjasqICmZyEFiET6dgXYQISSFkeQLqUbR1jHdAlWLzOcc/HbbZHB383ZVcUR+1pltNBs5k5BbTNGT1DLpijaJIktXJ2HGGFASFexOSeA0BjCtuNVyhW3C6dW0x9/5/11qg3G0b+iszwcBf+JDnnWbQh55x5qYNG93OjTWvrechX2E9dJRcA+uKpxzpjktVWKnBgoPIPmd3L+PPAzZ/Y8nE9zkEptFiMt2E6AUVSIadUn2GSdkHUlYCrD0Y+mUDE+JqoWOUgZ8MGE3fnu3hR9mDanFj9znnnONR3Be/+EVP48IlqESEV6EM6HZIwWTsAHlQgVrPReAOkyyS+MBkcj6AuEPQZ9gn6GDWJJk2D5WyORjTT845AIDxBFTSRj9WtIvI7VdwkVIr0qSVluW/In0SDBqEYkEgDt+bryoyYYwmsvoEafzUYYzDfHzwqWn6mMFBuEbeO4PWBvz2gLmmx12xzvUMTPKCCy5wowSg6woAPTng+VXqe+d8+sxVMEJiADB1chBuyw1TLsIh2Na+Hh0p4shdkc8YQaiHSQBj8YJSkGmLwZCcQ1YwFEe9+nGHLOltQGNGxNCm8znPeY4B/brrrvO2qGk1rnDHbIqMJsEZHAyVghQnwwRCw0wuCwwWT0EJLMs26efzT7K1AsK7Uu1IMp1Nf37/Vo8r5+TtWyv9RoxSq1Yppa+aw/yCy/Ifq040jZh9UmJYI5MBdJBjCsAHZdKniA7DVSQ7nJflsOGVr3jFYJmZjWxLQVgLzvzfKLHcc9CZ8t/JiTwGbYyQPsSaYZXETFp6/QaXRG679VbJo7cebdD0KPT973+/3msv4jNvShkRC/HCr7igrVqghiv0CNinnuXWLTYwVHdJyiySuCmUqAaoaSAy6RQ34MTMluummqc1U6RSafAptoJmm6vKGAGHfr+zkI6pl/ZBECGIww6hW62htZTzw5gd+YCsxz3ucX5Z1lAO5iqQcZAbuc0zqqJAn1XBNqHmv+wpbqw9Wk7/X3t3HntbVtWLvk5TVVQViHptyg5OWSAoeFVQ8aEGygb7JrkqGjTGdxX1aWIXorl5MTZ/mGiMMRrbd+Wpl2sXjdcu0pSYXHzSKIodYlOIygNjzEMFiqo6p+p95vquNfbcq9m//fudUwV6mfll/cYc8zu+Y8y51ppjzbXXXnv3X192lUGKpvFv/7XR2G+ds0xUfcwzR6eqLuOMOT0XCiHXH0ZY8fSQT1Wcd76l7SZQwDJHMIddYyvAlt8ClBBk2S4N05RtWpeYYiuhCEsTYWHbPt3MZ5y1b4Z+7O+n3W6b8Y1VFMp620JbyK0gFxYPneKda9CHbqzP4Gl5xHjSUtZ0ruZTLicq2c+f+XK9V3G6U+esdsARnMYWH8c4XXpZWsEcA2N4JKxcDMS7qaT0h4V4ia2tzh7mqZPwVLTFX8Jh82Urv6tlhix+HanS96gAhN7W8ZBPPaVJu1tC9VDoM5/5TAeG1+f6dTxC7lg4MBwzbdafvqIaqoTXc16NPAvvoaG6hk5PDNhwBWM3GXNrUF/P9QAXpeHVanhdy57Ic1pA9bGE0zIcwD8YnAfcVVMNZmlWBeGlrLa+fZXnXvn7rzgxgr6fehI8ZckEV7hNv3h2uX3Id6rS3lJ4qnJa/LHx9L0WUHV2NbgC50q18PQppTnMs0peSrZb0f/d6173kpe85LbbbnvqU58qpyaVmlud5O2LDcO7c3NdbE+ZarO/rABm8Zx2jSU2HawII+CML9Wev5dnJrNqcZYwo/JVnTLpMZ6VVWh6JU3/vcY+jOlN00VGaMw9pm+7OLw5cwkIvpyWsOSppiVJ74jcI/v4e5jfKy0X/b4zv//u7/7uvW97m7XRk570JLvbUonh+XPt8SJVAIYRTPrXbfzuprMcvlyU66WmmlaF6ksMq7oKjjLImaNjDA9wbjUVLaH3WHIF48CGcVq5f27rBoAnElyj5ISKubFNtXcXF3hCpanXkFMtk8D8HjBNmVTraYUZeZkXMyHyEMg8mMIPb5Eda8FblqtH3sEmTeaBZWuPfPvKGRkR1hAtoz3QtJuGDnQDY5VV2AEHq/h/E8p0OaGSK+ZeP1NWU+Gj6bdlUsx9a8kz2IlV93Kf8pSn3HnnnVaizmoPNbRpcTiOky/lUbvJOa/U7aYTaa8GkL6EoZfPxonhVIbH41eRxmq1pCNlUtWATxXhNQFXJDM2u9vx4BkiTxW96lWvstOtkEz09ExkU+skMefLo/Qz86qmg1X9dy9sjaekaMTkAyNpq2r1abkvfbpONapSZn/A5ALFcNWBQeOU7DG9vBxYrUvlQ6bJfj9m76/GSWmUlGJIZx+y+I93lD1+fH9nzBee/eyvoOpHIYylSbXMSl+aUbB2XP3MpL8wntus1k973JhYT/W36nQ80Dd7NxnVaMyQpXcxBlvVgpVmYmr/q7VXRt5q2kojzk53ky5duvS85z3Py//kSB5NmgTnbXu/uXXY9PEM8jGe4duN7TOLqXTipDrp/zLUmWa17yexnti+F2l5LG00pa9xWwRTLbU7imMtho1EXo7WbPZ0Z0Puotwjc+jvWvq4080PvO02SyW3c83v+Yz8vnsvu7oym7uucmzQSwntcaSL67/POpxczeVi3PbjOKmWXvckx49Dz302q55hSz6R2XAZK10waL6+4gfmZIi8Fyypwqgi73tKrmpyKuRWAGXbA5JGQ9LrTysfz9AiHuYH23gpYajujrJJb/WmRW3XlLqt4WoNXRlI3m6bxLN0T6/Qi3TZekB/4dlf8eXpXW+Ga0YU9lWimNfEMjNsXzhfK9vhnq4Da9yn1lXvDlj2GHJ1c65fUBRy1hJ9zJeYpYY55fpoOlKHm3J+7koe/ZVf+RVJ1LntXq4ztmXQ4SlBGdQsgCfXwrt4uiHvxF37idIy2n5YTjQ/A2D2BBCGxFBPYBVn9Bm3PqpJno/okrmompc5fGxcjkBv1cvHI3ur1atTgNUMqmuKnW4C8y0XiyRvLKLxuhyfgTokHAYyKA3BwWAJtf2rYVufG/TR7WS9Wy187UCDBDbTHFM9m9WZmctdziNj5arUBYc3axpAY2v5nqSYBMlRul+CavpeI1DIikpTHJW7NLXq2gE3gxXPAeF4E8geXNVR2DgQL1xonwFXANXZWC23BSiTh0aoIBNSnAqmj6cwWun7ah9kTC4O97Xt43ECGrTtw7Hd/e7h0Dc2Mcg2RKvUAHv67nPN3taRNsTXmHKvP5xb233bLdTp9D1nL/fx9/pj5ETQM5wY0yq494VhFUNfMNMljOviD/3QD/VilB//8R9/znOeAyCJxjYADz94RnPGlpN049Q4Mfx3FECGYj5PT+dADVTCnVX7PhxoAltm6N72wZO3otpNWpPvIJMj7x1u3t5+++32/h/8wR94cNTrcyUAk/gNN7afcL/v8j033NiSqEuwiaD933IXjNbZIdTb/huVtzqlp5qkSaeSYTRWvv3pgxKXqgp9hsI2p9hsZGok6RUj348PTV89Rj6DyTG0J2JWx0cw1cFVhkQLE1iqB7rQw1YJr4lyNYC4xq81gGhsU111bQ3avs3SI/o+FGkZ2+O9Moa27WVORxwNZduD9+1OPqSKZBZ5BXmM0JPAz47sJXOP7+WZr63o+/7OTFI9EtBniD4Md3Ex+KjGeW7N4ZW5kqitpwSd2D73cqqbVd2GsrNpVmIYQt+KfwXfqU4MvsNelchRimN2lcjb9WZ6eJqtccuzWcFMhnOGSd/+L/n71mPkfV/HWDRMH/++zV5LHRImenJu47s/4RauI+HXf/3XKT/gAz7AotOR4DBw2Nv6SM/7IIu2SEozE87WhWtCck1c95Gks0VbQo+hDMxY+eTYdaoTzdv8nWiFJ5QM3FdRpWqbJidjSunLHU3JzXC66Rv9rLVHXis5IRXbwu9eeC3CIeDpWfjxaAyJbcbNtgQmkcvFASHkBwCnbUpgrCqGPjD6irxnXg0jyDGD9ujIeEO9aGpj1DedG35lLbDyNADs/FFR+BIKyXB2zCw8joqyVS+5rV+toY7/G9e+u3mnqOKmD6x3lNbDYJgcX0h6HlZVnTGEtrYFK00JadrFXQ2D4JNOzG1VMTxna8a8dOnSC17wAo9iklviHJ62B/BLk4bPg5ghKI8in58c+y4O14rnMOzI1hqloiWUPJCsB9sOhP3jKR5rhV3MUyS7EZ0M15mDz3p9st356mknnkLtCYdb96BdZRdlpxzEXUsfg9xpneQeo+PBh+H+3uWRj7z1fd7nJf/zf/oc1FFhBndU2IrHA0eXN37jQqsy93kt6mejPZvVifEWbQkzE5camlyJenUJwctvnVZRGvZ+5FM1sL0ybAxXS+8LYL+6q82adg3XVJpFOONu0bVzYBaktbXnFnf6WajhnFEdU53xHGNyDCa7Jnsq+DhKnBVtvwe3IjmUQXvqCmv2DfHmbHP1mQuQ9TMcYRfTLsHM9s3O7zTj0+x1bLpGK+RJwt6+76l6wy62nfoY8B77YNpbRe41O/a9AekHZ4QkpN1o9pa+nzB93knt7DVvekqQ/Pu///uXLl1ytlNKn1aoLp+zEg3Bak/3uY+qHeDRVOUorg60bbgc6WYW7dKqMmjHnQNpb0QZhqMYZoLXVYRhQO7I7NPSLIUdbn8v9/oDMvLV+AeTMZ7ZQeWFRO4xWlza3VKpxZPic7tHP+pRL3zhCymtRCUAqyg3dRv/hvv0xTbCBuoodZwUTwlHGU+gs1lN1of+h/kAv7NG+nQGWc0bW8hcgoRUNeWQj2nvQ4Jl2wa/G/4oi2QAVu2hEA73YgpvfvZNXdjph26Na/FcqMV2YjiqL6cCH8U4pI9EO8Xc7MoRQREw5Spg5mUzg2IpaE80frLdPt0EkCObmwCG/005/bWpfDg2ShNhd87HkKvOHcxemTBNH5lQeBl98Dtu9iynStrMF4Rz17lb1cKubaKNZniKpA1glDOMqqblX4GbsP95UkJllhimiHYd6Y+tgAuzKtRMhzB45Iq7uKHKvtckX7pS9rtXXpTqjpMbd5TWHx7Bb0+OuOs72NtUwTP7DXojMewdkI2F/pizdnukQYcS2sZ5+tK6NJQt02EfrTS2JdWax2SgDFq2k3GNaHUhA7MeNu3gYd46czqrTr7O+B/bLso5x9gy82gNmvndYS936jKB6cNuvPG2227zrSd4RwUMpFYvgSRTOjbyOkByZYj9EWsRaE3JUVea1rZWwsAkjSWsYZtu6fFIwy3CXo+8AkgvquqsyYAQjBu9cbPVTZ8ie3c/HqdVPmYGyOlW5uVlqUkTfUqq1c1JvTyuGhCsR5Yckn67xdNjVuUyJKwCohxb262e6W+YARLS8JmIA9LwOkLGz/WKGQO59aQb/5mvAkeYtS6rB6iWYBr+h9gI7U+ow+g6NSrspk9HBkxmlM0x2WVQoQwOVqA6s4tmPJc7zXQ6DZg9/c5qT2qOqgwj1WqTl3WGqbXsJqGbW5aYaPa3ax8B7nWhD6ZFlTL5G/9TzjSp+tbIDN+Ol+GI6U1KJmidUc2Ue+AB2puMrQNJ6SkVp7enc//wD/9Q1vRorp/vyKIEhwnCth01k/eYjFdIXUD0XW0pjq1bsC39kuhUms0MOmX0GVu/htsPaTf4k/5Qfw+1dS4nqk51hGhfbBnuopzzrLcseWiUG2+4wbrTEsrNCTcqPJ3rIGkXl9dd56aFBRZ6KUQT8IF4ZlHUUTTTz6o4S9PLpTxROK0VfF/CT7PlSFLUpDuGRSG3wXngAWeQb9YSbr31VgOVy5EAllQH+DGkxEvZbpn0kW5hioRwDKbHn1Ze42+DSZ/SETZFmqLU8WpNU1XPLJyeZxdDOW2BToWSWE1qnbwitgzadyyQfYqZGcY90oA9njLTT2ZZz/Vxh2HUDJE37OR0j3wiqdZSNEHk9Vt0EYYYwo9vcN3mThcVbTvccF75fGKPdL8yRbXTLodr19ae1Wy1wpQQnp6N3FeD7DU9LXls2si4g9uda+BhBjjvx1suPfrRL3/Zy9/6lrc+/BEPf+/3fm/39LSaJW1ZucSqfSOGenJh5n27Wp7HCKsjjX/vWNzmOH3L1WTQfW/V+2mE9w/vffDBtg56ho7XuHU0O3EX5U7XpHwL2z7w12MSQIVR1XxeLg24nPrTP/1TmdK7OOSDe4cvt7iugpRF6B0/hES17/OMtQom9rPqFukMNqtuWc30x1tBtrNgKCUYFs/fuoXr/q2fMTcyRswZlDzKV88f21kAVWWCNqWUB0zqBOpdMBdDrGZbnFqL+SERuDNiLZ64nkJqsQwHZouijwrgWgUWX6dhGwenQmU7BTz+32c7IdQLX/Hl7Y0KV1Om4Rg9TdWijH65U0fNEPUIHmzXI17Qjrsk+mVruSdksKZduM7f43s5zJPtrmXTY3tGp+8aYCtl2ctRFr7HzJSxsl2OY6wcv2XeCxcvXPShlxnTO95uefgt1h+qZsYQxgvOqoYm1Z5nqUmrvm419eZLOa7PZovtDBl0NqRTSLudNWnWRzKth9ome/9P26+N2HaM/Rp6p+Woz5vdMSCAxFBCrO5529viyy1cl1M/+qM/6oakz0Rvuvlmj8kAm5rdvHWcVHro3ZUc2uW2ADMBcqZJdUu/CqY8LT6dtU0JLXmLJxkuK1GJM4nKyHiFguetDJptLi+MmyV7nUpbAc/0XEcjgCo05Blygs3VYdjCF//c7MGuLw5QERq9oWfrXbsmEQ0uNkdv6WK4Pbunzkj22zRP49zuQxwo3kn0n3NHe3hEyIGly9MNbreMlx+DLa7Cp325NUzRN97hkqSC2R1J9BMJ0AkR94cIuQzx9vIMFq8DfuTvARXTMQIvypb53ozW0TFRW1otNZ3RTox5Y9jvZhBIKoO24Kazkd6M6VR37fyoRz3qvz/vvz/ugz7IM5mmAE11OVz7pjNtxMUTL+vbtgda105V+l6fwZyv02bQrTcGiL11YK8Lh7pzqK0bgn3CrmEQdb8H9KMxh071xQQ1NvTHm9jaYdB6M4YZYbj/Ysja380P8/65oNytvfCUp3z0j/zID7/bu73ru76716O/y/0PWIN6d9XlGx92A/nKFZ+Mrp+P5WIK8Iz/ZzyrQ9FjevkYl0vCaDLzrjJwoRWMIEFKnxagThbp08LdoLCizxXGAZ5Vcsrw2/bCNnir5SHVJ1rbba/zKTHg5fETqm2e07VUSCUctjftLZFLTZEs46+mCO7ifnkkLEui0kRoR9V+hivAcILOyEfiTjtmzUHTZdD26e50zu/zd7Yt/Si9hlyGM/0SGU1GZNk6Mz+xyu9qyeegMb96LxUGXyPn8K+qaqOXxcgE/7AbH+bBEBfLPvp6/OMf/xM/8ROPeexjrTDcg3LypwshsXYmLCfM3lc49/vVAltigjxmezbbrSN76/uas+OmnE7j2kd6YJpoaeiY0vHPLTJ6BdgfzKQ/jfMyi79i6DNolDMkIqSFlw9zG18myPrpGc94xk/91E+5wnB/kia39z2gSx4SSZnuCbOwR9f7VwZ7BhuVFt5Ues5eP7W3/1v6HtPL8lxvUi62Mp/uMwdjBeNaMy/wkztdhg4D0l7khNZKnQCm9B7jYqbsAYPFuOn1GzK+cZfGJrAD/EueU4HPZp7zsRy1oIfiowCEpZ/JS19XoykvPJc8I1zNoDBMbJdWW/NM0e4yaKlKCN2M9Hz7vHNXhlZn5d4xlOYppv4aFsxfDojdYZGnV0Z32xl053WQwt8+CWqc49/Q4V219J0woxmrE9vKIC4NgGfDUhgzWlGVcqmppiOFcXA8GTi4nnnHPybD7mSGUegzUZL5esITnvDL/+N/XLp0yUO5poM00WPQ3NYm/e7qgmPe96LkGIS8g7dhTOmVkcu2miBLPlLYOrKPzKDlZc3zoWAOtRWpo23inQ1C9T2AqpZpGZYmwni2zLTtsJ639PWRbViXjjxXrmTXSwC8u6VP/+QnP/kv/+qvcqOSRhax8LJ1eAzPGC28Too+2vSl10yoQ/+38PR9U8klHCLt2hrLftEYRYfaiZpScXa47vRz5Xn5vgtQ1536qBgZW0nU+BB2xoN0gFz74dYZlWr/7cGKLTxL8FJT7iIst0uTpab3u2yNxrC1v8X0kfN0OUpbPGfTV7/KfDvm+f5ikvDKpNgGzQlnfJt4y2sJM+WsWrADwoM9ZHG99EKTUrFV8ISSq3UpMI8y+N5k4l7ZB8XjvJrBMDgbCzATev5qWlVW66rgZOZlaSgYc6Vz3srDU/i+Eei9bs9//vNNkdammUYRMsTgmnqVnLKGZSZv4d/x9cuxeohj7of0wXCdDi67KTHU91X4dcR68cLHf/zHewG917166FRg+TIx5FZgaFfLFv7tpRek86JKVbfiyQcc8AAW4l4/ZBCcOIbISUSf1SdBtU6fGRsvM01Vje1qKcBMCLiUq2PeKwv5EAsVZ42wISKXXjx9x69VeDiLKuNQ1SOFnoEJkiMNA7MG/erhpUJeQp1Zvo0AnuFrjS5wDcF4HZT42jXR8EEpYVp/oNKN/i/YtvW9Ca/KcZ52fxZw41v0Jpx7n81p+2u/J9pTkeddmqzCP289qf9xhHYvK0xWzfswhmMMkV1x9lENtwLGXvfgZivcqUycZ/lvv6Ipy508kEdf+761qgwH09DeNsG89Z57z1246ANtZ/y9l6+cv3j9jQ+76fbHPPbOF73wMY95jJRpFsi84BLb7Hnzw25uz0Ldb1Hr5zounrdfhpFoN9rrb7jczEUnnP2TwRrU425s94QHvVUwfRvuVjU+u9gEnDgr2sScq5CGaz7dWG5G+dOPtqw+j1CMV6ajEXn78J7m+osX7rn3bd716iUp/tpZrAd23wP3t4Os+xNOIx4enHH1ENeDIC7LC5+EuQFI3ToXuW0faJcaGTGCCM25vkNZfWkdnQrZTay8rqX14Px1F69ncp0fw47cPmu83/XNBR25fOW+Nt5OgOHGYw3CyOwTyjZ6Leb8DcN5v+9c8yfEduE2+E4AalGoCl8nhmFrPfaDPRT33ecm5A2u9/zRXDh34YMf/8GveNkr7n7L3e/2ru/mJUZMbrj+hjaIw/1eCSOBEaLpXZB12rDEaQZg8NyCStFahqgsdtPHDH7IYQocDaoiTxNNCYkBAzBlNcVElcd40VpKeiXV0nMdfQSGLjqlT48O+SZYuchOj22QCeYqt1yvMmQ21rPWuWHPD0dBjoWV7XDataOonSQ1qQ7mIVlsdztoGUAGZKnf1mAzNsNs2eYLtXGHMgnb6TmbN1a2QyrxHPIwDbgd2j7R3/FzrBS4mS0KmlkA1g7o3Y9rI9bYOKIhtL/hxG+ueyteEg99u6RKKV9DGDtE6SMUUSj67Qx5uFoRgKXbPX+89NvDbA9ea0aj+Cvs6Ku1qoU8UijCHr+q7AEH5FkkuSlXeMyypgvqO+6440d+5EdMB0miNNKnyYI5cKYGB0YmoDInYEiBCWxSzP/HqoYotrZ9hL1c9j0zvDDA0kqW8hNV1gQANanV5A5g7qO3jXlCxaOawlChYYUTPxmeACAvpjUJMq3GKvhqtZjjpapa+8IKwBYGGy+W/raqki4rgh1EYGXwhS1OcvAEVcGoJn5UicpWUWWiQJIVSnJMWEXJVtFET9BHHeHXGotrAhNbecJnoi996Us9OPOP//iPzCE1GR/bRIsw8Tf33cEQRwnAdnDYPiNIyZ4KlRgAaIxMSBBqotSkUKoSaAh6F5gt2jTZKmkCwxCPsdUUEwJHilYwSrSs4FXDBhNbQmQAxengFq6d4uNhgxPCq9/yu1qOZBbhYSTyw4AjW4fBWNkcaX7NYdXxvoOJ72y+ep5ePi3bhf/8v49PEg2Wu92TYw71wL7TD9XyktZ2JpdqEPrqzrYwwZdVYxkY2r92ps9KzzY2ATrpnMIz6BFV8ayE5OQqfYIJVb+Ten0v904roNrlfetSXvIsNaxKmdBVw2+bJn5nHqM/bwE6zEdFkvni4oXzPhP1O2i33367qdOHPSY7c01IYmu6SZVJH7nWAGyd0dkNreNNbjtykiO0BdBOP/Vl4Bg3zbSbGiKPrvG1PX1uyCFtOTksjtvF5+X7Llsl+7vXOvu66663NrLIHmZGfUmEPvPzEgnXB5maMwi9a9O83JAvb8BIbGbPzPsCoKm3OLGFvHh+XIqpKpAGp8YtymxzBg0fJrZPyxQweK0CMIkT+MpsTsOXVr/fCaYaMCWeFlJbnraCJ0Jk8ccRk15PZqsQ+ib2NDrCrzzKC3IaW2DVj/zIj/ye7/kexwalx2egIblQWFEKkiZhRB9+mriDUZrvqYTcXrAvuMhrjzLUqkpMCCERGNNeD5AwKGtwKFUV/NhColURmC1NP1xDy9iqF64PbPnSLzANwmMYX651CEZAEgUIW1w8xNtyXcIxARwG74ZluD20RXiY5BirdoNzKFvgU+nt0rAlsKEX88P+JMLd6TMhG0MIJw2Mv+hHXQ/Yk1/6/7ws9oN2vACkcWxNdMh2l4Fgu9EfVuihi3Ki7ifccRYutrjrq9GwVXpfI2a6D8BFvAQ/ZNAZzemqxTaYtb5XEUnkYLKNspdhZsj0fJ+5WM8olAv2iZKmAktrS2WL0mDn2u8xabFDY8WwzS8PtLnbC/+8sejTP/3T/SCaCQUMRglT9YLGjFb0A2TE7LRTc8xjW1Qae00xT0ZteRGZSd+aKo0SNtsIQspEqYNRthl7WOHRm/U8POmDPR9imRlzPMcw27i7PJAYChPxYH3ZjGkocNJAarIE0SQAtNefv97car5WBYPBozVCi3LYEYnH9sr9bfJFQs8KQ2ScIkxUmaDJLYwLjTkYzPBjGFfacrCGCGfFH8G2nBIScOEjYMh8llYeaWr05JJ8Pkr5kz/5k5cuXXKf/33e7/3STZFkwQ1GY5QESbBFjopeqPpSvnipAPTdGwl8vIrc2lf3+Q0hBuQKjUIQv13mskYVSTwadvzASkabL03wrv/QprCl4VeVOaeRp/b2n4ahF0r4GV3fUfG7bw6V93//93/lK18pQuYC8/L9j/iIj3BekOHDSXi7l8R/TBiGYgu2I2mfmm2WLYad+abpdO3ywHh5dIzJNlljG4IZT/kgKfssoHKAYWra9XfCt6NlraeZkXb4YCarke+cDKohbZmfIZSc2xNqxxINQBO6DDoih3/DneVSXEUGfWD8WKW4Rr/tM529ebYARwi7vkxsndHieHINFVgPJk8jNh/61UzWOZiLPW21FXk0fTXRp/tlq7r0O1oNayY8mXTMKazsXBmUYJ768z//87/927/9lE/5FCtRE2LNPuUaTKnYeoGL3Wj2DZPcAhtO41WSnjaw2A1Gu5M/E715U2vC0wuyWVjAZlizOQ2ZRjZjbo6WOL0T2Cv16Yu8PEZjK0GZIjOhIzGxcsSLkphpTNB5DlOTcWYlJLKsQDazxzycAqvO0pCNPCFJixByNwmtbhM/gWs8OuJ4S2algeRIeM1qd0GbQRq9CKU8MuEljuIlTfTpeOO57jo73XJQVB6+BRN8+/x7WKZrYs6K09e+9rVab3nEI6zDGIoEhl5OYpsgAYDJgjfmuiMV8cUjZeKJa2P1pje9iaHDzNtlefG+yb/+67+Gd5vUnsIgh4mE7LvLMMbcIENmpwAQvAUiroVEoBGDsDGLhCxOJTEIQO8otQoghUzjM06vGWGIRJq0iz00JGvyopsMMXv+Nh0RpN7hv/oi7FWSjNJqUyl7TPH0SsjoS1mwIiFUa1MePINXzUO1RxLV6nbIoMDH4ldJhpgF43watoMU0nYncr9HGwyTej5jJQdjnACH/hesunPuZb/78tLKoLuGibG17o9yMG3rjloPm1yfNoOGZKTqfU2rT8Q7p81Lrg4mf6f7vxvB6uyOoPc+aM+fa3eWClkyYbXvp40sE1YFsOQsTTC76KcxoYeZZdCyOn+x3ZYUrVkDkjtNphgZNFOSCdHriswjH/7hH+6SnABW3RyI24TIJAHMtkZhpkm1xieRqNKXsjdJU2ngYxKNSTlTXmw1EUys4rHNBErILCn4m268Ub9gTJcEszBlWimrII8XYwGQ3mVwbBUAVkqQcUR/3z33yMo+KTS9qkpCpl2TryARBk/PUeInC49MYxjjVB6CZEKT4HUzSj8SJYXILj6EA5Zv/uZv/kYOu/6Gdi8BOEhbRdXSL35t40t3CGHTL34TD4+qf/JHf/TZn/3Zf//3f++y6YM/+IOlyde97nWf+Zmf+cd//McAkplcYtz8Tvuv/uqvPu5xj3uvW2/1majUbgSEpO/6C5NhSXd0xGhnN0WPSqFRGGZn6QVmqcsD4YI0hq5y4IUqz4ERIFFpVWWrg4Ing0XQnYwY/oynGNLlwWdzSshoA8Q2cfZbAAPo8OBRHrUVAw1bW0gCp9hsxQxJeHsV8QhYqQDSl1SX+pkG2OiV7Z6wmPF6zt5L9L2m97LH2VXOXdceHUihJvQMHfAEMYbLDLrVrW265TicYs5O8LY1ni2Dds6W7MNEc65Nux2sDYTq8HqHUd8DjsmgNZT7hjsvcbFweore9radvOvj0C2IcAAALCFJREFU6GLjGMqK/Py5dldtRA4sfbUPPi5OG1/tiZgX4VIAoJQMg7StqOj7DNrbuovbBxySBvDemRtvlD5dcbu+dtfu6U9/uveM53fQwBJYqDAUZ3k/0BQvthVhaSp+5mnNNhNWwXhXzIA3D6+XA85cRgMP3JLHUAKzhaEwmRIyyWZtZ/ozKWe9xVDhBU9z4H2wl9ttWynQOoNebpC0TO4AJk1U1kkuLP7u7/5OAPj/5U1vMmKQd911l6UStpe//OXyjTQzcDdytLYKTQaZzBanSLRKRdzJlHnNDVs3D6WTds/53d9TgnF33VZPRcK78G64sWXoocftfikBeevp8OkpTSlZKfEOBqNqC6/K0jpPVHonVRAyOAQmZBhj5TCgcWD8y5vfTDaeSAhM5BsjBozTNp1FToYpgaxQKi3O6VmtHG+GwggYbU0SZzIZd3pBJoQ8DOR01pY7ttFoLe9kypQ4ja3jIdXZVk/xIARLytRxbDT0Okhw5NjpQhJPDr8ZyUNW1S9xpvR9TAD0FUl61GuCz0AFRlP42eqo9MHvIYe2maZ3VLa9IIOqYkvw5BlDDz5RNgzMU0I4nWonmp4RwFffx7jGVePZ7uIWNzAZqBCR/Yp1hLSGsW2nNaJW1cKYOjp5dz3eORrxgWW7oy1cJ8AMgHbEd+Qd4ljxdBk0R0BiKw+p9sFXk6HdyUdItSdgVwn7zpLNmKWpqGhMYH212C637zuMuwMA0laxCE1KyJxoFvuhH/qhz/iMz3jiE58YfQ56+MzC/UxEqcRF4k+17y4SXkISZMK4e7gn2SPBVHt+GhOuwGytKU3ZJjUTmapJTasJzhLqQz7kQ9zrk2MuXbpkS7aoevWrX/17v/d7z3rWs37pl37JdxwhX/SiFz3pSU+y0srsbOoULXfWQ7bv/h7vocliy29XidCNxNe85jWWWV4VK8PJwdKkj4of+9jHyh8w7zO8mt+YyHBZJlovWtJZkvbjrEeqCqfiT6JKqkjGspVCdEen2GYvWKW95c3tM0LjZgBtRSijtGFs3wprJYNZ2zoeahcEA7AsMHY/vcBsuabQl2gMslDFoLVu8N54002CpIGsDCcqXgayXQ5LNXpyeY+cHlECkLkOJ0FO1X1Fx7UiN2iswIIhMKQRYfIcWH9YGkwYyirBh6TkRJItL44NTnEKQBjZOxhQxZFdQK8qHho8b5eSgKtrqtFUMJpKNmJBlib4xB/DPfON9UM495DF2Am96069E7MCqb2j4UTOnfFCcvgyT4lrV9QL1LVU8NX3Ma450KO4ma9BITTY7hAq51uURRRM0/hG6AAujepQ2vk5ldFTzGdI1ZS09tvJfPTrTC/NlhAqrRVqCZ3JIsMNx1C5RgJs665bs5o+Ce8YmhjYkr/PZDOT1WoxhHAVU8oDGEcWWLF1Jm3cVgzvb1ODDGFaNBmZLNzQ+47v+I6v+7qvu/32283a1gdmFhhLFnMNBuukN7zhDZBaKU1bJiDkpl05wJxrutEkr0CilYo+6qM+Sh6yxsL5i7/4i9ZqH/PUp/7gD/7gJ37iJ/pUzEewt912m5/ZwvC5n/u5PFpsYXa2m0xlLAHcMrjO0diqt9xCNqdLafKWYLJCohehtOrhF/Md75aSVtgiAcamZI6WOMUse5lDUeWMpDEIRk8rKvHoHWVK5nH8Sq6QIJs8DSxZzILhQpMAGvOAcbQxz+zMoyEyVsLTGhMk5Ex85PMPtGUWTcgxk5Wcg1ygEip8DH3YmPxRSK28ZNsIpyxuJ2L2+aR9BKBJERJOAWc0MgjGKiNA/7btlyqE4VTbDFpMdGppW8oeuYQtNWW4bDqgOa2XA1Tv4E1b49OPQI/p9X3XVp707JsXshUIKgeegp+sEJRgoyGXZsHRFFohHfXBN/uxtNOwitbIGkt5DYUl/zyDclYgsjhaxEMGTRzRjHJbDu3mkSiH7TyD9v2JScDNfigB9DCA/WrP2bnqxJ4q6n2G6K5ZBl0jb5/Qruq7MPfEAgt+r2GtAgO/ilz0qtkPyDZuS5MbLp5P7jRp5viWbNyx9E0Gn4rdeeedd9xxB6vf/u3f/oIv+AJvq5EOLele/OIXu9n4YR/2Ya997Wst1EzK1nyy41133eVmo5nXKs0TjJaD8gTkX/7lX0p1Jn3Z0fKOx399y1ss2lSBZcSkZznARM9dtgTdTCFV1VzPSrQSFVkaYCh+aY8hjTQArL/JwUkPYAUWCROtmmRK8TBLGNwxtJU2kPCSavShtV09Cpv+fBtPjtC6OBCVwWH71unJFE6TnwgKL7Yhp2eeKebi/ufumIO5fKV9aKfj4tdf5vpiNFwHMUcVJHCq2OBtM0r6QmDuLi6GjAkS49CiGe5n2qYpDMhdfLhlzPZaFUEWVfpV1QdJOOylj+dBCuAdhHZrHGYjULCZvnpxhgzKFm0Ob7SKqgPeVtFKE0x5WQrMwSqDFmC2Bg3ViWxlviokwmVTkff8Kxk0lulh5GTQ2KfPI3t3F3fUjP/6eWa8oO4Boeq3aUW+9ELX23ZyvOxyR2w7wGoy2+F7JLl1bbqngUpV8WzkDDarwvQanzvNNH3rVcqJCsmyp7NedYBxX3SaFsX9l1sScly2WfjyZbO/RKIqt1nb+UAURkcoLSLd2csC1JMmVidm8DxOwhbMoaIEn/MksunYLM8Wv9lZAK11eKWDiTtIk7UwLBZDxRAsBScBjFLJqNKQKREyoSRTqpJ5FAd3aG2TIfDHHDJdBgaIUjyyuHzPXFTSXvIx7zQpkFXs35K1khMSzpDzIgx66YosAyXCeKfnRW5LLi8vosUmYF8cC215ieBJopbvh2/p2Bfw/EJKgJTVo+ZxWExrojRENBKhkMiaXDsw5B2AIVnYkFwHr6kl2iFxNnenvHuZ0ZgFr5pO9a1bmqXtMZqwHYNMDPB9MMcYvl0wW/06bfBH8hRsi/+0GdQ9PFRoHYe25FQddaopGVjyiSOMiXkPS3Y4xra32pbbbBMXE+d8/pz0I8dmBq3zkIEM2vq9vFLY+DaLSbVCHO+FVn0SijC01IlsVh2UO7bJOv+j3+WO3jbyrLeD2Q6/zzYEcMoMuuQ/VQZlXjHPglmtApfHmaFe9WxpHfC7A27PZHiSqC0ypo/BHOJmz+RRslnelG2mzo1QtjSqaTLbygQm5czO9EkbUWZ+NwsjzIGUxZOqd+GIM1O2PpLB4Ff72yuHvoCPSUvV/I6WRmC2XNN4EBNbXAuveRxymDCA0wW0mmIr8eoyEx2xfJQ+dUSTMzzhzWKwA6JJJJEzsAIwVi5B0mW0NJ5SlaEFxrWhwwzMBXOC8DSpajImbVjOtzVfkYe5eRme5lNF7iKG4OPbRz/60eoY4DMlNY/T9zrsvjgCCL+tZ17ZCgYlHmwekvrN3/zNV7ziFWKD1/rGN74xF0nPec5z/uOHf3jzvigV4ayF+UyTavo7a1pV9pgtLz2m+EvZW1U8JRQsQvS9yQzwv2D1wH65mgxqJGu0c7g6II8ceccw88omZeWMj1yas+0vgQ0MYwZNlWY4TdV2R/UA2zlp08RqGYzbplp7efJXjZvCKrJFNMXU04alNKI35pQ0hR8wWzl1L4zi2dN22X1f35Yyrsspmy/91nd/u6Hbh3fT3LzhuPpGeMcZr4zJyYb9MCZvtSl1+PqHqZMmsu4nAxGkAVYmXJM7BzQOffnGTE02zyb9WLrRQDKkzCRugqbPNJ100j5ivPtun1xadAJzSsCWfIbQeWKbnuTsMsUTaPomsnjotWoy9QcQQ96RiCTbnHuQvEtmvLN1o9WjQFxLPnIejAgR6gW5Em0IbRNV2w6fjgu+lAOm9cXhc7e3yt7d0hKeN7zh9aj++V/f4qGk8AiAhpfkNmxkVPJohq7BhhMu7uIltjgNbFafSP7kT/7kzjvvfNrTnvakj/zIcAKHLVb6aPDZ6p0VNhcY9NEh7lqBCQBCnwfLxD/0wz/kTU/IBXbf5fbw6sNvefhdd91lfOJ9uU2ES/2WZhVPWfq+s0WS1tWmwkQoHtVePmxbSMJh5Mzdv+9qDcs17GY4szXUSh2up3LH8Oqimq+7wjYF1g6eyL1+5lEMhZln0GqY2aTaW/YAVgc6Fs4ADvOHc8Z2gLmPgZzwlvjoZ+BZdeZ01rpaPYNJ8SyDrKbjhVm/lmM7eNm7BCiTLIakriRLR3MOaPMsIWlPq3lWoZEhzKdcKKqsaAiZZLGlR6oYyKySd9usPTz7atY2Qaua003ukIo0ZkIH5osVQgUeOCkQRjXkRoZsq8qLJlvI9EXibLFOdzXByPAI4WULyMTmSyM+vtVHrj/xkz/ZF+pl1jjK7VxNepcdEde2CSOjmTACiKxrqkhe8pKXfNd3fdeb3/LWG673uezlmx/+CNWP+7iP410rj2IwCElp+qjj0q2m7AgkPXmqNPfd134h5PWvf70rAE9m+frmf3vef/OBdGLQxyCRZBzSZbK8aHyEJ3/bWqMb/FxJ+GT6j/7oj3h/7k88144QlSCNgGfBfuM3fuPXfu3X5Nfw/9vaZpcdjnk2yAXe0h/DWSTXUHhHi+e0Xdsat5yVW61LLznCxwvMoXlrZJa2Z9AgX40tyt71XgbVkDZb0MjcT6uCM0SyMym2nWpbcrNqCGBMih1wvvpMqB1gFKv/EbrurF+DDHeedfnYuwpLj9dEU2EfOVxdv/b8h2eVpJpMr2SzKliSpcNUMaXmUVXTeqZjsza9zGeSpTQjw0sGDD2J45qwfcQ/HDA0OE3ELX35UoocNiQwGk3SBRLknCI03auKm5dkQTAJhkYrR7YXb7geubyF1j0BJFqbC8J53+254hdZvDOXnnzl/is3tN9YaIWtLTDO+JLRZQ6J4ed//ue9yA2bd+p+23d+x3/9v/7rU57yFPEKw4e+PuJNDGyXJZz0LZyuGBle8pZEkd98U/suqaT1Rc/6Es9YycfJnWJgCEBI4kzfKeGl1ZtuaAvHZTHgns+S7A2dB75+67d+65HvMj5O3EZ7iAcVAblu4pcUPSAtqhbPEJ5Hnd/31ls5ShUhE18KUgUWg0sHGrKnvZ761Kfa78tIrrlmNpJLfgGfiOkBvcwWYbZh7uXe1zFeevxDI/d9eWg8XlsvDr86Pos5neq7duLgBzzszJGG5kSr8rgQ5lmgpyLD2w7BNzmlD3jSXbeXQaONfS8n7kRMXw7255Di3BMC7n33/KDVVLSDsnmJxwLs8W5UDoDDtmG3U8/C2zWsSQmyWg7YzpBlcvVC+hXXs+4PTese4BVpw1Fifjeby2FmfFVKVYIilzgBzMgwEl74LWLoybbSJAeQ2GgIqhg0mbhjQpAAzM62XHAEQx7Ca8tNQmZ/gqKVUsF535W20Ax5msgAIhQSDY+Q1RGXQFph4p2+wtYLSzfZ4lu+5Vt8y1MAXobw1V/zNV//9V8vp0qceKzAJHVN6Ug8hjBbL+gi0CekyLbwFojSpOXmN3zDN0hCuTi46ZZH8Cs1ilZIXAAbAYHxIjYmnljWHd/E9Q2cu9/cvuiSPpZ3JpaprfXuu30FyHsYaEIFGXC2XHDniehv/dZv/bEf+zEpkEaXBfCyl71MyvyPT3yiL/wA84hQDFbndoowwOxZLuRdd9clfuvXPgZOq8RdVc8sHODfalr1ZTQKL7aSV8GlTC+OBJfVO4XjR8DYZniz7Q2zm2yV6GFK7pHkST9ethZnzoIZOfBMM2M7sbpk2CJMKh4JgUwEKQkaUbh29t5V60cSh7+KY9faPmWcceqMAYq+bVX9Vd3smL/z193vzw8X+rvu3GV/585f8WfO8WdM/Jmpur/mv3Nd4TQh4OGT59EkDDTDH7txZ4RwRHqSqM3BvqZ7pT274RGqhLvYVvwlQJpHB9cZtvGwSFidu4S3O2gCyJZlX53JjcQntbO/TOhDhBnDfluErcNTl9s+PXfhvit+x8+P7F3vrQuEizc87B75alh3Oga4ltVUzfVmf1UHKz1bW/NvhERYXmCUyq+QnKrKGbKFKjYaGIIqIQwtuCk8mlQBLjhScFxxwDmGxr1Kvnj+QpQBaKLxG5vZ2e07Htw5DCRyfRH5dde96V/+5T+853s++rbbbvd6hEc+Uhwf8sQnfvu3f7sUIvlZtOmsjlSvJRXff41GtOLXaxjrV4s5eHGKUNZJtPqop3KzvJXFnHGzAHTj1HdI3Nd2hNzrQ+KhSuM6pdlz+sAD//gP/2D7Vk8h3XDB09/3XL7nhptuuP+cd/zpuUE37M7Ny6973WtdThizZz/7y90LuO++9tLz7IsaUvH45NWvBSieCZIdBfOiF72I7Ou5+t52gJPu+ut9s4hw0y23GCL3ElTJHn3yHqJXv+Y13jWhqvtK9lHk2TZNq9seuQq4hsr+4EFbrg+7MPxKdl+s+pmqJivjdZhns3WYT9oT/tNfJpaqRqBs33eYML1QE88ssL6aGTSa4e6dI8YZJGbXoO7oOG0F2CaqYkvroFyPfTaAVW2/tTL8zWahXVKYZicah2+d4GGIM3Iv7I//ejyTdpxu0+XW2S5fJGvYRlnb0jdhkUEm5vwf+Wv0Etvs6BqgI7I9c1EUZrD9arsiaMYTZKgWvAk9fq/hWlemPkyhnMQ/4fdwg/JYhj3LIyrjWB2BPAy5tkNa45DwVJf8q0pBLpGHI9da7k5EPkiArQByEWCJKaNwLanQyIsWYb66kyebZEfzKb0VW/Lot33bt1mxfdM3fZP0CSNr/sHvvyI3olEB01u0GSgmlm5f9VVf5RPQ93rP95CY/UwY/U03tWW9wilfPDKX5MwsMjQNTrLsyyPXbx6UhKxTCeNAPdDeH5tvmvoCLkJWyfoEy0d4qTS9c03g5bfuxH7lV36lLogc3qee1tlhyx5nSFAohcpWltUjt7K9jNcKlXecYwC5UJumi1j1TZH7Ywamrxb4GKHn7+VjbN8RMFPM49gKadI0oR+W0q+GbR/N9Et8r+nl3jBHYK8JckE/Qnoecl/tSUrWoxMxBX4HFPrgycd3Z7d7QmFbRT/J1dt+r0e5r0lOLvgZhDGrH7gyOi2pCKvMbOmn65GuJRdQneJU4sA5WvRDtySp1t5kCTtBk4vWATQR7u0FyuhngxBltlsujgysOZjKFtXV6CvymRDOyfN4lMKUZia4t+lDRLcls2LTak6RtOS/L/7iL/ZIjgzkA1q5TWKTSwBsf+AHfsA7An2pA7N05SsfspEnetxHpcEmI4rE0pPeLWIkHiCSnr/6//iaj/3Yj/UaJmzu6JoHk57RkmUp3uNFPMLAhkrmk1PlLSW0YBJnzO+66y56iZA5HltLYa5ZIYGh1B1VVi4LfLj7ZV/2ZZLoz/7sz1qVukusgxwpkAqBF2AC74LXNeZiBpaAyQCQtrMyEOw2WhvvlF8LHERVjxEOm2g9hqTH9FH1co9ZlSdfrn7aBdBZyjCfjHfsDs4tk6/mZCar9iVhVEf6JnIFGTmt4Sy5r/bKYi7yns1x4iAJ3raaSmBVhgdghb8mQjmaCacljzkrwmy7QZWj4v7xyzSTTTPuR6GqpSy6paaa3jGFDI3+rYY3tQ6N65AVuz2rrn1LH0jfSr5WIzmjipeZUgDRpLULeU88W0g955JhqdlzuVHpOVchM8CWF6lRmjELJP1Ihww9kesrlWRrOG9+8M1IWVY+s5qEh2TyvOc970u/9Es/6ZM+6fM///Nlr9se/QG2UpHZRAKzqpMvZRq/umXZ50NQn0F+53d+5+U3vlHK/L7v+767777nS77kS0Ql1dkKgDvp1vPAvoXJiwQpjBe/+MUe2ZV0/983vvELv/ALP/VTP5V3LqRMVqiYKHK2UKXe5H7pVqvI9QWGC1Zpso4UpM8yLYUZomIlzoQBr7A1pBFQZRntfRp+d/2Zz3ymVt7Rrg57rwxPr5nJXMw0q9UlbKlhmIBXGZbKw7FpjYvDsCXtiZoQrsbPtrqwBMw0DpjyVUGWANzj6XtN34REqxI2QpBLTGkKHBP6WIUq1Z4t8lVue9rDVGOcR8zVI3Kg24IHE+8lHw4grbs1qNFRXMlGKOPefcm5vZ5769O2CPul5I6/CFdWfl3bacSzXxs6fg5dVx68WkyEhqJGo495S1+YpdVSU+BNoVt9rmHmK9E1zJ6uj8EBsNd2LSoPBmcf84kxSiEwsousIIvIkX5g+YUvfOH3fu/3UspMFqlWXVImmUY6kTzkFWeElah31v/0T/+026ePetSld33Xd3ct7hS45RZfLPknt34f8Qg/M/LW93iP93rf933/pzzlf3vhC+980Yt+6wlP+FCwX/iFX/DsDxK5DaGYzYkEYfBltUf2BK9PKL3Z/3M+53O+8Ru/0fqPXmGlVeSQnjby8aoPWSVgVV3QHZxve5vHsvxAppcbX//wh7+Lt/HL2UJyVfDqV7/mVa/648/8zM/+wA98zH/5L//nX/zFX918c1s05xzvR8/eyfjI6GS5Vp7Wd6vS2cD2VpqAlWAiA6TMDE+ssuoxh0lmYIaH8WGuUHtHCbvXRB5c7GaY8I/b4TmJPC2xt+1A5XHV6dJd53SrcewjJw6hztUU1GIQCrPJOJmsEvbKYsBJ7rdVLcyDLaRfD4aX7KxT8V/4ii//CqHkMHIuEHKCJT5cQ1PTh7d9h6CdM1uT7FK/d2IMtE2DJS7m2xV1Uw1ObeN9brRW3/kVeQEmhp2mmuZCy7LXeeRmrr+Keh9JaDLCkdNHcq9ceBviGWJbNDVFSAZHQx+HN/KX33JRQpFE0744cpqyOo5b5KchHrEV+dKWl5mjWbU3kRS1YpOZPAokKT73uc995Stfaa3mO5He5ZsbmEzAzB1Zq5EV60WvHfASA+ZPf9rTrOSy+JN1rPMkOctQ6U1W5gVGhpPbvO7A4vLVf/7qD3rsB3mlPh5ZmV5aylLyyU9+8kd/9Ef7MonyhCc8QQxWtO99663u+spkIhEGKwLvXuXg1jEvND5Jff3rX+9XXZk/5rGPo4QUjEiQS7EKgHXtpUuXuPai49tuu81ntB/zMR9zyy03S94hd6YTBKyz6bIuyPe2MrokmjwN05eEZBuhmlLFVhrCDNM3nUE+nnzV76pyEUZ/Aox9mfk1KSysotjZLkcjJJvT3nBw9rRhGN6ytZv0QmKrdR5Vb3yEPFG1NW6NTHESUsJEJmRb4AhVnbXG0Hwb4VTb4ixh09xa4jRl6y2tgl/6WmqWrsYMmoZ+7zKuEaEvrvPnvHVsd6B0jEZqVd8fbXo7Vo/KoNaCE6cAhhiyHd2udrv6MuDHvV5xDn3sQ6qWpaA7/ZAsAcdqMpKH0Ym2MLNq6dvZu3kCN1Rn2OI/f6HN6Slp6rc72slweBtTrz5Bng0l8vDPzFaVM8xqdeBb2QCXtjfcciRb1D1Ma81P+7RP+6zP+qzHP/7xz3/B8//5Tf/sx9F8/TEZy1aClJAIEp6lqh9P9dMxn/d5n2eZ+Jd/8Rf5GRnZRTIOjFNgKae8ECQ2qfGXfvGXvEzYr5fLapQI5VH8kq47xvwmYOnZI0vux3qOWQLGJs/Zyoi2Ynj5y14KoKceD6Zh6Iutz3/+8//lX9sb/qxNxQPMKXMZ11dZ5FdZmUaTm8xPf/rTfSz6eZ/3nxIJEvpEbksWmKh+5md+xs1kIyNImIR3zAj3mJm8JJkB+qpjta8elreYl/qlZoO5TWLDk/ljGHvxtHs/2+GN5+ZuGuxtIx+fUMaA2xw4n8Q2Ij+LelhRZJpt00X9DTthV41+SId7mWZ1VHvl6TNoyxHTLN2EkofcYfD3/w7sjrXx2MqgsH3Ya6bruvZ90NrNbg8UUc6uaop1q+4Oj3XGB0k7de+qrrwmkpUYde1A64rB0arZGM7s0sr1tQpg5i6dKmUcrfpaVSbaWM0in1XjqJQH2ApzNUJ6FKd9eNEvmekd0vQEK0XJRrqSRP10qK1nUH0I6mdk5C15US6R7RSrVc8H5RNQz+b88i//8lc9+9mezfEBpwWfpSRM7qlm/Yff8pELVcnV87r4rSlhopGTsgyV2CwTgWl4tKwkKKYHMbAVIR5ZWWyS5YvvfNFPPPf/xu9JpXvva59NXrzQ8vHP/OzPeMGCSDwMpcpQEeoXfdEXyZrMkRgfRSL/nd/5nb//+78FMBT0SOhtyZT8+sKo7AsJIOYsqQH6EsLShKeqq8LMZBVzNuWDx3y2eMoqw1KDU8KQigp1smC/LEH2Wgiz+3oAfSm3MD2+qHol2YFt24U9thd56r2LXp7BRuNT/lsl6UMiD8fvsbwn4uOxd3Ei9clvlkea32bB6wx32nakbZRThuDGs3EY/9oB608iuPqdTO2ojudCO2JcKfTdEEKbXIYSq6Gr7eZGD9sRtn0/P/IKOdjurjhCG2XPQNbEQedx1x7X4Sxb1Rx5waV1ZzMdkVv6CizkDIu5SKqpd01pfJbgWK3ql8po0C6byvtMgPRw3kzZV4uqhLSqJv4td1v6Iu8JQ0WjGIfCEIqHPus/22BkHV8OkSQ8OPP93//93/3d3+3hVXkOSQzlVDd4L1265EFWd1A9N2T7//3TP/3wD/8w4VnPepaU49lXmdijOnKVNa6tdIhBkwzks1XvavDkEWb3e6UlKdM6j1NJuh7tcZf4ta99rWWfjGs8hSdsYIUMqfzDG16PXPCWhoL0egQ/5vrN3/zNT7vjk6OHrFlPABmTfigiW3amd9VU/dUXDx57K6Hse9ttt9Fz1B/PZXJaIfHEUW+7FSTMVlP0RVVC0QIo9CnkaiJQ9tWlDMDEYMYcoNEhnH7hkdxbVbWYI1zxpcSpRIODwhfc23YIw3ZpPhmN/++/Mn7jCDglDSKcIVMNIWSqJaRHqyaryhhWeDCRbR0S1VoAxypZ0ZRWHpXTHz/r/aoguejl2i+lPCz4xe8Aep6DJslNy6hGzco7idAZAp0njG6GcYk+Y3TQ5cmHaag6kt1hbfLgvboXd1VNU/ZQZ36UGKuiOmxTsC1fBcBDTmDkjNuSvAC9YWClCU8Ii3MWAL1S/OQwz2AFCNuytSeBCUms0rQ06Tl7ZC/3Vr3cc5Y+yopkpl+66zWsgi9zrb0ccHE6k+UhVac6WXqT6mQjacPdVN99lNWYACh4XPt7TFeTLChHqsq4+bzza7/2a+3llt8uXHBHFIN8Ge/0ZFv88PIiExhJDj8SMSRyysiq8rHMyksfP3CqDAXsISZbKU3M8qjbwpa2Vp93fOKnJBKt8DFJRzICs20BSh+NrXhk0Mc97nFGQ/w6whehkGcTjOfZDJdWW8FnlwUPs4QtqQ5rEjOeE4PvAfE7ed/1eqmpUA+HUa0Vz0RVLScI8LHt4zzBZmheOlplKGXhaaIs4Rh3Z8MMjnaT4dlIrtJq922W6nYYa0TKQQDuQqdpqPaZ2a6Sritj5wA6qXvd6nN01H32GUe2fFU8YxgNLdva7tavI8PwL7CyqqbhmsXVYLuht1Umq+rLOhAsyAov1R5d0aZpCZhpUt0KHvO0tm6xFXnvsWTfQmuY4dq5pw1g6TdsxQlQcnGWMGstttKv2lZrz0MOuEjSmuqSp8CFL2EJDhW9IvFIM5XD5AZ5S/qRJ9xrdVtV5lNkLGB6YFkKuVwiEdpKYJ6jzbsU3HfFgDMukLAlS6hyp62FqSSNVhqWLxFKilnVQSJnbhnqbq0mzzGpNvcDnQD4VWtx53dmHmhvyU9s3vyO36KW96G9Pf0X0wwFZY1JwjtxKwYvrH/Vq17lbrCoOBKqsSKwRVgMkU/Lz5xJz3OAoZoKv9RUPGHuq2XVKyPPYijbMgFQoqdscnshVLOOvkldGSDw4/m4ilnOUYGVU3wbhs2TnRuHdvHSME39tqctfZQxP4akDFeFPlrMynTkHurIKtVM2d7ZtFa4mNQn5ZQJt/q/j3wVcFrluAat+DgoGVcvp1rrn9lumCErjhlspjfepRkFj7Lsp0z6kBDKS2nm5vt1+MPIai1hn2Be62HkvgqaagXZCwN2PDPnpJMhfQVcVITiWRqWpvClWQqHMUtHvWYmI4/GduZoqQGoLqy2zhhWq8WQ1nifIUM+QwbjDJcMAGzlQoKbrrKXZ3F9+Od7nHIYw8pDkpMsBSDLAksweMjWg27napVm5BhKTTKNly284AUv8LVRi0W5UMr0HK41qIds3QQ2CUqfkPiT7XByR5NIbJNKjSaAQlOlBX++vclWkZK5tqh1c1jwkGLIghWhopotYVnk5aWSxmgYljvuuMNDSeGk5EjXCCI5kXmV9kAkq/j4StOqxyIUUs9QekKaCCX3yGrtfVUHe2Qvz9xV00xfQ7f/wEjbR+W3TAgi1LQaZ7nQ2h8PqkqRFCyCppkmyDBo2jJcterZernAlFUwh9yWMnIh/z0JQwfHDm1+DmoIQLJt72k8sbTb4+1AyRzUy2U6sg3188vV56AfXgE6HgS1D1b3R1rNQsW/L7SYi2HX1PdliGEF061rvZU1tj0scq8pfsrqZi/0JluGSJjEqnhSLX4DHHnQjxen5Ax7wHsr7L6/HctSnDmqaoSKhyG5qqIhz9iYFCDmxVb68NgWf0gKebiqv1uGM4bwSDny2Z/92Z9ZVnpiSG4Akza8XF5G9OUNK0UpRBrL8otVO6B9meDiRTBbmhb8sLKXsTTJf5KorIbqNa95jSeM3nbv2y6cu+Ch2Wc84xnwnoZ9v/d/Hzdp0arKu8AMW0a86LfPmkyPTVOG0XsFsaXEI7CmK/fdY+3LHSqtmjyIJOBHPPLd2AYpHgI82rCpzkrpQ1JVsHQneCRyp+uAREgZfLaqvWFMtrYzR7PqzKqnnXkMsgfMbFWZ9IBZtcevNvXKxjOdO71+IBnPQXLcAQz68Xxs8ji/7TRjYO3VrLsSwwX/DvCAJ0+mzx1znaTtAH5nuS/lkBDDGMa0Q/dRu1pgU7+aPnKZB0qZ8Brv9BF+gYM51ba9FH2trHpfA56gO3dd/xzPCeChOXtwt8eHe5/TjHfu/nENuspUw2doekDpeyW5h/XyDHZitbclc9drZo622GYmM9jYut+vGaavBl+cS6GC1JTW0oQng5amnjly6UugJ8dqiZ/pIQPOtsfTqM7wPWBLLqoSggwhOfqq9jxRVlPvvZQ9vpcBlvjSVGtpCDPOVAsQcjddJS0rxZ/7uZ/T9Amf8Am+KCkJWTV6zMcnf/JH8iLzmhTYZhGmKQnGe9/lFdUkTtkLWJO3//iCqffnocqNUEvPW2+99cr9bUaorEbgXYkGj9u/AOlXXNtqpcScbdOcO+eeMLwiAHqLRbJfCAgbDcFWgY+wtS0kIWAL7tDi1B1XGNKzMNJaeNWSt8hn+jOYYCgvCaA4Z/EUMgOb1t6EXFRFQugxpadUevysWsgIQQ5GbcCzvlclT9/WG3dElPTTLgrByVuG1bU44rTYTrafEGVypHk/COEoholy/B+9YzWCbQQMSo7kmckZquE8g+E1MdGRCqCEMG+uQTUPI9As23s3pgML1Wi5OxbG6yx4TRmyJvsVF1Z5hm24Igsg5ltrUD9GUbDmuTuXyDRRhgRyaw06fV64OFWm68odz95quPWlAmjy9Exv8LWFIada+FQT22zbH2GzplR7qiIkRM4WsvpFExNjTD8C2u9mjtPo6GXq7w4zNqz8K86QzKkGL5zGb+xzbdZrZlaq0WSb6WDmW1PPoDXgJWymSTW2TJSeR7Xw/MoQvqohiXrI1rpQBvXwjpuivh4qv1reDQSNQQqRPyQV6cSOkybrqJZBswqkT19YJeskxeZ2qAxEQOXcCVKrYEJISJxs5XWO4kLV/N230qQLN15/IRcBeBT5e/R+oX0UmvByjJEjxHC2Lb+ljya0LhdUszhGS4mqkMcIYStkxV+aA0LZEuKXoJQJtqqGubYZjUKCpSn4yNXaCzNAb5jP5NgqgU2G4/0P1ein7W7fnT+XxUkbvT3bYQ2KkD7biXP9vzXonGEd+HbTttEZSuLU2eovdclHxre1Bj3S/GTYA/MPLk8yyYw6XkoC1wzcDK1Bq4d62zTTGZtzcjBwCLeDGLJaV6uUs9LIO6sZwwxc1Rmsqo1tKKUpk6VQ4GUTTVqzHaeoVdyk7PFLZpo6VvohKke9MFGu/y+qGU+hAyhC1YxK8FtWMS/bMi/aGI5cpT1OmFn1XoqWEFg0VS3bvrV327P1co8pNsoe08tJVD47lC8lS1XgJBt3cc3XZMtBJlptPTokqxFsg5ddGsyUNuRCTkMCQ8NcdgSWelW91gfA56Z+b62yJo9M4iK0NNKVLaQ8qklh2OcPGgBfC6R3ESAMuVnil8g5etu97XW4AAqkMIKP5sAWW0yCwVbXAe546zIqQVIeIDmxKd05EdYDEr/wCFUCSMwFDqa2BEUrqwiRZ5oyv4ZC3A2PUk6s47vMWi8qqj6SinAyWP/vSMAQQ1tWqa6jt7UVxjZkr6WPOQ3xuxW2A0ZTtVbMpdlj/zdY0ZHVkT/30t/9nUPd2VufNWC+x9mPC1nB7pQDINvWcFOVPADrEB9P+0a6V+ZTAPOBYf1a+MK0Ji6OBCCYCPSD+RjYcs3UtxZJBE0Xhicv2s/tteN4OJq7MRk+FCujcFd1T6jPU/e0YrvSVgyUmfvICXu2tq6+CAG4RVPx7DNCuv4tvM+Vu/bdGDIvDOcwqY73BsZPazKGQhp21rDAHRxnVm2f6JjYG3+739CEATmwDd97G5ib0+Gj2Sb0+6tRDbNDRVICZEqij75vZVjVGclkuvffsVlpqYZ60Izjgw1PDptkxD37kyrtfuqwFmQbKhbY+iVcAs42MZ/EumtnJVr5TKmOUCo70LQTabb4rat2JtORDExpq7DNm+QEP/gaD4zeyyF5Ot5CBdlCFORwR6o3bMouzoafbOnHPvpZ2Fbalm4wH/cXDYyCZ9hrLfJrVQZ3E1kX1aQ6/D8R7s61qe9t9hCwbdYx7s9lEAa6hdWg9bmd3g0dhM04HPLuEg14cHFVA1K+UHVBHnJ9bdqGmYfTI9kqTvjEeQrb8RsZ3Z7a87rcI00T/hqTLeM9pndW3jkC/9ZHwMyVLjj0lcy8Wyfblv7AIBR/5i/IOEJVbCUc4NlqqmkxJCG33cKfQV8B86VgqE6dge2dJu8cgf8VRuD/B6MwmLph2ZGQAAAAAElFTkSuQmCC)"
      ],
      "metadata": {
        "id": "Y0ys4YjXTSpp"
      }
    },
    {
      "cell_type": "code",
      "source": [
        "mat1 = np.array([[1,2],[3,4]])\n",
        "mat2 = np.array([[5,6],[7,8]])\n",
        "mat3 = np.dot(mat1, mat2)\n",
        "print(mat3)"
      ],
      "metadata": {
        "colab": {
          "base_uri": "https://localhost:8080/"
        },
        "id": "r3ULprN4TQ-C",
        "outputId": "dbc24f8a-4599-47b5-e876-dcb1d91cc14b"
      },
      "execution_count": null,
      "outputs": [
        {
          "output_type": "stream",
          "name": "stdout",
          "text": [
            "[[19 22]\n",
            " [43 50]]\n"
          ]
        }
      ]
    },
    {
      "cell_type": "markdown",
      "source": [
        "### **3. 맷플롯립(Matplotlib)**\n",
        "\n",
        "데이터를 차트(chart)나 플롯(plot)으로 시각화하는 패키지입니다. \n",
        "\n",
        "데이터 분석에서 데이터 분석 이전에 데이터 이해를 위한 시각화나, 데이터 분석 후에 결과를 시각화하기 위해서 사용됩니다."
      ],
      "metadata": {
        "id": "tdvWrRVfU2Lp"
      }
    },
    {
      "cell_type": "markdown",
      "source": [
        "**1) 라인 플롯 그리기**\n",
        "\n",
        "plot()은 라인 플롯을 그리는 기능을 수행합니다. plot()에 x축과 y축의 값을 기재하고 그림을 표시하는 show()를 통해서 시각화해봅시다. 그래프에는 title('제목')을 사용하여 제목을 지정할 수 있습니다. 여기서는 그래프에 'test'라는 제목을 넣어봅시다. 그래프가 시각화를 위해 show()"
      ],
      "metadata": {
        "id": "TSMxTLCoVSCD"
      }
    },
    {
      "cell_type": "code",
      "source": [
        "import matplotlib.pyplot as plt\n",
        "plt.title('test')\n",
        "plt.plot([1,2,3,4],[2,4,8,6])\n",
        "plt.show()"
      ],
      "metadata": {
        "colab": {
          "base_uri": "https://localhost:8080/",
          "height": 281
        },
        "id": "yuJU7pXqTz5q",
        "outputId": "b0682a4e-176c-4328-f476-8f379646cf11"
      },
      "execution_count": null,
      "outputs": [
        {
          "output_type": "display_data",
          "data": {
            "image/png": "[encoded data removed]",
            "text/plain": [
              "<Figure size 432x288 with 1 Axes>"
            ]
          },
          "metadata": {
            "needs_background": "light"
          }
        }
      ]
    },
    {
      "cell_type": "markdown",
      "source": [
        "**2) 축 레이블 삽입하기**\n",
        "\n",
        "x축과 y축 각각에 축이름을 삽입하고 싶다면 xlabel('넣고 싶은 축이름')과 ylabel('넣고 싶은 축이름')을 사용합니다. "
      ],
      "metadata": {
        "id": "OLDGubYLWQFj"
      }
    },
    {
      "cell_type": "code",
      "source": [
        "#그래프에 hours와 score라는 축이름을 각각 추가해봅시다.\n",
        "plt.title('test')\n",
        "plt.plot([1,2,3,4],[2,4,8,6])\n",
        "plt.xlabel('hours')\n",
        "plt.ylabel('score')\n",
        "plt.show()"
      ],
      "metadata": {
        "colab": {
          "base_uri": "https://localhost:8080/",
          "height": 295
        },
        "id": "WRjE1MXzWI14",
        "outputId": "8cd3d2dc-400f-4d68-ad3a-9cb3b27372df"
      },
      "execution_count": null,
      "outputs": [
        {
          "output_type": "display_data",
          "data": {
            "image/png": "[encoded data removed]",
            "text/plain": [
              "<Figure size 432x288 with 1 Axes>"
            ]
          },
          "metadata": {
            "needs_background": "light"
          }
        }
      ]
    },
    {
      "cell_type": "markdown",
      "source": [
        "**3) 라인 추가와 범례 삽입하기**\n",
        "\n",
        "다수의 plot()을 하나의 그래프에 나타낼 수 있습니다. 여러개의 라인 플롯을 동시에 사용할 경우에는 각 선이 어떤 데이터를 나타내는지를 보여주기 위해 범례(legend)를 사용할 수 있습니다."
      ],
      "metadata": {
        "id": "syO64NJXW0Sa"
      }
    },
    {
      "cell_type": "code",
      "source": [
        "plt.title('students')\n",
        "plt.plot([1,2,3,4],[2,4,8,6])\n",
        "plt.plot([1.5,2.5,3.5,4.5],[3,5,8,10]) # 라인 새로 추가\n",
        "plt.xlabel('hours')\n",
        "plt.ylabel('score')\n",
        "plt.legend(['A student', 'B student']) # 범례 삽입\n",
        "plt.show()"
      ],
      "metadata": {
        "colab": {
          "base_uri": "https://localhost:8080/",
          "height": 295
        },
        "id": "s81fpwthWv0E",
        "outputId": "354fe019-af4c-4bfb-8ee2-b5472f5cd37c"
      },
      "execution_count": null,
      "outputs": [
        {
          "output_type": "display_data",
          "data": {
            "image/png": "[encoded data removed]",
            "text/plain": [
              "<Figure size 432x288 with 1 Axes>"
            ]
          },
          "metadata": {
            "needs_background": "light"
          }
        }
      ]
    },
    {
      "cell_type": "markdown",
      "source": [
        "## 5) 판다스 프로파일링(Pandas-Profiling)\n",
        "\n",
        "좋은 머신 러닝 결과를 얻기 위해서는 데이터의 성격을 파악하는 과정이 선행되어야 합니다. 이 과정에서 데이터 내 값의 분포, 변수 간의 관계, Null 값과 같은 결측값(missing values) 존재 유무 등을 파악하게 되는데 이와 같이 데이터를 파악하는 과정을 <font color=red>EDA(Exploratory Data Analysis, 탐색적 데이터 분석)이라고 합니다.</font>  \n",
        "\n",
        "-> 방대한 양의 데이터를 가진 데이터프레임을 .profile_report()라는 단 한 줄의 명령으로 탐색하는 패키지인 판다스 프로파일링(pandas-profiling)"
      ],
      "metadata": {
        "id": "CzdYsG8WXE4p"
      }
    },
    {
      "cell_type": "markdown",
      "source": [
        "### **1. 실습 파일 불러오기**\n",
        "\n",
        "실습을 위해 아래의 링크에서 spam.csv란 파일을 다운로드 해보겠습니다. 해당 데이터셋은 스팸 메일 분류하기 챕터에서 재사용됩니다.\n",
        "\n",
        "다운로드 링크 : https://www.kaggle.com/uciml/sms-spam-collection-dataset\n",
        "*이탤릭체 텍스트*"
      ],
      "metadata": {
        "id": "S5MGvswYZEUB"
      }
    },
    {
      "cell_type": "code",
      "source": [
        "import pandas as pd\n",
        "import pandas_profiling\n",
        "data = pd.read_csv('/content/spam.csv',encoding='latin1')\n",
        "data[:5]"
      ],
      "metadata": {
        "colab": {
          "base_uri": "https://localhost:8080/",
          "height": 333
        },
        "id": "AXrVgtQ_W7QW",
        "outputId": "1bbbd36d-813f-41d9-e158-d5d8e36affe0"
      },
      "execution_count": 1,
      "outputs": [
        {
          "output_type": "execute_result",
          "data": {
            "text/html": [
              "\n",
              "  <div id=\"df-fdee6925-804d-4c94-a5bd-33e036a44f65\">\n",
              "    <div class=\"colab-df-container\">\n",
              "      <div>\n",
              "<style scoped>\n",
              "    .dataframe tbody tr th:only-of-type {\n",
              "        vertical-align: middle;\n",
              "    }\n",
              "\n",
              "    .dataframe tbody tr th {\n",
              "        vertical-align: top;\n",
              "    }\n",
              "\n",
              "    .dataframe thead th {\n",
              "        text-align: right;\n",
              "    }\n",
              "</style>\n",
              "<table border=\"1\" class=\"dataframe\">\n",
              "  <thead>\n",
              "    <tr style=\"text-align: right;\">\n",
              "      <th></th>\n",
              "      <th>v1</th>\n",
              "      <th>v2</th>\n",
              "      <th>Unnamed: 2</th>\n",
              "      <th>Unnamed: 3</th>\n",
              "      <th>Unnamed: 4</th>\n",
              "    </tr>\n",
              "  </thead>\n",
              "  <tbody>\n",
              "    <tr>\n",
              "      <th>0</th>\n",
              "      <td>ham</td>\n",
              "      <td>Go until jurong point, crazy.. Available only ...</td>\n",
              "      <td>NaN</td>\n",
              "      <td>NaN</td>\n",
              "      <td>NaN</td>\n",
              "    </tr>\n",
              "    <tr>\n",
              "      <th>1</th>\n",
              "      <td>ham</td>\n",
              "      <td>Ok lar... Joking wif u oni...</td>\n",
              "      <td>NaN</td>\n",
              "      <td>NaN</td>\n",
              "      <td>NaN</td>\n",
              "    </tr>\n",
              "    <tr>\n",
              "      <th>2</th>\n",
              "      <td>spam</td>\n",
              "      <td>Free entry in 2 a wkly comp to win FA Cup fina...</td>\n",
              "      <td>NaN</td>\n",
              "      <td>NaN</td>\n",
              "      <td>NaN</td>\n",
              "    </tr>\n",
              "    <tr>\n",
              "      <th>3</th>\n",
              "      <td>ham</td>\n",
              "      <td>U dun say so early hor... U c already then say...</td>\n",
              "      <td>NaN</td>\n",
              "      <td>NaN</td>\n",
              "      <td>NaN</td>\n",
              "    </tr>\n",
              "    <tr>\n",
              "      <th>4</th>\n",
              "      <td>ham</td>\n",
              "      <td>Nah I don't think he goes to usf, he lives aro...</td>\n",
              "      <td>NaN</td>\n",
              "      <td>NaN</td>\n",
              "      <td>NaN</td>\n",
              "    </tr>\n",
              "  </tbody>\n",
              "</table>\n",
              "</div>\n",
              "      <button class=\"colab-df-convert\" onclick=\"convertToInteractive('df-fdee6925-804d-4c94-a5bd-33e036a44f65')\"\n",
              "              title=\"Convert this dataframe to an interactive table.\"\n",
              "              style=\"display:none;\">\n",
              "        \n",
              "  <svg xmlns=\"http://www.w3.org/2000/svg\" height=\"24px\"viewBox=\"0 0 24 24\"\n",
              "       width=\"24px\">\n",
              "    <path d=\"M0 0h24v24H0V0z\" fill=\"none\"/>\n",
              "    <path d=\"M18.56 5.44l.94 2.06.94-2.06 2.06-.94-2.06-.94-.94-2.06-.94 2.06-2.06.94zm-11 1L8.5 8.5l.94-2.06 2.06-.94-2.06-.94L8.5 2.5l-.94 2.06-2.06.94zm10 10l.94 2.06.94-2.06 2.06-.94-2.06-.94-.94-2.06-.94 2.06-2.06.94z\"/><path d=\"M17.41 7.96l-1.37-1.37c-.4-.4-.92-.59-1.43-.59-.52 0-1.04.2-1.43.59L10.3 9.45l-7.72 7.72c-.78.78-.78 2.05 0 2.83L4 21.41c.39.39.9.59 1.41.59.51 0 1.02-.2 1.41-.59l7.78-7.78 2.81-2.81c.8-.78.8-2.07 0-2.86zM5.41 20L4 18.59l7.72-7.72 1.47 1.35L5.41 20z\"/>\n",
              "  </svg>\n",
              "      </button>\n",
              "      \n",
              "  <style>\n",
              "    .colab-df-container {\n",
              "      display:flex;\n",
              "      flex-wrap:wrap;\n",
              "      gap: 12px;\n",
              "    }\n",
              "\n",
              "    .colab-df-convert {\n",
              "      background-color: #E8F0FE;\n",
              "      border: none;\n",
              "      border-radius: 50%;\n",
              "      cursor: pointer;\n",
              "      display: none;\n",
              "      fill: #1967D2;\n",
              "      height: 32px;\n",
              "      padding: 0 0 0 0;\n",
              "      width: 32px;\n",
              "    }\n",
              "\n",
              "    .colab-df-convert:hover {\n",
              "      background-color: #E2EBFA;\n",
              "      box-shadow: 0px 1px 2px rgba(60, 64, 67, 0.3), 0px 1px 3px 1px rgba(60, 64, 67, 0.15);\n",
              "      fill: #174EA6;\n",
              "    }\n",
              "\n",
              "    [theme=dark] .colab-df-convert {\n",
              "      background-color: #3B4455;\n",
              "      fill: #D2E3FC;\n",
              "    }\n",
              "\n",
              "    [theme=dark] .colab-df-convert:hover {\n",
              "      background-color: #434B5C;\n",
              "      box-shadow: 0px 1px 3px 1px rgba(0, 0, 0, 0.15);\n",
              "      filter: drop-shadow(0px 1px 2px rgba(0, 0, 0, 0.3));\n",
              "      fill: #FFFFFF;\n",
              "    }\n",
              "  </style>\n",
              "\n",
              "      <script>\n",
              "        const buttonEl =\n",
              "          document.querySelector('#df-fdee6925-804d-4c94-a5bd-33e036a44f65 button.colab-df-convert');\n",
              "        buttonEl.style.display =\n",
              "          google.colab.kernel.accessAllowed ? 'block' : 'none';\n",
              "\n",
              "        async function convertToInteractive(key) {\n",
              "          const element = document.querySelector('#df-fdee6925-804d-4c94-a5bd-33e036a44f65');\n",
              "          const dataTable =\n",
              "            await google.colab.kernel.invokeFunction('convertToInteractive',\n",
              "                                                     [key], {});\n",
              "          if (!dataTable) return;\n",
              "\n",
              "          const docLinkHtml = 'Like what you see? Visit the ' +\n",
              "            '<a target=\"_blank\" href=https://colab.research.google.com/notebooks/data_table.ipynb>data table notebook</a>'\n",
              "            + ' to learn more about interactive tables.';\n",
              "          element.innerHTML = '';\n",
              "          dataTable['output_type'] = 'display_data';\n",
              "          await google.colab.output.renderOutput(dataTable, element);\n",
              "          const docLink = document.createElement('div');\n",
              "          docLink.innerHTML = docLinkHtml;\n",
              "          element.appendChild(docLink);\n",
              "        }\n",
              "      </script>\n",
              "    </div>\n",
              "  </div>\n",
              "  "
            ],
            "text/plain": [
              "     v1  ... Unnamed: 4\n",
              "0   ham  ...        NaN\n",
              "1   ham  ...        NaN\n",
              "2  spam  ...        NaN\n",
              "3   ham  ...        NaN\n",
              "4   ham  ...        NaN\n",
              "\n",
              "[5 rows x 5 columns]"
            ]
          },
          "metadata": {},
          "execution_count": 1
        }
      ]
    },
    {
      "cell_type": "markdown",
      "source": [
        "여기서 Unnamed라는 이름의 3개의 열에서 Null 값이 보입니다. v1열은 해당 메일이 스팸인지 아닌지를 나타내는 레이블에 해당되는 열입니다. ham은 정상 메일을 의미하고, spam은 스팸 메일을 의미합니다. v2열은 메일의 본문을 담고있습니다."
      ],
      "metadata": {
        "id": "_kZlMOoKcCWF"
      }
    },
    {
      "cell_type": "markdown",
      "source": [
        "### **2. 리포트 생성하기-근데 절대 안 된다 드르렁~**"
      ],
      "metadata": {
        "id": "KvDCKifncYma"
      }
    },
    {
      "cell_type": "code",
      "source": [
        "pip install -U pandas-profiling"
      ],
      "metadata": {
        "colab": {
          "base_uri": "https://localhost:8080/",
          "height": 1000
        },
        "id": "wYNHR9UicfLy",
        "outputId": "32b1c514-439b-4d5a-ca9c-bcddd1e9555e"
      },
      "execution_count": 2,
      "outputs": [
        {
          "output_type": "stream",
          "name": "stdout",
          "text": [
            "Requirement already satisfied: pandas-profiling in /usr/local/lib/python3.7/dist-packages (1.4.1)\n",
            "Collecting pandas-profiling\n",
            "  Downloading pandas_profiling-3.1.0-py2.py3-none-any.whl (261 kB)\n",
            "\u001b[K     |████████████████████████████████| 261 kB 5.4 MB/s \n",
            "\u001b[?25hCollecting joblib~=1.0.1\n",
            "  Downloading joblib-1.0.1-py3-none-any.whl (303 kB)\n",
            "\u001b[K     |████████████████████████████████| 303 kB 44.0 MB/s \n",
            "\u001b[?25hRequirement already satisfied: pandas!=1.0.0,!=1.0.1,!=1.0.2,!=1.1.0,>=0.25.3 in /usr/local/lib/python3.7/dist-packages (from pandas-profiling) (1.3.5)\n",
            "Collecting visions[type_image_path]==0.7.4\n",
            "  Downloading visions-0.7.4-py3-none-any.whl (102 kB)\n",
            "\u001b[K     |████████████████████████████████| 102 kB 12.1 MB/s \n",
            "\u001b[?25hRequirement already satisfied: tqdm>=4.48.2 in /usr/local/lib/python3.7/dist-packages (from pandas-profiling) (4.62.3)\n",
            "Collecting htmlmin>=0.1.12\n",
            "  Downloading htmlmin-0.1.12.tar.gz (19 kB)\n",
            "Collecting phik>=0.11.1\n",
            "  Downloading phik-0.12.0-cp37-cp37m-manylinux2010_x86_64.whl (675 kB)\n",
            "\u001b[K     |████████████████████████████████| 675 kB 29.2 MB/s \n",
            "\u001b[?25hCollecting PyYAML>=5.0.0\n",
            "  Downloading PyYAML-6.0-cp37-cp37m-manylinux_2_5_x86_64.manylinux1_x86_64.manylinux_2_12_x86_64.manylinux2010_x86_64.whl (596 kB)\n",
            "\u001b[K     |████████████████████████████████| 596 kB 44.5 MB/s \n",
            "\u001b[?25hRequirement already satisfied: missingno>=0.4.2 in /usr/local/lib/python3.7/dist-packages (from pandas-profiling) (0.5.0)\n",
            "Collecting multimethod>=1.4\n",
            "  Downloading multimethod-1.7-py3-none-any.whl (9.5 kB)\n",
            "Requirement already satisfied: matplotlib>=3.2.0 in /usr/local/lib/python3.7/dist-packages (from pandas-profiling) (3.2.2)\n",
            "Requirement already satisfied: markupsafe~=2.0.1 in /usr/local/lib/python3.7/dist-packages (from pandas-profiling) (2.0.1)\n",
            "Collecting requests>=2.24.0\n",
            "  Downloading requests-2.27.1-py2.py3-none-any.whl (63 kB)\n",
            "\u001b[K     |████████████████████████████████| 63 kB 1.6 MB/s \n",
            "\u001b[?25hRequirement already satisfied: numpy>=1.16.0 in /usr/local/lib/python3.7/dist-packages (from pandas-profiling) (1.21.5)\n",
            "Collecting tangled-up-in-unicode==0.1.0\n",
            "  Downloading tangled_up_in_unicode-0.1.0-py3-none-any.whl (3.1 MB)\n",
            "\u001b[K     |████████████████████████████████| 3.1 MB 38.5 MB/s \n",
            "\u001b[?25hRequirement already satisfied: seaborn>=0.10.1 in /usr/local/lib/python3.7/dist-packages (from pandas-profiling) (0.11.2)\n",
            "Requirement already satisfied: scipy>=1.4.1 in /usr/local/lib/python3.7/dist-packages (from pandas-profiling) (1.4.1)\n",
            "Collecting pydantic>=1.8.1\n",
            "  Downloading pydantic-1.9.0-cp37-cp37m-manylinux_2_17_x86_64.manylinux2014_x86_64.whl (10.9 MB)\n",
            "\u001b[K     |████████████████████████████████| 10.9 MB 31.1 MB/s \n",
            "\u001b[?25hRequirement already satisfied: jinja2>=2.11.1 in /usr/local/lib/python3.7/dist-packages (from pandas-profiling) (2.11.3)\n",
            "Requirement already satisfied: networkx>=2.4 in /usr/local/lib/python3.7/dist-packages (from visions[type_image_path]==0.7.4->pandas-profiling) (2.6.3)\n",
            "Requirement already satisfied: attrs>=19.3.0 in /usr/local/lib/python3.7/dist-packages (from visions[type_image_path]==0.7.4->pandas-profiling) (21.4.0)\n",
            "Requirement already satisfied: Pillow in /usr/local/lib/python3.7/dist-packages (from visions[type_image_path]==0.7.4->pandas-profiling) (7.1.2)\n",
            "Collecting imagehash\n",
            "  Downloading ImageHash-4.2.1.tar.gz (812 kB)\n",
            "\u001b[K     |████████████████████████████████| 812 kB 58.6 MB/s \n",
            "\u001b[?25hRequirement already satisfied: pyparsing!=2.0.4,!=2.1.2,!=2.1.6,>=2.0.1 in /usr/local/lib/python3.7/dist-packages (from matplotlib>=3.2.0->pandas-profiling) (3.0.7)\n",
            "Requirement already satisfied: cycler>=0.10 in /usr/local/lib/python3.7/dist-packages (from matplotlib>=3.2.0->pandas-profiling) (0.11.0)\n",
            "Requirement already satisfied: kiwisolver>=1.0.1 in /usr/local/lib/python3.7/dist-packages (from matplotlib>=3.2.0->pandas-profiling) (1.3.2)\n",
            "Requirement already satisfied: python-dateutil>=2.1 in /usr/local/lib/python3.7/dist-packages (from matplotlib>=3.2.0->pandas-profiling) (2.8.2)\n",
            "Requirement already satisfied: pytz>=2017.3 in /usr/local/lib/python3.7/dist-packages (from pandas!=1.0.0,!=1.0.1,!=1.0.2,!=1.1.0,>=0.25.3->pandas-profiling) (2018.9)\n",
            "Collecting scipy>=1.4.1\n",
            "  Downloading scipy-1.7.3-cp37-cp37m-manylinux_2_12_x86_64.manylinux2010_x86_64.whl (38.1 MB)\n",
            "\u001b[K     |████████████████████████████████| 38.1 MB 1.4 MB/s \n",
            "\u001b[?25hRequirement already satisfied: typing-extensions>=3.7.4.3 in /usr/local/lib/python3.7/dist-packages (from pydantic>=1.8.1->pandas-profiling) (3.10.0.2)\n",
            "Requirement already satisfied: six>=1.5 in /usr/local/lib/python3.7/dist-packages (from python-dateutil>=2.1->matplotlib>=3.2.0->pandas-profiling) (1.15.0)\n",
            "Requirement already satisfied: urllib3<1.27,>=1.21.1 in /usr/local/lib/python3.7/dist-packages (from requests>=2.24.0->pandas-profiling) (1.24.3)\n",
            "Requirement already satisfied: charset-normalizer~=2.0.0 in /usr/local/lib/python3.7/dist-packages (from requests>=2.24.0->pandas-profiling) (2.0.11)\n",
            "Requirement already satisfied: idna<4,>=2.5 in /usr/local/lib/python3.7/dist-packages (from requests>=2.24.0->pandas-profiling) (2.10)\n",
            "Requirement already satisfied: certifi>=2017.4.17 in /usr/local/lib/python3.7/dist-packages (from requests>=2.24.0->pandas-profiling) (2021.10.8)\n",
            "Requirement already satisfied: PyWavelets in /usr/local/lib/python3.7/dist-packages (from imagehash->visions[type_image_path]==0.7.4->pandas-profiling) (1.2.0)\n",
            "Building wheels for collected packages: htmlmin, imagehash\n",
            "  Building wheel for htmlmin (setup.py) ... \u001b[?25l\u001b[?25hdone\n",
            "  Created wheel for htmlmin: filename=htmlmin-0.1.12-py3-none-any.whl size=27098 sha256=64e566e7cbeca4f3d6511be341e543458f0361eaaf0dd63f97d5f029516b784b\n",
            "  Stored in directory: /root/.cache/pip/wheels/70/e1/52/5b14d250ba868768823940c3229e9950d201a26d0bd3ee8655\n",
            "  Building wheel for imagehash (setup.py) ... \u001b[?25l\u001b[?25hdone\n",
            "  Created wheel for imagehash: filename=ImageHash-4.2.1-py2.py3-none-any.whl size=295206 sha256=8d0d10d21fdbedf57e73f6a70dc38b52053e929336e83e5d881c21cb41237e68\n",
            "  Stored in directory: /root/.cache/pip/wheels/4c/d5/59/5e3e297533ddb09407769762985d134135064c6831e29a914e\n",
            "Successfully built htmlmin imagehash\n",
            "Installing collected packages: tangled-up-in-unicode, scipy, multimethod, visions, joblib, imagehash, requests, PyYAML, pydantic, phik, htmlmin, pandas-profiling\n",
            "  Attempting uninstall: scipy\n",
            "    Found existing installation: scipy 1.4.1\n",
            "    Uninstalling scipy-1.4.1:\n",
            "      Successfully uninstalled scipy-1.4.1\n",
            "  Attempting uninstall: joblib\n",
            "    Found existing installation: joblib 1.1.0\n",
            "    Uninstalling joblib-1.1.0:\n",
            "      Successfully uninstalled joblib-1.1.0\n",
            "  Attempting uninstall: requests\n",
            "    Found existing installation: requests 2.23.0\n",
            "    Uninstalling requests-2.23.0:\n",
            "      Successfully uninstalled requests-2.23.0\n",
            "  Attempting uninstall: PyYAML\n",
            "    Found existing installation: PyYAML 3.13\n",
            "    Uninstalling PyYAML-3.13:\n",
            "      Successfully uninstalled PyYAML-3.13\n",
            "  Attempting uninstall: pandas-profiling\n",
            "    Found existing installation: pandas-profiling 1.4.1\n",
            "    Uninstalling pandas-profiling-1.4.1:\n",
            "      Successfully uninstalled pandas-profiling-1.4.1\n",
            "\u001b[31mERROR: pip's dependency resolver does not currently take into account all the packages that are installed. This behaviour is the source of the following dependency conflicts.\n",
            "google-colab 1.0.0 requires requests~=2.23.0, but you have requests 2.27.1 which is incompatible.\n",
            "datascience 0.10.6 requires folium==0.2.1, but you have folium 0.8.3 which is incompatible.\n",
            "albumentations 0.1.12 requires imgaug<0.2.7,>=0.2.5, but you have imgaug 0.2.9 which is incompatible.\u001b[0m\n",
            "Successfully installed PyYAML-6.0 htmlmin-0.1.12 imagehash-4.2.1 joblib-1.0.1 multimethod-1.7 pandas-profiling-3.1.0 phik-0.12.0 pydantic-1.9.0 requests-2.27.1 scipy-1.7.3 tangled-up-in-unicode-0.1.0 visions-0.7.4\n"
          ]
        },
        {
          "output_type": "display_data",
          "data": {
            "application/vnd.colab-display-data+json": {
              "pip_warning": {
                "packages": [
                  "pandas_profiling"
                ]
              }
            }
          },
          "metadata": {}
        }
      ]
    },
    {
      "cell_type": "code",
      "source": [
        "!pip install -U pandas-profiling"
      ],
      "metadata": {
        "colab": {
          "base_uri": "https://localhost:8080/"
        },
        "id": "davsVarld6mM",
        "outputId": "0dc484a6-850d-4be1-cddb-e0bf157d4aa9"
      },
      "execution_count": 3,
      "outputs": [
        {
          "output_type": "stream",
          "name": "stdout",
          "text": [
            "Requirement already satisfied: pandas-profiling in /usr/local/lib/python3.7/dist-packages (3.1.0)\n",
            "Requirement already satisfied: seaborn>=0.10.1 in /usr/local/lib/python3.7/dist-packages (from pandas-profiling) (0.11.2)\n",
            "Requirement already satisfied: htmlmin>=0.1.12 in /usr/local/lib/python3.7/dist-packages (from pandas-profiling) (0.1.12)\n",
            "Requirement already satisfied: missingno>=0.4.2 in /usr/local/lib/python3.7/dist-packages (from pandas-profiling) (0.5.0)\n",
            "Requirement already satisfied: pydantic>=1.8.1 in /usr/local/lib/python3.7/dist-packages (from pandas-profiling) (1.9.0)\n",
            "Requirement already satisfied: tangled-up-in-unicode==0.1.0 in /usr/local/lib/python3.7/dist-packages (from pandas-profiling) (0.1.0)\n",
            "Requirement already satisfied: matplotlib>=3.2.0 in /usr/local/lib/python3.7/dist-packages (from pandas-profiling) (3.2.2)\n",
            "Requirement already satisfied: tqdm>=4.48.2 in /usr/local/lib/python3.7/dist-packages (from pandas-profiling) (4.62.3)\n",
            "Requirement already satisfied: scipy>=1.4.1 in /usr/local/lib/python3.7/dist-packages (from pandas-profiling) (1.7.3)\n",
            "Requirement already satisfied: markupsafe~=2.0.1 in /usr/local/lib/python3.7/dist-packages (from pandas-profiling) (2.0.1)\n",
            "Requirement already satisfied: jinja2>=2.11.1 in /usr/local/lib/python3.7/dist-packages (from pandas-profiling) (2.11.3)\n",
            "Requirement already satisfied: visions[type_image_path]==0.7.4 in /usr/local/lib/python3.7/dist-packages (from pandas-profiling) (0.7.4)\n",
            "Requirement already satisfied: numpy>=1.16.0 in /usr/local/lib/python3.7/dist-packages (from pandas-profiling) (1.21.5)\n",
            "Requirement already satisfied: phik>=0.11.1 in /usr/local/lib/python3.7/dist-packages (from pandas-profiling) (0.12.0)\n",
            "Requirement already satisfied: joblib~=1.0.1 in /usr/local/lib/python3.7/dist-packages (from pandas-profiling) (1.0.1)\n",
            "Requirement already satisfied: requests>=2.24.0 in /usr/local/lib/python3.7/dist-packages (from pandas-profiling) (2.27.1)\n",
            "Requirement already satisfied: multimethod>=1.4 in /usr/local/lib/python3.7/dist-packages (from pandas-profiling) (1.7)\n",
            "Requirement already satisfied: PyYAML>=5.0.0 in /usr/local/lib/python3.7/dist-packages (from pandas-profiling) (6.0)\n",
            "Requirement already satisfied: pandas!=1.0.0,!=1.0.1,!=1.0.2,!=1.1.0,>=0.25.3 in /usr/local/lib/python3.7/dist-packages (from pandas-profiling) (1.3.5)\n",
            "Requirement already satisfied: networkx>=2.4 in /usr/local/lib/python3.7/dist-packages (from visions[type_image_path]==0.7.4->pandas-profiling) (2.6.3)\n",
            "Requirement already satisfied: attrs>=19.3.0 in /usr/local/lib/python3.7/dist-packages (from visions[type_image_path]==0.7.4->pandas-profiling) (21.4.0)\n",
            "Requirement already satisfied: imagehash in /usr/local/lib/python3.7/dist-packages (from visions[type_image_path]==0.7.4->pandas-profiling) (4.2.1)\n",
            "Requirement already satisfied: Pillow in /usr/local/lib/python3.7/dist-packages (from visions[type_image_path]==0.7.4->pandas-profiling) (7.1.2)\n",
            "Requirement already satisfied: python-dateutil>=2.1 in /usr/local/lib/python3.7/dist-packages (from matplotlib>=3.2.0->pandas-profiling) (2.8.2)\n",
            "Requirement already satisfied: kiwisolver>=1.0.1 in /usr/local/lib/python3.7/dist-packages (from matplotlib>=3.2.0->pandas-profiling) (1.3.2)\n",
            "Requirement already satisfied: pyparsing!=2.0.4,!=2.1.2,!=2.1.6,>=2.0.1 in /usr/local/lib/python3.7/dist-packages (from matplotlib>=3.2.0->pandas-profiling) (3.0.7)\n",
            "Requirement already satisfied: cycler>=0.10 in /usr/local/lib/python3.7/dist-packages (from matplotlib>=3.2.0->pandas-profiling) (0.11.0)\n",
            "Requirement already satisfied: pytz>=2017.3 in /usr/local/lib/python3.7/dist-packages (from pandas!=1.0.0,!=1.0.1,!=1.0.2,!=1.1.0,>=0.25.3->pandas-profiling) (2018.9)\n",
            "Requirement already satisfied: typing-extensions>=3.7.4.3 in /usr/local/lib/python3.7/dist-packages (from pydantic>=1.8.1->pandas-profiling) (3.10.0.2)\n",
            "Requirement already satisfied: six>=1.5 in /usr/local/lib/python3.7/dist-packages (from python-dateutil>=2.1->matplotlib>=3.2.0->pandas-profiling) (1.15.0)\n",
            "Requirement already satisfied: urllib3<1.27,>=1.21.1 in /usr/local/lib/python3.7/dist-packages (from requests>=2.24.0->pandas-profiling) (1.24.3)\n",
            "Requirement already satisfied: certifi>=2017.4.17 in /usr/local/lib/python3.7/dist-packages (from requests>=2.24.0->pandas-profiling) (2021.10.8)\n",
            "Requirement already satisfied: charset-normalizer~=2.0.0 in /usr/local/lib/python3.7/dist-packages (from requests>=2.24.0->pandas-profiling) (2.0.11)\n",
            "Requirement already satisfied: idna<4,>=2.5 in /usr/local/lib/python3.7/dist-packages (from requests>=2.24.0->pandas-profiling) (2.10)\n",
            "Requirement already satisfied: PyWavelets in /usr/local/lib/python3.7/dist-packages (from imagehash->visions[type_image_path]==0.7.4->pandas-profiling) (1.2.0)\n"
          ]
        }
      ]
    },
    {
      "cell_type": "code",
      "source": [
        "!pip show pandas_profiling"
      ],
      "metadata": {
        "colab": {
          "base_uri": "https://localhost:8080/"
        },
        "id": "nR3mZJ2x47CX",
        "outputId": "fdd85c04-e8c6-444b-9fae-a3fa7fc8d443"
      },
      "execution_count": 7,
      "outputs": [
        {
          "output_type": "stream",
          "name": "stdout",
          "text": [
            "Name: pandas-profiling\n",
            "Version: 3.1.0\n",
            "Summary: Generate profile report for pandas DataFrame\n",
            "Home-page: https://github.com/pandas-profiling/pandas-profiling\n",
            "Author: Simon Brugman\n",
            "Author-email: pandasprofiling@gmail.com\n",
            "License: MIT\n",
            "Location: /usr/local/lib/python3.7/dist-packages\n",
            "Requires: tqdm, joblib, markupsafe, htmlmin, PyYAML, requests, scipy, jinja2, pydantic, tangled-up-in-unicode, visions, missingno, multimethod, phik, matplotlib, seaborn, numpy, pandas\n",
            "Required-by: \n"
          ]
        }
      ]
    },
    {
      "cell_type": "code",
      "source": [
        "pip uninstall pandas-profiling"
      ],
      "metadata": {
        "colab": {
          "base_uri": "https://localhost:8080/"
        },
        "id": "zINyBvK85xDh",
        "outputId": "985dc22c-5541-49f1-f38d-05d9c183f035"
      },
      "execution_count": 10,
      "outputs": [
        {
          "output_type": "stream",
          "name": "stdout",
          "text": [
            "Found existing installation: pandas-profiling 3.1.0\n",
            "Uninstalling pandas-profiling-3.1.0:\n",
            "  Would remove:\n",
            "    /usr/local/bin/pandas_profiling\n",
            "    /usr/local/lib/python3.7/dist-packages/pandas_profiling-3.1.0.dist-info/*\n",
            "    /usr/local/lib/python3.7/dist-packages/pandas_profiling/*\n",
            "Proceed (y/n)? ㅛ\n",
            "Your response ('ㅛ') was not one of the expected responses: y, n\n",
            "Proceed (y/n)? y\n",
            "  Successfully uninstalled pandas-profiling-3.1.0\n"
          ]
        }
      ]
    },
    {
      "cell_type": "code",
      "source": [
        "pip install pandas-profiling"
      ],
      "metadata": {
        "colab": {
          "base_uri": "https://localhost:8080/",
          "height": 769
        },
        "id": "Cy4_Eou04yXD",
        "outputId": "44401200-af1c-486e-95a3-371dc9d979fc"
      },
      "execution_count": 11,
      "outputs": [
        {
          "output_type": "stream",
          "name": "stdout",
          "text": [
            "Collecting pandas-profiling\n",
            "  Using cached pandas_profiling-3.1.0-py2.py3-none-any.whl (261 kB)\n",
            "Requirement already satisfied: pandas!=1.0.0,!=1.0.1,!=1.0.2,!=1.1.0,>=0.25.3 in /usr/local/lib/python3.7/dist-packages (from pandas-profiling) (1.3.5)\n",
            "Requirement already satisfied: scipy>=1.4.1 in /usr/local/lib/python3.7/dist-packages (from pandas-profiling) (1.7.3)\n",
            "Requirement already satisfied: jinja2>=2.11.1 in /usr/local/lib/python3.7/dist-packages (from pandas-profiling) (2.11.3)\n",
            "Requirement already satisfied: markupsafe~=2.0.1 in /usr/local/lib/python3.7/dist-packages (from pandas-profiling) (2.0.1)\n",
            "Requirement already satisfied: phik>=0.11.1 in /usr/local/lib/python3.7/dist-packages (from pandas-profiling) (0.12.0)\n",
            "Requirement already satisfied: joblib~=1.0.1 in /usr/local/lib/python3.7/dist-packages (from pandas-profiling) (1.0.1)\n",
            "Requirement already satisfied: matplotlib>=3.2.0 in /usr/local/lib/python3.7/dist-packages (from pandas-profiling) (3.2.2)\n",
            "Requirement already satisfied: PyYAML>=5.0.0 in /usr/local/lib/python3.7/dist-packages (from pandas-profiling) (6.0)\n",
            "Requirement already satisfied: seaborn>=0.10.1 in /usr/local/lib/python3.7/dist-packages (from pandas-profiling) (0.11.2)\n",
            "Requirement already satisfied: multimethod>=1.4 in /usr/local/lib/python3.7/dist-packages (from pandas-profiling) (1.7)\n",
            "Requirement already satisfied: tqdm>=4.48.2 in /usr/local/lib/python3.7/dist-packages (from pandas-profiling) (4.62.3)\n",
            "Requirement already satisfied: visions[type_image_path]==0.7.4 in /usr/local/lib/python3.7/dist-packages (from pandas-profiling) (0.7.4)\n",
            "Requirement already satisfied: htmlmin>=0.1.12 in /usr/local/lib/python3.7/dist-packages (from pandas-profiling) (0.1.12)\n",
            "Requirement already satisfied: tangled-up-in-unicode==0.1.0 in /usr/local/lib/python3.7/dist-packages (from pandas-profiling) (0.1.0)\n",
            "Requirement already satisfied: pydantic>=1.8.1 in /usr/local/lib/python3.7/dist-packages (from pandas-profiling) (1.9.0)\n",
            "Requirement already satisfied: requests>=2.24.0 in /usr/local/lib/python3.7/dist-packages (from pandas-profiling) (2.27.1)\n",
            "Requirement already satisfied: missingno>=0.4.2 in /usr/local/lib/python3.7/dist-packages (from pandas-profiling) (0.5.0)\n",
            "Requirement already satisfied: numpy>=1.16.0 in /usr/local/lib/python3.7/dist-packages (from pandas-profiling) (1.21.5)\n",
            "Requirement already satisfied: attrs>=19.3.0 in /usr/local/lib/python3.7/dist-packages (from visions[type_image_path]==0.7.4->pandas-profiling) (21.4.0)\n",
            "Requirement already satisfied: networkx>=2.4 in /usr/local/lib/python3.7/dist-packages (from visions[type_image_path]==0.7.4->pandas-profiling) (2.6.3)\n",
            "Requirement already satisfied: imagehash in /usr/local/lib/python3.7/dist-packages (from visions[type_image_path]==0.7.4->pandas-profiling) (4.2.1)\n",
            "Requirement already satisfied: Pillow in /usr/local/lib/python3.7/dist-packages (from visions[type_image_path]==0.7.4->pandas-profiling) (7.1.2)\n",
            "Requirement already satisfied: pyparsing!=2.0.4,!=2.1.2,!=2.1.6,>=2.0.1 in /usr/local/lib/python3.7/dist-packages (from matplotlib>=3.2.0->pandas-profiling) (3.0.7)\n",
            "Requirement already satisfied: cycler>=0.10 in /usr/local/lib/python3.7/dist-packages (from matplotlib>=3.2.0->pandas-profiling) (0.11.0)\n",
            "Requirement already satisfied: python-dateutil>=2.1 in /usr/local/lib/python3.7/dist-packages (from matplotlib>=3.2.0->pandas-profiling) (2.8.2)\n",
            "Requirement already satisfied: kiwisolver>=1.0.1 in /usr/local/lib/python3.7/dist-packages (from matplotlib>=3.2.0->pandas-profiling) (1.3.2)\n",
            "Requirement already satisfied: pytz>=2017.3 in /usr/local/lib/python3.7/dist-packages (from pandas!=1.0.0,!=1.0.1,!=1.0.2,!=1.1.0,>=0.25.3->pandas-profiling) (2018.9)\n",
            "Requirement already satisfied: typing-extensions>=3.7.4.3 in /usr/local/lib/python3.7/dist-packages (from pydantic>=1.8.1->pandas-profiling) (3.10.0.2)\n",
            "Requirement already satisfied: six>=1.5 in /usr/local/lib/python3.7/dist-packages (from python-dateutil>=2.1->matplotlib>=3.2.0->pandas-profiling) (1.15.0)\n",
            "Requirement already satisfied: idna<4,>=2.5 in /usr/local/lib/python3.7/dist-packages (from requests>=2.24.0->pandas-profiling) (2.10)\n",
            "Requirement already satisfied: charset-normalizer~=2.0.0 in /usr/local/lib/python3.7/dist-packages (from requests>=2.24.0->pandas-profiling) (2.0.11)\n",
            "Requirement already satisfied: urllib3<1.27,>=1.21.1 in /usr/local/lib/python3.7/dist-packages (from requests>=2.24.0->pandas-profiling) (1.24.3)\n",
            "Requirement already satisfied: certifi>=2017.4.17 in /usr/local/lib/python3.7/dist-packages (from requests>=2.24.0->pandas-profiling) (2021.10.8)\n",
            "Requirement already satisfied: PyWavelets in /usr/local/lib/python3.7/dist-packages (from imagehash->visions[type_image_path]==0.7.4->pandas-profiling) (1.2.0)\n",
            "Installing collected packages: pandas-profiling\n",
            "Successfully installed pandas-profiling-3.1.0\n"
          ]
        },
        {
          "output_type": "display_data",
          "data": {
            "application/vnd.colab-display-data+json": {
              "pip_warning": {
                "packages": [
                  "pandas_profiling"
                ]
              }
            }
          },
          "metadata": {}
        }
      ]
    },
    {
      "cell_type": "code",
      "source": [
        "pr=data.profile_report() # 프로파일링 결과 리포트를 pr에 저장\n",
        "# pandas_profiling.describe_df(data)\n",
        "# data.profile_report() # 바로 결과 보기"
      ],
      "metadata": {
        "colab": {
          "base_uri": "https://localhost:8080/",
          "height": 368
        },
        "id": "TjjdVhC5b7zY",
        "outputId": "da06b621-f058-405d-f159-459581b5ee3c"
      },
      "execution_count": 12,
      "outputs": [
        {
          "output_type": "error",
          "ename": "AttributeError",
          "evalue": "ignored",
          "traceback": [
            "\u001b[0;31m---------------------------------------------------------------------------\u001b[0m",
            "\u001b[0;31mAttributeError\u001b[0m                            Traceback (most recent call last)",
            "\u001b[0;32m<ipython-input-12-9bcae3125410>\u001b[0m in \u001b[0;36m<module>\u001b[0;34m()\u001b[0m\n\u001b[0;32m----> 1\u001b[0;31m \u001b[0mpr\u001b[0m\u001b[0;34m=\u001b[0m\u001b[0mdata\u001b[0m\u001b[0;34m.\u001b[0m\u001b[0mprofile_report\u001b[0m\u001b[0;34m(\u001b[0m\u001b[0;34m)\u001b[0m \u001b[0;31m# 프로파일링 결과 리포트를 pr에 저장\u001b[0m\u001b[0;34m\u001b[0m\u001b[0;34m\u001b[0m\u001b[0m\n\u001b[0m\u001b[1;32m      2\u001b[0m \u001b[0;31m# pandas_profiling.describe_df(data)\u001b[0m\u001b[0;34m\u001b[0m\u001b[0;34m\u001b[0m\u001b[0;34m\u001b[0m\u001b[0m\n\u001b[1;32m      3\u001b[0m \u001b[0;31m# data.profile_report() # 바로 결과 보기\u001b[0m\u001b[0;34m\u001b[0m\u001b[0;34m\u001b[0m\u001b[0;34m\u001b[0m\u001b[0m\n",
            "\u001b[0;32m/usr/local/lib/python3.7/dist-packages/pandas/core/generic.py\u001b[0m in \u001b[0;36m__getattr__\u001b[0;34m(self, name)\u001b[0m\n\u001b[1;32m   5485\u001b[0m         ):\n\u001b[1;32m   5486\u001b[0m             \u001b[0;32mreturn\u001b[0m \u001b[0mself\u001b[0m\u001b[0;34m[\u001b[0m\u001b[0mname\u001b[0m\u001b[0;34m]\u001b[0m\u001b[0;34m\u001b[0m\u001b[0;34m\u001b[0m\u001b[0m\n\u001b[0;32m-> 5487\u001b[0;31m         \u001b[0;32mreturn\u001b[0m \u001b[0mobject\u001b[0m\u001b[0;34m.\u001b[0m\u001b[0m__getattribute__\u001b[0m\u001b[0;34m(\u001b[0m\u001b[0mself\u001b[0m\u001b[0;34m,\u001b[0m \u001b[0mname\u001b[0m\u001b[0;34m)\u001b[0m\u001b[0;34m\u001b[0m\u001b[0;34m\u001b[0m\u001b[0m\n\u001b[0m\u001b[1;32m   5488\u001b[0m \u001b[0;34m\u001b[0m\u001b[0m\n\u001b[1;32m   5489\u001b[0m     \u001b[0;32mdef\u001b[0m \u001b[0m__setattr__\u001b[0m\u001b[0;34m(\u001b[0m\u001b[0mself\u001b[0m\u001b[0;34m,\u001b[0m \u001b[0mname\u001b[0m\u001b[0;34m:\u001b[0m \u001b[0mstr\u001b[0m\u001b[0;34m,\u001b[0m \u001b[0mvalue\u001b[0m\u001b[0;34m)\u001b[0m \u001b[0;34m->\u001b[0m \u001b[0;32mNone\u001b[0m\u001b[0;34m:\u001b[0m\u001b[0;34m\u001b[0m\u001b[0;34m\u001b[0m\u001b[0m\n",
            "\u001b[0;31mAttributeError\u001b[0m: 'DataFrame' object has no attribute 'profile_report'"
          ]
        }
      ]
    },
    {
      "cell_type": "markdown",
      "source": [
        "### **3. 리포트 살펴보기**\n",
        "\n",
        "이제 저장할 리포트를 주피터 노트북에 출력하여 리포트 내용을 살펴보겠습니다.\n",
        "\n",
        "\n",
        "```\n",
        "pr # pr에 저장했던 리포트 출력\n",
        "```\n",
        "\n",
        "\n"
      ],
      "metadata": {
        "id": "sVARuIjJ8OfR"
      }
    },
    {
      "cell_type": "markdown",
      "source": [
        "1) 개요(Overview)\n",
        "\n",
        "Overview는 데이터의 전체적인 개요를 보여줍니다. 데이터의 크기, 변수의 수, 결측값(missing value) 비율, 데이터의 종류는 어떤 것이 있는지를 볼 수 있습니다.\n",
        "\n",
        "![image.png](data:image/png;base64,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)\n",
        "\n",
        "Dataset info를 보겠습니다. 해당 데이터는 총 5,572개의 샘플(행)을 가지고 있으며, 5개의 열을 가지고 있습니다. 하나의 값을 셀이라고 하였을 때, 총 5,572 × 5개의 셀이 존재하지만 그 중 16,648개(59.8%)가 결측값(missing values)으로 확인됩니다.\n",
        "\n",
        "Warnings를 보면 사실 결측값들은 Unnamed라는 3개의 열에 존재합니다. 3개의 열 모두는 99% 이상이 결측값을 갖고 있어 데이터에서 별다른 의미를 갖지 못합니다. 앞서 메일의 본문을 의미한다고 했던 v2열은 총 5,169개의 중복되지 않은 값(distinct value)을 갖고있습니다. 총 샘플의 개수가 5,572개인것을 감안하면 403개의 메일은 중복이 존재한다는 의미입니다."
      ],
      "metadata": {
        "id": "meZl-BpN8LmG"
      }
    },
    {
      "cell_type": "markdown",
      "source": [
        "2) 변수(Variables)\n",
        "\n",
        "변수(Variables)는 데이터에 존재하는 모든 특성 변수들에 대한 결측값, 중복을 제외한 유일한 값(unique values)의 개수 등의 통계치를 보여줍니다. 또한 상위 5개의 값에 대해서는 우측에 바 그래프로 시각화한 결과를 제공합니다.\n",
        "\n",
        "![image.png](data:image/png;base64,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)\n",
        "\n",
        "우선 Unnamed라는 이름을 가진 3개의 열에 대해서 보겠습니다. 앞서 개요에서 봤듯이 3개의 열 모두 99% 이상의 값이 결측값입니다. 예를 들어 Unnamed_2 열은 총 5,572개의 값 중에서 5,522개가 결측값입니다. 이는 총 50개의 결측값이 아닌 값이 존재함을 의미합니다. 그리고 그 중 중복을 제거한 유일한 값의 개수는 44개입니다.\n",
        "\n",
        "![image.png](data:image/png;base64,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)\n",
        "\n",
        "이번에는 다른 2개의 열인 v1과 v2를 보겠습니다. v2는 메일의 본문이고, v1은 해당 메일이 정상 메일(ham)인지, 스팸 메일(spam)인지 유무가 기재되어져 있습니다. v1의 경우 유일한 값의 개수(distinct count)가 2개뿐으로 5,572개의 값 중에서 우측의 바 그래프를 통해 4,825개가 ham이고 747개가 spam인 것을 알 수 있습니다. 이는 데이터에서 정상 메일 샘플이 훨씬 많다는 것을 보여줍니다. v2의 경우 5,572개의 메일 본문 중에서 중복을 제외하면 5,169개의 유일한 내용의 메일 본문을 갖고 있습니다. 그 중 중복이 가장 많은 메일은 Sorry, I'll call later라는 내용의 메일로 총 30개의 메일이 존재합니다.\n",
        "\n",
        "또한 v1과 v2 모두 결측값(missing values)은 존재하지 않는데, 이는 결과적으로 데이터 전처리를 수행할 때, Unnamed라는 3개의 열을 제거하고 나서는 별도의 결측값 전처리는 필요가 없음을 의미합니다.\n",
        "\n",
        "이번에는 바 그래프 우측 하단에 있는 상세사항 확인하기(Toggle details)를 눌러보겠습니다."
      ],
      "metadata": {
        "id": "N2C7lZRR8jtH"
      }
    },
    {
      "cell_type": "markdown",
      "source": [
        "3) 상세사항 확인하기(Toggle details)\n",
        "\n",
        "![image.png](data:image/png;base64,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)\n",
        "\n",
        "우선 v1의 상세사항 확인하기(Toggle details)를 누른 결과는 위와 같습니다. 상세사항 확인하기에서는 총 2개의 탭이 존재하는데, 첫번째 탭인 빈도값(common values)에서는 앞서 바 그래프로 확인했던 각 값의 분포를 좀 더 상세하게 보여줍니다. v1의 경우, ham이 총 4,825개로 이는 전체 값 중 86.6%에 해당되며, spam은 747개로 전체 값 중에서는 13.4%에 해당됩니다.\n",
        "\n",
        "![image.png](data:image/png;base64,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)\n",
        "\n",
        "두번째 탭인 구성(composition)에서는 전체 값의 최대 길이, 최소 길이, 평균 길이와 값의 구성에 대해서 볼 수 있습니다. v1의 모든 값들은 spam 또는 ham이라는 1개 단어만 존재하지만, 여기서의 길이는 단어 단위로 측정한 길이가 아니라 문자열 길이므로 spam의 길이인 4가 최대 길이(max length)가 되고, ham의 길이인 3이 최소 길이(min length)가 됩니다. 4,825개의 4의 길이를 가진 값과 747개의 값의 3의 길이를 평균 길이는 3.134063173이 됩니다. 또한 v1열의 모든 값들은 숫자, 공백, 특수 문자 등이 없이 알파벳만으로 구성되므로 Contains chars에서만 True가 됩니다. 이번에는 v2의 상세사항 확인하기를 눌러보겠습니다.\n",
        "\n",
        "![image.png](data:image/png;base64,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)\n",
        "\n",
        "중복이 존재하는 상위 10개 메일의 내용을 확인할 수 있습니다.\n",
        "\n",
        "![image.png](data:image/png;base64,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)\n",
        "\n",
        "구성(composition)을 눌러보면 값의 최대 길이는 910, 최소 길이는 2, 평균 길이는 80.11880833임을 알 수 있습니다. 그리고 메일 본문에서는 글자, 숫자, 공백, 특수문자 등이 모두 포함되어져 있으므로 모든 Contains에 True를 보여줍니다.\n",
        "\n",
        "위 데이터에 대해서는 더 이상 불필요한 정보들이므로 이하 설명은 생략하겠지만, pandas-profiling은 위에서 열거한 기능들 외에도 수치형 데이터를 위한 상관계수(correlations), 결측값에 대한 히트맵(headmap), 수지도(dendrogram) 등의 기능을 지원합니다."
      ],
      "metadata": {
        "id": "3rbHRQLP8vJv"
      }
    },
    {
      "cell_type": "markdown",
      "source": [
        "## **6) 머신 러닝 워크플로우(Machine Learning Workflow)**\n",
        "\n",
        " 데이터 사이언스(Data Science) 또는 머신 러닝(Machine Learning) 과정에서 거치는 전반적인 과정~\n",
        " \n",
        " 딥 러닝 또한 머신 러닝의 한 갈래로 딥 러닝 워크플로우 또한 머신 러닝 워크플로우로 간주 할 수 있습니다.\n",
        "\n"
      ],
      "metadata": {
        "id": "COepWEqR881h"
      }
    },
    {
      "cell_type": "markdown",
      "source": [
        "1. 머신 러닝 워크플로우(Machine Learning Workflow)\n",
        "\n",
        "데이터를 수집하고 머신 러닝을 하는 과정을 크게 6가지로 나누면, 아래의 그림과 같습니다.\n",
        "\n",
        "![image.png](data:image/png;base64,iVBORw0KGgoAAAANSUhEUgAAAz0AAADtCAYAAACVvhvHAAAAAXNSR0IArs4c6QAAAERlWElmTU0AKgAAAAgAAYdpAAQAAAABAAAAGgAAAAAAA6ABAAMAAAABAAEAAKACAAQAAAABAAADPaADAAQAAAABAAAA7QAAAABSaqmUAABAAElEQVR4Ae2dDdwVVb3vF4KIgkJipYICBYWJIaVHvGlAYgcLU09a0LGQq6ZeIfQeTf2gRznqEVKvIpqYepWTH7HUo6amfaLAoqseKSQoPUGBiuYLJhr4Ttznt+y/nT3P7Ndn9ux5+a7PZz+zZ2bNevmuefas3/zX+q9uWzuCI0AAAhCAAAQgAAEIQAACEMgpgW1yWi+qBQEIQAACEIAABCAAAQhAwBNA9HAjQAACEIAABCAAAQhAAAK5JoDoyXXzUjkIQAACEIAABCAAAQhAANHDPQABCEAAAhCAAAQgAAEI5JoAoifXzUvlIAABCEAAAhCAAAQgAAFED/cABCAAAQhAAAIQgAAEIJBrAj1yXTsqBwEIQKAGgR8v/q374v+8wse6//+e7r4w7pM1rqh9+rzL/9NddPW9PuLWtTfVviCGGOMmz3FLHnnSjR093C1eeFaXU2wFl1qFakeeKlOwvWqVMXj+3GmHuwv/5Z+ChxL7LlY/uO+/3Ionnu74PFPKd+Ree7iRe+3pvjrxH2K5l0sJ8wUCEIBAxgkgejLegBQfAhBIlkDc4iKp0rer3Kv+8Ky79LoH3EOPPumeevZlX10Js29OHusmf+mApKrflny6DZnacL71iOQp/3KD+4///FVk2hJA+uj8N/7pM27B5SdExuMgBCAAgaIRQPQUrcWpLwRyTMA69rWqWE/HslYarToftHZUyyPNdbByL1222k3ssKK9+tc37JDfyiKlz4MPrWy4U96sVaYaL1lr2mWxKQNTx86MWbeWBM+Xxo9yJ31tbJlFZ+GPHnXfW7jE85Xw2XP3nTNTtzqqTxQIQAACTRNgTk/T6LgQAhCAAASqEZj2r9/3gqfvjts7DR2U8Fj5k4ucOusK6pRL5KUlqCyyzugTLle1c5XKr/rW89EwuXrDgjuX+qiylt1z/bfKBI9OyHqm4Y2DBvT38eYtWOS3/IEABCBQdAJYeop+B1B/COSQQNS8lmYtBGE8r7y62R9a+8xL4VOx7GtOUSWrRFx1iKWgNRKRlcfmmsw5+yulzvmIjw1w8y/+hh/uJguQ5qU0Mo+qEatMvZY/q8pOHeLMQtg69cyf/2KnXDBe6WBCX6xcB+03rGqOYw4Y7kWlxa8amZMQgAAECkAA0VOARqaKEIBAPAT+/OLGUkde81P09r+RDns8pchGKq8FhrTtsdvOZYXe7UP93Ki9B/khWE8/9948n7IICe9EiaOvzZjv9IkKBx/z7/5wlLgOxm9mTk/w+qjvsppJyEhUVguaQ6Wg+AQIQAACEHCO4W3cBRCAAATqJPDd7/+8LOal33ugbJ+d9wkErSFBK4liSDwu/91TPvKeu783DOv9K/lWjcD0KeP9ac2JOuLEqzoNw9OcHok4cxph8aulyTkIQAACRSCApacIrUwdIQCBMgLNvIHXm3VzQ603/DYZX5604vSQJeuRudAuK3Rop954oct8uWvVv9LwunBa1fY1/ErukzXE7azZP3Q79dnezzeRN7eZl95Zcm4g18rtDnG4+K5WhzhdW2t439PP/cUPXfvRouVOn0rhW8cdihODSnA4DgEIFI4AoqdwTU6FIQCBRgmYFzJdp478rXNPcrOv/bG76uaf+s6n1kr59zOPzs1QNwmTOMLV//b1kve2qOFi6pQ3MjxQVoxKQ86aKW/UsLZm0qk1zK2ZNKtdI5Etscg6PdUocQ4CEIBAOQFETzkP9iAAgQIQCFoyqllMNAxLQ9rMwqP5EerIa07K3PO/5j4xbHd38swF3poh68z8i6d4F8JxIay1WGqwHrU68I1aM57++5o6XamLrD1L75gZ2zo9Y0d/vCvFydW1EouNCMZcVZ7KQAACEGiCAKKnCWhcAgEIFIPAjxY9XiZ47utwuxz0mqU1Uvbu8EYmr2qam6J9QjkBeWuLa/ifxGZQ6JXn1HnPhKCsc1GhUSEYlUY9xySaTTjXih/nULhaeXEeAhCAQJEIIHqK1NrUFQIQaIiAiZhrb/m5u+XKk5w68OEgEZRU5zmcd1f2NWTv9vsf866jzbW00pM1S57VZEV47tErvFWr0XxqzRmKSk+d/QM/NTTqVJePfaBv75ppNFPmRgRYzQJUiWDirUqUuk4lPQyvrkIRCQIQgEBCBBA9CYEmGwhAIDkCcjLQTCc2qoQSPiZ+rPOZ9c7jjFm3+vlIUfWVO2Rz0nBxh4Xi2oumeAcEUXErHTO3ypXOF+V4lCjKyz1UlDaknhCAQH4IIHry05bUBAIQyBmBWl7cbp17csOCREPx5IBBQeLtm5PHlqUhJwa/6rACyeOaBNAp5y5w+wwfGGnlqoR742+/2+lUcGHVKDGgCzS/qhVBnuNqhUplCl8XrEf4XKv2a1kSEVKtIk+6EIBAngggevLUmtQFAgUnUKtzmBQeuRXWp9Xh96sb97J2788e98UaNKB/5LA8DeHTRwuKSnRJ+Pzg3kfdiBbUp9UCQhYrhU92iLZaIS7LYK18OA8BCEAAAu0hgOhpD3dyhQAEIBBJQHNp6rU6RCaQ04NmzWimekFHAq0emlhvOWsNwWx1OZvhyDUQgAAEskwA0ZPl1qPsEIAABBokcPgh+3oX2091uKRWB73a8DZL+quHH2BfY92GLWLV3IfHmnGVxPCeVgUOpyAAAQhkmACiJ8ONR9EhAIH2EKj1lj5Yqlpr7QTjJvFdQuO1TW/6eT3msKDSgp9ySDDn7K80NJ+nVXVIauhi0CpUqy5RAimpctYqG+chAAEIQKCcAKKnnAd7EIAABHJPQAurnjh5jLt+4UPut08+4721BSutoVWfHL6HjxPlpjsYl+8QgAAEIACBLBBA9GShlSgjBCCQCgJ5eosvMSPxk1QID2VLKt9682EeVb2kiAcBCEAgmwS6be0I2Sw6pYYABCAAAQhAAAIQgAAEIFCbwDa1oxADAhCAAAQgAAEIQAACEIBAdgkgerLbdpQcAhCAAAQgAAEIQAACEKiDAKKnDkhEgQAEIAABCEAAAhCAAASySwDRk922o+QQgAAEIAABCEAAAhCAQB0EED11QCIKBCAAAQhAAAIQgAAEIJBdAoie7LYdJYcABCAAAQhAAAIQgAAE6iCA6KkDElEgAAEIQAACEIAABCAAgewSQPRkt+0oOQQgAAEIQAACEIAABCBQBwFETx2QiAIBCEAAAhCAAAQgAAEIZJcAoie7bUfJIQABCEAAAhCAAAQgAIE6CCB66oBEFAhAAAIQgAAEIAABCEAguwQQPdltO0oOAQhAAAIQgAAEIAABCNRBANFTBySiQAACEIAABCAAAQhAAALZJdCjWtG7DZla7TTnIAABCEAAAhCAAAQgAAEItIzA1rU3xZJ2VdGjHOLKKJbSkggEIAABCEAAAhCAAAQgUAgCcRpgGN5WiFuGSkIAAhCAAAQgAAEIQKC4BBA9xW17ag4BCEAAAhCAAAQgAIFCEED0FKKZqSQEIAABCEAAAhCAAASKSwDRU9y2p+YQgAAEIAABCEAAAhAoBAFETyGamUpCAAIQgAAEIAABCECguAQQPcVte2oOAQhAAAIQgAAEIACBQhCo6bK6EBSoJAQgAAEIQCBEoNs9r4aOsFuNwNYj+lY7zTkIQAACbSWApaet+MkcAhCAAAQgAAEIQAACEGg1AURPqwmTPgQgAAEIQAACEIAABCDQVgKInrbiJ3MIQAACECgqgXmf3N5pSJi2fxi/o/9eVBbUGwIQgECrCTCnp9WESR8CEIAABApNYMNhO7n+PbuVMfjs0s1l+/XsfOsjPd3cfbZ3P3r+HXfEo69XvUQialjv6u81mbNUFSEnIQCBnBFA9OSsQakOBCAAAQikj8DqzX9zH1v017KCfWXAtmX7rdhB2LSCKmlCAAJZJFD9NVAWa0SZIQABCEAAAjkkMO0j2/lafWnX1oulHOKjShCAQMEJYOkp+A1A9SEAAQhAIP0E7jlgBz9cTUPbJHo0fC1sOYqqRSU30o+8ssUd+ItNUZdwDAIQgEAuCSB6ctmsVAoCEIAABNJEQPNrTIBoPs8vX3637uLZdTNWvuGu+tPb/jrNE9Lx4LGoBBneFkWFYxCAQBEJIHqK2OrUGQIQgAAEEiUQnNNzcP8eJQFUrRAmdq5e+7ab/ts3yqLu8sBrTun84qDe3rlBLfFTdjE7EIAABApIANFTwEanyhCAAAQg0D4CsvLIAiNX1dOG9KxYkFpWGkunYgIdJ0w4RcVBKEVR4RgEIJBXAoievLYs9YIABCAAgcISqGe+T2HhUHEIQKCQBBA9hWx2Kg0BCEAAAkkSCM7pUb5yJLBs45Yki0BeEIAABApNANFT6Oan8hCAAAQg0GoCmn8TFTS8rVKQt7ZGXFPbnKFmr6tUDo5DAAIQyAsBRE9eWpJ6QAACEIBAbggc8ejrTdWl2euayoyLIAABCGSIAKInQ41FUSEAAQhAID8E5JEt7JUtP7WjJhCAAATSRWCbdBWH0kAAAhCAAAQgAAEIQAACEIiXAKInXp6kBgEIQAACECgkgdtuu62Q9abSEIBANggwvC0b7UQpIQABCECgBQTOO+881717dzdw4EC3yy67uH79+rnBgwf77y3ILtdJTp482c2ZM8ddcsklbsKECbmuK5WDAASyRwDRk702o8QQgAAEIBATgTfffNNddtll0andvTH6OEcjCey6667u8ccfd4cddpgbO3asFz+jR4+OjMtBCEAAAkkTYHhb0sTJDwIQgAAEUkNgzJgxkWU599xzI4/HeVDupbce0dd96yM93R/G7+i/N5L+wf17+Gse/myfRi7zcTcctpPTJ87wxBNPuPPPP99by5YsWeIOPPBAd9RRR7lVq1bFmQ1pQQACEGiKAKKnKWxcBAEIQAACWSUg687NN9/sDj74YHf44Yd3qsYJJ5zgLrzwwk7Hmz0gcSFxE/xIsNQTtJZP8DoJpFohKj+lIWHVyqChgRdccIFbvXq1O+2001yvXr3c3Xff7UaNGuWmTp3q1q1b18rsSRsCEIBAVQKInqp4OAkBCEAAAnkhIIvD9OnT3W677eY74UuXLvUd84MOOqhUxaOPPtpde+21pf24vmjx0G73vFr6/PLld2smLYEzbUhP96Pn3/HXaTt3n+1dPYLp5be3lvKyfD+26K8184wjguZGXXHFFU6Wn+OOO84nKZG51157udNPP91t2LAhjmxIAwIQgEBDBBA9DeEiMgQgAAEIZInApk2b3Pz5893+++/v9tlnH3f11Ve7jRs3uv3228+Lm5deesn99Kc/9UOyJH5uuukm16NHfVaYVnOY9pHtnMSLLThq2+/s3avVWceSvhxCiOfKlSvdkUce6WRhu/LKK92wYcO8RUjtQIAABCCQFAFET1KkyQcCEIAABBIjsGzZMnfKKad4q4622u/Tp487+eST3WOPPeY/+q5jGoaluSj33nuv30+skDUyGtZ7G/eXd7aWxZII0vEsheHDh7u77rrLM5eDA4mdWbNmecuPRJDEEAECEIBAqwmk43VWq2tJ+hCAAAQgkHsC6kzfcsst7rrrriubPC8PYieddJKbNGmSFzhRIDQHJamg+TX1BomcYJAI2nnbbsFDkd/79+zm5wLZSQ2vu/pPb/nhcXYsnLYdb9VW1rXFixe7RYsWuTPPPNN7etNwt2uuucbNnDnTHXvssamxsrWKAelCAALtI4DoaR97coYABCAAgRgIaG7OjTfe6LQ4plkNNK9Enejjjz/ejRgxIoZc4ktCc2wU5L3tS7tuWzVhiZdgqEfwKL4EzS4PvBa81H+/6k9v+23cnts6ZVTlwPjx493y5cvdHXfc4c455xy3Zs0aP8fq8ssv9w4kNBSOAAEIQCBuAtmykcdde9KDAAQgAIFMEtBkeK2vo8nx8sKmifISPBo+tXDhQvfMM8/4yfRpEzyNwJZ1JixyJIJ0PA9BTiPk7EDzfrTGjxxNyMW12lMurwkQgAAE4iSA6ImTJmlBAAIQgEBLCWho1OTJk90ee+zhh0g9+eSTvsN89tln+w60hk9VG8bW0sLFnLiGo0nkyCKkYOvxfPt3+ZkDI6cR8vC2du1ad+mll3qHErLcjRs3zi9yqsVOCRCAAATiIMDwtjgokgYEIAABCLSMwPPPP+8tOZqrE1zrZcKECX74moZDpcXjWiUIcj4QnMvzyCtb3ItvVbfYaCjasD7dvdtqu3bGyjdcPe6uw3N6rFxXr33bTf/tG7abmq2cSZxxxhlOayTJucGcOXPcgw8+6D8apihHE0OHDk1NeSkIBCCQPQKInuy1GSWGAAQgkHsC7777ru/wLliwwC9wqX2FgQMHeqEj64BcImchRM2tUbnNglOtDhIojYqUSvlVyyct52yBU3nWu/jii727cTmn0HwtHZPDAw2FI0AAAhBolADD2xolRnwIQAACEGgZgfXr1/s1XIYMGeIOP/xwP9ldmU2cONG7lNYwqAsuuCAzgqdloHKesITNvHnzSgucSvRqjSXdF+edd553e51zBFQPAhCImQCiJ2agJAcBCEAAAo0RUIdWnrwkctSp1RouEj+y5FxyySXeKYHW0JHwSfswtsZqTuxaBDSkTY4O5O3NFji96KKL/H0iRxbmra9WOpyHAAQg0G1rR6iEoduQqW7r2psqneY4BCAAAQhAoGkCmp+jeTryvKZ5Owqa2yFxI1fTmrPTzmCupdtZhizlbfOOWllmeXWTKDbvbrIIXXjhhd4ZAoK4leRJGwLtIRCnFsHS0542JFcIQAAChSSgN/Oan3HooYf6t/WzZ8/2gmf48OHee5dcTd9+++1tFzyFbJwMVFouyeWh76677nL77ruvv3dOPPFE77pc1kICBCAAgUoEED2VyHAcAhCAAARiIyDX0meeeaZ3NS2X03I9LauOPHOpE6v1WuS9S4uKEiBQi4CGumnIm4a+aQicFjg95phj3KhRo/y9Vet6zkMAAsUjwPC24rU5NYYABCCQCAGz6tx4441Oa69Y0IKhJ510khc88tZFgEBXCGhO2Pz58723NxsmKYuQ1v3Zb7/9upI010IAAm0mEOfwNkRPmxuT7CEAAQjkjcCqVav8XB25Gt64caOvXp8+fbzImTJlihs9enTeqkx9UkBAIlvDJefOnVu672QRkvhhjZ8UNBBFgEATBBA9TUDjEghAAAIQaB2BTZs2OYkcWXWWLVtWykhv2uWUQMPYJHwIEGg1AQltrfEjF9cSQnJwoPtPDg+0zhMBAhDIDgFET3baipJCAAIQyDUBCRwJHQkeCR8FDVlTJ1NiR5PNCRBoBwENddOaPvIOqCFwmkOmBU7PP/98f4+2o0zkCQEINEYA0dMYL2JDAAIQgECMBPQmXSJH7qY1lM2Chq1prs6kSZN8B9OOs4VAOwnIycE555xTWuhWonzGjBnecQbWx3a2DHlDoDYBRE9tRsSAAAQgAIGYCcgZgaw6cjmtYUMK8rZ23HHHeauO3E4TIJBWAo8//rj3ICjPgQpa4+ess85y06ZNY9HbtDYa5So8AURP4W8BAEAAAhBIhsCGDRv88CCJHbmdtjB+/HgvdDRRXMOGCBDICgEtbCr36Tb3TE4OZs6c6YdkssBpVlqRchaFAKKnKC1NPSEAAQi0iYDehkvo3H333SWrjt6My6qjIWyDBw9uU8nIFgLxENC9rWFvJuY1/0zzfSTkCRCAQDoIxCl6WJw0HW1KKSAAAQi0nYAmfsvl75AhQ9yhhx7qh7FpAvjEiRPd7bff7p555hl3ySWXIHja3lIUIA4CEjcrV670C5xKxGv421FHHeXGjRvnZA0iQAAC+SLAOj35ak9qAwEIQKAhAhI1Dz74oFuwYIG36mhfQa595X3thBNOwM1vQ0SJnEUCmqNmC5xqSKeCRJEsP3ggzGKLUua8EIjT0oPoyctdQT0gAAEINEBg/fr17oYbbvBD2PRdQfMZ1NHTAqITJkxgcncDPImaDwLyTHjllVeWLXCqIZ2a88MCp/loY2qRLQKInmy1F6WFAAQgkAoCsuJoHoOsOrLumFVHQ3s0T0edO83bIUCg6AQ01HPOnDne+mMLnMrLm7y98T9S9LuD+idJANGTJG3yggAEIJBxAuvWrfNr6miRRnXmFORxTVYdiZ2xY8f6Y/yBAATKCeh/Z9asWX5dKr0k0P+NhM9pp53GAqflqNiDQEsIIHpagpVEIQABCOSHgN5Oy6ojD2y2Lolqp7V0NFdHVh2tsUOAAARqE9AivOedd57/n1JsLXCq+T4nn3wyLttr4yMGBJomgOhpGh0XQgACEMg3AbnfldCRVccmZOvt9KRJk7xVZ/To0fkGQO0g0EICjzzyiHdzbd7dNNRNHg2PPfZY5sC1kDtJF5cAoqe4bU/NIQABCHQiIKvObbfd5sXO0qVLS+fldUpWHXXI9GaaAAEIxENA1lMtcCo31wpycnDppZeyxk88eEkFAiUCcYoe1ukpYeULBCAAgWwR0JCb6dOnu912281NnTrVSfD06dPHD7l57LHH3PLly50mXyN4stWulDb9BMaPH+//vxYuXOgFz5o1a/waP/vvvz9r/KS/+ShhQQngsrqgDU+1IQCBbBLYtGmTn1StIWzLli0rVULD1mTV0TA2CR8CBCCQDAE5ONBwUs35MUchcg5yxRVXsMZPMk1ALjkmEKelB9GT4xuFqkEAAvkhIIEjoXPLLbc4CR8FWXA0dE0e2EaMGJGfylITCGSQgIaZao0fubrWej8KRx99tJ/zwxo/GWxQipwKAoieVDQDhYAABCDQWgLqOEnkXHfddU5D2SzoLbKsOupQyUkBAQIQSA8B/d9efvnl7rLLLnO2xo9eTsjhAWv8pKedKEk2CCB6stFOlBICEIBAUwQ0N0dWHTknUKdJQe6l5WZaYkdupwkQgEC6CWio28UXX+wXOLU1fjTHbubMmaV5dnfccYd/cTFx4sR0V4bSQaBNBBA9bQJPthCAAARaRUDupTUvQGJHbqctTJgwwQsddYqw6hgVthDIDgE5ObAFTlVqDUudMWOGO+OMM9yoUaP8cNWVK1eyblZ2mpSSJkgA0ZMgbLKCAAQg0EoCcn0roaOFRM2qM3DgwNJcncGDB7cye9KGAAQSIiD31nJ2cN999/kc5XDE5ufppca9996bUEnIBgLZIRCn6MFldXbanZJCAAI5IaBhL7Nnz3ZDhgxxhx56qB/GpuEv1vFZu3atH/+P4MlJg1MNCHQQ0LpZEjaLFy92mpdngkdwJITmz58PJwhAoIUEerQwbZKGAAQgAIG/E5CoefDBB92CBQu8VUf7ChI2U6ZMcSeccIKThYcAAQjkm4AEj+btLVmypKyiWuxU55izV4aFHQjERgDRExtKEoIABCDQmcD69evdDTfc4Iew6btCjx49vOc1OSXQnB0CBCBQHALm3S1cY1l+vv71r7uHH37Y/0aEz7MPAQh0jUBL1umZt+KorpWKq+siMH3kXXXFS2ukv/zrp9JatNyUa+d/+02m6/LaTd/MdPmzUPidpn4vC8WsWMarlqypeI4T8RD41tih8STUplRGfvuBNuVcnGxXfOewzFdWc0cIrSWwde1NDWfAnJ6GkXEBBCAAAQhAAAIQgAAEIFBUAjgyKGrLU28IQAACEIAABCAAAQgUhACipyANTTUhAAEIQAACEIAABCBQVAKInqK2PPWGAAQgAAEIQAACEIBAQQggegrS0FQTAhCAAAQgAAEIQAACRSWA6Clqy1NvCEAAAhCAAAQgAAEIFIQAoqcgDU01IQABCEAAAhCAAAQgUFQCLE5a1JYvYL17jZ7sdvjCmW7Ly0+7V+ce2RSBD5y92HXboa977cbj3btPLW8qjaiLbD0d1i6KohPfsZ6f+JzrdcAkt+WlP7nN982umLCtXRO1TtCOX7vCdduut9v840vdlhdWV0yj0olqaVe6pp7jfb58kdtmpw+5Nx+9zb39+5/XcwlxYiTwjQMGuX7bb+seWrPBjRzQt/R9xfqNDecSTKuZ6ytl2Kp0K+XHcQhAAAJpIoDoSVNrUJamCOx04gLXY499Kl779pMPuU23nl7xvE70nXG3695/z8g49VwfeWEL062UX1GPW4e/Uv3ffmKxe/ORhZVOx3K8WhlqiaxqBdjhkFNdjz1HRkb522svuk13nht5joOdCezed3t39KgBnU+Ejvxpw2Z336o/lx0dObCfGzN0l7Jj2nn+tTfdD3+zvtPxqAMTR+zmPrJL76hTbuMb77j/ePSpyHO1DrYq3Vr5ch4CEIBAlgggerLUWpQ1ksBr108pHe/T8Ra+5/AxrlGhEmX5MevLu3/6r1L6zX55vcMqYJ1uK2OzaXFdZwLBjn/viWe77h/8iGtE6MgK2HOvcZ0SNquMTrz79Ar3+s+u6RTHDgTLYMcqpWvnG9kG8zeLVSPXE/d9Am++s8V971dr3z/w929jhn3QW2k6nQgcaETkBC7zX8NCSgcrianwtfXsB8VanOnWkzdxIAABCKSdAKIn7S1E+RoisE3vnX182zZ0cSCyhInC1tdfLYmVwGm+pphAt+36NFw6CVITpbrYxE7U8LaGE+eC3BL4yqcGul136pXb+lExCEAAAnkigOjJU2sWvC49Bo3yw9zefWZl2XA3s9g0gkfWIgXN/2nm+kbyIm58BLp/eJif16IUewzY2yeMVSQ+vqRUTiA4rM3my5THKN+rNgytPCZ7EIAABCAQNwFET9xESa9tBHac/H+8SNFwN83z0UffzTmAOTKoVUA5K1CQeAoOndMxc2Sg74T0EdjhkP/ltr61uWMY2ndd7w6nFWpzWXBsYn89AkjCyYK+y1lBtfk6FpctBOolsOLZV91Dq1+qNzrxIAABCEAgBgKInhggkkT7Ccgao6FoNjdHYkUCRQ4K7Fg9pTRREyV46rm+Uhx5jdOH0BoCEicSOQo2JE1ezOSpTUMdq83FCZdouxGfLx3S99c7RE9wvo55bytF+vuXVgsjOTOwYXfhvNlPjoCGs31r7NCyDK9asqZsv107cpIQLlu7ykK+EIAABNJGANGTthahPA0R0JC2nY6/0QueV2aXT0TXvkSPBJFZeyolbuno/JuP/sC9fv+cSlEbOt6I4GooYSKXCJj1Rhaevwa89Mm6o4+EgoRK8Fzp4tAXiSeJC3lF2/rWpope00KXle3G7TK6EcFWVhB2KhLotW33hsWBXEdXcx8d9LxWLZ4KJZfW+oRDJQcL4Xjh/SgHCeE47EMAAhAoOgFET9HvgIzXX2vlVBM0QdERnqxuVTdvavWs3xMWVpZGo1ubJ2Rlt22j6RDfeWFjw9eieJjlJ+pc+JiGxym8sXSBH9YmwSRvcNXW9AmnkdS+WZZMZAWtUUmVIWv5PPfqGy5olTEPZ426i653bo7W7AkKoKTFic0zsnIEhVnW2o7yQgACEOgqAURPVwlyfaoImJioVqiwuAmu4VNrzR9Lt5HFSavNJQqXN04rk5W1SFuz+jSzfo0NW5OIsEVHtQCphs2lQfhUGtqmIXz6WOjKmkCWBtvqBGqJFxMb1VNxrlI8ucW+qok1eyoNbdP6QsE1hrridrtWnTgPAQhAIK0Eci96Ttz7P1yvHju6O9fMdM9t/n0s7dCKNGMpGIl4AprbE2WRqSY+wuiC6+oEz9mcn+CxWt/DFiazLOm6RtcTqpUX56sTsCFv4ViymnTbrnfH0MbbSk4PFEfiR5YiCQ7Faac1JWixMnGnMjYj8HQdoXkC9Vp6KuVgFiadD1qetG8LqErA3LH8WSfrVL0hmFYwj0YtWfXmR7yuE/jaQYPcWV/6hPvt0xvd169+uOEEvz/tQPfJPfu5OT/6vbt1aXOL2zacKRckQuCe67/lvjR+lPvRouXu6ef+4qZ94xD3yPI/ugP/6aJE8s9jJrkXPRI89YTde3/CfXnoxVWjzltxVNXznIRAPQTkDlvWJgV913wiDdMjtI9ALTETFBy1Shm2vFj8OMVJz70+55PVgqWag2Re6iwvtuUEggKg/Mx7e/223zZyjk8tsRBcDDQq3UrH9ui3vT+l68NBIkeWGDlMGPahPg2JnmBaNmdIecjBgRZexWNckFBrv9/77c+6PTu4Vwr1iJwV3zms0uVu4f97ys2+O54XuRUz4UTLCWz4zTzX/wN9XLchU31ef1g82w0b/GE3Y9atdedt19RzgQTUESdeVU/UXMbJtegZM+DEUqN9Zvcp7vbVZ5X2w19kBQqKmukj7/JRgsfC17APgUYJyFKkYHONNLxNjhiY09MoyfTFryWc4iqxhtpts9OHSlYpWaB67jWuw+LzQpmVKq788pBOLScESdfxmY1veCEiMRIOsvTYgqerX9wUPl3XvhZNlZCzuTwaRicRJBEXnGNUV2JEaorA4d/5RVPXBS8a+e0Hgrv++0MXjHf9dtjWPR0hmDtF5kAhCHxs3NmFqGcclcyt6Bm5yxfdJ3f5gtv41p/dK28944bs9A9u4pBz3H1rL6nJTVYfC/oe17A4S7NI23Xr1rl+/fr5T1L17rZD3y4vKBq3i+kdvnhWx7yLr3oEQYGj7xJCEj8MdYvvDpEoqDQHRrmEPb3Fl3PrUgq65Q4Ow5PYkhCShUkWoKTEV+tqmp2Ua7mIrjR3xkTYNz8zJNLCVOm6WmRsaJzimeDRdzkwkBDSvB6JHxwaiErrw9lHfsJN/h+D3JLfv+hm3PxrN/e4T7uxn/iQt9Ls1mHt0/dGgobCSfAoMJStEXLFiGtWo89+5RL3y8f+4Cs9b9axDIsLNH8uRc/Xh3/X9dtuN7f2tf8qiRyJoM8OOMFpPs71v/tGAEHnr7IKWfjUh45wz63FhGw8Gt0uWbLEnX766W7GjBnutNNOa7n4CQqKRsuq+OHFSJtJI3hN0BV2JVGj+Uc230jipxEnCcG8svo9TmFcac5OVtlYuc3JQqUhcuZdTkJPn7efWOwXZbXrs76N8x6Jg0UtRwb15vG9X62tN2rNeBJQcsVdaUjeD3+z3qehuUL65G2B1LTdI1ENtnOfnv6wrDQ2NM3m9ETFDx87bN/d/SENjSNAIEzgL69u9kPlwse1/+LLr0UdLtyx3IgeEzVqwedf/0PHULX3XM9ai67YcL/TR/Fs6NpvN/zYPfTs9RbFb3V+1x0+5tN48fU13lqkY7qW0ByBjRs3ulmzZrm5c+cmJn6aK2n8V9VyqW05hp0d2PEibJMWxl1lWs96P9XyaGR+kKVTb57NpG15pHmbtXukHSzrFVBBZwftKGer8kzjPWJD0EzsBOtuVp/gsWrfJY7ksEDhivufrBaVc1UIpFUcb117U5VScyouAtvElVC705Eo0fwbfarN3QnGixI8sgZJNCkNnZe1SMckfNIWunXr5tL+mTr1vcl5YmfiZ8iQIe6CCy5IG07K00YC4XtD+wQIBAlwjwRp8D2KQJbuEQ1305wdeV2rJ8jDm4KGyv1m7SudLtF5OT6QNzdCZQISx9YHSdNzRo4M9Fm97oVOhZcHN3luqzeM2ntQKeqeu+/sv8v7G8G53Fh6utqYxwyb4y08wSFxSlNzgOQQQcJnjx0/WRou19X8inz9pk2b3FNPdbjW3KPIFJKpu0RxloJ1Wswq+L/f/+3OUjUyVdas3yM7jz02U7yzWNis3yPOHZAo9k8N+YC76ZTRpTxloQl6YpNA0Wdhhwc2swaVIkd8sWsVV2IpKuCyOopK9LHwcyaJoffRJanvaNBlddQVNpfHzs09/2tOn2CQaMLldY5Ej62dE2zker7b+j3VrEOy+AStQrXmBNWTbxxxtm7dGkcyLU3j5ptvdmbt6dGjhzv22GPdzJkz3dChQ/FY1lLy2U68JIwHvTdpN9u1ofStIGD3yHvvMVuRA2lmnYDdI+6DyYoeWWKiPK9F8dSwtUohKJ42vv6Oi8MjXKW8uno8a8JY9Q2LH/e3t53b5r15V13lkeT1u3xqell2B+//MfeLH57jXn5lkwufK4tYwJ3cWHoqCRETQyZu6mljs/r84tkbIufyWJq4s66HZoeyDomd+q4iVhwEsi6M8zpHJY62jSuNrN8jeZ2jElf7xpFO1u+RegVIHKwqpVFtDk+UlcYWHVV6svCkWfBUqnNWjpfE8ZY32yZ6mNOTzN2SG9GTDC5yaZTAfvvt55544glv2Wn02nbGlxc1hUa9wfWdcbfr3n9P9/qPL3U995ngeuyxT8d6Kj9wr98/p53VSX3eWRXG8pTWqPtruZfu/sGPeA9r2/Te2S8umjdva6244bJwj8grmkKcQsy8st2x/NmmFyptRXukMc203iM2PK2SuNFQN7m2DgobOSvQEDkNgTNPb2lkbmXKgjBWWauNPrn57wuEWp2S2FazxBzymb2SKEKh8kD0VGluzePRh9A8gREjRjR/cQuu7PO1K1zP4WMqptyIu2gTOI1cUzHjAp9ImzA2UVKpSd59eoV7/WfXVDrtdjjkVC9koiJI3BAaJ5C2e0Q10IKfWgA0Kpj4sXNRbqRNzFic4DZO0RRMN8/f03iPiLcNX5O1Jmptna9f/bCf77NnaKHaRobI5bldW1G3tIrjRutqw9gqXdf/A31clAWpyMPeED2V7paO47WGt1W5lFMpJ1BpzZyUFzuXxUubMLY1bwTbBEwtoRNsmKAgsvV1gsP0JKoIjRFI2z2i0nd1gc8oF9PVhFBjxIoXO433iFpBQkeWHIkaCaCw8DFva/U4NCheq8Zf47SK42ZqqgVI5fGNUD8BRE8VVlh6qsDJ+ClZe2wIm1WFYWhGgq0R6Lb9jv6rbe04WwgYgWoWnygLj11Xaxu2FtWKz/n0EtCcIokb89oWLmnUsLdwHPbjIZBWcRxP7UilFgFETwShap7cIqJzKIME6rX0mDAKC6Ieg0b5uTuqes8Rn3dahDQYdvjCmcFdvmeUgObeKGyz04dLNTDrTekAXwpLwCwzD63Z4FasL19bauTAfm7M0F2c4jRj1bEhbpZHYSHnpOIaxkaAAATaSyD3oqeSV7f2Yif3rBCo5Mhgh8+f5qsg8dTrgK92clQQdGSQlbpSznICfb58kT+wucMpRe8OEathaRr69tdbTy9FlCODaqHbdr396e4fHua2P2hKh3j6ULXonCsgARM3Baw6VY6BAGIqBogpTeKIE68qK9n0828p22encQK5Fz2NI+GKIhCIGt6mem95+Wn36twjqyLY4Ytnea9sEjZvPrLQyaHBB85e7F6ZPa7qdZzMDgETM28+epvb8sJqZ8JHQmjTnefWVZGen/ic9+wm727bDtmvdF0tRwl1JU6kVBCQBUfD22TR0Sccmh3etnvf7d3RowaEk2MfAhCAAAS6QADR0wV4XJo9ApsCb+mbKX2UxzaJJB3XUDiJJkJ2CcgiI6uOQtD5gISP9jW0TYIoeK5SbXvu9bkOwbTG/W3zX1yPAXtXisbxjBPoqkODqOo/9+obJbfXDG+LIsQxCEAAAo0TQPQ0zowrCkCg0rC2zXfP6jR/RziirEOyAhGyRcDETaVSB4e2VYqj47LyaCibWYUklHqNnuwtg9Wu41w2CDTrZCBqKFtUWn/qcG9836o/ZwMGpYQABCCQEQKInow0FMWMl0Ct9Xost7D4CTos2OnEBX6Ym8WttA07QagUj+PpJWDD3cIljFpUVNaiXgdMcnJzbUHxeu41zr2zdpkdYpthAlHiRdUxAVPpfLDKUc4Nguf5DgEIQAAC8RJA9MTLk9QyRqCSFzfN0em2Q9+qtXnt+ilVz9criqomwsm2ErB1ev722oslq40VSOckZDR0zSw6OqfhcYofXK9HVj/FkzODrW9tsiTYZpxAIyKnUlW/8qmBbtederkVz77qHlr9UqVoHIcABCAAgS4SQPR0ESCXQwAC+SWwTb/dfOXefuLnnSopUaM5PhrGJuuOhsYpVJrvY8KIxUk7oeRAFQJYhKrA4RQEIACBBgggehqARVQIQKBYBP628c9e1Mgpwdu/Lxc+svTIJbWsOiZ4ikWH2oYJ1DOsLXwN+xCAAAQgkAwBRE8ynMklpQQqua5OaXEpVsIEbIia5vREzeuJmtOTcBHJLgUEbJhbpaJELV4ajjtyQF+nT6WAc4NKZDgOAQhAoD4CiJ76OBErZwS66ro6ZzioTg0ClYas1biM0zknEIdl54e/WZ9zSlQPAhCAQDoIIHrS0Q6UIocEajk6yGGVqVIdBDbfN7uOWESBAAQgAAEIQCBOAtvEmRhpQQACEIAABCAAAQhAAAIQSBsBRE/aWoTyQAACEIAABCAAAQhAAAKxEkD0xIqTxCAAAQhAAAIQgAAEIACBtBFA9KStRSgPBCAAAQhAAAIQgAAE6iHwt7friUWcDgKIHm4DCEAAAhCAAAQgAAEIZJHAxsede+r7zm1ak8XSJ1pmRE+iuMkMAhCAAAQgAAEIQAACMRF4Z6NzW7c41337mBLMbzKFFD2rl23Ib4tSMwhAAAIQgAAEIACB/BPQ0La3Xnqvnj13zn99u1jDbls7QqU0ug2Z6rauvanS6cwe33bbbd0VV1zhpk2bltk6UHAIQAACEMgWgXXr1rlhw4a5Sy+91J122mnZKjylTYzAlVde6U4//XR38sknu2uvvTaxfMkoewTOO+88d9FFF7nRo0e7hx9+OHsVqKPEcWqRQlp63n33XTd9+nQ3depU9+abb9aBnCgQgAAEIACBrhGQ6NHzRx3ayy67rGuJcXVuCdx4442+bmPGjMltHalY1wk8//zzpd8RvUgh1CZQONGjh46Fm2++2R144IEueMzOsYUABCAAAQjESUCdFAtnnnmmFz+2zxYCIrBo0SK3atUqt+uuu7qjjz4aKBCIJLBp0yZ3zDHH+Bf3kyZNcgcddFBkPA6WEyic6CmvvnOPP/6423///f0PTfgc+xCAAAQgAIG4CKxfv74sKQ1jOuWUU7z1p+wEO4UkICughispnHrqqa5Hjx6F5EClqxPQfaKRSkuXLnWDBw/20zWqX8FZI1B40SMQGuL2k5/8xJiwhQAEIAABCMRO4IUXXuiUpkYc3HLLLZ2Oc6B4BGbPnu0eeeQRN3DgQOYcF6/566qxTc+444473C677OIeeOABbxWs62IiOV4jdNwE8+bNc8cddxy3AwQgAAEIQKBlBMKWnv3228/99Kc/df369WtZniScDQJ6az9r1ixf2O9///vcE9lotkRLuXHjRjd58mT34IMPuj59+ri77rrLDR8+PNEyZD2zQlp6NFZW3tsuueQS336aVPrkk09mvS0pPwQgAAEIpJiAhiude+657pe//KXr1auXW7ZsmR9ineIiU7QECMi6c9hhh/lhjmeccYYbO3ZsArmSRZYIqI+qqRgSPOrDysLDPJ7GW7BwLqvNW5seOApHHXWUu/vuu71q1tuVI488snGKXAEBCEAAAhBogIC5mtUbWzowDYDLWVR1ZseNG+fk5EKOCxYuXMhcnpy1cVeroyGw8jgs5wUjRoxw9957r5/L09V0s3I9Lqu70FISOyZ4lIyEzrHHHutvJgmgc845h0mlXeDLpRCAAAQgUJvA+eef7zu56sjoLf+SJUtqX0SMXBGQIyUTPLLuIHhy1bxdrsyaNWv8/SGnBfqdmDhxol+LR84LCM0RKOTwtiAqvWWT8NFwNw090ETCgw8+2A87CMbjOwQgAAEIQCAuAnreqJOrt/vq0Bx66KHu6quvjit50kk5AU1EV19DFh4NU9Lbe7y1pbzREiqeRiRpwdF99tnHvwyRw4KbbrrJ3yPqsxKaJ1B40WPotDq2JpTKa4rG12r9HrkS1cQxAgQgAAEIQCBuAiZ8Tj75ZD/CgEWz4yacvvTMLbXWWJHYPeGEE9zixYv9EPv0lZYSJUlA98YNN9zghgwZ4l2XS/zo/li9ejXOtmJqCERPAKTMyytXrnQSQArz5893w4YN8zehbkYCBCAAAQhAIE4CEj7XXnutf5Orodcavy8LAM514qScjrRsXUC9xVe7X3/99f6DhScd7dPOUuj/fq+99nInnniit/7Js+PDDz/s7w+8O8bXMoieEEvdXBrqtnz5cm9y3rBhg78JdTPqpkT8hICxCwEIQAACXSagZRPUydF4fXl109AWOTsw5ztdzoAE2kZA/YYLLrjAe9+S8JGbYbW13uITik1AjrRGjRrlFxvVHJ6hQ4d6V9SPPfaYGz16dLHhtKD2iJ4KUOUhQ25FNd9HN6FuRk0mQ/xUAMZhCEAAAhDoEoF9993Xv3CbNm2aT8fG9atjRMgmAc3dUb/B1uCRS2q9VNWbfEIxCWhYo+bvaSSRHGhJCGtqhebtPPHEE3gRbuFtUTiX1c2w1FsarZh98cUXe/GjNCSETj31VD/OEtNjM1S5BgIQgAAEKhGQtUfzSrVV0GT3Cy+8kDVcKgFL2XF545M3WM0RVpB1R51a3t6nrKESLI4WJ547d66fMmHzxdWXnDFjhrf6BT0LJ1is1GeFy+qEm0jjbTX0QApcP1pm+dGipnvssYfTVpYgAgQgAAEIQCAOAjamf968eX4xwqVLl3r3tXJvrTfDhHQSUNvo7b1cUUvwyPOWhsxrvjCCJ51t1spS6aW5FhSV4wo5KLjsssu8g6zx48d7b2xyUiDLLoKnla3wftpYet5n0dC3++67z11zzTX+ZrYL5UNdil03MwECEIAABCAQBwHN69FyCnpLbG+I9Zw566yzeN7EATiGNGTZmTNnTqlPoE6snCKpjRgNEgPgjCUhq448sd14441O3xV0T2hdSPUTNYWCUB+BOC09iJ76mFeMJQ87ehDJyYFNONVE1ClTpnjrEItIVUTHCQhAAAIQaICAHOtomLU6U5oXoKB5QOpYa70fvIA1ADOGqHqLr/lWEjs2DFHrqMhBgdpk1113jSEXksgKAf1P6oX4ggUL3KJFi0qOrzS08fjjj/d9Qln+CI0RQPQ0xiuR2Hr7Zqo+6GpUbrAlgPRAYlGpRJqCTCAAAQjkmoCeN1pSQS/ctLilgjpTkyZN8s8bJsm3tvnXrVvnrrvuOv+y0/hL4Gier4YqYdlpLf80pa6X3Rq+JqGjrb38llXnyCOPdCeddBLz8LrYYIieLgJs9eUaxyuT5m233VZ6GyfBM2HCBHfEEUf4fwQEUKtbgfQhAAEI5JuAOlh6zkj8BOf56M3yP//zP3sRpDmohK4TkJVNVp0777yzNIRNqUpg2lt85mV0nXMWUjCho3tB94RZXVV2WV71v3dcxzxwrDrxtCaiJx6OLU9F/xhyVykBpPG+FjQEQRagr371q14A8Y9hZNhCAAIQgEAzBCR69LZZnkbVQbegTtiXv/xlP9pAYohQPwHNxdAzXJ1bvczUcDYFvbTU3AyJHaxq9fPMckwJGw1Zu//++8teaKtOmp+j/pwsrbxkiL+VET3xM215isEfT3nhsWACSA8lOUKQr3YCBCAAAQhAoBkC6pjbvILgcBulpQ6ZOmaHHHKI76wz4qCcsDq2ej4/9NBD/kWluZtWLHtWW+cWduXs8rinfpv+hyR69eLahq6prva/pL6bXiwQWkcA0dM6tomkrH8kPZTsH8neHilzvTHQONB//Md/9O4tmZiaSJOQCQQgAIHcEbC301HDcPRskZVCow4+85nP+HWAijYXJSxy5Iwg+DzWcDUNS1fHVltGZeTuX6RThXQPqH8mi445p7BIcjn+xS9+0b+gRugYldZvET2tZ5xYDjZO+J577vFvEvQjbEE/sPqh1T+ZtkV7IBkHthCAAAQg0DUC6szrbbU6c7JmaDhcsIOv1NWRkwg64IAD/DZv3sdqiZygEBwzZowXglh0unbfpf1q9cFkzfnJT37ih6+ZYwqVW6JXruE1F1t9MEbitKc1ET3t4d7yXGU6tYeS3jTIQ4wF/fPpLYN+iPXPpzd0WIGMDlsIQAACEGiEgAmAX/3qV14EaShXcPiO0tIcoIMOOsh99KMf9cN5NKRHn7QLAdVDXlS1aLg+//3f/+33w5YcRE4jd0w+4kro616XyJHYCVtzJGyCL5txTtH+dkf0tL8NEinBqlWrSmbW4CRKZa6Hjt5AaGy2tkxQTaRJyAQCEIBALglIKKgDaHNa9MyxhVDDFZYFSOJHz512CiITNRI4f/zjH73A0XNTQ8ijAiInikr+j8mqqRfKmqslZwTBETUSNRL2mlIgscOioem7HxA96WuTlpdIDx/90+rthLbBtYCUud5OSPyYSV4PJAIEIAABCECgWQLqLEpEyFJiAkPbSmJI+UgQ6aWcDQXSsGwbmj1o0CBfFJ23+TGKr46n0tRHb+JNtLzwwgve+qROqnmksxEQGoYUtkxZPZW+WaUkzD7+8Y/7fXVodY6QbwJBkaP+Uvh+1T0hgSOho+GcWHPSfT8getLdPomUTj/8+mf+2c9+1mkcqgqgB4n+mU0E8fYikWYhEwhAAAK5JyABYiKoEUEUJxhZbczapK0sTurM6qPnH6EYBCSSJXLMQhklcgYPHlzqD6lfpH1CdgggerLTVomVVG/jZLaV+VbDEoKT8VQIvWkLiiBNWGVOUGLNQ0YQgAAECkFAgkiWGVlh7Dkky406p2bN2bJlS8maYxYbswjJEtO/f3//fDJrkXVSta/nlqxEWGwKcTt1qqTuLwmcRx991Pd11N8JW/wQOZ2wZfoAoifTzZdM4TX8TW889MOgrQ0JsNxlzpUzBH3krlROEuwBY3HYQgACEIAABCAAgXYRkBVHwsZETnhov8qlkSyal2NeB00kt6vM5BsvAURPvDwLkZpEj344zBKkH5JwkOiR+NEPh7YSRIx1DVNiHwIQgAAEIACBuAnIIihnGvIoaGIn6HRA+cnCp/6JvazVd5szFnd5SC8dBBA96WiHTJdCPyQSQcE3KDZR1CqmYQR6gyLxM3LkSP9Do32EkBFiCwEIQAACEIBAowSsDyJxI5EjsWMOLIJpab5WUOSwKGiQTjG+I3qK0c6J11ITU00Eacys5glpHHYwSAhpoqh+eD796U97QaTvjK8OUuI7BCAAAQhAAAIioLlc6k9I2Pz617/2Vhzth4PmakngaLSJ+hUasoYVJ0ypePuInuK1eVtqrMmB+mGSEJKHHm21H540qMJJCMkKJCFk1iE86LSl2cgUAhCAAAQg0BYCGjFifQUTOHqhGg56USphY/OK9V1WHQIEwgQQPWEi7CdGQJYfe2Pzu9/9zr+5kXk6PO5WBdJbG/2gSQRpeJx+1CSO8BqXWHOREQQgAAEIQKAlBORUQP2BFStWeOuNLDnmsS+YYVDg7L333qV+AX2BICW+VyKA6KlEhuNtI6AfPv0AysOKtnrTE54jpMJpPpBEkAkhGyqHVahtTUfGEIAABCAAgYoE9CzXy0095/Wy075HjfoIvuzUMDU96/WcJ0CgWQKInmbJcV2iBPRDqTc/+qGUmVtbfaKCxu3KEqQfSK2ebd8ZzxtFi2MQgAAEIACBeAlo7o1eWuojcaPntZ7hUS8wlbMJGo3k0HeN7GDpi3jbhNScQ/RwF2SWgM0T0o+pTOL6cdVboyiTuCopC5B+SDXWV2JIb4z0wTKU2VuAgkMAAhCAQBsJ6HmrZ7Cev5qvq632Kz2HzXqjZ29wqDqeXNvYiAXKGtFToMYuSlXNu4sEkH6E9QOs7zoeFWQBkhDSj7DGCGtr+4wTjiLGMQhAAAIQKAoBzb+VAwEJGm1ludF3fao9V/Us1UgLe8mol44SPQQItIsAoqdd5Mk3cQJ68yTxox9tiSFtq1mGVEATQBJBH/3oR70Y0grN2kcQJd6EZAgBCEAAAi0iYFab4DNS3yVuKgWNlDDHQnpGamiaPoibSsQ43k4CcYqeHu2sCHlDoBYB/ThPmDChUzR5iwu/wbIfenub1emijgMSPvbRj72JIR3DVB9FjGMQgAAEINBOAhI2er7p88c//tFv7fkXzeFPbwAACBVJREFU5TlVZdXzTM81ewkoy43NwWFdvXa2Jnm3k0C3rR2hUgHiVFeV8uA4BOImsG7dupIg0gNC+/bAiPI2Y/mbANI2bCHCoYJRYgsBCEAAAnESsKFoek7pedXocysobEzo6DlGgEAeCMSpRbD05OGOoA5lBPRjX+kHf/369SVB9NRTT5XEkD1s9MCJCjaHSA8UpR0URZXyikqHYxCAAAQgUDwCevbo+WKf4PNH56oFPWPCzx4TOoxQqEaOcxAoJ4Clp5wHewUmoCEEeiCZVciGEeiYzlULeijJVadtBw0aVPquYwwnqEaPcxCAAASyTcCeH0FRY88TbWXNqRT0fDBRo62eH8F95qJWIsfxIhCI09KD6CnCHUMdu0xA46btASZRFH5LV23YnDKXpcgEkbYDBgzwIikolHiwdbmZSAACEIBA7AT0+y9rjH30LNAzILhf7Rmg33b97tvHXoqZsGEJhtibjARzRADRk6PGpCr5IKC3fHoA6mGorT0Qbb+WpUgU9OCTCLKtCSM9KHVcH4Yy5ON+oRYQgEA6CEismJXGRIz9ftt+pcU5gzUwQaOtiRp9l7DRbzcBAhBojkCcooc5Pc21AVdBoIyAhIo+WtMgKujBaqLIhNCzzz5belOoc3rw1hJHcilqeZkQ+vCHP+yP6ZwesjqPOIpqBY5BAAJFImCixX5bg7+5OqbzldasCXLSb6t+b/X7qm34hZSOEyAAgfQTQPSkv40oYQ4ImPtQvfWrFKKGULzwwgtlwkhvHPXR4q3VgobTmTgyIdS/f3+/DoMe2nqI25C7aulwDgIQgECaCNhvoIkW7b/88sv+d1LHtG/n6im3CRr9XpqgMXFjQoeXSPWQJA4E0k8A0ZP+NqKEBSGgyazyyKNPpaDJsOG3l0FhpIe9Pfj1BrPaAnWWh8SPPfhNDOlNpr7rY+LJhJRdxxYCEIBAHAT0myaxot8sWcJNyJh40b4+ildv0O+pCRmJF33MKm772jKXsl6ixINA9gkgerLfhtSgQASCE2KrVTtKHKnToOEd6lhYB0Jb7esjBw31BHUUwkKpb9++Tm9HdVwffZdgwmtdPUSJA4F8EbB5Mvp90cfEy6uvvur3TdjYuXprL4uLvYSxlzKaP2PfTeRoX79DBAhAAAJBAoieIA2+QyAnBOoVR1ZddULCYkgdFHsDa50T67zU+8bVOim2lQiyDomEkr7bG1nFsTevEk0ECECgvQT0f64XKPp9sBcpGoar3wP9Pug3Q78JNmfR4jZSavtNsBclEiuyNEvAmJixc7xEaYQscSEAgTABRE+YCPsQKCCBRkSGvcVVhygolIJvcXVcH3WW9FGoZ6idj/j3PxJuEkEIpiAVvkOgMQImUiRU9D0oUt566y3/YsP+p+3/1uI2ltP7sfV7Yv+/Jl40p1DHJWokZvS/rXP6/yZAAAIQSIIAoicJyuQBgRwRUCdFnRd96gnW6Qp3qKzzpSF39obY3iZbJ6yrgknlM+uRvVG2Y927dy8JKh2zDpiJLB0zS5S+EyCQFAETHfZ/oHzt/yV4zP537H9M8ex/xv7fdKyZYPe+/V/YCwhZYex/xP6nwnGbyY9rIAABCLSaAKKn1YRJHwIFJ6COUbPDUqwzZx046wxaB9A6feroVRJM1gnsSjPYW2ulYR08fTfhp7fXGq4XPhacVxBMw0fs+GOCzPbZZoOA3X9WWrs/bd/uRdu3YWKbN2/2Q8N03O5LuzZ8jV3blW1YnOh+1EdCZrvttivdf7qPw3G7ki/XQgACEEgjAURPGluFMkEAAp5AHIJJCVknNfiW3ATUli1bSl6h7JiuCXdKbd+2ihN3sE6ppWsdUdvX1oSWHZMI6927t+16galj1YK9va8WJ3yumWvCaVTbN2FQLY7ONSIOgu1t6WrhyWAItrmOm9AOxmllmwfz0XfjHGx7E8f6f9AwMQW7D+yeCYrqoDD3kfkDAQhAAAIO0cNNAAEI5JJAUDBZB7GrFbXOb7BjbJ314DG5EVeHWyF43PK3dGzfRJm99bfj2jY6Fyp4Ld/jJWDiw1I1wWH7QaFix+RdTCEY1+5HEydBwWLXsYUABCAAgXgJIHri5UlqEIBAjglYZ7XVVQyLnyjrhoktK0v4Gk1Sl5hqJERZRmpd3+g1EqO1LFGWZ1Ao2LFKW6UZtHiF44XbziwqFi+cF0LEyLCFAAQgkA8CiJ58tCO1gAAEckQg3AFX1YYOHZqjGlIVCEAAAhCAQLIEtkk2O3KDAAQgAAEIQAACEIAABCCQLAFET7K8yQ0CEIAABCAAAQhAAAIQSJgAoidh4GQHAQhAAAIQgAAEIAABCCRLANGTLG9ygwAEIAABCEAAAhCAAAQSJoDoSRg42UEAAhCAAAQgAAEIQAACyRJA9CTLm9wgAAEIQAACEIAABCAAgYQJIHoSBk52EIAABCAAAQhAAAIQgECyBBA9yfImNwhAAAIQgAAEIAABCEAgYQKInoSBkx0EIAABCEAAAhCAAAQgkCwBRE+yvMkNAhCAAAQgAAEIQAACEEiYAKInYeBkBwEIQAACEIAABCAAAQgkS6BHrey6DZlaKwrnIQABCEAAAhCAAAQgAAEIpJZAt60dIbWlo2AQgAAEIAABCEAAAhCAAAS6SIDhbV0EyOUQgAAEIAABCEAAAhCAQLoJIHrS3T6UDgIQgAAEIAABCEAAAhDoIgFETxcBcjkEIAABCEAAAhCAAAQgkG4CiJ50tw+lgwAEIAABCEAAAhCAAAS6SOD/A0sbjVC1nUmmAAAAAElFTkSuQmCC)"
      ],
      "metadata": {
        "id": "hiHPNHVj9BvB"
      }
    },
    {
      "cell_type": "markdown",
      "source": [
        "**1) 수집(Acquisition)**\n",
        "\n",
        "머신 러닝을 하기 위해서는 기계에 학습시켜야 할 데이터가 필요합니다. 자연어 처리의 경우, 자연어 데이터를 말뭉치 또는 코퍼스(corpus)라고 부르는데 코퍼스의 의미를 풀이하면, 조사나 연구 목적에 의해서 특정 도메인으로부터 수집된 텍스트 집합을 말합니다. 텍스트 데이터의 파일 형식은 txt 파일, csv 파일, xml 파일 등 다양하며 그 출처도 음성 데이터, 웹 수집기를 통해 수집된 데이터, 영화 리뷰 등 다양합니다.\n",
        "\n",
        "**2) 점검 및 탐색(Inspection and exploration)**\n",
        "\n",
        "데이터가 수집되었다면, 이제 데이터를 점검하고 탐색하는 단계입니다. 여기서는 데이터의 구조, 노이즈 데이터, 머신 러닝 적용을 위해서 데이터를 어떻게 정제해야하는지 등을 파악해야 합니다.\n",
        "\n",
        "이 단계를 탐색적 데이터 분석(Exploratory Data Analysis, EDA) 단계라고도 하는데 이는 독립 변수, 종속 변수, 변수 유형, 변수의 데이터 타입 등을 점검하며 데이터의 특징과 내재하는 구조적 관계를 알아내는 과정을 의미합니다. 이 과정에서 시각화와 간단한 통계 테스트를 진행하기도 합니다."
      ],
      "metadata": {
        "id": "MWJUHkSF9T4q"
      }
    },
    {
      "cell_type": "markdown",
      "source": [
        "**3) 전처리 및 정제(Preprocessing and Cleaning)**\n",
        "\n",
        "데이터에 대한 파악이 끝났다면, 머신 러닝 워크플로우에서 가장 까다로운 작업 중 하나인 데이터 전처리 과정에 들어갑니다. 이 단계는 많은 단계를 포함하고 있는데, 가령 자연어 처리라면 토큰화, 정제, 정규화, 불용어 제거 등의 단계를 포함합니다. 빠르고 정확한 데이터 전처리를 하기 위해서는 사용하고 있는 툴(이 책에서는 파이썬)에 대한 다양한 라이브러리에 대한 지식이 필요합니다. 정말 까다로운 전처리의 경우에는 전처리 과정에서 머신 러닝이 사용되기도 합니다.\n",
        "\n",
        "**4) 모델링 및 훈련(Modeling and Training)**\n",
        "\n",
        "데이터 전처리가 끝났다면, 머신 러닝에 대한 코드를 작성하는 단계인 모델링 단계에 들어갑니다. 적절한 머신 러닝 알고리즘을 선택하여 모델링이 끝났다면, 전처리가 완료 된 데이터를 머신 러닝 알고리즘을 통해 기계에게 학습(training)시킵니다. 이를 훈련이라고도 하는데, 이 두 용어를 혼용해서 사용합니다. 기계가 데이터에 대한 학습을 마치고나서 훈련이 제대로 되었다면 그 후에 기계는 우리가 원하는 태스크(task)인 기계 번역, 음성 인식, 텍스트 분류 등의 자연어 처리 작업을 수행할 수 있게 됩니다.\n",
        "\n",
        "여기서 주의해야 할 점은 대부분의 경우에서 모든 데이터를 기계에게 학습시켜서는 안 된다는 점입니다. 뒤의 실습에서 보게되겠지만 데이터 중 일부는 테스트용으로 남겨두고 훈련용 데이터만 훈련에 사용해야 합니다. 그래야만 기계가 학습을 하고나서, 테스트용 데이터를 통해서 현재 성능이 얼마나 되는지를 측정할 수 있으며 과적합(overfitting) 상황을 막을 수 있습니다. 사실 최선은 훈련용, 테스트용으로 두 가지만 나누는 것보다는 훈련용, 검증용, 테스트용. 데이터를 이렇게 세 가지로 나누고 훈련용 데이터만 훈련에 사용하는 것입니다.\n",
        "\n",
        "\n",
        "![image.png](data:image/png;base64,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)\n",
        "\n",
        "검증용과 테스트용의 차이는 무엇일까요? 수능 시험에 비유하자면 훈련용은 학습지, 검증용은 모의고사, 테스트용은 수능 시험이라고 볼 수 있습니다. 학습지를 풀고 수능 시험을 볼 수도 있겠지만, 모의 고사를 풀며 부족한 부분이 무엇인지 검증하고 보완하는 단계를 하나 더 놓는 방법도 있겠지요. 사실 현업의 경우라면 검증용 데이터는 거의 필수적입니다.\n",
        "\n",
        "검증용 데이터는 현재 모델의 성능. 즉, 기계가 훈련용 데이터로 얼마나 제대로 학습이 되었는지를 판단하는 용으로 사용되며 검증용 데이터를 사용하여 모델의 성능을 개선하는데 사용됩니다. 테스트용 데이터는 모델의 최종 성능을 평가하는 데이터로 모델의 성능을 개선하는 일에 사용되는 것이 아니라, 모델의 성능을 수치화하여 평가하기 위해 사용됩니다. 쉽게 말해 시험에 비유하면 채점하는 단계입니다.\n",
        "\n",
        "이 책에서는 실습 상황에 따라서 훈련용, 검증용, 테스트용 세 가지를 모두 사용하거나 때로는 훈련용, 테스트용 두 가지만 사용하기도 합니다. 하지만 현업에서 최선은 검증용 데이터 또한 사용하는 것임을 기억해둡시다."
      ],
      "metadata": {
        "id": "n5wTUPpm9YRh"
      }
    },
    {
      "cell_type": "markdown",
      "source": [
        "**5) 평가(Evaluation)**\n",
        "\n",
        "미리 언급하였는데, 기계가 다 학습이 되었다면 테스트용 데이터로 성능을 평가하게 됩니다. 평가 방법은 기계가 예측한 데이터가 테스트용 데이터의 실제 정답과 얼마나 가까운지를 측정합니다.\n",
        "\n",
        "**6) 배포(Deployment)**\n",
        "\n",
        "평가 단계에서 기계가 성공적으로 훈련이 된 것으로 판단된다면 완성된 모델이 배포되는 단계가 됩니다. 다만, 여기서 완성된 모델에 대한 전체적인 피드백으로 인해 모델을 업데이트 해야하는 상황이 온다면 수집 단계로 돌아갈 수 있습니다."
      ],
      "metadata": {
        "id": "diZmLJDC9lHR"
      }
    },
    {
      "cell_type": "markdown",
      "source": [
        "# **02. 텍스트 전처리(Text preprocessing)**\n",
        "\n",
        "텍스트 전처리: 풀고자 하는 문제의 용도에 맞게 텍스트를 사전에 처리하는 작업\n",
        "- 토큰화(tokenization)\n",
        "-정제(cleaning) \n",
        "-정규화(normalization) 등~\n",
        "\n",
        "텍스트에 제대로 전처리를 하지 않으면 뒤에서 배울 자연어 처리 기법들이 제대로 동작하지 않습니다.\n",
        "\n"
      ],
      "metadata": {
        "id": "ntCMflli9pnk"
      }
    },
    {
      "cell_type": "markdown",
      "source": [
        "## **01) 토큰화(Tokenization)**\n",
        "\n",
        "토큰화(tokenization) : 주어진 코퍼스(corpus)에서 토큰(token)이라 불리는 단위로 나누는 작업\n",
        "- 토큰의 단위가 상황에 따라 다르지만, 보통 의미있는 단위로 토큰을 정의"
      ],
      "metadata": {
        "id": "PBOq57Om99Ev"
      }
    },
    {
      "cell_type": "markdown",
      "source": [
        "## **1. 단어 토큰화(Word Tokenization)**\n",
        "\n",
        "단어 토큰화(word tokenization): 토큰의 기준을 단어(word)로 하는 것\n",
        "- 단어(word): 단어 단위/ 단어구/ 의미를 갖는 문자열로도 간주되기도 함!\n",
        "- ex) 입력으로부터 구두점(punctuation-,.?!; 등)과 같은 문자는 제외시키는 간단한 단어 토큰화 작업\n",
        "  - 입력: Time is an illusion. Lunchtime double so!\n",
        "  - 출력 : \"Time\", \"is\", \"an\", \"illustion\", \"Lunchtime\", \"double\", \"so\"\n",
        "- 구두점을 지운 뒤에 띄어쓰기(whitespace)를 기준으로 잘라냄\n",
        "\n",
        "BUTTTTTT~~ 보통 토큰화 작업은 단순히 구두점이나 특수문자를 전부 제거하는 정제(cleaning) 작업을 수행하는 것만으로 해결되지 않습니다. 구두점이나 특수문자를 전부 제거하면 토큰이 의미를 잃어버리는 경우가 발생하기도 합니다. 심지어 띄어쓰기 단위로 자르면 사실상 단어 토큰이 구분되는 영어와 달리, 한국어는 띄어쓰기만으로는 단어 토큰을 구분하기 어렵습니다."
      ],
      "metadata": {
        "id": "nPg5Yl5y-ppa"
      }
    },
    {
      "cell_type": "markdown",
      "source": [
        "### **2. 토큰화 중 생기는 선택의 순간**\n",
        "\n",
        "토큰화의 기준을 생각해봐야 하는 경우가 발생합니다. 영어권 언어에서 아포스트로피를(')가 들어가있는 단어는 어떻게 토큰으로 분류해야 하는지에 대한 선택\n",
        "- ex) Don't be fooled by the dark sounding name, Mr. Jone's Orphanage is as cheery as cheery goes for a pastry shop.\n",
        "\n",
        "Don't\n",
        "Don t\n",
        "Dont\n",
        "Do n't\n",
        "Jone's\n",
        "Jone s\n",
        "Jone\n",
        "Jones\n",
        "이 중 어쩔거임."
      ],
      "metadata": {
        "id": "BSPUT5QdA--d"
      }
    },
    {
      "cell_type": "code",
      "source": [
        "import nltk\n",
        "nltk.download('punkt')"
      ],
      "metadata": {
        "colab": {
          "base_uri": "https://localhost:8080/"
        },
        "id": "00tbPkbrBfXP",
        "outputId": "ca3ca9ba-1716-4c45-be89-4c129aa5ec91"
      },
      "execution_count": 15,
      "outputs": [
        {
          "output_type": "stream",
          "name": "stdout",
          "text": [
            "[nltk_data] Downloading package punkt to /root/nltk_data...\n",
            "[nltk_data]   Unzipping tokenizers/punkt.zip.\n"
          ]
        },
        {
          "output_type": "execute_result",
          "data": {
            "text/plain": [
              "True"
            ]
          },
          "metadata": {},
          "execution_count": 15
        }
      ]
    },
    {
      "cell_type": "code",
      "source": [
        "from nltk.tokenize import word_tokenize\n",
        "from nltk.tokenize import WordPunctTokenizer\n",
        "from tensorflow.keras.preprocessing.text import text_to_word_sequence\n",
        "# word_tokenize를 사용해봅시다.\n",
        "\n",
        "print('단어 토큰화1 :',word_tokenize(\"Don't be fooled by the dark sounding name, Mr. Jone's Orphanage is as cheery as cheery goes for a pastry shop.\"))"
      ],
      "metadata": {
        "id": "JmXIS2HOca4m",
        "colab": {
          "base_uri": "https://localhost:8080/"
        },
        "outputId": "b3d9b714-22c9-4426-9ec5-bc89a33a3c2b"
      },
      "execution_count": 16,
      "outputs": [
        {
          "output_type": "stream",
          "name": "stdout",
          "text": [
            "단어 토큰화1 : ['Do', \"n't\", 'be', 'fooled', 'by', 'the', 'dark', 'sounding', 'name', ',', 'Mr.', 'Jone', \"'s\", 'Orphanage', 'is', 'as', 'cheery', 'as', 'cheery', 'goes', 'for', 'a', 'pastry', 'shop', '.']\n"
          ]
        }
      ]
    },
    {
      "cell_type": "markdown",
      "source": [
        "word_tokenize는 Don't를 Do와 n't로 분리하였으며, 반면 Jone's는 Jone과 's로 분리한 것을 확인할 수 있습니다."
      ],
      "metadata": {
        "id": "hkk4wMXGBsSU"
      }
    },
    {
      "cell_type": "code",
      "source": [
        "#wordPunctTokenizer\n",
        "print('단어 토큰화2 :',WordPunctTokenizer().tokenize(\"Don't be fooled by the dark sounding name, Mr. Jone's Orphanage is as cheery as cheery goes for a pastry shop.\"))"
      ],
      "metadata": {
        "colab": {
          "base_uri": "https://localhost:8080/"
        },
        "id": "MakG0w6dBZ2_",
        "outputId": "f3bdfd98-3137-469c-d58b-5165ea84a48d"
      },
      "execution_count": 18,
      "outputs": [
        {
          "output_type": "stream",
          "name": "stdout",
          "text": [
            "단어 토큰화2 : ['Don', \"'\", 't', 'be', 'fooled', 'by', 'the', 'dark', 'sounding', 'name', ',', 'Mr', '.', 'Jone', \"'\", 's', 'Orphanage', 'is', 'as', 'cheery', 'as', 'cheery', 'goes', 'for', 'a', 'pastry', 'shop', '.']\n"
          ]
        }
      ]
    },
    {
      "cell_type": "markdown",
      "source": [
        "WordPunctTokenizer는 구두점을 별도로 분류하는 특징을 갖고 있기 때문에,  Don't를 Don과 '와 t로 분리하였으며, 이와 마찬가지로 Jone's를 Jone과 '와 s로 분리한 것을 확인할 수 있습니다. "
      ],
      "metadata": {
        "id": "0VGlRoHHB3BG"
      }
    },
    {
      "cell_type": "code",
      "source": [
        "#text_to_word_sequence\n",
        "print('단어 토큰화3 :',text_to_word_sequence(\"Don't be fooled by the dark sounding name, Mr. Jone's Orphanage is as cheery as cheery goes for a pastry shop.\"))"
      ],
      "metadata": {
        "colab": {
          "base_uri": "https://localhost:8080/"
        },
        "id": "wwL05rEXBuTU",
        "outputId": "52c8d642-8366-43fb-9510-1256e073c659"
      },
      "execution_count": 19,
      "outputs": [
        {
          "output_type": "stream",
          "name": "stdout",
          "text": [
            "단어 토큰화3 : [\"don't\", 'be', 'fooled', 'by', 'the', 'dark', 'sounding', 'name', 'mr', \"jone's\", 'orphanage', 'is', 'as', 'cheery', 'as', 'cheery', 'goes', 'for', 'a', 'pastry', 'shop']\n"
          ]
        }
      ]
    },
    {
      "cell_type": "markdown",
      "source": [
        "케라스의 text_to_word_sequence는 기본적으로 모든 알파벳을 소문자로 바꾸면서 마침표나 컴마, 느낌표 등의 구두점을 제거합니다. 하지만 don't나 jone's와 같은 경우 아포스트로피는 보존하는 것을 볼 수 있습니다."
      ],
      "metadata": {
        "id": "SOaQFomDB76e"
      }
    },
    {
      "cell_type": "markdown",
      "source": [
        "### **3. 토큰화에서 고려해야할 사항**\n",
        "\n",
        "**1) 구두점이나 특수 문자를 단순 제외해서는 안 된다.**\n",
        "\n",
        "1. 문장의 경계를 알 수 있는데 도움이 되므로 단어를 뽑아낼 때, 마침표(.)를 제외하지 않을 수 있습니다.\n",
        "2. m.p.h나 Ph.D나 AT&T 같은 경우가 있습니다. \n",
        "3. 특수 문자의 달러()나 슬래시(/)로 예를 들어보면, $45.55와 같은 가격을 의미 하기도 하고, 01/02/06은 날짜를 의미하기도 합니다. \n",
        "4. 숫자 사이에 컴마(,)가 들어가는 경우도 있습니다. 보통 수치를 표현할 때는 123,456,789와 같이 세 자리 단위로 컴마가 있습니다.\n",
        "\n",
        "**2) 줄임말과 단어 내에 띄어쓰기가 있는 경우.**\n",
        "\n",
        "we're는 we are의 줄임말입니다. 위의 예에서 re를 접어(clitic)인데. \n",
        "\n",
        "New York이라는 단어나 rock 'n' roll이라는 단어를 봅시다. 이 단어들은 하나의 단어이지만 중간에 띄어쓰기가 존재합니다. \n"
      ],
      "metadata": {
        "id": "VIxyjuinCKWt"
      }
    },
    {
      "cell_type": "markdown",
      "source": [
        "\n",
        "**3) 표준 토큰화 예제**\n",
        "\n",
        "Penn Treebank Tokenization\n",
        "\n",
        "규칙 1. 하이푼으로 구성된 단어는 하나로 유지한다.\n",
        "규칙 2. doesn't와 같이 아포스트로피로 '접어'가 함께하는 단어는 분리해준다."
      ],
      "metadata": {
        "id": "EAgpJ72jGFhO"
      }
    },
    {
      "cell_type": "code",
      "source": [
        "from nltk.tokenize import TreebankWordTokenizer\n",
        "\n",
        "tokenizer = TreebankWordTokenizer()\n",
        "\n",
        "text = \"Starting a home-based restaurant may be an ideal. it doesn't have a food chain or restaurant of their own.\"\n",
        "print('트리뱅크 워드토크나이저 :',tokenizer.tokenize(text))"
      ],
      "metadata": {
        "colab": {
          "base_uri": "https://localhost:8080/"
        },
        "id": "JQ_Oap_8F9p-",
        "outputId": "3c74595e-48ae-4e46-afd4-d0d55bffe712"
      },
      "execution_count": 20,
      "outputs": [
        {
          "output_type": "stream",
          "name": "stdout",
          "text": [
            "트리뱅크 워드토크나이저 : ['Starting', 'a', 'home-based', 'restaurant', 'may', 'be', 'an', 'ideal.', 'it', 'does', \"n't\", 'have', 'a', 'food', 'chain', 'or', 'restaurant', 'of', 'their', 'own', '.']\n"
          ]
        }
      ]
    },
    {
      "cell_type": "markdown",
      "source": [
        "결과를 보면, 각각 규칙1과 규칙2에 따라서 home-based는 하나의 토큰으로 취급하고 있으며, dosen't의 경우 does와 n't는 분리되었음을 볼 수 있습니다.\n",
        "\n"
      ],
      "metadata": {
        "id": "zc3P9plsGAvq"
      }
    },
    {
      "cell_type": "markdown",
      "source": [
        "### **4. 문장 토큰화(Sentence Tokenization)**\n",
        "\n",
        "코퍼스 내에서 문장 단위로 구분하는 작업으로 때로는 문장 분류(sentence segmentation)라고도 부릅니다. 보통 갖고있는 코퍼스가 정제되지 않은 상태라면, 코퍼스는 문장 단위로 구분되어 있지 않아서 이를 사용하고자 하는 용도에 맞게 문장 토큰화가 필요할 수 있습니다.\n"
      ],
      "metadata": {
        "id": "-pOWFQx4GIhP"
      }
    },
    {
      "cell_type": "markdown",
      "source": [
        "!나 ?는 문장의 구분을 위한 꽤 명확한 구분자(boundary) 역할을 하지만 마침표는 그렇지 않기 때문입니다. 마침표는 문장의 끝이 아니더라도 등장할 수 있습니다.\n",
        "\n",
        "EX1) IP 192.168.56.31 서버에 들어가서 로그 파일 저장해서 aaa@gmail.com로 결과 좀 보내줘. 그 후 점심 먹으러 가자.\n",
        "\n",
        "EX2) Since I'm actively looking for Ph.D. students, I get the same question a dozen times every year.\n",
        "\n",
        "단순히 마침표(.)로 문장을 구분짓는다고 가정하면, 문장의 끝이 나오기 전에 이미 마침표가 여러번 등장하여 예상한 결과가 나오지 않게 됩니다.\n"
      ],
      "metadata": {
        "id": "TcpbKT86HlAP"
      }
    },
    {
      "cell_type": "code",
      "source": [
        "from nltk.tokenize import sent_tokenize\n",
        "\n",
        "text = \"His barber kept his word. But keeping such a huge secret to himself was driving him crazy. Finally, the barber went up a mountain and almost to the edge of a cliff. He dug a hole in the midst of some reeds. He looked about, to make sure no one was near.\"\n",
        "print('문장 토큰화1 :',sent_tokenize(text))"
      ],
      "metadata": {
        "colab": {
          "base_uri": "https://localhost:8080/"
        },
        "id": "YSs_qOy7F9z3",
        "outputId": "a723cc85-8f64-475b-eb17-6fbb7a50ccb5"
      },
      "execution_count": 21,
      "outputs": [
        {
          "output_type": "stream",
          "name": "stdout",
          "text": [
            "문장 토큰화1 : ['His barber kept his word.', 'But keeping such a huge secret to himself was driving him crazy.', 'Finally, the barber went up a mountain and almost to the edge of a cliff.', 'He dug a hole in the midst of some reeds.', 'He looked about, to make sure no one was near.']\n"
          ]
        }
      ]
    },
    {
      "cell_type": "markdown",
      "source": [
        "위 코드는 text에 저장된 여러 개의 문장들로부터 문장을 구분하는 코드입니다. 출력 결과를 보면 성공적으로 모든 문장을 구분해내었음을 볼 수 있습니다. 그렇다면 이번에는 문장 중간에 마침표가 다수 등장하는 경우에 대해서도 실습해보겠습니다.\n",
        "\n"
      ],
      "metadata": {
        "id": "CucDLfU6IHVx"
      }
    },
    {
      "cell_type": "code",
      "source": [
        "text = \"I am actively looking for Ph.D. students. and you are a Ph.D student.\"\n",
        "print('문장 토큰화2 :',sent_tokenize(text))"
      ],
      "metadata": {
        "colab": {
          "base_uri": "https://localhost:8080/"
        },
        "id": "hOBYhUIxIFPR",
        "outputId": "4f52e771-c7fa-4727-812e-91a74f8dd868"
      },
      "execution_count": 22,
      "outputs": [
        {
          "output_type": "stream",
          "name": "stdout",
          "text": [
            "문장 토큰화2 : ['I am actively looking for Ph.D. students.', 'and you are a Ph.D student.']\n"
          ]
        }
      ]
    },
    {
      "cell_type": "markdown",
      "source": [
        "NLTK는 단순히 마침표를 구분자로 하여 문장을 구분하지 않았기 때문에, Ph.D.를 문장 내의 단어로 인식하여 성공적으로 인식하는 것을 볼 수 있습니다. \n",
        "\n",
        "\n",
        "한국어에 대한 문장 토큰화 도구 또한 존재합니다. 한국어의 경우에는 박상길님이 개발한 KSS(Korean Sentence Splitter)를 추천합니다. 다음과 같이 KSS를 설치합니다."
      ],
      "metadata": {
        "id": "QHvY2KyWIRBm"
      }
    },
    {
      "cell_type": "code",
      "source": [
        "pip install kss"
      ],
      "metadata": {
        "colab": {
          "base_uri": "https://localhost:8080/"
        },
        "id": "Tu0HA7e6IJli",
        "outputId": "8ca6656f-6f9e-41d1-e52f-db539409ec04"
      },
      "execution_count": 23,
      "outputs": [
        {
          "output_type": "stream",
          "name": "stdout",
          "text": [
            "Collecting kss\n",
            "  Downloading kss-3.4.tar.gz (42.4 MB)\n",
            "\u001b[K     |████████████████████████████████| 42.4 MB 7.5 MB/s \n",
            "\u001b[?25hCollecting emoji\n",
            "  Downloading emoji-1.6.3.tar.gz (174 kB)\n",
            "\u001b[K     |████████████████████████████████| 174 kB 45.5 MB/s \n",
            "\u001b[?25hRequirement already satisfied: regex in /usr/local/lib/python3.7/dist-packages (from kss) (2019.12.20)\n",
            "Building wheels for collected packages: kss, emoji\n",
            "  Building wheel for kss (setup.py) ... \u001b[?25l\u001b[?25hdone\n",
            "  Created wheel for kss: filename=kss-3.4-py3-none-any.whl size=42449209 sha256=bdbc6823d45fcdb75e8b21bc7cc57e40ca7eeca1cc4034afc482bba45fb6c88b\n",
            "  Stored in directory: /root/.cache/pip/wheels/06/8e/5b/305f0a804fba3943f353f1b0e3cb1fad39e4f5ae4893ea9590\n",
            "  Building wheel for emoji (setup.py) ... \u001b[?25l\u001b[?25hdone\n",
            "  Created wheel for emoji: filename=emoji-1.6.3-py3-none-any.whl size=170298 sha256=a1fe8b463f0d56d50a1c895ce9c6d90e7ef579939d186ff2c8eebd973d4f744b\n",
            "  Stored in directory: /root/.cache/pip/wheels/03/8b/d7/ad579fbef83c287215c0caab60fb0ae0f30c4d7ce5f580eade\n",
            "Successfully built kss emoji\n",
            "Installing collected packages: emoji, kss\n",
            "Successfully installed emoji-1.6.3 kss-3.4\n"
          ]
        }
      ]
    },
    {
      "cell_type": "code",
      "source": [
        "# KSS를 통해서 문장 토큰화를 진행해보겠습니다.\n",
        "\n",
        "import kss\n",
        "\n",
        "text = '딥 러닝 자연어 처리가 재미있기는 합니다. 그런데 문제는 영어보다 한국어로 할 때 너무 어렵습니다. 이제 해보면 알걸요?'\n",
        "print('한국어 문장 토큰화 :',kss.split_sentences(text))"
      ],
      "metadata": {
        "colab": {
          "base_uri": "https://localhost:8080/"
        },
        "id": "ScKhXoIrIWxE",
        "outputId": "92b77d6d-2620-4688-ce38-945be807926f"
      },
      "execution_count": 24,
      "outputs": [
        {
          "output_type": "stream",
          "name": "stderr",
          "text": [
            "[Korean Sentence Splitter]: Initializing Pynori...\n"
          ]
        },
        {
          "output_type": "stream",
          "name": "stdout",
          "text": [
            "한국어 문장 토큰화 : ['딥 러닝 자연어 처리가 재미있기는 합니다.', '그런데 문제는 영어보다 한국어로 할 때 너무 어렵습니다.', '이제 해보면 알걸요?']\n"
          ]
        }
      ]
    },
    {
      "cell_type": "markdown",
      "source": [
        "### **5. 한국어에서의 토큰화의 어려움.**\n",
        "\n",
        "\n",
        "한국어는 영어와는 달리 띄어쓰기만으로는 토큰화를 하기에 부족합니다. 한국어의 경우에는 띄어쓰기 단위가 되는 단위를 '어절'이라고 하는데 어절 토큰화는 한국어 NLP에서 지양되고 있습니다. 어절 토큰화와 단어 토큰화는 같지 않기 때문입니다. 그 근본적인 이유는 한국어가 영어와는 다른 형태를 가지는 언어인 교착어라는 점에서 기인합니다. 교착어란 조사, 어미 등을 붙여서 말을 만드는 언어를 말합니다."
      ],
      "metadata": {
        "id": "8h05_AlvIrFk"
      }
    },
    {
      "cell_type": "markdown",
      "source": [
        "**1) 교착어의 특성**\n",
        "\n",
        "영어와는 달리 한국어에는 조사라는 것이 존재합니다. '그'라는 단어 하나에도 '그가', '그에게', '그를', '그와', '그는'과 같이 다양한 조사가 '그'라는 글자 뒤에 띄어쓰기 없이 바로 붙게됩니다. <font color=red>자연어 처리를 하다보면 같은 단어임에도 서로 다른 조사가 붙어서 다른 단어로 인식이 되면 자연어 처리가 힘들고 번거로워지는 경우가 많습니다. 대부분의 한국어 NLP에서 조사는 분리해줄 필요가 있습니다.\n",
        "\n",
        "띄어쓰기 단위가 영어처럼 독립적인 단어라면 띄어쓰기 단위로 토큰화를 하면 되겠지만 한국어는 어절이 독립적인 단어로 구성되는 것이 아니라 조사 등의 무언가가 붙어있는 경우가 많아서 이를 전부 분리해줘야 한다는 의미입니다.\n",
        "\n",
        "한국어 토큰화에서는 형태소(morpheme) 란 개념을 반드시 이해해야 합니다. 형태소(morpheme)란 뜻을 가진 가장 작은 말의 단위를 말합니다. 이 형태소에는 두 가지 형태소가 있는데 자립 형태소와 의존 형태소입니다.\n",
        "\n",
        "자립 형태소 : 접사, 어미, 조사와 상관없이 자립하여 사용할 수 있는 형태소. 그 자체로 단어가 된다. 체언(명사, 대명사, 수사), 수식언(관형사, 부사), 감탄사 등이 있다.\n",
        "\n",
        "의존 형태소 : 다른 형태소와 결합하여 사용되는 형태소. 접사, 어미, 조사, 어간를 말한다.\n",
        "예를 들어 다음과 같은 문장이 있다고 합시다.\n",
        "\n",
        "문장 : 에디가 책을 읽었다\n",
        "\n",
        "<띄어쓰기 단위 토큰화>\n",
        "\n",
        "['에디가', '책을', '읽었다']\n",
        "\n",
        "<형태소 단위로 분해>\n",
        "\n",
        "자립 형태소 : 에디, 책\n",
        "의존 형태소 : -가, -을, 읽-, -었, -다\n",
        "\n",
        "한국어에서 영어에서의 단어 토큰화와 유사한 형태를 얻으려면 어절 토큰화가 아니라 형태소 토큰화를 수행해야한다는 겁니다.\n",
        "\n",
        "🎃-> lemmatizing이랑 비슷한듯?"
      ],
      "metadata": {
        "id": "oXdaDcBKJfhk"
      }
    },
    {
      "cell_type": "markdown",
      "source": [
        "**2) 한국어는 띄어쓰기가 영어보다 잘 지켜지지 않는다.**\n",
        "\n",
        "많은 경우에 띄어쓰기가 틀렸거나 지켜지지 않는 코퍼스가 많습니다.\n",
        "- 한국어의 경우 띄어쓰기가 지켜지지 않아도 글을 쉽게 이해할 수 있는 언어라는 점입니다. \n",
        "\n",
        "EX1) 제가이렇게띄어쓰기를전혀하지않고글을썼다고하더라도글을이해할수있습니다.\n",
        "\n",
        "EX2) Tobeornottobethatisthequestion\n",
        "\n",
        "영어의 경우에는 띄어쓰기를 하지 않으면 손쉽게 알아보기 어려운 문장들이 생깁니다. 이는 한국어(모아쓰기 방식)와 영어(풀어쓰기 방식)라는 언어적 특성의 차이에 기인합니다. "
      ],
      "metadata": {
        "id": "zwOqkfBWLTzV"
      }
    },
    {
      "cell_type": "markdown",
      "source": [
        "### **6. 품사 태깅(Part-of-speech tagging)**\n",
        "\n",
        "단어는 표기는 같지만 품사에 따라서 단어의 의미가 달라지기도 합니다. 예를 들어서 영어 단어 'fly'는 동사로는 '날다'라는 의미를 갖지만, 명사로는 '파리'라는 의미를 갖고있습니다.  '못'이라는 단어는 명사로서는 망치를 사용해서 목재 따위를 고정하는 물건을 의미합니다. 하지만 부사로서의 '못'은 '먹는다', '달린다'와 같은 동작 동사를 할 수 없다는 의미로 쓰입니다. 결국 단어의 의미를 제대로 파악하기 위해서는 해당 단어가 어떤 품사로 쓰였는지 보는 것이 주요 지표가 될 수도 있습니다. 그에 따라 단어 토큰화 과정에서 각 단어가 어떤 품사로 쓰였는지를 구분해놓기도 하는데, 이 작업을 품사 태깅(part-of-speech tagging)이라고 합니다. "
      ],
      "metadata": {
        "id": "Y-aWRh5FLisT"
      }
    },
    {
      "cell_type": "markdown",
      "source": [
        "### **7. NLTK와 KoNLPy를 이용한 영어, 한국어 토큰화 실습**\n",
        "\n",
        "NLTK에서는 Penn Treebank POS Tags라는 기준을 사용하여 품사를 태깅합니다."
      ],
      "metadata": {
        "id": "e0osRBHZL6qm"
      }
    },
    {
      "cell_type": "code",
      "source": [
        "nltk.download('averaged_perceptron_tagger')"
      ],
      "metadata": {
        "colab": {
          "base_uri": "https://localhost:8080/"
        },
        "id": "63Zp-DUnMCw8",
        "outputId": "77b55521-99dd-44fd-b4ca-a41a3f4376a6"
      },
      "execution_count": 26,
      "outputs": [
        {
          "output_type": "stream",
          "name": "stdout",
          "text": [
            "[nltk_data] Downloading package averaged_perceptron_tagger to\n",
            "[nltk_data]     /root/nltk_data...\n",
            "[nltk_data]   Unzipping taggers/averaged_perceptron_tagger.zip.\n"
          ]
        },
        {
          "output_type": "execute_result",
          "data": {
            "text/plain": [
              "True"
            ]
          },
          "metadata": {},
          "execution_count": 26
        }
      ]
    },
    {
      "cell_type": "code",
      "source": [
        "from nltk.tokenize import word_tokenize\n",
        "from nltk.tag import pos_tag\n",
        "\n",
        "text = \"I am actively looking for Ph.D. students. and you are a Ph.D. student.\"\n",
        "tokenized_sentence = word_tokenize(text)\n",
        "\n",
        "print('단어 토큰화 :',tokenized_sentence)\n",
        "print('품사 태깅 :',pos_tag(tokenized_sentence))"
      ],
      "metadata": {
        "colab": {
          "base_uri": "https://localhost:8080/"
        },
        "id": "qcmrmwtjIffD",
        "outputId": "3ecc9911-263c-4ad7-ef32-312aa99dada0"
      },
      "execution_count": 27,
      "outputs": [
        {
          "output_type": "stream",
          "name": "stdout",
          "text": [
            "단어 토큰화 : ['I', 'am', 'actively', 'looking', 'for', 'Ph.D.', 'students', '.', 'and', 'you', 'are', 'a', 'Ph.D.', 'student', '.']\n",
            "품사 태깅 : [('I', 'PRP'), ('am', 'VBP'), ('actively', 'RB'), ('looking', 'VBG'), ('for', 'IN'), ('Ph.D.', 'NNP'), ('students', 'NNS'), ('.', '.'), ('and', 'CC'), ('you', 'PRP'), ('are', 'VBP'), ('a', 'DT'), ('Ph.D.', 'NNP'), ('student', 'NN'), ('.', '.')]\n"
          ]
        }
      ]
    },
    {
      "cell_type": "markdown",
      "source": [
        "Penn Treebank POG Tags에서 PRP는 인칭 대명사, VBP는 동사, RB는 부사, VBG는 현재부사, IN은 전치사, NNP는 고유 명사, NNS는 복수형 명사, CC는 접속사, DT는 관사를 의미합니다.\n",
        "\n",
        "한국어 자연어 처리를 위해서는 KoNLPy(코엔엘파이)라는 파이썬 패키지를 사용할 수 있습니다. 코엔엘파이를 통해서 사용할 수 있는 형태소 분석기로 Okt(Open Korea Text), 메캅(Mecab), 코모란(Komoran), 한나눔(Hannanum), 꼬꼬마(Kkma)가 있습니다.\n",
        "\n"
      ],
      "metadata": {
        "id": "sXUHN6ujMI8C"
      }
    },
    {
      "cell_type": "code",
      "source": [
        "pip install konlpy"
      ],
      "metadata": {
        "colab": {
          "base_uri": "https://localhost:8080/"
        },
        "id": "zagK3a43NrK7",
        "outputId": "e96801ca-8365-4f42-efef-8904a7256749"
      },
      "execution_count": 2,
      "outputs": [
        {
          "output_type": "stream",
          "name": "stdout",
          "text": [
            "Collecting konlpy\n",
            "  Downloading konlpy-0.6.0-py2.py3-none-any.whl (19.4 MB)\n",
            "\u001b[K     |████████████████████████████████| 19.4 MB 10.3 MB/s \n",
            "\u001b[?25hRequirement already satisfied: numpy>=1.6 in /usr/local/lib/python3.7/dist-packages (from konlpy) (1.21.5)\n",
            "Requirement already satisfied: lxml>=4.1.0 in /usr/local/lib/python3.7/dist-packages (from konlpy) (4.2.6)\n",
            "Collecting JPype1>=0.7.0\n",
            "  Downloading JPype1-1.3.0-cp37-cp37m-manylinux_2_5_x86_64.manylinux1_x86_64.whl (448 kB)\n",
            "\u001b[K     |████████████████████████████████| 448 kB 45.8 MB/s \n",
            "\u001b[?25hRequirement already satisfied: typing-extensions in /usr/local/lib/python3.7/dist-packages (from JPype1>=0.7.0->konlpy) (3.10.0.2)\n",
            "Installing collected packages: JPype1, konlpy\n",
            "Successfully installed JPype1-1.3.0 konlpy-0.6.0\n"
          ]
        }
      ]
    },
    {
      "cell_type": "code",
      "source": [
        "from konlpy.tag import Okt\n",
        "from konlpy.tag import Kkma\n",
        "\n",
        "okt = Okt()\n",
        "kkma = Kkma()\n",
        "\n",
        "print('OKT 형태소 분석 :',okt.morphs(\"열심히 코딩한 당신, 연휴에는 여행을 가봐요\"))\n",
        "print('OKT 품사 태깅 :',okt.pos(\"열심히 코딩한 당신, 연휴에는 여행을 가봐요\"))\n",
        "print('OKT 명사 추출 :',okt.nouns(\"열심히 코딩한 당신, 연휴에는 여행을 가봐요\"))\n",
        "# 각각의 메소드는 아래와 같은 기능을 갖고 있습니다.\n",
        "# 1) morphs : 형태소 추출\n",
        "# 2) pos : 품사 태깅(Part-of-speech tagging)\n",
        "# 3) nouns : 명사 추출\n",
        "#조사를 기본적으로 분리하고 있음\n",
        "################\n",
        "\n",
        "print() \n",
        "print('꼬꼬마 형태소 분석 :',kkma.morphs(\"열심히 코딩한 당신, 연휴에는 여행을 가봐요\"))\n",
        "print('꼬꼬마 품사 태깅 :',kkma.pos(\"열심히 코딩한 당신, 연휴에는 여행을 가봐요\"))\n",
        "print('꼬꼬마 명사 추출 :',kkma.nouns(\"열심히 코딩한 당신, 연휴에는 여행을 가봐요\"))  "
      ],
      "metadata": {
        "colab": {
          "base_uri": "https://localhost:8080/"
        },
        "id": "IFGzi9F3LO1x",
        "outputId": "b60a391f-2777-4a8d-809b-a8e29baaeb54"
      },
      "execution_count": 31,
      "outputs": [
        {
          "output_type": "stream",
          "name": "stdout",
          "text": [
            "OKT 형태소 분석 : ['열심히', '코딩', '한', '당신', ',', '연휴', '에는', '여행', '을', '가봐요']\n",
            "OKT 품사 태깅 : [('열심히', 'Adverb'), ('코딩', 'Noun'), ('한', 'Josa'), ('당신', 'Noun'), (',', 'Punctuation'), ('연휴', 'Noun'), ('에는', 'Josa'), ('여행', 'Noun'), ('을', 'Josa'), ('가봐요', 'Verb')]\n",
            "OKT 명사 추출 : ['코딩', '당신', '연휴', '여행']\n",
            "\n",
            "꼬꼬마 형태소 분석 : ['열심히', '코딩', '하', 'ㄴ', '당신', ',', '연휴', '에', '는', '여행', '을', '가보', '아요']\n",
            "꼬꼬마 품사 태깅 : [('열심히', 'MAG'), ('코딩', 'NNG'), ('하', 'XSV'), ('ㄴ', 'ETD'), ('당신', 'NP'), (',', 'SP'), ('연휴', 'NNG'), ('에', 'JKM'), ('는', 'JX'), ('여행', 'NNG'), ('을', 'JKO'), ('가보', 'VV'), ('아요', 'EFN')]\n",
            "꼬꼬마 명사 추출 : ['코딩', '당신', '연휴', '여행']\n"
          ]
        }
      ]
    },
    {
      "cell_type": "markdown",
      "source": [
        "## **02) 정제(Cleaning) and 정규화(Normalization)**\n",
        "\n",
        " 토큰화 작업 전후에는 텍스트 데이터를 용도에 맞게 정제(cleaning) 및 정규화(normalization)하는 일이 항상 함께합니다.\n",
        "\n",
        "- 정제(cleaning) : 갖고 있는 코퍼스로부터 노이즈 데이터를 제거한다.\n",
        "- 정규화(normalization) : 표현 방법이 다른 단어들을 통합시켜서 같은 단어로 만들어준다.\n",
        "\n",
        "정제 작업은 토큰화 작업에 방해가 되는 부분들을 배제시키고 토큰화 작업을 수행하기 위해서 토큰화 작업보다 앞서 이루어지기도 하지만, 토큰화 작업 이후에도 여전히 남아있는 노이즈들을 제거하기위해 지속적으로 이루어지기도 합니다. 사실 완벽한 정제 작업은 어려운 편~.\n",
        "\n"
      ],
      "metadata": {
        "id": "uykrExorOnUK"
      }
    },
    {
      "cell_type": "markdown",
      "source": [
        "## **1. 규칙에 기반한 표기가 다른 단어들의 통합**\n",
        "\n",
        "같은 의미를 갖고있음에도, 표기가 다른 단어들을 하나의 단어로 정규화하는 방법을 사용할 수 있습니다.\n",
        "- USA와 US는\n",
        "- uh-huh와 uhhuh"
      ],
      "metadata": {
        "id": "Y6-N-HsfSuoP"
      }
    },
    {
      "cell_type": "markdown",
      "source": [
        "## **2. 대, 소문자 통합**\n",
        "\n",
        "영어권 언어에서 대, 소문자를 통합하는 것은 단어의 개수를 줄일 수 있는 또 다른 정규화 방법입니다. 대부분 대문자를 소문자로 변환하는 소문자 변환작업으로 이루어지게 됩니다.\n",
        "\n",
        "물론 대문자와 소문자를 무작정 통합해서는 안 됩니다. 대문자와 소문자가 구분되어야 하는 경우도 있습니다. 가령 미국을 뜻하는 단어 US와 우리를 뜻하는 us는 구분되어야 합니다. 또 회사 이름(General Motors)나, 사람 이름(Bush) 등은 대문자로 유지되는 것이 옳습니다.\n",
        "\n",
        "모든 토큰을 소문자로 만드는 것이 문제를 가져온다면, 또 다른 대안은 일부만 소문자로 변환시키는 방법도 있습니다. ex) 문장의 맨 앞에서 나오는 단어의 대문자만 소문자로 바꾸고, 다른 단어들은 전부 대문자인 상태로 놔두는 것입니다.\n",
        "\n",
        "- 이러한 작업은 더 많은 변수를 사용해서 소문자 변환을 언제 사용할지 결정하는 머신 러닝 시퀀스 모델로 더 정확하게 진행시킬 수 있습니다. 하지만 만약 올바른 대문자 단어를 얻고 싶은 상황에서 훈련에 사용하는 코퍼스가 사용자들이 단어의 대문자, 소문자의 올바른 사용 방법과 상관없이 소문자를 사용하는 사람들로부터 나온 데이터라면 이러한 <font color=red>방법 또한 그다지 도움이 되지 않을 수 있습니다. 결국에는 예외 사항을 크게 고려하지 않고, 모든 코퍼스를 소문자로 바꾸는 것이 종종 더 실용적인 해결책이 되기도 합니다."
      ],
      "metadata": {
        "id": "rA6x1vPDThOt"
      }
    },
    {
      "cell_type": "markdown",
      "source": [
        "### **3. 불필요한 단어의 제거**\n",
        "\n",
        "정제 작업에서 제거해야하는 노이즈 데이터(noise data):\n",
        "1. 자연어가 아니면서 아무 의미도 갖지 않는 글자들(특수 문자 등)\n",
        "2. 분석하고자 하는 목적에 맞지 않는 불필요 단어들\n",
        "\n",
        "-> 불용어 제거와 등장 빈도가 적은 단어, 길이가 짧은 단어들을 제거하는 방법이 있습니다.\n",
        "\n"
      ],
      "metadata": {
        "id": "odTzOEbuVlNR"
      }
    },
    {
      "cell_type": "markdown",
      "source": [
        "**(1) 등장 빈도가 적은 단어**\n",
        "\n",
        " 텍스트 데이터에서 너무 적게 등장해서 자연어 처리에 도움이 되지 않는 단어들이 존재합니다.  총 100,000개의 메일을 가지고 정상 메일에서는 어떤 단어들이 주로 등장하고, 스팸 메일에서는 어떤 단어들이 주로 등장하는지를 가지고 설계하고자 합니다. 그런데 이때 100,000개의 메일 데이터에서 총 합 5번 밖에 등장하지 않은 단어가 있다면 이 단어는 직관적으로 분류에 거의 도움이 되지 않을 것임을 알 수 있습니다.\n",
        "\n",
        "**(2) 길이가 짧은 단어**\n",
        "\n",
        "영어권 언어에서는 길이가 짧은 단어를 삭제하는 것만으로도 어느정도 자연어 처리에서 크게 의미가 없는 단어들을 제거하는 효과를 볼 수 있다고 알려져 있습니다. 즉, 영어권 언어에서 길이가 짧은 단어들은 대부분 불용어에 해당됩니다. 🏓사실 길이가 짧은 단어를 제거하는 2차 이유는 길이를 조건으로 텍스트를 삭제하면서 단어가 아닌 구두점들까지도 한꺼번에 제거하기 위함도 있습니다. 🏓(WHY니?) 하지만 한국어에서는 길이가 짧은 단어라고 삭제하는 이런 방법이 크게 유효하지 않을 수 있는데 그 이유에 대해서 정리해보도록 하겠습니다.\n",
        "\n",
        "- 단정적으로 말할 수는 없지만, 영어 단어의 평균 길이는 6\\~7 정도이며, 한국어 단어의 평균 길이는 2~3 정도로 추정되고 있습니다. 확실한 사실은 영어 단어의 길이가 한국어 단어의 길이보다는 평균적으로 길다는 점입니다.\n",
        "\n",
        "이러한 특성으로 인해 영어는 길이가 2~3 이하인 단어를 제거하는 것만으로도 크게 의미를 갖지 못하는 단어를 줄이는 효과를 갖고있습니다. 예를 들어 갖고 있는 텍스트 데이터에서 길이가 1인 단어를 제거하는 코드를 수행하면 대부분의 자연어 처리에서 의미를 갖지 못하는 단어인 관사 'a'와 주어로 쓰이는 'I'가 제거됩니다. 마찬가지로 길이가 2인 단어를 제거한다고 하면 it, at, to, on, in, by 등과 같은 대부분 불용어에 해당되는 단어들이 제거됩니다. 필요에 따라서는 길이가 3인 단어도 제거할 수 있지만, 이 경우 fox, dog, car 등 길이가 3인 명사들이 제거 되기시작하므로 사용하고자 하는 데이터에서 해당 방법을 사용해도 되는지에 대한 고민이 필요합니다."
      ],
      "metadata": {
        "id": "LC5jCYZ4WAE3"
      }
    },
    {
      "cell_type": "code",
      "source": [
        "import re\n",
        "text = \"I was wondering if anyone out there could enlighten me on this car.\"\n",
        "\n",
        "# 길이가 1~2인 단어들을 정규 표현식을 이용하여 삭제\n",
        "shortword = re.compile(r'\\W*\\b\\w{1,2}\\b')\n",
        "print(shortword.sub('', text))"
      ],
      "metadata": {
        "colab": {
          "base_uri": "https://localhost:8080/"
        },
        "id": "u7EVgwHwNifQ",
        "outputId": "b508289f-9cde-4857-c1b1-1b7ad88be484"
      },
      "execution_count": 34,
      "outputs": [
        {
          "output_type": "stream",
          "name": "stdout",
          "text": [
            " was wondering anyone out there could enlighten this car.\n"
          ]
        }
      ]
    },
    {
      "cell_type": "markdown",
      "source": [
        "### **4. 정규 표현식(Regular Expression)**\n",
        "\n",
        "얻어낸 코퍼스에서 노이즈 데이터의 특징을 잡아낼 수 있다면, 정규 표현식을 통해서 이를 제거할 수 있는 경우가 많습니다. 가령, HTML 문서로부터 가져온 코퍼스라면 문서 여기저기에 HTML 태그가 있습니다. 뉴스 기사를 크롤링 했다면, 기사마다 게재 시간이 적혀져 있을 수 있습니다. 정규 표현식은 이러한 코퍼스 내에 계속해서 등장하는 글자들을 규칙에 기반하여 한 번에 제거하는 방식으로서 매우 유용합니다.\n"
      ],
      "metadata": {
        "id": "yFV8n24XYiwm"
      }
    },
    {
      "cell_type": "markdown",
      "source": [
        "## **03) 어간 추출(Stemming) and 표제어 추출(Lemmatization)**\n",
        "\n",
        "정규화 기법임\n",
        "\n",
        "이 두 작업이 갖고 있는 의미는 눈으로 봤을 때는 서로 다른 단어들이지만, 하나의 단어로 일반화시킬 수 있다면 하나의 단어로 일반화시켜서 문서 내의 단어 수를 줄이겠다는 것입니다. 이러한 방법들은 단어의 빈도수를 기반으로 문제를 풀고자 하는 뒤에서 학습하게 될 BoW(Bag of Words) 표현을 사용하는 자연어 처리 문제에서 주로 사용됩니다. 자연어 처리에서 전처리, 더 정확히는 정규화의 지향점은 언제나 갖고 있는 코퍼스로부터 복잡성을 줄이는 일입니다.\n",
        "\n"
      ],
      "metadata": {
        "id": "p5oHy3w_Yv52"
      }
    },
    {
      "cell_type": "markdown",
      "source": [
        "### **1. 표제어 추출(Lemmatization)**\n",
        "\n",
        "표제어(Lemma)는 한글로는 '표제어' 또는 '기본 사전형 단어' 정도의 의미를 갖습니다. 표제어 추출은 단어들로부터 표제어를 찾아가는 과정입니다. 표제어 추출은 단어들이 다른 형태를 가지더라도, 그 뿌리 단어를 찾아가서 단어의 개수를 줄일 수 있는지 판단합니다. 예를 들어서 am, are, is -뿌리> be라고 볼 수 있습니다. 이때, 이 단어들의 표제어는 be라고 합니다.\n",
        "\n",
        "표제어 추출을 하는 가장 섬세한 방법은 단어의 형태학적 파싱을 먼저 진행하는 것입니다. 형태소란 '의미를 가진 가장 작은 단위'를 뜻합니다. 그리고 형태학(morphology)이란 형태소로부터 단어들을 만들어가는 학문을 뜻합니다. 형태소의 종류로 어간(stem)과 접사(affix)가 존재합니다.\n",
        "\n",
        "1) 어간(stem)\n",
        ": 단어의 의미를 담고 있는 단어의 핵심 부분.\n",
        "\n",
        "2) 접사(affix)\n",
        ": 단어에 추가적인 의미를 주는 부분.\n",
        "\n",
        "형태학적 파싱은 이 두 가지 구성 요소를 분리하는 작업을 말합니다. 가령, cats라는 단어에 대해 형태학적 파싱을 수행한다면, 형태학적 파싱은 결과로 cat(어간)와 -s(접사)를 분리합니다. 꼭 두 가지로 분리되지 않는 경우도 있습니다. 단어 fox는 형태학적 파싱을 한다고 하더라도 더 이상 분리할 수 없습니다. fox는 독립적인 형태소이기 때문입니다. 이와 유사하게 cat 또한 더 이상 분리되지 않습니다.\n"
      ],
      "metadata": {
        "id": "ARkoYKxJZHs7"
      }
    },
    {
      "cell_type": "code",
      "source": [
        "nltk.download('wordnet')"
      ],
      "metadata": {
        "colab": {
          "base_uri": "https://localhost:8080/"
        },
        "id": "c7KY_FVTagLI",
        "outputId": "439d49b8-2949-472d-cfb6-cc9216c6a33d"
      },
      "execution_count": 36,
      "outputs": [
        {
          "output_type": "stream",
          "name": "stdout",
          "text": [
            "[nltk_data] Downloading package wordnet to /root/nltk_data...\n",
            "[nltk_data]   Unzipping corpora/wordnet.zip.\n"
          ]
        },
        {
          "output_type": "execute_result",
          "data": {
            "text/plain": [
              "True"
            ]
          },
          "metadata": {},
          "execution_count": 36
        }
      ]
    },
    {
      "cell_type": "code",
      "source": [
        "from nltk.stem import WordNetLemmatizer\n",
        "\n",
        "lemmatizer = WordNetLemmatizer()\n",
        "\n",
        "words = ['policy', 'doing', 'organization', 'have', 'going', 'love', 'lives', 'fly', 'dies', 'watched', 'has', 'starting']\n",
        "\n",
        "print('표제어 추출 전 :',words)\n",
        "print('표제어 추출 후 :',[lemmatizer.lemmatize(word) for word in words])"
      ],
      "metadata": {
        "colab": {
          "base_uri": "https://localhost:8080/"
        },
        "id": "CY0R0J9mYNTT",
        "outputId": "0ac085d1-6be0-4b58-ee3a-9c7f051683cb"
      },
      "execution_count": 37,
      "outputs": [
        {
          "output_type": "stream",
          "name": "stdout",
          "text": [
            "표제어 추출 전 : ['policy', 'doing', 'organization', 'have', 'going', 'love', 'lives', 'fly', 'dies', 'watched', 'has', 'starting']\n",
            "표제어 추출 후 : ['policy', 'doing', 'organization', 'have', 'going', 'love', 'life', 'fly', 'dy', 'watched', 'ha', 'starting']\n"
          ]
        }
      ]
    },
    {
      "cell_type": "markdown",
      "source": [
        "표제어 추출은 뒤에서 언급할 어간 추출과는 달리 단어의 형태가 적절히 보존되는 양상을 보이는 특징이 있습니다. 하지만 그럼에도 위의 결과에서는 dy나 ha와 같이 의미를 알 수 없는 적절하지 못한 단어를 출력하고 있습니다. 이는 표제어 추출기(lemmatizer)가 본래 단어의 품사 정보를 알아야만 정확한 결과를 얻을 수 있기 때문입니다.\n",
        "\n",
        "WordNetLemmatizer는 입력으로 단어가 동사 품사라는 사실을 알려줄 수 있습니다. 즉, dies와 watched, has가 문장에서 동사로 쓰였다는 것을 알려준다면 표제어 추출기는 품사의 정보를 보존하면서 정확한 Lemma를 출력하게 됩니다."
      ],
      "metadata": {
        "id": "oWGZ67sqapZ0"
      }
    },
    {
      "cell_type": "code",
      "source": [
        "print(lemmatizer.lemmatize('dies', 'v'))\n",
        "print(lemmatizer.lemmatize('watched', 'v'))\n",
        "print(lemmatizer.lemmatize('has', 'v'))"
      ],
      "metadata": {
        "colab": {
          "base_uri": "https://localhost:8080/"
        },
        "id": "ehYH9XKeaxmx",
        "outputId": "cf98a2e6-0f1f-427d-a508-21e3a9be8591"
      },
      "execution_count": 40,
      "outputs": [
        {
          "output_type": "stream",
          "name": "stdout",
          "text": [
            "die\n",
            "watch\n",
            "have\n"
          ]
        }
      ]
    },
    {
      "cell_type": "markdown",
      "source": [
        "표제어 추출은 문맥을 고려하며 수행했을 때의 결과는 해당 단어의 품사 정보를 보존합니다. 하지만 어간 추출을 수행한 결과는 품사 정보가 보존되지 않습니다. 더 정확히는 어간 추출을 한 결과는 사전에 존재하지 않는 단어일 경우가 많습니다."
      ],
      "metadata": {
        "id": "zL484tIJa_Ib"
      }
    },
    {
      "cell_type": "markdown",
      "source": [
        "### **2. 어간 추출(Stemming)**\n",
        "\n",
        "어간 추출(stemming): 어간(Stem)을 추출하는 작업\n",
        "\n",
        " 어간 추출은 형태학적 분석을 단순화한 버전이라고 볼 수도 있고, 정해진 규칙만 보고 단어의 어미를 자르는 어림짐작의 작업이라고 볼 수도 있습니다. 이 작업은 섬세한 작업이 아니기 때문에 어간 추출 후에 나오는 결과 단어는 사전에 존재하지 않는 단어일 수도 있습니다. \n"
      ],
      "metadata": {
        "id": "SxfWVCRHbfMB"
      }
    },
    {
      "cell_type": "code",
      "source": [
        "from nltk.stem import PorterStemmer\n",
        "from nltk.tokenize import word_tokenize\n",
        "\n",
        "stemmer = PorterStemmer()\n",
        "\n",
        "sentence = \"This was not the map we found in Billy Bones's chest, but an accurate copy, complete in all things--names and heights and soundings--with the single exception of the red crosses and the written notes.\"\n",
        "tokenized_sentence = word_tokenize(sentence)\n",
        "\n",
        "print('어간 추출 전 :', tokenized_sentence)\n",
        "print('어간 추출 후 :',[stemmer.stem(word) for word in tokenized_sentence])"
      ],
      "metadata": {
        "colab": {
          "base_uri": "https://localhost:8080/"
        },
        "id": "kSGVF2RFaeKZ",
        "outputId": "c29d291d-40af-4ff6-9349-8ab3801f7e6c"
      },
      "execution_count": 41,
      "outputs": [
        {
          "output_type": "stream",
          "name": "stdout",
          "text": [
            "어간 추출 전 : ['This', 'was', 'not', 'the', 'map', 'we', 'found', 'in', 'Billy', 'Bones', \"'s\", 'chest', ',', 'but', 'an', 'accurate', 'copy', ',', 'complete', 'in', 'all', 'things', '--', 'names', 'and', 'heights', 'and', 'soundings', '--', 'with', 'the', 'single', 'exception', 'of', 'the', 'red', 'crosses', 'and', 'the', 'written', 'notes', '.']\n",
            "어간 추출 후 : ['thi', 'wa', 'not', 'the', 'map', 'we', 'found', 'in', 'billi', 'bone', \"'s\", 'chest', ',', 'but', 'an', 'accur', 'copi', ',', 'complet', 'in', 'all', 'thing', '--', 'name', 'and', 'height', 'and', 'sound', '--', 'with', 'the', 'singl', 'except', 'of', 'the', 'red', 'cross', 'and', 'the', 'written', 'note', '.']\n"
          ]
        }
      ]
    },
    {
      "cell_type": "markdown",
      "source": [
        "규칙 기반의 접근을 하고 있으므로 어간 추출 후의 결과에는 사전에 없는 단어들도 포함되어 있습니다. 가령, 포터 알고리즘의 어간 추출은 이러한 규칙들을 가집니다.\n",
        "\n",
        "ALIZE → AL\n",
        "ANCE → 제거\n",
        "ICAL → IC\n",
        "\n",
        "위의 규칙에 따르면 좌측의 단어는 우측의 단어와 같은 결과를 얻게됩니다.\n",
        "\n",
        "formalize → formal\n",
        "allowance → allow\n",
        "electricical → electric\n",
        "\n",
        "실제 코드를 통해 확인해봅시다."
      ],
      "metadata": {
        "id": "NdoR6HREb9Nv"
      }
    },
    {
      "cell_type": "code",
      "source": [
        "words = ['formalize', 'allowance', 'electricical']\n",
        "\n",
        "print('어간 추출 전 :',words)\n",
        "print('어간 추출 후 :',[stemmer.stem(word) for word in words])"
      ],
      "metadata": {
        "colab": {
          "base_uri": "https://localhost:8080/"
        },
        "id": "ISUU1UvFb6MY",
        "outputId": "23e9cbef-39b8-47eb-81a9-2304fc83cc97"
      },
      "execution_count": 42,
      "outputs": [
        {
          "output_type": "stream",
          "name": "stdout",
          "text": [
            "어간 추출 전 : ['formalize', 'allowance', 'electricical']\n",
            "어간 추출 후 : ['formal', 'allow', 'electric']\n"
          ]
        }
      ]
    },
    {
      "cell_type": "code",
      "source": [
        "from nltk.stem import PorterStemmer\n",
        "from nltk.stem import LancasterStemmer\n",
        "\n",
        "porter_stemmer = PorterStemmer()\n",
        "lancaster_stemmer = LancasterStemmer()\n",
        "\n",
        "words = ['policy', 'doing', 'organization', 'have', 'going', 'love', 'lives', 'fly', 'dies', 'watched', 'has', 'starting']\n",
        "print('어간 추출 전 :', words)\n",
        "print('포터 스테머의 어간 추출 후:',[porter_stemmer.stem(w) for w in words])\n",
        "print('랭커스터 스테머의 어간 추출 후:',[lancaster_stemmer.stem(w) for w in words])"
      ],
      "metadata": {
        "colab": {
          "base_uri": "https://localhost:8080/"
        },
        "id": "CE8QYXWocAYg",
        "outputId": "193a0d5c-42af-4287-8f12-9e8c9e6dbe0c"
      },
      "execution_count": 43,
      "outputs": [
        {
          "output_type": "stream",
          "name": "stdout",
          "text": [
            "어간 추출 전 : ['policy', 'doing', 'organization', 'have', 'going', 'love', 'lives', 'fly', 'dies', 'watched', 'has', 'starting']\n",
            "포터 스테머의 어간 추출 후: ['polici', 'do', 'organ', 'have', 'go', 'love', 'live', 'fli', 'die', 'watch', 'ha', 'start']\n",
            "랭커스터 스테머의 어간 추출 후: ['policy', 'doing', 'org', 'hav', 'going', 'lov', 'liv', 'fly', 'die', 'watch', 'has', 'start']\n"
          ]
        }
      ]
    },
    {
      "cell_type": "markdown",
      "source": [
        "동일한 단어들의 나열에 대해서 두 스태머는 전혀 다른 결과를 보여줍니다. \n",
        "\n",
        "이런 규칙에 기반한 알고리즘은 종종 제대로 된 일반화를 수행하지 못 할 수 있습니다. 어간 추출을 하고나서 일반화가 지나치게 되거나, 또는 덜 되거나 하는 경우입니다. 예를 들어 포터 알고리즘에서 organization을 어간 추출했을 때의 결과\n",
        "\n",
        "organization → organ\n",
        "\n",
        "--동일한 단어에 대해서 표제어 추출과 어간 추출\n",
        "\n",
        "\n",
        "<Stemming>\n",
        "\n",
        "am → am\n",
        "\n",
        "the going → the go\n",
        "\n",
        "having → hav\n",
        "\n",
        "\n",
        "\n",
        "<Lemmatization>\n",
        "\n",
        "am → be\n",
        "\n",
        "the going → the going\n",
        "\n",
        "having → have\n",
        "\n"
      ],
      "metadata": {
        "id": "8W9gd9kVcR6I"
      }
    },
    {
      "cell_type": "markdown",
      "source": [
        "### **3. 한국어에서의 어간 추출**\n",
        "\n",
        "한국어의 어간에 대해서 간략히 설명합니다. 한국어는 표와 같이 5언 9품사의 구조를 가지고 있습니다.\n",
        "\n",
        "\n",
        "이 중 용언에 해당되는 '동사'와 '형용사'는 어간(stem)과 어미(ending)의 결합으로 구성됩니다. 앞으로 용언이라고 언급하는 부분은 전부 동사와 형용사를 포함하여 언급하는 개념입니다.\n",
        "\n",
        "(1) 활용(conjugation)\n",
        "\n",
        "활용(conjugation)은 한국어에서만 가지는 특징이 아니라, 인도유럽어(indo-european language)에서도 주로 볼 수 있는 언어적 특징 중 하나를 말하는 통칭적인 개념입니다. 다만, 여기서는 한국어에 한정하여 설명합니다.\n",
        "\n",
        "활용이란 용언의 어간(stem)이 어미(ending)를 가지는 일을 말합니다.\n",
        "\n",
        "어간(stem) : 용언(동사, 형용사)을 활용할 때, 원칙적으로 모양이 변하지 않는 부분. 활용에서 어미에 선행하는 부분. 때론 어간의 모양도 바뀔 수 있음(예: 긋다, 긋고, 그어서, 그어라).\n",
        "\n",
        "어미(ending): 용언의 어간 뒤에 붙어서 활용하면서 변하는 부분이며, 여러 문법적 기능을 수행\n",
        "\n",
        "활용은 어간이 어미를 취할 때, 어간의 모습이 일정하다면 규칙 활용, 어간이나 어미의 모습이 변하는 불규칙 활용으로 나뉩니다.\n",
        "\n",
        "(2) 규칙 활용\n",
        "\n",
        "규칙 활용은 어간이 어미를 취할 때, 어간의 모습이 일정합니다. 아래의 예제는 어간과 어미가 합쳐질 때, 어간의 형태가 바뀌지 않음을 보여줍니다.\n",
        "\n",
        "잡/어간 + 다/어미\n",
        "이 경우에는 어간이 어미가 붙기전의 모습과 어미가 붙은 후의 모습이 같으므로, 규칙 기반으로 어미를 단순히 분리해주면 어간 추출이 됩니다.\n",
        "\n",
        "(3) 불규칙 활용\n",
        "\n",
        "불규칙 활용은 어간이 어미를 취할 때 어간의 모습이 바뀌거나 취하는 어미가 특수한 어미일 경우를 말합니다.\n",
        "\n",
        "예를 들어 ‘듣-, 돕-, 곱-, 잇-, 오르-, 노랗-’ 등이 ‘듣/들-, 돕/도우-, 곱/고우-, 잇/이-, 올/올-, 노랗/노라-’와 같이 어간의 형식이 달라지는 일이 있거나 ‘오르+ 아/어→올라, 하+아/어→하여, 이르+아/어→이르러, 푸르+아/어→푸르러’와 같이 일반적인 어미가 아닌 특수한 어미를 취하는 경우 불규칙활용을 하는 예에 속합니다.\n",
        "\n",
        "이 경우에는 어간이 어미가 붙는 과정에서 어간의 모습이 바뀌었으므로 단순한 분리만으로 어간 추출이 되지 않고 좀 더 복잡한 규칙을 필요로 합니다. 아래의 링크는 다양한 불규칙 활용의 예를 보여줍니다.\n",
        "\n"
      ],
      "metadata": {
        "id": "PAarIrZMc0jr"
      }
    },
    {
      "cell_type": "markdown",
      "source": [
        "## **04) 불용어(Stopword)**\n",
        "\n",
        "큰 의미가 없는 단어 토큰을 제거하는 작업이 필요합니다. -> 자주 등장하지만 분석을 하는 것에 있어서는 큰 도움이 되지 않는 단어들을 말합니다. 예를 들면, I, my, me, over, 조사, 접미사 같은 단어들은 문장에서는 자주 등장하지만 실제 의미 분석을 하는데는 거의 기여하는 바가 없는 경우가 있습니다. 이러한 단어들을 불용어(stopword)라고 하며, NLTK에서는 위와 같은 100여개 이상의 영어 단어들을 불용어로 패키지 내에서 미리 정의하고 있습니다.\n"
      ],
      "metadata": {
        "id": "RJDBouyheOus"
      }
    },
    {
      "cell_type": "code",
      "source": [
        "from nltk.corpus import stopwords\n",
        "from nltk.tokenize import word_tokenize \n",
        "from konlpy.tag import Okt"
      ],
      "metadata": {
        "id": "mKURQ_upcF4L"
      },
      "execution_count": 44,
      "outputs": []
    },
    {
      "cell_type": "markdown",
      "source": [
        "## **1. NLTK에서 불용어 확인하기**\n"
      ],
      "metadata": {
        "id": "9Nr4iHSDkWoX"
      }
    },
    {
      "cell_type": "code",
      "source": [
        "nltk.download('stopwords')"
      ],
      "metadata": {
        "colab": {
          "base_uri": "https://localhost:8080/"
        },
        "id": "XywFokkrkdm4",
        "outputId": "c4bc5858-3a7e-49b2-b422-9364b5e309b5"
      },
      "execution_count": 46,
      "outputs": [
        {
          "output_type": "stream",
          "name": "stdout",
          "text": [
            "[nltk_data] Downloading package stopwords to /root/nltk_data...\n",
            "[nltk_data]   Unzipping corpora/stopwords.zip.\n"
          ]
        },
        {
          "output_type": "execute_result",
          "data": {
            "text/plain": [
              "True"
            ]
          },
          "metadata": {},
          "execution_count": 46
        }
      ]
    },
    {
      "cell_type": "code",
      "source": [
        "stop_words_list = stopwords.words('english')\n",
        "print('불용어 개수 :', len(stop_words_list))\n",
        "print('불용어 10개 출력 :',stop_words_list[:10])"
      ],
      "metadata": {
        "colab": {
          "base_uri": "https://localhost:8080/"
        },
        "id": "Ctr8s3nYkaEo",
        "outputId": "ec94f7dc-8d66-43c8-a2b5-0a2d7cb70866"
      },
      "execution_count": 47,
      "outputs": [
        {
          "output_type": "stream",
          "name": "stdout",
          "text": [
            "불용어 개수 : 179\n",
            "불용어 10개 출력 : ['i', 'me', 'my', 'myself', 'we', 'our', 'ours', 'ourselves', 'you', \"you're\"]\n"
          ]
        }
      ]
    },
    {
      "cell_type": "markdown",
      "source": [
        "## **2. NLTK를 통해서 불용어 제거하기**\n",
        "\n"
      ],
      "metadata": {
        "id": "NonIdRrOkhYo"
      }
    },
    {
      "cell_type": "code",
      "source": [
        "example = \"Family is not an important thing. It's everything.\"\n",
        "stop_words = set(stopwords.words('english')) \n",
        "\n",
        "word_tokens = word_tokenize(example)\n",
        "\n",
        "result = []\n",
        "for word in word_tokens: \n",
        "    if word not in stop_words: \n",
        "        result.append(word) \n",
        "\n",
        "print('불용어 제거 전 :',word_tokens) \n",
        "print('불용어 제거 후 :',result) #'is', 'not', 'an' 같은 거 제거됨"
      ],
      "metadata": {
        "colab": {
          "base_uri": "https://localhost:8080/"
        },
        "id": "3KRdA041kUw2",
        "outputId": "db25936a-e071-4106-a1a8-f5d31270ada1"
      },
      "execution_count": 48,
      "outputs": [
        {
          "output_type": "stream",
          "name": "stdout",
          "text": [
            "불용어 제거 전 : ['Family', 'is', 'not', 'an', 'important', 'thing', '.', 'It', \"'s\", 'everything', '.']\n",
            "불용어 제거 후 : ['Family', 'important', 'thing', '.', 'It', \"'s\", 'everything', '.']\n"
          ]
        }
      ]
    },
    {
      "cell_type": "markdown",
      "source": [
        "### **3. 한국어에서 불용어 제거하기**\n",
        "\n",
        "한국어에서 불용어를 제거하는 방법으로는 간단하게는 토큰화 후에 조사, 접속사 등을 제거하는 방법이 있습니다. 하지만 불용어를 제거하려고 하다보면 조사나 접속사와 같은 단어들뿐만 아니라 명사, 형용사와 같은 단어들 중에서 불용어로서 제거하고 싶은 단어들이 생기기도 합니다. <font color=red>결국에는 사용자가 직접 불용어 사전을 만들게 되는 경우가 많습니다. "
      ],
      "metadata": {
        "id": "s_X05KTJlAWs"
      }
    },
    {
      "cell_type": "code",
      "source": [
        "okt = Okt()\n",
        "\n",
        "example = \"고기를 아무렇게나 구우려고 하면 안 돼. 고기라고 다 같은 게 아니거든. 예컨대 삼겹살을 구울 때는 중요한 게 있지.\"\n",
        "stop_words = \"를 아무렇게나 구 우려 고 안 돼 같은 게 구울 때 는\"\n",
        "\n",
        "stop_words = set(stop_words.split(' '))\n",
        "word_tokens = okt.morphs(example)\n",
        "\n",
        "result = [word for word in word_tokens if not word in stop_words]\n",
        "\n",
        "print('불용어 제거 전 :',word_tokens) \n",
        "print('불용어 제거 후 :',result)"
      ],
      "metadata": {
        "colab": {
          "base_uri": "https://localhost:8080/"
        },
        "id": "VZOyVBoSkob-",
        "outputId": "46dd01a9-0e2e-4d79-cdb3-23051c4fb801"
      },
      "execution_count": 49,
      "outputs": [
        {
          "output_type": "stream",
          "name": "stdout",
          "text": [
            "불용어 제거 전 : ['고기', '를', '아무렇게나', '구', '우려', '고', '하면', '안', '돼', '.', '고기', '라고', '다', '같은', '게', '아니거든', '.', '예컨대', '삼겹살', '을', '구울', '때', '는', '중요한', '게', '있지', '.']\n",
            "불용어 제거 후 : ['고기', '하면', '.', '고기', '라고', '다', '아니거든', '.', '예컨대', '삼겹살', '을', '중요한', '있지', '.']\n"
          ]
        }
      ]
    },
    {
      "cell_type": "markdown",
      "source": [
        "## **05) 정규 표현식(Regular Expression)**\n",
        "\n",
        "things I didn't know\n",
        "\n",
        "<font color=red>re.finditer()\t문자열에서 정규 표현식과 매치되는 모든 경우의 문자열에 대한 이터레이터 객체를 리턴합니다."
      ],
      "metadata": {
        "id": "xR1MZkwjlVhV"
      }
    },
    {
      "cell_type": "markdown",
      "source": [
        "## **2. 정규 표현식 실습**"
      ],
      "metadata": {
        "id": "yzCBuj2mllez"
      }
    },
    {
      "cell_type": "code",
      "source": [
        "r = re.compile(\"a.c\")\n",
        "r.search(\"kkk\") # 아무런 결과도 출력되지 않는다."
      ],
      "metadata": {
        "id": "P-G18lQMlNVZ"
      },
      "execution_count": 50,
      "outputs": []
    },
    {
      "cell_type": "code",
      "source": [
        "r.search(\"abc\")"
      ],
      "metadata": {
        "colab": {
          "base_uri": "https://localhost:8080/"
        },
        "id": "Tv9T8i1Ilphk",
        "outputId": "ae06849c-a1e3-41ec-a89c-cfde119c3fc2"
      },
      "execution_count": 51,
      "outputs": [
        {
          "output_type": "execute_result",
          "data": {
            "text/plain": [
              "<re.Match object; span=(0, 3), match='abc'>"
            ]
          },
          "metadata": {},
          "execution_count": 51
        }
      ]
    },
    {
      "cell_type": "code",
      "source": [
        "r = re.compile(\"ab?c\") #?는 0 또는 1\n",
        "r.search(\"abbc\") # 아무런 결과도 출력되지 않는다."
      ],
      "metadata": {
        "id": "_RcdoK45lpxF"
      },
      "execution_count": 52,
      "outputs": []
    },
    {
      "cell_type": "code",
      "source": [
        "r.search(\"abc\")"
      ],
      "metadata": {
        "colab": {
          "base_uri": "https://localhost:8080/"
        },
        "id": "KJ5mCr6hlqFS",
        "outputId": "b7a8c1cc-deea-4904-da3b-cf385d651bc3"
      },
      "execution_count": 53,
      "outputs": [
        {
          "output_type": "execute_result",
          "data": {
            "text/plain": [
              "<re.Match object; span=(0, 3), match='abc'>"
            ]
          },
          "metadata": {},
          "execution_count": 53
        }
      ]
    },
    {
      "cell_type": "code",
      "source": [
        "r.search(\"ac\")"
      ],
      "metadata": {
        "colab": {
          "base_uri": "https://localhost:8080/"
        },
        "id": "ODpuCPejlxmn",
        "outputId": "e3e89fed-ee28-4715-beb1-9b8be1d0ad77"
      },
      "execution_count": 54,
      "outputs": [
        {
          "output_type": "execute_result",
          "data": {
            "text/plain": [
              "<re.Match object; span=(0, 2), match='ac'>"
            ]
          },
          "metadata": {},
          "execution_count": 54
        }
      ]
    },
    {
      "cell_type": "code",
      "source": [
        "r = re.compile(\"ab*c\")\n",
        "r.search(\"a\") # 아무런 결과도 출력되지 않는다."
      ],
      "metadata": {
        "id": "DSOgdQCel3Mg"
      },
      "execution_count": 55,
      "outputs": []
    },
    {
      "cell_type": "code",
      "source": [
        "r.search(\"ac\")"
      ],
      "metadata": {
        "colab": {
          "base_uri": "https://localhost:8080/"
        },
        "id": "h_Nht2FkmBWI",
        "outputId": "92c5c44d-7da3-49c6-8014-cd0d4f553555"
      },
      "execution_count": 56,
      "outputs": [
        {
          "output_type": "execute_result",
          "data": {
            "text/plain": [
              "<re.Match object; span=(0, 2), match='ac'>"
            ]
          },
          "metadata": {},
          "execution_count": 56
        }
      ]
    },
    {
      "cell_type": "code",
      "source": [
        "r.search(\"abc\") "
      ],
      "metadata": {
        "colab": {
          "base_uri": "https://localhost:8080/"
        },
        "id": "Mc6xNR-nmCk1",
        "outputId": "c8506031-a54f-4383-840b-357c3efd2da7"
      },
      "execution_count": 57,
      "outputs": [
        {
          "output_type": "execute_result",
          "data": {
            "text/plain": [
              "<re.Match object; span=(0, 3), match='abc'>"
            ]
          },
          "metadata": {},
          "execution_count": 57
        }
      ]
    },
    {
      "cell_type": "code",
      "source": [
        "r.search(\"abbbbc\") "
      ],
      "metadata": {
        "colab": {
          "base_uri": "https://localhost:8080/"
        },
        "id": "6funLre3mFUE",
        "outputId": "9579871d-08c3-4b8e-b4cc-cf1c1a68574c"
      },
      "execution_count": 58,
      "outputs": [
        {
          "output_type": "execute_result",
          "data": {
            "text/plain": [
              "<re.Match object; span=(0, 6), match='abbbbc'>"
            ]
          },
          "metadata": {},
          "execution_count": 58
        }
      ]
    },
    {
      "cell_type": "code",
      "source": [
        "r = re.compile(\"ab+c\")\n",
        "r.search(\"ac\") # 아무런 결과도 출력되지 않는다."
      ],
      "metadata": {
        "id": "-sgD3VSGmG3o"
      },
      "execution_count": 59,
      "outputs": []
    },
    {
      "cell_type": "code",
      "source": [
        "r.search(\"abc\") "
      ],
      "metadata": {
        "colab": {
          "base_uri": "https://localhost:8080/"
        },
        "id": "J5Vo3onDmNxR",
        "outputId": "d526f28d-eb67-4365-f8c2-97e0b3edfbdb"
      },
      "execution_count": 60,
      "outputs": [
        {
          "output_type": "execute_result",
          "data": {
            "text/plain": [
              "<re.Match object; span=(0, 3), match='abc'>"
            ]
          },
          "metadata": {},
          "execution_count": 60
        }
      ]
    },
    {
      "cell_type": "code",
      "source": [
        "r.search(\"abbbbc\") "
      ],
      "metadata": {
        "colab": {
          "base_uri": "https://localhost:8080/"
        },
        "id": "ci85jTrBmQv4",
        "outputId": "9f602802-dfcc-4d58-874a-61f0e7c49477"
      },
      "execution_count": 61,
      "outputs": [
        {
          "output_type": "execute_result",
          "data": {
            "text/plain": [
              "<re.Match object; span=(0, 6), match='abbbbc'>"
            ]
          },
          "metadata": {},
          "execution_count": 61
        }
      ]
    },
    {
      "cell_type": "code",
      "source": [
        "r = re.compile(\"^ab\")\n",
        "\n",
        "r.search(\"bbc\")# 아무런 결과도 출력되지 않는다.\n",
        "r.search(\"zab\")# 아무런 결과도 출력되지 않는다.\n",
        "r.search(\"abz\")"
      ],
      "metadata": {
        "colab": {
          "base_uri": "https://localhost:8080/"
        },
        "id": "ndDdKUeWmSqT",
        "outputId": "1aff0c6d-4ea8-40d2-f87c-d517f1680b81"
      },
      "execution_count": 62,
      "outputs": [
        {
          "output_type": "execute_result",
          "data": {
            "text/plain": [
              "<re.Match object; span=(0, 2), match='ab'>"
            ]
          },
          "metadata": {},
          "execution_count": 62
        }
      ]
    },
    {
      "cell_type": "code",
      "source": [
        "r = re.compile(\"ab{2}c\")\n",
        "\n",
        "r.search(\"ac\")# 아무런 결과도 출력되지 않는다.\n",
        "r.search(\"abc\")# 아무런 결과도 출력되지 않는다.\n",
        "r.search(\"abbbbbc\")# 아무런 결과도 출력되지 않는다.\n",
        "r.search(\"abbc\")"
      ],
      "metadata": {
        "colab": {
          "base_uri": "https://localhost:8080/"
        },
        "id": "3eIzIyslmXSw",
        "outputId": "52479602-3098-42ed-952d-82f81bed2def"
      },
      "execution_count": 63,
      "outputs": [
        {
          "output_type": "execute_result",
          "data": {
            "text/plain": [
              "<re.Match object; span=(0, 4), match='abbc'>"
            ]
          },
          "metadata": {},
          "execution_count": 63
        }
      ]
    },
    {
      "cell_type": "code",
      "source": [
        "r = re.compile(\"ab{2,8}c\")\n",
        "\n",
        "r.search(\"ac\")# 아무런 결과도 출력되지 않는다.\n",
        "r.search(\"abc\")# 아무런 결과도 출력되지 않는다.\n",
        "r.search(\"abbbbbbbbbc\")# 아무런 결과도 출력되지 않는다.\n",
        "r.search(\"abbbbbbc\")"
      ],
      "metadata": {
        "colab": {
          "base_uri": "https://localhost:8080/"
        },
        "id": "iO4ESdFHmbsB",
        "outputId": "7728452b-7025-421a-cc3c-0b18a811c46b"
      },
      "execution_count": 64,
      "outputs": [
        {
          "output_type": "execute_result",
          "data": {
            "text/plain": [
              "<re.Match object; span=(0, 8), match='abbbbbbc'>"
            ]
          },
          "metadata": {},
          "execution_count": 64
        }
      ]
    },
    {
      "cell_type": "code",
      "source": [
        "r = re.compile(\"a{2,}bc\")\n",
        "\n",
        "r.search(\"bc\")# 아무런 결과도 출력되지 않는다.\n",
        "r.search(\"aa\")# 아무런 결과도 출력되지 않는다.\n",
        "r.search(\"aabc\")"
      ],
      "metadata": {
        "colab": {
          "base_uri": "https://localhost:8080/"
        },
        "id": "lmFsksATmjQY",
        "outputId": "a488ed9e-b978-473b-d6a7-af0dca762d4b"
      },
      "execution_count": 65,
      "outputs": [
        {
          "output_type": "execute_result",
          "data": {
            "text/plain": [
              "<re.Match object; span=(0, 4), match='aabc'>"
            ]
          },
          "metadata": {},
          "execution_count": 65
        }
      ]
    },
    {
      "cell_type": "code",
      "source": [
        "r.search(\"aaaaaaaabc\")"
      ],
      "metadata": {
        "colab": {
          "base_uri": "https://localhost:8080/"
        },
        "id": "6PaQxXTimpmh",
        "outputId": "992a121d-7a57-4cf9-b1b1-ca0ee9bc0222"
      },
      "execution_count": 66,
      "outputs": [
        {
          "output_type": "execute_result",
          "data": {
            "text/plain": [
              "<re.Match object; span=(0, 10), match='aaaaaaaabc'>"
            ]
          },
          "metadata": {},
          "execution_count": 66
        }
      ]
    },
    {
      "cell_type": "code",
      "source": [
        "r = re.compile(\"[abc]\") # [abc]는 [a-c]와 같다.\n",
        "r.search(\"zzz\") # 아무런 결과도 출력되지 않는다.\n",
        "r.search(\"a\")"
      ],
      "metadata": {
        "colab": {
          "base_uri": "https://localhost:8080/"
        },
        "id": "4hHsXEIMmqLd",
        "outputId": "809f5a9d-7422-4489-9cbf-5eb56342d54b"
      },
      "execution_count": 67,
      "outputs": [
        {
          "output_type": "execute_result",
          "data": {
            "text/plain": [
              "<re.Match object; span=(0, 1), match='a'>"
            ]
          },
          "metadata": {},
          "execution_count": 67
        }
      ]
    },
    {
      "cell_type": "code",
      "source": [
        "r.search(\"aaaaaaa\")                            "
      ],
      "metadata": {
        "colab": {
          "base_uri": "https://localhost:8080/"
        },
        "id": "BqPRH7GzmtjW",
        "outputId": "800a3c8f-7890-448a-dfe3-5ef2f00a1c92"
      },
      "execution_count": 68,
      "outputs": [
        {
          "output_type": "execute_result",
          "data": {
            "text/plain": [
              "<re.Match object; span=(0, 1), match='a'>"
            ]
          },
          "metadata": {},
          "execution_count": 68
        }
      ]
    },
    {
      "cell_type": "code",
      "source": [
        "r.search(\"baac\")     "
      ],
      "metadata": {
        "colab": {
          "base_uri": "https://localhost:8080/"
        },
        "id": "KhSFO3jymwzW",
        "outputId": "58a29292-4557-43e2-8f28-f116a5bbd470"
      },
      "execution_count": 69,
      "outputs": [
        {
          "output_type": "execute_result",
          "data": {
            "text/plain": [
              "<re.Match object; span=(0, 1), match='b'>"
            ]
          },
          "metadata": {},
          "execution_count": 69
        }
      ]
    },
    {
      "cell_type": "code",
      "source": [
        "r = re.compile(\"[a-z]\")\n",
        "\n",
        "r.search(\"AAA\")# 아무런 결과도 출력되지 않는다.\n",
        "r.search(\"111\") # 아무런 결과도 출력되지 않는다.\n",
        "r.search(\"aBC\")"
      ],
      "metadata": {
        "colab": {
          "base_uri": "https://localhost:8080/"
        },
        "id": "oc6UdWrhmxWn",
        "outputId": "dca83293-8cba-45d6-ec61-c414a2f336e4"
      },
      "execution_count": 70,
      "outputs": [
        {
          "output_type": "execute_result",
          "data": {
            "text/plain": [
              "<re.Match object; span=(0, 1), match='a'>"
            ]
          },
          "metadata": {},
          "execution_count": 70
        }
      ]
    },
    {
      "cell_type": "code",
      "source": [
        "r = re.compile(\"[^abc]\")\n",
        "\n",
        "r.search(\"a\")# 아무런 결과도 출력되지 않는다.\n",
        "r.search(\"ab\")# 아무런 결과도 출력되지 않는다. \n",
        "r.search(\"b\")# 아무런 결과도 출력되지 않는다.\n",
        "r.search(\"d\")"
      ],
      "metadata": {
        "colab": {
          "base_uri": "https://localhost:8080/"
        },
        "id": "Tx0tDGG8m2I7",
        "outputId": "2c6116d5-83a8-43ae-a8e3-180f0c115bdd"
      },
      "execution_count": 71,
      "outputs": [
        {
          "output_type": "execute_result",
          "data": {
            "text/plain": [
              "<re.Match object; span=(0, 1), match='d'>"
            ]
          },
          "metadata": {},
          "execution_count": 71
        }
      ]
    },
    {
      "cell_type": "code",
      "source": [
        "r = re.compile(\"ab.\")\n",
        "r.match(\"kkkabc\") # 아무런 결과도 출력되지 않는다.\n",
        "r.search(\"kkkabc\")  "
      ],
      "metadata": {
        "colab": {
          "base_uri": "https://localhost:8080/"
        },
        "id": "tcsWJFXYm6xE",
        "outputId": "2ff7b5b1-883e-4e78-e93f-a12c80a2dab4"
      },
      "execution_count": 72,
      "outputs": [
        {
          "output_type": "execute_result",
          "data": {
            "text/plain": [
              "<re.Match object; span=(3, 6), match='abc'>"
            ]
          },
          "metadata": {},
          "execution_count": 72
        }
      ]
    },
    {
      "cell_type": "code",
      "source": [
        "r.match(\"abckkk\")  "
      ],
      "metadata": {
        "colab": {
          "base_uri": "https://localhost:8080/"
        },
        "id": "wmoj4RyanCDg",
        "outputId": "6f0740f6-9f20-42d8-89fc-f44f2fe4662b"
      },
      "execution_count": 73,
      "outputs": [
        {
          "output_type": "execute_result",
          "data": {
            "text/plain": [
              "<re.Match object; span=(0, 3), match='abc'>"
            ]
          },
          "metadata": {},
          "execution_count": 73
        }
      ]
    },
    {
      "cell_type": "code",
      "source": [
        "# 공백 기준 분리\n",
        "text = \"사과 딸기 수박 메론 바나나\"\n",
        "re.split(\" \", text)"
      ],
      "metadata": {
        "colab": {
          "base_uri": "https://localhost:8080/"
        },
        "id": "nY3bw8z3nC4b",
        "outputId": "c6ade7c6-0d3c-42ea-cc86-2bc64ba42960"
      },
      "execution_count": 74,
      "outputs": [
        {
          "output_type": "execute_result",
          "data": {
            "text/plain": [
              "['사과', '딸기', '수박', '메론', '바나나']"
            ]
          },
          "metadata": {},
          "execution_count": 74
        }
      ]
    },
    {
      "cell_type": "code",
      "source": [
        "text = \"\"\"이름 : 김철수\n",
        "전화번호 : 010 - 1234 - 1234\n",
        "나이 : 30\n",
        "성별 : 남\"\"\"\n",
        "\n",
        "re.findall(\"\\d+\", text)"
      ],
      "metadata": {
        "colab": {
          "base_uri": "https://localhost:8080/"
        },
        "id": "rMnrN24GnfkO",
        "outputId": "7f6b09f5-22c6-4d38-f98b-298b1956a3bd"
      },
      "execution_count": 75,
      "outputs": [
        {
          "output_type": "execute_result",
          "data": {
            "text/plain": [
              "['010', '1234', '1234', '30']"
            ]
          },
          "metadata": {},
          "execution_count": 75
        }
      ]
    },
    {
      "cell_type": "code",
      "source": [
        "re.findall(\"\\d+\", \"문자열입니다.\")"
      ],
      "metadata": {
        "colab": {
          "base_uri": "https://localhost:8080/"
        },
        "id": "uOhrw_l9nilt",
        "outputId": "e3d2bc0e-6c63-4d38-8652-f7e772d9672c"
      },
      "execution_count": 76,
      "outputs": [
        {
          "output_type": "execute_result",
          "data": {
            "text/plain": [
              "[]"
            ]
          },
          "metadata": {},
          "execution_count": 76
        }
      ]
    },
    {
      "cell_type": "code",
      "source": [
        "text = \"Regular expression : A regular expression, regex or regexp[1] (sometimes called a rational expression)[2][3] is, in theoretical computer science and formal language theory, a sequence of characters that define a search pattern.\"\n",
        "\n",
        "preprocessed_text = re.sub('[^a-zA-Z]', ' ', text)\n",
        "print(preprocessed_text)"
      ],
      "metadata": {
        "colab": {
          "base_uri": "https://localhost:8080/"
        },
        "id": "uQA4bHKVnlYA",
        "outputId": "3f73c36c-26c6-4401-c242-9477fc55fbad"
      },
      "execution_count": 77,
      "outputs": [
        {
          "output_type": "stream",
          "name": "stdout",
          "text": [
            "Regular expression   A regular expression  regex or regexp     sometimes called a rational expression        is  in theoretical computer science and formal language theory  a sequence of characters that define a search pattern \n"
          ]
        }
      ]
    },
    {
      "cell_type": "markdown",
      "source": [
        "### **4. 정규 표현식 텍스트 전처리 예제**\n",
        "\n"
      ],
      "metadata": {
        "id": "S-lbglofnrKC"
      }
    },
    {
      "cell_type": "code",
      "source": [
        "text = \"\"\"100 John    PROF\n",
        "101 James   STUD\n",
        "102 Mac   STUD\"\"\"\n",
        "re.split('\\s+', text)  "
      ],
      "metadata": {
        "colab": {
          "base_uri": "https://localhost:8080/"
        },
        "id": "z8HrkY7fnnvj",
        "outputId": "c62fb0f4-3add-4d97-c602-cdaaf90a8858"
      },
      "execution_count": 78,
      "outputs": [
        {
          "output_type": "execute_result",
          "data": {
            "text/plain": [
              "['100', 'John', 'PROF', '101', 'James', 'STUD', '102', 'Mac', 'STUD']"
            ]
          },
          "metadata": {},
          "execution_count": 78
        }
      ]
    },
    {
      "cell_type": "code",
      "source": [
        "re.findall('\\d+',text) "
      ],
      "metadata": {
        "colab": {
          "base_uri": "https://localhost:8080/"
        },
        "id": "iwBc_-SVnzEJ",
        "outputId": "905b2488-9ba1-4494-86ce-236747e26612"
      },
      "execution_count": 79,
      "outputs": [
        {
          "output_type": "execute_result",
          "data": {
            "text/plain": [
              "['100', '101', '102']"
            ]
          },
          "metadata": {},
          "execution_count": 79
        }
      ]
    },
    {
      "cell_type": "code",
      "source": [
        "re.findall('[A-Z]',text)"
      ],
      "metadata": {
        "colab": {
          "base_uri": "https://localhost:8080/"
        },
        "id": "otaOzf4Cn013",
        "outputId": "781ea930-a23d-45a8-a30c-3fca262d6305"
      },
      "execution_count": 80,
      "outputs": [
        {
          "output_type": "execute_result",
          "data": {
            "text/plain": [
              "['J', 'P', 'R', 'O', 'F', 'J', 'S', 'T', 'U', 'D', 'M', 'S', 'T', 'U', 'D']"
            ]
          },
          "metadata": {},
          "execution_count": 80
        }
      ]
    },
    {
      "cell_type": "code",
      "source": [
        "re.findall('[A-Z]{4}',text) "
      ],
      "metadata": {
        "colab": {
          "base_uri": "https://localhost:8080/"
        },
        "id": "hR0aG_QKn31T",
        "outputId": "6fd85331-898a-4af4-8199-17f009d8b3f1"
      },
      "execution_count": 81,
      "outputs": [
        {
          "output_type": "execute_result",
          "data": {
            "text/plain": [
              "['PROF', 'STUD', 'STUD']"
            ]
          },
          "metadata": {},
          "execution_count": 81
        }
      ]
    },
    {
      "cell_type": "markdown",
      "source": [
        "### **5. 정규 표현식을 이용한 토큰화**\n",
        "\n",
        "NLTK에서는 정규 표현식을 사용해서 단어 토큰화를 수행하는 RegexpTokenizer를 지원합니다. RegexpTokenizer()에서 괄호 안에 하나의 토큰으로 규정하기를 원하는 정규 표현식을 넣어서 토큰화를 수행합니다. tokenizer1에 사용한 \\w+는 문자 또는 숫자가 1개 이상인 경우를 의미합니다.\n",
        "\n",
        "tokenizer2에서는 공백을 기준으로 토큰화하도록 했습니다. gaps=true는 해당 정규 표현식을 토큰으로 나누기 위한 기준으로 사용한다는 의미입니다. 만약 gaps=True라는 부분을 기재하지 않는다면, 토큰화의 결과는 공백들만 나오게 됩니다. tokenizer2의 결과는 위의 tokenizer1의 결과와는 달리 아포스트로피나 온점을 제외하지 않고 토큰화가 수행된 것을 확인할 수 있습니다.\n"
      ],
      "metadata": {
        "id": "OBwEEnacn8IC"
      }
    },
    {
      "cell_type": "code",
      "source": [
        "from nltk.tokenize import RegexpTokenizer\n",
        "\n",
        "text = \"Don't be fooled by the dark sounding name, Mr. Jone's Orphanage is as cheery as cheery goes for a pastry shop\"\n",
        "\n",
        "tokenizer1 = RegexpTokenizer(\"[\\w]+\")\n",
        "tokenizer2 = RegexpTokenizer(\"\\s+\", gaps=True)\n",
        "\n",
        "print(tokenizer1.tokenize(text))\n",
        "print(tokenizer2.tokenize(text))"
      ],
      "metadata": {
        "colab": {
          "base_uri": "https://localhost:8080/"
        },
        "id": "lwu20M5Fn6JP",
        "outputId": "b33ae5f9-082e-400c-f2be-7530854252c8"
      },
      "execution_count": 82,
      "outputs": [
        {
          "output_type": "stream",
          "name": "stdout",
          "text": [
            "['Don', 't', 'be', 'fooled', 'by', 'the', 'dark', 'sounding', 'name', 'Mr', 'Jone', 's', 'Orphanage', 'is', 'as', 'cheery', 'as', 'cheery', 'goes', 'for', 'a', 'pastry', 'shop']\n",
            "[\"Don't\", 'be', 'fooled', 'by', 'the', 'dark', 'sounding', 'name,', 'Mr.', \"Jone's\", 'Orphanage', 'is', 'as', 'cheery', 'as', 'cheery', 'goes', 'for', 'a', 'pastry', 'shop']\n"
          ]
        }
      ]
    },
    {
      "cell_type": "code",
      "source": [
        "tokenizer1 = RegexpTokenizer(\"[\\w]+\")\n",
        "tokenizer2 = RegexpTokenizer(\"\\w+\")\n",
        "\n",
        "a=tokenizer1.tokenize(text)\n",
        "b=tokenizer2.tokenize(text)\n",
        "if a==b:\n",
        "  print('same!')"
      ],
      "metadata": {
        "colab": {
          "base_uri": "https://localhost:8080/"
        },
        "id": "JhEke5zjoA8J",
        "outputId": "e01e5726-d3ee-4f10-9946-f46690d7dff6"
      },
      "execution_count": 83,
      "outputs": [
        {
          "output_type": "stream",
          "name": "stdout",
          "text": [
            "same!\n"
          ]
        }
      ]
    },
    {
      "cell_type": "markdown",
      "source": [
        "## **06) 정수 인코딩(Integer Encoding)**\n",
        "\n",
        "컴퓨터는 텍스트보다는 숫자를 더 잘 처리 할 수 있습니다. 이를 위해 자연어 처리에서는 텍스트를 숫자로 바꾸는 여러가지 기법들이 있습니다. 그리고 그러한 기법들을 본격적으로 적용시키기 위한 첫 단계로 각 단어를 고유한 정수에 맵핑(mapping)시키는 전처리 작업이 필요할 때가 있습니다.\n",
        "\n",
        "예를 들어 갖고 있는 텍스트에 단어가 5,000개가 있다면, 5,000개의 단어들 각각에 1번부터 5,000번까지 단어와 맵핑되는 고유한 정수. 다른 표현으로는 인덱스를 부여합니다. 가령, book은 150번, dog는 171번, love는 192번, books는 212번과 같이 숫자가 부여됩니다. 인덱스는 보통은 단어 등장 빈도수를 기준으로 정렬한 뒤에 부여합니다.\n",
        "\n"
      ],
      "metadata": {
        "id": "6MkhwEOToaFJ"
      }
    },
    {
      "cell_type": "markdown",
      "source": [
        "### **1. 정수 인코딩(Integer Encoding)**\n",
        "\n",
        "단어에 정수를 부여하는 방법 중 하나로 단어를 빈도수 순으로 정렬한 단어 집합(vocabulary)을 만들고, 빈도수가 높은 순서대로 차례로 낮은 숫자부터 정수를 부여하는 방법이 있습니다. 이해를 돕기위해 단어의 빈도수가 적당하게 분포되도록 의도적으로 만든 텍스트 데이터를 가지고 실습해보겠습니다.\n",
        "\n"
      ],
      "metadata": {
        "id": "HxjLIYKLqE4n"
      }
    },
    {
      "cell_type": "markdown",
      "source": [
        "**1) dictionary 사용하기**"
      ],
      "metadata": {
        "id": "yRPc1oJZqr71"
      }
    },
    {
      "cell_type": "code",
      "source": [
        "from nltk.tokenize import sent_tokenize\n",
        "from nltk.tokenize import word_tokenize\n",
        "from nltk.corpus import stopwords\n",
        "raw_text = \"A barber is a person. a barber is good person. a barber is huge person. he Knew A Secret! The Secret He Kept is huge secret. Huge secret. His barber kept his word. a barber kept his word. His barber kept his secret. But keeping and keeping such a huge secret to himself was driving the barber crazy. the barber went up a huge mountain.\"\n",
        "\n",
        "# 문장 토큰화\n",
        "sentences = sent_tokenize(raw_text)\n",
        "print(sentences)"
      ],
      "metadata": {
        "colab": {
          "base_uri": "https://localhost:8080/"
        },
        "id": "XRG_SOj4oVnn",
        "outputId": "73c8ee21-95b3-434a-cbc7-a3f4cbf4e96d"
      },
      "execution_count": 3,
      "outputs": [
        {
          "output_type": "stream",
          "name": "stdout",
          "text": [
            "['A barber is a person.', 'a barber is good person.', 'a barber is huge person.', 'he Knew A Secret!', 'The Secret He Kept is huge secret.', 'Huge secret.', 'His barber kept his word.', 'a barber kept his word.', 'His barber kept his secret.', 'But keeping and keeping such a huge secret to himself was driving the barber crazy.', 'the barber went up a huge mountain.']\n"
          ]
        }
      ]
    },
    {
      "cell_type": "markdown",
      "source": [
        "텍스트를 수치화하는 단계라는 것은 본격적으로 자연어 처리 작업에 들어간다는 의미이므로, 단어가 텍스트일 때만 할 수 있는 최대한의 전처리를 끝내놓아야 합니다."
      ],
      "metadata": {
        "id": "-xYA3JvTq0pp"
      }
    },
    {
      "cell_type": "code",
      "source": [
        "vocab = {}\n",
        "preprocessed_sentences = []\n",
        "stop_words = set(stopwords.words('english'))\n",
        "\n",
        "for sentence in sentences:\n",
        "    # 단어 토큰화\n",
        "    tokenized_sentence = word_tokenize(sentence)\n",
        "    result = []\n",
        "\n",
        "    for word in tokenized_sentence: \n",
        "        word = word.lower() # 모든 단어를 소문자화하여 단어의 개수를 줄인다.\n",
        "        if word not in stop_words: # 단어 토큰화 된 결과에 대해서 불용어를 제거한다.\n",
        "            if len(word) > 2: # 단어 길이가 2이하인 경우에 대하여 추가로 단어를 제거한다.\n",
        "                result.append(word)\n",
        "                if word not in vocab:\n",
        "                    vocab[word] = 0 \n",
        "                vocab[word] += 1\n",
        "    preprocessed_sentences.append(result) \n",
        "print(preprocessed_sentences)"
      ],
      "metadata": {
        "colab": {
          "base_uri": "https://localhost:8080/"
        },
        "id": "it_9jghWqumO",
        "outputId": "c06ef096-7886-4265-c44b-11679412d469"
      },
      "execution_count": 6,
      "outputs": [
        {
          "output_type": "stream",
          "name": "stdout",
          "text": [
            "[['barber', 'person'], ['barber', 'good', 'person'], ['barber', 'huge', 'person'], ['knew', 'secret'], ['secret', 'kept', 'huge', 'secret'], ['huge', 'secret'], ['barber', 'kept', 'word'], ['barber', 'kept', 'word'], ['barber', 'kept', 'secret'], ['keeping', 'keeping', 'huge', 'secret', 'driving', 'barber', 'crazy'], ['barber', 'went', 'huge', 'mountain']]\n"
          ]
        }
      ]
    },
    {
      "cell_type": "code",
      "source": [
        "print('단어 집합 :',vocab)"
      ],
      "metadata": {
        "colab": {
          "base_uri": "https://localhost:8080/"
        },
        "id": "F4WKZ_X2qyc8",
        "outputId": "9baf3293-3c81-46d4-a46b-1c9f821d1676"
      },
      "execution_count": 86,
      "outputs": [
        {
          "output_type": "stream",
          "name": "stdout",
          "text": [
            "단어 집합 : {'barber': 8, 'person': 3, 'good': 1, 'huge': 5, 'knew': 1, 'secret': 6, 'kept': 4, 'word': 2, 'keeping': 2, 'driving': 1, 'crazy': 1, 'went': 1, 'mountain': 1}\n"
          ]
        }
      ]
    },
    {
      "cell_type": "code",
      "source": [
        "# 'barber'라는 단어의 빈도수 출력\n",
        "print(vocab[\"barber\"])"
      ],
      "metadata": {
        "colab": {
          "base_uri": "https://localhost:8080/"
        },
        "id": "DlZrWrw2q4Pi",
        "outputId": "7f085fa4-e6fc-404a-f9a6-dc6417f898fa"
      },
      "execution_count": 87,
      "outputs": [
        {
          "output_type": "stream",
          "name": "stdout",
          "text": [
            "8\n"
          ]
        }
      ]
    },
    {
      "cell_type": "code",
      "source": [
        "#이제 빈도수가 높은 순서대로 정렬해보겠습니다.\n",
        "\n",
        "vocab_sorted = sorted(vocab.items(), key = lambda x:x[1], reverse = True)\n",
        "print(vocab_sorted)"
      ],
      "metadata": {
        "colab": {
          "base_uri": "https://localhost:8080/"
        },
        "id": "hLhC9AZIq5ue",
        "outputId": "45178560-8180-4d1a-fb3c-a42bc66e681b"
      },
      "execution_count": 88,
      "outputs": [
        {
          "output_type": "stream",
          "name": "stdout",
          "text": [
            "[('barber', 8), ('secret', 6), ('huge', 5), ('kept', 4), ('person', 3), ('word', 2), ('keeping', 2), ('good', 1), ('knew', 1), ('driving', 1), ('crazy', 1), ('went', 1), ('mountain', 1)]\n"
          ]
        }
      ]
    },
    {
      "cell_type": "code",
      "source": [
        "# 높은 빈도수를 가진 단어일수록 낮은 정수를 부여합니다.\n",
        "\n",
        "word_to_index = {}\n",
        "i = 0\n",
        "for (word, frequency) in vocab_sorted :\n",
        "    if frequency > 1 : # 빈도수가 작은 단어는 제외.\n",
        "        i = i + 1\n",
        "        word_to_index[word] = i\n",
        "\n",
        "print(word_to_index)"
      ],
      "metadata": {
        "colab": {
          "base_uri": "https://localhost:8080/"
        },
        "id": "kYlsINuQq8eD",
        "outputId": "ac9e5548-2c3c-40da-f144-cf3dbe23bdb7"
      },
      "execution_count": 89,
      "outputs": [
        {
          "output_type": "stream",
          "name": "stdout",
          "text": [
            "{'barber': 1, 'secret': 2, 'huge': 3, 'kept': 4, 'person': 5, 'word': 6, 'keeping': 7}\n"
          ]
        }
      ]
    },
    {
      "cell_type": "code",
      "source": [
        "#이프 상위 5개 단어만 사용하고 싶다면~\n",
        "\n",
        "vocab_size = 5\n",
        "\n",
        "# 인덱스가 5 초과인 단어 제거\n",
        "words_frequency = [word for word, index in word_to_index.items() if index >= vocab_size + 1]\n",
        "\n",
        "# 해당 단어에 대한 인덱스 정보를 삭제\n",
        "for w in words_frequency:\n",
        "    del word_to_index[w]\n",
        "print(word_to_index)"
      ],
      "metadata": {
        "colab": {
          "base_uri": "https://localhost:8080/"
        },
        "id": "cUwzOYi9rh_j",
        "outputId": "4b978741-bb6e-4382-ca44-d8722a250d44"
      },
      "execution_count": 90,
      "outputs": [
        {
          "output_type": "stream",
          "name": "stdout",
          "text": [
            "{'barber': 1, 'secret': 2, 'huge': 3, 'kept': 4, 'person': 5}\n"
          ]
        }
      ]
    },
    {
      "cell_type": "markdown",
      "source": [
        "word_to_index를 사용하여 단어 토큰화가 된 상태로 저장된 sentences에 있는 각 단어를 정수로 바꾸는 작업을 하겠습니다.\n",
        "\n",
        "예를 들어 sentences에서 첫번째 문장은 ['barber', 'person']이었는데, 이 문장에 대해서는 [1, 5]로 인코딩합니다. 그런데 두번째 문장인 ['barber', 'good', 'person']에는 더 이상 word_to_index에는 존재하지 않는 단어인 'good'이라는 단어가 있습니다.\n",
        "\n",
        "이처럼 단어 집합에 존재하지 않는 단어들이 생기는 상황을 Out-Of-Vocabulary(단어 집합에 없는 단어) 문제라고 합니다. 약자로 'OOV 문제'라고도 합니다. word_to_index에 'OOV'란 단어를 새롭게 추가하고, 단어 집합에 없는 단어들은 'OOV'의 인덱스로 인코딩하겠습니다.\n",
        "\n"
      ],
      "metadata": {
        "id": "fKjJT2YMsRXz"
      }
    },
    {
      "cell_type": "code",
      "source": [
        "word_to_index['OOV'] = len(word_to_index) + 1\n",
        "print(word_to_index)"
      ],
      "metadata": {
        "colab": {
          "base_uri": "https://localhost:8080/"
        },
        "id": "9ny0JoulsJFq",
        "outputId": "62e44e01-511e-43d5-bd79-01576fd47b95"
      },
      "execution_count": 91,
      "outputs": [
        {
          "output_type": "stream",
          "name": "stdout",
          "text": [
            "{'barber': 1, 'secret': 2, 'huge': 3, 'kept': 4, 'person': 5, 'OOV': 6}\n"
          ]
        }
      ]
    },
    {
      "cell_type": "code",
      "source": [
        "encoded_sentences = []\n",
        "for sentence in preprocessed_sentences:\n",
        "    encoded_sentence = []\n",
        "    for word in sentence:\n",
        "        try:\n",
        "            # 단어 집합에 있는 단어라면 해당 단어의 정수를 리턴.\n",
        "            encoded_sentence.append(word_to_index[word])\n",
        "        except KeyError:\n",
        "            # 만약 단어 집합에 없는 단어라면 'OOV'의 정수를 리턴.\n",
        "            encoded_sentence.append(word_to_index['OOV'])\n",
        "    encoded_sentences.append(encoded_sentence)\n",
        "print(encoded_sentences)"
      ],
      "metadata": {
        "colab": {
          "base_uri": "https://localhost:8080/"
        },
        "id": "qw0lM97CsfD4",
        "outputId": "53236581-1a06-4de1-f0ed-ad68ab24bd30"
      },
      "execution_count": 99,
      "outputs": [
        {
          "output_type": "stream",
          "name": "stdout",
          "text": [
            "[[1, 5], [1, 6, 5], [1, 3, 5], [6, 2], [2, 4, 3, 2], [3, 2], [1, 4, 6], [1, 4, 6], [1, 4, 2], [6, 6, 3, 2, 6, 1, 6], [1, 6, 3, 6]]\n"
          ]
        }
      ]
    },
    {
      "cell_type": "code",
      "source": [
        "#나는 멋있게 defaultdict를 써보겠다.\n",
        "from collections import defaultdict\n",
        "word_to_index=defaultdict(lambda: 6,word_to_index)\n",
        "defdict_encoded_sentences = []\n",
        "for sentence in preprocessed_sentences:\n",
        "    defdict_encoded_sentence = []\n",
        "    for word in sentence:\n",
        "        defdict_encoded_sentence.append(word_to_index[word])\n",
        "    defdict_encoded_sentences.append(defdict_encoded_sentence)\n",
        "print(defdict_encoded_sentences)"
      ],
      "metadata": {
        "colab": {
          "base_uri": "https://localhost:8080/"
        },
        "id": "MUAUE6YOtDpu",
        "outputId": "a0d1f301-eca4-499e-b5e1-50ce84ce6aed"
      },
      "execution_count": 100,
      "outputs": [
        {
          "output_type": "stream",
          "name": "stdout",
          "text": [
            "[[1, 5], [1, 6, 5], [1, 3, 5], [6, 2], [2, 4, 3, 2], [3, 2], [1, 4, 6], [1, 4, 6], [1, 4, 2], [6, 6, 3, 2, 6, 1, 6], [1, 6, 3, 6]]\n"
          ]
        }
      ]
    },
    {
      "cell_type": "code",
      "source": [
        "if encoded_sentences==defdict_encoded_sentences:\n",
        "  print('same')"
      ],
      "metadata": {
        "colab": {
          "base_uri": "https://localhost:8080/"
        },
        "id": "XTz_UX7Tue1y",
        "outputId": "d08d8d3f-438c-4076-ed68-01e209106c90"
      },
      "execution_count": 101,
      "outputs": [
        {
          "output_type": "stream",
          "name": "stdout",
          "text": [
            "same\n"
          ]
        }
      ]
    },
    {
      "cell_type": "markdown",
      "source": [
        "**2) Counter 사용하기**"
      ],
      "metadata": {
        "id": "AWvxmnXSutcv"
      }
    },
    {
      "cell_type": "code",
      "source": [
        "from collections import Counter\n",
        "print(preprocessed_sentences)"
      ],
      "metadata": {
        "colab": {
          "base_uri": "https://localhost:8080/"
        },
        "id": "w5VterbTusSe",
        "outputId": "59abd8e8-1f4e-4a00-cfda-7ab73f32c0ff"
      },
      "execution_count": 7,
      "outputs": [
        {
          "output_type": "stream",
          "name": "stdout",
          "text": [
            "[['barber', 'person'], ['barber', 'good', 'person'], ['barber', 'huge', 'person'], ['knew', 'secret'], ['secret', 'kept', 'huge', 'secret'], ['huge', 'secret'], ['barber', 'kept', 'word'], ['barber', 'kept', 'word'], ['barber', 'kept', 'secret'], ['keeping', 'keeping', 'huge', 'secret', 'driving', 'barber', 'crazy'], ['barber', 'went', 'huge', 'mountain']]\n"
          ]
        }
      ]
    },
    {
      "cell_type": "code",
      "source": [
        "# words = np.hstack(preprocessed_sentences)으로도 수행 가능.\n",
        "all_words_list = sum(preprocessed_sentences, [])\n",
        "print(all_words_list)"
      ],
      "metadata": {
        "colab": {
          "base_uri": "https://localhost:8080/"
        },
        "id": "f6a_FRSZuyJN",
        "outputId": "53f23fa5-0366-485c-ee7c-1743c88645ee"
      },
      "execution_count": 8,
      "outputs": [
        {
          "output_type": "stream",
          "name": "stdout",
          "text": [
            "['barber', 'person', 'barber', 'good', 'person', 'barber', 'huge', 'person', 'knew', 'secret', 'secret', 'kept', 'huge', 'secret', 'huge', 'secret', 'barber', 'kept', 'word', 'barber', 'kept', 'word', 'barber', 'kept', 'secret', 'keeping', 'keeping', 'huge', 'secret', 'driving', 'barber', 'crazy', 'barber', 'went', 'huge', 'mountain']\n"
          ]
        }
      ]
    },
    {
      "cell_type": "code",
      "source": [
        "# Counter()의 입력으로 사용하면 중복을 제거하고 단어의 빈도수를 기록합니다.\n",
        "\n",
        "vocab = Counter(all_words_list)\n",
        "print(vocab)"
      ],
      "metadata": {
        "colab": {
          "base_uri": "https://localhost:8080/"
        },
        "id": "5FtZ85GaYUc8",
        "outputId": "5567b99e-1bba-4d4d-d339-10a3438232f2"
      },
      "execution_count": 19,
      "outputs": [
        {
          "output_type": "stream",
          "name": "stdout",
          "text": [
            "Counter({'barber': 8, 'secret': 6, 'huge': 5, 'kept': 4, 'person': 3, 'word': 2, 'keeping': 2, 'good': 1, 'knew': 1, 'driving': 1, 'crazy': 1, 'went': 1, 'mountain': 1})\n"
          ]
        }
      ]
    },
    {
      "cell_type": "code",
      "source": [
        "print(vocab[\"barber\"]) # 'barber'라는 단어의 빈도수 출력"
      ],
      "metadata": {
        "colab": {
          "base_uri": "https://localhost:8080/"
        },
        "id": "l1DNPDtHYa2u",
        "outputId": "5240cdae-a8c6-4fe1-b44a-3b6a3deffa08"
      },
      "execution_count": 20,
      "outputs": [
        {
          "output_type": "stream",
          "name": "stdout",
          "text": [
            "8\n"
          ]
        }
      ]
    },
    {
      "cell_type": "code",
      "source": [
        "# most_common()는 상위 빈도수를 가진 주어진 수의 단어만을 리턴합니다. \n",
        "# 등장 빈도수 상위 5개의 단어만 wㅓ장\n",
        "\n",
        "vocab_size = 5\n",
        "vocab = vocab.most_common(vocab_size) # 등장 빈도수가 높은 상위 5개의 단어만 저장\n",
        "vocab"
      ],
      "metadata": {
        "colab": {
          "base_uri": "https://localhost:8080/"
        },
        "id": "ndZcNmsvYbI4",
        "outputId": "4c555b55-d962-4244-d376-36202d9de041"
      },
      "execution_count": 21,
      "outputs": [
        {
          "output_type": "execute_result",
          "data": {
            "text/plain": [
              "[('barber', 8), ('secret', 6), ('huge', 5), ('kept', 4), ('person', 3)]"
            ]
          },
          "metadata": {},
          "execution_count": 21
        }
      ]
    },
    {
      "cell_type": "code",
      "source": [
        "# 높은 빈도수를 가진 단어일수록 낮은 정수 인덱스를 부여합니다.\n",
        "\n",
        "word_to_index = {}\n",
        "i = 0\n",
        "for (word, frequency) in vocab :\n",
        "    i = i + 1\n",
        "    word_to_index[word] = i\n",
        "\n",
        "print(word_to_index)"
      ],
      "metadata": {
        "colab": {
          "base_uri": "https://localhost:8080/"
        },
        "id": "jd6jUxDRYjoR",
        "outputId": "eea3db97-4e8a-42d0-e78b-aae0df7cc76e"
      },
      "execution_count": 22,
      "outputs": [
        {
          "output_type": "stream",
          "name": "stdout",
          "text": [
            "{'barber': 1, 'secret': 2, 'huge': 3, 'kept': 4, 'person': 5}\n"
          ]
        }
      ]
    },
    {
      "cell_type": "markdown",
      "source": [
        "**3) NLTK의 FreqDist 사용하기**\n",
        "\n",
        "NLTK에서는 빈도수 계산 도구인 FreqDist()를 지원합니다. 위에서 사용한 Counter()랑 같은 방법으로 사용할 수 있습니다."
      ],
      "metadata": {
        "id": "XVbbf89mYqin"
      }
    },
    {
      "cell_type": "code",
      "source": [
        "from nltk import FreqDist\n",
        "import numpy as np\n",
        "# np.hstack으로 문장 구분을 제거\n",
        "vocab = FreqDist(np.hstack(preprocessed_sentences))"
      ],
      "metadata": {
        "id": "ZqeDh5WMYonw"
      },
      "execution_count": 23,
      "outputs": []
    },
    {
      "cell_type": "code",
      "source": [
        "print(vocab[\"barber\"]) # 'barber'라는 단어의 빈도수 출력"
      ],
      "metadata": {
        "colab": {
          "base_uri": "https://localhost:8080/"
        },
        "id": "1GAUNabmYuo7",
        "outputId": "30856db4-4e4a-491c-d7d8-83f39df9ea0d"
      },
      "execution_count": 24,
      "outputs": [
        {
          "output_type": "stream",
          "name": "stdout",
          "text": [
            "8\n"
          ]
        }
      ]
    },
    {
      "cell_type": "code",
      "source": [
        "vocab_size = 5\n",
        "vocab = vocab.most_common(vocab_size) # 등장 빈도수가 높은 상위 5개의 단어만 저장\n",
        "print(vocab)"
      ],
      "metadata": {
        "colab": {
          "base_uri": "https://localhost:8080/"
        },
        "id": "xIE5XHQTY229",
        "outputId": "4be855b4-0db7-4d35-85a6-87c7b9db6239"
      },
      "execution_count": 25,
      "outputs": [
        {
          "output_type": "stream",
          "name": "stdout",
          "text": [
            "[('barber', 8), ('secret', 6), ('huge', 5), ('kept', 4), ('person', 3)]\n"
          ]
        }
      ]
    },
    {
      "cell_type": "code",
      "source": [
        "word_to_index = {word[0] : index + 1 for index, word in enumerate(vocab)}\n",
        "#enumerate는 인덱스 0부터니까 +1\n",
        "print(word_to_index)"
      ],
      "metadata": {
        "colab": {
          "base_uri": "https://localhost:8080/"
        },
        "id": "UsbnGdlWY6dS",
        "outputId": "3cbe6ccb-c397-44e9-cbe8-432705d7d172"
      },
      "execution_count": 26,
      "outputs": [
        {
          "output_type": "stream",
          "name": "stdout",
          "text": [
            "{'barber': 1, 'secret': 2, 'huge': 3, 'kept': 4, 'person': 5}\n"
          ]
        }
      ]
    },
    {
      "cell_type": "markdown",
      "source": [
        "enumerate()는 순서가 있는 자료형(list, set, tuple, dictionary, string)과 인덱스 뱉어~"
      ],
      "metadata": {
        "id": "U7OgUVqhZG6V"
      }
    },
    {
      "cell_type": "markdown",
      "source": [
        "### **2. 케라스(Keras)의 텍스트 전처리**\n",
        "\n",
        "케라스(Keras)는 기본적인 전처리를 위한 도구들을 제공합니다. 때로는 정수 인코딩을 위해서 케라스의 전처리 도구인 토크나이저를 사용하기도 하는데, 사용 방법과 그 특징에 대해서 이해해보겠습니다.\n",
        "\n"
      ],
      "metadata": {
        "id": "XxlQ4dO_ZLto"
      }
    },
    {
      "cell_type": "code",
      "source": [
        "from tensorflow.keras.preprocessing.text import Tokenizer\n",
        "preprocessed_sentences = [['barber', 'person'], ['barber', 'good', 'person'], ['barber', 'huge', 'person'], ['knew', 'secret'], ['secret', 'kept', 'huge', 'secret'], ['huge', 'secret'], ['barber', 'kept', 'word'], ['barber', 'kept', 'word'], ['barber', 'kept', 'secret'], ['keeping', 'keeping', 'huge', 'secret', 'driving', 'barber', 'crazy'], ['barber', 'went', 'huge', 'mountain']]\n",
        "\n",
        "tokenizer = Tokenizer()\n",
        "\n",
        "# fit_on_texts()안에 코퍼스를 입력으로 하면 빈도수를 기준으로 단어 집합을 생성.\n",
        "tokenizer.fit_on_texts(preprocessed_sentences)\n",
        "print(tokenizer.word_index)"
      ],
      "metadata": {
        "colab": {
          "base_uri": "https://localhost:8080/"
        },
        "id": "ql0E5DHHY8vj",
        "outputId": "9a16da62-b289-4fa1-8aef-c31ef16b8c8d"
      },
      "execution_count": 28,
      "outputs": [
        {
          "output_type": "stream",
          "name": "stdout",
          "text": [
            "{'barber': 1, 'secret': 2, 'huge': 3, 'kept': 4, 'person': 5, 'word': 6, 'keeping': 7, 'good': 8, 'knew': 9, 'driving': 10, 'crazy': 11, 'went': 12, 'mountain': 13}\n"
          ]
        }
      ]
    },
    {
      "cell_type": "code",
      "source": [
        "print(tokenizer.word_counts)"
      ],
      "metadata": {
        "colab": {
          "base_uri": "https://localhost:8080/"
        },
        "id": "W1O-i5r9ZRM4",
        "outputId": "1de4b632-8435-442e-be0a-eb6fc0e13c43"
      },
      "execution_count": 29,
      "outputs": [
        {
          "output_type": "stream",
          "name": "stdout",
          "text": [
            "OrderedDict([('barber', 8), ('person', 3), ('good', 1), ('huge', 5), ('knew', 1), ('secret', 6), ('kept', 4), ('word', 2), ('keeping', 2), ('driving', 1), ('crazy', 1), ('went', 1), ('mountain', 1)])\n"
          ]
        }
      ]
    },
    {
      "cell_type": "code",
      "source": [
        "print(tokenizer.texts_to_sequences(preprocessed_sentences))"
      ],
      "metadata": {
        "colab": {
          "base_uri": "https://localhost:8080/"
        },
        "id": "pm9VVLfpaQJ3",
        "outputId": "7b25e8c7-06d8-4c23-c12c-0e32124adf8a"
      },
      "execution_count": 30,
      "outputs": [
        {
          "output_type": "stream",
          "name": "stdout",
          "text": [
            "[[1, 5], [1, 8, 5], [1, 3, 5], [9, 2], [2, 4, 3, 2], [3, 2], [1, 4, 6], [1, 4, 6], [1, 4, 2], [7, 7, 3, 2, 10, 1, 11], [1, 12, 3, 13]]\n"
          ]
        }
      ]
    },
    {
      "cell_type": "code",
      "source": [
        "vocab_size = 5\n",
        "tokenizer = Tokenizer(num_words = vocab_size + 1) # 상위 5개 단어만 사용\n",
        "tokenizer.fit_on_texts(preprocessed_sentences)\n",
        "print(tokenizer.word_index)"
      ],
      "metadata": {
        "colab": {
          "base_uri": "https://localhost:8080/"
        },
        "id": "myp-OswOaW6n",
        "outputId": "b0f67852-8f77-4eb9-98fc-4e9ed5693d8f"
      },
      "execution_count": 32,
      "outputs": [
        {
          "output_type": "stream",
          "name": "stdout",
          "text": [
            "{'barber': 1, 'secret': 2, 'huge': 3, 'kept': 4, 'person': 5, 'word': 6, 'keeping': 7, 'good': 8, 'knew': 9, 'driving': 10, 'crazy': 11, 'went': 12, 'mountain': 13}\n"
          ]
        }
      ]
    },
    {
      "cell_type": "markdown",
      "source": [
        "!!!!! +1 하는 이유는 패딩 때문에 0도 존재하기 때문!!!! 실제로 0에 지정된 단어는 없엉"
      ],
      "metadata": {
        "id": "dNaR-LaGajyj"
      }
    },
    {
      "cell_type": "code",
      "source": [
        "print(tokenizer.word_counts)"
      ],
      "metadata": {
        "colab": {
          "base_uri": "https://localhost:8080/"
        },
        "id": "BumcWsU3aclf",
        "outputId": "77f7484f-c77c-49c1-c8b2-07c36ec370d9"
      },
      "execution_count": 33,
      "outputs": [
        {
          "output_type": "stream",
          "name": "stdout",
          "text": [
            "OrderedDict([('barber', 8), ('person', 3), ('good', 1), ('huge', 5), ('knew', 1), ('secret', 6), ('kept', 4), ('word', 2), ('keeping', 2), ('driving', 1), ('crazy', 1), ('went', 1), ('mountain', 1)])\n"
          ]
        }
      ]
    },
    {
      "cell_type": "code",
      "source": [
        "# 왜 다 13개 뱉어내냐면~ 실제 적용은 texts_to_sequences를 사용할 때 적용이 되기 때문.\n",
        "\n",
        "print(tokenizer.texts_to_sequences(preprocessed_sentences))"
      ],
      "metadata": {
        "colab": {
          "base_uri": "https://localhost:8080/"
        },
        "id": "CCbYBPRda901",
        "outputId": "43a2faf7-0579-4673-c0a1-ca513be313b4"
      },
      "execution_count": 34,
      "outputs": [
        {
          "output_type": "stream",
          "name": "stdout",
          "text": [
            "[[1, 5], [1, 5], [1, 3, 5], [2], [2, 4, 3, 2], [3, 2], [1, 4], [1, 4], [1, 4, 2], [3, 2, 1], [1, 3]]\n"
          ]
        }
      ]
    },
    {
      "cell_type": "code",
      "source": [
        "# 만약 word_index와 word_counts에서도 지정된 num_words만큼의 단어만 남기고 싶다면 \n",
        "tokenizer = Tokenizer()\n",
        "tokenizer.fit_on_texts(preprocessed_sentences)\n",
        "vocab_size = 5\n",
        "words_frequency = [word for word, index in tokenizer.word_index.items() if index >= vocab_size + 1] \n",
        "\n",
        "# 인덱스가 5 초과인 단어 제거\n",
        "for word in words_frequency:\n",
        "    del tokenizer.word_index[word] # 해당 단어에 대한 인덱스 정보를 삭제\n",
        "    del tokenizer.word_counts[word] # 해당 단어에 대한 카운트 정보를 삭제\n",
        "\n",
        "print(tokenizer.word_index)\n",
        "print(tokenizer.word_counts)\n",
        "print(tokenizer.texts_to_sequences(preprocessed_sentences))"
      ],
      "metadata": {
        "colab": {
          "base_uri": "https://localhost:8080/"
        },
        "id": "HUlJpOwebEYu",
        "outputId": "7acce21a-f71f-413d-8174-9529d4418257"
      },
      "execution_count": 35,
      "outputs": [
        {
          "output_type": "stream",
          "name": "stdout",
          "text": [
            "{'barber': 1, 'secret': 2, 'huge': 3, 'kept': 4, 'person': 5}\n",
            "OrderedDict([('barber', 8), ('person', 3), ('huge', 5), ('secret', 6), ('kept', 4)])\n",
            "[[1, 5], [1, 5], [1, 3, 5], [2], [2, 4, 3, 2], [3, 2], [1, 4], [1, 4], [1, 4, 2], [3, 2, 1], [1, 3]]\n"
          ]
        }
      ]
    },
    {
      "cell_type": "markdown",
      "source": [
        "케라스 토크나이저는 기본적으로 단어 집합에 없는 단어인 OOV에 대해서는 단어를 정수로 바꾸는 과정에서 아예 단어를 제거한다는 특징이 있습니다. 단어 집합에 없는 단어들은 OOV로 간주하여 보존하고 싶다면 Tokenizer의 인자 oov_token을 사용합니다.\n"
      ],
      "metadata": {
        "id": "qJt2NCjebPSJ"
      }
    },
    {
      "cell_type": "code",
      "source": [
        "# 숫자 0과 OOV를 고려해서 단어 집합의 크기는 +2\n",
        "vocab_size = 5\n",
        "tokenizer = Tokenizer(num_words = vocab_size + 2, oov_token = 'OOV')\n",
        "tokenizer.fit_on_texts(preprocessed_sentences)"
      ],
      "metadata": {
        "id": "riT6ZSZEbKtT"
      },
      "execution_count": 36,
      "outputs": []
    },
    {
      "cell_type": "code",
      "source": [
        "#  oov_token을 사용하기로 했다면 케라스 토크나이저는 기본적으로 'OOV'의 인덱스를 1로 합니다.\n",
        "\n",
        "print('단어 OOV의 인덱스 : {}'.format(tokenizer.word_index['OOV']))"
      ],
      "metadata": {
        "colab": {
          "base_uri": "https://localhost:8080/"
        },
        "id": "u5iVMrJVbQ5w",
        "outputId": "9f5a986d-1051-4e4f-f9e2-dff7cf7e69f7"
      },
      "execution_count": 37,
      "outputs": [
        {
          "output_type": "stream",
          "name": "stdout",
          "text": [
            "단어 OOV의 인덱스 : 1\n"
          ]
        }
      ]
    },
    {
      "cell_type": "code",
      "source": [
        "print(tokenizer.texts_to_sequences(preprocessed_sentences))"
      ],
      "metadata": {
        "colab": {
          "base_uri": "https://localhost:8080/"
        },
        "id": "W5T-vRMebYEw",
        "outputId": "118ca908-2777-449c-b96a-f0fae31b49f2"
      },
      "execution_count": 38,
      "outputs": [
        {
          "output_type": "stream",
          "name": "stdout",
          "text": [
            "[[2, 6], [2, 1, 6], [2, 4, 6], [1, 3], [3, 5, 4, 3], [4, 3], [2, 5, 1], [2, 5, 1], [2, 5, 3], [1, 1, 4, 3, 1, 2, 1], [2, 1, 4, 1]]\n"
          ]
        }
      ]
    },
    {
      "cell_type": "markdown",
      "source": [
        "빈도수 상위 5개의 단어는 2 ~ 6까지의 인덱스를 가졌으며, 그 외 단어 집합에 없는 'good'과 같은 단어들은 전부 'OOV'의 인덱스인 1로 인코딩되었습니다."
      ],
      "metadata": {
        "id": "u4z6qU5ibe8g"
      }
    },
    {
      "cell_type": "markdown",
      "source": [
        "## **07) 패딩(Padding)**\n",
        "\n",
        " 문장(또는 문서)은 서로 길이가 다를 수 있습니다. 그런데 기계는 길이가 전부 동일한 문서들에 대해서는 하나의 행렬로 보고, 한꺼번에 묶어서 처리할 수 있습니다. 다시 말해 <font color=red>병렬 연산을 위해서 여러 문장의 길이를 임의로 동일하게 맞춰주는 작업이 필요할 때가 있습니다.\n",
        "\n",
        " 기계는 문장들을 하나의 행렬로 보고, 병렬 처리를 할 수 있습니다. 또한, 0으로 패딩된 단어는 사실 아무런 의미도 없는 단어이기 때문에 자연어 처리하는 과정에서 <font color=red>기계는 0번 단어를 무시하게 될 것입니다.</font> 이와 같이 데이터에 특정 값을 채워서 데이터의 크기(shape)를 조정하는 것을 패딩(padding)이라고 합니다. 숫자 0을 사용하고 있다면 제로 패딩(zero padding)이라고 합니다."
      ],
      "metadata": {
        "id": "jrC84NQXb2zR"
      }
    },
    {
      "cell_type": "markdown",
      "source": [
        "### **1. Numpy로 패딩하기**\n"
      ],
      "metadata": {
        "id": "IN4BwdDfcDBm"
      }
    },
    {
      "cell_type": "code",
      "source": [
        "import numpy as np\n",
        "from tensorflow.keras.preprocessing.text import Tokenizer"
      ],
      "metadata": {
        "id": "B5ZUX8z7bc4i"
      },
      "execution_count": 39,
      "outputs": []
    },
    {
      "cell_type": "code",
      "source": [
        "preprocessed_sentences = [['barber', 'person'], ['barber', 'good', 'person'], ['barber', 'huge', 'person'], ['knew', 'secret'], ['secret', 'kept', 'huge', 'secret'], ['huge', 'secret'], ['barber', 'kept', 'word'], ['barber', 'kept', 'word'], ['barber', 'kept', 'secret'], ['keeping', 'keeping', 'huge', 'secret', 'driving', 'barber', 'crazy'], ['barber', 'went', 'huge', 'mountain']]\n",
        "\n",
        "tokenizer = Tokenizer()\n",
        "tokenizer.fit_on_texts(preprocessed_sentences)\n",
        "encoded = tokenizer.texts_to_sequences(preprocessed_sentences)\n",
        "print(encoded)"
      ],
      "metadata": {
        "colab": {
          "base_uri": "https://localhost:8080/"
        },
        "id": "mqQ6hjBfcF00",
        "outputId": "6b9d299a-f11e-4682-f5da-09022ab21f16"
      },
      "execution_count": 40,
      "outputs": [
        {
          "output_type": "stream",
          "name": "stdout",
          "text": [
            "[[1, 5], [1, 8, 5], [1, 3, 5], [9, 2], [2, 4, 3, 2], [3, 2], [1, 4, 6], [1, 4, 6], [1, 4, 2], [7, 7, 3, 2, 10, 1, 11], [1, 12, 3, 13]]\n"
          ]
        }
      ]
    },
    {
      "cell_type": "code",
      "source": [
        "# 모두 동일한 길이로 맞춰주기 위해서 이 중에서 가장 길이가 긴 문장의 길이를 계산해보겠습니다.\n",
        "\n",
        "max_len = max(len(item) for item in encoded)\n",
        "print('최대 길이 :',max_len)"
      ],
      "metadata": {
        "colab": {
          "base_uri": "https://localhost:8080/"
        },
        "id": "ILeUHr3icJXq",
        "outputId": "64d219ee-7b74-42c5-a676-91757ce3abe4"
      },
      "execution_count": 41,
      "outputs": [
        {
          "output_type": "stream",
          "name": "stdout",
          "text": [
            "최대 길이 : 7\n"
          ]
        }
      ]
    },
    {
      "cell_type": "code",
      "source": [
        "# 길이가 7보다 짧은 문장에는 숫자 0을 채워서 길이 7로 맞춰줍니다.\n",
        "\n",
        "for sentence in encoded:\n",
        "    while len(sentence) < max_len:\n",
        "        sentence.append(0)\n",
        "\n",
        "padded_np = np.array(encoded)\n",
        "padded_np"
      ],
      "metadata": {
        "colab": {
          "base_uri": "https://localhost:8080/"
        },
        "id": "Atm_n-UVcM4c",
        "outputId": "e4dcbb8a-6e81-4bc4-f3c5-e0e1e31d415d"
      },
      "execution_count": 42,
      "outputs": [
        {
          "output_type": "execute_result",
          "data": {
            "text/plain": [
              "array([[ 1,  5,  0,  0,  0,  0,  0],\n",
              "       [ 1,  8,  5,  0,  0,  0,  0],\n",
              "       [ 1,  3,  5,  0,  0,  0,  0],\n",
              "       [ 9,  2,  0,  0,  0,  0,  0],\n",
              "       [ 2,  4,  3,  2,  0,  0,  0],\n",
              "       [ 3,  2,  0,  0,  0,  0,  0],\n",
              "       [ 1,  4,  6,  0,  0,  0,  0],\n",
              "       [ 1,  4,  6,  0,  0,  0,  0],\n",
              "       [ 1,  4,  2,  0,  0,  0,  0],\n",
              "       [ 7,  7,  3,  2, 10,  1, 11],\n",
              "       [ 1, 12,  3, 13,  0,  0,  0]])"
            ]
          },
          "metadata": {},
          "execution_count": 42
        }
      ]
    },
    {
      "cell_type": "markdown",
      "source": [
        "### **2. 케라스 전처리 도구로 패딩하기**"
      ],
      "metadata": {
        "id": "-pQwXFnmcxiZ"
      }
    },
    {
      "cell_type": "code",
      "source": [
        "from tensorflow.keras.preprocessing.sequence import pad_sequences\n",
        "# encoded 값이 위에서 이미 패딩 후의 결과로 저장되었기 때문에 패딩 이전의 값으로 다시 되돌리겠습니다.\n",
        "\n",
        "encoded = tokenizer.texts_to_sequences(preprocessed_sentences)\n",
        "print(encoded)"
      ],
      "metadata": {
        "colab": {
          "base_uri": "https://localhost:8080/"
        },
        "id": "Q1x7dy4TcSfY",
        "outputId": "1ea63929-d819-4e2f-fca8-87a1ecf5b5ca"
      },
      "execution_count": 43,
      "outputs": [
        {
          "output_type": "stream",
          "name": "stdout",
          "text": [
            "[[1, 5], [1, 8, 5], [1, 3, 5], [9, 2], [2, 4, 3, 2], [3, 2], [1, 4, 6], [1, 4, 6], [1, 4, 2], [7, 7, 3, 2, 10, 1, 11], [1, 12, 3, 13]]\n"
          ]
        }
      ]
    },
    {
      "cell_type": "code",
      "source": [
        "#keras pad_sequences()\n",
        "padded = pad_sequences(encoded)\n",
        "padded"
      ],
      "metadata": {
        "colab": {
          "base_uri": "https://localhost:8080/"
        },
        "id": "8uuPhNOtc1rk",
        "outputId": "1e537efa-7a69-47ce-e1c3-1f822540d0eb"
      },
      "execution_count": 45,
      "outputs": [
        {
          "output_type": "execute_result",
          "data": {
            "text/plain": [
              "array([[ 0,  0,  0,  0,  0,  1,  5],\n",
              "       [ 0,  0,  0,  0,  1,  8,  5],\n",
              "       [ 0,  0,  0,  0,  1,  3,  5],\n",
              "       [ 0,  0,  0,  0,  0,  9,  2],\n",
              "       [ 0,  0,  0,  2,  4,  3,  2],\n",
              "       [ 0,  0,  0,  0,  0,  3,  2],\n",
              "       [ 0,  0,  0,  0,  1,  4,  6],\n",
              "       [ 0,  0,  0,  0,  1,  4,  6],\n",
              "       [ 0,  0,  0,  0,  1,  4,  2],\n",
              "       [ 7,  7,  3,  2, 10,  1, 11],\n",
              "       [ 0,  0,  0,  1, 12,  3, 13]], dtype=int32)"
            ]
          },
          "metadata": {},
          "execution_count": 45
        }
      ]
    },
    {
      "cell_type": "code",
      "source": [
        "#put 0 on the back-> padding='post'를 주면됩니다.\n",
        "\n",
        "padded = pad_sequences(encoded, padding='post')\n",
        "padded"
      ],
      "metadata": {
        "colab": {
          "base_uri": "https://localhost:8080/"
        },
        "id": "FxslIablc4Sv",
        "outputId": "388410a2-075a-44e9-f0e0-9f58daa4d6d8"
      },
      "execution_count": 46,
      "outputs": [
        {
          "output_type": "execute_result",
          "data": {
            "text/plain": [
              "array([[ 1,  5,  0,  0,  0,  0,  0],\n",
              "       [ 1,  8,  5,  0,  0,  0,  0],\n",
              "       [ 1,  3,  5,  0,  0,  0,  0],\n",
              "       [ 9,  2,  0,  0,  0,  0,  0],\n",
              "       [ 2,  4,  3,  2,  0,  0,  0],\n",
              "       [ 3,  2,  0,  0,  0,  0,  0],\n",
              "       [ 1,  4,  6,  0,  0,  0,  0],\n",
              "       [ 1,  4,  6,  0,  0,  0,  0],\n",
              "       [ 1,  4,  2,  0,  0,  0,  0],\n",
              "       [ 7,  7,  3,  2, 10,  1, 11],\n",
              "       [ 1, 12,  3, 13,  0,  0,  0]], dtype=int32)"
            ]
          },
          "metadata": {},
          "execution_count": 46
        }
      ]
    },
    {
      "cell_type": "markdown",
      "source": [
        "실제로는 꼭 가장 긴 문서의 길이를 기준으로 해야하는 것은 아닙니다. 가령, 모든 문서의 평균 길이가 20인데 문서 1개의 길이가 5,000이라고 해서 굳이 모든 문서의 길이를 5,000으로 패딩할 필요는 없을 수 있습니다. 이와 같은 경우에는 길이에 제한을 두고 패딩할 수 있습니다. max_len의 인자로 정수를 주면, 해당 정수로 모든 문서의 길이를 동일하게 합니다.\n",
        "\n"
      ],
      "metadata": {
        "id": "nUjY1EmZdG7P"
      }
    },
    {
      "cell_type": "code",
      "source": [
        "padded = pad_sequences(encoded, padding='post', maxlen=5)\n",
        "#기존에 5보다 길었다면 앞 데이터가 손실됩니다. \n",
        "padded"
      ],
      "metadata": {
        "colab": {
          "base_uri": "https://localhost:8080/"
        },
        "id": "HsmsWVKZdCez",
        "outputId": "51c498bf-1d32-47dc-a2fe-d11dd366ec67"
      },
      "execution_count": 47,
      "outputs": [
        {
          "output_type": "execute_result",
          "data": {
            "text/plain": [
              "array([[ 1,  5,  0,  0,  0],\n",
              "       [ 1,  8,  5,  0,  0],\n",
              "       [ 1,  3,  5,  0,  0],\n",
              "       [ 9,  2,  0,  0,  0],\n",
              "       [ 2,  4,  3,  2,  0],\n",
              "       [ 3,  2,  0,  0,  0],\n",
              "       [ 1,  4,  6,  0,  0],\n",
              "       [ 1,  4,  6,  0,  0],\n",
              "       [ 1,  4,  2,  0,  0],\n",
              "       [ 3,  2, 10,  1, 11],\n",
              "       [ 1, 12,  3, 13,  0]], dtype=int32)"
            ]
          },
          "metadata": {},
          "execution_count": 47
        }
      ]
    },
    {
      "cell_type": "code",
      "source": [
        "# truncating='post'를 사용할 경우 뒤의 단어가 삭제됩니다.\n",
        "\n",
        "padded = pad_sequences(encoded, padding='post', truncating='post', maxlen=5)\n",
        "padded"
      ],
      "metadata": {
        "colab": {
          "base_uri": "https://localhost:8080/"
        },
        "id": "PQNv1OS1dGmb",
        "outputId": "7fc16871-f998-4ff4-a048-17f75d2fa8d1"
      },
      "execution_count": 48,
      "outputs": [
        {
          "output_type": "execute_result",
          "data": {
            "text/plain": [
              "array([[ 1,  5,  0,  0,  0],\n",
              "       [ 1,  8,  5,  0,  0],\n",
              "       [ 1,  3,  5,  0,  0],\n",
              "       [ 9,  2,  0,  0,  0],\n",
              "       [ 2,  4,  3,  2,  0],\n",
              "       [ 3,  2,  0,  0,  0],\n",
              "       [ 1,  4,  6,  0,  0],\n",
              "       [ 1,  4,  6,  0,  0],\n",
              "       [ 1,  4,  2,  0,  0],\n",
              "       [ 7,  7,  3,  2, 10],\n",
              "       [ 1, 12,  3, 13,  0]], dtype=int32)"
            ]
          },
          "metadata": {},
          "execution_count": 48
        }
      ]
    },
    {
      "cell_type": "code",
      "source": [
        "# 꼭 0으로 안 해도 됨.\n",
        "# 현재 사용된 정수들과 겹치지 않도록, 단어 집합의 크기에 +1을 한 숫자로 사용해봅시다.\n",
        "\n",
        "last_value = len(tokenizer.word_index) + 1 # 단어 집합의 크기보다 1 큰 숫자를 사용\n",
        "print(last_value)\n",
        "print()\n",
        "padded = pad_sequences(encoded, padding='post', value=last_value)\n",
        "padded"
      ],
      "metadata": {
        "colab": {
          "base_uri": "https://localhost:8080/"
        },
        "id": "3YRhFNqRdQvQ",
        "outputId": "45443a7e-1952-4c17-a84e-edf1b536c1d0"
      },
      "execution_count": 50,
      "outputs": [
        {
          "output_type": "stream",
          "name": "stdout",
          "text": [
            "14\n",
            "\n"
          ]
        },
        {
          "output_type": "execute_result",
          "data": {
            "text/plain": [
              "array([[ 1,  5, 14, 14, 14, 14, 14],\n",
              "       [ 1,  8,  5, 14, 14, 14, 14],\n",
              "       [ 1,  3,  5, 14, 14, 14, 14],\n",
              "       [ 9,  2, 14, 14, 14, 14, 14],\n",
              "       [ 2,  4,  3,  2, 14, 14, 14],\n",
              "       [ 3,  2, 14, 14, 14, 14, 14],\n",
              "       [ 1,  4,  6, 14, 14, 14, 14],\n",
              "       [ 1,  4,  6, 14, 14, 14, 14],\n",
              "       [ 1,  4,  2, 14, 14, 14, 14],\n",
              "       [ 7,  7,  3,  2, 10,  1, 11],\n",
              "       [ 1, 12,  3, 13, 14, 14, 14]], dtype=int32)"
            ]
          },
          "metadata": {},
          "execution_count": 50
        }
      ]
    },
    {
      "cell_type": "markdown",
      "source": [
        "## **08) 원-핫 인코딩(One-Hot Encoding)**\n",
        "\n",
        "컴퓨터 또는 기계는 문자보다는 숫자를 더 잘 처리 할 수 있습니다.  \n",
        "\n",
        "\n",
        "단어 집합(vocabulary) : 서로 다른 단어들의 집합입니다. \n",
        "- 단어 집합(vocabulary)에서는 기본적으로 book과 books와 같이 단어의 변형 형태도 다른 단어로 간주합니다. \n",
        "\n",
        "원-핫 인코딩을 위해서 먼저 해야할 일은 단어 집합을 만드는 일입니다. \n",
        "- 텍스트의 모든 단어를 중복을 허용하지 않고 모아놓으면 이를 단어 집합이라고 합니다. \n",
        "-이 단어 집합에 고유한 정수를 부여하는 정수 인코딩을 진행합니다. \n",
        "  - 텍스트에 단어가 총 5,000개가 존재한다면, 단어 집합의 크기는 5,000입니다. \n",
        "- 5,000개의 단어가 있는 이 단어 집합의 단어들마다 1번부터 5,000번까지 인덱스를 부여한다고 해보겠습니다. \n",
        "- 그 다음 벡터 만들기는......"
      ],
      "metadata": {
        "id": "__3tkJfHdehE"
      }
    },
    {
      "cell_type": "markdown",
      "source": [
        "### **1. 원-핫 인코딩(One-Hot Encoding)이란?**\n",
        "\n",
        "원-핫 인코딩은 단어 집합의 크기를 벡터의 차원으로 하고, <font color=red>표현하고 싶은 단어의 인덱스에 1의 값을 부여하고, 다른 인덱스에는 0을 부여하는 단어의 벡터 표현 방식입니다. </font>이렇게 표현된 벡터를 원-핫 벡터(One-Hot vector)라고 합니다.\n",
        "\n",
        "원-핫 인코딩을 두 가지 과정으로 정리해보겠습니다.\n",
        "1. 정수 인코딩을 수행합니다. 다시 말해 각 단어에 고유한 정수를 부여합니다. \n",
        "2.표현하고 싶은 단어의 고유한 정수를 인덱스로 간주하고 해당 위치에 1을 부여하고, 다른 단어의 인덱스의 위치에는 0을 부여합니다."
      ],
      "metadata": {
        "id": "33Y8KrNYefPK"
      }
    },
    {
      "cell_type": "code",
      "source": [
        "from konlpy.tag import Okt  \n",
        "\n",
        "okt = Okt()  \n",
        "tokens = okt.morphs(\"나는 자연어 처리를 배운다\")  \n",
        "print(tokens)"
      ],
      "metadata": {
        "colab": {
          "base_uri": "https://localhost:8080/"
        },
        "id": "OZa35XXVdYl8",
        "outputId": "22ad173e-d5bb-4ba8-fd95-e9878d909e65"
      },
      "execution_count": 53,
      "outputs": [
        {
          "output_type": "stream",
          "name": "stdout",
          "text": [
            "['나', '는', '자연어', '처리', '를', '배운다']\n"
          ]
        }
      ]
    },
    {
      "cell_type": "code",
      "source": [
        "# 원래는 빈도수 순으로 단어를 정렬하여 정수를 부여하는 경우가 많습니다. 여기선 ㄴ\n",
        "\n",
        "word_to_index = {word : index for index, word in enumerate(tokens)}\n",
        "print('단어 집합 :',word_to_index)"
      ],
      "metadata": {
        "colab": {
          "base_uri": "https://localhost:8080/"
        },
        "id": "X4uFMWK1fen5",
        "outputId": "3034cf4e-c086-4492-9932-0e09514f51a4"
      },
      "execution_count": 54,
      "outputs": [
        {
          "output_type": "stream",
          "name": "stdout",
          "text": [
            "단어 집합 : {'나': 0, '는': 1, '자연어': 2, '처리': 3, '를': 4, '배운다': 5}\n"
          ]
        }
      ]
    },
    {
      "cell_type": "code",
      "source": [
        "#원핫벡터 만들어내는 함수\n",
        "def one_hot_encoding(word, word_to_index):\n",
        "  one_hot_vector = [0]*(len(word_to_index))\n",
        "  index = word_to_index[word]\n",
        "  one_hot_vector[index] = 1\n",
        "  return one_hot_vector\n",
        "\n",
        "\n",
        "# '자연어'라는 단어의 원-핫 벡터를 얻어봅시다.\n",
        "one_hot_encoding(\"자연어\", word_to_index)"
      ],
      "metadata": {
        "colab": {
          "base_uri": "https://localhost:8080/"
        },
        "id": "o1vd-XRrfkDn",
        "outputId": "5880e689-b908-4a86-8aeb-1ed7b96e2711"
      },
      "execution_count": 55,
      "outputs": [
        {
          "output_type": "execute_result",
          "data": {
            "text/plain": [
              "[0, 0, 1, 0, 0, 0]"
            ]
          },
          "metadata": {},
          "execution_count": 55
        }
      ]
    },
    {
      "cell_type": "markdown",
      "source": [
        "### **2. 케라스(Keras)를 이용한 원-핫 인코딩(One-Hot Encoding)**\n",
        " 케라스는 원-핫 인코딩을 수행하는 유용한 도구 to_categorical()를 지원합니다. "
      ],
      "metadata": {
        "id": "rTYxZKgCfc4X"
      }
    },
    {
      "cell_type": "code",
      "source": [
        "from tensorflow.keras.preprocessing.text import Tokenizer\n",
        "from tensorflow.keras.utils import to_categorical\n",
        "\n",
        "text = \"나랑 점심 먹으러 갈래 점심 메뉴는 햄버거 갈래 갈래 햄버거 최고야\"\n",
        "\n",
        "tokenizer = Tokenizer()\n",
        "tokenizer.fit_on_texts([text])\n",
        "print('단어 집합 :',tokenizer.word_index)"
      ],
      "metadata": {
        "colab": {
          "base_uri": "https://localhost:8080/"
        },
        "id": "21MQWC7ufMJn",
        "outputId": "60736ff2-4c72-44f8-ca12-1ac0861df91a"
      },
      "execution_count": 56,
      "outputs": [
        {
          "output_type": "stream",
          "name": "stdout",
          "text": [
            "단어 집합 : {'갈래': 1, '점심': 2, '햄버거': 3, '나랑': 4, '먹으러': 5, '메뉴는': 6, '최고야': 7}\n"
          ]
        }
      ]
    },
    {
      "cell_type": "code",
      "source": [
        "# texts_to_sequences()를 통해서 이를 정수 시퀀스로 변환가능합니다. \n",
        "\n",
        "sub_text = \"점심 먹으러 갈래 메뉴는 햄버거 최고야\"\n",
        "encoded = tokenizer.texts_to_sequences([sub_text])[0]\n",
        "print(encoded)"
      ],
      "metadata": {
        "colab": {
          "base_uri": "https://localhost:8080/"
        },
        "id": "Ud5q1ysZfyli",
        "outputId": "449705df-617b-45e1-c17d-314ccc582d51"
      },
      "execution_count": 57,
      "outputs": [
        {
          "output_type": "stream",
          "name": "stdout",
          "text": [
            "[2, 5, 1, 6, 3, 7]\n"
          ]
        }
      ]
    },
    {
      "cell_type": "code",
      "source": [
        "# 케라스는 정수 인코딩 된 결과로부터 원-핫 인코딩을 수행하는 to_categorical()를 지원합니다.\n",
        "\n",
        "one_hot = to_categorical(encoded)\n",
        "print(one_hot)"
      ],
      "metadata": {
        "colab": {
          "base_uri": "https://localhost:8080/"
        },
        "id": "gkf4X9c_gZdl",
        "outputId": "7ddbc496-43eb-4843-a43f-7566b2683c29"
      },
      "execution_count": 58,
      "outputs": [
        {
          "output_type": "stream",
          "name": "stdout",
          "text": [
            "[[0. 0. 1. 0. 0. 0. 0. 0.]\n",
            " [0. 0. 0. 0. 0. 1. 0. 0.]\n",
            " [0. 1. 0. 0. 0. 0. 0. 0.]\n",
            " [0. 0. 0. 0. 0. 0. 1. 0.]\n",
            " [0. 0. 0. 1. 0. 0. 0. 0.]\n",
            " [0. 0. 0. 0. 0. 0. 0. 1.]]\n"
          ]
        }
      ]
    },
    {
      "cell_type": "markdown",
      "source": [
        "### **3. 원-핫 인코딩(One-Hot Encoding)의 한계**\n",
        "\n",
        "1. 이러한 표현 방식은 단어의 개수가 늘어날 수록, 벡터를 저장하기 위해 필요한 공간이 계속 늘어난다는 단점이 있습니다. 다른 표현으로는 벡터의 차원이 늘어난다고 표현합니다. 원 핫 벡터는 단어 집합의 크기가 곧 벡터의 차원 수가 됩니다. 가령, 단어가 1,000개인 코퍼스를 가지고 원 핫 벡터를 만들면, 모든 단어 각각은 모두 1,000개의 차원을 가진 벡터가 됩니다. 다시 말해 모든 단어 각각은 하나의 값만 1을 가지고, 999개의 값은 0의 값을 가지는 벡터가 되는데 이는 저장 공간 측면에서는 매우 비효율적인 표현 방법입니다.\n",
        "\n",
        "2. 원-핫 벡터는 단어의 유사도를 표현하지 못한다는 단점이 있습니다. 예를 들어서 늑대, 호랑이, 강아지, 고양이라는 4개의 단어에 대해서 원-핫 인코딩을 해서 각각, [1, 0, 0, 0], [0, 1, 0, 0], [0, 0, 1, 0], [0, 0, 0, 1]이라는 원-핫 벡터를 부여받았다고 합시다. 이때 원-핫 벡터로는 강아지와 늑대가 유사하고, 호랑이와 고양이가 유사하다는 것을 표현할 수가 없습니다. 좀 더 극단적으로는 강아지, 개, 냉장고라는 단어가 있을 때 강아지라는 단어가 개와 냉장고라는 단어 중 어떤 단어와 더 유사한지도 알 수 없습니다.\n",
        "\n",
        "- 단어 간 유사성을 알 수 없다는 단점은 검색 시스템 등에서는 문제가 될 소지가 있습니다. 가령, 여행을 가려고 웹 검색창에 '삿포로 숙소'라는 단어를 검색한다고 합시다. 제대로 된 검색 시스템이라면, '삿포로 숙소'라는 검색어에 대해서 '삿포로 게스트 하우스', '삿포로 료칸', '삿포로 호텔'과 같은 유사 단어에 대한 결과도 함께 보여줄 수 있어야 합니다. 하지만 단어간 유사성을 계산할 수 없다면, '게스트 하우스'와 '료칸'과 '호텔'이라는 연관 검색어를 보여줄 수 없습니다.\n",
        "\n",
        "-> 이러한 단점을 해결하기 위해 단어의 잠재 의미를 반영하여 다차원 공간에 벡터화 하는 기법으로 크게 두 가지가 있습니다. 첫째는 카운트 기반의 벡터화 방법인 LSA(잠재 의미 분석), HAL 등이 있으며, 둘째는 예측 기반으로 벡터화하는 NNLM, RNNLM, Word2Vec, FastText 등이 있습니다. 그리고 카운트 기반과 예측 기반 두 가지 방법을 모두 사용하는 방법으로 GloVe라는 방법이 존재합니다."
      ],
      "metadata": {
        "id": "s1UhO0OAguFg"
      }
    },
    {
      "cell_type": "markdown",
      "source": [
        "## **09) 데이터의 분리(Splitting Data)**\n",
        "\n",
        "머신 러닝 모델을 학습시키고 평가하기 위해서는 데이터를 적절하게 분리하는 작업이 필요합니다. 이 책에서는 대부분의 경우에서 지도 학습(Supervised Learning)을 다루는데, 이번에는 지도 학습을 위한 데이터 분리 작업에 대해서 배웁니다."
      ],
      "metadata": {
        "id": "-4_uGj-Qg5Lr"
      }
    },
    {
      "cell_type": "code",
      "source": [
        "import pandas as pd\n",
        "import numpy as np\n",
        "from sklearn.model_selection import train_test_split"
      ],
      "metadata": {
        "id": "UqwJfW6nghqX"
      },
      "execution_count": 59,
      "outputs": []
    },
    {
      "cell_type": "markdown",
      "source": [
        "### **1. 지도 학습(Supervised Learning)**\n",
        "\n",
        "지도 학습의 훈련 데이터는 문제지를 연상케 합니다. 지도 학습의 훈련 데이터는 정답이 무엇인지 맞춰 하는 '문제'에 해당되는 데이터와 레이블이라고 부르는 '정답'이 적혀있는 데이터로 구성되어 있습니다. 쉽게 비유하면, 기계는 정답이 적혀져 있는 문제지를 문제와 정답을 함께 보면서 열심히 공부하고, 향후에 정답이 없는 문제에 대해서도 정답을 잘 예측해야 합니다.\n",
        "\n",
        "기계를 훈련시키기 위해서 데이터를 총 4개로 나눕니다. 우선 메일의 내용이 담긴 첫번째 열을 X에 저장합니다. 그리고 메일이 스팸인지 정상인지 정답이 적혀있는 두번째 열을 y에 저장합니다.\n",
        "\n",
        "그리고 이제 이 X와 y에 대해서 일부 데이터를 또 다시 분리합니다. 이는 문제지를 다 공부하고나서 실력을 평가하기 위해서 시험(test)용으로 일부로 일부 문제와 해당 문제의 정답지를 분리해놓는 것입니다. 이때 분리 시에는 여전히 X와 y의 맵핑 관계를 유지해야 합니다. 어떤 X(문제)에 대한 어떤 y(정답)인지 바로 찾을 수 있어야 합니다.\n",
        "\n",
        "<훈련 데이터>\n",
        "\n",
        "X_train : 문제지 데이터\n",
        "\n",
        "y_train : 문제지에 대한 정답 데이터.\n",
        "\n",
        "<테스트 데이터>\n",
        "\n",
        "X_test : 시험지 데이터.\n",
        "y_test : 시험지에 대한 정답\n",
        " 데이터.\n",
        "\n",
        "기계는 이제부터 X_train과 y_train에 대해서 학습을 합니다. 문제지 X_train과 y_train을 함께 보면서 어떤 메일 내용일 때 정상 메일인지 스팸 메일인지를 열심히 규칙을 도출해나가면서 정리해나갑니다. 그리고 학습을 다 한 기계에게 y_test는 보여주지 않고, X_test에 대해서 정답을 예측하게 합니다. 그리고 기계가 예측한 답과 실제 정답인 y_test를 비교하면서 기계가 정답을 얼마나 맞췄는지를 평가합니다. 이 수치가 기계의 정확도(Accuracy)가 됩니다."
      ],
      "metadata": {
        "id": "XcnzSdAig9Bu"
      }
    },
    {
      "cell_type": "markdown",
      "source": [
        "### **2. X와 y분리하기**\n",
        "\n",
        "1) zip 함수를 이용하여 분리하기\n",
        "\n",
        "zip()함수는 동일한 개수를 가지는 시퀀스 자료형에서 각 순서에 등장하는 원소들끼리 묶어주는 역할을 합니다. 리스트의 리스트 구성에서 zip 함수는 X와 y를 분리하는데 유용합니다. 우선 zip 함수가 어떤 역할을 하는지 확인해보도록 하겠습니다."
      ],
      "metadata": {
        "id": "LpyN-X-4hwfM"
      }
    },
    {
      "cell_type": "code",
      "source": [
        "X, y = zip(['a', 1], ['b', 2], ['c', 3])\n",
        "print('X 데이터 :',X)\n",
        "print('y 데이터 :',y)"
      ],
      "metadata": {
        "colab": {
          "base_uri": "https://localhost:8080/"
        },
        "id": "-iyYwpAsg7Kv",
        "outputId": "15923ff3-2aa7-45c9-fa85-d14170c21dde"
      },
      "execution_count": 63,
      "outputs": [
        {
          "output_type": "stream",
          "name": "stdout",
          "text": [
            "X 데이터 : ('a', 'b', 'c')\n",
            "y 데이터 : (1, 2, 3)\n"
          ]
        }
      ]
    },
    {
      "cell_type": "code",
      "source": [
        "# 리스트의 리스트 또는 행렬 또는 뒤에서 배울 개념인 2D 텐서.\n",
        "sequences = [['a', 1], ['b', 2], ['c', 3]]\n",
        "X, y = zip(*sequences)\n",
        "print('X 데이터 :',X)\n",
        "print('y 데이터 :',y)"
      ],
      "metadata": {
        "colab": {
          "base_uri": "https://localhost:8080/"
        },
        "id": "gaKqpeKbh6oA",
        "outputId": "3bda7ddf-bf91-48ae-dc5a-816781340465"
      },
      "execution_count": 65,
      "outputs": [
        {
          "output_type": "stream",
          "name": "stdout",
          "text": [
            "X 데이터 : ('a', 'b', 'c')\n",
            "y 데이터 : (1, 2, 3)\n"
          ]
        }
      ]
    },
    {
      "cell_type": "markdown",
      "source": [
        "**2) 데이터프레임을 이용하여 분리하기**"
      ],
      "metadata": {
        "id": "qKo1vwltjtt1"
      }
    },
    {
      "cell_type": "code",
      "source": [
        "values = [['당신에게 드리는 마지막 혜택!', 1],\n",
        "['내일 뵐 수 있을지 확인 부탁드...', 0],\n",
        "['도연씨. 잘 지내시죠? 오랜만입...', 0],\n",
        "['(광고) AI로 주가를 예측할 수 있다!', 1]]\n",
        "columns = ['메일 본문', '스팸 메일 유무']\n",
        "\n",
        "df = pd.DataFrame(values, columns=columns)\n",
        "df"
      ],
      "metadata": {
        "colab": {
          "base_uri": "https://localhost:8080/",
          "height": 173
        },
        "id": "KZCNUn2PhzYN",
        "outputId": "cd3c8c81-3feb-49e2-ec00-de7399704e4f"
      },
      "execution_count": 66,
      "outputs": [
        {
          "output_type": "execute_result",
          "data": {
            "text/html": [
              "\n",
              "  <div id=\"df-db3f7cf3-53b1-440d-8dce-0db6614c7e1e\">\n",
              "    <div class=\"colab-df-container\">\n",
              "      <div>\n",
              "<style scoped>\n",
              "    .dataframe tbody tr th:only-of-type {\n",
              "        vertical-align: middle;\n",
              "    }\n",
              "\n",
              "    .dataframe tbody tr th {\n",
              "        vertical-align: top;\n",
              "    }\n",
              "\n",
              "    .dataframe thead th {\n",
              "        text-align: right;\n",
              "    }\n",
              "</style>\n",
              "<table border=\"1\" class=\"dataframe\">\n",
              "  <thead>\n",
              "    <tr style=\"text-align: right;\">\n",
              "      <th></th>\n",
              "      <th>메일 본문</th>\n",
              "      <th>스팸 메일 유무</th>\n",
              "    </tr>\n",
              "  </thead>\n",
              "  <tbody>\n",
              "    <tr>\n",
              "      <th>0</th>\n",
              "      <td>당신에게 드리는 마지막 혜택!</td>\n",
              "      <td>1</td>\n",
              "    </tr>\n",
              "    <tr>\n",
              "      <th>1</th>\n",
              "      <td>내일 뵐 수 있을지 확인 부탁드...</td>\n",
              "      <td>0</td>\n",
              "    </tr>\n",
              "    <tr>\n",
              "      <th>2</th>\n",
              "      <td>도연씨. 잘 지내시죠? 오랜만입...</td>\n",
              "      <td>0</td>\n",
              "    </tr>\n",
              "    <tr>\n",
              "      <th>3</th>\n",
              "      <td>(광고) AI로 주가를 예측할 수 있다!</td>\n",
              "      <td>1</td>\n",
              "    </tr>\n",
              "  </tbody>\n",
              "</table>\n",
              "</div>\n",
              "      <button class=\"colab-df-convert\" onclick=\"convertToInteractive('df-db3f7cf3-53b1-440d-8dce-0db6614c7e1e')\"\n",
              "              title=\"Convert this dataframe to an interactive table.\"\n",
              "              style=\"display:none;\">\n",
              "        \n",
              "  <svg xmlns=\"http://www.w3.org/2000/svg\" height=\"24px\"viewBox=\"0 0 24 24\"\n",
              "       width=\"24px\">\n",
              "    <path d=\"M0 0h24v24H0V0z\" fill=\"none\"/>\n",
              "    <path d=\"M18.56 5.44l.94 2.06.94-2.06 2.06-.94-2.06-.94-.94-2.06-.94 2.06-2.06.94zm-11 1L8.5 8.5l.94-2.06 2.06-.94-2.06-.94L8.5 2.5l-.94 2.06-2.06.94zm10 10l.94 2.06.94-2.06 2.06-.94-2.06-.94-.94-2.06-.94 2.06-2.06.94z\"/><path d=\"M17.41 7.96l-1.37-1.37c-.4-.4-.92-.59-1.43-.59-.52 0-1.04.2-1.43.59L10.3 9.45l-7.72 7.72c-.78.78-.78 2.05 0 2.83L4 21.41c.39.39.9.59 1.41.59.51 0 1.02-.2 1.41-.59l7.78-7.78 2.81-2.81c.8-.78.8-2.07 0-2.86zM5.41 20L4 18.59l7.72-7.72 1.47 1.35L5.41 20z\"/>\n",
              "  </svg>\n",
              "      </button>\n",
              "      \n",
              "  <style>\n",
              "    .colab-df-container {\n",
              "      display:flex;\n",
              "      flex-wrap:wrap;\n",
              "      gap: 12px;\n",
              "    }\n",
              "\n",
              "    .colab-df-convert {\n",
              "      background-color: #E8F0FE;\n",
              "      border: none;\n",
              "      border-radius: 50%;\n",
              "      cursor: pointer;\n",
              "      display: none;\n",
              "      fill: #1967D2;\n",
              "      height: 32px;\n",
              "      padding: 0 0 0 0;\n",
              "      width: 32px;\n",
              "    }\n",
              "\n",
              "    .colab-df-convert:hover {\n",
              "      background-color: #E2EBFA;\n",
              "      box-shadow: 0px 1px 2px rgba(60, 64, 67, 0.3), 0px 1px 3px 1px rgba(60, 64, 67, 0.15);\n",
              "      fill: #174EA6;\n",
              "    }\n",
              "\n",
              "    [theme=dark] .colab-df-convert {\n",
              "      background-color: #3B4455;\n",
              "      fill: #D2E3FC;\n",
              "    }\n",
              "\n",
              "    [theme=dark] .colab-df-convert:hover {\n",
              "      background-color: #434B5C;\n",
              "      box-shadow: 0px 1px 3px 1px rgba(0, 0, 0, 0.15);\n",
              "      filter: drop-shadow(0px 1px 2px rgba(0, 0, 0, 0.3));\n",
              "      fill: #FFFFFF;\n",
              "    }\n",
              "  </style>\n",
              "\n",
              "      <script>\n",
              "        const buttonEl =\n",
              "          document.querySelector('#df-db3f7cf3-53b1-440d-8dce-0db6614c7e1e button.colab-df-convert');\n",
              "        buttonEl.style.display =\n",
              "          google.colab.kernel.accessAllowed ? 'block' : 'none';\n",
              "\n",
              "        async function convertToInteractive(key) {\n",
              "          const element = document.querySelector('#df-db3f7cf3-53b1-440d-8dce-0db6614c7e1e');\n",
              "          const dataTable =\n",
              "            await google.colab.kernel.invokeFunction('convertToInteractive',\n",
              "                                                     [key], {});\n",
              "          if (!dataTable) return;\n",
              "\n",
              "          const docLinkHtml = 'Like what you see? Visit the ' +\n",
              "            '<a target=\"_blank\" href=https://colab.research.google.com/notebooks/data_table.ipynb>data table notebook</a>'\n",
              "            + ' to learn more about interactive tables.';\n",
              "          element.innerHTML = '';\n",
              "          dataTable['output_type'] = 'display_data';\n",
              "          await google.colab.output.renderOutput(dataTable, element);\n",
              "          const docLink = document.createElement('div');\n",
              "          docLink.innerHTML = docLinkHtml;\n",
              "          element.appendChild(docLink);\n",
              "        }\n",
              "      </script>\n",
              "    </div>\n",
              "  </div>\n",
              "  "
            ],
            "text/plain": [
              "                    메일 본문  스팸 메일 유무\n",
              "0        당신에게 드리는 마지막 혜택!         1\n",
              "1    내일 뵐 수 있을지 확인 부탁드...         0\n",
              "2    도연씨. 잘 지내시죠? 오랜만입...         0\n",
              "3  (광고) AI로 주가를 예측할 수 있다!         1"
            ]
          },
          "metadata": {},
          "execution_count": 66
        }
      ]
    },
    {
      "cell_type": "code",
      "source": [
        "X = df['메일 본문']\n",
        "y = df['스팸 메일 유무']\n",
        "\n",
        "print('X 데이터 :',X.to_list())\n",
        "print('y 데이터 :',y.to_list())"
      ],
      "metadata": {
        "colab": {
          "base_uri": "https://localhost:8080/"
        },
        "id": "WD_mFhfKjtMy",
        "outputId": "28030dea-a914-4a1c-8eaa-3d7e2ce8299e"
      },
      "execution_count": 67,
      "outputs": [
        {
          "output_type": "stream",
          "name": "stdout",
          "text": [
            "X 데이터 : ['당신에게 드리는 마지막 혜택!', '내일 뵐 수 있을지 확인 부탁드...', '도연씨. 잘 지내시죠? 오랜만입...', '(광고) AI로 주가를 예측할 수 있다!']\n",
            "y 데이터 : [1, 0, 0, 1]\n"
          ]
        }
      ]
    },
    {
      "cell_type": "markdown",
      "source": [
        "**3) Numpy를 이용하여 분리하기**"
      ],
      "metadata": {
        "id": "Bqz9qgq4kDym"
      }
    },
    {
      "cell_type": "code",
      "source": [
        "np_array = np.arange(0,16).reshape((4,4))\n",
        "print('전체 데이터 :')\n",
        "print(np_array)"
      ],
      "metadata": {
        "colab": {
          "base_uri": "https://localhost:8080/"
        },
        "id": "iw4d9yDWjyoo",
        "outputId": "e7e742bd-4403-420c-badf-89d006062c5a"
      },
      "execution_count": 68,
      "outputs": [
        {
          "output_type": "stream",
          "name": "stdout",
          "text": [
            "전체 데이터 :\n",
            "[[ 0  1  2  3]\n",
            " [ 4  5  6  7]\n",
            " [ 8  9 10 11]\n",
            " [12 13 14 15]]\n"
          ]
        }
      ]
    },
    {
      "cell_type": "code",
      "source": [
        "X = np_array[:, :3]\n",
        "y = np_array[:,3]\n",
        "\n",
        "print('X 데이터 :')\n",
        "print(X)\n",
        "print('y 데이터 :',y)"
      ],
      "metadata": {
        "colab": {
          "base_uri": "https://localhost:8080/"
        },
        "id": "v0xAxurUkDaI",
        "outputId": "1495779d-c22e-450d-98ae-851e0b9e421f"
      },
      "execution_count": 69,
      "outputs": [
        {
          "output_type": "stream",
          "name": "stdout",
          "text": [
            "X 데이터 :\n",
            "[[ 0  1  2]\n",
            " [ 4  5  6]\n",
            " [ 8  9 10]\n",
            " [12 13 14]]\n",
            "y 데이터 : [ 3  7 11 15]\n"
          ]
        }
      ]
    },
    {
      "cell_type": "markdown",
      "source": [
        "### **3. 테스트 데이터 분리하기**\n",
        "\n",
        "**1) 사이킷 런을 이용하여 분리하기**\n",
        "\n",
        "사이킷런은 학습용 테스트와 테스트용 데이터를 쉽게 분리할 수 있게 해주는 train_test_split()를 지원합니다."
      ],
      "metadata": {
        "id": "SWaCLlOmkRfH"
      }
    },
    {
      "cell_type": "code",
      "source": [
        "X_train, X_test, y_train, y_test = train_test_split(X, y, test_size= 0.2, random_state=1234)"
      ],
      "metadata": {
        "id": "1xfLouAhkFZd"
      },
      "execution_count": 70,
      "outputs": []
    },
    {
      "cell_type": "markdown",
      "source": [
        " train_size와 test_size는 둘 중 하나만 기재해도 됩니다.\n",
        "\n",
        "- X : 독립 변수 데이터. (배열이나 데이터프레임)\n",
        "- y : 종속 변수 데이터. 레이블 데이터.\n",
        "- test_size : 테스트용 데이터 개수를 지정한다. 1보다 작은 실수를 기재할 경우, 비율을 나타낸다.\n",
        "- train_size : 학습용 데이터의 개수를 지정한다. 1보다 작은 실수를 기재할 경우, 비율을 나타낸다.\n",
        "- random_state : 난수 시드\n",
        "  - random_state 값을 특정 숫자로 기재해준 뒤에 다음에도 동일한 숫자로 기재해주면 항상 동일한 훈련 데이터와 테스트 데이터를 얻을 수 있습니다\n",
        "\n",
        "예를 들어보겠습니다. 임의로 X 데이터와 y 데이터를 생성했습니다."
      ],
      "metadata": {
        "id": "7uKwOWY7kaXf"
      }
    },
    {
      "cell_type": "code",
      "source": [
        "# 임의로 X와 y 데이터를 생성\n",
        "X, y = np.arange(10).reshape((5, 2)), range(5)\n",
        "\n",
        "print('X 전체 데이터 :')\n",
        "print(X)\n",
        "print('y 전체 데이터 :')\n",
        "print(list(y))"
      ],
      "metadata": {
        "colab": {
          "base_uri": "https://localhost:8080/"
        },
        "id": "mKuaK8MMkYzK",
        "outputId": "a36da095-0259-4b8e-a516-1dcec4585e0e"
      },
      "execution_count": 71,
      "outputs": [
        {
          "output_type": "stream",
          "name": "stdout",
          "text": [
            "X 전체 데이터 :\n",
            "[[0 1]\n",
            " [2 3]\n",
            " [4 5]\n",
            " [6 7]\n",
            " [8 9]]\n",
            "y 전체 데이터 :\n",
            "[0, 1, 2, 3, 4]\n"
          ]
        }
      ]
    },
    {
      "cell_type": "code",
      "source": [
        "# 7:3의 비율로 훈련 데이터와 테스트 데이터 분리\n",
        "X_train, X_test, y_train, y_test = train_test_split(X, y, test_size=0.3, random_state=1234)\n",
        "\n",
        "print('X 훈련 데이터 :')\n",
        "print(X_train)\n",
        "print('X 테스트 데이터 :')\n",
        "print(X_test)"
      ],
      "metadata": {
        "colab": {
          "base_uri": "https://localhost:8080/"
        },
        "id": "raEBvyENkv8X",
        "outputId": "850bbf28-d627-4bfb-a896-36df8191e9fe"
      },
      "execution_count": 72,
      "outputs": [
        {
          "output_type": "stream",
          "name": "stdout",
          "text": [
            "X 훈련 데이터 :\n",
            "[[2 3]\n",
            " [4 5]\n",
            " [6 7]]\n",
            "X 테스트 데이터 :\n",
            "[[8 9]\n",
            " [0 1]]\n"
          ]
        }
      ]
    },
    {
      "cell_type": "code",
      "source": [
        "# random_state의 값을 변경\n",
        "X_train, X_test, y_train, y_test = train_test_split(X, y, test_size=0.3, random_state=1)\n",
        "\n",
        "print('y 훈련 데이터 :')\n",
        "print(y_train)\n",
        "print('y 테스트 데이터 :')\n",
        "print(y_test)\n",
        "#이러면 다 달라짐~"
      ],
      "metadata": {
        "colab": {
          "base_uri": "https://localhost:8080/"
        },
        "id": "0QT2Q3R5lC6K",
        "outputId": "d5f930a7-a4e1-43c4-ffce-32ab17d994c8"
      },
      "execution_count": 73,
      "outputs": [
        {
          "output_type": "stream",
          "name": "stdout",
          "text": [
            "y 훈련 데이터 :\n",
            "[4, 0, 3]\n",
            "y 테스트 데이터 :\n",
            "[2, 1]\n"
          ]
        }
      ]
    },
    {
      "cell_type": "code",
      "source": [
        "# 다시 random_state의 값을 1234로 주면 아까랑 같아짐\n",
        "\n",
        "X_train, X_test, y_train, y_test = train_test_split(X, y, test_size=0.3, random_state=1234)\n",
        "\n",
        "print('y 훈련 데이터 :')\n",
        "print(y_train)\n",
        "print('y 테스트 데이터 :')\n",
        "print(y_test)"
      ],
      "metadata": {
        "colab": {
          "base_uri": "https://localhost:8080/"
        },
        "id": "P_OX7UZClKrC",
        "outputId": "51156fca-e661-4cda-cbe2-e782dd39209d"
      },
      "execution_count": 75,
      "outputs": [
        {
          "output_type": "stream",
          "name": "stdout",
          "text": [
            "y 훈련 데이터 :\n",
            "[1, 2, 3]\n",
            "y 테스트 데이터 :\n",
            "[4, 0]\n"
          ]
        }
      ]
    },
    {
      "cell_type": "markdown",
      "source": [
        "**2) 수동으로 분리하기**"
      ],
      "metadata": {
        "id": "Wl_E2V6Yl33g"
      }
    },
    {
      "cell_type": "code",
      "source": [
        "\n",
        "#임의로 X와 y가 이미 분리 된 데이터를 생성\n",
        "X, y = np.arange(0,24).reshape((12,2)), range(12)\n",
        "\n",
        "print('X 전체 데이터 :')\n",
        "print(X)\n",
        "print('y 전체 데이터 :')\n",
        "print(list(y))"
      ],
      "metadata": {
        "colab": {
          "base_uri": "https://localhost:8080/"
        },
        "id": "Uha2uGlalaDZ",
        "outputId": "375257b8-4ebb-4be3-b9b8-5b74b734f54e"
      },
      "execution_count": 77,
      "outputs": [
        {
          "output_type": "stream",
          "name": "stdout",
          "text": [
            "X 전체 데이터 :\n",
            "[[ 0  1]\n",
            " [ 2  3]\n",
            " [ 4  5]\n",
            " [ 6  7]\n",
            " [ 8  9]\n",
            " [10 11]\n",
            " [12 13]\n",
            " [14 15]\n",
            " [16 17]\n",
            " [18 19]\n",
            " [20 21]\n",
            " [22 23]]\n",
            "y 전체 데이터 :\n",
            "[0, 1, 2, 3, 4, 5, 6, 7, 8, 9, 10, 11]\n"
          ]
        }
      ]
    },
    {
      "cell_type": "code",
      "source": [
        "# num_of_train은 훈련 데이터의 개수를 의미하며, \n",
        "# num_of_test는 테스트 데이터의 개수를 의미합니다.\n",
        "\n",
        "num_of_train = int(len(X) * 0.8) # 데이터의 전체 길이의 80%에 해당하는 길이값을 구한다.\n",
        "num_of_test = int(len(X) - num_of_train) # 전체 길이에서 80%에 해당하는 길이를 뺀다.\n",
        "print('훈련 데이터의 크기 :',num_of_train)\n",
        "print('테스트 데이터의 크기 :',num_of_test)"
      ],
      "metadata": {
        "colab": {
          "base_uri": "https://localhost:8080/"
        },
        "id": "fP5znGb_l1rH",
        "outputId": "41530a1c-05f5-4534-c7ce-1cd00e6e5854"
      },
      "execution_count": 78,
      "outputs": [
        {
          "output_type": "stream",
          "name": "stdout",
          "text": [
            "훈련 데이터의 크기 : 9\n",
            "테스트 데이터의 크기 : 3\n"
          ]
        }
      ]
    },
    {
      "cell_type": "code",
      "source": [
        "X_test = X[num_of_train:] # 전체 데이터 중에서 20%만큼 뒤의 데이터 저장\n",
        "y_test = y[num_of_train:] # 전체 데이터 중에서 20%만큼 뒤의 데이터 저장\n",
        "X_train = X[:num_of_train] # 전체 데이터 중에서 80%만큼 앞의 데이터 저장\n",
        "y_train = y[:num_of_train] # 전체 데이터 중에서 80%만큼 앞의 데이터 저장\n",
        "print('X 테스트 데이터 :')\n",
        "print(X_test)\n",
        "print('y 테스트 데이터 :')\n",
        "print(list(y_test))\n",
        "#근데 이건 랜덤으로 안 섞였다~;;;"
      ],
      "metadata": {
        "colab": {
          "base_uri": "https://localhost:8080/"
        },
        "id": "fj2PxgQJmHuM",
        "outputId": "21f41e2e-61ed-4204-eaec-69268c955ea1"
      },
      "execution_count": 80,
      "outputs": [
        {
          "output_type": "stream",
          "name": "stdout",
          "text": [
            "X 테스트 데이터 :\n",
            "[[18 19]\n",
            " [20 21]\n",
            " [22 23]]\n",
            "y 테스트 데이터 :\n",
            "[9, 10, 11]\n"
          ]
        }
      ]
    },
    {
      "cell_type": "markdown",
      "source": [
        "## **10) 한국어 전처리 패키지(Text Preprocessing Tools for Korean Text)**\n",
        "\n"
      ],
      "metadata": {
        "id": "7_HuJIfdmYbb"
      }
    },
    {
      "cell_type": "markdown",
      "source": [
        "## **1. PyKoSpacing**\n",
        "\n",
        "- 띄어쓰기가 되어있지 않은 문장을 띄어쓰기를 한 문장으로 변환해주는 패키지입니다."
      ],
      "metadata": {
        "id": "6lUh5ODkmaxQ"
      }
    },
    {
      "cell_type": "code",
      "source": [
        "pip install git+https://github.com/haven-jeon/PyKoSpacing.git"
      ],
      "metadata": {
        "colab": {
          "base_uri": "https://localhost:8080/",
          "height": 1000
        },
        "id": "GbFP1bMZmQVN",
        "outputId": "82337f23-71ff-4547-ef42-e3457b11e646"
      },
      "execution_count": 81,
      "outputs": [
        {
          "output_type": "stream",
          "name": "stdout",
          "text": [
            "Collecting git+https://github.com/haven-jeon/PyKoSpacing.git\n",
            "  Cloning https://github.com/haven-jeon/PyKoSpacing.git to /tmp/pip-req-build-clmfw_os\n",
            "  Running command git clone -q https://github.com/haven-jeon/PyKoSpacing.git /tmp/pip-req-build-clmfw_os\n",
            "Collecting tensorflow==2.5.3\n",
            "  Downloading tensorflow-2.5.3-cp37-cp37m-manylinux2010_x86_64.whl (460.3 MB)\n",
            "\u001b[K     |████████████████████████████████| 460.3 MB 8.1 kB/s \n",
            "\u001b[?25hRequirement already satisfied: h5py==3.1.0 in /usr/local/lib/python3.7/dist-packages (from pykospacing==0.5) (3.1.0)\n",
            "Collecting argparse>=1.4.0\n",
            "  Downloading argparse-1.4.0-py2.py3-none-any.whl (23 kB)\n",
            "Requirement already satisfied: numpy>=1.14.5 in /usr/local/lib/python3.7/dist-packages (from h5py==3.1.0->pykospacing==0.5) (1.21.5)\n",
            "Requirement already satisfied: cached-property in /usr/local/lib/python3.7/dist-packages (from h5py==3.1.0->pykospacing==0.5) (1.5.2)\n",
            "Requirement already satisfied: six~=1.15.0 in /usr/local/lib/python3.7/dist-packages (from tensorflow==2.5.3->pykospacing==0.5) (1.15.0)\n",
            "Requirement already satisfied: termcolor~=1.1.0 in /usr/local/lib/python3.7/dist-packages (from tensorflow==2.5.3->pykospacing==0.5) (1.1.0)\n",
            "Collecting grpcio~=1.34.0\n",
            "  Downloading grpcio-1.34.1-cp37-cp37m-manylinux2014_x86_64.whl (4.0 MB)\n",
            "\u001b[K     |████████████████████████████████| 4.0 MB 41.5 MB/s \n",
            "\u001b[?25hRequirement already satisfied: tensorboard~=2.5 in /usr/local/lib/python3.7/dist-packages (from tensorflow==2.5.3->pykospacing==0.5) (2.8.0)\n",
            "Requirement already satisfied: opt-einsum~=3.3.0 in /usr/local/lib/python3.7/dist-packages (from tensorflow==2.5.3->pykospacing==0.5) (3.3.0)\n",
            "Collecting absl-py~=0.10\n",
            "  Downloading absl_py-0.15.0-py3-none-any.whl (132 kB)\n",
            "\u001b[K     |████████████████████████████████| 132 kB 41.3 MB/s \n",
            "\u001b[?25hRequirement already satisfied: astunparse~=1.6.3 in /usr/local/lib/python3.7/dist-packages (from tensorflow==2.5.3->pykospacing==0.5) (1.6.3)\n",
            "Requirement already satisfied: keras-preprocessing~=1.1.2 in /usr/local/lib/python3.7/dist-packages (from tensorflow==2.5.3->pykospacing==0.5) (1.1.2)\n",
            "Collecting flatbuffers~=1.12.0\n",
            "  Downloading flatbuffers-1.12-py2.py3-none-any.whl (15 kB)\n",
            "Requirement already satisfied: wheel~=0.35 in /usr/local/lib/python3.7/dist-packages (from tensorflow==2.5.3->pykospacing==0.5) (0.37.1)\n",
            "Collecting keras-nightly~=2.5.0.dev\n",
            "  Downloading keras_nightly-2.5.0.dev2021032900-py2.py3-none-any.whl (1.2 MB)\n",
            "\u001b[K     |████████████████████████████████| 1.2 MB 35.4 MB/s \n",
            "\u001b[?25hRequirement already satisfied: protobuf>=3.9.2 in /usr/local/lib/python3.7/dist-packages (from tensorflow==2.5.3->pykospacing==0.5) (3.17.3)\n",
            "Collecting typing-extensions~=3.7.4\n",
            "  Downloading typing_extensions-3.7.4.3-py3-none-any.whl (22 kB)\n",
            "Collecting numpy>=1.14.5\n",
            "  Downloading numpy-1.19.5-cp37-cp37m-manylinux2010_x86_64.whl (14.8 MB)\n",
            "\u001b[K     |████████████████████████████████| 14.8 MB 25.9 MB/s \n",
            "\u001b[?25hCollecting tensorflow-estimator<2.6.0,>=2.5.0\n",
            "  Downloading tensorflow_estimator-2.5.0-py2.py3-none-any.whl (462 kB)\n",
            "\u001b[K     |████████████████████████████████| 462 kB 35.0 MB/s \n",
            "\u001b[?25hCollecting gast==0.4.0\n",
            "  Downloading gast-0.4.0-py3-none-any.whl (9.8 kB)\n",
            "Requirement already satisfied: google-pasta~=0.2 in /usr/local/lib/python3.7/dist-packages (from tensorflow==2.5.3->pykospacing==0.5) (0.2.0)\n",
            "Collecting wrapt~=1.12.1\n",
            "  Downloading wrapt-1.12.1.tar.gz (27 kB)\n",
            "Requirement already satisfied: tensorboard-data-server<0.7.0,>=0.6.0 in /usr/local/lib/python3.7/dist-packages (from tensorboard~=2.5->tensorflow==2.5.3->pykospacing==0.5) (0.6.1)\n",
            "Requirement already satisfied: setuptools>=41.0.0 in /usr/local/lib/python3.7/dist-packages (from tensorboard~=2.5->tensorflow==2.5.3->pykospacing==0.5) (57.4.0)\n",
            "Requirement already satisfied: google-auth-oauthlib<0.5,>=0.4.1 in /usr/local/lib/python3.7/dist-packages (from tensorboard~=2.5->tensorflow==2.5.3->pykospacing==0.5) (0.4.6)\n",
            "Requirement already satisfied: tensorboard-plugin-wit>=1.6.0 in /usr/local/lib/python3.7/dist-packages (from tensorboard~=2.5->tensorflow==2.5.3->pykospacing==0.5) (1.8.1)\n",
            "Requirement already satisfied: google-auth<3,>=1.6.3 in /usr/local/lib/python3.7/dist-packages (from tensorboard~=2.5->tensorflow==2.5.3->pykospacing==0.5) (1.35.0)\n",
            "Requirement already satisfied: requests<3,>=2.21.0 in /usr/local/lib/python3.7/dist-packages (from tensorboard~=2.5->tensorflow==2.5.3->pykospacing==0.5) (2.23.0)\n",
            "Requirement already satisfied: werkzeug>=0.11.15 in /usr/local/lib/python3.7/dist-packages (from tensorboard~=2.5->tensorflow==2.5.3->pykospacing==0.5) (1.0.1)\n",
            "Requirement already satisfied: markdown>=2.6.8 in /usr/local/lib/python3.7/dist-packages (from tensorboard~=2.5->tensorflow==2.5.3->pykospacing==0.5) (3.3.6)\n",
            "Requirement already satisfied: cachetools<5.0,>=2.0.0 in /usr/local/lib/python3.7/dist-packages (from google-auth<3,>=1.6.3->tensorboard~=2.5->tensorflow==2.5.3->pykospacing==0.5) (4.2.4)\n",
            "Requirement already satisfied: pyasn1-modules>=0.2.1 in /usr/local/lib/python3.7/dist-packages (from google-auth<3,>=1.6.3->tensorboard~=2.5->tensorflow==2.5.3->pykospacing==0.5) (0.2.8)\n",
            "Requirement already satisfied: rsa<5,>=3.1.4 in /usr/local/lib/python3.7/dist-packages (from google-auth<3,>=1.6.3->tensorboard~=2.5->tensorflow==2.5.3->pykospacing==0.5) (4.8)\n",
            "Requirement already satisfied: requests-oauthlib>=0.7.0 in /usr/local/lib/python3.7/dist-packages (from google-auth-oauthlib<0.5,>=0.4.1->tensorboard~=2.5->tensorflow==2.5.3->pykospacing==0.5) (1.3.1)\n",
            "Requirement already satisfied: importlib-metadata>=4.4 in /usr/local/lib/python3.7/dist-packages (from markdown>=2.6.8->tensorboard~=2.5->tensorflow==2.5.3->pykospacing==0.5) (4.11.0)\n",
            "Requirement already satisfied: zipp>=0.5 in /usr/local/lib/python3.7/dist-packages (from importlib-metadata>=4.4->markdown>=2.6.8->tensorboard~=2.5->tensorflow==2.5.3->pykospacing==0.5) (3.7.0)\n",
            "Requirement already satisfied: pyasn1<0.5.0,>=0.4.6 in /usr/local/lib/python3.7/dist-packages (from pyasn1-modules>=0.2.1->google-auth<3,>=1.6.3->tensorboard~=2.5->tensorflow==2.5.3->pykospacing==0.5) (0.4.8)\n",
            "Requirement already satisfied: idna<3,>=2.5 in /usr/local/lib/python3.7/dist-packages (from requests<3,>=2.21.0->tensorboard~=2.5->tensorflow==2.5.3->pykospacing==0.5) (2.10)\n",
            "Requirement already satisfied: chardet<4,>=3.0.2 in /usr/local/lib/python3.7/dist-packages (from requests<3,>=2.21.0->tensorboard~=2.5->tensorflow==2.5.3->pykospacing==0.5) (3.0.4)\n",
            "Requirement already satisfied: urllib3!=1.25.0,!=1.25.1,<1.26,>=1.21.1 in /usr/local/lib/python3.7/dist-packages (from requests<3,>=2.21.0->tensorboard~=2.5->tensorflow==2.5.3->pykospacing==0.5) (1.24.3)\n",
            "Requirement already satisfied: certifi>=2017.4.17 in /usr/local/lib/python3.7/dist-packages (from requests<3,>=2.21.0->tensorboard~=2.5->tensorflow==2.5.3->pykospacing==0.5) (2021.10.8)\n",
            "Requirement already satisfied: oauthlib>=3.0.0 in /usr/local/lib/python3.7/dist-packages (from requests-oauthlib>=0.7.0->google-auth-oauthlib<0.5,>=0.4.1->tensorboard~=2.5->tensorflow==2.5.3->pykospacing==0.5) (3.2.0)\n",
            "Building wheels for collected packages: pykospacing, wrapt\n",
            "  Building wheel for pykospacing (setup.py) ... \u001b[?25l\u001b[?25hdone\n",
            "  Created wheel for pykospacing: filename=pykospacing-0.5-py3-none-any.whl size=2268580 sha256=5ce4dc1894541f765a9b5882d8de828d21a4ff798c2e0e3bd82c417c7bdf6174\n",
            "  Stored in directory: /tmp/pip-ephem-wheel-cache-48vh0n6j/wheels/9b/93/81/a2a7dc8c66ede5bf30634d20635f32b95eac7ca2ea8844058b\n",
            "  Building wheel for wrapt (setup.py) ... \u001b[?25l\u001b[?25hdone\n",
            "  Created wheel for wrapt: filename=wrapt-1.12.1-cp37-cp37m-linux_x86_64.whl size=68720 sha256=e3a67f92121e74f54e667f461082c5cb4096567540def1247dbc5ebade69e6c8\n",
            "  Stored in directory: /root/.cache/pip/wheels/62/76/4c/aa25851149f3f6d9785f6c869387ad82b3fd37582fa8147ac6\n",
            "Successfully built pykospacing wrapt\n",
            "Installing collected packages: typing-extensions, numpy, grpcio, absl-py, wrapt, tensorflow-estimator, keras-nightly, gast, flatbuffers, tensorflow, argparse, pykospacing\n",
            "  Attempting uninstall: typing-extensions\n",
            "    Found existing installation: typing-extensions 3.10.0.2\n",
            "    Uninstalling typing-extensions-3.10.0.2:\n",
            "      Successfully uninstalled typing-extensions-3.10.0.2\n",
            "  Attempting uninstall: numpy\n",
            "    Found existing installation: numpy 1.21.5\n",
            "    Uninstalling numpy-1.21.5:\n",
            "      Successfully uninstalled numpy-1.21.5\n",
            "  Attempting uninstall: grpcio\n",
            "    Found existing installation: grpcio 1.43.0\n",
            "    Uninstalling grpcio-1.43.0:\n",
            "      Successfully uninstalled grpcio-1.43.0\n",
            "  Attempting uninstall: absl-py\n",
            "    Found existing installation: absl-py 1.0.0\n",
            "    Uninstalling absl-py-1.0.0:\n",
            "      Successfully uninstalled absl-py-1.0.0\n",
            "  Attempting uninstall: wrapt\n",
            "    Found existing installation: wrapt 1.13.3\n",
            "    Uninstalling wrapt-1.13.3:\n",
            "      Successfully uninstalled wrapt-1.13.3\n",
            "  Attempting uninstall: tensorflow-estimator\n",
            "    Found existing installation: tensorflow-estimator 2.8.0\n",
            "    Uninstalling tensorflow-estimator-2.8.0:\n",
            "      Successfully uninstalled tensorflow-estimator-2.8.0\n",
            "  Attempting uninstall: gast\n",
            "    Found existing installation: gast 0.5.3\n",
            "    Uninstalling gast-0.5.3:\n",
            "      Successfully uninstalled gast-0.5.3\n",
            "  Attempting uninstall: flatbuffers\n",
            "    Found existing installation: flatbuffers 2.0\n",
            "    Uninstalling flatbuffers-2.0:\n",
            "      Successfully uninstalled flatbuffers-2.0\n",
            "  Attempting uninstall: tensorflow\n",
            "    Found existing installation: tensorflow 2.8.0\n",
            "    Uninstalling tensorflow-2.8.0:\n",
            "      Successfully uninstalled tensorflow-2.8.0\n",
            "\u001b[31mERROR: pip's dependency resolver does not currently take into account all the packages that are installed. This behaviour is the source of the following dependency conflicts.\n",
            "datascience 0.10.6 requires folium==0.2.1, but you have folium 0.8.3 which is incompatible.\n",
            "albumentations 0.1.12 requires imgaug<0.2.7,>=0.2.5, but you have imgaug 0.2.9 which is incompatible.\u001b[0m\n",
            "Successfully installed absl-py-0.15.0 argparse-1.4.0 flatbuffers-1.12 gast-0.4.0 grpcio-1.34.1 keras-nightly-2.5.0.dev2021032900 numpy-1.19.5 pykospacing-0.5 tensorflow-2.5.3 tensorflow-estimator-2.5.0 typing-extensions-3.7.4.3 wrapt-1.12.1\n"
          ]
        },
        {
          "output_type": "display_data",
          "data": {
            "application/vnd.colab-display-data+json": {
              "pip_warning": {
                "packages": [
                  "absl",
                  "argparse",
                  "flatbuffers",
                  "gast",
                  "grpc",
                  "keras",
                  "numpy",
                  "tensorflow",
                  "typing_extensions",
                  "wrapt"
                ]
              }
            }
          },
          "metadata": {}
        }
      ]
    },
    {
      "cell_type": "code",
      "source": [
        "sent='김철수는극중두인격의사나이이광수역을맡았다.철수는한국유일의태권도전승자를가리는결전의날을앞두고10년간함께훈련한사형인유연재(김광수분)를찾으러속세로내려온인물이다.'"
      ],
      "metadata": {
        "id": "gtKpkwNDmcdF"
      },
      "execution_count": 82,
      "outputs": []
    },
    {
      "cell_type": "code",
      "source": [
        "from pykospacing import Spacing\n",
        "spacing = Spacing()\n",
        "kospacing_sent = spacing(sent) \n",
        "\n",
        "print(kospacing_sent)"
      ],
      "metadata": {
        "colab": {
          "base_uri": "https://localhost:8080/"
        },
        "id": "SzNcyyhrmpIG",
        "outputId": "da972ab4-1baf-4ac0-c683-57475c59fe8c"
      },
      "execution_count": 84,
      "outputs": [
        {
          "output_type": "stream",
          "name": "stdout",
          "text": [
            "WARNING:tensorflow:AutoGraph could not transform <function Model.make_predict_function.<locals>.predict_function at 0x7ff6a5723ef0> and will run it as-is.\n",
            "Please report this to the TensorFlow team. When filing the bug, set the verbosity to 10 (on Linux, `export AUTOGRAPH_VERBOSITY=10`) and attach the full output.\n",
            "Cause: closure mismatch, requested ('self', 'step_function'), but source function had ()\n",
            "To silence this warning, decorate the function with @tf.autograph.experimental.do_not_convert\n",
            "WARNING: AutoGraph could not transform <function Model.make_predict_function.<locals>.predict_function at 0x7ff6a5723ef0> and will run it as-is.\n",
            "Please report this to the TensorFlow team. When filing the bug, set the verbosity to 10 (on Linux, `export AUTOGRAPH_VERBOSITY=10`) and attach the full output.\n",
            "Cause: closure mismatch, requested ('self', 'step_function'), but source function had ()\n",
            "To silence this warning, decorate the function with @tf.autograph.experimental.do_not_convert\n",
            "김철수는 극중 두 인격의 사나이 이광수 역을 맡았다. 철수는 한국 유일의 태권도 전승자를 가리는 결전의 날을 앞두고 10년간 함께 훈련한 사형인 유연재(김광수 분)를 찾으러 속세로 내려온 인물이다.\n"
          ]
        }
      ]
    },
    {
      "cell_type": "markdown",
      "source": [
        "### **2. Py-Hanspell**"
      ],
      "metadata": {
        "id": "HqD2S26Hmvl0"
      }
    },
    {
      "cell_type": "code",
      "source": [
        "pip install git+https://github.com/ssut/py-hanspell.git"
      ],
      "metadata": {
        "colab": {
          "base_uri": "https://localhost:8080/"
        },
        "id": "fNo9SChGmuOF",
        "outputId": "5c94eba0-d1a7-4fc9-ac61-4043656eea03"
      },
      "execution_count": 85,
      "outputs": [
        {
          "output_type": "stream",
          "name": "stdout",
          "text": [
            "Collecting git+https://github.com/ssut/py-hanspell.git\n",
            "  Cloning https://github.com/ssut/py-hanspell.git to /tmp/pip-req-build-zoahlkdc\n",
            "  Running command git clone -q https://github.com/ssut/py-hanspell.git /tmp/pip-req-build-zoahlkdc\n",
            "Requirement already satisfied: requests in /usr/local/lib/python3.7/dist-packages (from py-hanspell==1.1) (2.23.0)\n",
            "Requirement already satisfied: chardet<4,>=3.0.2 in /usr/local/lib/python3.7/dist-packages (from requests->py-hanspell==1.1) (3.0.4)\n",
            "Requirement already satisfied: certifi>=2017.4.17 in /usr/local/lib/python3.7/dist-packages (from requests->py-hanspell==1.1) (2021.10.8)\n",
            "Requirement already satisfied: idna<3,>=2.5 in /usr/local/lib/python3.7/dist-packages (from requests->py-hanspell==1.1) (2.10)\n",
            "Requirement already satisfied: urllib3!=1.25.0,!=1.25.1,<1.26,>=1.21.1 in /usr/local/lib/python3.7/dist-packages (from requests->py-hanspell==1.1) (1.24.3)\n",
            "Building wheels for collected packages: py-hanspell\n",
            "  Building wheel for py-hanspell (setup.py) ... \u001b[?25l\u001b[?25hdone\n",
            "  Created wheel for py-hanspell: filename=py_hanspell-1.1-py3-none-any.whl size=4868 sha256=537ab00dd4e7b2e9d31d86ca8fd31f64a4c029a39a212eebf7c66f1a8302f449\n",
            "  Stored in directory: /tmp/pip-ephem-wheel-cache-tgh9u1d0/wheels/ab/f5/7b/d4124bb329c905301baed80e2ae45aa14e824f62ebc3ec2cc4\n",
            "Successfully built py-hanspell\n",
            "Installing collected packages: py-hanspell\n",
            "Successfully installed py-hanspell-1.1\n"
          ]
        }
      ]
    },
    {
      "cell_type": "code",
      "source": [
        "# Py-Hanspell은 네이버 한글 맞춤법 검사기를 바탕으로 만들어진 패키지입니다.\n",
        "\n",
        "from hanspell import spell_checker\n",
        "\n",
        "sent = \"맞춤법 틀리면 외 않되? 쓰고싶은대로쓰면돼지 \"\n",
        "spelled_sent = spell_checker.check(sent)\n",
        "\n",
        "hanspell_sent = spelled_sent.checked\n",
        "print(hanspell_sent)"
      ],
      "metadata": {
        "colab": {
          "base_uri": "https://localhost:8080/"
        },
        "id": "oRvyzZ3ymyp_",
        "outputId": "256a3e16-739c-4b9b-cbe1-25bccddf02b8"
      },
      "execution_count": 86,
      "outputs": [
        {
          "output_type": "stream",
          "name": "stdout",
          "text": [
            "맞춤법 틀리면 왜 안돼? 쓰고 싶은 대로 쓰면 되지\n"
          ]
        }
      ]
    },
    {
      "cell_type": "code",
      "source": [
        "# 이 패키지는 띄어쓰기 또한 보정합니다.\n",
        "spelled_sent = spell_checker.check(sent)\n",
        "\n",
        "hanspell_sent = spelled_sent.checked\n",
        "print(hanspell_sent)"
      ],
      "metadata": {
        "colab": {
          "base_uri": "https://localhost:8080/"
        },
        "id": "8RLcgV2am1Ih",
        "outputId": "eee2b637-1a24-4491-8939-33457b060e64"
      },
      "execution_count": 88,
      "outputs": [
        {
          "output_type": "stream",
          "name": "stdout",
          "text": [
            "맞춤법 틀리면 왜 안돼? 쓰고 싶은 대로 쓰면 되지\n"
          ]
        }
      ]
    },
    {
      "cell_type": "markdown",
      "source": [
        "### **3. SOYNLP를 이용한 단어 토큰화**\n",
        "\n",
        "soynlp는 \n",
        "- 품사 태깅, 단어 토큰화 등을 지원하는 단어 토크나이저입니다. \n",
        "- 비지도 학습으로 단어 토큰화를 한다는 특징을 갖고 있으며, \n",
        "- 데이터에 자주 등장하는 단어들을 단어로 분석합니다. \n",
        "- soynlp 단어 토크나이저는 내부적으로 단어 점수 표로 동작합니다. 이 점수는 응집 확률(cohesion probability)과 브랜칭 엔트로피(branching entropy)를 활용합니다."
      ],
      "metadata": {
        "id": "pzd27rFanw_-"
      }
    },
    {
      "cell_type": "code",
      "source": [
        "pip install soynlp"
      ],
      "metadata": {
        "colab": {
          "base_uri": "https://localhost:8080/"
        },
        "id": "dKLMbrB8nw25",
        "outputId": "4806f733-38e9-4b9d-ea11-60914e187793"
      },
      "execution_count": 4,
      "outputs": [
        {
          "output_type": "stream",
          "name": "stdout",
          "text": [
            "Collecting soynlp\n",
            "  Downloading soynlp-0.0.493-py3-none-any.whl (416 kB)\n",
            "\u001b[K     |████████████████████████████████| 416 kB 27.2 MB/s \n",
            "\u001b[?25hRequirement already satisfied: numpy>=1.12.1 in /usr/local/lib/python3.7/dist-packages (from soynlp) (1.21.5)\n",
            "Requirement already satisfied: scipy>=1.1.0 in /usr/local/lib/python3.7/dist-packages (from soynlp) (1.4.1)\n",
            "Requirement already satisfied: psutil>=5.0.1 in /usr/local/lib/python3.7/dist-packages (from soynlp) (5.4.8)\n",
            "Requirement already satisfied: scikit-learn>=0.20.0 in /usr/local/lib/python3.7/dist-packages (from soynlp) (1.0.2)\n",
            "Requirement already satisfied: joblib>=0.11 in /usr/local/lib/python3.7/dist-packages (from scikit-learn>=0.20.0->soynlp) (1.1.0)\n",
            "Requirement already satisfied: threadpoolctl>=2.0.0 in /usr/local/lib/python3.7/dist-packages (from scikit-learn>=0.20.0->soynlp) (3.1.0)\n",
            "Installing collected packages: soynlp\n",
            "Successfully installed soynlp-0.0.493\n"
          ]
        }
      ]
    },
    {
      "cell_type": "markdown",
      "source": [
        "**1. 신조어 문제**\n",
        "\n",
        "SOYNLP가 어떤 점에서 유용하냐면! 기존의 형태소 분석기는 신조어나 형태소 분석기에 등록되지 않은 단어 같은 경우에는 제대로 구분하지 못했는데 이젠 잘함~"
      ],
      "metadata": {
        "id": "XpDDpUWnn9mr"
      }
    },
    {
      "cell_type": "code",
      "source": [
        "from konlpy.tag import Okt\n",
        "tokenizer = Okt()\n",
        "print(tokenizer.morphs('에이비식스 이대휘 1월 최애돌 기부 요정'))"
      ],
      "metadata": {
        "colab": {
          "base_uri": "https://localhost:8080/"
        },
        "id": "wc9jyvAYnrxx",
        "outputId": "04d7fa0e-68c8-4194-b6d2-dd680edfe6d7"
      },
      "execution_count": 3,
      "outputs": [
        {
          "output_type": "stream",
          "name": "stdout",
          "text": [
            "['에이', '비식스', '이대', '휘', '1월', '최애', '돌', '기부', '요정']\n"
          ]
        }
      ]
    },
    {
      "cell_type": "markdown",
      "source": [
        "**2. 학습하기**"
      ],
      "metadata": {
        "id": "8kT9LkNzKbWY"
      }
    },
    {
      "cell_type": "code",
      "source": [
        "#학습에 필요한 한국어 문서를 다운로드합니다.\n",
        "import urllib.request\n",
        "from soynlp import DoublespaceLineCorpus\n",
        "from soynlp.word import WordExtractor\n",
        "urllib.request.urlretrieve(\"https://raw.githubusercontent.com/lovit/soynlp/master/tutorials/2016-10-20.txt\", filename=\"2016-10-20.txt\")"
      ],
      "metadata": {
        "colab": {
          "base_uri": "https://localhost:8080/"
        },
        "id": "Rr8hgfigJ991",
        "outputId": "bc7a366b-f94a-4f7f-bcef-7e32119e603c"
      },
      "execution_count": 8,
      "outputs": [
        {
          "output_type": "execute_result",
          "data": {
            "text/plain": [
              "('2016-10-20.txt', <http.client.HTTPMessage at 0x7efc9d080910>)"
            ]
          },
          "metadata": {},
          "execution_count": 8
        }
      ]
    },
    {
      "cell_type": "code",
      "source": [
        "# 훈련 데이터를 다수의 문서로 분리\n",
        "corpus = DoublespaceLineCorpus(\"2016-10-20.txt\")\n",
        "len(corpus)"
      ],
      "metadata": {
        "colab": {
          "base_uri": "https://localhost:8080/"
        },
        "id": "cNSFHY2iKZUW",
        "outputId": "98f043a3-01f0-4e87-db25-98b03478fba6"
      },
      "execution_count": 9,
      "outputs": [
        {
          "output_type": "execute_result",
          "data": {
            "text/plain": [
              "30091"
            ]
          },
          "metadata": {},
          "execution_count": 9
        }
      ]
    },
    {
      "cell_type": "code",
      "source": [
        "word_extractor = WordExtractor()\n",
        "word_extractor.train(corpus)\n",
        "word_score_table = word_extractor.extract()\n",
        "#학습 완"
      ],
      "metadata": {
        "colab": {
          "base_uri": "https://localhost:8080/"
        },
        "id": "yJBlnbQfKhe3",
        "outputId": "88e3cc0a-7621-4d3f-a4b9-3a51cd00b042"
      },
      "execution_count": 10,
      "outputs": [
        {
          "output_type": "stream",
          "name": "stdout",
          "text": [
            "training was done. used memory 1.424 Gb\n",
            "all cohesion probabilities was computed. # words = 223348\n",
            "all branching entropies was computed # words = 361598\n",
            "all accessor variety was computed # words = 361598\n"
          ]
        }
      ]
    },
    {
      "cell_type": "markdown",
      "metadata": {
        "id": "AUQfhvSmMT9x"
      },
      "source": [
        "**3.SOYNLP의 응집 확률(cohesion probability)**\n",
        "\n",
        "응집 확률은 내부 문자열(substring)이 얼마나 응집하여 자주 등장하는지를 판단하는 척도입니다. 응집 확률은 문자열을 문자 단위로 분리하여 내부 문자열을 만드는 과정에서 왼쪽부터 순서대로 문자를 추가하면서 각 문자열이 주어졌을 때 그 다음 문자가 나올 확률을 계산하여 누적곱을 한 값입니다. 이 값이 높을수록 전체 코퍼스에서 이 문자열 시퀀스는 하나의 단어로 등장할 가능성이 높습니다. 수식은 아래와 같습니다.\n",
        "\n",
        "![image.png](data:image/png;base64,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)\n",
        "\n",
        "'반포한강공원에'라는 7의 길이를 가진 문자 시퀀스에 대해서 각 내부 문자열의 스코어를 구하는 과정은 아래와 같습니다.\n",
        "\n",
        "![image.png](data:image/png;base64,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)\n",
        "\n",
        "주어진 문자열이 유기적으로 연결돼 함께 자주 나타암=응집 확률이 높음\n",
        "\n",
        "\n",
        "\n"
      ]
    },
    {
      "cell_type": "code",
      "metadata": {
        "colab": {
          "base_uri": "https://localhost:8080/"
        },
        "id": "jic4T2AzMJXk",
        "outputId": "58ca2c97-1b97-4626-b457-cb1d0ef23f4c"
      },
      "source": [
        "#'반포한'의 응집 확률을 계산해봅시다.\n",
        "word_score_table[\"반포한\"].cohesion_forward"
      ],
      "execution_count": 11,
      "outputs": [
        {
          "data": {
            "text/plain": [
              "0.08838002913645132"
            ]
          },
          "execution_count": null,
          "metadata": {},
          "output_type": "execute_result"
        }
      ]
    },
    {
      "cell_type": "code",
      "metadata": {
        "colab": {
          "base_uri": "https://localhost:8080/"
        },
        "id": "xYPR08iCM_ml",
        "outputId": "2456d90f-f209-4e55-f4dd-aca58b498c0b"
      },
      "source": [
        "#그렇다면 '반포한강'의 응집 확률은 '반포한'의 응집 확률보다 높을까요?\n",
        "word_score_table[\"반포한강\"].cohesion_forward"
      ],
      "execution_count": 12,
      "outputs": [
        {
          "output_type": "execute_result",
          "data": {
            "text/plain": [
              "0.19841268168224552"
            ]
          },
          "metadata": {},
          "execution_count": 12
        }
      ]
    },
    {
      "cell_type": "code",
      "metadata": {
        "colab": {
          "base_uri": "https://localhost:8080/"
        },
        "id": "N_IqGFMGNHEz",
        "outputId": "9703cc15-dd04-4e85-d535-78468c54bc49"
      },
      "source": [
        "#'반포한강'은 '반포한'보다 응집 확률이 높습니다. 그렇다면 '반포한강공'은 어떨까요?\n",
        "word_score_table[\"반포한강공\"].cohesion_forward"
      ],
      "execution_count": 13,
      "outputs": [
        {
          "output_type": "execute_result",
          "data": {
            "text/plain": [
              "0.2972877884078849"
            ]
          },
          "metadata": {},
          "execution_count": 13
        }
      ]
    },
    {
      "cell_type": "code",
      "metadata": {
        "colab": {
          "base_uri": "https://localhost:8080/"
        },
        "id": "hvEIpgSENW97",
        "outputId": "9be31da8-7fbd-4127-b7d8-e119bcbf592c"
      },
      "source": [
        "#역시나 '반포한강'보다 응집 확률이 높습니다. '반포한강공원'은 어떨까요?\n",
        "word_score_table[\"반포한강공원\"].cohesion_forward"
      ],
      "execution_count": 14,
      "outputs": [
        {
          "output_type": "execute_result",
          "data": {
            "text/plain": [
              "0.37891487632839754"
            ]
          },
          "metadata": {},
          "execution_count": 14
        }
      ]
    },
    {
      "cell_type": "code",
      "metadata": {
        "colab": {
          "base_uri": "https://localhost:8080/"
        },
        "id": "-JEVX2DANY_-",
        "outputId": "8c4b023e-84b0-401f-a824-95553f754175"
      },
      "source": [
        "#'반포한강공'보다 응집 확률이 높습니다. 여기다가 조사 '에'를 붙인 '반포한강공원에'는 어떨까요?\n",
        "word_score_table[\"반포한강공원에\"].cohesion_forward"
      ],
      "execution_count": 15,
      "outputs": [
        {
          "output_type": "execute_result",
          "data": {
            "text/plain": [
              "0.33492963377557666"
            ]
          },
          "metadata": {},
          "execution_count": 15
        }
      ]
    },
    {
      "cell_type": "markdown",
      "metadata": {
        "id": "F-VmTcWqNdzK"
      },
      "source": [
        "오히려 '반포한강공원'보다 응집도가 낮아집니다. 결국 결합도는 '반포한강공원'일 때가 가장 높았습니다. 응집도를 통해 판단하기에 하나의 단어로 판단하기에 가장 적합한 문자열은 '반포한강공원'이라고 볼 수 있겠네요."
      ]
    },
    {
      "cell_type": "markdown",
      "metadata": {
        "id": "P2wUb6EKNidD"
      },
      "source": [
        "**4. SOYNLP의 브랜칭 엔트로피(branching entropy)**\n",
        "\n",
        "Branching Entropy는 확률 분포의 엔트로피값을 사용합니다. 이는 주어진 문자열에서 얼마나 다음 문자가 등장할 수 있는지를 판단하는 척도입니다. \n",
        "\n",
        "퀴즈를 하나 내보겠습니다. 제가 어떤 단어를 생각 중인데, 한 문자씩 말해드릴테니까 매번 다음 문자를 맞추는 것이 퀴즈입니다. 첫번째 문자는 '디'입니다. 다음에 등장할 문자를 맞춰보세요. 솔직히 가늠이 잘 안 가지요? '디'로 시작하는 단어가 얼마나 많은데요. 정답은 '스' 입니다.\n",
        "\n",
        "이제 '디스'까지 나왔네요. '디스 '다음 문자는 뭘까요? '디스카운트'라는 단어가 있으니까 '카'일까? 아니면 '디스코드'라는 단어가 있으니까 '코'인가? 생각해보니 '디스코'가 정답일 수도 있겠네요. 그러면 '코'인가? '디스아너드'라는 게임이 있으니까 '아'? 이 단어들을 생각하신 분들은 전부 틀렸습니다. 정답은 '플'이었습니다.\n",
        "\n",
        "'디스플'까지 왔습니다. 다음 문자 맞춰보세요. 이제 좀 명백해집니다. 정답은 '레'입니다. '디스플레' 다음에는 어떤 문자일까요? 정답은 '이'입니다. 제가 생각한 단어는 '디스플레이'였습니다.\n",
        "\n",
        "브랜칭 엔트로피를 주어진 문자 시퀀스에서 다음 문자 예측을 위해 헷갈리는 정도로 비유해봅시다. 브랜칭 엔트로피의 값은 하나의 완성된 단어에 가까워질수록 문맥으로 인해 점점 정확히 예측할 수 있게 되면서 점점 줄어드는 양상을 보입니다."
      ]
    },
    {
      "cell_type": "code",
      "metadata": {
        "colab": {
          "base_uri": "https://localhost:8080/"
        },
        "id": "bby6AuvfNceP",
        "outputId": "6cefd98a-9f20-4a4d-c496-9c41e48049cf"
      },
      "source": [
        "word_score_table[\"디스\"].right_branching_entropy\n",
        "#'디스' 다음에는 다양한 문자가 올 수 있으니까 1.63이라는 값을 가지는 반면, "
      ],
      "execution_count": 16,
      "outputs": [
        {
          "output_type": "execute_result",
          "data": {
            "text/plain": [
              "1.6371694761537934"
            ]
          },
          "metadata": {},
          "execution_count": 16
        }
      ]
    },
    {
      "cell_type": "code",
      "metadata": {
        "colab": {
          "base_uri": "https://localhost:8080/"
        },
        "id": "YGDHee0lN980",
        "outputId": "071ef7c2-a9ca-4d0c-90c9-6d36da2f915f"
      },
      "source": [
        "word_score_table[\"디스플\"].right_branching_entropy\n",
        "#'디스플'이라는 문자열 다음에는 다음 문자로 '레'가 오는 것이 너무나 명백하기 때문에 0이란 값을 가집니다."
      ],
      "execution_count": 17,
      "outputs": [
        {
          "output_type": "execute_result",
          "data": {
            "text/plain": [
              "-0.0"
            ]
          },
          "metadata": {},
          "execution_count": 17
        }
      ]
    },
    {
      "cell_type": "code",
      "metadata": {
        "colab": {
          "base_uri": "https://localhost:8080/"
        },
        "id": "ngPLW1y8N_Zj",
        "outputId": "a3fb7ea8-6f72-4024-b9f6-c9bf163332cc"
      },
      "source": [
        "word_score_table[\"디스플레\"].right_branching_entropy"
      ],
      "execution_count": 18,
      "outputs": [
        {
          "output_type": "execute_result",
          "data": {
            "text/plain": [
              "-0.0"
            ]
          },
          "metadata": {},
          "execution_count": 18
        }
      ]
    },
    {
      "cell_type": "code",
      "metadata": {
        "colab": {
          "base_uri": "https://localhost:8080/"
        },
        "id": "ixJGZ6KROIcC",
        "outputId": "92ac7c22-16b4-4c12-d0c9-4e09b5c77af1"
      },
      "source": [
        "word_score_table[\"디스플레이\"].right_branching_entropy\n",
        "#갑자기 값이 증가합니다. \n",
        "#그 이유는 문자 시퀀스 '디스플레이'라는 문자 시퀀스 다음에는 조사나 다른 단어와 같은 다양한 경우가 있을 수 있기 때문입니다. \n",
        "#이는 하나의 단어가 끝나면 그 경계 부분부터 다시 브랜칭 엔트로피 값이 증가하게 됨을 의미합니다"
      ],
      "execution_count": 19,
      "outputs": [
        {
          "output_type": "execute_result",
          "data": {
            "text/plain": [
              "3.1400392861792916"
            ]
          },
          "metadata": {},
          "execution_count": 19
        }
      ]
    },
    {
      "cell_type": "markdown",
      "metadata": {
        "id": "e38gF9G5OSNT"
      },
      "source": [
        "**5. SOYNLP의 L tokenizer**\n",
        "\n",
        "한국어는 띄어쓰기 단위로 나눈 어절 토큰은 주로 L 토큰 + R 토큰의 형식을 가질 때가 많습니다. 예를 들어서 '공원에'는 '공원 + 에'로 나눌 수 있겠지요. 또는 '공부하는'은 '공부 + 하는'으로 나눌 수도 있을 것입니다. L 토크나이저는 L 토큰 + R 토큰으로 나누되, 분리 기준을 점수가 가장 높은 L 토큰을 찾아내는 원리를 가지고 있습니다."
      ]
    },
    {
      "cell_type": "code",
      "metadata": {
        "colab": {
          "base_uri": "https://localhost:8080/"
        },
        "id": "mNMaE8pSOPSI",
        "outputId": "1136949f-70b5-432e-849c-a06691ede87a"
      },
      "source": [
        "from soynlp.tokenizer import LTokenizer\n",
        "\n",
        "scores = {word:score.cohesion_forward for word, score in word_score_table.items()}\n",
        "l_tokenizer = LTokenizer(scores=scores)\n",
        "l_tokenizer.tokenize(\"국제사회와 우리의 노력들로 범죄를 척결하자\", flatten=False)"
      ],
      "execution_count": 20,
      "outputs": [
        {
          "output_type": "execute_result",
          "data": {
            "text/plain": [
              "[('국제사회', '와'), ('우리', '의'), ('노력', '들로'), ('범죄', '를'), ('척결', '하자')]"
            ]
          },
          "metadata": {},
          "execution_count": 20
        }
      ]
    },
    {
      "cell_type": "markdown",
      "metadata": {
        "id": "CvxrZrhSOw3w"
      },
      "source": [
        "**6. 최대 점수 토크나이저**\n",
        "\n",
        "최대 점수 토크나이저는 띄어쓰기가 되지 않는 문장에서 점수가 높은 글자 시퀀스를 순차적으로 찾아내는 토크나이저입니다. 단어 추출 기법으로 학습된 subwords 의 단어 가능 점수를 기반으로, 문장에서 가장 단어스러운 부분부터 단어로 잘라냅니다."
      ]
    },
    {
      "cell_type": "code",
      "metadata": {
        "colab": {
          "base_uri": "https://localhost:8080/"
        },
        "id": "WNRrIVF_OZLO",
        "outputId": "1cee44be-8f90-4a4a-9d9d-0be6a0b050aa"
      },
      "source": [
        "#띄어쓰기가 되어 있지 않은 문장을 넣어서 점수를 통해 토큰화 된 결과를 보겠습니다.\n",
        "\n",
        "from soynlp.tokenizer import MaxScoreTokenizer\n",
        "\n",
        "maxscore_tokenizer = MaxScoreTokenizer(scores=scores)\n",
        "maxscore_tokenizer.tokenize(\"국제사회와우리의노력들로범죄를척결하자\")"
      ],
      "execution_count": 21,
      "outputs": [
        {
          "output_type": "execute_result",
          "data": {
            "text/plain": [
              "['국제사회', '와', '우리', '의', '노력', '들로', '범죄', '를', '척결', '하자']"
            ]
          },
          "metadata": {},
          "execution_count": 21
        }
      ]
    },
    {
      "cell_type": "markdown",
      "metadata": {
        "id": "RZzbjCj1PWU2"
      },
      "source": [
        "**4. SOYNLP를 이용한 반복되는 문자 정제**\n",
        "\n",
        "SNS나 채팅 데이터와 같은 한국어 데이터의 경우에는 ㅋㅋ, ㅎㅎ 등의 이모티콘의 경우 불필요하게 연속되는 경우가 많은데 ㅋㅋ, ㅋㅋㅋ, ㅋㅋㅋㅋ와 같은 경우를 모두 서로 다른 단어로 처리하는 것은 불필요합니다. 이에 반복되는 것은 하나로 정규화시켜줍니다."
      ]
    },
    {
      "cell_type": "code",
      "metadata": {
        "id": "g56pZQ8EO0Px"
      },
      "source": [
        "from soynlp.normalizer import *"
      ],
      "execution_count": 22,
      "outputs": []
    },
    {
      "cell_type": "code",
      "metadata": {
        "colab": {
          "base_uri": "https://localhost:8080/"
        },
        "id": "8t7SrUzNPkr8",
        "outputId": "90b15f54-f0af-4b90-882f-f3106ad04d4e"
      },
      "source": [
        "print(emoticon_normalize('앜ㅋㅋㅋㅋ이영화존잼쓰ㅠㅠㅠㅠㅠ', num_repeats=2))\n",
        "print(emoticon_normalize('앜ㅋㅋㅋㅋㅋㅋㅋㅋㅋ이영화존잼쓰ㅠㅠㅠㅠ', num_repeats=2))\n",
        "print(emoticon_normalize('앜ㅋㅋㅋㅋㅋㅋㅋㅋㅋㅋㅋㅋ이영화존잼쓰ㅠㅠㅠㅠㅠㅠ', num_repeats=2))\n",
        "print(emoticon_normalize('앜ㅋㅋㅋㅋㅋㅋㅋㅋㅋㅋㅋㅋㅋㅋㅋㅋㅋ이영화존잼쓰ㅠㅠㅠㅠㅠㅠㅠㅠ', num_repeats=2))"
      ],
      "execution_count": 23,
      "outputs": [
        {
          "output_type": "stream",
          "name": "stdout",
          "text": [
            "아ㅋㅋ영화존잼쓰ㅠㅠ\n",
            "아ㅋㅋ영화존잼쓰ㅠㅠ\n",
            "아ㅋㅋ영화존잼쓰ㅠㅠ\n",
            "아ㅋㅋ영화존잼쓰ㅠㅠ\n"
          ]
        }
      ]
    },
    {
      "cell_type": "code",
      "metadata": {
        "colab": {
          "base_uri": "https://localhost:8080/"
        },
        "id": "qhF4Huw2PmJw",
        "outputId": "6dbce577-fc56-45d9-9825-1a8830572e4f"
      },
      "source": [
        "#의미없게 반복되는 것은 비단 이모티콘에 한정되지 않습니다.\n",
        "\n",
        "print(repeat_normalize('와하하하하하하하하하핫', num_repeats=2))\n",
        "print(repeat_normalize('와하하하하하하핫', num_repeats=2))\n",
        "print(repeat_normalize('와하하하하핫', num_repeats=2))"
      ],
      "execution_count": 24,
      "outputs": [
        {
          "output_type": "stream",
          "name": "stdout",
          "text": [
            "와하하핫\n",
            "와하하핫\n",
            "와하하핫\n"
          ]
        }
      ]
    },
    {
      "cell_type": "markdown",
      "metadata": {
        "id": "GQW_Q5ERPqr9"
      },
      "source": [
        "**5. Customized KoNLPy**\n",
        "\n",
        "영어권 언어는 띄어쓰기만해도 단어들이 잘 분리되지만, 한국어는 그렇지 않다고 앞에서 몇 차례 언급했었습니다. 한국어 데이터를 사용하여 모델을 구현하는 것만큼 이번에는 형태소 분석기를 사용해서 단어 토큰화를 해보겠습니다. 그런데 형태소 분석기를 사용할 때, 이런 상황에 봉착한다면 어떻게 해야할까요?\n",
        "> 형태소 분석 입력 : '은경이는 사무실로 갔습니다.'\n",
        "\n",
        "> 형태소 분석 결과 : ['은', '경이', '는', '사무실', '로', '갔습니다', '.']\n",
        "\n",
        "사실 위 문장에서 '은경이'는 사람 이름이므로 제대로 된 결과를 얻기 위해서는 '은', '경이'와 같이 글자가 분리되는 것이 아니라 '은경이' 또는 최소한 '은경'이라는 단어 토큰을 얻어야만 합니다. 이런 경우에는 형태소 분석기에 사용자 사전을 추가해줄 수 있습니다. '은경이'는 하나의 단어이기 때문에 분리하지말라고 형태소 분석기에 알려주는 것입니다.\n",
        "\n",
        "사용자 사전을 추가하는 방법은 형태소 분석기마다 다른데, 생각보다 복잡한 경우들이 많습니다. 이번 실습에서는 Customized Konlpy라는 사용자 사전 추가가 매우 쉬운 패키지를 사용합니다. "
      ]
    },
    {
      "cell_type": "code",
      "metadata": {
        "colab": {
          "base_uri": "https://localhost:8080/"
        },
        "id": "6oVw3AHjPxcp",
        "outputId": "1205f57e-4156-48b2-c403-ae3eda88cc6e"
      },
      "source": [
        "#프롬프트에서 아래의 커맨드를 통해 형태소 분석기를 설치합니다.\n",
        "!pip install customized_konlpy"
      ],
      "execution_count": 25,
      "outputs": [
        {
          "output_type": "stream",
          "name": "stdout",
          "text": [
            "Collecting customized_konlpy\n",
            "  Downloading customized_konlpy-0.0.64-py3-none-any.whl (881 kB)\n",
            "\u001b[?25l\r\u001b[K     |▍                               | 10 kB 20.0 MB/s eta 0:00:01\r\u001b[K     |▊                               | 20 kB 23.4 MB/s eta 0:00:01\r\u001b[K     |█▏                              | 30 kB 25.8 MB/s eta 0:00:01\r\u001b[K     |█▌                              | 40 kB 27.1 MB/s eta 0:00:01\r\u001b[K     |█▉                              | 51 kB 29.4 MB/s eta 0:00:01\r\u001b[K     |██▎                             | 61 kB 30.0 MB/s eta 0:00:01\r\u001b[K     |██▋                             | 71 kB 27.7 MB/s eta 0:00:01\r\u001b[K     |███                             | 81 kB 28.5 MB/s eta 0:00:01\r\u001b[K     |███▍                            | 92 kB 22.3 MB/s eta 0:00:01\r\u001b[K     |███▊                            | 102 kB 23.3 MB/s eta 0:00:01\r\u001b[K     |████                            | 112 kB 23.3 MB/s eta 0:00:01\r\u001b[K     |████▌                           | 122 kB 23.3 MB/s eta 0:00:01\r\u001b[K     |████▉                           | 133 kB 23.3 MB/s eta 0:00:01\r\u001b[K     |█████▏                          | 143 kB 23.3 MB/s eta 0:00:01\r\u001b[K     |█████▋                          | 153 kB 23.3 MB/s eta 0:00:01\r\u001b[K     |██████                          | 163 kB 23.3 MB/s eta 0:00:01\r\u001b[K     |██████▎                         | 174 kB 23.3 MB/s eta 0:00:01\r\u001b[K     |██████▊                         | 184 kB 23.3 MB/s eta 0:00:01\r\u001b[K     |███████                         | 194 kB 23.3 MB/s eta 0:00:01\r\u001b[K     |███████▍                        | 204 kB 23.3 MB/s eta 0:00:01\r\u001b[K     |███████▉                        | 215 kB 23.3 MB/s eta 0:00:01\r\u001b[K     |████████▏                       | 225 kB 23.3 MB/s eta 0:00:01\r\u001b[K     |████████▌                       | 235 kB 23.3 MB/s eta 0:00:01\r\u001b[K     |█████████                       | 245 kB 23.3 MB/s eta 0:00:01\r\u001b[K     |█████████▎                      | 256 kB 23.3 MB/s eta 0:00:01\r\u001b[K     |█████████▋                      | 266 kB 23.3 MB/s eta 0:00:01\r\u001b[K     |██████████                      | 276 kB 23.3 MB/s eta 0:00:01\r\u001b[K     |██████████▍                     | 286 kB 23.3 MB/s eta 0:00:01\r\u001b[K     |██████████▉                     | 296 kB 23.3 MB/s eta 0:00:01\r\u001b[K     |███████████▏                    | 307 kB 23.3 MB/s eta 0:00:01\r\u001b[K     |███████████▌                    | 317 kB 23.3 MB/s eta 0:00:01\r\u001b[K     |████████████                    | 327 kB 23.3 MB/s eta 0:00:01\r\u001b[K     |████████████▎                   | 337 kB 23.3 MB/s eta 0:00:01\r\u001b[K     |████████████▋                   | 348 kB 23.3 MB/s eta 0:00:01\r\u001b[K     |█████████████                   | 358 kB 23.3 MB/s eta 0:00:01\r\u001b[K     |█████████████▍                  | 368 kB 23.3 MB/s eta 0:00:01\r\u001b[K     |█████████████▊                  | 378 kB 23.3 MB/s eta 0:00:01\r\u001b[K     |██████████████▏                 | 389 kB 23.3 MB/s eta 0:00:01\r\u001b[K     |██████████████▌                 | 399 kB 23.3 MB/s eta 0:00:01\r\u001b[K     |██████████████▉                 | 409 kB 23.3 MB/s eta 0:00:01\r\u001b[K     |███████████████▎                | 419 kB 23.3 MB/s eta 0:00:01\r\u001b[K     |███████████████▋                | 430 kB 23.3 MB/s eta 0:00:01\r\u001b[K     |████████████████                | 440 kB 23.3 MB/s eta 0:00:01\r\u001b[K     |████████████████▍               | 450 kB 23.3 MB/s eta 0:00:01\r\u001b[K     |████████████████▊               | 460 kB 23.3 MB/s eta 0:00:01\r\u001b[K     |█████████████████               | 471 kB 23.3 MB/s eta 0:00:01\r\u001b[K     |█████████████████▌              | 481 kB 23.3 MB/s eta 0:00:01\r\u001b[K     |█████████████████▉              | 491 kB 23.3 MB/s eta 0:00:01\r\u001b[K     |██████████████████▏             | 501 kB 23.3 MB/s eta 0:00:01\r\u001b[K     |██████████████████▋             | 512 kB 23.3 MB/s eta 0:00:01\r\u001b[K     |███████████████████             | 522 kB 23.3 MB/s eta 0:00:01\r\u001b[K     |███████████████████▎            | 532 kB 23.3 MB/s eta 0:00:01\r\u001b[K     |███████████████████▊            | 542 kB 23.3 MB/s eta 0:00:01\r\u001b[K     |████████████████████            | 552 kB 23.3 MB/s eta 0:00:01\r\u001b[K     |████████████████████▌           | 563 kB 23.3 MB/s eta 0:00:01\r\u001b[K     |████████████████████▉           | 573 kB 23.3 MB/s eta 0:00:01\r\u001b[K     |█████████████████████▏          | 583 kB 23.3 MB/s eta 0:00:01\r\u001b[K     |█████████████████████▋          | 593 kB 23.3 MB/s eta 0:00:01\r\u001b[K     |██████████████████████          | 604 kB 23.3 MB/s eta 0:00:01\r\u001b[K     |██████████████████████▎         | 614 kB 23.3 MB/s eta 0:00:01\r\u001b[K     |██████████████████████▊         | 624 kB 23.3 MB/s eta 0:00:01\r\u001b[K     |███████████████████████         | 634 kB 23.3 MB/s eta 0:00:01\r\u001b[K     |███████████████████████▍        | 645 kB 23.3 MB/s eta 0:00:01\r\u001b[K     |███████████████████████▉        | 655 kB 23.3 MB/s eta 0:00:01\r\u001b[K     |████████████████████████▏       | 665 kB 23.3 MB/s eta 0:00:01\r\u001b[K     |████████████████████████▌       | 675 kB 23.3 MB/s eta 0:00:01\r\u001b[K     |█████████████████████████       | 686 kB 23.3 MB/s eta 0:00:01\r\u001b[K     |█████████████████████████▎      | 696 kB 23.3 MB/s eta 0:00:01\r\u001b[K     |█████████████████████████▋      | 706 kB 23.3 MB/s eta 0:00:01\r\u001b[K     |██████████████████████████      | 716 kB 23.3 MB/s eta 0:00:01\r\u001b[K     |██████████████████████████▍     | 727 kB 23.3 MB/s eta 0:00:01\r\u001b[K     |██████████████████████████▊     | 737 kB 23.3 MB/s eta 0:00:01\r\u001b[K     |███████████████████████████▏    | 747 kB 23.3 MB/s eta 0:00:01\r\u001b[K     |███████████████████████████▌    | 757 kB 23.3 MB/s eta 0:00:01\r\u001b[K     |███████████████████████████▉    | 768 kB 23.3 MB/s eta 0:00:01\r\u001b[K     |████████████████████████████▎   | 778 kB 23.3 MB/s eta 0:00:01\r\u001b[K     |████████████████████████████▋   | 788 kB 23.3 MB/s eta 0:00:01\r\u001b[K     |█████████████████████████████   | 798 kB 23.3 MB/s eta 0:00:01\r\u001b[K     |█████████████████████████████▍  | 808 kB 23.3 MB/s eta 0:00:01\r\u001b[K     |█████████████████████████████▊  | 819 kB 23.3 MB/s eta 0:00:01\r\u001b[K     |██████████████████████████████▏ | 829 kB 23.3 MB/s eta 0:00:01\r\u001b[K     |██████████████████████████████▌ | 839 kB 23.3 MB/s eta 0:00:01\r\u001b[K     |██████████████████████████████▉ | 849 kB 23.3 MB/s eta 0:00:01\r\u001b[K     |███████████████████████████████▎| 860 kB 23.3 MB/s eta 0:00:01\r\u001b[K     |███████████████████████████████▋| 870 kB 23.3 MB/s eta 0:00:01\r\u001b[K     |████████████████████████████████| 880 kB 23.3 MB/s eta 0:00:01\r\u001b[K     |████████████████████████████████| 881 kB 23.3 MB/s \n",
            "\u001b[?25hRequirement already satisfied: konlpy>=0.4.4 in /usr/local/lib/python3.7/dist-packages (from customized_konlpy) (0.6.0)\n",
            "Requirement already satisfied: Jpype1>=0.6.1 in /usr/local/lib/python3.7/dist-packages (from customized_konlpy) (1.3.0)\n",
            "Requirement already satisfied: typing-extensions in /usr/local/lib/python3.7/dist-packages (from Jpype1>=0.6.1->customized_konlpy) (3.10.0.2)\n",
            "Requirement already satisfied: lxml>=4.1.0 in /usr/local/lib/python3.7/dist-packages (from konlpy>=0.4.4->customized_konlpy) (4.2.6)\n",
            "Requirement already satisfied: numpy>=1.6 in /usr/local/lib/python3.7/dist-packages (from konlpy>=0.4.4->customized_konlpy) (1.21.5)\n",
            "Installing collected packages: customized-konlpy\n",
            "Successfully installed customized-konlpy-0.0.64\n"
          ]
        }
      ]
    },
    {
      "cell_type": "code",
      "metadata": {
        "colab": {
          "base_uri": "https://localhost:8080/"
        },
        "id": "wJq9eeGAQE6_",
        "outputId": "5d7e4dcf-7181-438a-8537-cfd30dac07b1"
      },
      "source": [
        "#customized_konlpy에서 제공하는 형태소 분석기 Twitter를 사용하여 앞서 소개했던 예문을 단어 토큰화해봅시다.\n",
        "\n",
        "from ckonlpy.tag import Twitter\n",
        "twitter = Twitter()\n",
        "twitter.morphs('은경이는 사무실로 갔습니다.')"
      ],
      "execution_count": 26,
      "outputs": [
        {
          "output_type": "stream",
          "name": "stderr",
          "text": [
            "/usr/local/lib/python3.7/dist-packages/konlpy/tag/_okt.py:17: UserWarning: \"Twitter\" has changed to \"Okt\" since KoNLPy v0.4.5.\n",
            "  warn('\"Twitter\" has changed to \"Okt\" since KoNLPy v0.4.5.')\n"
          ]
        },
        {
          "output_type": "execute_result",
          "data": {
            "text/plain": [
              "['은', '경이', '는', '사무실', '로', '갔습니다', '.']"
            ]
          },
          "metadata": {},
          "execution_count": 26
        }
      ]
    },
    {
      "cell_type": "code",
      "metadata": {
        "id": "Krc5cppnQQdS"
      },
      "source": [
        "#'은경이'라는 단어가 '은', '경이'와 같이 분리됩니다. \n",
        "#이때, 형태소 분석기 Twitter에 add_dictionary('단어', '품사')와 같은 형식으로 사전 추가를 해줄 수 있습니다.\n",
        "\n",
        "twitter.add_dictionary('은경이', 'Noun')"
      ],
      "execution_count": 27,
      "outputs": []
    },
    {
      "cell_type": "code",
      "metadata": {
        "colab": {
          "base_uri": "https://localhost:8080/"
        },
        "id": "1fPQFAGkQWzD",
        "outputId": "efa70063-f434-4cbe-db2a-36085f169705"
      },
      "source": [
        "#제대로 반영되었는지 동일한 예문을 다시 형태소 분석해봅시다.\n",
        "twitter.morphs('은경이는 사무실로 갔습니다.')\n",
        "#이제는 '은경이'라는 단어가 제대로 하나의 토큰으로 인식되는 것을 확인할 수 있습니다."
      ],
      "execution_count": 28,
      "outputs": [
        {
          "output_type": "execute_result",
          "data": {
            "text/plain": [
              "['은경이', '는', '사무실', '로', '갔습니다', '.']"
            ]
          },
          "metadata": {},
          "execution_count": 28
        }
      ]
    }
  ]
}