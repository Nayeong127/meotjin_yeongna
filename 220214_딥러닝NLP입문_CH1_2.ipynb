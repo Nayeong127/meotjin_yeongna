{
  "nbformat": 4,
  "nbformat_minor": 0,
  "metadata": {
    "colab": {
      "name": "220214_딥러닝NLP입문_CH1-2.ipynb",
      "provenance": [],
      "authorship_tag": "ABX9TyOUyFEyZzeT1tkMB2ICF4jO",
      "include_colab_link": true
    },
    "kernelspec": {
      "name": "python3",
      "display_name": "Python 3"
    },
    "language_info": {
      "name": "python"
    }
  },
  "cells": [
    {
      "cell_type": "markdown",
      "metadata": {
        "id": "view-in-github",
        "colab_type": "text"
      },
      "source": [
        "<a href=\"https://colab.research.google.com/github/Nayeong127/meotjin_yeongna/blob/main/220214_%EB%94%A5%EB%9F%AC%EB%8B%9DNLP%EC%9E%85%EB%AC%B8_CH1_2.ipynb\" target=\"_parent\"><img src=\"https://colab.research.google.com/assets/colab-badge.svg\" alt=\"Open In Colab\"/></a>"
      ]
    },
    {
      "cell_type": "code",
      "execution_count": null,
      "metadata": {
        "id": "DhtjGZl2zEQ5"
      },
      "outputs": [],
      "source": [
        ""
      ]
    }
  ]
}