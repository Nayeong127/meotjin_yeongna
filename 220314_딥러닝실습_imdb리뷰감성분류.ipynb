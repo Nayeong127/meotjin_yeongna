{
  "nbformat": 4,
  "nbformat_minor": 0,
  "metadata": {
    "colab": {
      "name": "220314_딥러닝실습_imdb리뷰감성분류.ipynb",
      "provenance": [],
      "collapsed_sections": [],
      "authorship_tag": "ABX9TyPIYvRuwNzDO9hGtK7f5o/D",
      "include_colab_link": true
    },
    "kernelspec": {
      "name": "python3",
      "display_name": "Python 3"
    },
    "language_info": {
      "name": "python"
    }
  },
  "cells": [
    {
      "cell_type": "markdown",
      "metadata": {
        "id": "view-in-github",
        "colab_type": "text"
      },
      "source": [
        "<a href=\"https://colab.research.google.com/github/Nayeong127/meotjin_yeongna/blob/main/220314_%EB%94%A5%EB%9F%AC%EB%8B%9D%EC%8B%A4%EC%8A%B5_imdb%EB%A6%AC%EB%B7%B0%EA%B0%90%EC%84%B1%EB%B6%84%EB%A5%98.ipynb\" target=\"_parent\"><img src=\"https://colab.research.google.com/assets/colab-badge.svg\" alt=\"Open In Colab\"/></a>"
      ]
    },
    {
      "cell_type": "code",
      "execution_count": null,
      "metadata": {
        "id": "ugz2a0XesGuz"
      },
      "outputs": [],
      "source": [
        "import numpy as np\n",
        "import matplotlib.pyplot as plt\n",
        "from tensorflow.keras.datasets import imdb"
      ]
    },
    {
      "cell_type": "code",
      "source": [
        "(X_train, y_train), (X_test, y_test) = imdb.load_data() #영화 리뷰 데이터를 로드.  #여기서 num_words를 사용하면 등장 빈도 순위로 몇 등까지의 단어를 사용할 것인지\n",
        "\n",
        "print('훈련용 리뷰 개수 : {}'.format(len(X_train)))\n",
        "print('테스트용 리뷰 개수 : {}'.format(len(X_test)))\n",
        "num_classes = len(set(y_train))\n",
        "print('카테고리 : {}'.format(num_classes))"
      ],
      "metadata": {
        "colab": {
          "base_uri": "https://localhost:8080/"
        },
        "id": "s2pPoUvrsHN0",
        "outputId": "05c72a98-0930-4df8-ad14-6348ffb96b76"
      },
      "execution_count": null,
      "outputs": [
        {
          "output_type": "stream",
          "name": "stdout",
          "text": [
            "Downloading data from https://storage.googleapis.com/tensorflow/tf-keras-datasets/imdb.npz\n",
            "17465344/17464789 [==============================] - 0s 0us/step\n",
            "17473536/17464789 [==============================] - 0s 0us/step\n",
            "훈련용 리뷰 개수 : 25000\n",
            "테스트용 리뷰 개수 : 25000\n",
            "카테고리 : 2\n"
          ]
        }
      ]
    },
    {
      "cell_type": "code",
      "source": [
        "print('첫번째 훈련용 리뷰 :',X_train[0])\n",
        "print('첫번째 훈련용 리뷰의 레이블 :',y_train[0])"
      ],
      "metadata": {
        "colab": {
          "base_uri": "https://localhost:8080/"
        },
        "id": "9m6AAPJBtLNG",
        "outputId": "ea24e680-bfdb-4015-899e-91135f5f9276"
      },
      "execution_count": null,
      "outputs": [
        {
          "output_type": "stream",
          "name": "stdout",
          "text": [
            "첫번째 훈련용 리뷰 : [1, 14, 22, 16, 43, 530, 973, 1622, 1385, 65, 458, 4468, 66, 3941, 4, 173, 36, 256, 5, 25, 100, 43, 838, 112, 50, 670, 22665, 9, 35, 480, 284, 5, 150, 4, 172, 112, 167, 21631, 336, 385, 39, 4, 172, 4536, 1111, 17, 546, 38, 13, 447, 4, 192, 50, 16, 6, 147, 2025, 19, 14, 22, 4, 1920, 4613, 469, 4, 22, 71, 87, 12, 16, 43, 530, 38, 76, 15, 13, 1247, 4, 22, 17, 515, 17, 12, 16, 626, 18, 19193, 5, 62, 386, 12, 8, 316, 8, 106, 5, 4, 2223, 5244, 16, 480, 66, 3785, 33, 4, 130, 12, 16, 38, 619, 5, 25, 124, 51, 36, 135, 48, 25, 1415, 33, 6, 22, 12, 215, 28, 77, 52, 5, 14, 407, 16, 82, 10311, 8, 4, 107, 117, 5952, 15, 256, 4, 31050, 7, 3766, 5, 723, 36, 71, 43, 530, 476, 26, 400, 317, 46, 7, 4, 12118, 1029, 13, 104, 88, 4, 381, 15, 297, 98, 32, 2071, 56, 26, 141, 6, 194, 7486, 18, 4, 226, 22, 21, 134, 476, 26, 480, 5, 144, 30, 5535, 18, 51, 36, 28, 224, 92, 25, 104, 4, 226, 65, 16, 38, 1334, 88, 12, 16, 283, 5, 16, 4472, 113, 103, 32, 15, 16, 5345, 19, 178, 32]\n",
            "첫번째 훈련용 리뷰의 레이블 : 1\n"
          ]
        }
      ]
    },
    {
      "cell_type": "markdown",
      "source": [
        "- 토큰화와 정수 인코딩이라는 텍스트 전처리가 끝난 상태\n",
        "- 단어들의 등장 빈도에 따라서 인덱스를 부여 \n",
        "  - 숫자가 낮을수록 이 데이터에서 등장 빈도 순위가 높\n",
        "- 감성 정보 0 또는 1인데 부정: 0, 긍정: 1"
      ],
      "metadata": {
        "id": "C_b0caDLDeeu"
      }
    },
    {
      "cell_type": "code",
      "source": [
        "# 25,000개의 훈련용 리뷰의 각 길이는 전부 다른데, 리뷰의 길이 분포를 그래프로 시각화해보겠습니다.\n",
        "\n",
        "reviews_length = [len(review) for review in X_train]\n",
        "\n",
        "print('리뷰의 최대 길이 : {}'.format(np.max(reviews_length)))\n",
        "print('리뷰의 평균 길이 : {}'.format(np.mean(reviews_length)))\n",
        "\n",
        "plt.subplot(1,2,1)\n",
        "plt.boxplot(reviews_length)\n",
        "plt.subplot(1,2,2)\n",
        "plt.hist(reviews_length, bins=50)\n",
        "plt.show()"
      ],
      "metadata": {
        "colab": {
          "base_uri": "https://localhost:8080/",
          "height": 300
        },
        "id": "7bOKniYDtPGT",
        "outputId": "33d23f86-c40d-4a0b-b3c5-bb3a2d0cf09a"
      },
      "execution_count": null,
      "outputs": [
        {
          "output_type": "stream",
          "name": "stdout",
          "text": [
            "리뷰의 최대 길이 : 2494\n",
            "리뷰의 평균 길이 : 238.71364\n"
          ]
        },
        {
          "output_type": "display_data",
          "data": {
            "text/plain": [
              "<Figure size 432x288 with 2 Axes>"
            ],
            "image/png": "[encoded data removed]"
          },
          "metadata": {
            "needs_background": "light"
          }
        }
      ]
    },
    {
      "cell_type": "markdown",
      "source": [
        "- 대체적으로 1,000이하\n",
        "- 100~500길이를 가진 데이터가 많\n",
        "- 가장 긴 길이를 가진 데이터: 2,000 이상!"
      ],
      "metadata": {
        "id": "C_wKM9CfeokD"
      }
    },
    {
      "cell_type": "code",
      "source": [
        "# 레이블의 분포 확인\n",
        "\n",
        "unique_elements, counts_elements = np.unique(y_train, return_counts=True)\n",
        "print(\"각 레이블에 대한 빈도수:\")\n",
        "print(np.asarray((unique_elements, counts_elements)))"
      ],
      "metadata": {
        "colab": {
          "base_uri": "https://localhost:8080/"
        },
        "id": "uQIGYnkybmRb",
        "outputId": "0fd13071-0c06-4417-99e3-2f0f52f63a6d"
      },
      "execution_count": null,
      "outputs": [
        {
          "output_type": "stream",
          "name": "stdout",
          "text": [
            "각 레이블에 대한 빈도수:\n",
            "[[    0     1]\n",
            " [12500 12500]]\n"
          ]
        }
      ]
    },
    {
      "cell_type": "markdown",
      "source": [
        "- 0과 1은 각각 12,500개로 균등한 분포"
      ],
      "metadata": {
        "id": "DbbjO_5_kj-K"
      }
    },
    {
      "cell_type": "code",
      "source": [
        "#X_train에 들어있는 숫자들이 각각 어떤 단어들을 나타내고 있는지 확인\n",
        "\n",
        "word_to_index = imdb.get_word_index() #imdb.get_word_index()에 각 단어와 맵핑되는 정수가 저장! 근데 +3을 해야 실제 맵핑되는 정수\n",
        "index_to_word = {}\n",
        "for key, value in word_to_index.items():\n",
        "    index_to_word[value+3] = key"
      ],
      "metadata": {
        "colab": {
          "base_uri": "https://localhost:8080/"
        },
        "id": "NmHBGGsafD1Q",
        "outputId": "3048934a-88cd-44cf-aa5a-eb00fba36ddb"
      },
      "execution_count": null,
      "outputs": [
        {
          "output_type": "stream",
          "name": "stdout",
          "text": [
            "Downloading data from https://storage.googleapis.com/tensorflow/tf-keras-datasets/imdb_word_index.json\n",
            "1646592/1641221 [==============================] - 0s 0us/step\n",
            "1654784/1641221 [==============================] - 0s 0us/step\n"
          ]
        }
      ]
    },
    {
      "cell_type": "code",
      "source": [
        "print('빈도수 상위 1등 단어 : {}'.format(index_to_word[4]))  #인덱스 넣으면 전처리 전에 어떤 단어였는지 확인 ㄱㄴ\n",
        "#IMDB 리뷰 데이터셋에서는 0, 1, 2, 3은 특별 토큰으로 취급헤서 정수 4부터가 실제 IMDB 리뷰 데이터셋에서 빈도수가 가장 높은 실제 영단어!!!!!!!"
      ],
      "metadata": {
        "colab": {
          "base_uri": "https://localhost:8080/"
        },
        "id": "F8GYfp9Kk0ek",
        "outputId": "48503b39-0a0f-4482-84f3-31f538576ec8"
      },
      "execution_count": null,
      "outputs": [
        {
          "output_type": "stream",
          "name": "stdout",
          "text": [
            "빈도수 상위 1등 단어 : the\n"
          ]
        }
      ]
    },
    {
      "cell_type": "code",
      "source": [
        "print('빈도수 상위 3938등 단어 : {}'.format(index_to_word[3941]))"
      ],
      "metadata": {
        "colab": {
          "base_uri": "https://localhost:8080/"
        },
        "id": "xyia71roNT2c",
        "outputId": "4aa8ef49-72eb-4749-97dc-628fd02c3552"
      },
      "execution_count": null,
      "outputs": [
        {
          "output_type": "stream",
          "name": "stdout",
          "text": [
            "빈도수 상위 3938등 단어 : suited\n"
          ]
        }
      ]
    },
    {
      "cell_type": "code",
      "source": [
        "#첫번째 훈련용 리뷰의 X_train[0]의 각 단어가 정수로 바뀌기 전에 어떤 단어들이었는지 확인\n",
        "for index, token in enumerate((\"<pad>\", \"<sos>\", \"<unk>\")):\n",
        "  index_to_word[index] = token\n",
        "\n",
        "print(' '.join([index_to_word[index] for index in X_train[0]]))"
      ],
      "metadata": {
        "colab": {
          "base_uri": "https://localhost:8080/"
        },
        "id": "LqC1s5P3NVb3",
        "outputId": "91f55a38-ab53-4a2a-834b-8c40aadc125b"
      },
      "execution_count": null,
      "outputs": [
        {
          "output_type": "stream",
          "name": "stdout",
          "text": [
            "<pad> <pad> <pad> <pad> <pad> <pad> <pad> <pad> <pad> <pad> <pad> <pad> <pad> <pad> <pad> <pad> <pad> <pad> <pad> <pad> <pad> <pad> <pad> <pad> <pad> <pad> <pad> <pad> <pad> <pad> <pad> <pad> <pad> <pad> <pad> <pad> <pad> <pad> <pad> <pad> <pad> <pad> <pad> <pad> <pad> <pad> <pad> <pad> <pad> <pad> <pad> <pad> <pad> <pad> <pad> <pad> <pad> <pad> <pad> <pad> <pad> <pad> <pad> <pad> <pad> <pad> <pad> <pad> <pad> <pad> <pad> <pad> <pad> <pad> <pad> <pad> <pad> <pad> <pad> <pad> <pad> <pad> <pad> <pad> <pad> <pad> <pad> <pad> <pad> <pad> <pad> <pad> <pad> <pad> <pad> <pad> <pad> <pad> <pad> <pad> <pad> <pad> <pad> <pad> <pad> <pad> <pad> <pad> <pad> <pad> <pad> <pad> <pad> <pad> <pad> <pad> <pad> <pad> <pad> <pad> <pad> <pad> <pad> <pad> <pad> <pad> <pad> <pad> <pad> <pad> <pad> <pad> <pad> <pad> <pad> <pad> <pad> <pad> <pad> <pad> <pad> <pad> <pad> <pad> <pad> <pad> <pad> <pad> <pad> <pad> <pad> <pad> <pad> <pad> <pad> <pad> <pad> <pad> <pad> <pad> <pad> <pad> <pad> <pad> <pad> <pad> <pad> <pad> <pad> <pad> <pad> <pad> <pad> <pad> <pad> <pad> <pad> <pad> <pad> <pad> <pad> <pad> <pad> <pad> <pad> <pad> <pad> <pad> <pad> <pad> <pad> <pad> <pad> <pad> <pad> <pad> <pad> <pad> <pad> <pad> <pad> <pad> <pad> <pad> <pad> <pad> <pad> <pad> <pad> <pad> <pad> <pad> <pad> <pad> <pad> <pad> <pad> <pad> <pad> <pad> <pad> <pad> <pad> <pad> <pad> <pad> <pad> <pad> <pad> <pad> <pad> <pad> <pad> <pad> <pad> <pad> <pad> <pad> <pad> <pad> <pad> <pad> <pad> <pad> <pad> <pad> <pad> <pad> <pad> <pad> <pad> <pad> <pad> <pad> <pad> <pad> <pad> <pad> <pad> <pad> <pad> <pad> <pad> <pad> <pad> <pad> <pad> <pad> <pad> <pad> <pad> <pad> <pad> <pad> <pad> <pad> <pad> <pad> <pad> <pad> <pad> <pad> <sos> this film was just brilliant casting location scenery story direction everyone's really suited the part they played and you could just imagine being there robert <unk> is an amazing actor and now the same being director <unk> father came from the same scottish island as myself so i loved the fact there was a real connection with this film the witty remarks throughout the film were great it was just brilliant so much that i bought the film as soon as it was released for <unk> and would recommend it to everyone to watch and the fly fishing was amazing really cried at the end it was so sad and you know what they say if you cry at a film it must have been good and this definitely was also <unk> to the two little boy's that played the <unk> of norman and paul they were just brilliant children are often left out of the <unk> list i think because the stars that play them all grown up are such a big profile for the whole film but these children are amazing and should be praised for what they have done don't you think the whole story was so lovely because it was true and was someone's life after all that was shared with us all\n"
          ]
        }
      ]
    },
    {
      "cell_type": "code",
      "source": [
        "# 단어 집합의 크기를 10,000으로 제한하고, 리뷰 최대 길이는 500으로 제한하여 패딩 진행\n",
        "\n",
        "import re\n",
        "from tensorflow.keras.datasets import imdb\n",
        "from tensorflow.keras.preprocessing.sequence import pad_sequences\n",
        "from tensorflow.keras.models import Sequential\n",
        "from tensorflow.keras.layers import Dense, GRU, Embedding\n",
        "from tensorflow.keras.callbacks import EarlyStopping, ModelCheckpoint\n",
        "from tensorflow.keras.models import load_model\n",
        "\n",
        "vocab_size = 10000\n",
        "max_len = 500\n",
        "\n",
        "(X_train, y_train), (X_test, y_test) = imdb.load_data(num_words=vocab_size)\n",
        "\n",
        "X_train = pad_sequences(X_train, maxlen=max_len)\n",
        "X_test = pad_sequences(X_test, maxlen=max_len)"
      ],
      "metadata": {
        "id": "SBnNkRIDNa8d"
      },
      "execution_count": null,
      "outputs": []
    },
    {
      "cell_type": "code",
      "source": [
        "embedding_dim = 100\n",
        "hidden_units = 128\n",
        "\n",
        "model = Sequential()\n",
        "model.add(Embedding(vocab_size, embedding_dim))\n",
        "model.add(GRU(hidden_units)) #모델은 다 대 일 구조의 GRU를 사용\n",
        "model.add(Dense(1, activation='sigmoid')) #마지막 시점에서 이진 분류 문제를 수행하니까 시그모이드\n",
        "\n",
        "es = EarlyStopping(monitor='val_loss', mode='min', verbose=1, patience=4) #검증 데이터 손실(val_loss)이 증가하면, 과적합 징후므로 검증 데이터 손실이 4회 증가하면 정해진 에포크가 도달하지 못하였더라도 학습을 조기 종료\n",
        "mc = ModelCheckpoint('GRU_model.h5', monitor='val_acc', mode='max', verbose=1, save_best_only=True) #ModelCheckpoint를 사용하여 검증 데이터의 정확도(val_acc)가 이전보다 좋아질 경우에만 모델을 저장\n",
        "\n",
        "model.compile(optimizer='rmsprop', loss='binary_crossentropy', metrics=['acc'])\n",
        "history = model.fit(X_train, y_train, epochs=15, callbacks=[es, mc], batch_size=64, validation_split=0.2) #훈련 데이터의 20%를 검증 데이터로 분리해서 사용\n"
      ],
      "metadata": {
        "colab": {
          "base_uri": "https://localhost:8080/"
        },
        "id": "gSUqh5BRNf_c",
        "outputId": "a0d922a7-7586-457a-b2e3-79cc3465e9a5"
      },
      "execution_count": null,
      "outputs": [
        {
          "output_type": "stream",
          "name": "stdout",
          "text": [
            "Epoch 1/15\n",
            "313/313 [==============================] - ETA: 0s - loss: 0.5104 - acc: 0.7585\n",
            "Epoch 1: val_acc improved from -inf to 0.85340, saving model to GRU_model.h5\n",
            "313/313 [==============================] - 306s 970ms/step - loss: 0.5104 - acc: 0.7585 - val_loss: 0.4394 - val_acc: 0.8534\n",
            "Epoch 2/15\n",
            "313/313 [==============================] - ETA: 0s - loss: 0.3143 - acc: 0.8752\n",
            "Epoch 2: val_acc improved from 0.85340 to 0.88020, saving model to GRU_model.h5\n",
            "313/313 [==============================] - 299s 956ms/step - loss: 0.3143 - acc: 0.8752 - val_loss: 0.2933 - val_acc: 0.8802\n",
            "Epoch 3/15\n",
            "313/313 [==============================] - ETA: 0s - loss: 0.2413 - acc: 0.9085\n",
            "Epoch 3: val_acc improved from 0.88020 to 0.88320, saving model to GRU_model.h5\n",
            "313/313 [==============================] - 297s 949ms/step - loss: 0.2413 - acc: 0.9085 - val_loss: 0.2864 - val_acc: 0.8832\n",
            "Epoch 4/15\n",
            "313/313 [==============================] - ETA: 0s - loss: 0.1939 - acc: 0.9287\n",
            "Epoch 4: val_acc did not improve from 0.88320\n",
            "313/313 [==============================] - 296s 946ms/step - loss: 0.1939 - acc: 0.9287 - val_loss: 0.3132 - val_acc: 0.8822\n",
            "Epoch 5/15\n",
            "313/313 [==============================] - ETA: 0s - loss: 0.1517 - acc: 0.9456\n",
            "Epoch 5: val_acc improved from 0.88320 to 0.90280, saving model to GRU_model.h5\n",
            "313/313 [==============================] - 296s 947ms/step - loss: 0.1517 - acc: 0.9456 - val_loss: 0.2731 - val_acc: 0.9028\n",
            "Epoch 6/15\n",
            "313/313 [==============================] - ETA: 0s - loss: 0.1214 - acc: 0.9577\n",
            "Epoch 6: val_acc did not improve from 0.90280\n",
            "313/313 [==============================] - 292s 935ms/step - loss: 0.1214 - acc: 0.9577 - val_loss: 0.3374 - val_acc: 0.8976\n",
            "Epoch 7/15\n",
            "313/313 [==============================] - ETA: 0s - loss: 0.0927 - acc: 0.9684\n",
            "Epoch 7: val_acc did not improve from 0.90280\n",
            "313/313 [==============================] - 295s 941ms/step - loss: 0.0927 - acc: 0.9684 - val_loss: 0.3555 - val_acc: 0.8828\n",
            "Epoch 8/15\n",
            "313/313 [==============================] - ETA: 0s - loss: 0.0726 - acc: 0.9751\n",
            "Epoch 8: val_acc did not improve from 0.90280\n",
            "313/313 [==============================] - 291s 930ms/step - loss: 0.0726 - acc: 0.9751 - val_loss: 0.3486 - val_acc: 0.8830\n",
            "Epoch 9/15\n",
            "313/313 [==============================] - ETA: 0s - loss: 0.0521 - acc: 0.9840\n",
            "Epoch 9: val_acc did not improve from 0.90280\n",
            "313/313 [==============================] - 293s 935ms/step - loss: 0.0521 - acc: 0.9840 - val_loss: 0.4020 - val_acc: 0.8816\n",
            "Epoch 9: early stopping\n"
          ]
        }
      ]
    },
    {
      "cell_type": "code",
      "source": [
        "#  훈련 과정에서 검증 데이터의 정확도가 가장 높았을 때 저장된 모델인 'GRU_model.h5'를 로드\n",
        "\n",
        "loaded_model = load_model('GRU_model.h5')\n",
        "print(\"\\n 테스트 정확도: %.4f\" % (loaded_model.evaluate(X_test, y_test)[1]))"
      ],
      "metadata": {
        "colab": {
          "base_uri": "https://localhost:8080/"
        },
        "id": "TEhDphexPgnt",
        "outputId": "f358f187-9965-4107-e3df-ada3f41e6e56"
      },
      "execution_count": null,
      "outputs": [
        {
          "output_type": "stream",
          "name": "stdout",
          "text": [
            "782/782 [==============================] - 87s 111ms/step - loss: 0.2941 - acc: 0.8958\n",
            "\n",
            " 테스트 정확도: 0.8958\n"
          ]
        }
      ]
    },
    {
      "cell_type": "code",
      "source": [
        "# 임의의 문장에 대해서 리뷰의 긍,부정을 예측하고자\n",
        "# 모델에 넣기 전에 전처리를 해주어야!!\n",
        "\n",
        "def sentiment_predict(new_sentence):  # 입력된 문장에 대해서 기본적인 전처리와 정수 인코딩, 패딩을 한 후에 모델의 입력으로 사용하여 예측값을 리턴!\n",
        "  # 알파벳과 숫자를 제외하고 모두 제거 및 알파벳 소문자화\n",
        "  new_sentence = re.sub('[^0-9a-zA-Z ]', '', new_sentence).lower()\n",
        "  encoded = []\n",
        "\n",
        "  # 띄어쓰기 단위 토큰화 후 정수 인코딩\n",
        "  for word in new_sentence.split():\n",
        "    try :\n",
        "      # 단어 집합의 크기를 10,000으로 제한.\n",
        "      if word_to_index[word] <= 10000:\n",
        "        encoded.append(word_to_index[word]+3)\n",
        "      else:\n",
        "      # 10,000 이상의 숫자는 <unk> 토큰으로 변환.\n",
        "        encoded.append(2)\n",
        "    # 단어 집합에 없는 단어는 <unk> 토큰으로 변환.\n",
        "    except KeyError:\n",
        "      encoded.append(2)\n",
        "\n",
        "  pad_sequence = pad_sequences([encoded], maxlen=max_len)\n",
        "  score = float(loaded_model.predict(pad_sequence)) # 예측\n",
        "\n",
        "  if(score > 0.5):\n",
        "    print(\"{:.2f}% 확률로 긍정 리뷰입니다.\".format(score * 100))\n",
        "  else:\n",
        "    print(\"{:.2f}% 확률로 부정 리뷰입니다.\".format((1 - score) * 100))"
      ],
      "metadata": {
        "id": "h4qNk1xkPl1a"
      },
      "execution_count": null,
      "outputs": []
    },
    {
      "cell_type": "code",
      "source": [
        "# 블랙팬서의 1점 리뷰 부정으로 예측?\n",
        "\n",
        "test_input = \"This movie was just way too overrated. The fighting was not professional and in slow motion. I was expecting more from a 200 million budget movie. The little sister of T.Challa was just trying too hard to be funny. The story was really dumb as well. Don't watch this movie if you are going because others say its great unless you are a Black Panther fan or Marvels fan.\"\n",
        "\n",
        "sentiment_predict(test_input)"
      ],
      "metadata": {
        "colab": {
          "base_uri": "https://localhost:8080/"
        },
        "id": "gWm4G8OJSHzP",
        "outputId": "6cc8f7ba-b199-4f41-9d2f-0368d31d93a7"
      },
      "execution_count": null,
      "outputs": [
        {
          "output_type": "stream",
          "name": "stdout",
          "text": [
            "98.25% 확률로 부정 리뷰입니다.\n"
          ]
        }
      ]
    },
    {
      "cell_type": "code",
      "source": [
        "#어벤져스의 10점 리뷰 긍정?\n",
        "\n",
        "test_input = \" I was lucky enough to be included in the group to see the advanced screening in Melbourne on the 15th of April, 2012. And, firstly, I need to say a big thank-you to Disney and Marvel Studios. \\\n",
        "Now, the film... how can I even begin to explain how I feel about this film? It is, as the title of this review says a 'comic book triumph'. I went into the film with very, very high expectations and I was not disappointed. \\\n",
        "Seeing Joss Whedon's direction and envisioning of the film come to life on the big screen is perfect. The script is amazingly detailed and laced with sharp wit a humor. The special effects are literally mind-blowing and the action scenes are both hard-hitting and beautifully choreographed.\"\n",
        "\n",
        "sentiment_predict(test_input)"
      ],
      "metadata": {
        "colab": {
          "base_uri": "https://localhost:8080/"
        },
        "id": "aWL9-gHBS2Y8",
        "outputId": "08fa0e72-a28c-4406-ea94-099506404433"
      },
      "execution_count": null,
      "outputs": [
        {
          "output_type": "stream",
          "name": "stdout",
          "text": [
            "99.90% 확률로 긍정 리뷰입니다.\n"
          ]
        }
      ]
    },
    {
      "cell_type": "markdown",
      "source": [
        "#가중치 초기화\n",
        "- 시그모이드 함수니까 세이비어 초기화 방법 씀"
      ],
      "metadata": {
        "id": "DE6BhZ5DDXHr"
      }
    },
    {
      "cell_type": "code",
      "source": [
        "import tensorflow as tf\n",
        "initializer = tf.keras.initializers.GlorotNormal()"
      ],
      "metadata": {
        "id": "1v3Kg9tcMDMF"
      },
      "execution_count": null,
      "outputs": []
    },
    {
      "cell_type": "code",
      "source": [
        "embedding_dim = 100\n",
        "hidden_units = 128\n",
        "\n",
        "model = Sequential()\n",
        "model.add(Embedding(vocab_size, embedding_dim))\n",
        "model.add(GRU(hidden_units)) #모델은 다 대 일 구조의 GRU를 사용\n",
        "model.add(Dense(1, activation='sigmoid',kernel_initializer=initializer)) #initialized!!!!!!!!!!!!!!!!!!!!!!!!!!!!!!\n",
        "\n",
        "es = EarlyStopping(monitor='val_loss', mode='min', verbose=1, patience=4) \n",
        "mc = ModelCheckpoint('GRU_model.h5', monitor='val_acc', mode='max', verbose=1, save_best_only=True) \n",
        "\n",
        "model.compile(optimizer='rmsprop', loss='binary_crossentropy', metrics=['acc'])\n",
        "history = model.fit(X_train, y_train, epochs=15, callbacks=[es, mc], batch_size=64, validation_split=0.2) "
      ],
      "metadata": {
        "colab": {
          "base_uri": "https://localhost:8080/"
        },
        "outputId": "7ed11773-d657-40c7-9967-19fa3485798b",
        "id": "Kb1czH_YMKDg"
      },
      "execution_count": null,
      "outputs": [
        {
          "output_type": "stream",
          "name": "stdout",
          "text": [
            "Epoch 1/15\n",
            "313/313 [==============================] - ETA: 0s - loss: 0.5062 - acc: 0.7570\n",
            "Epoch 1: val_acc improved from -inf to 0.82760, saving model to GRU_model.h5\n",
            "313/313 [==============================] - 298s 945ms/step - loss: 0.5062 - acc: 0.7570 - val_loss: 0.3846 - val_acc: 0.8276\n",
            "Epoch 2/15\n",
            "313/313 [==============================] - ETA: 0s - loss: 0.3331 - acc: 0.8702\n",
            "Epoch 2: val_acc improved from 0.82760 to 0.85220, saving model to GRU_model.h5\n",
            "313/313 [==============================] - 296s 945ms/step - loss: 0.3331 - acc: 0.8702 - val_loss: 0.3482 - val_acc: 0.8522\n",
            "Epoch 3/15\n",
            "313/313 [==============================] - ETA: 0s - loss: 0.2691 - acc: 0.9025\n",
            "Epoch 3: val_acc improved from 0.85220 to 0.89300, saving model to GRU_model.h5\n",
            "313/313 [==============================] - 300s 959ms/step - loss: 0.2691 - acc: 0.9025 - val_loss: 0.2845 - val_acc: 0.8930\n",
            "Epoch 4/15\n",
            "313/313 [==============================] - ETA: 0s - loss: 0.2031 - acc: 0.9229\n",
            "Epoch 4: val_acc did not improve from 0.89300\n",
            "313/313 [==============================] - 293s 938ms/step - loss: 0.2031 - acc: 0.9229 - val_loss: 0.5363 - val_acc: 0.8040\n",
            "Epoch 5/15\n",
            "313/313 [==============================] - ETA: 0s - loss: 0.1623 - acc: 0.9413\n",
            "Epoch 5: val_acc did not improve from 0.89300\n",
            "313/313 [==============================] - 293s 935ms/step - loss: 0.1623 - acc: 0.9413 - val_loss: 0.2811 - val_acc: 0.8852\n",
            "Epoch 6/15\n",
            "313/313 [==============================] - ETA: 0s - loss: 0.1281 - acc: 0.9541\n",
            "Epoch 6: val_acc did not improve from 0.89300\n",
            "313/313 [==============================] - 296s 945ms/step - loss: 0.1281 - acc: 0.9541 - val_loss: 0.2872 - val_acc: 0.8926\n",
            "Epoch 7/15\n",
            "313/313 [==============================] - ETA: 0s - loss: 0.1009 - acc: 0.9645\n",
            "Epoch 7: val_acc did not improve from 0.89300\n",
            "313/313 [==============================] - 293s 936ms/step - loss: 0.1009 - acc: 0.9645 - val_loss: 0.3033 - val_acc: 0.8780\n",
            "Epoch 8/15\n",
            "313/313 [==============================] - ETA: 0s - loss: 0.0770 - acc: 0.9740\n",
            "Epoch 8: val_acc did not improve from 0.89300\n",
            "313/313 [==============================] - 294s 940ms/step - loss: 0.0770 - acc: 0.9740 - val_loss: 0.3443 - val_acc: 0.8904\n",
            "Epoch 9/15\n",
            "313/313 [==============================] - ETA: 0s - loss: 0.0584 - acc: 0.9804\n",
            "Epoch 9: val_acc did not improve from 0.89300\n",
            "313/313 [==============================] - 294s 938ms/step - loss: 0.0584 - acc: 0.9804 - val_loss: 0.3820 - val_acc: 0.8884\n",
            "Epoch 9: early stopping\n"
          ]
        }
      ]
    },
    {
      "cell_type": "code",
      "source": [
        "#  훈련 과정에서 검증 데이터의 정확도가 가장 높았을 때 저장된 모델인 'GRU_model.h5'를 로드\n",
        "\n",
        "loaded_model = load_model('GRU_model.h5')\n",
        "print(\"\\n 테스트 정확도: %.4f\" % (loaded_model.evaluate(X_test, y_test)[1]))"
      ],
      "metadata": {
        "colab": {
          "base_uri": "https://localhost:8080/"
        },
        "outputId": "c3b3d27d-4a9e-4622-8fc4-5133827c6f3b",
        "id": "ItwTUej4MKDh"
      },
      "execution_count": null,
      "outputs": [
        {
          "output_type": "stream",
          "name": "stdout",
          "text": [
            "782/782 [==============================] - 86s 109ms/step - loss: 0.3153 - acc: 0.8779\n",
            "\n",
            " 테스트 정확도: 0.8779\n"
          ]
        }
      ]
    },
    {
      "cell_type": "code",
      "source": [
        "# 임의의 문장에 대해서 리뷰의 긍,부정을 예측하고자\n",
        "# 모델에 넣기 전에 전처리를 해주어야!!\n",
        "\n",
        "def sentiment_predict(new_sentence):  # 입력된 문장에 대해서 기본적인 전처리와 정수 인코딩, 패딩을 한 후에 모델의 입력으로 사용하여 예측값을 리턴!\n",
        "  # 알파벳과 숫자를 제외하고 모두 제거 및 알파벳 소문자화\n",
        "  new_sentence = re.sub('[^0-9a-zA-Z ]', '', new_sentence).lower()\n",
        "  encoded = []\n",
        "\n",
        "  # 띄어쓰기 단위 토큰화 후 정수 인코딩\n",
        "  for word in new_sentence.split():\n",
        "    try :\n",
        "      # 단어 집합의 크기를 10,000으로 제한.\n",
        "      if word_to_index[word] <= 10000:\n",
        "        encoded.append(word_to_index[word]+3)\n",
        "      else:\n",
        "      # 10,000 이상의 숫자는 <unk> 토큰으로 변환.\n",
        "        encoded.append(2)\n",
        "    # 단어 집합에 없는 단어는 <unk> 토큰으로 변환.\n",
        "    except KeyError:\n",
        "      encoded.append(2)\n",
        "\n",
        "  pad_sequence = pad_sequences([encoded], maxlen=max_len)\n",
        "  score = float(loaded_model.predict(pad_sequence)) # 예측\n",
        "\n",
        "  if(score > 0.5):\n",
        "    print(\"{:.2f}% 확률로 긍정 리뷰입니다.\".format(score * 100))\n",
        "  else:\n",
        "    print(\"{:.2f}% 확률로 부정 리뷰입니다.\".format((1 - score) * 100))"
      ],
      "metadata": {
        "id": "JWxLMnhHMKDh"
      },
      "execution_count": null,
      "outputs": []
    },
    {
      "cell_type": "code",
      "source": [
        "# 블랙팬서의 1점 리뷰 부정으로 예측?\n",
        "\n",
        "test_input = \"This movie was just way too overrated. The fighting was not professional and in slow motion. I was expecting more from a 200 million budget movie. The little sister of T.Challa was just trying too hard to be funny. The story was really dumb as well. Don't watch this movie if you are going because others say its great unless you are a Black Panther fan or Marvels fan.\"\n",
        "\n",
        "sentiment_predict(test_input)"
      ],
      "metadata": {
        "colab": {
          "base_uri": "https://localhost:8080/"
        },
        "outputId": "d62998e1-25a4-428a-e06c-f5a757aa06b4",
        "id": "TTS-cbRaMKDi"
      },
      "execution_count": null,
      "outputs": [
        {
          "output_type": "stream",
          "name": "stdout",
          "text": [
            "94.87% 확률로 부정 리뷰입니다.\n"
          ]
        }
      ]
    },
    {
      "cell_type": "code",
      "source": [
        "#어벤져스의 10점 리뷰 긍정?\n",
        "\n",
        "test_input = \" I was lucky enough to be included in the group to see the advanced screening in Melbourne on the 15th of April, 2012. And, firstly, I need to say a big thank-you to Disney and Marvel Studios. \\\n",
        "Now, the film... how can I even begin to explain how I feel about this film? It is, as the title of this review says a 'comic book triumph'. I went into the film with very, very high expectations and I was not disappointed. \\\n",
        "Seeing Joss Whedon's direction and envisioning of the film come to life on the big screen is perfect. The script is amazingly detailed and laced with sharp wit a humor. The special effects are literally mind-blowing and the action scenes are both hard-hitting and beautifully choreographed.\"\n",
        "\n",
        "sentiment_predict(test_input)"
      ],
      "metadata": {
        "colab": {
          "base_uri": "https://localhost:8080/"
        },
        "outputId": "6a1b2e91-e8e7-4ce8-b482-3caeaec61d1d",
        "id": "FaCUYkz5MKDi"
      },
      "execution_count": null,
      "outputs": [
        {
          "output_type": "stream",
          "name": "stdout",
          "text": [
            "99.26% 확률로 긍정 리뷰입니다.\n"
          ]
        }
      ]
    },
    {
      "cell_type": "markdown",
      "source": [
        "ㅋ 둘다 낮아짐"
      ],
      "metadata": {
        "id": "gXeiGQgZYwwr"
      }
    },
    {
      "cell_type": "markdown",
      "source": [
        "#복잡도 (은닉층의 수나 매개변수의 수 등을 줄여본다. "
      ],
      "metadata": {
        "id": "0XA6eKAPZIZe"
      }
    },
    {
      "cell_type": "markdown",
      "source": [
        "##embedding_dim = 10, hidden_units = 12\n"
      ],
      "metadata": {
        "id": "BAzNLj83cewG"
      }
    },
    {
      "cell_type": "code",
      "source": [
        "embedding_dim = 10\n",
        "hidden_units = 12\n",
        "\n",
        "model = Sequential()\n",
        "model.add(Embedding(vocab_size, embedding_dim))\n",
        "model.add(GRU(hidden_units)) #모델은 다 대 일 구조의 GRU를 사용\n",
        "model.add(Dense(1, activation='sigmoid'))\n",
        "\n",
        "es = EarlyStopping(monitor='val_loss', mode='min', verbose=1, patience=4) \n",
        "mc = ModelCheckpoint('GRU_model.h5', monitor='val_acc', mode='max', verbose=1, save_best_only=True) \n",
        "\n",
        "model.compile(optimizer='rmsprop', loss='binary_crossentropy', metrics=['acc'])\n",
        "history = model.fit(X_train, y_train, epochs=15, callbacks=[es, mc], batch_size=64, validation_split=0.2) "
      ],
      "metadata": {
        "colab": {
          "base_uri": "https://localhost:8080/"
        },
        "outputId": "21f880b7-5df6-432d-d129-92160274c1ec",
        "id": "XumCujr_ZSl_"
      },
      "execution_count": null,
      "outputs": [
        {
          "output_type": "stream",
          "name": "stdout",
          "text": [
            "Epoch 1/15\n",
            "313/313 [==============================] - ETA: 0s - loss: 0.5694 - acc: 0.6952\n",
            "Epoch 1: val_acc improved from -inf to 0.82440, saving model to GRU_model.h5\n",
            "313/313 [==============================] - 76s 234ms/step - loss: 0.5694 - acc: 0.6952 - val_loss: 0.4045 - val_acc: 0.8244\n",
            "Epoch 2/15\n",
            "313/313 [==============================] - ETA: 0s - loss: 0.3283 - acc: 0.8647\n",
            "Epoch 2: val_acc improved from 0.82440 to 0.84380, saving model to GRU_model.h5\n",
            "313/313 [==============================] - 71s 226ms/step - loss: 0.3283 - acc: 0.8647 - val_loss: 0.3879 - val_acc: 0.8438\n",
            "Epoch 3/15\n",
            "313/313 [==============================] - ETA: 0s - loss: 0.2568 - acc: 0.9011\n",
            "Epoch 3: val_acc improved from 0.84380 to 0.87680, saving model to GRU_model.h5\n",
            "313/313 [==============================] - 72s 232ms/step - loss: 0.2568 - acc: 0.9011 - val_loss: 0.3012 - val_acc: 0.8768\n",
            "Epoch 4/15\n",
            "313/313 [==============================] - ETA: 0s - loss: 0.2187 - acc: 0.9168\n",
            "Epoch 4: val_acc improved from 0.87680 to 0.87900, saving model to GRU_model.h5\n",
            "313/313 [==============================] - 74s 235ms/step - loss: 0.2187 - acc: 0.9168 - val_loss: 0.3073 - val_acc: 0.8790\n",
            "Epoch 5/15\n",
            "313/313 [==============================] - ETA: 0s - loss: 0.1932 - acc: 0.9308\n",
            "Epoch 5: val_acc did not improve from 0.87900\n",
            "313/313 [==============================] - 76s 242ms/step - loss: 0.1932 - acc: 0.9308 - val_loss: 0.3746 - val_acc: 0.8476\n",
            "Epoch 6/15\n",
            "313/313 [==============================] - ETA: 0s - loss: 0.1752 - acc: 0.9373\n",
            "Epoch 6: val_acc did not improve from 0.87900\n",
            "313/313 [==============================] - 71s 226ms/step - loss: 0.1752 - acc: 0.9373 - val_loss: 0.4055 - val_acc: 0.8568\n",
            "Epoch 7/15\n",
            "313/313 [==============================] - ETA: 0s - loss: 0.1616 - acc: 0.9420\n",
            "Epoch 7: val_acc did not improve from 0.87900\n",
            "313/313 [==============================] - 70s 225ms/step - loss: 0.1616 - acc: 0.9420 - val_loss: 0.3303 - val_acc: 0.8784\n",
            "Epoch 7: early stopping\n"
          ]
        }
      ]
    },
    {
      "cell_type": "code",
      "source": [
        "#  훈련 과정에서 검증 데이터의 정확도가 가장 높았을 때 저장된 모델인 'GRU_model.h5'를 로드\n",
        "\n",
        "loaded_model = load_model('GRU_model.h5')\n",
        "print(\"\\n 테스트 정확도: %.4f\" % (loaded_model.evaluate(X_test, y_test)[1]))"
      ],
      "metadata": {
        "colab": {
          "base_uri": "https://localhost:8080/"
        },
        "outputId": "3599a7e5-6935-477c-eef1-e7a7054eed7b",
        "id": "wV6UUQhjZSmA"
      },
      "execution_count": null,
      "outputs": [
        {
          "output_type": "stream",
          "name": "stdout",
          "text": [
            "782/782 [==============================] - 26s 32ms/step - loss: 0.3199 - acc: 0.8728\n",
            "\n",
            " 테스트 정확도: 0.8728\n"
          ]
        }
      ]
    },
    {
      "cell_type": "code",
      "source": [
        "# 블랙팬서의 1점 리뷰 부정으로 예측?\n",
        "\n",
        "test_input = \"This movie was just way too overrated. The fighting was not professional and in slow motion. I was expecting more from a 200 million budget movie. The little sister of T.Challa was just trying too hard to be funny. The story was really dumb as well. Don't watch this movie if you are going because others say its great unless you are a Black Panther fan or Marvels fan.\"\n",
        "\n",
        "sentiment_predict(test_input)"
      ],
      "metadata": {
        "colab": {
          "base_uri": "https://localhost:8080/"
        },
        "outputId": "fcde9af0-2f27-470b-9d55-5e02a9916412",
        "id": "1sYqfr0EZSmB"
      },
      "execution_count": null,
      "outputs": [
        {
          "output_type": "stream",
          "name": "stdout",
          "text": [
            "73.40% 확률로 긍정 리뷰입니다.\n"
          ]
        }
      ]
    },
    {
      "cell_type": "code",
      "source": [
        "#어벤져스의 10점 리뷰 긍정?\n",
        "\n",
        "test_input = \" I was lucky enough to be included in the group to see the advanced screening in Melbourne on the 15th of April, 2012. And, firstly, I need to say a big thank-you to Disney and Marvel Studios. \\\n",
        "Now, the film... how can I even begin to explain how I feel about this film? It is, as the title of this review says a 'comic book triumph'. I went into the film with very, very high expectations and I was not disappointed. \\\n",
        "Seeing Joss Whedon's direction and envisioning of the film come to life on the big screen is perfect. The script is amazingly detailed and laced with sharp wit a humor. The special effects are literally mind-blowing and the action scenes are both hard-hitting and beautifully choreographed.\"\n",
        "\n",
        "sentiment_predict(test_input)"
      ],
      "metadata": {
        "colab": {
          "base_uri": "https://localhost:8080/"
        },
        "outputId": "5180227a-7478-4539-f4b3-a92f6ae15b41",
        "id": "ezUR0xCJZSmB"
      },
      "execution_count": null,
      "outputs": [
        {
          "output_type": "stream",
          "name": "stdout",
          "text": [
            "99.31% 확률로 긍정 리뷰입니다.\n"
          ]
        }
      ]
    },
    {
      "cell_type": "code",
      "source": [
        "#10\n",
        "sentiment_predict('''\n",
        "With the sixth book now out (and one more to go), I feel that I should review \"Harry Potter and the Sorcerer's Stone\". By now, the Harry Potter books have become so well entrenched in our culture that I don't even need to explain the story. But I can say that director Chris Columbus did a great job adapting the book to the silver screen.\n",
        "\n",
        "The cast does very well with the roles: newcomer Daniel Radcliffe plays Harry Potter, making him strong-willed but vulnerable. Rupert Grint and Emma Watson play his friends, the uptight Ron Weasley and the no-nonsense Hermione Granger. The Hogwarts staff is played by a who's-who of British actors: Richard Harris as headmaster Albus Dumbledore, Maggie Smith as anthropomorphic Prof. Minerva McGonagall (and one can detect a hint of Miss Jean Brodie there), Alan Rickman as unctuous Prof. Severus Snape, and Robbie Coltrane as gamekeeper Rubeus Hagrid. Others include Zoe Wanamaker as Quidditch teacher Madame Hooch, Julie Walters as Molly Weasley (Ron's mum), Richard Griffiths as Vernon Dursley (Harry's mean uncle) and even John Cleese as Nearly-Headless-Nick, one of the school ghosts.\n",
        "\n",
        "All in all, this is a movie for the ages. I know that religious fundamentalists will claim that the Harry Potter books are promoting witchcraft, but are we really going to believe those kinds of people, considering that they claimed the same things about \"Bewitched\"? Harry Potter will live forever - something that no Muggle can do.\n",
        "''')"
      ],
      "metadata": {
        "colab": {
          "base_uri": "https://localhost:8080/"
        },
        "id": "45NKEc1ecPA1",
        "outputId": "d739df49-7b8a-4920-c108-0f32f796b773"
      },
      "execution_count": null,
      "outputs": [
        {
          "output_type": "stream",
          "name": "stdout",
          "text": [
            "83.72% 확률로 긍정 리뷰입니다.\n"
          ]
        }
      ]
    },
    {
      "cell_type": "markdown",
      "source": [
        "- 속도가 진짜 빨라짐!!^^\n",
        "- 근데 성능 최악ㅋ 전체 성능은 크게 다르지 않은데 뭐냥\n",
        "- ec도 7에서!!!!!!!\n",
        "\n"
      ],
      "metadata": {
        "id": "GqPNba7JZaQ4"
      }
    },
    {
      "cell_type": "markdown",
      "source": [
        "##embedding_dim = 50, hidden_units = 64\n"
      ],
      "metadata": {
        "id": "NIVXqkZfchwC"
      }
    },
    {
      "cell_type": "code",
      "source": [
        "embedding_dim = 50\n",
        "hidden_units = 64\n",
        "\n",
        "model = Sequential()\n",
        "model.add(Embedding(vocab_size, embedding_dim))\n",
        "model.add(GRU(hidden_units)) #모델은 다 대 일 구조의 GRU를 사용\n",
        "model.add(Dense(1, activation='sigmoid'))\n",
        "\n",
        "es = EarlyStopping(monitor='val_loss', mode='min', verbose=1, patience=4) \n",
        "mc = ModelCheckpoint('GRU_model.h5', monitor='val_acc', mode='max', verbose=1, save_best_only=True) \n",
        "\n",
        "model.compile(optimizer='rmsprop', loss='binary_crossentropy', metrics=['acc'])\n",
        "history = model.fit(X_train, y_train, epochs=15, callbacks=[es, mc], batch_size=64, validation_split=0.2) "
      ],
      "metadata": {
        "colab": {
          "base_uri": "https://localhost:8080/"
        },
        "outputId": "8e921890-c367-405d-f768-2c88c6d453b5",
        "id": "t-TzV3fBcYck"
      },
      "execution_count": null,
      "outputs": [
        {
          "output_type": "stream",
          "name": "stdout",
          "text": [
            "Epoch 1/15\n",
            "313/313 [==============================] - ETA: 0s - loss: 0.4902 - acc: 0.7728\n",
            "Epoch 1: val_acc improved from -inf to 0.84600, saving model to GRU_model.h5\n",
            "313/313 [==============================] - 134s 421ms/step - loss: 0.4902 - acc: 0.7728 - val_loss: 0.3588 - val_acc: 0.8460\n",
            "Epoch 2/15\n",
            "313/313 [==============================] - ETA: 0s - loss: 0.2941 - acc: 0.8819\n",
            "Epoch 2: val_acc did not improve from 0.84600\n",
            "313/313 [==============================] - 129s 412ms/step - loss: 0.2941 - acc: 0.8819 - val_loss: 0.3986 - val_acc: 0.8300\n",
            "Epoch 3/15\n",
            "313/313 [==============================] - ETA: 0s - loss: 0.2481 - acc: 0.9056\n",
            "Epoch 3: val_acc improved from 0.84600 to 0.86080, saving model to GRU_model.h5\n",
            "313/313 [==============================] - 135s 431ms/step - loss: 0.2481 - acc: 0.9056 - val_loss: 0.3374 - val_acc: 0.8608\n",
            "Epoch 4/15\n",
            "313/313 [==============================] - ETA: 0s - loss: 0.2084 - acc: 0.9214\n",
            "Epoch 4: val_acc did not improve from 0.86080\n",
            "313/313 [==============================] - 128s 410ms/step - loss: 0.2084 - acc: 0.9214 - val_loss: 0.4175 - val_acc: 0.8132\n",
            "Epoch 5/15\n",
            "313/313 [==============================] - ETA: 0s - loss: 0.1854 - acc: 0.9322\n",
            "Epoch 5: val_acc improved from 0.86080 to 0.88200, saving model to GRU_model.h5\n",
            "313/313 [==============================] - 133s 426ms/step - loss: 0.1854 - acc: 0.9322 - val_loss: 0.2938 - val_acc: 0.8820\n",
            "Epoch 6/15\n",
            "313/313 [==============================] - ETA: 0s - loss: 0.1605 - acc: 0.9434\n",
            "Epoch 6: val_acc did not improve from 0.88200\n",
            "313/313 [==============================] - 134s 427ms/step - loss: 0.1605 - acc: 0.9434 - val_loss: 0.3262 - val_acc: 0.8580\n",
            "Epoch 7/15\n",
            "313/313 [==============================] - ETA: 0s - loss: 0.1392 - acc: 0.9506\n",
            "Epoch 7: val_acc improved from 0.88200 to 0.89020, saving model to GRU_model.h5\n",
            "313/313 [==============================] - 132s 421ms/step - loss: 0.1392 - acc: 0.9506 - val_loss: 0.2982 - val_acc: 0.8902\n",
            "Epoch 8/15\n",
            "313/313 [==============================] - ETA: 0s - loss: 0.1224 - acc: 0.9557\n",
            "Epoch 8: val_acc improved from 0.89020 to 0.89060, saving model to GRU_model.h5\n",
            "313/313 [==============================] - 131s 418ms/step - loss: 0.1224 - acc: 0.9557 - val_loss: 0.2968 - val_acc: 0.8906\n",
            "Epoch 9/15\n",
            "313/313 [==============================] - ETA: 0s - loss: 0.1028 - acc: 0.9628\n",
            "Epoch 9: val_acc did not improve from 0.89060\n",
            "313/313 [==============================] - 131s 417ms/step - loss: 0.1028 - acc: 0.9628 - val_loss: 0.3283 - val_acc: 0.8788\n",
            "Epoch 9: early stopping\n"
          ]
        }
      ]
    },
    {
      "cell_type": "code",
      "source": [
        "#  훈련 과정에서 검증 데이터의 정확도가 가장 높았을 때 저장된 모델인 'GRU_model.h5'를 로드\n",
        "\n",
        "loaded_model = load_model('GRU_model.h5')\n",
        "print(\"\\n 테스트 정확도: %.4f\" % (loaded_model.evaluate(X_test, y_test)[1]))"
      ],
      "metadata": {
        "colab": {
          "base_uri": "https://localhost:8080/"
        },
        "outputId": "8900c562-209f-495b-d67a-4fefe05d3f62",
        "id": "o6_O-KkGcYcl"
      },
      "execution_count": null,
      "outputs": [
        {
          "output_type": "stream",
          "name": "stdout",
          "text": [
            "782/782 [==============================] - 52s 66ms/step - loss: 0.3273 - acc: 0.8801\n",
            "\n",
            " 테스트 정확도: 0.8801\n"
          ]
        }
      ]
    },
    {
      "cell_type": "code",
      "source": [
        "# 블랙팬서의 1점 리뷰 부정으로 예측?\n",
        "\n",
        "test_input = \"This movie was just way too overrated. The fighting was not professional and in slow motion. I was expecting more from a 200 million budget movie. The little sister of T.Challa was just trying too hard to be funny. The story was really dumb as well. Don't watch this movie if you are going because others say its great unless you are a Black Panther fan or Marvels fan.\"\n",
        "\n",
        "sentiment_predict(test_input)"
      ],
      "metadata": {
        "colab": {
          "base_uri": "https://localhost:8080/"
        },
        "outputId": "7c529926-abe0-44f3-f0e0-1ac5a5ee8c9d",
        "id": "Vq72jyn8cYcm"
      },
      "execution_count": null,
      "outputs": [
        {
          "output_type": "stream",
          "name": "stdout",
          "text": [
            "96.20% 확률로 부정 리뷰입니다.\n"
          ]
        }
      ]
    },
    {
      "cell_type": "code",
      "source": [
        "#어벤져스의 10점 리뷰 긍정?\n",
        "\n",
        "test_input = \" I was lucky enough to be included in the group to see the advanced screening in Melbourne on the 15th of April, 2012. And, firstly, I need to say a big thank-you to Disney and Marvel Studios. \\\n",
        "Now, the film... how can I even begin to explain how I feel about this film? It is, as the title of this review says a 'comic book triumph'. I went into the film with very, very high expectations and I was not disappointed. \\\n",
        "Seeing Joss Whedon's direction and envisioning of the film come to life on the big screen is perfect. The script is amazingly detailed and laced with sharp wit a humor. The special effects are literally mind-blowing and the action scenes are both hard-hitting and beautifully choreographed.\"\n",
        "\n",
        "sentiment_predict(test_input)"
      ],
      "metadata": {
        "colab": {
          "base_uri": "https://localhost:8080/"
        },
        "outputId": "2ff454aa-2b1c-47bd-e512-73a56998e862",
        "id": "ICPiCO2ocYcm"
      },
      "execution_count": null,
      "outputs": [
        {
          "output_type": "stream",
          "name": "stdout",
          "text": [
            "99.18% 확률로 긍정 리뷰입니다.\n"
          ]
        }
      ]
    },
    {
      "cell_type": "code",
      "source": [
        "#10\n",
        "sentiment_predict('''\n",
        "With the sixth book now out (and one more to go), I feel that I should review \"Harry Potter and the Sorcerer's Stone\". By now, the Harry Potter books have become so well entrenched in our culture that I don't even need to explain the story. But I can say that director Chris Columbus did a great job adapting the book to the silver screen.\n",
        "\n",
        "The cast does very well with the roles: newcomer Daniel Radcliffe plays Harry Potter, making him strong-willed but vulnerable. Rupert Grint and Emma Watson play his friends, the uptight Ron Weasley and the no-nonsense Hermione Granger. The Hogwarts staff is played by a who's-who of British actors: Richard Harris as headmaster Albus Dumbledore, Maggie Smith as anthropomorphic Prof. Minerva McGonagall (and one can detect a hint of Miss Jean Brodie there), Alan Rickman as unctuous Prof. Severus Snape, and Robbie Coltrane as gamekeeper Rubeus Hagrid. Others include Zoe Wanamaker as Quidditch teacher Madame Hooch, Julie Walters as Molly Weasley (Ron's mum), Richard Griffiths as Vernon Dursley (Harry's mean uncle) and even John Cleese as Nearly-Headless-Nick, one of the school ghosts.\n",
        "\n",
        "All in all, this is a movie for the ages. I know that religious fundamentalists will claim that the Harry Potter books are promoting witchcraft, but are we really going to believe those kinds of people, considering that they claimed the same things about \"Bewitched\"? Harry Potter will live forever - something that no Muggle can do.\n",
        "''')"
      ],
      "metadata": {
        "colab": {
          "base_uri": "https://localhost:8080/"
        },
        "outputId": "5eb275b8-d228-4aca-8d35-2e8df73e81ee",
        "id": "VakYg2rwcYcn"
      },
      "execution_count": null,
      "outputs": [
        {
          "output_type": "stream",
          "name": "stdout",
          "text": [
            "88.35% 확률로 긍정 리뷰입니다.\n"
          ]
        }
      ]
    },
    {
      "cell_type": "markdown",
      "source": [
        "- 낫밷. \n",
        "- 빠르기도 하고 정확도도 낫밷!\n",
        "- 복잡도 줄일 땐 적당히 줄이기. "
      ],
      "metadata": {
        "id": "Uyvmr_y8hxlc"
      }
    },
    {
      "cell_type": "markdown",
      "source": [
        "#other hyperparameters jojeong"
      ],
      "metadata": {
        "id": "iJD5yfOPczbi"
      }
    },
    {
      "cell_type": "markdown",
      "source": [
        "##activation=tanh"
      ],
      "metadata": {
        "id": "NrWv0CGWdMQH"
      }
    },
    {
      "cell_type": "code",
      "source": [
        "embedding_dim = 100\n",
        "hidden_units = 128\n",
        "\n",
        "model = Sequential()\n",
        "model.add(Embedding(vocab_size, embedding_dim))\n",
        "model.add(GRU(hidden_units)) #모델은 다 대 일 구조의 GRU를 사용\n",
        "model.add(Dense(1, activation='tanh'))\n",
        "\n",
        "es = EarlyStopping(monitor='val_loss', mode='min', verbose=1, patience=4) \n",
        "mc = ModelCheckpoint('GRU_model.h5', monitor='val_acc', mode='max', verbose=1, save_best_only=True) \n",
        "\n",
        "model.compile(optimizer='rmsprop', loss='binary_crossentropy', metrics=['acc'])\n",
        "history = model.fit(X_train, y_train, epochs=15, callbacks=[es, mc], batch_size=64, validation_split=0.2) "
      ],
      "metadata": {
        "colab": {
          "base_uri": "https://localhost:8080/"
        },
        "outputId": "9031a9c9-2e31-4e53-96b8-b4b001bf118c",
        "id": "TYcI-p43c2TR"
      },
      "execution_count": null,
      "outputs": [
        {
          "output_type": "stream",
          "name": "stdout",
          "text": [
            "Epoch 1/15\n",
            "313/313 [==============================] - ETA: 0s - loss: 6.3469 - acc: 0.5174\n",
            "Epoch 1: val_acc improved from -inf to 0.49380, saving model to GRU_model.h5\n",
            "313/313 [==============================] - 267s 846ms/step - loss: 6.3469 - acc: 0.5174 - val_loss: 7.7192 - val_acc: 0.4938\n",
            "Epoch 2/15\n",
            "313/313 [==============================] - ETA: 0s - loss: 7.6010 - acc: 0.5016\n",
            "Epoch 2: val_acc did not improve from 0.49380\n",
            "313/313 [==============================] - 263s 842ms/step - loss: 7.6010 - acc: 0.5016 - val_loss: 7.7192 - val_acc: 0.4938\n",
            "Epoch 3/15\n",
            "313/313 [==============================] - ETA: 0s - loss: 7.6010 - acc: 0.5016\n",
            "Epoch 3: val_acc did not improve from 0.49380\n",
            "313/313 [==============================] - 265s 846ms/step - loss: 7.6010 - acc: 0.5016 - val_loss: 7.7192 - val_acc: 0.4938\n",
            "Epoch 4/15\n",
            "313/313 [==============================] - ETA: 0s - loss: 7.6010 - acc: 0.5016\n",
            "Epoch 4: val_acc did not improve from 0.49380\n",
            "313/313 [==============================] - 262s 838ms/step - loss: 7.6010 - acc: 0.5016 - val_loss: 7.7192 - val_acc: 0.4938\n",
            "Epoch 5/15\n",
            "313/313 [==============================] - ETA: 0s - loss: 7.6010 - acc: 0.5016\n",
            "Epoch 5: val_acc did not improve from 0.49380\n",
            "313/313 [==============================] - 261s 834ms/step - loss: 7.6010 - acc: 0.5016 - val_loss: 7.7192 - val_acc: 0.4938\n",
            "Epoch 5: early stopping\n"
          ]
        }
      ]
    },
    {
      "cell_type": "code",
      "source": [
        "#  훈련 과정에서 검증 데이터의 정확도가 가장 높았을 때 저장된 모델인 'GRU_model.h5'를 로드\n",
        "\n",
        "loaded_model = load_model('GRU_model.h5')\n",
        "print(\"\\n 테스트 정확도: %.4f\" % (loaded_model.evaluate(X_test, y_test)[1]))"
      ],
      "metadata": {
        "colab": {
          "base_uri": "https://localhost:8080/"
        },
        "id": "G35r4bHKc2TS",
        "outputId": "eaa2d1b3-d137-4972-bb4d-9a51dede1f9f"
      },
      "execution_count": null,
      "outputs": [
        {
          "output_type": "stream",
          "name": "stdout",
          "text": [
            "782/782 [==============================] - 76s 97ms/step - loss: 7.6246 - acc: 0.5000\n",
            "\n",
            " 테스트 정확도: 0.5000\n"
          ]
        }
      ]
    },
    {
      "cell_type": "code",
      "source": [
        "# 블랙팬서의 1점 리뷰 부정으로 예측?\n",
        "\n",
        "test_input = \"This movie was just way too overrated. The fighting was not professional and in slow motion. I was expecting more from a 200 million budget movie. The little sister of T.Challa was just trying too hard to be funny. The story was really dumb as well. Don't watch this movie if you are going because others say its great unless you are a Black Panther fan or Marvels fan.\"\n",
        "\n",
        "sentiment_predict(test_input)"
      ],
      "metadata": {
        "colab": {
          "base_uri": "https://localhost:8080/"
        },
        "id": "Oxn2pRwhc2TT",
        "outputId": "2bd21ece-21be-4a32-8c9c-153394dd4848"
      },
      "execution_count": null,
      "outputs": [
        {
          "output_type": "stream",
          "name": "stdout",
          "text": [
            "100.00% 확률로 긍정 리뷰입니다.\n"
          ]
        }
      ]
    },
    {
      "cell_type": "code",
      "source": [
        "#어벤져스의 10점 리뷰 긍정?\n",
        "\n",
        "test_input = \" I was lucky enough to be included in the group to see the advanced screening in Melbourne on the 15th of April, 2012. And, firstly, I need to say a big thank-you to Disney and Marvel Studios. \\\n",
        "Now, the film... how can I even begin to explain how I feel about this film? It is, as the title of this review says a 'comic book triumph'. I went into the film with very, very high expectations and I was not disappointed. \\\n",
        "Seeing Joss Whedon's direction and envisioning of the film come to life on the big screen is perfect. The script is amazingly detailed and laced with sharp wit a humor. The special effects are literally mind-blowing and the action scenes are both hard-hitting and beautifully choreographed.\"\n",
        "\n",
        "sentiment_predict(test_input)"
      ],
      "metadata": {
        "colab": {
          "base_uri": "https://localhost:8080/"
        },
        "id": "pTWuhf2Wc2TU",
        "outputId": "7ff8eba3-951a-48ac-e7a5-2e4e9d87eb04"
      },
      "execution_count": null,
      "outputs": [
        {
          "output_type": "stream",
          "name": "stdout",
          "text": [
            "100.00% 확률로 긍정 리뷰입니다.\n"
          ]
        }
      ]
    },
    {
      "cell_type": "code",
      "source": [
        "#10\n",
        "sentiment_predict('''\n",
        "With the sixth book now out (and one more to go), I feel that I should review \"Harry Potter and the Sorcerer's Stone\". By now, the Harry Potter books have become so well entrenched in our culture that I don't even need to explain the story. But I can say that director Chris Columbus did a great job adapting the book to the silver screen.\n",
        "\n",
        "The cast does very well with the roles: newcomer Daniel Radcliffe plays Harry Potter, making him strong-willed but vulnerable. Rupert Grint and Emma Watson play his friends, the uptight Ron Weasley and the no-nonsense Hermione Granger. The Hogwarts staff is played by a who's-who of British actors: Richard Harris as headmaster Albus Dumbledore, Maggie Smith as anthropomorphic Prof. Minerva McGonagall (and one can detect a hint of Miss Jean Brodie there), Alan Rickman as unctuous Prof. Severus Snape, and Robbie Coltrane as gamekeeper Rubeus Hagrid. Others include Zoe Wanamaker as Quidditch teacher Madame Hooch, Julie Walters as Molly Weasley (Ron's mum), Richard Griffiths as Vernon Dursley (Harry's mean uncle) and even John Cleese as Nearly-Headless-Nick, one of the school ghosts.\n",
        "\n",
        "All in all, this is a movie for the ages. I know that religious fundamentalists will claim that the Harry Potter books are promoting witchcraft, but are we really going to believe those kinds of people, considering that they claimed the same things about \"Bewitched\"? Harry Potter will live forever - something that no Muggle can do.\n",
        "''')"
      ],
      "metadata": {
        "colab": {
          "base_uri": "https://localhost:8080/"
        },
        "id": "7WoE54l0c2TU",
        "outputId": "69c77510-59b1-4dcc-8442-a3bee8266e3c"
      },
      "execution_count": null,
      "outputs": [
        {
          "output_type": "stream",
          "name": "stdout",
          "text": [
            "100.00% 확률로 긍정 리뷰입니다.\n"
          ]
        }
      ]
    },
    {
      "cell_type": "markdown",
      "source": [
        "얜 뭐야 바보네"
      ],
      "metadata": {
        "id": "I-zgaRZBtcbO"
      }
    },
    {
      "cell_type": "markdown",
      "source": [
        "##activation=relu"
      ],
      "metadata": {
        "id": "e6o_3gEDclCu"
      }
    },
    {
      "cell_type": "code",
      "source": [
        "embedding_dim = 100\n",
        "hidden_units = 128\n",
        "\n",
        "model = Sequential()\n",
        "model.add(Embedding(vocab_size, embedding_dim))\n",
        "model.add(GRU(hidden_units)) #모델은 다 대 일 구조의 GRU를 사용\n",
        "model.add(Dense(1, activation='relu'))\n",
        "\n",
        "es = EarlyStopping(monitor='val_loss', mode='min', verbose=1, patience=4) \n",
        "mc = ModelCheckpoint('GRU_model.h5', monitor='val_acc', mode='max', verbose=1, save_best_only=True) \n",
        "\n",
        "model.compile(optimizer='rmsprop', loss='binary_crossentropy', metrics=['acc'])\n",
        "history = model.fit(X_train, y_train, epochs=15, callbacks=[es, mc], batch_size=64, validation_split=0.2) "
      ],
      "metadata": {
        "colab": {
          "base_uri": "https://localhost:8080/"
        },
        "outputId": "173701bd-52ca-4e20-fa42-416dbdd479c1",
        "id": "WhLaJVnxdQsz"
      },
      "execution_count": null,
      "outputs": [
        {
          "output_type": "stream",
          "name": "stdout",
          "text": [
            "Epoch 1/15\n",
            "313/313 [==============================] - ETA: 0s - loss: 2.5592 - acc: 0.6370\n",
            "Epoch 1: val_acc improved from -inf to 0.49380, saving model to GRU_model.h5\n",
            "313/313 [==============================] - 263s 833ms/step - loss: 2.5592 - acc: 0.6370 - val_loss: 7.7192 - val_acc: 0.4938\n",
            "Epoch 2/15\n",
            "313/313 [==============================] - ETA: 0s - loss: 7.6010 - acc: 0.5016\n",
            "Epoch 2: val_acc did not improve from 0.49380\n",
            "313/313 [==============================] - 259s 827ms/step - loss: 7.6010 - acc: 0.5016 - val_loss: 7.7192 - val_acc: 0.4938\n",
            "Epoch 3/15\n",
            "313/313 [==============================] - ETA: 0s - loss: 7.6010 - acc: 0.5016\n",
            "Epoch 3: val_acc did not improve from 0.49380\n",
            "313/313 [==============================] - 260s 831ms/step - loss: 7.6010 - acc: 0.5016 - val_loss: 7.7192 - val_acc: 0.4938\n",
            "Epoch 4/15\n",
            "313/313 [==============================] - ETA: 0s - loss: 7.6010 - acc: 0.5016\n",
            "Epoch 4: val_acc did not improve from 0.49380\n",
            "313/313 [==============================] - 261s 835ms/step - loss: 7.6010 - acc: 0.5016 - val_loss: 7.7192 - val_acc: 0.4938\n",
            "Epoch 5/15\n",
            "313/313 [==============================] - ETA: 0s - loss: 7.6010 - acc: 0.5016\n",
            "Epoch 5: val_acc did not improve from 0.49380\n",
            "313/313 [==============================] - 261s 834ms/step - loss: 7.6010 - acc: 0.5016 - val_loss: 7.7192 - val_acc: 0.4938\n",
            "Epoch 5: early stopping\n"
          ]
        }
      ]
    },
    {
      "cell_type": "code",
      "source": [
        "#  훈련 과정에서 검증 데이터의 정확도가 가장 높았을 때 저장된 모델인 'GRU_model.h5'를 로드\n",
        "\n",
        "loaded_model = load_model('GRU_model.h5')\n",
        "print(\"\\n 테스트 정확도: %.4f\" % (loaded_model.evaluate(X_test, y_test)[1]))"
      ],
      "metadata": {
        "colab": {
          "base_uri": "https://localhost:8080/"
        },
        "id": "0oFHHj8hdQs0",
        "outputId": "1334ce0d-950d-4294-decd-e1f97267e53b"
      },
      "execution_count": null,
      "outputs": [
        {
          "output_type": "stream",
          "name": "stdout",
          "text": [
            "782/782 [==============================] - 76s 97ms/step - loss: 7.6240 - acc: 0.5000\n",
            "\n",
            " 테스트 정확도: 0.5000\n"
          ]
        }
      ]
    },
    {
      "cell_type": "code",
      "source": [
        "# 블랙팬서의 1점 리뷰 부정으로 예측?\n",
        "\n",
        "test_input = \"This movie was just way too overrated. The fighting was not professional and in slow motion. I was expecting more from a 200 million budget movie. The little sister of T.Challa was just trying too hard to be funny. The story was really dumb as well. Don't watch this movie if you are going because others say its great unless you are a Black Panther fan or Marvels fan.\"\n",
        "\n",
        "sentiment_predict(test_input)"
      ],
      "metadata": {
        "colab": {
          "base_uri": "https://localhost:8080/"
        },
        "id": "ZgQLDiROdQs1",
        "outputId": "68ba27a8-365e-4c67-d1a1-c9fae82d1196"
      },
      "execution_count": null,
      "outputs": [
        {
          "output_type": "stream",
          "name": "stdout",
          "text": [
            "448.78% 확률로 긍정 리뷰입니다.\n"
          ]
        }
      ]
    },
    {
      "cell_type": "code",
      "source": [
        "#어벤져스의 10점 리뷰 긍정?\n",
        "\n",
        "test_input = \" I was lucky enough to be included in the group to see the advanced screening in Melbourne on the 15th of April, 2012. And, firstly, I need to say a big thank-you to Disney and Marvel Studios. \\\n",
        "Now, the film... how can I even begin to explain how I feel about this film? It is, as the title of this review says a 'comic book triumph'. I went into the film with very, very high expectations and I was not disappointed. \\\n",
        "Seeing Joss Whedon's direction and envisioning of the film come to life on the big screen is perfect. The script is amazingly detailed and laced with sharp wit a humor. The special effects are literally mind-blowing and the action scenes are both hard-hitting and beautifully choreographed.\"\n",
        "\n",
        "sentiment_predict(test_input)"
      ],
      "metadata": {
        "colab": {
          "base_uri": "https://localhost:8080/"
        },
        "id": "GUEJCNmldQs2",
        "outputId": "d464349a-622a-4130-d69d-b4b30e3a7ca9"
      },
      "execution_count": null,
      "outputs": [
        {
          "output_type": "stream",
          "name": "stdout",
          "text": [
            "460.83% 확률로 긍정 리뷰입니다.\n"
          ]
        }
      ]
    },
    {
      "cell_type": "code",
      "source": [
        "#10\n",
        "sentiment_predict('''\n",
        "With the sixth book now out (and one more to go), I feel that I should review \"Harry Potter and the Sorcerer's Stone\". By now, the Harry Potter books have become so well entrenched in our culture that I don't even need to explain the story. But I can say that director Chris Columbus did a great job adapting the book to the silver screen.\n",
        "\n",
        "The cast does very well with the roles: newcomer Daniel Radcliffe plays Harry Potter, making him strong-willed but vulnerable. Rupert Grint and Emma Watson play his friends, the uptight Ron Weasley and the no-nonsense Hermione Granger. The Hogwarts staff is played by a who's-who of British actors: Richard Harris as headmaster Albus Dumbledore, Maggie Smith as anthropomorphic Prof. Minerva McGonagall (and one can detect a hint of Miss Jean Brodie there), Alan Rickman as unctuous Prof. Severus Snape, and Robbie Coltrane as gamekeeper Rubeus Hagrid. Others include Zoe Wanamaker as Quidditch teacher Madame Hooch, Julie Walters as Molly Weasley (Ron's mum), Richard Griffiths as Vernon Dursley (Harry's mean uncle) and even John Cleese as Nearly-Headless-Nick, one of the school ghosts.\n",
        "\n",
        "All in all, this is a movie for the ages. I know that religious fundamentalists will claim that the Harry Potter books are promoting witchcraft, but are we really going to believe those kinds of people, considering that they claimed the same things about \"Bewitched\"? Harry Potter will live forever - something that no Muggle can do.\n",
        "''')"
      ],
      "metadata": {
        "colab": {
          "base_uri": "https://localhost:8080/"
        },
        "id": "Ds96t4OYdQs2",
        "outputId": "f36659fd-c6db-43d2-d2c9-c196e778c43f"
      },
      "execution_count": null,
      "outputs": [
        {
          "output_type": "stream",
          "name": "stdout",
          "text": [
            "457.09% 확률로 긍정 리뷰입니다.\n"
          ]
        }
      ]
    },
    {
      "cell_type": "markdown",
      "source": [
        "이건 뭐야 ㅋㅋㅋㅋㅋㅋㅋㅋㅋㅋㅋㅋㅋㅋㅋㅋㅋㅋㅋㅋㅋㅋㅋㅋㅋㅋㅋㅋㅋ\n",
        "\n",
        "렐루는 슉~으로 가서 그런가 ㅋ"
      ],
      "metadata": {
        "id": "GRpJI3bctgIb"
      }
    },
    {
      "cell_type": "markdown",
      "source": [
        "##batch size 32로 해봄\n",
        "\n",
        "- batch_size는 과적합과 관련이 없다. 모수의 수렴 문제와 관련이 있다.\n",
        "  - 배치사이즈가 작을 수록 수렴속도는 느리지만 local minimum에 빠질 가능성은 줄어든다. 반면 배치사이즈가 클 수록 학습진행속도와 수렴속도가 빨라지지만 항상 빨리 수렴하는 것은 아니다. 작은 데이터셋이라면 32가 적당하다고 하는데~"
      ],
      "metadata": {
        "id": "JOR1Ui5bd1Kb"
      }
    },
    {
      "cell_type": "code",
      "source": [
        "embedding_dim = 100\n",
        "hidden_units = 128\n",
        "\n",
        "model = Sequential()\n",
        "model.add(Embedding(vocab_size, embedding_dim))\n",
        "model.add(GRU(hidden_units)) #모델은 다 대 일 구조의 GRU를 사용\n",
        "model.add(Dense(1, activation='sigmoid'))\n",
        "\n",
        "es = EarlyStopping(monitor='val_loss', mode='min', verbose=1, patience=4) \n",
        "mc = ModelCheckpoint('GRU_model.h5', monitor='val_acc', mode='max', verbose=1, save_best_only=True) \n",
        "\n",
        "model.compile(optimizer='rmsprop', loss='binary_crossentropy', metrics=['acc'])\n",
        "history = model.fit(X_train, y_train, epochs=15, callbacks=[es, mc], batch_size=32, validation_split=0.2) ##30"
      ],
      "metadata": {
        "colab": {
          "base_uri": "https://localhost:8080/"
        },
        "outputId": "e2c3741c-6723-4cf9-cf0b-927639519696",
        "id": "jQS2CRUEd1Kc"
      },
      "execution_count": null,
      "outputs": [
        {
          "output_type": "stream",
          "name": "stdout",
          "text": [
            "Epoch 1/15\n",
            "625/625 [==============================] - ETA: 0s - loss: 0.4615 - acc: 0.7869\n",
            "Epoch 1: val_acc improved from -inf to 0.81160, saving model to GRU_model.h5\n",
            "625/625 [==============================] - 260s 413ms/step - loss: 0.4615 - acc: 0.7869 - val_loss: 0.5176 - val_acc: 0.8116\n",
            "Epoch 2/15\n",
            "625/625 [==============================] - ETA: 0s - loss: 0.3078 - acc: 0.8808\n",
            "Epoch 2: val_acc improved from 0.81160 to 0.87340, saving model to GRU_model.h5\n",
            "625/625 [==============================] - 259s 415ms/step - loss: 0.3078 - acc: 0.8808 - val_loss: 0.3044 - val_acc: 0.8734\n",
            "Epoch 3/15\n",
            "625/625 [==============================] - ETA: 0s - loss: 0.2152 - acc: 0.9198\n",
            "Epoch 3: val_acc improved from 0.87340 to 0.90120, saving model to GRU_model.h5\n",
            "625/625 [==============================] - 258s 413ms/step - loss: 0.2152 - acc: 0.9198 - val_loss: 0.2468 - val_acc: 0.9012\n",
            "Epoch 4/15\n",
            "625/625 [==============================] - ETA: 0s - loss: 0.1638 - acc: 0.9409\n",
            "Epoch 4: val_acc improved from 0.90120 to 0.90440, saving model to GRU_model.h5\n",
            "625/625 [==============================] - 258s 412ms/step - loss: 0.1638 - acc: 0.9409 - val_loss: 0.2399 - val_acc: 0.9044\n",
            "Epoch 5/15\n",
            "625/625 [==============================] - ETA: 0s - loss: 0.1321 - acc: 0.9534\n",
            "Epoch 5: val_acc did not improve from 0.90440\n",
            "625/625 [==============================] - 258s 412ms/step - loss: 0.1321 - acc: 0.9534 - val_loss: 0.2936 - val_acc: 0.8850\n",
            "Epoch 6/15\n",
            "625/625 [==============================] - ETA: 0s - loss: 0.1076 - acc: 0.9628\n",
            "Epoch 6: val_acc did not improve from 0.90440\n",
            "625/625 [==============================] - 258s 412ms/step - loss: 0.1076 - acc: 0.9628 - val_loss: 0.2803 - val_acc: 0.8962\n",
            "Epoch 7/15\n",
            "625/625 [==============================] - ETA: 0s - loss: 0.0868 - acc: 0.9690\n",
            "Epoch 7: val_acc did not improve from 0.90440\n",
            "625/625 [==============================] - 258s 413ms/step - loss: 0.0868 - acc: 0.9690 - val_loss: 0.3015 - val_acc: 0.8926\n",
            "Epoch 8/15\n",
            "625/625 [==============================] - ETA: 0s - loss: 0.0674 - acc: 0.9779\n",
            "Epoch 8: val_acc did not improve from 0.90440\n",
            "625/625 [==============================] - 257s 411ms/step - loss: 0.0674 - acc: 0.9779 - val_loss: 0.3313 - val_acc: 0.8906\n",
            "Epoch 8: early stopping\n"
          ]
        }
      ]
    },
    {
      "cell_type": "code",
      "source": [
        "#  훈련 과정에서 검증 데이터의 정확도가 가장 높았을 때 저장된 모델인 'GRU_model.h5'를 로드\n",
        "\n",
        "loaded_model = load_model('GRU_model.h5')\n",
        "print(\"\\n 테스트 정확도: %.4f\" % (loaded_model.evaluate(X_test, y_test)[1]))"
      ],
      "metadata": {
        "colab": {
          "base_uri": "https://localhost:8080/"
        },
        "id": "VlbFPjE-d1Kc",
        "outputId": "3789b022-4348-4f4a-a5ae-daa061190e6c"
      },
      "execution_count": null,
      "outputs": [
        {
          "output_type": "stream",
          "name": "stdout",
          "text": [
            "782/782 [==============================] - 76s 97ms/step - loss: 0.2525 - acc: 0.8985\n",
            "\n",
            " 테스트 정확도: 0.8985\n"
          ]
        }
      ]
    },
    {
      "cell_type": "code",
      "source": [
        "# 블랙팬서의 1점 리뷰 부정으로 예측?\n",
        "\n",
        "test_input = \"This movie was just way too overrated. The fighting was not professional and in slow motion. I was expecting more from a 200 million budget movie. The little sister of T.Challa was just trying too hard to be funny. The story was really dumb as well. Don't watch this movie if you are going because others say its great unless you are a Black Panther fan or Marvels fan.\"\n",
        "\n",
        "sentiment_predict(test_input)"
      ],
      "metadata": {
        "colab": {
          "base_uri": "https://localhost:8080/"
        },
        "id": "NIhywbDwd1Kc",
        "outputId": "bdf0c62d-65a7-4ee9-d728-b5a264e4c53b"
      },
      "execution_count": null,
      "outputs": [
        {
          "output_type": "stream",
          "name": "stdout",
          "text": [
            "95.99% 확률로 부정 리뷰입니다.\n"
          ]
        }
      ]
    },
    {
      "cell_type": "code",
      "source": [
        "#어벤져스의 10점 리뷰 긍정?\n",
        "\n",
        "test_input = \" I was lucky enough to be included in the group to see the advanced screening in Melbourne on the 15th of April, 2012. And, firstly, I need to say a big thank-you to Disney and Marvel Studios. \\\n",
        "Now, the film... how can I even begin to explain how I feel about this film? It is, as the title of this review says a 'comic book triumph'. I went into the film with very, very high expectations and I was not disappointed. \\\n",
        "Seeing Joss Whedon's direction and envisioning of the film come to life on the big screen is perfect. The script is amazingly detailed and laced with sharp wit a humor. The special effects are literally mind-blowing and the action scenes are both hard-hitting and beautifully choreographed.\"\n",
        "\n",
        "sentiment_predict(test_input)"
      ],
      "metadata": {
        "colab": {
          "base_uri": "https://localhost:8080/"
        },
        "id": "aP9Prl9dd1Kd",
        "outputId": "d8dc524d-0813-4477-ffcb-a404117abe4e"
      },
      "execution_count": null,
      "outputs": [
        {
          "output_type": "stream",
          "name": "stdout",
          "text": [
            "98.23% 확률로 긍정 리뷰입니다.\n"
          ]
        }
      ]
    },
    {
      "cell_type": "code",
      "source": [
        "#10\n",
        "sentiment_predict('''\n",
        "With the sixth book now out (and one more to go), I feel that I should review \"Harry Potter and the Sorcerer's Stone\". By now, the Harry Potter books have become so well entrenched in our culture that I don't even need to explain the story. But I can say that director Chris Columbus did a great job adapting the book to the silver screen.\n",
        "\n",
        "The cast does very well with the roles: newcomer Daniel Radcliffe plays Harry Potter, making him strong-willed but vulnerable. Rupert Grint and Emma Watson play his friends, the uptight Ron Weasley and the no-nonsense Hermione Granger. The Hogwarts staff is played by a who's-who of British actors: Richard Harris as headmaster Albus Dumbledore, Maggie Smith as anthropomorphic Prof. Minerva McGonagall (and one can detect a hint of Miss Jean Brodie there), Alan Rickman as unctuous Prof. Severus Snape, and Robbie Coltrane as gamekeeper Rubeus Hagrid. Others include Zoe Wanamaker as Quidditch teacher Madame Hooch, Julie Walters as Molly Weasley (Ron's mum), Richard Griffiths as Vernon Dursley (Harry's mean uncle) and even John Cleese as Nearly-Headless-Nick, one of the school ghosts.\n",
        "\n",
        "All in all, this is a movie for the ages. I know that religious fundamentalists will claim that the Harry Potter books are promoting witchcraft, but are we really going to believe those kinds of people, considering that they claimed the same things about \"Bewitched\"? Harry Potter will live forever - something that no Muggle can do.\n",
        "''')"
      ],
      "metadata": {
        "colab": {
          "base_uri": "https://localhost:8080/"
        },
        "id": "g2Wb72Xyd1Ke",
        "outputId": "63d20941-5afe-420f-ebf9-6758d90627f8"
      },
      "execution_count": null,
      "outputs": [
        {
          "output_type": "stream",
          "name": "stdout",
          "text": [
            "87.97% 확률로 긍정 리뷰입니다.\n"
          ]
        }
      ]
    },
    {
      "cell_type": "markdown",
      "source": [
        "똘똘하네 얜. "
      ],
      "metadata": {
        "id": "bvynDWCetk1M"
      }
    },
    {
      "cell_type": "markdown",
      "source": [
        "##without early stopping"
      ],
      "metadata": {
        "id": "JYbADIS0dYss"
      }
    },
    {
      "cell_type": "code",
      "source": [
        "embedding_dim = 100\n",
        "hidden_units = 128\n",
        "\n",
        "model = Sequential()\n",
        "model.add(Embedding(vocab_size, embedding_dim))\n",
        "model.add(GRU(hidden_units)) #모델은 다 대 일 구조의 GRU를 사용\n",
        "model.add(Dense(1, activation='sigmoid'))\n",
        "\n",
        "mc = ModelCheckpoint('GRU_model.h5', monitor='val_acc', mode='max', verbose=1, save_best_only=True) \n",
        "\n",
        "model.compile(optimizer='rmsprop', loss='binary_crossentropy', metrics=['acc'])\n",
        "history = model.fit(X_train, y_train, epochs=15, callbacks= mc, batch_size=64, validation_split=0.2)"
      ],
      "metadata": {
        "colab": {
          "base_uri": "https://localhost:8080/"
        },
        "outputId": "1f37035e-441a-4316-c3a0-a82eee159ed1",
        "id": "5L2NNSotdYst"
      },
      "execution_count": null,
      "outputs": [
        {
          "output_type": "stream",
          "name": "stdout",
          "text": [
            "Epoch 1/15\n",
            "313/313 [==============================] - ETA: 0s - loss: 0.5240 - acc: 0.7515\n",
            "Epoch 1: val_acc improved from -inf to 0.84140, saving model to GRU_model.h5\n",
            "313/313 [==============================] - 263s 832ms/step - loss: 0.5240 - acc: 0.7515 - val_loss: 0.3597 - val_acc: 0.8414\n",
            "Epoch 2/15\n",
            "313/313 [==============================] - ETA: 0s - loss: 0.3174 - acc: 0.8694\n",
            "Epoch 2: val_acc improved from 0.84140 to 0.86800, saving model to GRU_model.h5\n",
            "313/313 [==============================] - 261s 834ms/step - loss: 0.3174 - acc: 0.8694 - val_loss: 0.3272 - val_acc: 0.8680\n",
            "Epoch 3/15\n",
            "313/313 [==============================] - ETA: 0s - loss: 0.2661 - acc: 0.9010\n",
            "Epoch 3: val_acc did not improve from 0.86800\n",
            "313/313 [==============================] - 265s 848ms/step - loss: 0.2661 - acc: 0.9010 - val_loss: 0.3343 - val_acc: 0.8568\n",
            "Epoch 4/15\n",
            "313/313 [==============================] - ETA: 0s - loss: 0.1982 - acc: 0.9268\n",
            "Epoch 4: val_acc improved from 0.86800 to 0.88740, saving model to GRU_model.h5\n",
            "313/313 [==============================] - 264s 843ms/step - loss: 0.1982 - acc: 0.9268 - val_loss: 0.2739 - val_acc: 0.8874\n",
            "Epoch 5/15\n",
            "313/313 [==============================] - ETA: 0s - loss: 0.1612 - acc: 0.9420\n",
            "Epoch 5: val_acc did not improve from 0.88740\n",
            "313/313 [==============================] - 265s 846ms/step - loss: 0.1612 - acc: 0.9420 - val_loss: 0.4121 - val_acc: 0.8674\n",
            "Epoch 6/15\n",
            "313/313 [==============================] - ETA: 0s - loss: 0.1247 - acc: 0.9567\n",
            "Epoch 6: val_acc did not improve from 0.88740\n",
            "313/313 [==============================] - 263s 842ms/step - loss: 0.1247 - acc: 0.9567 - val_loss: 0.3344 - val_acc: 0.8692\n",
            "Epoch 7/15\n",
            "313/313 [==============================] - ETA: 0s - loss: 0.0970 - acc: 0.9665\n",
            "Epoch 7: val_acc improved from 0.88740 to 0.89680, saving model to GRU_model.h5\n",
            "313/313 [==============================] - 261s 832ms/step - loss: 0.0970 - acc: 0.9665 - val_loss: 0.3034 - val_acc: 0.8968\n",
            "Epoch 8/15\n",
            "313/313 [==============================] - ETA: 0s - loss: 0.0747 - acc: 0.9750\n",
            "Epoch 8: val_acc did not improve from 0.89680\n",
            "313/313 [==============================] - 260s 831ms/step - loss: 0.0747 - acc: 0.9750 - val_loss: 0.3107 - val_acc: 0.8834\n",
            "Epoch 9/15\n",
            "313/313 [==============================] - ETA: 0s - loss: 0.0548 - acc: 0.9822\n",
            "Epoch 9: val_acc did not improve from 0.89680\n",
            "313/313 [==============================] - 259s 828ms/step - loss: 0.0548 - acc: 0.9822 - val_loss: 0.3940 - val_acc: 0.8738\n",
            "Epoch 10/15\n",
            "313/313 [==============================] - ETA: 0s - loss: 0.0400 - acc: 0.9877\n",
            "Epoch 10: val_acc did not improve from 0.89680\n",
            "313/313 [==============================] - 260s 831ms/step - loss: 0.0400 - acc: 0.9877 - val_loss: 0.4863 - val_acc: 0.8768\n",
            "Epoch 11/15\n",
            "313/313 [==============================] - ETA: 0s - loss: 0.0306 - acc: 0.9906\n",
            "Epoch 11: val_acc did not improve from 0.89680\n",
            "313/313 [==============================] - 261s 833ms/step - loss: 0.0306 - acc: 0.9906 - val_loss: 0.4288 - val_acc: 0.8696\n",
            "Epoch 12/15\n",
            "313/313 [==============================] - ETA: 0s - loss: 0.0209 - acc: 0.9937\n",
            "Epoch 12: val_acc did not improve from 0.89680\n",
            "313/313 [==============================] - 259s 829ms/step - loss: 0.0209 - acc: 0.9937 - val_loss: 0.5843 - val_acc: 0.8642\n",
            "Epoch 13/15\n",
            "313/313 [==============================] - ETA: 0s - loss: 0.0160 - acc: 0.9956\n",
            "Epoch 13: val_acc did not improve from 0.89680\n",
            "313/313 [==============================] - 262s 838ms/step - loss: 0.0160 - acc: 0.9956 - val_loss: 0.5991 - val_acc: 0.8730\n",
            "Epoch 14/15\n",
            "313/313 [==============================] - ETA: 0s - loss: 0.0111 - acc: 0.9969\n",
            "Epoch 14: val_acc did not improve from 0.89680\n",
            "313/313 [==============================] - 261s 832ms/step - loss: 0.0111 - acc: 0.9969 - val_loss: 0.7145 - val_acc: 0.8644\n",
            "Epoch 15/15\n",
            "313/313 [==============================] - ETA: 0s - loss: 0.0082 - acc: 0.9973\n",
            "Epoch 15: val_acc did not improve from 0.89680\n",
            "313/313 [==============================] - 261s 834ms/step - loss: 0.0082 - acc: 0.9973 - val_loss: 0.6909 - val_acc: 0.8572\n"
          ]
        }
      ]
    },
    {
      "cell_type": "code",
      "source": [
        "#  훈련 과정에서 검증 데이터의 정확도가 가장 높았을 때 저장된 모델인 'GRU_model.h5'를 로드\n",
        "\n",
        "loaded_model = load_model('GRU_model.h5')\n",
        "print(\"\\n 테스트 정확도: %.4f\" % (loaded_model.evaluate(X_test, y_test)[1]))"
      ],
      "metadata": {
        "id": "owF-yYXidYst",
        "colab": {
          "base_uri": "https://localhost:8080/"
        },
        "outputId": "bc59465e-da6a-44e1-bb7e-c23be2880cde"
      },
      "execution_count": null,
      "outputs": [
        {
          "output_type": "stream",
          "name": "stdout",
          "text": [
            "782/782 [==============================] - 76s 96ms/step - loss: 0.3350 - acc: 0.8908\n",
            "\n",
            " 테스트 정확도: 0.8908\n"
          ]
        }
      ]
    },
    {
      "cell_type": "code",
      "source": [
        "# 블랙팬서의 1점 리뷰 부정으로 예측?\n",
        "\n",
        "test_input = \"This movie was just way too overrated. The fighting was not professional and in slow motion. I was expecting more from a 200 million budget movie. The little sister of T.Challa was just trying too hard to be funny. The story was really dumb as well. Don't watch this movie if you are going because others say its great unless you are a Black Panther fan or Marvels fan.\"\n",
        "\n",
        "sentiment_predict(test_input)"
      ],
      "metadata": {
        "id": "aoZlxIKxdYsu",
        "colab": {
          "base_uri": "https://localhost:8080/"
        },
        "outputId": "a27ee58e-40f3-4c90-c435-b2de4c7c272b"
      },
      "execution_count": null,
      "outputs": [
        {
          "output_type": "stream",
          "name": "stdout",
          "text": [
            "99.42% 확률로 부정 리뷰입니다.\n"
          ]
        }
      ]
    },
    {
      "cell_type": "code",
      "source": [
        "#어벤져스의 10점 리뷰 긍정?\n",
        "\n",
        "test_input = \" I was lucky enough to be included in the group to see the advanced screening in Melbourne on the 15th of April, 2012. And, firstly, I need to say a big thank-you to Disney and Marvel Studios. \\\n",
        "Now, the film... how can I even begin to explain how I feel about this film? It is, as the title of this review says a 'comic book triumph'. I went into the film with very, very high expectations and I was not disappointed. \\\n",
        "Seeing Joss Whedon's direction and envisioning of the film come to life on the big screen is perfect. The script is amazingly detailed and laced with sharp wit a humor. The special effects are literally mind-blowing and the action scenes are both hard-hitting and beautifully choreographed.\"\n",
        "\n",
        "sentiment_predict(test_input)"
      ],
      "metadata": {
        "id": "Q9uwQW_vdYsv",
        "colab": {
          "base_uri": "https://localhost:8080/"
        },
        "outputId": "ecac51cd-142a-428f-c499-ebb48353966b"
      },
      "execution_count": null,
      "outputs": [
        {
          "output_type": "stream",
          "name": "stdout",
          "text": [
            "99.69% 확률로 긍정 리뷰입니다.\n"
          ]
        }
      ]
    },
    {
      "cell_type": "code",
      "source": [
        "#10\n",
        "sentiment_predict('''\n",
        "With the sixth book now out (and one more to go), I feel that I should review \"Harry Potter and the Sorcerer's Stone\". By now, the Harry Potter books have become so well entrenched in our culture that I don't even need to explain the story. But I can say that director Chris Columbus did a great job adapting the book to the silver screen.\n",
        "\n",
        "The cast does very well with the roles: newcomer Daniel Radcliffe plays Harry Potter, making him strong-willed but vulnerable. Rupert Grint and Emma Watson play his friends, the uptight Ron Weasley and the no-nonsense Hermione Granger. The Hogwarts staff is played by a who's-who of British actors: Richard Harris as headmaster Albus Dumbledore, Maggie Smith as anthropomorphic Prof. Minerva McGonagall (and one can detect a hint of Miss Jean Brodie there), Alan Rickman as unctuous Prof. Severus Snape, and Robbie Coltrane as gamekeeper Rubeus Hagrid. Others include Zoe Wanamaker as Quidditch teacher Madame Hooch, Julie Walters as Molly Weasley (Ron's mum), Richard Griffiths as Vernon Dursley (Harry's mean uncle) and even John Cleese as Nearly-Headless-Nick, one of the school ghosts.\n",
        "\n",
        "All in all, this is a movie for the ages. I know that religious fundamentalists will claim that the Harry Potter books are promoting witchcraft, but are we really going to believe those kinds of people, considering that they claimed the same things about \"Bewitched\"? Harry Potter will live forever - something that no Muggle can do.\n",
        "''')"
      ],
      "metadata": {
        "id": "TuCTxvkgdYsv",
        "colab": {
          "base_uri": "https://localhost:8080/"
        },
        "outputId": "9764b44c-da12-404f-e17d-254f50cee824"
      },
      "execution_count": null,
      "outputs": [
        {
          "output_type": "stream",
          "name": "stdout",
          "text": [
            "98.84% 확률로 긍정 리뷰입니다.\n"
          ]
        }
      ]
    },
    {
      "cell_type": "markdown",
      "source": [
        "## optimizer adam"
      ],
      "metadata": {
        "id": "ZggP91ZKfyTS"
      }
    },
    {
      "cell_type": "code",
      "source": [
        "embedding_dim = 100\n",
        "hidden_units = 128\n",
        "\n",
        "model = Sequential()\n",
        "model.add(Embedding(vocab_size, embedding_dim))\n",
        "model.add(GRU(hidden_units)) #모델은 다 대 일 구조의 GRU를 사용\n",
        "model.add(Dense(1, activation='relu'))###########렐루해버렸네네;\n",
        "\n",
        "es = EarlyStopping(monitor='val_loss', mode='min', verbose=1, patience=4) \n",
        "mc = ModelCheckpoint('GRU_model.h5', monitor='val_acc', mode='max', verbose=1, save_best_only=True) \n",
        "\n",
        "model.compile(optimizer='adam', loss='binary_crossentropy', metrics=['acc'])\n",
        "history = model.fit(X_train, y_train, epochs=15, callbacks=[es, mc], batch_size=64, validation_split=0.2) "
      ],
      "metadata": {
        "colab": {
          "base_uri": "https://localhost:8080/"
        },
        "outputId": "5c4f8cf6-023b-4560-fdcd-ed11aca056ae",
        "id": "2eI9x3ulfyTT"
      },
      "execution_count": null,
      "outputs": [
        {
          "output_type": "stream",
          "name": "stdout",
          "text": [
            "Epoch 1/15\n",
            "313/313 [==============================] - ETA: 0s - loss: 0.6650 - acc: 0.6668\n",
            "Epoch 1: val_acc improved from -inf to 0.65580, saving model to GRU_model.h5\n",
            "313/313 [==============================] - 264s 834ms/step - loss: 0.6650 - acc: 0.6668 - val_loss: 0.6037 - val_acc: 0.6558\n",
            "Epoch 2/15\n",
            "313/313 [==============================] - ETA: 0s - loss: 0.6337 - acc: 0.7150\n",
            "Epoch 2: val_acc did not improve from 0.65580\n",
            "313/313 [==============================] - 268s 856ms/step - loss: 0.6337 - acc: 0.7150 - val_loss: 0.8194 - val_acc: 0.5422\n",
            "Epoch 3/15\n",
            "313/313 [==============================] - ETA: 0s - loss: 0.5183 - acc: 0.7659\n",
            "Epoch 3: val_acc improved from 0.65580 to 0.72160, saving model to GRU_model.h5\n",
            "313/313 [==============================] - 263s 840ms/step - loss: 0.5183 - acc: 0.7659 - val_loss: 0.6492 - val_acc: 0.7216\n",
            "Epoch 4/15\n",
            "313/313 [==============================] - ETA: 0s - loss: 0.4025 - acc: 0.8465\n",
            "Epoch 4: val_acc improved from 0.72160 to 0.79640, saving model to GRU_model.h5\n",
            "313/313 [==============================] - 263s 841ms/step - loss: 0.4025 - acc: 0.8465 - val_loss: 0.6380 - val_acc: 0.7964\n",
            "Epoch 5/15\n",
            "313/313 [==============================] - ETA: 0s - loss: 0.3287 - acc: 0.8890\n",
            "Epoch 5: val_acc improved from 0.79640 to 0.80020, saving model to GRU_model.h5\n",
            "313/313 [==============================] - 264s 844ms/step - loss: 0.3287 - acc: 0.8890 - val_loss: 0.6747 - val_acc: 0.8002\n",
            "Epoch 5: early stopping\n"
          ]
        }
      ]
    },
    {
      "cell_type": "code",
      "source": [
        "#  훈련 과정에서 검증 데이터의 정확도가 가장 높았을 때 저장된 모델인 'GRU_model.h5'를 로드\n",
        "\n",
        "loaded_model = load_model('GRU_model.h5')\n",
        "print(\"\\n 테스트 정확도: %.4f\" % (loaded_model.evaluate(X_test, y_test)[1]))"
      ],
      "metadata": {
        "colab": {
          "base_uri": "https://localhost:8080/"
        },
        "id": "pZgFSfzOfyTT",
        "outputId": "489723b6-48ae-4ed2-a6b4-09c0a0fab901"
      },
      "execution_count": null,
      "outputs": [
        {
          "output_type": "stream",
          "name": "stdout",
          "text": [
            "782/782 [==============================] - 77s 98ms/step - loss: 0.7327 - acc: 0.7940\n",
            "\n",
            " 테스트 정확도: 0.7940\n"
          ]
        }
      ]
    },
    {
      "cell_type": "code",
      "source": [
        "# 블랙팬서의 1점 리뷰 부정으로 예측?\n",
        "\n",
        "test_input = \"This movie was just way too overrated. The fighting was not professional and in slow motion. I was expecting more from a 200 million budget movie. The little sister of T.Challa was just trying too hard to be funny. The story was really dumb as well. Don't watch this movie if you are going because others say its great unless you are a Black Panther fan or Marvels fan.\"\n",
        "\n",
        "sentiment_predict(test_input)"
      ],
      "metadata": {
        "colab": {
          "base_uri": "https://localhost:8080/"
        },
        "id": "-hEiqbRLfyTT",
        "outputId": "79e08de0-e345-48d6-b752-7948a6551a0e"
      },
      "execution_count": null,
      "outputs": [
        {
          "output_type": "stream",
          "name": "stdout",
          "text": [
            "WARNING:tensorflow:5 out of the last 13 calls to <function Model.make_predict_function.<locals>.predict_function at 0x7f9b63ea19e0> triggered tf.function retracing. Tracing is expensive and the excessive number of tracings could be due to (1) creating @tf.function repeatedly in a loop, (2) passing tensors with different shapes, (3) passing Python objects instead of tensors. For (1), please define your @tf.function outside of the loop. For (2), @tf.function has experimental_relax_shapes=True option that relaxes argument shapes that can avoid unnecessary retracing. For (3), please refer to https://www.tensorflow.org/guide/function#controlling_retracing and https://www.tensorflow.org/api_docs/python/tf/function for  more details.\n",
            "90.86% 확률로 부정 리뷰입니다.\n"
          ]
        }
      ]
    },
    {
      "cell_type": "code",
      "source": [
        "#어벤져스의 10점 리뷰 긍정?\n",
        "\n",
        "test_input = \" I was lucky enough to be included in the group to see the advanced screening in Melbourne on the 15th of April, 2012. And, firstly, I need to say a big thank-you to Disney and Marvel Studios. \\\n",
        "Now, the film... how can I even begin to explain how I feel about this film? It is, as the title of this review says a 'comic book triumph'. I went into the film with very, very high expectations and I was not disappointed. \\\n",
        "Seeing Joss Whedon's direction and envisioning of the film come to life on the big screen is perfect. The script is amazingly detailed and laced with sharp wit a humor. The special effects are literally mind-blowing and the action scenes are both hard-hitting and beautifully choreographed.\"\n",
        "\n",
        "sentiment_predict(test_input)"
      ],
      "metadata": {
        "colab": {
          "base_uri": "https://localhost:8080/"
        },
        "id": "xS9csSZOfyTU",
        "outputId": "9e7c5f41-72e1-4bb4-b5fc-62781be4e04e"
      },
      "execution_count": null,
      "outputs": [
        {
          "output_type": "stream",
          "name": "stdout",
          "text": [
            "84.86% 확률로 긍정 리뷰입니다.\n"
          ]
        }
      ]
    },
    {
      "cell_type": "code",
      "source": [
        "#10\n",
        "sentiment_predict('''\n",
        "With the sixth book now out (and one more to go), I feel that I should review \"Harry Potter and the Sorcerer's Stone\". By now, the Harry Potter books have become so well entrenched in our culture that I don't even need to explain the story. But I can say that director Chris Columbus did a great job adapting the book to the silver screen.\n",
        "\n",
        "The cast does very well with the roles: newcomer Daniel Radcliffe plays Harry Potter, making him strong-willed but vulnerable. Rupert Grint and Emma Watson play his friends, the uptight Ron Weasley and the no-nonsense Hermione Granger. The Hogwarts staff is played by a who's-who of British actors: Richard Harris as headmaster Albus Dumbledore, Maggie Smith as anthropomorphic Prof. Minerva McGonagall (and one can detect a hint of Miss Jean Brodie there), Alan Rickman as unctuous Prof. Severus Snape, and Robbie Coltrane as gamekeeper Rubeus Hagrid. Others include Zoe Wanamaker as Quidditch teacher Madame Hooch, Julie Walters as Molly Weasley (Ron's mum), Richard Griffiths as Vernon Dursley (Harry's mean uncle) and even John Cleese as Nearly-Headless-Nick, one of the school ghosts.\n",
        "\n",
        "All in all, this is a movie for the ages. I know that religious fundamentalists will claim that the Harry Potter books are promoting witchcraft, but are we really going to believe those kinds of people, considering that they claimed the same things about \"Bewitched\"? Harry Potter will live forever - something that no Muggle can do.\n",
        "''')"
      ],
      "metadata": {
        "colab": {
          "base_uri": "https://localhost:8080/"
        },
        "id": "xiBhCFjDfyTU",
        "outputId": "ebfc1078-378d-4cdb-ca6a-dab87d26aa5c"
      },
      "execution_count": null,
      "outputs": [
        {
          "output_type": "stream",
          "name": "stdout",
          "text": [
            "68.44% 확률로 부정 리뷰입니다.\n"
          ]
        }
      ]
    },
    {
      "cell_type": "markdown",
      "source": [
        "바보가 됨"
      ],
      "metadata": {
        "id": "CjZTzgNR7cY7"
      }
    },
    {
      "cell_type": "markdown",
      "source": [
        "## loss=mse"
      ],
      "metadata": {
        "id": "wD64-664go3r"
      }
    },
    {
      "cell_type": "code",
      "source": [
        "embedding_dim = 100\n",
        "hidden_units = 128\n",
        "\n",
        "model = Sequential()\n",
        "model.add(Embedding(vocab_size, embedding_dim))\n",
        "model.add(GRU(hidden_units)) #모델은 다 대 일 구조의 GRU를 사용\n",
        "model.add(Dense(1, activation='relu'))\n",
        "\n",
        "es = EarlyStopping(monitor='val_loss', mode='min', verbose=1, patience=4) \n",
        "mc = ModelCheckpoint('GRU_model.h5', monitor='val_acc', mode='max', verbose=1, save_best_only=True) \n",
        "\n",
        "model.compile(optimizer='adam', loss='mse', metrics=['acc'])\n",
        "history = model.fit(X_train, y_train, epochs=15, callbacks=[es, mc], batch_size=64, validation_split=0.2) "
      ],
      "metadata": {
        "colab": {
          "base_uri": "https://localhost:8080/"
        },
        "outputId": "40aaf959-535b-47a6-db7b-83dbb2c66a06",
        "id": "gBCVWkGbgo3s"
      },
      "execution_count": null,
      "outputs": [
        {
          "output_type": "stream",
          "name": "stdout",
          "text": [
            "Epoch 1/15\n",
            "313/313 [==============================] - ETA: 0s - loss: 0.1964 - acc: 0.6955\n",
            "Epoch 1: val_acc improved from -inf to 0.83260, saving model to GRU_model.h5\n",
            "313/313 [==============================] - 267s 847ms/step - loss: 0.1964 - acc: 0.6955 - val_loss: 0.1251 - val_acc: 0.8326\n",
            "Epoch 2/15\n",
            "313/313 [==============================] - ETA: 0s - loss: 0.1125 - acc: 0.8461\n",
            "Epoch 2: val_acc improved from 0.83260 to 0.86100, saving model to GRU_model.h5\n",
            "313/313 [==============================] - 264s 842ms/step - loss: 0.1125 - acc: 0.8461 - val_loss: 0.1030 - val_acc: 0.8610\n",
            "Epoch 3/15\n",
            "313/313 [==============================] - ETA: 0s - loss: 0.0657 - acc: 0.9212\n",
            "Epoch 3: val_acc did not improve from 0.86100\n",
            "313/313 [==============================] - 264s 843ms/step - loss: 0.0657 - acc: 0.9212 - val_loss: 0.1062 - val_acc: 0.8510\n",
            "Epoch 4/15\n",
            "313/313 [==============================] - ETA: 0s - loss: 0.0513 - acc: 0.9456\n",
            "Epoch 4: val_acc improved from 0.86100 to 0.87420, saving model to GRU_model.h5\n",
            "313/313 [==============================] - 265s 845ms/step - loss: 0.0513 - acc: 0.9456 - val_loss: 0.1032 - val_acc: 0.8742\n",
            "Epoch 5/15\n",
            "313/313 [==============================] - ETA: 0s - loss: 0.0341 - acc: 0.9651\n",
            "Epoch 5: val_acc did not improve from 0.87420\n",
            "313/313 [==============================] - 262s 836ms/step - loss: 0.0341 - acc: 0.9651 - val_loss: 0.1049 - val_acc: 0.8700\n",
            "Epoch 6/15\n",
            "313/313 [==============================] - ETA: 0s - loss: 0.0314 - acc: 0.9671\n",
            "Epoch 6: val_acc did not improve from 0.87420\n",
            "313/313 [==============================] - 265s 847ms/step - loss: 0.0314 - acc: 0.9671 - val_loss: 0.1048 - val_acc: 0.8674\n",
            "Epoch 6: early stopping\n"
          ]
        }
      ]
    },
    {
      "cell_type": "code",
      "source": [
        "#  훈련 과정에서 검증 데이터의 정확도가 가장 높았을 때 저장된 모델인 'GRU_model.h5'를 로드\n",
        "\n",
        "loaded_model = load_model('GRU_model.h5')\n",
        "print(\"\\n 테스트 정확도: %.4f\" % (loaded_model.evaluate(X_test, y_test)[1]))"
      ],
      "metadata": {
        "colab": {
          "base_uri": "https://localhost:8080/"
        },
        "id": "3QFiAiUBgo3s",
        "outputId": "587a17c3-bdf3-4378-8900-32becbeb2176"
      },
      "execution_count": null,
      "outputs": [
        {
          "output_type": "stream",
          "name": "stdout",
          "text": [
            "782/782 [==============================] - 78s 99ms/step - loss: 0.1094 - acc: 0.8632\n",
            "\n",
            " 테스트 정확도: 0.8632\n"
          ]
        }
      ]
    },
    {
      "cell_type": "code",
      "source": [
        "# 블랙팬서의 1점 리뷰 부정으로 예측?\n",
        "\n",
        "test_input = \"This movie was just way too overrated. The fighting was not professional and in slow motion. I was expecting more from a 200 million budget movie. The little sister of T.Challa was just trying too hard to be funny. The story was really dumb as well. Don't watch this movie if you are going because others say its great unless you are a Black Panther fan or Marvels fan.\"\n",
        "\n",
        "sentiment_predict(test_input)"
      ],
      "metadata": {
        "colab": {
          "base_uri": "https://localhost:8080/"
        },
        "id": "yVoOlnK1go3s",
        "outputId": "a369255f-4500-4e28-abc6-3c8341c3b768"
      },
      "execution_count": null,
      "outputs": [
        {
          "output_type": "stream",
          "name": "stdout",
          "text": [
            "WARNING:tensorflow:5 out of the last 13 calls to <function Model.make_predict_function.<locals>.predict_function at 0x7f9b64cb0f80> triggered tf.function retracing. Tracing is expensive and the excessive number of tracings could be due to (1) creating @tf.function repeatedly in a loop, (2) passing tensors with different shapes, (3) passing Python objects instead of tensors. For (1), please define your @tf.function outside of the loop. For (2), @tf.function has experimental_relax_shapes=True option that relaxes argument shapes that can avoid unnecessary retracing. For (3), please refer to https://www.tensorflow.org/guide/function#controlling_retracing and https://www.tensorflow.org/api_docs/python/tf/function for  more details.\n",
            "100.00% 확률로 부정 리뷰입니다.\n"
          ]
        }
      ]
    },
    {
      "cell_type": "code",
      "source": [
        "#어벤져스의 10점 리뷰 긍정?\n",
        "\n",
        "test_input = \" I was lucky enough to be included in the group to see the advanced screening in Melbourne on the 15th of April, 2012. And, firstly, I need to say a big thank-you to Disney and Marvel Studios. \\\n",
        "Now, the film... how can I even begin to explain how I feel about this film? It is, as the title of this review says a 'comic book triumph'. I went into the film with very, very high expectations and I was not disappointed. \\\n",
        "Seeing Joss Whedon's direction and envisioning of the film come to life on the big screen is perfect. The script is amazingly detailed and laced with sharp wit a humor. The special effects are literally mind-blowing and the action scenes are both hard-hitting and beautifully choreographed.\"\n",
        "\n",
        "sentiment_predict(test_input)"
      ],
      "metadata": {
        "colab": {
          "base_uri": "https://localhost:8080/"
        },
        "id": "BCy5Xuvygo3s",
        "outputId": "c280b2c4-3ea6-4c58-96af-f6cc39318209"
      },
      "execution_count": null,
      "outputs": [
        {
          "output_type": "stream",
          "name": "stdout",
          "text": [
            "84.57% 확률로 긍정 리뷰입니다.\n"
          ]
        }
      ]
    },
    {
      "cell_type": "code",
      "source": [
        "#10\n",
        "sentiment_predict('''\n",
        "With the sixth book now out (and one more to go), I feel that I should review \"Harry Potter and the Sorcerer's Stone\". By now, the Harry Potter books have become so well entrenched in our culture that I don't even need to explain the story. But I can say that director Chris Columbus did a great job adapting the book to the silver screen.\n",
        "\n",
        "The cast does very well with the roles: newcomer Daniel Radcliffe plays Harry Potter, making him strong-willed but vulnerable. Rupert Grint and Emma Watson play his friends, the uptight Ron Weasley and the no-nonsense Hermione Granger. The Hogwarts staff is played by a who's-who of British actors: Richard Harris as headmaster Albus Dumbledore, Maggie Smith as anthropomorphic Prof. Minerva McGonagall (and one can detect a hint of Miss Jean Brodie there), Alan Rickman as unctuous Prof. Severus Snape, and Robbie Coltrane as gamekeeper Rubeus Hagrid. Others include Zoe Wanamaker as Quidditch teacher Madame Hooch, Julie Walters as Molly Weasley (Ron's mum), Richard Griffiths as Vernon Dursley (Harry's mean uncle) and even John Cleese as Nearly-Headless-Nick, one of the school ghosts.\n",
        "\n",
        "All in all, this is a movie for the ages. I know that religious fundamentalists will claim that the Harry Potter books are promoting witchcraft, but are we really going to believe those kinds of people, considering that they claimed the same things about \"Bewitched\"? Harry Potter will live forever - something that no Muggle can do.\n",
        "''')"
      ],
      "metadata": {
        "colab": {
          "base_uri": "https://localhost:8080/"
        },
        "id": "krUyThmSgo3t",
        "outputId": "86f5d044-48a2-4f84-c5af-f913738c1cd8"
      },
      "execution_count": null,
      "outputs": [
        {
          "output_type": "stream",
          "name": "stdout",
          "text": [
            "65.35% 확률로 긍정 리뷰입니다.\n"
          ]
        }
      ]
    },
    {
      "cell_type": "markdown",
      "source": [
        "#L2 regularization"
      ],
      "metadata": {
        "id": "dLmsBrqEe8zs"
      }
    },
    {
      "cell_type": "code",
      "source": [
        "embedding_dim = 100\n",
        "hidden_units = 128\n",
        "\n",
        "model = Sequential()\n",
        "model.add(Embedding(vocab_size, embedding_dim))\n",
        "model.add(GRU(hidden_units)) #모델은 다 대 일 구조의 GRU를 사용\n",
        "model.add(Dense(1, activation='sigmoid', kernel_regularizer='l2'))#######\n",
        "\n",
        "es = EarlyStopping(monitor='val_loss', mode='min', verbose=1, patience=4) \n",
        "mc = ModelCheckpoint('GRU_model.h5', monitor='val_acc', mode='max', verbose=1, save_best_only=True) \n",
        "\n",
        "model.compile(optimizer='rmsprop', loss='binary_crossentropy', metrics=['acc'])\n",
        "history = model.fit(X_train, y_train, epochs=15, callbacks=[es, mc], batch_size=64, validation_split=0.2) "
      ],
      "metadata": {
        "colab": {
          "base_uri": "https://localhost:8080/"
        },
        "outputId": "62208f30-ad44-4782-de93-dc8e2a841fa6",
        "id": "mZlpLbvNe8zs"
      },
      "execution_count": null,
      "outputs": [
        {
          "output_type": "stream",
          "name": "stdout",
          "text": [
            "Epoch 1/15\n",
            "313/313 [==============================] - ETA: 0s - loss: 0.4977 - acc: 0.7642\n",
            "Epoch 1: val_acc improved from -inf to 0.82040, saving model to GRU_model.h5\n",
            "313/313 [==============================] - 267s 843ms/step - loss: 0.4977 - acc: 0.7642 - val_loss: 0.4302 - val_acc: 0.8204\n",
            "Epoch 2/15\n",
            "313/313 [==============================] - ETA: 0s - loss: 0.3353 - acc: 0.8702\n",
            "Epoch 2: val_acc improved from 0.82040 to 0.85320, saving model to GRU_model.h5\n",
            "313/313 [==============================] - 262s 837ms/step - loss: 0.3353 - acc: 0.8702 - val_loss: 0.3572 - val_acc: 0.8532\n",
            "Epoch 3/15\n",
            "313/313 [==============================] - ETA: 0s - loss: 0.2762 - acc: 0.8966\n",
            "Epoch 3: val_acc improved from 0.85320 to 0.87380, saving model to GRU_model.h5\n",
            "313/313 [==============================] - 264s 844ms/step - loss: 0.2762 - acc: 0.8966 - val_loss: 0.3350 - val_acc: 0.8738\n",
            "Epoch 4/15\n",
            "313/313 [==============================] - ETA: 0s - loss: 0.2294 - acc: 0.9189\n",
            "Epoch 4: val_acc improved from 0.87380 to 0.89160, saving model to GRU_model.h5\n",
            "313/313 [==============================] - 262s 838ms/step - loss: 0.2294 - acc: 0.9189 - val_loss: 0.2811 - val_acc: 0.8916\n",
            "Epoch 5/15\n",
            "313/313 [==============================] - ETA: 0s - loss: 0.1924 - acc: 0.9317\n",
            "Epoch 5: val_acc improved from 0.89160 to 0.89620, saving model to GRU_model.h5\n",
            "313/313 [==============================] - 262s 837ms/step - loss: 0.1924 - acc: 0.9317 - val_loss: 0.2767 - val_acc: 0.8962\n",
            "Epoch 6/15\n",
            "313/313 [==============================] - ETA: 0s - loss: 0.1604 - acc: 0.9465\n",
            "Epoch 6: val_acc did not improve from 0.89620\n",
            "313/313 [==============================] - 262s 837ms/step - loss: 0.1604 - acc: 0.9465 - val_loss: 0.2769 - val_acc: 0.8930\n",
            "Epoch 7/15\n",
            "313/313 [==============================] - ETA: 0s - loss: 0.1360 - acc: 0.9569\n",
            "Epoch 7: val_acc did not improve from 0.89620\n",
            "313/313 [==============================] - 263s 840ms/step - loss: 0.1360 - acc: 0.9569 - val_loss: 0.3711 - val_acc: 0.8854\n",
            "Epoch 8/15\n",
            "313/313 [==============================] - ETA: 0s - loss: 0.1145 - acc: 0.9651\n",
            "Epoch 8: val_acc did not improve from 0.89620\n",
            "313/313 [==============================] - 264s 844ms/step - loss: 0.1145 - acc: 0.9651 - val_loss: 0.3095 - val_acc: 0.8888\n",
            "Epoch 9/15\n",
            "313/313 [==============================] - ETA: 0s - loss: 0.0993 - acc: 0.9714\n",
            "Epoch 9: val_acc did not improve from 0.89620\n",
            "313/313 [==============================] - 263s 839ms/step - loss: 0.0993 - acc: 0.9714 - val_loss: 0.3689 - val_acc: 0.8908\n",
            "Epoch 9: early stopping\n"
          ]
        }
      ]
    },
    {
      "cell_type": "code",
      "source": [
        "#  훈련 과정에서 검증 데이터의 정확도가 가장 높았을 때 저장된 모델인 'GRU_model.h5'를 로드\n",
        "\n",
        "loaded_model = load_model('GRU_model.h5')\n",
        "print(\"\\n 테스트 정확도: %.4f\" % (loaded_model.evaluate(X_test, y_test)[1]))"
      ],
      "metadata": {
        "colab": {
          "base_uri": "https://localhost:8080/"
        },
        "id": "n1cZY8g-e8zt",
        "outputId": "49a21007-f84e-476d-c66b-42df804d19da"
      },
      "execution_count": null,
      "outputs": [
        {
          "output_type": "stream",
          "name": "stdout",
          "text": [
            "782/782 [==============================] - 77s 98ms/step - loss: 0.2982 - acc: 0.8862\n",
            "\n",
            " 테스트 정확도: 0.8862\n"
          ]
        }
      ]
    },
    {
      "cell_type": "code",
      "source": [
        "# 블랙팬서의 1점 리뷰 부정으로 예측?\n",
        "\n",
        "test_input = \"This movie was just way too overrated. The fighting was not professional and in slow motion. I was expecting more from a 200 million budget movie. The little sister of T.Challa was just trying too hard to be funny. The story was really dumb as well. Don't watch this movie if you are going because others say its great unless you are a Black Panther fan or Marvels fan.\"\n",
        "\n",
        "sentiment_predict(test_input)"
      ],
      "metadata": {
        "colab": {
          "base_uri": "https://localhost:8080/"
        },
        "id": "z6kNg89he8zt",
        "outputId": "9ae545b5-5a19-45fb-c005-c2ed770a184a"
      },
      "execution_count": null,
      "outputs": [
        {
          "output_type": "stream",
          "name": "stdout",
          "text": [
            "96.59% 확률로 부정 리뷰입니다.\n"
          ]
        }
      ]
    },
    {
      "cell_type": "code",
      "source": [
        "#어벤져스의 10점 리뷰 긍정?\n",
        "\n",
        "test_input = \" I was lucky enough to be included in the group to see the advanced screening in Melbourne on the 15th of April, 2012. And, firstly, I need to say a big thank-you to Disney and Marvel Studios. \\\n",
        "Now, the film... how can I even begin to explain how I feel about this film? It is, as the title of this review says a 'comic book triumph'. I went into the film with very, very high expectations and I was not disappointed. \\\n",
        "Seeing Joss Whedon's direction and envisioning of the film come to life on the big screen is perfect. The script is amazingly detailed and laced with sharp wit a humor. The special effects are literally mind-blowing and the action scenes are both hard-hitting and beautifully choreographed.\"\n",
        "\n",
        "sentiment_predict(test_input)"
      ],
      "metadata": {
        "colab": {
          "base_uri": "https://localhost:8080/"
        },
        "id": "LOypN1Kxe8zv",
        "outputId": "b342056d-55aa-43d0-9d1d-487275a268e3"
      },
      "execution_count": null,
      "outputs": [
        {
          "output_type": "stream",
          "name": "stdout",
          "text": [
            "99.47% 확률로 긍정 리뷰입니다.\n"
          ]
        }
      ]
    },
    {
      "cell_type": "code",
      "source": [
        "#10\n",
        "sentiment_predict('''\n",
        "With the sixth book now out (and one more to go), I feel that I should review \"Harry Potter and the Sorcerer's Stone\". By now, the Harry Potter books have become so well entrenched in our culture that I don't even need to explain the story. But I can say that director Chris Columbus did a great job adapting the book to the silver screen.\n",
        "\n",
        "The cast does very well with the roles: newcomer Daniel Radcliffe plays Harry Potter, making him strong-willed but vulnerable. Rupert Grint and Emma Watson play his friends, the uptight Ron Weasley and the no-nonsense Hermione Granger. The Hogwarts staff is played by a who's-who of British actors: Richard Harris as headmaster Albus Dumbledore, Maggie Smith as anthropomorphic Prof. Minerva McGonagall (and one can detect a hint of Miss Jean Brodie there), Alan Rickman as unctuous Prof. Severus Snape, and Robbie Coltrane as gamekeeper Rubeus Hagrid. Others include Zoe Wanamaker as Quidditch teacher Madame Hooch, Julie Walters as Molly Weasley (Ron's mum), Richard Griffiths as Vernon Dursley (Harry's mean uncle) and even John Cleese as Nearly-Headless-Nick, one of the school ghosts.\n",
        "\n",
        "All in all, this is a movie for the ages. I know that religious fundamentalists will claim that the Harry Potter books are promoting witchcraft, but are we really going to believe those kinds of people, considering that they claimed the same things about \"Bewitched\"? Harry Potter will live forever - something that no Muggle can do.\n",
        "''')"
      ],
      "metadata": {
        "colab": {
          "base_uri": "https://localhost:8080/"
        },
        "id": "ysgrHaUEe8zv",
        "outputId": "5a9c16e4-843a-432f-8762-994a908dedc0"
      },
      "execution_count": null,
      "outputs": [
        {
          "output_type": "stream",
          "name": "stdout",
          "text": [
            "89.80% 확률로 긍정 리뷰입니다.\n"
          ]
        }
      ]
    },
    {
      "cell_type": "markdown",
      "source": [
        "굳굳!"
      ],
      "metadata": {
        "id": "Wn5aCqNX7Va0"
      }
    },
    {
      "cell_type": "markdown",
      "source": [
        "#dropout"
      ],
      "metadata": {
        "id": "OWQJWyqjg6yZ"
      }
    },
    {
      "cell_type": "markdown",
      "source": [
        "## 0.2"
      ],
      "metadata": {
        "id": "5FtBzGQ-hhb3"
      }
    },
    {
      "cell_type": "code",
      "source": [
        "embedding_dim = 100\n",
        "hidden_units = 128\n",
        "\n",
        "from keras.layers import Dropout\n",
        "model = Sequential()\n",
        "model.add(Embedding(vocab_size, embedding_dim))\n",
        "model.add(Dropout(0.2)) \n",
        "model.add(GRU(hidden_units)) #모델은 다 대 일 구조의 GRU를 사용\n",
        "model.add(Dropout(0.2)) \n",
        "model.add(Dense(1, activation='sigmoid'))\n",
        "model.add(Dropout(0.2)) \n",
        "\n",
        "es = EarlyStopping(monitor='val_loss', mode='min', verbose=1, patience=4) \n",
        "mc = ModelCheckpoint('GRU_model.h5', monitor='val_acc', mode='max', verbose=1, save_best_only=True) \n",
        "\n",
        "model.compile(optimizer='rmsprop', loss='binary_crossentropy', metrics=['acc'])\n",
        "history = model.fit(X_train, y_train, epochs=15, callbacks=[es, mc], batch_size=64, validation_split=0.2) "
      ],
      "metadata": {
        "colab": {
          "base_uri": "https://localhost:8080/"
        },
        "outputId": "e086c640-37eb-439d-8376-14bed54fdfc6",
        "id": "_F8CZEhQg6yZ"
      },
      "execution_count": null,
      "outputs": [
        {
          "output_type": "stream",
          "name": "stdout",
          "text": [
            "Epoch 1/15\n",
            "313/313 [==============================] - ETA: 0s - loss: 2.1651 - acc: 0.6697\n",
            "Epoch 1: val_acc improved from -inf to 0.76620, saving model to GRU_model.h5\n",
            "313/313 [==============================] - 277s 879ms/step - loss: 2.1651 - acc: 0.6697 - val_loss: 0.4988 - val_acc: 0.7662\n",
            "Epoch 2/15\n",
            "313/313 [==============================] - ETA: 0s - loss: 1.9210 - acc: 0.7661\n",
            "Epoch 2: val_acc improved from 0.76620 to 0.81320, saving model to GRU_model.h5\n",
            "313/313 [==============================] - 276s 882ms/step - loss: 1.9210 - acc: 0.7661 - val_loss: 0.4387 - val_acc: 0.8132\n",
            "Epoch 3/15\n",
            "313/313 [==============================] - ETA: 0s - loss: 1.7717 - acc: 0.8025\n",
            "Epoch 3: val_acc improved from 0.81320 to 0.83820, saving model to GRU_model.h5\n",
            "313/313 [==============================] - 273s 871ms/step - loss: 1.7717 - acc: 0.8025 - val_loss: 0.3867 - val_acc: 0.8382\n",
            "Epoch 4/15\n",
            "313/313 [==============================] - ETA: 0s - loss: 1.7635 - acc: 0.8247\n",
            "Epoch 4: val_acc improved from 0.83820 to 0.84660, saving model to GRU_model.h5\n",
            "313/313 [==============================] - 274s 875ms/step - loss: 1.7635 - acc: 0.8247 - val_loss: 0.3417 - val_acc: 0.8466\n",
            "Epoch 5/15\n",
            "313/313 [==============================] - ETA: 0s - loss: 1.7270 - acc: 0.8411\n",
            "Epoch 5: val_acc improved from 0.84660 to 0.89900, saving model to GRU_model.h5\n",
            "313/313 [==============================] - 275s 878ms/step - loss: 1.7270 - acc: 0.8411 - val_loss: 0.2851 - val_acc: 0.8990\n",
            "Epoch 6/15\n",
            "313/313 [==============================] - ETA: 0s - loss: 1.6838 - acc: 0.8501\n",
            "Epoch 6: val_acc did not improve from 0.89900\n",
            "313/313 [==============================] - 273s 872ms/step - loss: 1.6838 - acc: 0.8501 - val_loss: 0.2795 - val_acc: 0.8956\n",
            "Epoch 7/15\n",
            "313/313 [==============================] - ETA: 0s - loss: 1.7155 - acc: 0.8522\n",
            "Epoch 7: val_acc improved from 0.89900 to 0.90260, saving model to GRU_model.h5\n",
            "313/313 [==============================] - 274s 875ms/step - loss: 1.7155 - acc: 0.8522 - val_loss: 0.2619 - val_acc: 0.9026\n",
            "Epoch 8/15\n",
            "313/313 [==============================] - ETA: 0s - loss: 1.6365 - acc: 0.8667\n",
            "Epoch 8: val_acc did not improve from 0.90260\n",
            "313/313 [==============================] - 275s 879ms/step - loss: 1.6365 - acc: 0.8667 - val_loss: 0.3150 - val_acc: 0.8762\n",
            "Epoch 9/15\n",
            "313/313 [==============================] - ETA: 0s - loss: 1.6741 - acc: 0.8672\n",
            "Epoch 9: val_acc did not improve from 0.90260\n",
            "313/313 [==============================] - 273s 873ms/step - loss: 1.6741 - acc: 0.8672 - val_loss: 0.2771 - val_acc: 0.8954\n",
            "Epoch 10/15\n",
            "313/313 [==============================] - ETA: 0s - loss: 1.6421 - acc: 0.8744\n",
            "Epoch 10: val_acc improved from 0.90260 to 0.90280, saving model to GRU_model.h5\n",
            "313/313 [==============================] - 274s 876ms/step - loss: 1.6421 - acc: 0.8744 - val_loss: 0.2626 - val_acc: 0.9028\n",
            "Epoch 11/15\n",
            "313/313 [==============================] - ETA: 0s - loss: 1.6358 - acc: 0.8764\n",
            "Epoch 11: val_acc did not improve from 0.90280\n",
            "313/313 [==============================] - 274s 877ms/step - loss: 1.6358 - acc: 0.8764 - val_loss: 0.2726 - val_acc: 0.8956\n",
            "Epoch 11: early stopping\n"
          ]
        }
      ]
    },
    {
      "cell_type": "code",
      "source": [
        "#  훈련 과정에서 검증 데이터의 정확도가 가장 높았을 때 저장된 모델인 'GRU_model.h5'를 로드\n",
        "\n",
        "loaded_model = load_model('GRU_model.h5')\n",
        "print(\"\\n 테스트 정확도: %.4f\" % (loaded_model.evaluate(X_test, y_test)[1]))"
      ],
      "metadata": {
        "colab": {
          "base_uri": "https://localhost:8080/"
        },
        "id": "2eB6u1YBg6ya",
        "outputId": "f73153d5-bf5e-4711-d17d-afa708277c6c"
      },
      "execution_count": null,
      "outputs": [
        {
          "output_type": "stream",
          "name": "stdout",
          "text": [
            "782/782 [==============================] - 80s 101ms/step - loss: 0.2795 - acc: 0.8912\n",
            "\n",
            " 테스트 정확도: 0.8912\n"
          ]
        }
      ]
    },
    {
      "cell_type": "code",
      "source": [
        "# 블랙팬서의 1점 리뷰 부정으로 예측?\n",
        "\n",
        "test_input = \"This movie was just way too overrated. The fighting was not professional and in slow motion. I was expecting more from a 200 million budget movie. The little sister of T.Challa was just trying too hard to be funny. The story was really dumb as well. Don't watch this movie if you are going because others say its great unless you are a Black Panther fan or Marvels fan.\"\n",
        "\n",
        "sentiment_predict(test_input)"
      ],
      "metadata": {
        "colab": {
          "base_uri": "https://localhost:8080/"
        },
        "id": "iDl9U71Jg6ya",
        "outputId": "96b174dd-d626-4496-9d9b-693d93769497"
      },
      "execution_count": null,
      "outputs": [
        {
          "output_type": "stream",
          "name": "stdout",
          "text": [
            "99.56% 확률로 부정 리뷰입니다.\n"
          ]
        }
      ]
    },
    {
      "cell_type": "code",
      "source": [
        "#어벤져스의 10점 리뷰 긍정?\n",
        "\n",
        "test_input = \" I was lucky enough to be included in the group to see the advanced screening in Melbourne on the 15th of April, 2012. And, firstly, I need to say a big thank-you to Disney and Marvel Studios. \\\n",
        "Now, the film... how can I even begin to explain how I feel about this film? It is, as the title of this review says a 'comic book triumph'. I went into the film with very, very high expectations and I was not disappointed. \\\n",
        "Seeing Joss Whedon's direction and envisioning of the film come to life on the big screen is perfect. The script is amazingly detailed and laced with sharp wit a humor. The special effects are literally mind-blowing and the action scenes are both hard-hitting and beautifully choreographed.\"\n",
        "\n",
        "sentiment_predict(test_input)"
      ],
      "metadata": {
        "colab": {
          "base_uri": "https://localhost:8080/"
        },
        "id": "CxvyQef0g6ya",
        "outputId": "85f80947-f893-4b05-9ca9-f24be6c8ac16"
      },
      "execution_count": null,
      "outputs": [
        {
          "output_type": "stream",
          "name": "stdout",
          "text": [
            "94.88% 확률로 긍정 리뷰입니다.\n"
          ]
        }
      ]
    },
    {
      "cell_type": "code",
      "source": [
        "#10\n",
        "sentiment_predict('''\n",
        "With the sixth book now out (and one more to go), I feel that I should review \"Harry Potter and the Sorcerer's Stone\". By now, the Harry Potter books have become so well entrenched in our culture that I don't even need to explain the story. But I can say that director Chris Columbus did a great job adapting the book to the silver screen.\n",
        "\n",
        "The cast does very well with the roles: newcomer Daniel Radcliffe plays Harry Potter, making him strong-willed but vulnerable. Rupert Grint and Emma Watson play his friends, the uptight Ron Weasley and the no-nonsense Hermione Granger. The Hogwarts staff is played by a who's-who of British actors: Richard Harris as headmaster Albus Dumbledore, Maggie Smith as anthropomorphic Prof. Minerva McGonagall (and one can detect a hint of Miss Jean Brodie there), Alan Rickman as unctuous Prof. Severus Snape, and Robbie Coltrane as gamekeeper Rubeus Hagrid. Others include Zoe Wanamaker as Quidditch teacher Madame Hooch, Julie Walters as Molly Weasley (Ron's mum), Richard Griffiths as Vernon Dursley (Harry's mean uncle) and even John Cleese as Nearly-Headless-Nick, one of the school ghosts.\n",
        "\n",
        "All in all, this is a movie for the ages. I know that religious fundamentalists will claim that the Harry Potter books are promoting witchcraft, but are we really going to believe those kinds of people, considering that they claimed the same things about \"Bewitched\"? Harry Potter will live forever - something that no Muggle can do.\n",
        "''')"
      ],
      "metadata": {
        "colab": {
          "base_uri": "https://localhost:8080/"
        },
        "id": "WKbgBLd0g6ya",
        "outputId": "aa9b8c98-eed2-45e0-afbb-a6761af10ba5"
      },
      "execution_count": null,
      "outputs": [
        {
          "output_type": "stream",
          "name": "stdout",
          "text": [
            "88.50% 확률로 긍정 리뷰입니다.\n"
          ]
        }
      ]
    },
    {
      "cell_type": "markdown",
      "source": [
        "good!!!!!"
      ],
      "metadata": {
        "id": "3E0E9Vkw7NbJ"
      }
    },
    {
      "cell_type": "markdown",
      "source": [
        "## 0.5"
      ],
      "metadata": {
        "id": "-ZjvP1vQhkJR"
      }
    },
    {
      "cell_type": "code",
      "source": [
        "embedding_dim = 100\n",
        "hidden_units = 128\n",
        "\n",
        "from keras.layers import Dropout\n",
        "model = Sequential()\n",
        "model.add(Embedding(vocab_size, embedding_dim))\n",
        "model.add(Dropout(0.5)) \n",
        "model.add(GRU(hidden_units)) #모델은 다 대 일 구조의 GRU를 사용\n",
        "model.add(Dropout(0.5)) \n",
        "model.add(Dense(1, activation='sigmoid'))\n",
        "model.add(Dropout(0.5)) \n",
        "\n",
        "es = EarlyStopping(monitor='val_loss', mode='min', verbose=1, patience=4) \n",
        "mc = ModelCheckpoint('GRU_model.h5', monitor='val_acc', mode='max', verbose=1, save_best_only=True) \n",
        "\n",
        "model.compile(optimizer='rmsprop', loss='binary_crossentropy', metrics=['acc'])\n",
        "history = model.fit(X_train, y_train, epochs=15, callbacks=[es, mc], batch_size=64, validation_split=0.2) "
      ],
      "metadata": {
        "colab": {
          "base_uri": "https://localhost:8080/"
        },
        "outputId": "29c8edec-39d0-4942-e831-04905bfbc63e",
        "id": "7ZZCG02WhkJR"
      },
      "execution_count": null,
      "outputs": [
        {
          "output_type": "stream",
          "name": "stdout",
          "text": [
            "Epoch 1/15\n",
            "313/313 [==============================] - ETA: 0s - loss: 4.2160 - acc: 0.5847\n",
            "Epoch 1: val_acc improved from -inf to 0.62620, saving model to GRU_model.h5\n",
            "313/313 [==============================] - 277s 875ms/step - loss: 4.2160 - acc: 0.5847 - val_loss: 0.6186 - val_acc: 0.6262\n",
            "Epoch 2/15\n",
            "313/313 [==============================] - ETA: 0s - loss: 4.2123 - acc: 0.6500\n",
            "Epoch 2: val_acc improved from 0.62620 to 0.65380, saving model to GRU_model.h5\n",
            "313/313 [==============================] - 276s 883ms/step - loss: 4.2123 - acc: 0.6500 - val_loss: 0.9106 - val_acc: 0.6538\n",
            "Epoch 3/15\n",
            "313/313 [==============================] - ETA: 0s - loss: 4.1187 - acc: 0.6662\n",
            "Epoch 3: val_acc did not improve from 0.65380\n",
            "313/313 [==============================] - 275s 878ms/step - loss: 4.1187 - acc: 0.6662 - val_loss: 1.0256 - val_acc: 0.5938\n",
            "Epoch 4/15\n",
            "313/313 [==============================] - ETA: 0s - loss: 4.2288 - acc: 0.6612\n",
            "Epoch 4: val_acc improved from 0.65380 to 0.69420, saving model to GRU_model.h5\n",
            "313/313 [==============================] - 275s 877ms/step - loss: 4.2288 - acc: 0.6612 - val_loss: 0.5394 - val_acc: 0.6942\n",
            "Epoch 5/15\n",
            "313/313 [==============================] - ETA: 0s - loss: 4.1334 - acc: 0.6720\n",
            "Epoch 5: val_acc improved from 0.69420 to 0.69940, saving model to GRU_model.h5\n",
            "313/313 [==============================] - 274s 875ms/step - loss: 4.1334 - acc: 0.6720 - val_loss: 0.5837 - val_acc: 0.6994\n",
            "Epoch 6/15\n",
            "313/313 [==============================] - ETA: 0s - loss: 4.0443 - acc: 0.6856\n",
            "Epoch 6: val_acc improved from 0.69940 to 0.79160, saving model to GRU_model.h5\n",
            "313/313 [==============================] - 276s 882ms/step - loss: 4.0443 - acc: 0.6856 - val_loss: 0.4532 - val_acc: 0.7916\n",
            "Epoch 7/15\n",
            "313/313 [==============================] - ETA: 0s - loss: 4.1167 - acc: 0.6859\n",
            "Epoch 7: val_acc did not improve from 0.79160\n",
            "313/313 [==============================] - 273s 872ms/step - loss: 4.1167 - acc: 0.6859 - val_loss: 0.5502 - val_acc: 0.6770\n",
            "Epoch 8/15\n",
            "313/313 [==============================] - ETA: 0s - loss: 4.0162 - acc: 0.6986\n",
            "Epoch 8: val_acc did not improve from 0.79160\n",
            "313/313 [==============================] - 273s 872ms/step - loss: 4.0162 - acc: 0.6986 - val_loss: 0.6098 - val_acc: 0.6110\n",
            "Epoch 9/15\n",
            "313/313 [==============================] - ETA: 0s - loss: 4.0147 - acc: 0.6906\n",
            "Epoch 9: val_acc improved from 0.79160 to 0.79540, saving model to GRU_model.h5\n",
            "313/313 [==============================] - 274s 875ms/step - loss: 4.0147 - acc: 0.6906 - val_loss: 0.4364 - val_acc: 0.7954\n",
            "Epoch 10/15\n",
            "313/313 [==============================] - ETA: 0s - loss: 4.0548 - acc: 0.6974\n",
            "Epoch 10: val_acc did not improve from 0.79540\n",
            "313/313 [==============================] - 275s 877ms/step - loss: 4.0548 - acc: 0.6974 - val_loss: 0.5234 - val_acc: 0.6844\n",
            "Epoch 11/15\n",
            "313/313 [==============================] - ETA: 0s - loss: 4.0030 - acc: 0.7052\n",
            "Epoch 11: val_acc did not improve from 0.79540\n",
            "313/313 [==============================] - 274s 877ms/step - loss: 4.0030 - acc: 0.7052 - val_loss: 0.5049 - val_acc: 0.7220\n",
            "Epoch 12/15\n",
            "313/313 [==============================] - ETA: 0s - loss: 4.0147 - acc: 0.7003\n",
            "Epoch 12: val_acc improved from 0.79540 to 0.85340, saving model to GRU_model.h5\n",
            "313/313 [==============================] - 275s 878ms/step - loss: 4.0147 - acc: 0.7003 - val_loss: 0.3736 - val_acc: 0.8534\n",
            "Epoch 13/15\n",
            "313/313 [==============================] - ETA: 0s - loss: 3.9784 - acc: 0.7120\n",
            "Epoch 13: val_acc did not improve from 0.85340\n",
            "313/313 [==============================] - 275s 879ms/step - loss: 3.9784 - acc: 0.7120 - val_loss: 0.3840 - val_acc: 0.8382\n",
            "Epoch 14/15\n",
            "313/313 [==============================] - ETA: 0s - loss: 3.9533 - acc: 0.7147\n",
            "Epoch 14: val_acc improved from 0.85340 to 0.88280, saving model to GRU_model.h5\n",
            "313/313 [==============================] - 275s 879ms/step - loss: 3.9533 - acc: 0.7147 - val_loss: 0.3166 - val_acc: 0.8828\n",
            "Epoch 15/15\n",
            "313/313 [==============================] - ETA: 0s - loss: 4.0491 - acc: 0.7089\n",
            "Epoch 15: val_acc did not improve from 0.88280\n",
            "313/313 [==============================] - 278s 887ms/step - loss: 4.0491 - acc: 0.7089 - val_loss: 0.5215 - val_acc: 0.7396\n"
          ]
        }
      ]
    },
    {
      "cell_type": "code",
      "source": [
        "#  훈련 과정에서 검증 데이터의 정확도가 가장 높았을 때 저장된 모델인 'GRU_model.h5'를 로드\n",
        "\n",
        "loaded_model = load_model('GRU_model.h5')\n",
        "print(\"\\n 테스트 정확도: %.4f\" % (loaded_model.evaluate(X_test, y_test)[1]))"
      ],
      "metadata": {
        "colab": {
          "base_uri": "https://localhost:8080/"
        },
        "id": "u43Wi4aNhkJS",
        "outputId": "83f1b7b6-df3c-4361-8dd2-d8e984911e54"
      },
      "execution_count": null,
      "outputs": [
        {
          "output_type": "stream",
          "name": "stdout",
          "text": [
            "782/782 [==============================] - 76s 97ms/step - loss: 0.3187 - acc: 0.8781\n",
            "\n",
            " 테스트 정확도: 0.8781\n"
          ]
        }
      ]
    },
    {
      "cell_type": "code",
      "source": [
        "# 블랙팬서의 1점 리뷰 부정으로 예측?\n",
        "\n",
        "test_input = \"This movie was just way too overrated. The fighting was not professional and in slow motion. I was expecting more from a 200 million budget movie. The little sister of T.Challa was just trying too hard to be funny. The story was really dumb as well. Don't watch this movie if you are going because others say its great unless you are a Black Panther fan or Marvels fan.\"\n",
        "\n",
        "sentiment_predict(test_input)"
      ],
      "metadata": {
        "colab": {
          "base_uri": "https://localhost:8080/"
        },
        "id": "LLvhQAtOhkJS",
        "outputId": "c4476b2f-efcc-4c21-fcce-bd7d04e4abbf"
      },
      "execution_count": null,
      "outputs": [
        {
          "output_type": "stream",
          "name": "stdout",
          "text": [
            "82.85% 확률로 부정 리뷰입니다.\n"
          ]
        }
      ]
    },
    {
      "cell_type": "code",
      "source": [
        "#어벤져스의 10점 리뷰 긍정?\n",
        "\n",
        "test_input = \" I was lucky enough to be included in the group to see the advanced screening in Melbourne on the 15th of April, 2012. And, firstly, I need to say a big thank-you to Disney and Marvel Studios. \\\n",
        "Now, the film... how can I even begin to explain how I feel about this film? It is, as the title of this review says a 'comic book triumph'. I went into the film with very, very high expectations and I was not disappointed. \\\n",
        "Seeing Joss Whedon's direction and envisioning of the film come to life on the big screen is perfect. The script is amazingly detailed and laced with sharp wit a humor. The special effects are literally mind-blowing and the action scenes are both hard-hitting and beautifully choreographed.\"\n",
        "\n",
        "sentiment_predict(test_input)"
      ],
      "metadata": {
        "colab": {
          "base_uri": "https://localhost:8080/"
        },
        "id": "nHRO2uFxhkJT",
        "outputId": "97314fff-f8a0-45fd-c982-99eda8807e99"
      },
      "execution_count": null,
      "outputs": [
        {
          "output_type": "stream",
          "name": "stdout",
          "text": [
            "79.60% 확률로 긍정 리뷰입니다.\n"
          ]
        }
      ]
    },
    {
      "cell_type": "code",
      "source": [
        "#10\n",
        "sentiment_predict('''\n",
        "With the sixth book now out (and one more to go), I feel that I should review \"Harry Potter and the Sorcerer's Stone\". By now, the Harry Potter books have become so well entrenched in our culture that I don't even need to explain the story. But I can say that director Chris Columbus did a great job adapting the book to the silver screen.\n",
        "\n",
        "The cast does very well with the roles: newcomer Daniel Radcliffe plays Harry Potter, making him strong-willed but vulnerable. Rupert Grint and Emma Watson play his friends, the uptight Ron Weasley and the no-nonsense Hermione Granger. The Hogwarts staff is played by a who's-who of British actors: Richard Harris as headmaster Albus Dumbledore, Maggie Smith as anthropomorphic Prof. Minerva McGonagall (and one can detect a hint of Miss Jean Brodie there), Alan Rickman as unctuous Prof. Severus Snape, and Robbie Coltrane as gamekeeper Rubeus Hagrid. Others include Zoe Wanamaker as Quidditch teacher Madame Hooch, Julie Walters as Molly Weasley (Ron's mum), Richard Griffiths as Vernon Dursley (Harry's mean uncle) and even John Cleese as Nearly-Headless-Nick, one of the school ghosts.\n",
        "\n",
        "All in all, this is a movie for the ages. I know that religious fundamentalists will claim that the Harry Potter books are promoting witchcraft, but are we really going to believe those kinds of people, considering that they claimed the same things about \"Bewitched\"? Harry Potter will live forever - something that no Muggle can do.\n",
        "''')"
      ],
      "metadata": {
        "colab": {
          "base_uri": "https://localhost:8080/"
        },
        "id": "3X8OayIbhkJT",
        "outputId": "8f382026-5d67-4683-84ad-f3b67515bfc6"
      },
      "execution_count": null,
      "outputs": [
        {
          "output_type": "stream",
          "name": "stdout",
          "text": [
            "66.52% 확률로 긍정 리뷰입니다.\n"
          ]
        }
      ]
    },
    {
      "cell_type": "markdown",
      "source": [
        "많이이 드랍아웃하니까 오히려 안 좋네;;;"
      ],
      "metadata": {
        "id": "1fGW83Ni7PQj"
      }
    },
    {
      "cell_type": "code",
      "source": [
        ""
      ],
      "metadata": {
        "id": "67IriW2fQ6rT"
      },
      "execution_count": null,
      "outputs": []
    }
  ]
}